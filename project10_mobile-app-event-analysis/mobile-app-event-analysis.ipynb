{
 "cells": [
  {
   "cell_type": "markdown",
   "metadata": {},
   "source": [
    "# Анализ поведения пользователей мобильного приложения. <br> Анализ A/A/B-теста."
   ]
  },
  {
   "cell_type": "markdown",
   "metadata": {},
   "source": [
    "## Описание проекта\n",
    "\n",
    "Вы работаете в стартапе, который продаёт продукты питания. Нужно разобраться, как ведут себя пользователи вашего мобильного приложения.<br>\n",
    "Изучите воронку продаж. Узнайте, как пользователи доходят до покупки. Сколько пользователей доходит до покупки, а сколько — «застревает» на предыдущих шагах? На каких именно?\n",
    "\n",
    "После этого исследуйте результаты A/A/B-эксперимента. Дизайнеры захотели поменять шрифты во всём приложении, а менеджеры испугались, что пользователям будет непривычно. Договорились принять решение по результатам A/A/B-теста. Пользователей разбили на 3 группы: 2 контрольные со старыми шрифтами и одну экспериментальную — с новыми. Выясните, какой шрифт лучше.\n",
    "Создание двух групп A вместо одной имеет определённые преимущества. Если две контрольные группы окажутся равны, вы можете быть уверены в точности проведенного тестирования. Если же между значениями A и A будут существенные различия, это поможет обнаружить факторы, которые привели к искажению результатов. Сравнение контрольных групп также помогает понять, сколько времени и данных потребуется для дальнейших тестов.<br>\n",
    "В случае общей аналитики и A/A/B-эксперимента работайте с одними и теми же данными. В реальных проектах всегда идут эксперименты. Аналитики исследуют качество работы приложения по общим данным, не учитывая принадлежность пользователей к экспериментам.\n",
    "\n",
    "<b>Описание данных:</b><br>\n",
    "Каждая запись в логе — это действие пользователя, или событие.\n",
    "*\tEventName — название события;\n",
    "*\tDeviceIDHash — уникальный идентификатор пользователя;\n",
    "*\tEventTimestamp — время события;\n",
    "*\tExpId — номер эксперимента: 246 и 247 — контрольные группы, а 248 — экспериментальная."
   ]
  },
  {
   "cell_type": "markdown",
   "metadata": {},
   "source": [
    "## Загрузка данных и подготовка их к анализу"
   ]
  },
  {
   "cell_type": "code",
   "execution_count": 1,
   "metadata": {},
   "outputs": [
    {
     "data": {
      "text/html": [
       "<div>\n",
       "<style scoped>\n",
       "    .dataframe tbody tr th:only-of-type {\n",
       "        vertical-align: middle;\n",
       "    }\n",
       "\n",
       "    .dataframe tbody tr th {\n",
       "        vertical-align: top;\n",
       "    }\n",
       "\n",
       "    .dataframe thead th {\n",
       "        text-align: right;\n",
       "    }\n",
       "</style>\n",
       "<table border=\"1\" class=\"dataframe\">\n",
       "  <thead>\n",
       "    <tr style=\"text-align: right;\">\n",
       "      <th></th>\n",
       "      <th>EventName</th>\n",
       "      <th>DeviceIDHash</th>\n",
       "      <th>EventTimestamp</th>\n",
       "      <th>ExpId</th>\n",
       "    </tr>\n",
       "  </thead>\n",
       "  <tbody>\n",
       "    <tr>\n",
       "      <th>0</th>\n",
       "      <td>MainScreenAppear</td>\n",
       "      <td>4575588528974610257</td>\n",
       "      <td>1564029816</td>\n",
       "      <td>246</td>\n",
       "    </tr>\n",
       "    <tr>\n",
       "      <th>1</th>\n",
       "      <td>MainScreenAppear</td>\n",
       "      <td>7416695313311560658</td>\n",
       "      <td>1564053102</td>\n",
       "      <td>246</td>\n",
       "    </tr>\n",
       "    <tr>\n",
       "      <th>2</th>\n",
       "      <td>PaymentScreenSuccessful</td>\n",
       "      <td>3518123091307005509</td>\n",
       "      <td>1564054127</td>\n",
       "      <td>248</td>\n",
       "    </tr>\n",
       "    <tr>\n",
       "      <th>3</th>\n",
       "      <td>CartScreenAppear</td>\n",
       "      <td>3518123091307005509</td>\n",
       "      <td>1564054127</td>\n",
       "      <td>248</td>\n",
       "    </tr>\n",
       "    <tr>\n",
       "      <th>4</th>\n",
       "      <td>PaymentScreenSuccessful</td>\n",
       "      <td>6217807653094995999</td>\n",
       "      <td>1564055322</td>\n",
       "      <td>248</td>\n",
       "    </tr>\n",
       "  </tbody>\n",
       "</table>\n",
       "</div>"
      ],
      "text/plain": [
       "                 EventName         DeviceIDHash  EventTimestamp  ExpId\n",
       "0         MainScreenAppear  4575588528974610257      1564029816    246\n",
       "1         MainScreenAppear  7416695313311560658      1564053102    246\n",
       "2  PaymentScreenSuccessful  3518123091307005509      1564054127    248\n",
       "3         CartScreenAppear  3518123091307005509      1564054127    248\n",
       "4  PaymentScreenSuccessful  6217807653094995999      1564055322    248"
      ]
     },
     "metadata": {},
     "output_type": "display_data"
    },
    {
     "name": "stdout",
     "output_type": "stream",
     "text": [
      "Общая информация:\n",
      "<class 'pandas.core.frame.DataFrame'>\n",
      "RangeIndex: 244126 entries, 0 to 244125\n",
      "Data columns (total 4 columns):\n",
      " #   Column          Non-Null Count   Dtype \n",
      "---  ------          --------------   ----- \n",
      " 0   EventName       244126 non-null  object\n",
      " 1   DeviceIDHash    244126 non-null  int64 \n",
      " 2   EventTimestamp  244126 non-null  int64 \n",
      " 3   ExpId           244126 non-null  int64 \n",
      "dtypes: int64(3), object(1)\n",
      "memory usage: 7.5+ MB\n",
      "\n",
      "Количество пропуков:\n",
      "EventName         0.0\n",
      "DeviceIDHash      0.0\n",
      "EventTimestamp    0.0\n",
      "ExpId             0.0\n",
      "dtype: float64\n",
      "\n",
      "Количество полных дубликатов: 413\n",
      "\n"
     ]
    }
   ],
   "source": [
    "# Импорт библиотек\n",
    "import pandas as pd\n",
    "import matplotlib.pyplot as plt\n",
    "import seaborn as sns\n",
    "import plotly.graph_objects as go\n",
    "from statsmodels.stats.proportion import proportions_ztest\n",
    "import math as mth\n",
    "from scipy import stats as st\n",
    "\n",
    "# Загрузка данных\n",
    "data = pd.read_csv('datasets/logs_exp.csv', sep='\\t')\n",
    "\n",
    "#Смотрим общую информацию\n",
    "display(data.head())\n",
    "print('Общая информация:')\n",
    "data.info()\n",
    "print()\n",
    "print('Количество пропуков:')\n",
    "print(round((data.isna().mean()*100),2))\n",
    "print()\n",
    "print('Количество полных дубликатов:', data.duplicated().sum())\n",
    "print()"
   ]
  },
  {
   "cell_type": "markdown",
   "metadata": {},
   "source": [
    "Необходимо поменять названия в колонках, изменить формат времени и убрать дубликаты."
   ]
  },
  {
   "cell_type": "code",
   "execution_count": 2,
   "metadata": {},
   "outputs": [
    {
     "data": {
      "text/html": [
       "<div>\n",
       "<style scoped>\n",
       "    .dataframe tbody tr th:only-of-type {\n",
       "        vertical-align: middle;\n",
       "    }\n",
       "\n",
       "    .dataframe tbody tr th {\n",
       "        vertical-align: top;\n",
       "    }\n",
       "\n",
       "    .dataframe thead th {\n",
       "        text-align: right;\n",
       "    }\n",
       "</style>\n",
       "<table border=\"1\" class=\"dataframe\">\n",
       "  <thead>\n",
       "    <tr style=\"text-align: right;\">\n",
       "      <th></th>\n",
       "      <th>eventname</th>\n",
       "      <th>device_id</th>\n",
       "      <th>event_dt</th>\n",
       "      <th>exp_id</th>\n",
       "      <th>dt</th>\n",
       "    </tr>\n",
       "  </thead>\n",
       "  <tbody>\n",
       "    <tr>\n",
       "      <th>0</th>\n",
       "      <td>MainScreenAppear</td>\n",
       "      <td>4575588528974610257</td>\n",
       "      <td>2019-07-25 04:43:36</td>\n",
       "      <td>246</td>\n",
       "      <td>2019-07-25</td>\n",
       "    </tr>\n",
       "    <tr>\n",
       "      <th>1</th>\n",
       "      <td>MainScreenAppear</td>\n",
       "      <td>7416695313311560658</td>\n",
       "      <td>2019-07-25 11:11:42</td>\n",
       "      <td>246</td>\n",
       "      <td>2019-07-25</td>\n",
       "    </tr>\n",
       "    <tr>\n",
       "      <th>2</th>\n",
       "      <td>PaymentScreenSuccessful</td>\n",
       "      <td>3518123091307005509</td>\n",
       "      <td>2019-07-25 11:28:47</td>\n",
       "      <td>248</td>\n",
       "      <td>2019-07-25</td>\n",
       "    </tr>\n",
       "    <tr>\n",
       "      <th>3</th>\n",
       "      <td>CartScreenAppear</td>\n",
       "      <td>3518123091307005509</td>\n",
       "      <td>2019-07-25 11:28:47</td>\n",
       "      <td>248</td>\n",
       "      <td>2019-07-25</td>\n",
       "    </tr>\n",
       "    <tr>\n",
       "      <th>4</th>\n",
       "      <td>PaymentScreenSuccessful</td>\n",
       "      <td>6217807653094995999</td>\n",
       "      <td>2019-07-25 11:48:42</td>\n",
       "      <td>248</td>\n",
       "      <td>2019-07-25</td>\n",
       "    </tr>\n",
       "  </tbody>\n",
       "</table>\n",
       "</div>"
      ],
      "text/plain": [
       "                 eventname            device_id            event_dt  exp_id  \\\n",
       "0         MainScreenAppear  4575588528974610257 2019-07-25 04:43:36     246   \n",
       "1         MainScreenAppear  7416695313311560658 2019-07-25 11:11:42     246   \n",
       "2  PaymentScreenSuccessful  3518123091307005509 2019-07-25 11:28:47     248   \n",
       "3         CartScreenAppear  3518123091307005509 2019-07-25 11:28:47     248   \n",
       "4  PaymentScreenSuccessful  6217807653094995999 2019-07-25 11:48:42     248   \n",
       "\n",
       "           dt  \n",
       "0  2019-07-25  \n",
       "1  2019-07-25  \n",
       "2  2019-07-25  \n",
       "3  2019-07-25  \n",
       "4  2019-07-25  "
      ]
     },
     "execution_count": 2,
     "metadata": {},
     "output_type": "execute_result"
    }
   ],
   "source": [
    "# Убираем полные дубликаты\n",
    "data = data.drop_duplicates()\n",
    "\n",
    "# Меняем названия в колонках\n",
    "data = data.rename(\n",
    "    columns={'EventName':'eventname',\n",
    "             'DeviceIDHash':'device_id',\n",
    "             'EventTimestamp':'event_dt',\n",
    "             'ExpId':'exp_id'\n",
    "            }\n",
    ")\n",
    "# Поменяем формат времени на datetime\n",
    "data['event_dt'] = pd.to_datetime(data['event_dt'] , unit='s')\n",
    "data['dt'] = data['event_dt'].dt.date\n",
    "data.head()"
   ]
  },
  {
   "cell_type": "code",
   "execution_count": 3,
   "metadata": {},
   "outputs": [
    {
     "data": {
      "text/html": [
       "<div>\n",
       "<style scoped>\n",
       "    .dataframe tbody tr th:only-of-type {\n",
       "        vertical-align: middle;\n",
       "    }\n",
       "\n",
       "    .dataframe tbody tr th {\n",
       "        vertical-align: top;\n",
       "    }\n",
       "\n",
       "    .dataframe thead th {\n",
       "        text-align: right;\n",
       "    }\n",
       "</style>\n",
       "<table border=\"1\" class=\"dataframe\">\n",
       "  <thead>\n",
       "    <tr style=\"text-align: right;\">\n",
       "      <th></th>\n",
       "      <th>exp_id</th>\n",
       "      <th>pct</th>\n",
       "    </tr>\n",
       "  </thead>\n",
       "  <tbody>\n",
       "    <tr>\n",
       "      <th>246</th>\n",
       "      <td>80181</td>\n",
       "      <td>33.0</td>\n",
       "    </tr>\n",
       "    <tr>\n",
       "      <th>247</th>\n",
       "      <td>77950</td>\n",
       "      <td>32.0</td>\n",
       "    </tr>\n",
       "    <tr>\n",
       "      <th>248</th>\n",
       "      <td>85582</td>\n",
       "      <td>35.0</td>\n",
       "    </tr>\n",
       "  </tbody>\n",
       "</table>\n",
       "</div>"
      ],
      "text/plain": [
       "     exp_id   pct\n",
       "246   80181  33.0\n",
       "247   77950  32.0\n",
       "248   85582  35.0"
      ]
     },
     "execution_count": 3,
     "metadata": {},
     "output_type": "execute_result"
    }
   ],
   "source": [
    "# Посмотрим на распределение групп теста\n",
    "group = data['exp_id'].value_counts().sort_index(ascending=True).to_frame()\n",
    "group['pct'] = round(group['exp_id']/group['exp_id'].sum()*100)\n",
    "group"
   ]
  },
  {
   "cell_type": "code",
   "execution_count": 4,
   "metadata": {},
   "outputs": [
    {
     "data": {
      "text/html": [
       "<div>\n",
       "<style scoped>\n",
       "    .dataframe tbody tr th:only-of-type {\n",
       "        vertical-align: middle;\n",
       "    }\n",
       "\n",
       "    .dataframe tbody tr th {\n",
       "        vertical-align: top;\n",
       "    }\n",
       "\n",
       "    .dataframe thead th {\n",
       "        text-align: right;\n",
       "    }\n",
       "</style>\n",
       "<table border=\"1\" class=\"dataframe\">\n",
       "  <thead>\n",
       "    <tr style=\"text-align: right;\">\n",
       "      <th></th>\n",
       "      <th>groops_count</th>\n",
       "      <th>groop_number</th>\n",
       "    </tr>\n",
       "    <tr>\n",
       "      <th>device_id</th>\n",
       "      <th></th>\n",
       "      <th></th>\n",
       "    </tr>\n",
       "  </thead>\n",
       "  <tbody>\n",
       "  </tbody>\n",
       "</table>\n",
       "</div>"
      ],
      "text/plain": [
       "Empty DataFrame\n",
       "Columns: [groops_count, groop_number]\n",
       "Index: []"
      ]
     },
     "metadata": {},
     "output_type": "display_data"
    },
    {
     "name": "stdout",
     "output_type": "stream",
     "text": [
      "Количество пользователей попавших в обе группы: 0\n"
     ]
    }
   ],
   "source": [
    "# Посмотрим на пересечение групп\n",
    "duplicatedusers = data.groupby('device_id').agg({'exp_id':['nunique', 'unique']})\n",
    "duplicatedusers.columns = ['groops_count', 'groop_number']\n",
    "duplicatedusers = duplicatedusers[duplicatedusers['groops_count'] > 1]\n",
    "display(duplicatedusers.head())\n",
    "print('Количество пользователей попавших в обе группы:', len(duplicatedusers))"
   ]
  },
  {
   "cell_type": "markdown",
   "metadata": {},
   "source": [
    "Пересечения пользователей в группах не обнаружено."
   ]
  },
  {
   "cell_type": "markdown",
   "metadata": {},
   "source": [
    "## Проверка данных"
   ]
  },
  {
   "cell_type": "code",
   "execution_count": 5,
   "metadata": {},
   "outputs": [
    {
     "name": "stdout",
     "output_type": "stream",
     "text": [
      "Всего событий в логе: 243713\n",
      "Всего уникальных событий в логе: 5\n",
      "Всего пользователей в логе: 7551\n",
      "Cобытий приходящихся на пользователя: 32\n"
     ]
    }
   ],
   "source": [
    "# Изучим сколько пользователей и событий в логе\n",
    "print('Всего событий в логе:', len(data))\n",
    "print('Всего уникальных событий в логе:', len(data['eventname'].unique()))\n",
    "print('Всего пользователей в логе:', len(data['device_id'].unique()))\n",
    "print('Cобытий приходящихся на пользователя:', round(len(data)/len(data['device_id'].unique())))"
   ]
  },
  {
   "cell_type": "code",
   "execution_count": 6,
   "metadata": {},
   "outputs": [
    {
     "name": "stdout",
     "output_type": "stream",
     "text": [
      "Минимальная дата в логе: 2019-07-25 04:43:36\n",
      "Максимальная дата в логе: 2019-08-07 21:15:17\n"
     ]
    }
   ],
   "source": [
    "# Временной период тестирования\n",
    "print('Минимальная дата в логе:', data['event_dt'].min())\n",
    "print('Максимальная дата в логе:', data['event_dt'].max())"
   ]
  },
  {
   "cell_type": "code",
   "execution_count": 7,
   "metadata": {},
   "outputs": [
    {
     "data": {
      "image/png": "[encoded data removed]",
      "text/plain": [
       "<Figure size 1080x432 with 1 Axes>"
      ]
     },
     "metadata": {
      "needs_background": "light"
     },
     "output_type": "display_data"
    }
   ],
   "source": [
    "# Построим гистограмму по дате и времени\n",
    "data['hours'] = data['event_dt'].dt.round('1h')\n",
    "plt.figure(figsize=(15,6))\n",
    "sns.histplot(data, x='hours')\n",
    "plt.xlabel('Дата')\n",
    "plt.ylabel('Число событий')\n",
    "plt.xticks(rotation=45) \n",
    "plt.show()"
   ]
  },
  {
   "cell_type": "markdown",
   "metadata": {},
   "source": [
    "Период с 25.07.2019 по 01.08.2019 не содержит полные и полезные данные. Ими можно пренебречь.<br>\n",
    "Полными данными мы располагаем за период с 01.08.2019 по 07.08.2019."
   ]
  },
  {
   "cell_type": "code",
   "execution_count": 8,
   "metadata": {},
   "outputs": [
    {
     "name": "stdout",
     "output_type": "stream",
     "text": [
      "Потерянных событий: 2826\n",
      "Доля потерянных событий: 1.16%\n",
      "Потерянных пользователей: 17\n",
      "Доля потерянных пользователей: 0.23%\n"
     ]
    },
    {
     "data": {
      "text/html": [
       "<div>\n",
       "<style scoped>\n",
       "    .dataframe tbody tr th:only-of-type {\n",
       "        vertical-align: middle;\n",
       "    }\n",
       "\n",
       "    .dataframe tbody tr th {\n",
       "        vertical-align: top;\n",
       "    }\n",
       "\n",
       "    .dataframe thead th {\n",
       "        text-align: right;\n",
       "    }\n",
       "</style>\n",
       "<table border=\"1\" class=\"dataframe\">\n",
       "  <thead>\n",
       "    <tr style=\"text-align: right;\">\n",
       "      <th></th>\n",
       "      <th>exp_id</th>\n",
       "      <th>pct</th>\n",
       "    </tr>\n",
       "  </thead>\n",
       "  <tbody>\n",
       "    <tr>\n",
       "      <th>246</th>\n",
       "      <td>79302</td>\n",
       "      <td>33.0</td>\n",
       "    </tr>\n",
       "    <tr>\n",
       "      <th>247</th>\n",
       "      <td>77022</td>\n",
       "      <td>32.0</td>\n",
       "    </tr>\n",
       "    <tr>\n",
       "      <th>248</th>\n",
       "      <td>84563</td>\n",
       "      <td>35.0</td>\n",
       "    </tr>\n",
       "  </tbody>\n",
       "</table>\n",
       "</div>"
      ],
      "text/plain": [
       "     exp_id   pct\n",
       "246   79302  33.0\n",
       "247   77022  32.0\n",
       "248   84563  35.0"
      ]
     },
     "execution_count": 8,
     "metadata": {},
     "output_type": "execute_result"
    }
   ],
   "source": [
    "# Оставим только нужные данные\n",
    "data1 = data[data['event_dt'] >= '2019-08-01']\n",
    "fall_events = len(data)-len(data1)\n",
    "fall_users = len(data['device_id'].unique())-len(data1['device_id'].unique())\n",
    "# Сколько потеряли событий и пользователей\n",
    "print('Потерянных событий:', len(data)-len(data1))\n",
    "print('Доля потерянных событий: {}%'.format(round(fall_events/len(data)*100, 2)))\n",
    "print('Потерянных пользователей:', fall_users)\n",
    "print('Доля потерянных пользователей: {}%'.format(round(fall_users/len(data['device_id'].unique())*100, 2)))\n",
    "      \n",
    "# Посмотрим распределение по группам\n",
    "group1 = data1['exp_id'].value_counts().sort_index(ascending=True).to_frame()\n",
    "group1['pct'] = round(group1['exp_id']/group1['exp_id'].sum()*100)\n",
    "group1"
   ]
  },
  {
   "cell_type": "markdown",
   "metadata": {},
   "source": [
    "Отбросив старые данные мы потеряли 1.16% событий и 0.23% пользователей. Это незначительная доля которая не скажется на общем результате теста. Распределение в группах осталось прежним."
   ]
  },
  {
   "cell_type": "markdown",
   "metadata": {},
   "source": [
    "## Воронка событий"
   ]
  },
  {
   "cell_type": "code",
   "execution_count": 9,
   "metadata": {},
   "outputs": [
    {
     "data": {
      "text/html": [
       "<div>\n",
       "<style scoped>\n",
       "    .dataframe tbody tr th:only-of-type {\n",
       "        vertical-align: middle;\n",
       "    }\n",
       "\n",
       "    .dataframe tbody tr th {\n",
       "        vertical-align: top;\n",
       "    }\n",
       "\n",
       "    .dataframe thead th {\n",
       "        text-align: right;\n",
       "    }\n",
       "</style>\n",
       "<table border=\"1\" class=\"dataframe\">\n",
       "  <thead>\n",
       "    <tr style=\"text-align: right;\">\n",
       "      <th></th>\n",
       "      <th>eventname</th>\n",
       "      <th>count</th>\n",
       "    </tr>\n",
       "  </thead>\n",
       "  <tbody>\n",
       "    <tr>\n",
       "      <th>0</th>\n",
       "      <td>MainScreenAppear</td>\n",
       "      <td>117328</td>\n",
       "    </tr>\n",
       "    <tr>\n",
       "      <th>1</th>\n",
       "      <td>OffersScreenAppear</td>\n",
       "      <td>46333</td>\n",
       "    </tr>\n",
       "    <tr>\n",
       "      <th>2</th>\n",
       "      <td>CartScreenAppear</td>\n",
       "      <td>42303</td>\n",
       "    </tr>\n",
       "    <tr>\n",
       "      <th>3</th>\n",
       "      <td>PaymentScreenSuccessful</td>\n",
       "      <td>33918</td>\n",
       "    </tr>\n",
       "    <tr>\n",
       "      <th>4</th>\n",
       "      <td>Tutorial</td>\n",
       "      <td>1005</td>\n",
       "    </tr>\n",
       "  </tbody>\n",
       "</table>\n",
       "</div>"
      ],
      "text/plain": [
       "                 eventname   count\n",
       "0         MainScreenAppear  117328\n",
       "1       OffersScreenAppear   46333\n",
       "2         CartScreenAppear   42303\n",
       "3  PaymentScreenSuccessful   33918\n",
       "4                 Tutorial    1005"
      ]
     },
     "execution_count": 9,
     "metadata": {},
     "output_type": "execute_result"
    }
   ],
   "source": [
    "# Смотрим на уникальные события\n",
    "events = data1['eventname'].value_counts().reset_index()\n",
    "events.columns = ['eventname', 'count']\n",
    "events"
   ]
  },
  {
   "cell_type": "markdown",
   "metadata": {},
   "source": [
    "Всего у нас 5 уникальных событий."
   ]
  },
  {
   "cell_type": "code",
   "execution_count": 10,
   "metadata": {},
   "outputs": [
    {
     "data": {
      "text/html": [
       "<div>\n",
       "<style scoped>\n",
       "    .dataframe tbody tr th:only-of-type {\n",
       "        vertical-align: middle;\n",
       "    }\n",
       "\n",
       "    .dataframe tbody tr th {\n",
       "        vertical-align: top;\n",
       "    }\n",
       "\n",
       "    .dataframe thead th {\n",
       "        text-align: right;\n",
       "    }\n",
       "</style>\n",
       "<table border=\"1\" class=\"dataframe\">\n",
       "  <thead>\n",
       "    <tr style=\"text-align: right;\">\n",
       "      <th></th>\n",
       "      <th>eventname</th>\n",
       "      <th>count</th>\n",
       "      <th>users_count</th>\n",
       "      <th>pct</th>\n",
       "    </tr>\n",
       "  </thead>\n",
       "  <tbody>\n",
       "    <tr>\n",
       "      <th>1</th>\n",
       "      <td>MainScreenAppear</td>\n",
       "      <td>117328</td>\n",
       "      <td>7419</td>\n",
       "      <td>98.25</td>\n",
       "    </tr>\n",
       "    <tr>\n",
       "      <th>2</th>\n",
       "      <td>OffersScreenAppear</td>\n",
       "      <td>46333</td>\n",
       "      <td>4593</td>\n",
       "      <td>60.83</td>\n",
       "    </tr>\n",
       "    <tr>\n",
       "      <th>0</th>\n",
       "      <td>CartScreenAppear</td>\n",
       "      <td>42303</td>\n",
       "      <td>3734</td>\n",
       "      <td>49.45</td>\n",
       "    </tr>\n",
       "    <tr>\n",
       "      <th>3</th>\n",
       "      <td>PaymentScreenSuccessful</td>\n",
       "      <td>33918</td>\n",
       "      <td>3539</td>\n",
       "      <td>46.87</td>\n",
       "    </tr>\n",
       "    <tr>\n",
       "      <th>4</th>\n",
       "      <td>Tutorial</td>\n",
       "      <td>1005</td>\n",
       "      <td>840</td>\n",
       "      <td>11.12</td>\n",
       "    </tr>\n",
       "  </tbody>\n",
       "</table>\n",
       "</div>"
      ],
      "text/plain": [
       "                 eventname   count  users_count    pct\n",
       "1         MainScreenAppear  117328         7419  98.25\n",
       "2       OffersScreenAppear   46333         4593  60.83\n",
       "0         CartScreenAppear   42303         3734  49.45\n",
       "3  PaymentScreenSuccessful   33918         3539  46.87\n",
       "4                 Tutorial    1005          840  11.12"
      ]
     },
     "execution_count": 10,
     "metadata": {},
     "output_type": "execute_result"
    }
   ],
   "source": [
    "# Смотрим пользователей на каждом этапе\n",
    "users_event = data1.pivot_table(index=['eventname'], values='device_id', aggfunc={'nunique','count'}).reset_index()\n",
    "users_event.columns = ['eventname', 'count', 'users_count']\n",
    "users_event['pct'] = round(users_event['users_count']*100/len(data['device_id'].unique()),2)\n",
    "users_event = users_event.sort_values(by='pct', ascending=False)\n",
    "users_event"
   ]
  },
  {
   "cell_type": "markdown",
   "metadata": {},
   "source": [
    "Последовательность цепочки событий складывается следующим образом: <br>\n",
    "MainScreenAppear -> OffersScreenAppear -> CartScreenAppear -> PaymentScreenSuccessful\n",
    "\n",
    "Обучение не является частью основной воронки и его смотрят всего лишь 11.12% пользователей.<br>\n",
    "Главный экран видели только 98.25% пользователей. Следовательно 1.75% пользователей попали сразу на экран предложения/услуги/товара минуя главный экран.<br>\n",
    "На экран предложения попадают 60.83% пользователей. Это значит что около 40% пользователей пропадают уже после первого шага."
   ]
  },
  {
   "cell_type": "code",
   "execution_count": 11,
   "metadata": {},
   "outputs": [
    {
     "data": {
      "image/svg+xml": [
       "<svg class=\"main-svg\" xmlns=\"http://www.w3.org/2000/svg\" xmlns:xlink=\"http://www.w3.org/1999/xlink\" width=\"980\" height=\"550\" style=\"\" viewBox=\"0 0 980 550\"><rect x=\"0\" y=\"0\" width=\"980\" height=\"550\" style=\"fill: rgb(255, 255, 255); fill-opacity: 1;\"/><defs id=\"defs-329e35\"><g class=\"clips\"><clipPath id=\"clip329e35xyplot\" class=\"plotclip\"><rect width=\"734\" height=\"370\"/></clipPath><clipPath class=\"axesclip\" id=\"clip329e35x\"><rect x=\"166\" y=\"0\" width=\"734\" height=\"550\"/></clipPath><clipPath class=\"axesclip\" id=\"clip329e35y\"><rect x=\"0\" y=\"100\" width=\"980\" height=\"370\"/></clipPath><clipPath class=\"axesclip\" id=\"clip329e35xy\"><rect x=\"166\" y=\"100\" width=\"734\" height=\"370\"/></clipPath></g><g class=\"gradients\"/><g class=\"patterns\"/></defs><g class=\"bglayer\"><rect class=\"bg\" x=\"166\" y=\"100\" width=\"734\" height=\"370\" style=\"fill: rgb(229, 236, 246); fill-opacity: 1; stroke-width: 0;\"/></g><g class=\"layer-below\"><g class=\"imagelayer\"/><g class=\"shapelayer\"/></g><g class=\"cartesianlayer\"><g class=\"subplot xy\"><g class=\"layer-subplot\"><g class=\"shapelayer\"/><g class=\"imagelayer\"/></g><g class=\"gridlayer\"><g class=\"x\"/><g class=\"y\"/></g><g class=\"zerolinelayer\"/><path class=\"xlines-below\"/><path class=\"ylines-below\"/><g class=\"overlines-below\"/><g class=\"xaxislayer-below\"/><g class=\"yaxislayer-below\"/><g class=\"overaxes-below\"/><g class=\"plot\" transform=\"translate(166,100)\" clip-path=\"url(#clip329e35xyplot)\"><g class=\"funnellayer mlayer\"><g class=\"trace bars\" style=\"opacity: 1;\"><g class=\"regions\"><g class=\"region\"><path d=\"M36.7,83.25L236.56,101.75H497.44L697.3,83.25Z\" style=\"stroke-width: 0; fill: rgb(99, 110, 250); fill-opacity: 0.5;\"/></g><g class=\"region\"><path d=\"M236.56,175.75L247.91,194.25H486.09L497.44,175.75Z\" style=\"stroke-width: 0; fill: rgb(99, 110, 250); fill-opacity: 0.5;\"/></g><g class=\"region\"><path d=\"M247.91,268.25L271.51,286.75H462.49L486.09,268.25Z\" style=\"stroke-width: 0; fill: rgb(99, 110, 250); fill-opacity: 0.5;\"/></g><g class=\"region\"><path d=\"M0,0Z\" style=\"stroke-width: 0; fill: rgb(99, 110, 250); fill-opacity: 0.5;\"/></g></g><g class=\"points\"><g class=\"point\"><path d=\"M36.7,9.25V83.25H697.3V9.25Z\" style=\"vector-effect: non-scaling-stroke; fill: rgb(99, 110, 250); fill-opacity: 1; stroke: rgb(68, 68, 68); stroke-opacity: 1; stroke-width: 0px; opacity: 1;\"/><text class=\"bartext bartext-inside\" text-anchor=\"middle\" data-notex=\"1\" x=\"0\" y=\"0\" style=\"font-family: 'Open Sans', verdana, arial, sans-serif; font-size: 12px; fill: rgb(255, 255, 255); fill-opacity: 1; white-space: pre;\" transform=\"translate(366.546875,50.75)\">117.328k</text></g><g class=\"point\"><path d=\"M236.56,101.75V175.75H497.44V101.75Z\" style=\"vector-effect: non-scaling-stroke; fill: rgb(99, 110, 250); fill-opacity: 1; stroke: rgb(68, 68, 68); stroke-opacity: 1; stroke-width: 0px; opacity: 1;\"/><text class=\"bartext bartext-inside\" text-anchor=\"middle\" data-notex=\"1\" x=\"0\" y=\"0\" style=\"font-family: 'Open Sans', verdana, arial, sans-serif; font-size: 12px; fill: rgb(255, 255, 255); fill-opacity: 1; white-space: pre;\" transform=\"translate(366.546875,143.25)\">46.333k</text></g><g class=\"point\"><path d=\"M247.91,194.25V268.25H486.09V194.25Z\" style=\"vector-effect: non-scaling-stroke; fill: rgb(99, 110, 250); fill-opacity: 1; stroke: rgb(68, 68, 68); stroke-opacity: 1; stroke-width: 0px; opacity: 1;\"/><text class=\"bartext bartext-inside\" text-anchor=\"middle\" data-notex=\"1\" x=\"0\" y=\"0\" style=\"font-family: 'Open Sans', verdana, arial, sans-serif; font-size: 12px; fill: rgb(255, 255, 255); fill-opacity: 1; white-space: pre;\" transform=\"translate(366.546875,235.75)\">42.303k</text></g><g class=\"point\"><path d=\"M271.51,286.75V360.75H462.49V286.75Z\" style=\"vector-effect: non-scaling-stroke; fill: rgb(99, 110, 250); fill-opacity: 1; stroke: rgb(68, 68, 68); stroke-opacity: 1; stroke-width: 0px; opacity: 1;\"/><text class=\"bartext bartext-inside\" text-anchor=\"middle\" data-notex=\"1\" x=\"0\" y=\"0\" style=\"font-family: 'Open Sans', verdana, arial, sans-serif; font-size: 12px; fill: rgb(255, 255, 255); fill-opacity: 1; white-space: pre;\" transform=\"translate(366.546875,328.25)\">33.918k</text></g></g></g></g></g><g class=\"overplot\"/><path class=\"xlines-above crisp\" d=\"M0,0\" style=\"fill: none;\"/><path class=\"ylines-above crisp\" d=\"M0,0\" style=\"fill: none;\"/><g class=\"overlines-above\"/><g class=\"xaxislayer-above\"/><g class=\"yaxislayer-above\"><g class=\"ytick\"><text text-anchor=\"end\" x=\"165\" y=\"4.199999999999999\" transform=\"translate(0,423.75)\" style=\"font-family: 'Open Sans', verdana, arial, sans-serif; font-size: 12px; fill: rgb(42, 63, 95); fill-opacity: 1; white-space: pre; opacity: 1;\">Экран успешной оплаты</text></g><g class=\"ytick\"><text text-anchor=\"end\" x=\"165\" y=\"4.199999999999999\" transform=\"translate(0,331.25)\" style=\"font-family: 'Open Sans', verdana, arial, sans-serif; font-size: 12px; fill: rgb(42, 63, 95); fill-opacity: 1; white-space: pre; opacity: 1;\">Экран корзины</text></g><g class=\"ytick\"><text text-anchor=\"end\" x=\"165\" y=\"4.199999999999999\" transform=\"translate(0,238.75)\" style=\"font-family: 'Open Sans', verdana, arial, sans-serif; font-size: 12px; fill: rgb(42, 63, 95); fill-opacity: 1; white-space: pre; opacity: 1;\">Экран предложения</text></g><g class=\"ytick\"><text text-anchor=\"end\" x=\"165\" y=\"4.199999999999999\" transform=\"translate(0,146.25)\" style=\"font-family: 'Open Sans', verdana, arial, sans-serif; font-size: 12px; fill: rgb(42, 63, 95); fill-opacity: 1; white-space: pre; opacity: 1;\">Главный экран</text></g></g><g class=\"overaxes-above\"/></g></g><g class=\"polarlayer\"/><g class=\"smithlayer\"/><g class=\"ternarylayer\"/><g class=\"geolayer\"/><g class=\"funnelarealayer\"/><g class=\"pielayer\"/><g class=\"iciclelayer\"/><g class=\"treemaplayer\"/><g class=\"sunburstlayer\"/><g class=\"glimages\"/><defs id=\"topdefs-329e35\"><g class=\"clips\"/></defs><g class=\"layer-above\"><g class=\"imagelayer\"/><g class=\"shapelayer\"/></g><g class=\"infolayer\"><g class=\"g-gtitle\"><text class=\"gtitle\" x=\"490\" y=\"50\" text-anchor=\"middle\" dy=\"0em\" style=\"font-family: 'Open Sans', verdana, arial, sans-serif; font-size: 20px; fill: rgb(42, 63, 95); opacity: 1; font-weight: normal; white-space: pre;\">Воронка событий</text></g><g class=\"g-ytitle\"/></g></svg>"
      ]
     },
     "metadata": {},
     "output_type": "display_data"
    }
   ],
   "source": [
    "# Строим воронку событий\n",
    "events = events[events['eventname'] != 'Tutorial'] # Исключили Tutorial\n",
    "fig = go.Figure(\n",
    "    go.Funnel(\n",
    "        y=['Главный экран', 'Экран предложения', 'Экран корзины', 'Экран успешной оплаты'],\n",
    "        x=events['count'],\n",
    "    )\n",
    ")\n",
    "fig.update_layout(title={'text':\"Воронка событий\", 'font':dict(size=20), 'x':0.5})\n",
    "fig.show(renderer='svg', width=980, height=550)"
   ]
  },
  {
   "cell_type": "code",
   "execution_count": 12,
   "metadata": {},
   "outputs": [
    {
     "data": {
      "text/html": [
       "<div>\n",
       "<style scoped>\n",
       "    .dataframe tbody tr th:only-of-type {\n",
       "        vertical-align: middle;\n",
       "    }\n",
       "\n",
       "    .dataframe tbody tr th {\n",
       "        vertical-align: top;\n",
       "    }\n",
       "\n",
       "    .dataframe thead th {\n",
       "        text-align: right;\n",
       "    }\n",
       "</style>\n",
       "<table border=\"1\" class=\"dataframe\">\n",
       "  <thead>\n",
       "    <tr style=\"text-align: right;\">\n",
       "      <th></th>\n",
       "      <th>eventname</th>\n",
       "      <th>device_id</th>\n",
       "      <th>conv</th>\n",
       "      <th>conv_step</th>\n",
       "    </tr>\n",
       "  </thead>\n",
       "  <tbody>\n",
       "    <tr>\n",
       "      <th>1</th>\n",
       "      <td>MainScreenAppear</td>\n",
       "      <td>7439</td>\n",
       "      <td>100.00</td>\n",
       "      <td>NaN</td>\n",
       "    </tr>\n",
       "    <tr>\n",
       "      <th>2</th>\n",
       "      <td>OffersScreenAppear</td>\n",
       "      <td>4613</td>\n",
       "      <td>62.01</td>\n",
       "      <td>62.01</td>\n",
       "    </tr>\n",
       "    <tr>\n",
       "      <th>0</th>\n",
       "      <td>CartScreenAppear</td>\n",
       "      <td>3749</td>\n",
       "      <td>50.40</td>\n",
       "      <td>81.27</td>\n",
       "    </tr>\n",
       "    <tr>\n",
       "      <th>3</th>\n",
       "      <td>PaymentScreenSuccessful</td>\n",
       "      <td>3547</td>\n",
       "      <td>47.68</td>\n",
       "      <td>94.61</td>\n",
       "    </tr>\n",
       "  </tbody>\n",
       "</table>\n",
       "</div>"
      ],
      "text/plain": [
       "                 eventname  device_id    conv  conv_step\n",
       "1         MainScreenAppear       7439  100.00        NaN\n",
       "2       OffersScreenAppear       4613   62.01      62.01\n",
       "0         CartScreenAppear       3749   50.40      81.27\n",
       "3  PaymentScreenSuccessful       3547   47.68      94.61"
      ]
     },
     "execution_count": 12,
     "metadata": {},
     "output_type": "execute_result"
    }
   ],
   "source": [
    "# Конверсия пользователей\n",
    "funnel = data.groupby('eventname',as_index=False).agg({'device_id':'nunique'}).sort_values(by='device_id',ascending=False)\n",
    "funnel = funnel[funnel['eventname'] != 'Tutorial']\n",
    "funnel['conv'] = round(funnel['device_id']/7439*100, 2)\n",
    "funnel['conv_step'] = round(100*funnel['device_id']/funnel['device_id'].shift(), 2)\n",
    "funnel"
   ]
  },
  {
   "cell_type": "code",
   "execution_count": 13,
   "metadata": {},
   "outputs": [
    {
     "data": {
      "image/svg+xml": [
       "<svg class=\"main-svg\" xmlns=\"http://www.w3.org/2000/svg\" xmlns:xlink=\"http://www.w3.org/1999/xlink\" width=\"980\" height=\"550\" style=\"\" viewBox=\"0 0 980 550\"><rect x=\"0\" y=\"0\" width=\"980\" height=\"550\" style=\"fill: rgb(255, 255, 255); fill-opacity: 1;\"/><defs id=\"defs-af8dae\"><g class=\"clips\"><clipPath id=\"clipaf8daexyplot\" class=\"plotclip\"><rect width=\"734\" height=\"370\"/></clipPath><clipPath class=\"axesclip\" id=\"clipaf8daex\"><rect x=\"166\" y=\"0\" width=\"734\" height=\"550\"/></clipPath><clipPath class=\"axesclip\" id=\"clipaf8daey\"><rect x=\"0\" y=\"100\" width=\"980\" height=\"370\"/></clipPath><clipPath class=\"axesclip\" id=\"clipaf8daexy\"><rect x=\"166\" y=\"100\" width=\"734\" height=\"370\"/></clipPath></g><g class=\"gradients\"/><g class=\"patterns\"/></defs><g class=\"bglayer\"><rect class=\"bg\" x=\"166\" y=\"100\" width=\"734\" height=\"370\" style=\"fill: rgb(229, 236, 246); fill-opacity: 1; stroke-width: 0;\"/></g><g class=\"layer-below\"><g class=\"imagelayer\"/><g class=\"shapelayer\"/></g><g class=\"cartesianlayer\"><g class=\"subplot xy\"><g class=\"layer-subplot\"><g class=\"shapelayer\"/><g class=\"imagelayer\"/></g><g class=\"gridlayer\"><g class=\"x\"/><g class=\"y\"/></g><g class=\"zerolinelayer\"/><path class=\"xlines-below\"/><path class=\"ylines-below\"/><g class=\"overlines-below\"/><g class=\"xaxislayer-below\"/><g class=\"yaxislayer-below\"/><g class=\"overaxes-below\"/><g class=\"plot\" transform=\"translate(166,100)\" clip-path=\"url(#clipaf8daexyplot)\"><g class=\"funnellayer mlayer\"><g class=\"trace bars\" style=\"opacity: 1;\"><g class=\"regions\"><g class=\"region\"><path d=\"M36.7,83.25L162.18,101.75H571.82L697.3,83.25Z\" style=\"stroke-width: 0; fill: rgb(99, 110, 250); fill-opacity: 0.5;\"/></g><g class=\"region\"><path d=\"M162.18,175.75L200.54,194.25H533.46L571.82,175.75Z\" style=\"stroke-width: 0; fill: rgb(99, 110, 250); fill-opacity: 0.5;\"/></g><g class=\"region\"><path d=\"M200.54,268.25L209.51,286.75H524.49L533.46,268.25Z\" style=\"stroke-width: 0; fill: rgb(99, 110, 250); fill-opacity: 0.5;\"/></g><g class=\"region\"><path d=\"M0,0Z\" style=\"stroke-width: 0; fill: rgb(99, 110, 250); fill-opacity: 0.5;\"/></g></g><g class=\"points\"><g class=\"point\"><path d=\"M36.7,9.25V83.25H697.3V9.25Z\" style=\"vector-effect: non-scaling-stroke; fill: rgb(99, 110, 250); fill-opacity: 1; stroke: rgb(68, 68, 68); stroke-opacity: 1; stroke-width: 0px; opacity: 1;\"/><text class=\"bartext bartext-inside\" text-anchor=\"middle\" data-notex=\"1\" x=\"0\" y=\"0\" style=\"font-family: 'Open Sans', verdana, arial, sans-serif; font-size: 12px; fill: rgb(255, 255, 255); fill-opacity: 1; white-space: pre;\" transform=\"translate(366.8125,50.75)\">7439</text></g><g class=\"point\"><path d=\"M162.18,101.75V175.75H571.82V101.75Z\" style=\"vector-effect: non-scaling-stroke; fill: rgb(99, 110, 250); fill-opacity: 1; stroke: rgb(68, 68, 68); stroke-opacity: 1; stroke-width: 0px; opacity: 1;\"/><text class=\"bartext bartext-inside\" text-anchor=\"middle\" data-notex=\"1\" x=\"0\" y=\"0\" style=\"font-family: 'Open Sans', verdana, arial, sans-serif; font-size: 12px; fill: rgb(255, 255, 255); fill-opacity: 1; white-space: pre;\" transform=\"translate(367,143.25)\">4613</text></g><g class=\"point\"><path d=\"M200.54,194.25V268.25H533.46V194.25Z\" style=\"vector-effect: non-scaling-stroke; fill: rgb(99, 110, 250); fill-opacity: 1; stroke: rgb(68, 68, 68); stroke-opacity: 1; stroke-width: 0px; opacity: 1;\"/><text class=\"bartext bartext-inside\" text-anchor=\"middle\" data-notex=\"1\" x=\"0\" y=\"0\" style=\"font-family: 'Open Sans', verdana, arial, sans-serif; font-size: 12px; fill: rgb(255, 255, 255); fill-opacity: 1; white-space: pre;\" transform=\"translate(366.8125,235.75)\">3749</text></g><g class=\"point\"><path d=\"M209.51,286.75V360.75H524.49V286.75Z\" style=\"vector-effect: non-scaling-stroke; fill: rgb(99, 110, 250); fill-opacity: 1; stroke: rgb(68, 68, 68); stroke-opacity: 1; stroke-width: 0px; opacity: 1;\"/><text class=\"bartext bartext-inside\" text-anchor=\"middle\" data-notex=\"1\" x=\"0\" y=\"0\" style=\"font-family: 'Open Sans', verdana, arial, sans-serif; font-size: 12px; fill: rgb(255, 255, 255); fill-opacity: 1; white-space: pre;\" transform=\"translate(366.8125,328.25)\">3547</text></g></g></g></g></g><g class=\"overplot\"/><path class=\"xlines-above crisp\" d=\"M0,0\" style=\"fill: none;\"/><path class=\"ylines-above crisp\" d=\"M0,0\" style=\"fill: none;\"/><g class=\"overlines-above\"/><g class=\"xaxislayer-above\"/><g class=\"yaxislayer-above\"><g class=\"ytick\"><text text-anchor=\"end\" x=\"165\" y=\"4.199999999999999\" transform=\"translate(0,423.75)\" style=\"font-family: 'Open Sans', verdana, arial, sans-serif; font-size: 12px; fill: rgb(42, 63, 95); fill-opacity: 1; white-space: pre; opacity: 1;\">Экран успешной оплаты</text></g><g class=\"ytick\"><text text-anchor=\"end\" x=\"165\" y=\"4.199999999999999\" transform=\"translate(0,331.25)\" style=\"font-family: 'Open Sans', verdana, arial, sans-serif; font-size: 12px; fill: rgb(42, 63, 95); fill-opacity: 1; white-space: pre; opacity: 1;\">Экран корзины</text></g><g class=\"ytick\"><text text-anchor=\"end\" x=\"165\" y=\"4.199999999999999\" transform=\"translate(0,238.75)\" style=\"font-family: 'Open Sans', verdana, arial, sans-serif; font-size: 12px; fill: rgb(42, 63, 95); fill-opacity: 1; white-space: pre; opacity: 1;\">Экран предложения</text></g><g class=\"ytick\"><text text-anchor=\"end\" x=\"165\" y=\"4.199999999999999\" transform=\"translate(0,146.25)\" style=\"font-family: 'Open Sans', verdana, arial, sans-serif; font-size: 12px; fill: rgb(42, 63, 95); fill-opacity: 1; white-space: pre; opacity: 1;\">Главный экран</text></g></g><g class=\"overaxes-above\"/></g></g><g class=\"polarlayer\"/><g class=\"smithlayer\"/><g class=\"ternarylayer\"/><g class=\"geolayer\"/><g class=\"funnelarealayer\"/><g class=\"pielayer\"/><g class=\"iciclelayer\"/><g class=\"treemaplayer\"/><g class=\"sunburstlayer\"/><g class=\"glimages\"/><defs id=\"topdefs-af8dae\"><g class=\"clips\"/></defs><g class=\"layer-above\"><g class=\"imagelayer\"/><g class=\"shapelayer\"/></g><g class=\"infolayer\"><g class=\"g-gtitle\"><text class=\"gtitle\" x=\"490\" y=\"50\" text-anchor=\"middle\" dy=\"0em\" style=\"font-family: 'Open Sans', verdana, arial, sans-serif; font-size: 20px; fill: rgb(42, 63, 95); opacity: 1; font-weight: normal; white-space: pre;\">Воронка пользователей</text></g><g class=\"g-ytitle\"/></g></svg>"
      ]
     },
     "metadata": {},
     "output_type": "display_data"
    }
   ],
   "source": [
    "fig = go.Figure(\n",
    "    go.Funnel(\n",
    "        y=['Главный экран', 'Экран предложения', 'Экран корзины', 'Экран успешной оплаты'],\n",
    "        x=funnel['device_id'],\n",
    "    )\n",
    ")\n",
    "fig.update_layout(title={'text':\"Воронка пользователей\", 'font':dict(size=20), 'x':0.5})\n",
    "fig.show(renderer='svg', width=980, height=550)"
   ]
  },
  {
   "cell_type": "markdown",
   "metadata": {},
   "source": [
    "Все как и прежде - около 38% пользователей теряюся на первом шаге при переходе с главного экрана на экран предложения.<br>\n",
    "Порядка 47,7% пользователей проходят от первого события до успешной оплаты.\n",
    "Около 5,4% теряются на переходе с экрана корзины до успешной оплаты товара. Возможно есть техническая проблема в оплате, а возможно некоторые люди передумали покупать или используют корзину как избранные товары."
   ]
  },
  {
   "cell_type": "markdown",
   "metadata": {},
   "source": [
    "## Результаты эксперимента"
   ]
  },
  {
   "cell_type": "code",
   "execution_count": 14,
   "metadata": {},
   "outputs": [
    {
     "data": {
      "text/html": [
       "<div>\n",
       "<style scoped>\n",
       "    .dataframe tbody tr th:only-of-type {\n",
       "        vertical-align: middle;\n",
       "    }\n",
       "\n",
       "    .dataframe tbody tr th {\n",
       "        vertical-align: top;\n",
       "    }\n",
       "\n",
       "    .dataframe thead th {\n",
       "        text-align: right;\n",
       "    }\n",
       "</style>\n",
       "<table border=\"1\" class=\"dataframe\">\n",
       "  <thead>\n",
       "    <tr style=\"text-align: right;\">\n",
       "      <th></th>\n",
       "      <th>exp_id</th>\n",
       "      <th>device_id</th>\n",
       "    </tr>\n",
       "  </thead>\n",
       "  <tbody>\n",
       "    <tr>\n",
       "      <th>0</th>\n",
       "      <td>246</td>\n",
       "      <td>2484</td>\n",
       "    </tr>\n",
       "    <tr>\n",
       "      <th>1</th>\n",
       "      <td>247</td>\n",
       "      <td>2513</td>\n",
       "    </tr>\n",
       "    <tr>\n",
       "      <th>2</th>\n",
       "      <td>248</td>\n",
       "      <td>2537</td>\n",
       "    </tr>\n",
       "  </tbody>\n",
       "</table>\n",
       "</div>"
      ],
      "text/plain": [
       "   exp_id  device_id\n",
       "0     246       2484\n",
       "1     247       2513\n",
       "2     248       2537"
      ]
     },
     "execution_count": 14,
     "metadata": {},
     "output_type": "execute_result"
    }
   ],
   "source": [
    "# Количество пользователей по группам\n",
    "users = data1.groupby('exp_id').agg({'device_id':'nunique'}).reset_index()\n",
    "users"
   ]
  },
  {
   "cell_type": "markdown",
   "metadata": {},
   "source": [
    "Есть 2 контрольные группы для А/А-эксперимента<br>\n",
    "Проверим, находят ли статистические критерии разницу между выборками 246 и 247 для проверки корректности всех механизмов и расчетов.<br>\n",
    "<b>\n",
    "H0 - Доли групп составляют 50%<br>\n",
    "H1 - Доли групп отличаются от 50%"
   ]
  },
  {
   "cell_type": "code",
   "execution_count": 15,
   "metadata": {},
   "outputs": [
    {
     "data": {
      "text/html": [
       "<div>\n",
       "<style scoped>\n",
       "    .dataframe tbody tr th:only-of-type {\n",
       "        vertical-align: middle;\n",
       "    }\n",
       "\n",
       "    .dataframe tbody tr th {\n",
       "        vertical-align: top;\n",
       "    }\n",
       "\n",
       "    .dataframe thead th {\n",
       "        text-align: right;\n",
       "    }\n",
       "</style>\n",
       "<table border=\"1\" class=\"dataframe\">\n",
       "  <thead>\n",
       "    <tr style=\"text-align: right;\">\n",
       "      <th></th>\n",
       "      <th>exp_id</th>\n",
       "      <th>device_id</th>\n",
       "    </tr>\n",
       "  </thead>\n",
       "  <tbody>\n",
       "    <tr>\n",
       "      <th>0</th>\n",
       "      <td>246</td>\n",
       "      <td>2484</td>\n",
       "    </tr>\n",
       "  </tbody>\n",
       "</table>\n",
       "</div>"
      ],
      "text/plain": [
       "   exp_id  device_id\n",
       "0     246       2484"
      ]
     },
     "execution_count": 15,
     "metadata": {},
     "output_type": "execute_result"
    }
   ],
   "source": [
    "users.query('exp_id == 246')"
   ]
  },
  {
   "cell_type": "code",
   "execution_count": 16,
   "metadata": {},
   "outputs": [
    {
     "name": "stdout",
     "output_type": "stream",
     "text": [
      "Не отвергаем H0, доли групп одинаковы!\n"
     ]
    }
   ],
   "source": [
    "# Проверка гипотезы о равенстве долей используя Z-критерий\n",
    "# Задаем критический уровень статистической значимости для последующих тестов\n",
    "alpha = 0.05\n",
    "\n",
    "_, pvalue = proportions_ztest(\n",
    "    count = users.query('exp_id == 246')['device_id'][0],\n",
    "    nobs = users.query('exp_id == [246,247]')['device_id'].sum(),\n",
    "    value = 0.5\n",
    ")\n",
    "if pvalue < alpha:\n",
    "    print(\"Отвергаем H0, доля отличается от 50%\")\n",
    "else:\n",
    "    print(\"Не отвергаем H0, доли групп одинаковы!\")"
   ]
  },
  {
   "cell_type": "code",
   "execution_count": 17,
   "metadata": {},
   "outputs": [
    {
     "data": {
      "text/plain": [
       "0.6816211476613262"
      ]
     },
     "execution_count": 17,
     "metadata": {},
     "output_type": "execute_result"
    }
   ],
   "source": [
    "pvalue"
   ]
  },
  {
   "cell_type": "code",
   "execution_count": 18,
   "metadata": {},
   "outputs": [
    {
     "data": {
      "text/html": [
       "<div>\n",
       "<style scoped>\n",
       "    .dataframe tbody tr th:only-of-type {\n",
       "        vertical-align: middle;\n",
       "    }\n",
       "\n",
       "    .dataframe tbody tr th {\n",
       "        vertical-align: top;\n",
       "    }\n",
       "\n",
       "    .dataframe thead th {\n",
       "        text-align: right;\n",
       "    }\n",
       "</style>\n",
       "<table border=\"1\" class=\"dataframe\">\n",
       "  <thead>\n",
       "    <tr style=\"text-align: right;\">\n",
       "      <th></th>\n",
       "      <th>246</th>\n",
       "      <th>247</th>\n",
       "      <th>248</th>\n",
       "      <th>493</th>\n",
       "    </tr>\n",
       "    <tr>\n",
       "      <th>eventname</th>\n",
       "      <th></th>\n",
       "      <th></th>\n",
       "      <th></th>\n",
       "      <th></th>\n",
       "    </tr>\n",
       "  </thead>\n",
       "  <tbody>\n",
       "    <tr>\n",
       "      <th>MainScreenAppear</th>\n",
       "      <td>2450</td>\n",
       "      <td>2476</td>\n",
       "      <td>2493</td>\n",
       "      <td>4926</td>\n",
       "    </tr>\n",
       "    <tr>\n",
       "      <th>OffersScreenAppear</th>\n",
       "      <td>1542</td>\n",
       "      <td>1520</td>\n",
       "      <td>1531</td>\n",
       "      <td>3062</td>\n",
       "    </tr>\n",
       "    <tr>\n",
       "      <th>CartScreenAppear</th>\n",
       "      <td>1266</td>\n",
       "      <td>1238</td>\n",
       "      <td>1230</td>\n",
       "      <td>2504</td>\n",
       "    </tr>\n",
       "    <tr>\n",
       "      <th>PaymentScreenSuccessful</th>\n",
       "      <td>1200</td>\n",
       "      <td>1158</td>\n",
       "      <td>1181</td>\n",
       "      <td>2358</td>\n",
       "    </tr>\n",
       "  </tbody>\n",
       "</table>\n",
       "</div>"
      ],
      "text/plain": [
       "                          246   247   248   493\n",
       "eventname                                      \n",
       "MainScreenAppear         2450  2476  2493  4926\n",
       "OffersScreenAppear       1542  1520  1531  3062\n",
       "CartScreenAppear         1266  1238  1230  2504\n",
       "PaymentScreenSuccessful  1200  1158  1181  2358"
      ]
     },
     "execution_count": 18,
     "metadata": {},
     "output_type": "execute_result"
    }
   ],
   "source": [
    "# Создадим таблицу с результатами тестов по каждому событию и разбивкой по группам\n",
    "tests = data1.pivot_table(index='eventname', columns='exp_id', values='device_id', aggfunc='nunique')\n",
    "tests.columns =[246, 247, 248]\n",
    "tests[493] = tests[246] + tests[247]\n",
    "tests = tests[tests.index != 'Tutorial'].sort_values(by=493, ascending=False)\n",
    "tests"
   ]
  },
  {
   "cell_type": "code",
   "execution_count": 19,
   "metadata": {},
   "outputs": [
    {
     "data": {
      "image/svg+xml": [
       "<svg class=\"main-svg\" xmlns=\"http://www.w3.org/2000/svg\" xmlns:xlink=\"http://www.w3.org/1999/xlink\" width=\"980\" height=\"550\" style=\"\" viewBox=\"0 0 980 550\"><rect x=\"0\" y=\"0\" width=\"980\" height=\"550\" style=\"fill: rgb(255, 255, 255); fill-opacity: 1;\"/><defs id=\"defs-1e4c7b\"><g class=\"clips\"><clipPath id=\"clip1e4c7bxyplot\" class=\"plotclip\"><rect width=\"719\" height=\"370\"/></clipPath><clipPath class=\"axesclip\" id=\"clip1e4c7bx\"><rect x=\"166\" y=\"0\" width=\"719\" height=\"550\"/></clipPath><clipPath class=\"axesclip\" id=\"clip1e4c7by\"><rect x=\"0\" y=\"100\" width=\"980\" height=\"370\"/></clipPath><clipPath class=\"axesclip\" id=\"clip1e4c7bxy\"><rect x=\"166\" y=\"100\" width=\"719\" height=\"370\"/></clipPath></g><g class=\"gradients\"/><g class=\"patterns\"/></defs><g class=\"bglayer\"><rect class=\"bg\" x=\"166\" y=\"100\" width=\"719\" height=\"370\" style=\"fill: rgb(229, 236, 246); fill-opacity: 1; stroke-width: 0;\"/></g><g class=\"layer-below\"><g class=\"imagelayer\"/><g class=\"shapelayer\"/></g><g class=\"cartesianlayer\"><g class=\"subplot xy\"><g class=\"layer-subplot\"><g class=\"shapelayer\"/><g class=\"imagelayer\"/></g><g class=\"gridlayer\"><g class=\"x\"/><g class=\"y\"/></g><g class=\"zerolinelayer\"/><path class=\"xlines-below\"/><path class=\"ylines-below\"/><g class=\"overlines-below\"/><g class=\"xaxislayer-below\"/><g class=\"yaxislayer-below\"/><g class=\"overaxes-below\"/><g class=\"plot\" transform=\"translate(166,100)\" clip-path=\"url(#clip1e4c7bxyplot)\"><g class=\"funnellayer mlayer\"><g class=\"trace bars\" style=\"opacity: 1;\"><g class=\"regions\"><g class=\"region\"><path d=\"M35.95,83.25L159.19,101.75H293.69L249.64,83.25Z\" style=\"stroke-width: 0; fill: rgb(99, 110, 250); fill-opacity: 0.5;\"/></g><g class=\"region\"><path d=\"M159.19,175.75L196.66,194.25H307.08L293.69,175.75Z\" style=\"stroke-width: 0; fill: rgb(99, 110, 250); fill-opacity: 0.5;\"/></g><g class=\"region\"><path d=\"M196.66,268.25L205.16,286.75H309.83L307.08,268.25Z\" style=\"stroke-width: 0; fill: rgb(99, 110, 250); fill-opacity: 0.5;\"/></g><g class=\"region\"><path d=\"M0,0Z\" style=\"stroke-width: 0; fill: rgb(99, 110, 250); fill-opacity: 0.5;\"/></g></g><g class=\"points\"><g class=\"point\"><path d=\"M35.95,9.25V83.25H249.64V9.25Z\" style=\"vector-effect: non-scaling-stroke; fill: rgb(99, 110, 250); fill-opacity: 1; stroke: rgb(68, 68, 68); stroke-opacity: 1; stroke-width: 0px; opacity: 1;\"/><text class=\"bartext bartext-inside\" text-anchor=\"middle\" data-notex=\"1\" x=\"0\" y=\"0\" style=\"font-family: 'Open Sans', verdana, arial, sans-serif; font-size: 12px; fill: rgb(255, 255, 255); fill-opacity: 1; white-space: pre;\" transform=\"translate(142.748125,42.9453125)\"><tspan class=\"line\" dy=\"0em\" x=\"0\" y=\"0\">2450</tspan><tspan class=\"line\" dy=\"1.3em\" x=\"0\" y=\"0\">100%</tspan></text></g><g class=\"point\"><path d=\"M159.19,101.75V175.75H293.69V101.75Z\" style=\"vector-effect: non-scaling-stroke; fill: rgb(99, 110, 250); fill-opacity: 1; stroke: rgb(68, 68, 68); stroke-opacity: 1; stroke-width: 0px; opacity: 1;\"/><text class=\"bartext bartext-inside\" text-anchor=\"middle\" data-notex=\"1\" x=\"0\" y=\"0\" style=\"font-family: 'Open Sans', verdana, arial, sans-serif; font-size: 12px; fill: rgb(255, 255, 255); fill-opacity: 1; white-space: pre;\" transform=\"translate(226.2525,135.4453125)\"><tspan class=\"line\" dy=\"0em\" x=\"0\" y=\"0\">1542</tspan><tspan class=\"line\" dy=\"1.3em\" x=\"0\" y=\"0\">63%</tspan></text></g><g class=\"point\"><path d=\"M196.66,194.25V268.25H307.08V194.25Z\" style=\"vector-effect: non-scaling-stroke; fill: rgb(99, 110, 250); fill-opacity: 1; stroke: rgb(68, 68, 68); stroke-opacity: 1; stroke-width: 0px; opacity: 1;\"/><text class=\"bartext bartext-inside\" text-anchor=\"middle\" data-notex=\"1\" x=\"0\" y=\"0\" style=\"font-family: 'Open Sans', verdana, arial, sans-serif; font-size: 12px; fill: rgb(255, 255, 255); fill-opacity: 1; white-space: pre;\" transform=\"translate(251.6825,227.9453125)\"><tspan class=\"line\" dy=\"0em\" x=\"0\" y=\"0\">1266</tspan><tspan class=\"line\" dy=\"1.3em\" x=\"0\" y=\"0\">52%</tspan></text></g><g class=\"point\"><path d=\"M205.16,286.75V360.75H309.83V286.75Z\" style=\"vector-effect: non-scaling-stroke; fill: rgb(99, 110, 250); fill-opacity: 1; stroke: rgb(68, 68, 68); stroke-opacity: 1; stroke-width: 0px; opacity: 1;\"/><text class=\"bartext bartext-inside\" text-anchor=\"middle\" data-notex=\"1\" x=\"0\" y=\"0\" style=\"font-family: 'Open Sans', verdana, arial, sans-serif; font-size: 12px; fill: rgb(255, 255, 255); fill-opacity: 1; white-space: pre;\" transform=\"translate(257.3075,320.4453125)\"><tspan class=\"line\" dy=\"0em\" x=\"0\" y=\"0\">1200</tspan><tspan class=\"line\" dy=\"1.3em\" x=\"0\" y=\"0\">49%</tspan></text></g></g></g><g class=\"trace bars\" style=\"opacity: 1;\"><g class=\"regions\"><g class=\"region\"><path d=\"M249.64,83.25L293.69,101.75H426.27L465.61,83.25Z\" style=\"stroke-width: 0; fill: rgb(239, 85, 59); fill-opacity: 0.5;\"/></g><g class=\"region\"><path d=\"M293.69,175.75L307.08,194.25H415.06L426.27,175.75Z\" style=\"stroke-width: 0; fill: rgb(239, 85, 59); fill-opacity: 0.5;\"/></g><g class=\"region\"><path d=\"M307.08,268.25L309.83,286.75H410.83L415.06,268.25Z\" style=\"stroke-width: 0; fill: rgb(239, 85, 59); fill-opacity: 0.5;\"/></g><g class=\"region\"><path d=\"M0,0Z\" style=\"stroke-width: 0; fill: rgb(239, 85, 59); fill-opacity: 0.5;\"/></g></g><g class=\"points\"><g class=\"point\"><path d=\"M249.64,9.25V83.25H465.61V9.25Z\" style=\"vector-effect: non-scaling-stroke; fill: rgb(239, 85, 59); fill-opacity: 1; stroke: rgb(68, 68, 68); stroke-opacity: 1; stroke-width: 0px; opacity: 1;\"/><text class=\"bartext bartext-inside\" text-anchor=\"middle\" data-notex=\"1\" x=\"0\" y=\"0\" style=\"font-family: 'Open Sans', verdana, arial, sans-serif; font-size: 12px; fill: rgb(68, 68, 68); fill-opacity: 1; white-space: pre;\" transform=\"translate(357.578125,42.9453125)\"><tspan class=\"line\" dy=\"0em\" x=\"0\" y=\"0\">2476</tspan><tspan class=\"line\" dy=\"1.3em\" x=\"0\" y=\"0\">100%</tspan></text></g><g class=\"point\"><path d=\"M293.69,101.75V175.75H426.27V101.75Z\" style=\"vector-effect: non-scaling-stroke; fill: rgb(239, 85, 59); fill-opacity: 1; stroke: rgb(68, 68, 68); stroke-opacity: 1; stroke-width: 0px; opacity: 1;\"/><text class=\"bartext bartext-inside\" text-anchor=\"middle\" data-notex=\"1\" x=\"0\" y=\"0\" style=\"font-family: 'Open Sans', verdana, arial, sans-serif; font-size: 12px; fill: rgb(68, 68, 68); fill-opacity: 1; white-space: pre;\" transform=\"translate(359.7925,135.4453125)\"><tspan class=\"line\" dy=\"0em\" x=\"0\" y=\"0\">1520</tspan><tspan class=\"line\" dy=\"1.3em\" x=\"0\" y=\"0\">61%</tspan></text></g><g class=\"point\"><path d=\"M307.08,194.25V268.25H415.06V194.25Z\" style=\"vector-effect: non-scaling-stroke; fill: rgb(239, 85, 59); fill-opacity: 1; stroke: rgb(68, 68, 68); stroke-opacity: 1; stroke-width: 0px; opacity: 1;\"/><text class=\"bartext bartext-inside\" text-anchor=\"middle\" data-notex=\"1\" x=\"0\" y=\"0\" style=\"font-family: 'Open Sans', verdana, arial, sans-serif; font-size: 12px; fill: rgb(68, 68, 68); fill-opacity: 1; white-space: pre;\" transform=\"translate(360.8825,227.9453125)\"><tspan class=\"line\" dy=\"0em\" x=\"0\" y=\"0\">1238</tspan><tspan class=\"line\" dy=\"1.3em\" x=\"0\" y=\"0\">50%</tspan></text></g><g class=\"point\"><path d=\"M309.83,286.75V360.75H410.83V286.75Z\" style=\"vector-effect: non-scaling-stroke; fill: rgb(239, 85, 59); fill-opacity: 1; stroke: rgb(68, 68, 68); stroke-opacity: 1; stroke-width: 0px; opacity: 1;\"/><text class=\"bartext bartext-inside\" text-anchor=\"middle\" data-notex=\"1\" x=\"0\" y=\"0\" style=\"font-family: 'Open Sans', verdana, arial, sans-serif; font-size: 12px; fill: rgb(68, 68, 68); fill-opacity: 1; white-space: pre;\" transform=\"translate(360.1425,320.4453125)\"><tspan class=\"line\" dy=\"0em\" x=\"0\" y=\"0\">1158</tspan><tspan class=\"line\" dy=\"1.3em\" x=\"0\" y=\"0\">47%</tspan></text></g></g></g><g class=\"trace bars\" style=\"opacity: 1;\"><g class=\"regions\"><g class=\"region\"><path d=\"M465.61,83.25L426.27,101.75H559.81L683.05,83.25Z\" style=\"stroke-width: 0; fill: rgb(0, 204, 150); fill-opacity: 0.5;\"/></g><g class=\"region\"><path d=\"M426.27,175.75L415.06,194.25H522.34L559.81,175.75Z\" style=\"stroke-width: 0; fill: rgb(0, 204, 150); fill-opacity: 0.5;\"/></g><g class=\"region\"><path d=\"M415.06,268.25L410.83,286.75H513.84L522.34,268.25Z\" style=\"stroke-width: 0; fill: rgb(0, 204, 150); fill-opacity: 0.5;\"/></g><g class=\"region\"><path d=\"M0,0Z\" style=\"stroke-width: 0; fill: rgb(0, 204, 150); fill-opacity: 0.5;\"/></g></g><g class=\"points\"><g class=\"point\"><path d=\"M465.61,9.25V83.25H683.05V9.25Z\" style=\"vector-effect: non-scaling-stroke; fill: rgb(0, 204, 150); fill-opacity: 1; stroke: rgb(68, 68, 68); stroke-opacity: 1; stroke-width: 0px; opacity: 1;\"/><text class=\"bartext bartext-inside\" text-anchor=\"middle\" data-notex=\"1\" x=\"0\" y=\"0\" style=\"font-family: 'Open Sans', verdana, arial, sans-serif; font-size: 12px; fill: rgb(68, 68, 68); fill-opacity: 1; white-space: pre;\" transform=\"translate(574.2831249999999,42.9453125)\"><tspan class=\"line\" dy=\"0em\" x=\"0\" y=\"0\">2493</tspan><tspan class=\"line\" dy=\"1.3em\" x=\"0\" y=\"0\">100%</tspan></text></g><g class=\"point\"><path d=\"M426.27,101.75V175.75H559.81V101.75Z\" style=\"vector-effect: non-scaling-stroke; fill: rgb(0, 204, 150); fill-opacity: 1; stroke: rgb(68, 68, 68); stroke-opacity: 1; stroke-width: 0px; opacity: 1;\"/><text class=\"bartext bartext-inside\" text-anchor=\"middle\" data-notex=\"1\" x=\"0\" y=\"0\" style=\"font-family: 'Open Sans', verdana, arial, sans-serif; font-size: 12px; fill: rgb(68, 68, 68); fill-opacity: 1; white-space: pre;\" transform=\"translate(493.03999999999996,135.4453125)\"><tspan class=\"line\" dy=\"0em\" x=\"0\" y=\"0\">1531</tspan><tspan class=\"line\" dy=\"1.3em\" x=\"0\" y=\"0\">61%</tspan></text></g><g class=\"point\"><path d=\"M415.06,194.25V268.25H522.34V194.25Z\" style=\"vector-effect: non-scaling-stroke; fill: rgb(0, 204, 150); fill-opacity: 1; stroke: rgb(68, 68, 68); stroke-opacity: 1; stroke-width: 0px; opacity: 1;\"/><text class=\"bartext bartext-inside\" text-anchor=\"middle\" data-notex=\"1\" x=\"0\" y=\"0\" style=\"font-family: 'Open Sans', verdana, arial, sans-serif; font-size: 12px; fill: rgb(68, 68, 68); fill-opacity: 1; white-space: pre;\" transform=\"translate(468.51250000000005,227.9453125)\"><tspan class=\"line\" dy=\"0em\" x=\"0\" y=\"0\">1230</tspan><tspan class=\"line\" dy=\"1.3em\" x=\"0\" y=\"0\">49%</tspan></text></g><g class=\"point\"><path d=\"M410.83,286.75V360.75H513.84V286.75Z\" style=\"vector-effect: non-scaling-stroke; fill: rgb(0, 204, 150); fill-opacity: 1; stroke: rgb(68, 68, 68); stroke-opacity: 1; stroke-width: 0px; opacity: 1;\"/><text class=\"bartext bartext-inside\" text-anchor=\"middle\" data-notex=\"1\" x=\"0\" y=\"0\" style=\"font-family: 'Open Sans', verdana, arial, sans-serif; font-size: 12px; fill: rgb(68, 68, 68); fill-opacity: 1; white-space: pre;\" transform=\"translate(462.33500000000004,320.4453125)\"><tspan class=\"line\" dy=\"0em\" x=\"0\" y=\"0\">1181</tspan><tspan class=\"line\" dy=\"1.3em\" x=\"0\" y=\"0\">47%</tspan></text></g></g></g></g></g><g class=\"overplot\"/><path class=\"xlines-above crisp\" d=\"M0,0\" style=\"fill: none;\"/><path class=\"ylines-above crisp\" d=\"M0,0\" style=\"fill: none;\"/><g class=\"overlines-above\"/><g class=\"xaxislayer-above\"/><g class=\"yaxislayer-above\"><g class=\"ytick\"><text text-anchor=\"end\" x=\"165\" y=\"4.199999999999999\" transform=\"translate(0,423.75)\" style=\"font-family: 'Open Sans', verdana, arial, sans-serif; font-size: 12px; fill: rgb(42, 63, 95); fill-opacity: 1; white-space: pre; opacity: 1;\">Экран успешной оплаты</text></g><g class=\"ytick\"><text text-anchor=\"end\" x=\"165\" y=\"4.199999999999999\" transform=\"translate(0,331.25)\" style=\"font-family: 'Open Sans', verdana, arial, sans-serif; font-size: 12px; fill: rgb(42, 63, 95); fill-opacity: 1; white-space: pre; opacity: 1;\">Экран корзины</text></g><g class=\"ytick\"><text text-anchor=\"end\" x=\"165\" y=\"4.199999999999999\" transform=\"translate(0,238.75)\" style=\"font-family: 'Open Sans', verdana, arial, sans-serif; font-size: 12px; fill: rgb(42, 63, 95); fill-opacity: 1; white-space: pre; opacity: 1;\">Экран предложения</text></g><g class=\"ytick\"><text text-anchor=\"end\" x=\"165\" y=\"4.199999999999999\" transform=\"translate(0,146.25)\" style=\"font-family: 'Open Sans', verdana, arial, sans-serif; font-size: 12px; fill: rgb(42, 63, 95); fill-opacity: 1; white-space: pre; opacity: 1;\">Главный экран</text></g></g><g class=\"overaxes-above\"/></g></g><g class=\"polarlayer\"/><g class=\"smithlayer\"/><g class=\"ternarylayer\"/><g class=\"geolayer\"/><g class=\"funnelarealayer\"/><g class=\"pielayer\"/><g class=\"iciclelayer\"/><g class=\"treemaplayer\"/><g class=\"sunburstlayer\"/><g class=\"glimages\"/><defs id=\"topdefs-1e4c7b\"><g class=\"clips\"/><clipPath id=\"legend1e4c7b\"><rect width=\"69\" height=\"67\" x=\"0\" y=\"0\"/></clipPath></defs><g class=\"layer-above\"><g class=\"imagelayer\"/><g class=\"shapelayer\"/></g><g class=\"infolayer\"><g class=\"legend\" pointer-events=\"all\" transform=\"translate(899.38,100)\"><rect class=\"bg\" shape-rendering=\"crispEdges\" style=\"stroke: rgb(68, 68, 68); stroke-opacity: 1; fill: rgb(255, 255, 255); fill-opacity: 1; stroke-width: 0px;\" width=\"69\" height=\"67\" x=\"0\" y=\"0\"/><g class=\"scrollbox\" transform=\"\" clip-path=\"url(#legend1e4c7b)\"><g class=\"groups\"><g class=\"traces\" transform=\"translate(0,14.5)\" style=\"opacity: 1;\"><text class=\"legendtext\" text-anchor=\"start\" x=\"40\" y=\"4.680000000000001\" style=\"font-family: 'Open Sans', verdana, arial, sans-serif; font-size: 12px; fill: rgb(42, 63, 95); fill-opacity: 1; white-space: pre;\">246</text><g class=\"layers\" style=\"opacity: 1;\"><g class=\"legendfill\"/><g class=\"legendlines\"/><g class=\"legendsymbols\"><g class=\"legendpoints\"><path class=\"legendfunnel\" d=\"M6,6H-6V-6H6Z\" transform=\"translate(20,0)\" style=\"stroke-width: 0px; fill: rgb(99, 110, 250); fill-opacity: 1;\"/></g></g></g><rect class=\"legendtoggle\" x=\"0\" y=\"-9.5\" width=\"63.265625\" height=\"19\" style=\"fill: rgb(0, 0, 0); fill-opacity: 0;\"/></g><g class=\"traces\" transform=\"translate(0,33.5)\" style=\"opacity: 1;\"><text class=\"legendtext\" text-anchor=\"start\" x=\"40\" y=\"4.680000000000001\" style=\"font-family: 'Open Sans', verdana, arial, sans-serif; font-size: 12px; fill: rgb(42, 63, 95); fill-opacity: 1; white-space: pre;\">247</text><g class=\"layers\" style=\"opacity: 1;\"><g class=\"legendfill\"/><g class=\"legendlines\"/><g class=\"legendsymbols\"><g class=\"legendpoints\"><path class=\"legendfunnel\" d=\"M6,6H-6V-6H6Z\" transform=\"translate(20,0)\" style=\"stroke-width: 0px; fill: rgb(239, 85, 59); fill-opacity: 1;\"/></g></g></g><rect class=\"legendtoggle\" x=\"0\" y=\"-9.5\" width=\"63.265625\" height=\"19\" style=\"fill: rgb(0, 0, 0); fill-opacity: 0;\"/></g><g class=\"traces\" transform=\"translate(0,52.5)\" style=\"opacity: 1;\"><text class=\"legendtext\" text-anchor=\"start\" x=\"40\" y=\"4.680000000000001\" style=\"font-family: 'Open Sans', verdana, arial, sans-serif; font-size: 12px; fill: rgb(42, 63, 95); fill-opacity: 1; white-space: pre;\">248</text><g class=\"layers\" style=\"opacity: 1;\"><g class=\"legendfill\"/><g class=\"legendlines\"/><g class=\"legendsymbols\"><g class=\"legendpoints\"><path class=\"legendfunnel\" d=\"M6,6H-6V-6H6Z\" transform=\"translate(20,0)\" style=\"stroke-width: 0px; fill: rgb(0, 204, 150); fill-opacity: 1;\"/></g></g></g><rect class=\"legendtoggle\" x=\"0\" y=\"-9.5\" width=\"63.265625\" height=\"19\" style=\"fill: rgb(0, 0, 0); fill-opacity: 0;\"/></g></g></g><rect class=\"scrollbar\" rx=\"20\" ry=\"3\" width=\"0\" height=\"0\" style=\"fill: rgb(128, 139, 164); fill-opacity: 1;\" x=\"0\" y=\"0\"/></g><g class=\"g-gtitle\"><text class=\"gtitle\" x=\"490\" y=\"50\" text-anchor=\"middle\" dy=\"0em\" style=\"font-family: 'Open Sans', verdana, arial, sans-serif; font-size: 20px; fill: rgb(42, 63, 95); opacity: 1; font-weight: normal; white-space: pre;\">Воронка пользователей c разбивкой на группы</text></g><g class=\"g-ytitle\"/></g></svg>"
      ]
     },
     "metadata": {},
     "output_type": "display_data"
    }
   ],
   "source": [
    "# Визуализация трех тестовых групп\n",
    "fig = go.Figure()\n",
    "fig.add_trace(go.Funnel(\n",
    "    name = '246',\n",
    "    y = ['Главный экран', 'Экран предложения', 'Экран корзины', 'Экран успешной оплаты'],\n",
    "    x = tests[246],\n",
    "    textinfo = \"value+percent initial\"))\n",
    "fig.add_trace(go.Funnel(\n",
    "    name = '247',\n",
    "    orientation = \"h\",\n",
    "    y = ['Главный экран', 'Экран предложения', 'Экран корзины', 'Экран успешной оплаты'],\n",
    "    x = tests[247],\n",
    "    textposition = \"inside\",\n",
    "    textinfo = \"value+percent initial\"))\n",
    "fig.add_trace(go.Funnel(\n",
    "    name = '248',\n",
    "    orientation = \"h\",\n",
    "    y = ['Главный экран', 'Экран предложения', 'Экран корзины', 'Экран успешной оплаты'],\n",
    "    x = tests[248],\n",
    "    textposition = \"inside\",\n",
    "    textinfo = \"value+percent initial\"))\n",
    "fig.update_layout(title={'text':\"Воронка пользователей c разбивкой на группы\", 'font':dict(size=20), 'x':0.5})\n",
    "fig.show(renderer='svg', width=980, height=550)"
   ]
  },
  {
   "cell_type": "code",
   "execution_count": 20,
   "metadata": {},
   "outputs": [
    {
     "data": {
      "text/html": [
       "<div>\n",
       "<style scoped>\n",
       "    .dataframe tbody tr th:only-of-type {\n",
       "        vertical-align: middle;\n",
       "    }\n",
       "\n",
       "    .dataframe tbody tr th {\n",
       "        vertical-align: top;\n",
       "    }\n",
       "\n",
       "    .dataframe thead th {\n",
       "        text-align: right;\n",
       "    }\n",
       "</style>\n",
       "<table border=\"1\" class=\"dataframe\">\n",
       "  <thead>\n",
       "    <tr style=\"text-align: right;\">\n",
       "      <th></th>\n",
       "      <th>device_id</th>\n",
       "    </tr>\n",
       "    <tr>\n",
       "      <th>exp_id</th>\n",
       "      <th></th>\n",
       "    </tr>\n",
       "  </thead>\n",
       "  <tbody>\n",
       "    <tr>\n",
       "      <th>246</th>\n",
       "      <td>2484</td>\n",
       "    </tr>\n",
       "    <tr>\n",
       "      <th>247</th>\n",
       "      <td>2513</td>\n",
       "    </tr>\n",
       "    <tr>\n",
       "      <th>248</th>\n",
       "      <td>2537</td>\n",
       "    </tr>\n",
       "    <tr>\n",
       "      <th>493</th>\n",
       "      <td>4997</td>\n",
       "    </tr>\n",
       "  </tbody>\n",
       "</table>\n",
       "</div>"
      ],
      "text/plain": [
       "        device_id\n",
       "exp_id           \n",
       "246          2484\n",
       "247          2513\n",
       "248          2537\n",
       "493          4997"
      ]
     },
     "execution_count": 20,
     "metadata": {},
     "output_type": "execute_result"
    }
   ],
   "source": [
    "# Добавим объедененную группу в таблицу групп\n",
    "users.loc[3] = [493, 4997]\n",
    "users = users.set_index(users.columns[0])\n",
    "users"
   ]
  },
  {
   "cell_type": "markdown",
   "metadata": {},
   "source": [
    "Для проверки гипотез воспользуемся Z-критерием и применим поправку Бонферрони, так как проводим множественное сравнение.<br>\n",
    "В нашем случае мы будем проводить 16 сравнений, следовательно, bonferroni_alpha будет равно alpha / 16.\n",
    "\n",
    "Сформулируем гипотезы:<br>\n",
    "<b>\n",
    "    H0: Нет отличий между группами<br>\n",
    "    H1: Отличие между группами статистически достоверно\n",
    "</b>"
   ]
  },
  {
   "cell_type": "code",
   "execution_count": 21,
   "metadata": {},
   "outputs": [],
   "source": [
    "# Напишем функцию для проверки гипотез\n",
    "def check_hyp(gp1, gp2, eventname):\n",
    "    successes1 = tests.loc[eventname, gp1]\n",
    "    successes2 = tests.loc[eventname, gp2]\n",
    "    trials1 = users.loc[gp1, 'device_id']\n",
    "    trials2 = users.loc[gp2, 'device_id']\n",
    "    p1 = successes1/trials1\n",
    "    p2 = successes2/trials2\n",
    "    p_combined = (successes1 + successes2) / (trials1 + trials2)\n",
    "    difference = p1 - p2 \n",
    "    z_value = difference / mth.sqrt(p_combined * (1 - p_combined) * (1 / trials1 + 1 / trials2))\n",
    "    distr = st.norm(0, 1)\n",
    "    p_value = (1 - distr.cdf(abs(z_value))) * 2\n",
    "    bonferroni_alpha = alpha / 16\n",
    "    print(p_value)\n",
    "    print('Проверка для групп {} и {}, cобытие: {}, p-value = {p_value}'.format(gp1, gp2, eventname, p_value=p_value))\n",
    "    if p_value < bonferroni_alpha:\n",
    "        print('Отвергаем H0: между группами есть статистически значимая разница')\n",
    "    else:\n",
    "        print('Не отвергаем H0: группы статистически не отличаются') "
   ]
  },
  {
   "cell_type": "code",
   "execution_count": 22,
   "metadata": {},
   "outputs": [
    {
     "name": "stdout",
     "output_type": "stream",
     "text": [
      "0.7570597232046099\n",
      "Проверка для групп 246 и 247, cобытие: MainScreenAppear, p-value = 0.7570597232046099\n",
      "Не отвергаем H0: группы статистически не отличаются\n",
      "\n",
      "0.2480954578522181\n",
      "Проверка для групп 246 и 247, cобытие: OffersScreenAppear, p-value = 0.2480954578522181\n",
      "Не отвергаем H0: группы статистически не отличаются\n",
      "\n",
      "0.22883372237997213\n",
      "Проверка для групп 246 и 247, cобытие: CartScreenAppear, p-value = 0.22883372237997213\n",
      "Не отвергаем H0: группы статистически не отличаются\n",
      "\n",
      "0.11456679313141849\n",
      "Проверка для групп 246 и 247, cобытие: PaymentScreenSuccessful, p-value = 0.11456679313141849\n",
      "Не отвергаем H0: группы статистически не отличаются\n",
      "\n"
     ]
    }
   ],
   "source": [
    "# Сравнение результатов А/А теста\n",
    "for eventname in tests.index:\n",
    "    check_hyp(246, 247, eventname)\n",
    "    print()"
   ]
  },
  {
   "cell_type": "markdown",
   "metadata": {},
   "source": [
    "Обе контрольные группы показывают идентичные результаты. Мы можем быть уверены в точности проведенного тестирования"
   ]
  },
  {
   "cell_type": "code",
   "execution_count": 23,
   "metadata": {},
   "outputs": [
    {
     "name": "stdout",
     "output_type": "stream",
     "text": [
      "0.2949721933554552\n",
      "Проверка для групп 246 и 248, cобытие: MainScreenAppear, p-value = 0.2949721933554552\n",
      "Не отвергаем H0: группы статистически не отличаются\n",
      "\n",
      "0.20836205402738917\n",
      "Проверка для групп 246 и 248, cобытие: OffersScreenAppear, p-value = 0.20836205402738917\n",
      "Не отвергаем H0: группы статистически не отличаются\n",
      "\n",
      "0.07842923237520116\n",
      "Проверка для групп 246 и 248, cобытие: CartScreenAppear, p-value = 0.07842923237520116\n",
      "Не отвергаем H0: группы статистически не отличаются\n",
      "\n",
      "0.2122553275697796\n",
      "Проверка для групп 246 и 248, cобытие: PaymentScreenSuccessful, p-value = 0.2122553275697796\n",
      "Не отвергаем H0: группы статистически не отличаются\n",
      "\n"
     ]
    }
   ],
   "source": [
    "# Сравнение результатов А/B теста\n",
    "# A1 и # B\n",
    "for eventname in tests.index:\n",
    "    check_hyp(246, 248, eventname)\n",
    "    print()"
   ]
  },
  {
   "cell_type": "code",
   "execution_count": 24,
   "metadata": {},
   "outputs": [
    {
     "name": "stdout",
     "output_type": "stream",
     "text": [
      "0.4587053616621515\n",
      "Проверка для групп 247 и 248, cобытие: MainScreenAppear, p-value = 0.4587053616621515\n",
      "Не отвергаем H0: группы статистически не отличаются\n",
      "\n",
      "0.9197817830592261\n",
      "Проверка для групп 247 и 248, cобытие: OffersScreenAppear, p-value = 0.9197817830592261\n",
      "Не отвергаем H0: группы статистически не отличаются\n",
      "\n",
      "0.5786197879539783\n",
      "Проверка для групп 247 и 248, cобытие: CartScreenAppear, p-value = 0.5786197879539783\n",
      "Не отвергаем H0: группы статистически не отличаются\n",
      "\n",
      "0.7373415053803964\n",
      "Проверка для групп 247 и 248, cобытие: PaymentScreenSuccessful, p-value = 0.7373415053803964\n",
      "Не отвергаем H0: группы статистически не отличаются\n",
      "\n"
     ]
    }
   ],
   "source": [
    "# A2 и B\n",
    "for eventname in tests.index:\n",
    "    check_hyp(247, 248, eventname)\n",
    "    print()"
   ]
  },
  {
   "cell_type": "code",
   "execution_count": 25,
   "metadata": {},
   "outputs": [
    {
     "name": "stdout",
     "output_type": "stream",
     "text": [
      "0.29424526837179577\n",
      "Проверка для групп 493 и 248, cобытие: MainScreenAppear, p-value = 0.29424526837179577\n",
      "Не отвергаем H0: группы статистически не отличаются\n",
      "\n",
      "0.43425549655188256\n",
      "Проверка для групп 493 и 248, cобытие: OffersScreenAppear, p-value = 0.43425549655188256\n",
      "Не отвергаем H0: группы статистически не отличаются\n",
      "\n",
      "0.18175875284404386\n",
      "Проверка для групп 493 и 248, cобытие: CartScreenAppear, p-value = 0.18175875284404386\n",
      "Не отвергаем H0: группы статистически не отличаются\n",
      "\n",
      "0.6004294282308704\n",
      "Проверка для групп 493 и 248, cобытие: PaymentScreenSuccessful, p-value = 0.6004294282308704\n",
      "Не отвергаем H0: группы статистически не отличаются\n",
      "\n"
     ]
    }
   ],
   "source": [
    "# A1+A2 и B\n",
    "for eventname in tests.index:\n",
    "    check_hyp(493, 248, eventname)\n",
    "    print()"
   ]
  },
  {
   "cell_type": "markdown",
   "metadata": {},
   "source": [
    "Похоже, что изменение шрифтов в приложении никак не повлияло на пользователей. Значит опасения менеджеров о том, что пользователям будет непривычно с новыми шрифтами будут развеяны. Тест можно считать успешным."
   ]
  },
  {
   "cell_type": "markdown",
   "metadata": {},
   "source": [
    "## Выводы"
   ]
  },
  {
   "cell_type": "markdown",
   "metadata": {},
   "source": [
    "В работе стояла цель разобраться как ведут себя пользователи приложения и изучить результаты А/А/В-теста, в котором 2 контрольние группы видели версию приложения со старыми шрифтами, а эксперементальная с новыми.\n",
    "В нашем распоряжении был лог с данными за период с 25.07.2019 по 07.08.2019, но часть данных была неполной. После отчистки мы получили данные за период 01.08.2019 по 07.08.2019 т.е неделя.\n",
    "\n",
    "\n",
    "* Обучение смотрят всего лишь 11.12% пользователей. Можно предположить, что пользователи недеются на понятный и простой интерфейс и пропускают этот шаг.\n",
    "* От первого события (главный экран) до последнего (успешная оплата) доходит 47.7% пользователей.\n",
    "* Больше всего пользователей теряется на шаге перехода с главного экрана к экрану предложения - 38%.\n",
    "* С предпоследнего шага (экран корзины) до последнего (успешная оплата) теряется 5.4% пользователей. Возможно, есть какие-то технические трудности при оплате.\n",
    "* Группы для А/А/В-тестирования были хорошо сформированы, статистической разницы не обнаружено.\n",
    "* По результатам А/А/В-теста не было выявлено различий между контрольными и эксперементальной группами, что говорит о том, что замена шрифтов никак не повлияла на пользователей."
   ]
  }
 ],
 "metadata": {
  "ExecuteTimeLog": [
   {
    "duration": 686,
    "start_time": "2022-04-06T12:50:28.799Z"
   },
   {
    "duration": 243,
    "start_time": "2022-04-06T12:50:36.146Z"
   },
   {
    "duration": 164,
    "start_time": "2022-04-06T12:51:07.461Z"
   },
   {
    "duration": 10,
    "start_time": "2022-04-06T12:51:40.547Z"
   },
   {
    "duration": 142,
    "start_time": "2022-04-06T12:51:48.764Z"
   },
   {
    "duration": 44,
    "start_time": "2022-04-07T07:31:12.121Z"
   },
   {
    "duration": 592,
    "start_time": "2022-04-07T07:31:19.415Z"
   },
   {
    "duration": 149,
    "start_time": "2022-04-07T07:31:20.009Z"
   },
   {
    "duration": 8,
    "start_time": "2022-04-07T07:31:20.163Z"
   },
   {
    "duration": 75,
    "start_time": "2022-04-07T07:31:20.172Z"
   },
   {
    "duration": 0,
    "start_time": "2022-04-07T07:31:20.248Z"
   },
   {
    "duration": 403,
    "start_time": "2022-04-07T07:32:01.630Z"
   },
   {
    "duration": 402,
    "start_time": "2022-04-07T07:33:02.445Z"
   },
   {
    "duration": 693,
    "start_time": "2022-04-07T07:33:33.465Z"
   },
   {
    "duration": 378,
    "start_time": "2022-04-07T07:33:54.499Z"
   },
   {
    "duration": 419,
    "start_time": "2022-04-07T07:34:09.862Z"
   },
   {
    "duration": 129,
    "start_time": "2022-04-07T07:38:16.627Z"
   },
   {
    "duration": 10,
    "start_time": "2022-04-07T07:42:20.922Z"
   },
   {
    "duration": 10,
    "start_time": "2022-04-07T07:42:27.667Z"
   },
   {
    "duration": 10,
    "start_time": "2022-04-07T07:42:40.131Z"
   },
   {
    "duration": 384,
    "start_time": "2022-04-07T07:44:08.571Z"
   },
   {
    "duration": 111,
    "start_time": "2022-04-07T07:49:34.543Z"
   },
   {
    "duration": 5,
    "start_time": "2022-04-07T07:50:56.695Z"
   },
   {
    "duration": 7,
    "start_time": "2022-04-07T07:51:09.287Z"
   },
   {
    "duration": 4,
    "start_time": "2022-04-07T07:51:16.627Z"
   },
   {
    "duration": 6,
    "start_time": "2022-04-07T07:52:51.979Z"
   },
   {
    "duration": 6,
    "start_time": "2022-04-07T07:53:18.020Z"
   },
   {
    "duration": 113,
    "start_time": "2022-04-07T07:58:58.307Z"
   },
   {
    "duration": 0,
    "start_time": "2022-04-07T07:58:58.422Z"
   },
   {
    "duration": 0,
    "start_time": "2022-04-07T07:58:58.423Z"
   },
   {
    "duration": 0,
    "start_time": "2022-04-07T07:58:58.424Z"
   },
   {
    "duration": 0,
    "start_time": "2022-04-07T07:58:58.425Z"
   },
   {
    "duration": 0,
    "start_time": "2022-04-07T07:58:58.426Z"
   },
   {
    "duration": 0,
    "start_time": "2022-04-07T07:58:58.427Z"
   },
   {
    "duration": 768,
    "start_time": "2022-04-07T07:59:39.066Z"
   },
   {
    "duration": 78,
    "start_time": "2022-04-07T08:01:15.677Z"
   },
   {
    "duration": 1064,
    "start_time": "2022-04-07T08:01:37.792Z"
   },
   {
    "duration": 159,
    "start_time": "2022-04-07T08:01:38.859Z"
   },
   {
    "duration": 10,
    "start_time": "2022-04-07T08:01:39.020Z"
   },
   {
    "duration": 430,
    "start_time": "2022-04-07T08:01:39.032Z"
   },
   {
    "duration": 106,
    "start_time": "2022-04-07T08:01:39.463Z"
   },
   {
    "duration": 5,
    "start_time": "2022-04-07T08:01:39.570Z"
   },
   {
    "duration": 120,
    "start_time": "2022-04-07T08:01:39.577Z"
   },
   {
    "duration": 37,
    "start_time": "2022-04-07T08:02:13.069Z"
   },
   {
    "duration": 11633,
    "start_time": "2022-04-07T08:02:23.346Z"
   },
   {
    "duration": 748,
    "start_time": "2022-04-07T08:52:29.043Z"
   },
   {
    "duration": 149,
    "start_time": "2022-04-07T08:52:29.793Z"
   },
   {
    "duration": 9,
    "start_time": "2022-04-07T08:52:29.944Z"
   },
   {
    "duration": 395,
    "start_time": "2022-04-07T08:52:29.963Z"
   },
   {
    "duration": 103,
    "start_time": "2022-04-07T08:52:30.363Z"
   },
   {
    "duration": 5,
    "start_time": "2022-04-07T08:52:30.468Z"
   },
   {
    "duration": 3,
    "start_time": "2022-04-07T08:53:22.707Z"
   },
   {
    "duration": 1275,
    "start_time": "2022-04-07T08:54:47.187Z"
   },
   {
    "duration": 147,
    "start_time": "2022-04-07T08:54:48.464Z"
   },
   {
    "duration": 10,
    "start_time": "2022-04-07T08:54:48.612Z"
   },
   {
    "duration": 401,
    "start_time": "2022-04-07T08:54:48.624Z"
   },
   {
    "duration": 105,
    "start_time": "2022-04-07T08:54:49.027Z"
   },
   {
    "duration": 5,
    "start_time": "2022-04-07T08:54:49.133Z"
   },
   {
    "duration": 10,
    "start_time": "2022-04-07T08:54:49.139Z"
   },
   {
    "duration": 94,
    "start_time": "2022-04-07T11:16:27.749Z"
   },
   {
    "duration": 1534,
    "start_time": "2022-04-07T11:21:03.252Z"
   },
   {
    "duration": 159,
    "start_time": "2022-04-07T11:21:04.788Z"
   },
   {
    "duration": 15,
    "start_time": "2022-04-07T11:21:04.948Z"
   },
   {
    "duration": 424,
    "start_time": "2022-04-07T11:21:04.965Z"
   },
   {
    "duration": 112,
    "start_time": "2022-04-07T11:21:05.391Z"
   },
   {
    "duration": 6,
    "start_time": "2022-04-07T11:21:05.505Z"
   },
   {
    "duration": 6,
    "start_time": "2022-04-07T11:21:05.513Z"
   },
   {
    "duration": 57,
    "start_time": "2022-04-07T11:21:05.521Z"
   },
   {
    "duration": 33,
    "start_time": "2022-04-07T11:21:15.314Z"
   },
   {
    "duration": 120,
    "start_time": "2022-04-07T11:22:04.805Z"
   },
   {
    "duration": 32,
    "start_time": "2022-04-07T11:22:15.070Z"
   },
   {
    "duration": 40,
    "start_time": "2022-04-07T11:22:33.165Z"
   },
   {
    "duration": 129,
    "start_time": "2022-04-07T11:23:14.230Z"
   },
   {
    "duration": 242,
    "start_time": "2022-04-07T11:23:21.689Z"
   },
   {
    "duration": 9,
    "start_time": "2022-04-07T11:23:43.935Z"
   },
   {
    "duration": 167,
    "start_time": "2022-04-07T11:23:53.291Z"
   },
   {
    "duration": 401,
    "start_time": "2022-04-07T11:24:41.670Z"
   },
   {
    "duration": 329,
    "start_time": "2022-04-07T11:24:51.139Z"
   },
   {
    "duration": 33,
    "start_time": "2022-04-07T11:25:58.410Z"
   },
   {
    "duration": 297,
    "start_time": "2022-04-07T11:26:44.877Z"
   },
   {
    "duration": 315,
    "start_time": "2022-04-07T11:26:57.550Z"
   },
   {
    "duration": 347,
    "start_time": "2022-04-07T11:28:28.702Z"
   },
   {
    "duration": 328,
    "start_time": "2022-04-07T11:29:15.345Z"
   },
   {
    "duration": 1390,
    "start_time": "2022-04-07T11:29:20.729Z"
   },
   {
    "duration": 156,
    "start_time": "2022-04-07T11:29:22.121Z"
   },
   {
    "duration": 11,
    "start_time": "2022-04-07T11:29:22.278Z"
   },
   {
    "duration": 414,
    "start_time": "2022-04-07T11:29:22.290Z"
   },
   {
    "duration": 113,
    "start_time": "2022-04-07T11:29:22.705Z"
   },
   {
    "duration": 6,
    "start_time": "2022-04-07T11:29:22.819Z"
   },
   {
    "duration": 420,
    "start_time": "2022-04-07T11:29:22.826Z"
   },
   {
    "duration": 37,
    "start_time": "2022-04-07T11:29:23.247Z"
   },
   {
    "duration": 187,
    "start_time": "2022-04-07T11:31:47.452Z"
   },
   {
    "duration": 500,
    "start_time": "2022-04-07T11:32:18.071Z"
   },
   {
    "duration": 442,
    "start_time": "2022-04-07T11:32:57.785Z"
   },
   {
    "duration": 450,
    "start_time": "2022-04-07T11:33:03.668Z"
   },
   {
    "duration": 580,
    "start_time": "2022-04-07T11:33:31.714Z"
   },
   {
    "duration": 457,
    "start_time": "2022-04-07T11:34:04.010Z"
   },
   {
    "duration": 444,
    "start_time": "2022-04-07T11:34:18.171Z"
   },
   {
    "duration": 453,
    "start_time": "2022-04-07T11:34:22.964Z"
   },
   {
    "duration": 537,
    "start_time": "2022-04-07T11:34:26.042Z"
   },
   {
    "duration": 446,
    "start_time": "2022-04-07T11:35:06.745Z"
   },
   {
    "duration": 1646,
    "start_time": "2022-04-07T11:35:19.004Z"
   },
   {
    "duration": 1363,
    "start_time": "2022-04-07T11:36:15.922Z"
   },
   {
    "duration": 1446,
    "start_time": "2022-04-07T11:36:23.343Z"
   },
   {
    "duration": 440,
    "start_time": "2022-04-07T11:38:55.100Z"
   },
   {
    "duration": 432,
    "start_time": "2022-04-07T11:39:02.914Z"
   },
   {
    "duration": 446,
    "start_time": "2022-04-07T11:39:22.403Z"
   },
   {
    "duration": 463,
    "start_time": "2022-04-07T11:39:36.925Z"
   },
   {
    "duration": 260,
    "start_time": "2022-04-07T11:40:59.417Z"
   },
   {
    "duration": 304,
    "start_time": "2022-04-07T11:42:08.899Z"
   },
   {
    "duration": 404,
    "start_time": "2022-04-07T11:42:24.362Z"
   },
   {
    "duration": 650,
    "start_time": "2022-04-07T11:45:27.095Z"
   },
   {
    "duration": 642,
    "start_time": "2022-04-07T11:49:02.152Z"
   },
   {
    "duration": 5,
    "start_time": "2022-04-07T11:49:46.191Z"
   },
   {
    "duration": 121,
    "start_time": "2022-04-07T11:50:05.426Z"
   },
   {
    "duration": 327,
    "start_time": "2022-04-07T11:54:29.613Z"
   },
   {
    "duration": 335,
    "start_time": "2022-04-07T11:54:34.266Z"
   },
   {
    "duration": 18,
    "start_time": "2022-04-07T12:07:12.388Z"
   },
   {
    "duration": 74,
    "start_time": "2022-04-07T12:08:02.782Z"
   },
   {
    "duration": 55,
    "start_time": "2022-04-07T12:08:18.965Z"
   },
   {
    "duration": 615,
    "start_time": "2022-04-07T12:08:42.013Z"
   },
   {
    "duration": 10,
    "start_time": "2022-04-07T12:13:25.560Z"
   },
   {
    "duration": 1951,
    "start_time": "2022-04-07T12:13:59.440Z"
   },
   {
    "duration": 117,
    "start_time": "2022-04-07T12:14:06.995Z"
   },
   {
    "duration": 69,
    "start_time": "2022-04-07T12:14:55.222Z"
   },
   {
    "duration": 107,
    "start_time": "2022-04-07T12:15:10.669Z"
   },
   {
    "duration": 32,
    "start_time": "2022-04-07T12:15:36.611Z"
   },
   {
    "duration": 21,
    "start_time": "2022-04-07T12:15:57.200Z"
   },
   {
    "duration": 547,
    "start_time": "2022-04-07T12:17:46.224Z"
   },
   {
    "duration": 448,
    "start_time": "2022-04-07T12:17:57.341Z"
   },
   {
    "duration": 29,
    "start_time": "2022-04-07T12:20:15.418Z"
   },
   {
    "duration": 210,
    "start_time": "2022-04-07T12:21:08.211Z"
   },
   {
    "duration": 1389,
    "start_time": "2022-04-07T12:21:15.910Z"
   },
   {
    "duration": 179,
    "start_time": "2022-04-07T12:21:17.300Z"
   },
   {
    "duration": 11,
    "start_time": "2022-04-07T12:21:17.481Z"
   },
   {
    "duration": 436,
    "start_time": "2022-04-07T12:21:17.494Z"
   },
   {
    "duration": 33,
    "start_time": "2022-04-07T12:21:17.931Z"
   },
   {
    "duration": 7,
    "start_time": "2022-04-07T12:21:17.966Z"
   },
   {
    "duration": 442,
    "start_time": "2022-04-07T12:21:17.975Z"
   },
   {
    "duration": 29,
    "start_time": "2022-04-07T12:21:18.418Z"
   },
   {
    "duration": 189,
    "start_time": "2022-04-07T12:21:49.651Z"
   },
   {
    "duration": 620,
    "start_time": "2022-04-07T12:22:50.989Z"
   },
   {
    "duration": 35,
    "start_time": "2022-04-07T12:27:11.627Z"
   },
   {
    "duration": 29,
    "start_time": "2022-04-07T12:27:21.156Z"
   },
   {
    "duration": 19,
    "start_time": "2022-04-07T12:30:32.481Z"
   },
   {
    "duration": 33,
    "start_time": "2022-04-07T12:32:07.847Z"
   },
   {
    "duration": 30,
    "start_time": "2022-04-07T12:32:39.729Z"
   },
   {
    "duration": 33,
    "start_time": "2022-04-07T12:33:01.672Z"
   },
   {
    "duration": 30,
    "start_time": "2022-04-07T12:33:26.462Z"
   },
   {
    "duration": 31,
    "start_time": "2022-04-07T12:33:48.254Z"
   },
   {
    "duration": 21,
    "start_time": "2022-04-07T12:35:37.869Z"
   },
   {
    "duration": 1861,
    "start_time": "2022-04-07T12:38:00.468Z"
   },
   {
    "duration": 31,
    "start_time": "2022-04-07T12:38:27.633Z"
   },
   {
    "duration": 25,
    "start_time": "2022-04-07T12:40:35.615Z"
   },
   {
    "duration": 22,
    "start_time": "2022-04-07T12:40:43.465Z"
   },
   {
    "duration": 29,
    "start_time": "2022-04-07T12:40:59.418Z"
   },
   {
    "duration": 23,
    "start_time": "2022-04-07T12:41:16.246Z"
   },
   {
    "duration": 33,
    "start_time": "2022-04-07T12:41:35.375Z"
   },
   {
    "duration": 23,
    "start_time": "2022-04-07T12:41:47.755Z"
   },
   {
    "duration": 27,
    "start_time": "2022-04-07T12:42:05.107Z"
   },
   {
    "duration": 25,
    "start_time": "2022-04-07T12:42:14.800Z"
   },
   {
    "duration": 26,
    "start_time": "2022-04-07T12:42:25.596Z"
   },
   {
    "duration": 23,
    "start_time": "2022-04-07T12:42:48.551Z"
   },
   {
    "duration": 29,
    "start_time": "2022-04-07T12:43:04.226Z"
   },
   {
    "duration": 31,
    "start_time": "2022-04-07T12:44:24.745Z"
   },
   {
    "duration": 30,
    "start_time": "2022-04-07T12:45:09.635Z"
   },
   {
    "duration": 27,
    "start_time": "2022-04-07T12:48:51.605Z"
   },
   {
    "duration": 31,
    "start_time": "2022-04-07T12:49:03.898Z"
   },
   {
    "duration": 22,
    "start_time": "2022-04-07T12:49:42.752Z"
   },
   {
    "duration": 26,
    "start_time": "2022-04-07T12:49:53.595Z"
   },
   {
    "duration": 26,
    "start_time": "2022-04-07T12:50:37.823Z"
   },
   {
    "duration": 23,
    "start_time": "2022-04-07T12:50:58.872Z"
   },
   {
    "duration": 23,
    "start_time": "2022-04-07T12:51:14.700Z"
   },
   {
    "duration": 25,
    "start_time": "2022-04-07T12:55:03.356Z"
   },
   {
    "duration": 26,
    "start_time": "2022-04-07T12:55:42.682Z"
   },
   {
    "duration": 25,
    "start_time": "2022-04-07T12:55:52.654Z"
   },
   {
    "duration": 25,
    "start_time": "2022-04-07T12:56:29.443Z"
   },
   {
    "duration": 824,
    "start_time": "2022-04-07T12:59:32.517Z"
   },
   {
    "duration": 1373,
    "start_time": "2022-04-07T12:59:38.931Z"
   },
   {
    "duration": 162,
    "start_time": "2022-04-07T12:59:40.306Z"
   },
   {
    "duration": 10,
    "start_time": "2022-04-07T12:59:40.471Z"
   },
   {
    "duration": 420,
    "start_time": "2022-04-07T12:59:40.483Z"
   },
   {
    "duration": 22,
    "start_time": "2022-04-07T12:59:40.904Z"
   },
   {
    "duration": 5,
    "start_time": "2022-04-07T12:59:40.928Z"
   },
   {
    "duration": 419,
    "start_time": "2022-04-07T12:59:40.934Z"
   },
   {
    "duration": 48,
    "start_time": "2022-04-07T12:59:41.355Z"
   },
   {
    "duration": 25,
    "start_time": "2022-04-07T12:59:41.405Z"
   },
   {
    "duration": 179,
    "start_time": "2022-04-07T12:59:41.431Z"
   },
   {
    "duration": 109,
    "start_time": "2022-04-07T13:00:21.043Z"
   },
   {
    "duration": 13,
    "start_time": "2022-04-07T13:01:08.289Z"
   },
   {
    "duration": 13,
    "start_time": "2022-04-07T13:03:39.999Z"
   },
   {
    "duration": 72,
    "start_time": "2022-04-07T16:04:31.314Z"
   },
   {
    "duration": 2050,
    "start_time": "2022-04-07T16:04:39.910Z"
   },
   {
    "duration": 224,
    "start_time": "2022-04-07T16:04:41.964Z"
   },
   {
    "duration": 16,
    "start_time": "2022-04-07T16:04:42.191Z"
   },
   {
    "duration": 782,
    "start_time": "2022-04-07T16:04:42.210Z"
   },
   {
    "duration": 49,
    "start_time": "2022-04-07T16:04:42.994Z"
   },
   {
    "duration": 7,
    "start_time": "2022-04-07T16:04:43.045Z"
   },
   {
    "duration": 697,
    "start_time": "2022-04-07T16:04:43.054Z"
   },
   {
    "duration": 58,
    "start_time": "2022-04-07T16:04:43.753Z"
   },
   {
    "duration": 54,
    "start_time": "2022-04-07T16:04:43.813Z"
   },
   {
    "duration": 129,
    "start_time": "2022-04-07T16:04:43.870Z"
   },
   {
    "duration": 207,
    "start_time": "2022-04-07T16:04:44.001Z"
   },
   {
    "duration": 231,
    "start_time": "2022-04-07T16:04:59.653Z"
   },
   {
    "duration": 89,
    "start_time": "2022-04-07T16:05:06.669Z"
   },
   {
    "duration": 80,
    "start_time": "2022-04-07T16:06:16.089Z"
   },
   {
    "duration": 87,
    "start_time": "2022-04-07T16:06:25.446Z"
   },
   {
    "duration": 90,
    "start_time": "2022-04-07T16:08:06.938Z"
   },
   {
    "duration": 96,
    "start_time": "2022-04-07T16:08:26.008Z"
   },
   {
    "duration": 91,
    "start_time": "2022-04-07T16:08:32.230Z"
   },
   {
    "duration": 89,
    "start_time": "2022-04-07T16:08:46.833Z"
   },
   {
    "duration": 91,
    "start_time": "2022-04-07T16:09:00.918Z"
   },
   {
    "duration": 89,
    "start_time": "2022-04-07T16:09:18.361Z"
   },
   {
    "duration": 34,
    "start_time": "2022-04-07T16:09:30.325Z"
   },
   {
    "duration": 95,
    "start_time": "2022-04-07T16:16:14.911Z"
   },
   {
    "duration": 95,
    "start_time": "2022-04-07T16:16:50.186Z"
   },
   {
    "duration": 93,
    "start_time": "2022-04-07T16:21:07.153Z"
   },
   {
    "duration": 76,
    "start_time": "2022-04-07T17:25:43.584Z"
   },
   {
    "duration": 15,
    "start_time": "2022-04-07T17:25:56.330Z"
   },
   {
    "duration": 13,
    "start_time": "2022-04-07T20:02:41.051Z"
   },
   {
    "duration": 1808,
    "start_time": "2022-04-07T20:02:54.178Z"
   },
   {
    "duration": 249,
    "start_time": "2022-04-07T20:02:55.989Z"
   },
   {
    "duration": 16,
    "start_time": "2022-04-07T20:02:56.241Z"
   },
   {
    "duration": 836,
    "start_time": "2022-04-07T20:02:56.259Z"
   },
   {
    "duration": 53,
    "start_time": "2022-04-07T20:02:57.098Z"
   },
   {
    "duration": 8,
    "start_time": "2022-04-07T20:02:57.153Z"
   },
   {
    "duration": 731,
    "start_time": "2022-04-07T20:02:57.163Z"
   },
   {
    "duration": 87,
    "start_time": "2022-04-07T20:02:57.897Z"
   },
   {
    "duration": 72,
    "start_time": "2022-04-07T20:02:57.987Z"
   },
   {
    "duration": 145,
    "start_time": "2022-04-07T20:02:58.061Z"
   },
   {
    "duration": 219,
    "start_time": "2022-04-07T20:02:58.208Z"
   },
   {
    "duration": 2877,
    "start_time": "2022-04-07T20:09:37.277Z"
   },
   {
    "duration": 16,
    "start_time": "2022-04-07T20:10:08.491Z"
   },
   {
    "duration": 14,
    "start_time": "2022-04-07T21:21:42.972Z"
   },
   {
    "duration": 91,
    "start_time": "2022-04-07T21:22:26.473Z"
   },
   {
    "duration": 15,
    "start_time": "2022-04-07T21:22:28.431Z"
   },
   {
    "duration": 101,
    "start_time": "2022-04-07T21:22:55.160Z"
   },
   {
    "duration": 13,
    "start_time": "2022-04-07T21:23:32.375Z"
   },
   {
    "duration": 16,
    "start_time": "2022-04-07T21:23:42.788Z"
   },
   {
    "duration": 4,
    "start_time": "2022-04-07T22:01:06.948Z"
   },
   {
    "duration": 79,
    "start_time": "2022-04-07T22:02:00.886Z"
   },
   {
    "duration": 73,
    "start_time": "2022-04-07T22:02:13.739Z"
   },
   {
    "duration": 68,
    "start_time": "2022-04-07T22:04:06.454Z"
   },
   {
    "duration": 74,
    "start_time": "2022-04-07T22:04:12.829Z"
   },
   {
    "duration": 74,
    "start_time": "2022-04-07T22:04:34.743Z"
   },
   {
    "duration": 78,
    "start_time": "2022-04-07T22:05:57.701Z"
   },
   {
    "duration": 82,
    "start_time": "2022-04-07T22:06:11.684Z"
   },
   {
    "duration": 78,
    "start_time": "2022-04-07T22:06:29.197Z"
   },
   {
    "duration": 2691,
    "start_time": "2022-04-07T22:07:35.169Z"
   },
   {
    "duration": 3197,
    "start_time": "2022-04-08T07:33:48.530Z"
   },
   {
    "duration": 1966,
    "start_time": "2022-04-08T07:33:56.704Z"
   },
   {
    "duration": 229,
    "start_time": "2022-04-08T07:33:58.673Z"
   },
   {
    "duration": 15,
    "start_time": "2022-04-08T07:33:58.904Z"
   },
   {
    "duration": 808,
    "start_time": "2022-04-08T07:33:58.922Z"
   },
   {
    "duration": 45,
    "start_time": "2022-04-08T07:33:59.732Z"
   },
   {
    "duration": 8,
    "start_time": "2022-04-08T07:33:59.779Z"
   },
   {
    "duration": 728,
    "start_time": "2022-04-08T07:33:59.790Z"
   },
   {
    "duration": 72,
    "start_time": "2022-04-08T07:34:00.521Z"
   },
   {
    "duration": 50,
    "start_time": "2022-04-08T07:34:00.595Z"
   },
   {
    "duration": 147,
    "start_time": "2022-04-08T07:34:00.649Z"
   },
   {
    "duration": 209,
    "start_time": "2022-04-08T07:34:00.799Z"
   },
   {
    "duration": 3470,
    "start_time": "2022-04-08T07:34:01.010Z"
   },
   {
    "duration": 83,
    "start_time": "2022-04-08T07:36:16.730Z"
   },
   {
    "duration": 80,
    "start_time": "2022-04-08T07:37:58.721Z"
   },
   {
    "duration": 15,
    "start_time": "2022-04-08T07:45:57.495Z"
   },
   {
    "duration": 21,
    "start_time": "2022-04-08T07:50:57.279Z"
   },
   {
    "duration": 17,
    "start_time": "2022-04-08T07:51:13.127Z"
   },
   {
    "duration": 31,
    "start_time": "2022-04-08T07:53:32.137Z"
   },
   {
    "duration": 26,
    "start_time": "2022-04-08T07:53:46.540Z"
   },
   {
    "duration": 28,
    "start_time": "2022-04-08T07:54:25.622Z"
   },
   {
    "duration": 21,
    "start_time": "2022-04-08T07:55:44.711Z"
   },
   {
    "duration": 14,
    "start_time": "2022-04-08T08:02:10.690Z"
   },
   {
    "duration": 26,
    "start_time": "2022-04-08T08:02:42.576Z"
   },
   {
    "duration": 21,
    "start_time": "2022-04-08T08:02:50.460Z"
   },
   {
    "duration": 63,
    "start_time": "2022-04-08T08:03:15.515Z"
   },
   {
    "duration": 64,
    "start_time": "2022-04-08T08:03:25.141Z"
   },
   {
    "duration": 65,
    "start_time": "2022-04-08T08:03:57.308Z"
   },
   {
    "duration": 4,
    "start_time": "2022-04-08T08:05:33.324Z"
   },
   {
    "duration": 10,
    "start_time": "2022-04-08T08:13:29.149Z"
   },
   {
    "duration": 10,
    "start_time": "2022-04-08T08:13:54.402Z"
   },
   {
    "duration": 9,
    "start_time": "2022-04-08T08:14:04.874Z"
   },
   {
    "duration": 3162,
    "start_time": "2022-04-08T08:14:11.152Z"
   },
   {
    "duration": 8,
    "start_time": "2022-04-08T08:14:16.384Z"
   },
   {
    "duration": 8,
    "start_time": "2022-04-08T08:14:37.160Z"
   },
   {
    "duration": 9,
    "start_time": "2022-04-08T08:16:05.868Z"
   },
   {
    "duration": 9,
    "start_time": "2022-04-08T08:16:20.519Z"
   },
   {
    "duration": 10,
    "start_time": "2022-04-08T08:17:36.959Z"
   },
   {
    "duration": 10,
    "start_time": "2022-04-08T08:17:44.368Z"
   },
   {
    "duration": 11,
    "start_time": "2022-04-08T08:17:58.424Z"
   },
   {
    "duration": 11,
    "start_time": "2022-04-08T08:18:22.029Z"
   },
   {
    "duration": 13,
    "start_time": "2022-04-08T08:20:22.956Z"
   },
   {
    "duration": 2483,
    "start_time": "2022-04-08T08:20:30.314Z"
   },
   {
    "duration": 229,
    "start_time": "2022-04-08T08:20:32.800Z"
   },
   {
    "duration": 24,
    "start_time": "2022-04-08T08:20:33.031Z"
   },
   {
    "duration": 821,
    "start_time": "2022-04-08T08:20:33.057Z"
   },
   {
    "duration": 33,
    "start_time": "2022-04-08T08:20:33.881Z"
   },
   {
    "duration": 50,
    "start_time": "2022-04-08T08:20:33.916Z"
   },
   {
    "duration": 859,
    "start_time": "2022-04-08T08:20:33.968Z"
   },
   {
    "duration": 71,
    "start_time": "2022-04-08T08:20:34.829Z"
   },
   {
    "duration": 57,
    "start_time": "2022-04-08T08:20:34.902Z"
   },
   {
    "duration": 152,
    "start_time": "2022-04-08T08:20:34.961Z"
   },
   {
    "duration": 227,
    "start_time": "2022-04-08T08:20:35.115Z"
   },
   {
    "duration": 139,
    "start_time": "2022-04-08T08:20:35.344Z"
   },
   {
    "duration": 65,
    "start_time": "2022-04-08T08:20:35.485Z"
   },
   {
    "duration": 106,
    "start_time": "2022-04-08T08:20:35.554Z"
   },
   {
    "duration": 11,
    "start_time": "2022-04-08T08:20:35.662Z"
   },
   {
    "duration": 214,
    "start_time": "2022-04-08T08:20:35.675Z"
   },
   {
    "duration": 19,
    "start_time": "2022-04-08T08:21:08.266Z"
   },
   {
    "duration": 12,
    "start_time": "2022-04-08T08:21:43.542Z"
   },
   {
    "duration": 6,
    "start_time": "2022-04-08T08:22:17.516Z"
   },
   {
    "duration": 18,
    "start_time": "2022-04-08T08:24:13.780Z"
   },
   {
    "duration": 11,
    "start_time": "2022-04-08T08:26:45.904Z"
   },
   {
    "duration": 6,
    "start_time": "2022-04-08T08:26:48.177Z"
   },
   {
    "duration": 15,
    "start_time": "2022-04-08T08:27:09.492Z"
   },
   {
    "duration": 16,
    "start_time": "2022-04-08T08:36:40.117Z"
   },
   {
    "duration": 58,
    "start_time": "2022-04-08T20:20:59.508Z"
   },
   {
    "duration": 72,
    "start_time": "2022-04-08T20:21:05.571Z"
   },
   {
    "duration": 75,
    "start_time": "2022-04-08T20:33:34.759Z"
   },
   {
    "duration": 68,
    "start_time": "2022-04-08T20:33:45.192Z"
   },
   {
    "duration": 103,
    "start_time": "2022-04-08T20:34:02.891Z"
   },
   {
    "duration": 2083,
    "start_time": "2022-04-08T20:38:46.190Z"
   },
   {
    "duration": 98,
    "start_time": "2022-04-08T20:39:35.039Z"
   },
   {
    "duration": 109,
    "start_time": "2022-04-08T20:39:39.533Z"
   },
   {
    "duration": 2090,
    "start_time": "2022-04-08T20:39:53.294Z"
   },
   {
    "duration": 102,
    "start_time": "2022-04-08T20:40:00.248Z"
   },
   {
    "duration": 5025,
    "start_time": "2022-04-08T20:40:19.358Z"
   },
   {
    "duration": 103,
    "start_time": "2022-04-08T20:40:36.169Z"
   },
   {
    "duration": 105,
    "start_time": "2022-04-08T20:41:04.164Z"
   },
   {
    "duration": 2772,
    "start_time": "2022-04-08T20:41:10.467Z"
   },
   {
    "duration": 115,
    "start_time": "2022-04-08T20:41:25.060Z"
   },
   {
    "duration": 110,
    "start_time": "2022-04-08T20:41:32.719Z"
   },
   {
    "duration": 15,
    "start_time": "2022-04-08T20:42:01.404Z"
   },
   {
    "duration": 5,
    "start_time": "2022-04-08T20:42:11.896Z"
   },
   {
    "duration": 115,
    "start_time": "2022-04-08T20:42:28.404Z"
   },
   {
    "duration": 113,
    "start_time": "2022-04-08T20:42:39.348Z"
   },
   {
    "duration": 759,
    "start_time": "2022-04-08T20:44:11.759Z"
   },
   {
    "duration": 111,
    "start_time": "2022-04-08T20:44:39.377Z"
   },
   {
    "duration": 6,
    "start_time": "2022-04-08T20:44:43.545Z"
   },
   {
    "duration": 113,
    "start_time": "2022-04-08T20:44:56.857Z"
   },
   {
    "duration": 47,
    "start_time": "2022-04-09T08:55:24.466Z"
   },
   {
    "duration": 49,
    "start_time": "2022-04-09T08:55:32.663Z"
   },
   {
    "duration": 56,
    "start_time": "2022-04-09T08:58:17.218Z"
   },
   {
    "duration": 50,
    "start_time": "2022-04-09T08:59:12.475Z"
   },
   {
    "duration": 50,
    "start_time": "2022-04-09T09:14:03.112Z"
   },
   {
    "duration": 12,
    "start_time": "2022-04-09T09:14:04.267Z"
   },
   {
    "duration": 9,
    "start_time": "2022-04-09T09:14:47.303Z"
   },
   {
    "duration": 114,
    "start_time": "2022-04-09T09:15:08.689Z"
   },
   {
    "duration": 116,
    "start_time": "2022-04-09T09:15:32.517Z"
   },
   {
    "duration": 112,
    "start_time": "2022-04-09T09:15:43.917Z"
   },
   {
    "duration": 191,
    "start_time": "2022-04-09T09:21:54.369Z"
   },
   {
    "duration": 15,
    "start_time": "2022-04-09T09:22:26.118Z"
   },
   {
    "duration": 174,
    "start_time": "2022-04-09T09:27:55.995Z"
   },
   {
    "duration": 16,
    "start_time": "2022-04-09T09:28:19.769Z"
   },
   {
    "duration": 15,
    "start_time": "2022-04-09T10:06:27.652Z"
   },
   {
    "duration": 12,
    "start_time": "2022-04-09T10:07:23.669Z"
   },
   {
    "duration": 2087,
    "start_time": "2022-04-09T10:08:00.024Z"
   },
   {
    "duration": 12,
    "start_time": "2022-04-09T10:10:20.297Z"
   },
   {
    "duration": 2261,
    "start_time": "2022-04-09T10:10:44.202Z"
   },
   {
    "duration": 111,
    "start_time": "2022-04-09T10:10:58.204Z"
   },
   {
    "duration": 13,
    "start_time": "2022-04-09T10:11:01.758Z"
   },
   {
    "duration": 15,
    "start_time": "2022-04-09T10:11:25.978Z"
   },
   {
    "duration": 116,
    "start_time": "2022-04-09T10:11:46.138Z"
   },
   {
    "duration": 53,
    "start_time": "2022-04-09T10:11:52.462Z"
   },
   {
    "duration": 49,
    "start_time": "2022-04-09T10:12:17.212Z"
   },
   {
    "duration": 45,
    "start_time": "2022-04-09T10:12:53.791Z"
   },
   {
    "duration": 50,
    "start_time": "2022-04-09T10:13:16.843Z"
   },
   {
    "duration": 51,
    "start_time": "2022-04-09T10:13:41.453Z"
   },
   {
    "duration": 48,
    "start_time": "2022-04-09T10:13:50.114Z"
   },
   {
    "duration": 47,
    "start_time": "2022-04-09T10:14:47.718Z"
   },
   {
    "duration": 50,
    "start_time": "2022-04-09T10:15:23.012Z"
   },
   {
    "duration": 50,
    "start_time": "2022-04-09T10:15:27.960Z"
   },
   {
    "duration": 48,
    "start_time": "2022-04-09T10:15:30.774Z"
   },
   {
    "duration": 47,
    "start_time": "2022-04-09T10:15:49.481Z"
   },
   {
    "duration": 109,
    "start_time": "2022-04-09T10:16:10.076Z"
   },
   {
    "duration": 11,
    "start_time": "2022-04-09T10:16:13.714Z"
   },
   {
    "duration": 15,
    "start_time": "2022-04-09T10:16:22.247Z"
   },
   {
    "duration": 2110,
    "start_time": "2022-04-09T10:16:25.784Z"
   },
   {
    "duration": 108,
    "start_time": "2022-04-09T10:17:08.466Z"
   },
   {
    "duration": 12,
    "start_time": "2022-04-09T10:17:12.277Z"
   },
   {
    "duration": 12,
    "start_time": "2022-04-09T10:17:23.652Z"
   },
   {
    "duration": 15,
    "start_time": "2022-04-09T10:17:32.944Z"
   },
   {
    "duration": 17,
    "start_time": "2022-04-09T10:18:25.557Z"
   },
   {
    "duration": 18,
    "start_time": "2022-04-09T10:18:55.419Z"
   },
   {
    "duration": 1775,
    "start_time": "2022-04-09T10:19:04.058Z"
   },
   {
    "duration": 237,
    "start_time": "2022-04-09T10:19:05.837Z"
   },
   {
    "duration": 16,
    "start_time": "2022-04-09T10:19:06.076Z"
   },
   {
    "duration": 868,
    "start_time": "2022-04-09T10:19:06.094Z"
   },
   {
    "duration": 36,
    "start_time": "2022-04-09T10:19:06.965Z"
   },
   {
    "duration": 8,
    "start_time": "2022-04-09T10:19:07.003Z"
   },
   {
    "duration": 759,
    "start_time": "2022-04-09T10:19:07.013Z"
   },
   {
    "duration": 77,
    "start_time": "2022-04-09T10:19:07.774Z"
   },
   {
    "duration": 35,
    "start_time": "2022-04-09T10:19:07.853Z"
   },
   {
    "duration": 149,
    "start_time": "2022-04-09T10:19:07.890Z"
   },
   {
    "duration": 208,
    "start_time": "2022-04-09T10:19:08.044Z"
   },
   {
    "duration": 138,
    "start_time": "2022-04-09T10:19:08.255Z"
   },
   {
    "duration": 16,
    "start_time": "2022-04-09T10:19:08.443Z"
   },
   {
    "duration": 59,
    "start_time": "2022-04-09T10:19:08.462Z"
   },
   {
    "duration": 2874,
    "start_time": "2022-04-09T10:19:08.543Z"
   },
   {
    "duration": 1,
    "start_time": "2022-04-09T10:19:11.419Z"
   },
   {
    "duration": 0,
    "start_time": "2022-04-09T10:19:11.421Z"
   },
   {
    "duration": 0,
    "start_time": "2022-04-09T10:19:11.423Z"
   },
   {
    "duration": 0,
    "start_time": "2022-04-09T10:19:11.425Z"
   },
   {
    "duration": 3304,
    "start_time": "2022-04-09T10:19:46.941Z"
   },
   {
    "duration": 4672,
    "start_time": "2022-04-09T10:20:15.308Z"
   },
   {
    "duration": 2971,
    "start_time": "2022-04-09T10:20:33.902Z"
   },
   {
    "duration": 6,
    "start_time": "2022-04-09T10:20:46.168Z"
   },
   {
    "duration": 3235,
    "start_time": "2022-04-09T10:21:02.996Z"
   },
   {
    "duration": 2937,
    "start_time": "2022-04-09T10:21:13.943Z"
   },
   {
    "duration": 7,
    "start_time": "2022-04-09T10:22:02.245Z"
   },
   {
    "duration": 3103,
    "start_time": "2022-04-09T10:22:29.474Z"
   },
   {
    "duration": 2623,
    "start_time": "2022-04-09T10:22:38.149Z"
   },
   {
    "duration": 2720,
    "start_time": "2022-04-09T10:22:51.009Z"
   },
   {
    "duration": 44,
    "start_time": "2022-04-09T10:23:57.965Z"
   },
   {
    "duration": 16,
    "start_time": "2022-04-09T10:24:31.459Z"
   },
   {
    "duration": 102,
    "start_time": "2022-04-09T10:24:37.975Z"
   },
   {
    "duration": 11,
    "start_time": "2022-04-09T10:26:03.740Z"
   },
   {
    "duration": 16,
    "start_time": "2022-04-09T10:26:35.172Z"
   },
   {
    "duration": 18,
    "start_time": "2022-04-09T10:26:38.422Z"
   },
   {
    "duration": 18,
    "start_time": "2022-04-09T10:27:18.385Z"
   },
   {
    "duration": 1742,
    "start_time": "2022-04-09T10:28:06.943Z"
   },
   {
    "duration": 220,
    "start_time": "2022-04-09T10:28:08.688Z"
   },
   {
    "duration": 15,
    "start_time": "2022-04-09T10:28:08.910Z"
   },
   {
    "duration": 816,
    "start_time": "2022-04-09T10:28:08.927Z"
   },
   {
    "duration": 33,
    "start_time": "2022-04-09T10:28:09.745Z"
   },
   {
    "duration": 7,
    "start_time": "2022-04-09T10:28:09.780Z"
   },
   {
    "duration": 748,
    "start_time": "2022-04-09T10:28:09.789Z"
   },
   {
    "duration": 58,
    "start_time": "2022-04-09T10:28:10.543Z"
   },
   {
    "duration": 48,
    "start_time": "2022-04-09T10:28:10.603Z"
   },
   {
    "duration": 138,
    "start_time": "2022-04-09T10:28:10.653Z"
   },
   {
    "duration": 203,
    "start_time": "2022-04-09T10:28:10.794Z"
   },
   {
    "duration": 169,
    "start_time": "2022-04-09T10:28:10.999Z"
   },
   {
    "duration": 17,
    "start_time": "2022-04-09T10:28:11.171Z"
   },
   {
    "duration": 88,
    "start_time": "2022-04-09T10:28:11.193Z"
   },
   {
    "duration": 12,
    "start_time": "2022-04-09T10:28:11.283Z"
   },
   {
    "duration": 121,
    "start_time": "2022-04-09T10:28:11.297Z"
   },
   {
    "duration": 10,
    "start_time": "2022-04-09T10:28:11.421Z"
   },
   {
    "duration": 178,
    "start_time": "2022-04-09T10:28:11.444Z"
   },
   {
    "duration": 0,
    "start_time": "2022-04-09T10:28:11.624Z"
   },
   {
    "duration": 1692,
    "start_time": "2022-04-09T10:28:56.072Z"
   },
   {
    "duration": 217,
    "start_time": "2022-04-09T10:28:57.767Z"
   },
   {
    "duration": 16,
    "start_time": "2022-04-09T10:28:57.986Z"
   },
   {
    "duration": 809,
    "start_time": "2022-04-09T10:28:58.004Z"
   },
   {
    "duration": 43,
    "start_time": "2022-04-09T10:28:58.816Z"
   },
   {
    "duration": 7,
    "start_time": "2022-04-09T10:28:58.861Z"
   },
   {
    "duration": 761,
    "start_time": "2022-04-09T10:28:58.870Z"
   },
   {
    "duration": 68,
    "start_time": "2022-04-09T10:28:59.633Z"
   },
   {
    "duration": 50,
    "start_time": "2022-04-09T10:28:59.703Z"
   },
   {
    "duration": 145,
    "start_time": "2022-04-09T10:28:59.755Z"
   },
   {
    "duration": 215,
    "start_time": "2022-04-09T10:28:59.901Z"
   },
   {
    "duration": 148,
    "start_time": "2022-04-09T10:29:00.118Z"
   },
   {
    "duration": 16,
    "start_time": "2022-04-09T10:29:00.268Z"
   },
   {
    "duration": 98,
    "start_time": "2022-04-09T10:29:00.288Z"
   },
   {
    "duration": 12,
    "start_time": "2022-04-09T10:29:00.388Z"
   },
   {
    "duration": 128,
    "start_time": "2022-04-09T10:29:00.402Z"
   },
   {
    "duration": 16,
    "start_time": "2022-04-09T10:29:00.533Z"
   },
   {
    "duration": 170,
    "start_time": "2022-04-09T10:29:00.552Z"
   },
   {
    "duration": 0,
    "start_time": "2022-04-09T10:29:00.724Z"
   },
   {
    "duration": 10,
    "start_time": "2022-04-09T10:33:44.204Z"
   },
   {
    "duration": 7,
    "start_time": "2022-04-09T10:34:26.857Z"
   },
   {
    "duration": 6,
    "start_time": "2022-04-09T10:34:36.926Z"
   },
   {
    "duration": 7,
    "start_time": "2022-04-09T10:35:00.989Z"
   },
   {
    "duration": 16,
    "start_time": "2022-04-09T10:36:09.194Z"
   },
   {
    "duration": 15,
    "start_time": "2022-04-09T10:37:04.287Z"
   },
   {
    "duration": 5,
    "start_time": "2022-04-09T10:44:26.379Z"
   },
   {
    "duration": 24,
    "start_time": "2022-04-09T10:44:32.283Z"
   },
   {
    "duration": 5,
    "start_time": "2022-04-09T10:45:01.455Z"
   },
   {
    "duration": 15,
    "start_time": "2022-04-09T10:46:47.110Z"
   },
   {
    "duration": 5,
    "start_time": "2022-04-09T10:46:48.284Z"
   },
   {
    "duration": 12,
    "start_time": "2022-04-09T10:46:49.149Z"
   },
   {
    "duration": 2757,
    "start_time": "2022-04-09T10:47:53.345Z"
   },
   {
    "duration": 6,
    "start_time": "2022-04-09T10:48:00.141Z"
   },
   {
    "duration": 48,
    "start_time": "2022-04-09T10:49:32.690Z"
   },
   {
    "duration": 47,
    "start_time": "2022-04-09T10:49:46.368Z"
   },
   {
    "duration": 146,
    "start_time": "2022-04-09T10:50:09.752Z"
   },
   {
    "duration": 155,
    "start_time": "2022-04-09T10:50:17.320Z"
   },
   {
    "duration": 112,
    "start_time": "2022-04-09T10:50:30.473Z"
   },
   {
    "duration": 8,
    "start_time": "2022-04-09T10:51:05.462Z"
   },
   {
    "duration": 17,
    "start_time": "2022-04-09T10:51:20.106Z"
   },
   {
    "duration": 21,
    "start_time": "2022-04-09T10:51:36.289Z"
   },
   {
    "duration": 47,
    "start_time": "2022-04-09T10:52:01.284Z"
   },
   {
    "duration": 13,
    "start_time": "2022-04-09T10:52:05.267Z"
   },
   {
    "duration": 112,
    "start_time": "2022-04-09T10:52:05.965Z"
   },
   {
    "duration": 13,
    "start_time": "2022-04-09T10:52:07.454Z"
   },
   {
    "duration": 5,
    "start_time": "2022-04-09T10:52:11.162Z"
   },
   {
    "duration": 6,
    "start_time": "2022-04-09T10:52:11.650Z"
   },
   {
    "duration": 17,
    "start_time": "2022-04-09T10:52:12.623Z"
   },
   {
    "duration": 16,
    "start_time": "2022-04-09T10:53:40.548Z"
   },
   {
    "duration": 16,
    "start_time": "2022-04-09T10:53:49.006Z"
   },
   {
    "duration": 12,
    "start_time": "2022-04-09T10:53:54.257Z"
   },
   {
    "duration": 17,
    "start_time": "2022-04-09T11:02:22.748Z"
   },
   {
    "duration": 1834,
    "start_time": "2022-04-09T11:30:03.579Z"
   },
   {
    "duration": 250,
    "start_time": "2022-04-09T11:30:05.415Z"
   },
   {
    "duration": 17,
    "start_time": "2022-04-09T11:30:05.667Z"
   },
   {
    "duration": 821,
    "start_time": "2022-04-09T11:30:05.687Z"
   },
   {
    "duration": 49,
    "start_time": "2022-04-09T11:30:06.510Z"
   },
   {
    "duration": 8,
    "start_time": "2022-04-09T11:30:06.562Z"
   },
   {
    "duration": 746,
    "start_time": "2022-04-09T11:30:06.572Z"
   },
   {
    "duration": 80,
    "start_time": "2022-04-09T11:30:07.321Z"
   },
   {
    "duration": 47,
    "start_time": "2022-04-09T11:30:07.403Z"
   },
   {
    "duration": 156,
    "start_time": "2022-04-09T11:30:07.454Z"
   },
   {
    "duration": 225,
    "start_time": "2022-04-09T11:30:07.612Z"
   },
   {
    "duration": 167,
    "start_time": "2022-04-09T11:30:07.839Z"
   },
   {
    "duration": 48,
    "start_time": "2022-04-09T11:30:08.008Z"
   },
   {
    "duration": 54,
    "start_time": "2022-04-09T11:30:08.059Z"
   },
   {
    "duration": 40,
    "start_time": "2022-04-09T11:30:08.115Z"
   },
   {
    "duration": 121,
    "start_time": "2022-04-09T11:30:08.157Z"
   },
   {
    "duration": 15,
    "start_time": "2022-04-09T11:30:08.280Z"
   },
   {
    "duration": 181,
    "start_time": "2022-04-09T11:30:08.297Z"
   },
   {
    "duration": 0,
    "start_time": "2022-04-09T11:30:08.482Z"
   },
   {
    "duration": 0,
    "start_time": "2022-04-09T11:30:08.484Z"
   },
   {
    "duration": 0,
    "start_time": "2022-04-09T11:30:08.486Z"
   },
   {
    "duration": 0,
    "start_time": "2022-04-09T11:30:08.489Z"
   },
   {
    "duration": 43,
    "start_time": "2022-04-09T11:38:22.545Z"
   },
   {
    "duration": 2684,
    "start_time": "2022-04-09T11:38:37.615Z"
   },
   {
    "duration": 274,
    "start_time": "2022-04-09T11:38:40.302Z"
   },
   {
    "duration": 17,
    "start_time": "2022-04-09T11:38:40.579Z"
   },
   {
    "duration": 857,
    "start_time": "2022-04-09T11:38:40.599Z"
   },
   {
    "duration": 37,
    "start_time": "2022-04-09T11:38:41.460Z"
   },
   {
    "duration": 7,
    "start_time": "2022-04-09T11:38:41.500Z"
   },
   {
    "duration": 734,
    "start_time": "2022-04-09T11:38:41.543Z"
   },
   {
    "duration": 100,
    "start_time": "2022-04-09T11:38:42.280Z"
   },
   {
    "duration": 35,
    "start_time": "2022-04-09T11:38:42.383Z"
   },
   {
    "duration": 155,
    "start_time": "2022-04-09T11:38:42.442Z"
   },
   {
    "duration": 321,
    "start_time": "2022-04-09T11:38:42.600Z"
   },
   {
    "duration": 215,
    "start_time": "2022-04-09T11:38:42.942Z"
   },
   {
    "duration": 17,
    "start_time": "2022-04-09T11:38:43.159Z"
   },
   {
    "duration": 67,
    "start_time": "2022-04-09T11:38:43.179Z"
   },
   {
    "duration": 3047,
    "start_time": "2022-04-09T11:38:43.249Z"
   },
   {
    "duration": 0,
    "start_time": "2022-04-09T11:38:46.299Z"
   },
   {
    "duration": 0,
    "start_time": "2022-04-09T11:38:46.300Z"
   },
   {
    "duration": 0,
    "start_time": "2022-04-09T11:38:46.301Z"
   },
   {
    "duration": 0,
    "start_time": "2022-04-09T11:38:46.302Z"
   },
   {
    "duration": 0,
    "start_time": "2022-04-09T11:38:46.304Z"
   },
   {
    "duration": 0,
    "start_time": "2022-04-09T11:38:46.305Z"
   },
   {
    "duration": 0,
    "start_time": "2022-04-09T11:38:46.306Z"
   },
   {
    "duration": 45,
    "start_time": "2022-04-09T11:38:59.388Z"
   },
   {
    "duration": 13,
    "start_time": "2022-04-09T11:39:00.385Z"
   },
   {
    "duration": 108,
    "start_time": "2022-04-09T11:39:00.837Z"
   },
   {
    "duration": 14,
    "start_time": "2022-04-09T11:39:01.176Z"
   },
   {
    "duration": 12,
    "start_time": "2022-04-09T11:39:01.409Z"
   },
   {
    "duration": 7,
    "start_time": "2022-04-09T11:39:01.619Z"
   },
   {
    "duration": 23,
    "start_time": "2022-04-09T11:39:01.856Z"
   },
   {
    "duration": 6,
    "start_time": "2022-04-09T11:39:02.082Z"
   },
   {
    "duration": 105,
    "start_time": "2022-04-09T11:42:57.826Z"
   },
   {
    "duration": 18,
    "start_time": "2022-04-09T11:43:02.401Z"
   },
   {
    "duration": 41,
    "start_time": "2022-04-09T11:43:09.860Z"
   },
   {
    "duration": 14,
    "start_time": "2022-04-09T11:43:11.442Z"
   },
   {
    "duration": 105,
    "start_time": "2022-04-09T11:43:12.157Z"
   },
   {
    "duration": 14,
    "start_time": "2022-04-09T11:43:31.903Z"
   },
   {
    "duration": 2728,
    "start_time": "2022-04-09T11:43:43.620Z"
   },
   {
    "duration": 11,
    "start_time": "2022-04-09T11:44:59.004Z"
   },
   {
    "duration": 11,
    "start_time": "2022-04-09T11:45:21.382Z"
   },
   {
    "duration": 10,
    "start_time": "2022-04-09T11:45:27.956Z"
   },
   {
    "duration": 5,
    "start_time": "2022-04-09T11:45:30.575Z"
   },
   {
    "duration": 2639,
    "start_time": "2022-04-09T11:45:45.694Z"
   },
   {
    "duration": 3022,
    "start_time": "2022-04-09T11:46:00.856Z"
   },
   {
    "duration": 5,
    "start_time": "2022-04-09T11:46:09.748Z"
   },
   {
    "duration": 5,
    "start_time": "2022-04-09T11:46:20.887Z"
   },
   {
    "duration": 65,
    "start_time": "2022-04-09T11:48:15.879Z"
   },
   {
    "duration": 17,
    "start_time": "2022-04-09T11:48:22.560Z"
   },
   {
    "duration": 42,
    "start_time": "2022-04-09T11:48:49.619Z"
   },
   {
    "duration": 21,
    "start_time": "2022-04-09T11:48:54.715Z"
   },
   {
    "duration": 16,
    "start_time": "2022-04-09T11:49:28.500Z"
   },
   {
    "duration": 43,
    "start_time": "2022-04-09T11:51:05.189Z"
   },
   {
    "duration": 13,
    "start_time": "2022-04-09T11:51:07.355Z"
   },
   {
    "duration": 109,
    "start_time": "2022-04-09T11:51:09.363Z"
   },
   {
    "duration": 8,
    "start_time": "2022-04-09T11:51:40.577Z"
   },
   {
    "duration": 7,
    "start_time": "2022-04-09T11:51:56.788Z"
   },
   {
    "duration": 20,
    "start_time": "2022-04-09T11:52:05.327Z"
   },
   {
    "duration": 8,
    "start_time": "2022-04-09T11:52:20.562Z"
   },
   {
    "duration": 9,
    "start_time": "2022-04-09T11:52:36.657Z"
   },
   {
    "duration": 14,
    "start_time": "2022-04-09T11:52:50.836Z"
   },
   {
    "duration": 6,
    "start_time": "2022-04-09T11:53:12.836Z"
   },
   {
    "duration": 16,
    "start_time": "2022-04-09T11:53:17.075Z"
   },
   {
    "duration": 15,
    "start_time": "2022-04-09T11:53:29.088Z"
   },
   {
    "duration": 15,
    "start_time": "2022-04-09T11:53:57.607Z"
   },
   {
    "duration": 2775,
    "start_time": "2022-04-09T11:54:04.000Z"
   },
   {
    "duration": 0,
    "start_time": "2022-04-09T11:54:06.777Z"
   },
   {
    "duration": 0,
    "start_time": "2022-04-09T11:54:06.779Z"
   },
   {
    "duration": 45,
    "start_time": "2022-04-09T11:54:13.998Z"
   },
   {
    "duration": 22,
    "start_time": "2022-04-09T11:54:18.744Z"
   },
   {
    "duration": 119,
    "start_time": "2022-04-09T11:54:20.256Z"
   },
   {
    "duration": 12,
    "start_time": "2022-04-09T11:54:23.826Z"
   },
   {
    "duration": 1836,
    "start_time": "2022-04-09T11:54:45.371Z"
   },
   {
    "duration": 239,
    "start_time": "2022-04-09T11:54:47.209Z"
   },
   {
    "duration": 22,
    "start_time": "2022-04-09T11:54:47.451Z"
   },
   {
    "duration": 904,
    "start_time": "2022-04-09T11:54:47.475Z"
   },
   {
    "duration": 35,
    "start_time": "2022-04-09T11:54:48.383Z"
   },
   {
    "duration": 33,
    "start_time": "2022-04-09T11:54:48.420Z"
   },
   {
    "duration": 769,
    "start_time": "2022-04-09T11:54:48.456Z"
   },
   {
    "duration": 77,
    "start_time": "2022-04-09T11:54:49.228Z"
   },
   {
    "duration": 59,
    "start_time": "2022-04-09T11:54:49.307Z"
   },
   {
    "duration": 151,
    "start_time": "2022-04-09T11:54:49.369Z"
   },
   {
    "duration": 271,
    "start_time": "2022-04-09T11:54:49.522Z"
   },
   {
    "duration": 196,
    "start_time": "2022-04-09T11:54:49.796Z"
   },
   {
    "duration": 68,
    "start_time": "2022-04-09T11:54:49.994Z"
   },
   {
    "duration": 46,
    "start_time": "2022-04-09T11:54:50.066Z"
   },
   {
    "duration": 48,
    "start_time": "2022-04-09T11:54:50.115Z"
   },
   {
    "duration": 134,
    "start_time": "2022-04-09T11:54:50.165Z"
   },
   {
    "duration": 14,
    "start_time": "2022-04-09T11:54:50.302Z"
   },
   {
    "duration": 30,
    "start_time": "2022-04-09T11:54:50.319Z"
   },
   {
    "duration": 192,
    "start_time": "2022-04-09T11:54:50.353Z"
   },
   {
    "duration": 0,
    "start_time": "2022-04-09T11:54:50.548Z"
   },
   {
    "duration": 0,
    "start_time": "2022-04-09T11:54:50.550Z"
   },
   {
    "duration": 19,
    "start_time": "2022-04-09T11:56:48.548Z"
   },
   {
    "duration": 1815,
    "start_time": "2022-04-09T11:56:57.359Z"
   },
   {
    "duration": 240,
    "start_time": "2022-04-09T11:56:59.177Z"
   },
   {
    "duration": 29,
    "start_time": "2022-04-09T11:56:59.419Z"
   },
   {
    "duration": 840,
    "start_time": "2022-04-09T11:56:59.451Z"
   },
   {
    "duration": 50,
    "start_time": "2022-04-09T11:57:00.293Z"
   },
   {
    "duration": 8,
    "start_time": "2022-04-09T11:57:00.345Z"
   },
   {
    "duration": 732,
    "start_time": "2022-04-09T11:57:00.355Z"
   },
   {
    "duration": 74,
    "start_time": "2022-04-09T11:57:01.089Z"
   },
   {
    "duration": 36,
    "start_time": "2022-04-09T11:57:01.165Z"
   },
   {
    "duration": 162,
    "start_time": "2022-04-09T11:57:01.205Z"
   },
   {
    "duration": 217,
    "start_time": "2022-04-09T11:57:01.370Z"
   },
   {
    "duration": 169,
    "start_time": "2022-04-09T11:57:01.590Z"
   },
   {
    "duration": 17,
    "start_time": "2022-04-09T11:57:01.761Z"
   },
   {
    "duration": 89,
    "start_time": "2022-04-09T11:57:01.781Z"
   },
   {
    "duration": 45,
    "start_time": "2022-04-09T11:57:01.872Z"
   },
   {
    "duration": 141,
    "start_time": "2022-04-09T11:57:01.919Z"
   },
   {
    "duration": 189,
    "start_time": "2022-04-09T11:57:02.062Z"
   },
   {
    "duration": 0,
    "start_time": "2022-04-09T11:57:02.254Z"
   },
   {
    "duration": 0,
    "start_time": "2022-04-09T11:57:02.255Z"
   },
   {
    "duration": 0,
    "start_time": "2022-04-09T11:57:02.258Z"
   },
   {
    "duration": 0,
    "start_time": "2022-04-09T11:57:02.259Z"
   },
   {
    "duration": 12,
    "start_time": "2022-04-09T11:58:04.851Z"
   },
   {
    "duration": 16,
    "start_time": "2022-04-09T11:59:51.127Z"
   },
   {
    "duration": 6,
    "start_time": "2022-04-09T11:59:54.509Z"
   },
   {
    "duration": 17,
    "start_time": "2022-04-09T12:01:00.709Z"
   },
   {
    "duration": 2145,
    "start_time": "2022-04-09T12:01:12.178Z"
   },
   {
    "duration": 234,
    "start_time": "2022-04-09T12:01:14.326Z"
   },
   {
    "duration": 16,
    "start_time": "2022-04-09T12:01:14.562Z"
   },
   {
    "duration": 839,
    "start_time": "2022-04-09T12:01:14.580Z"
   },
   {
    "duration": 48,
    "start_time": "2022-04-09T12:01:15.423Z"
   },
   {
    "duration": 9,
    "start_time": "2022-04-09T12:01:15.473Z"
   },
   {
    "duration": 761,
    "start_time": "2022-04-09T12:01:15.485Z"
   },
   {
    "duration": 60,
    "start_time": "2022-04-09T12:01:16.248Z"
   },
   {
    "duration": 55,
    "start_time": "2022-04-09T12:01:16.311Z"
   },
   {
    "duration": 144,
    "start_time": "2022-04-09T12:01:16.368Z"
   },
   {
    "duration": 214,
    "start_time": "2022-04-09T12:01:16.514Z"
   },
   {
    "duration": 137,
    "start_time": "2022-04-09T12:01:16.731Z"
   },
   {
    "duration": 17,
    "start_time": "2022-04-09T12:01:16.870Z"
   },
   {
    "duration": 104,
    "start_time": "2022-04-09T12:01:16.892Z"
   },
   {
    "duration": 14,
    "start_time": "2022-04-09T12:01:16.998Z"
   },
   {
    "duration": 136,
    "start_time": "2022-04-09T12:01:17.015Z"
   },
   {
    "duration": 171,
    "start_time": "2022-04-09T12:01:17.153Z"
   },
   {
    "duration": 0,
    "start_time": "2022-04-09T12:01:17.326Z"
   },
   {
    "duration": 0,
    "start_time": "2022-04-09T12:01:17.328Z"
   },
   {
    "duration": 0,
    "start_time": "2022-04-09T12:01:17.329Z"
   },
   {
    "duration": 0,
    "start_time": "2022-04-09T12:01:17.343Z"
   },
   {
    "duration": 14,
    "start_time": "2022-04-09T12:01:36.063Z"
   },
   {
    "duration": 9,
    "start_time": "2022-04-09T12:01:48.239Z"
   },
   {
    "duration": 16,
    "start_time": "2022-04-09T12:01:56.998Z"
   },
   {
    "duration": 1845,
    "start_time": "2022-04-09T12:02:33.589Z"
   },
   {
    "duration": 258,
    "start_time": "2022-04-09T12:02:35.444Z"
   },
   {
    "duration": 17,
    "start_time": "2022-04-09T12:02:35.704Z"
   },
   {
    "duration": 852,
    "start_time": "2022-04-09T12:02:35.724Z"
   },
   {
    "duration": 38,
    "start_time": "2022-04-09T12:02:36.579Z"
   },
   {
    "duration": 8,
    "start_time": "2022-04-09T12:02:36.644Z"
   },
   {
    "duration": 1008,
    "start_time": "2022-04-09T12:02:36.655Z"
   },
   {
    "duration": 92,
    "start_time": "2022-04-09T12:02:37.666Z"
   },
   {
    "duration": 58,
    "start_time": "2022-04-09T12:02:37.761Z"
   },
   {
    "duration": 208,
    "start_time": "2022-04-09T12:02:37.824Z"
   },
   {
    "duration": 282,
    "start_time": "2022-04-09T12:02:38.035Z"
   },
   {
    "duration": 251,
    "start_time": "2022-04-09T12:02:38.319Z"
   },
   {
    "duration": 21,
    "start_time": "2022-04-09T12:02:38.573Z"
   },
   {
    "duration": 86,
    "start_time": "2022-04-09T12:02:38.596Z"
   },
   {
    "duration": 13,
    "start_time": "2022-04-09T12:02:38.684Z"
   },
   {
    "duration": 134,
    "start_time": "2022-04-09T12:02:38.700Z"
   },
   {
    "duration": 11,
    "start_time": "2022-04-09T12:02:38.835Z"
   },
   {
    "duration": 12,
    "start_time": "2022-04-09T12:02:38.849Z"
   },
   {
    "duration": 7,
    "start_time": "2022-04-09T12:02:38.864Z"
   },
   {
    "duration": 201,
    "start_time": "2022-04-09T12:02:38.873Z"
   },
   {
    "duration": 0,
    "start_time": "2022-04-09T12:02:39.077Z"
   },
   {
    "duration": 0,
    "start_time": "2022-04-09T12:02:39.078Z"
   },
   {
    "duration": 16,
    "start_time": "2022-04-09T12:02:55.188Z"
   },
   {
    "duration": 17,
    "start_time": "2022-04-09T12:04:30.757Z"
   },
   {
    "duration": 11,
    "start_time": "2022-04-09T12:05:36.619Z"
   },
   {
    "duration": 7,
    "start_time": "2022-04-09T12:05:53.554Z"
   },
   {
    "duration": 8,
    "start_time": "2022-04-09T12:07:43.056Z"
   },
   {
    "duration": 16,
    "start_time": "2022-04-09T12:08:21.319Z"
   },
   {
    "duration": 3241,
    "start_time": "2022-04-09T12:08:57.795Z"
   },
   {
    "duration": 2849,
    "start_time": "2022-04-09T12:09:13.453Z"
   },
   {
    "duration": 53,
    "start_time": "2022-04-09T12:11:09.238Z"
   },
   {
    "duration": 54,
    "start_time": "2022-04-09T12:13:11.936Z"
   },
   {
    "duration": 2104,
    "start_time": "2022-04-09T12:13:20.018Z"
   },
   {
    "duration": 264,
    "start_time": "2022-04-09T12:13:22.124Z"
   },
   {
    "duration": 15,
    "start_time": "2022-04-09T12:13:22.390Z"
   },
   {
    "duration": 894,
    "start_time": "2022-04-09T12:13:22.407Z"
   },
   {
    "duration": 58,
    "start_time": "2022-04-09T12:13:23.304Z"
   },
   {
    "duration": 8,
    "start_time": "2022-04-09T12:13:23.365Z"
   },
   {
    "duration": 772,
    "start_time": "2022-04-09T12:13:23.375Z"
   },
   {
    "duration": 64,
    "start_time": "2022-04-09T12:13:24.150Z"
   },
   {
    "duration": 67,
    "start_time": "2022-04-09T12:13:24.216Z"
   },
   {
    "duration": 160,
    "start_time": "2022-04-09T12:13:24.285Z"
   },
   {
    "duration": 263,
    "start_time": "2022-04-09T12:13:24.446Z"
   },
   {
    "duration": 233,
    "start_time": "2022-04-09T12:13:24.711Z"
   },
   {
    "duration": 21,
    "start_time": "2022-04-09T12:13:24.954Z"
   },
   {
    "duration": 67,
    "start_time": "2022-04-09T12:13:24.980Z"
   },
   {
    "duration": 16,
    "start_time": "2022-04-09T12:13:25.049Z"
   },
   {
    "duration": 127,
    "start_time": "2022-04-09T12:13:25.067Z"
   },
   {
    "duration": 7,
    "start_time": "2022-04-09T12:13:25.196Z"
   },
   {
    "duration": 13,
    "start_time": "2022-04-09T12:13:25.205Z"
   },
   {
    "duration": 28,
    "start_time": "2022-04-09T12:13:25.220Z"
   },
   {
    "duration": 176,
    "start_time": "2022-04-09T12:13:25.253Z"
   },
   {
    "duration": 0,
    "start_time": "2022-04-09T12:13:25.431Z"
   },
   {
    "duration": 0,
    "start_time": "2022-04-09T12:13:25.432Z"
   },
   {
    "duration": 0,
    "start_time": "2022-04-09T12:13:25.434Z"
   },
   {
    "duration": 0,
    "start_time": "2022-04-09T12:13:25.446Z"
   },
   {
    "duration": 19,
    "start_time": "2022-04-09T12:15:05.253Z"
   },
   {
    "duration": 17,
    "start_time": "2022-04-09T12:15:20.781Z"
   },
   {
    "duration": 14,
    "start_time": "2022-04-09T12:17:02.776Z"
   },
   {
    "duration": 130,
    "start_time": "2022-04-09T12:17:38.962Z"
   },
   {
    "duration": 52,
    "start_time": "2022-04-09T12:17:44.461Z"
   },
   {
    "duration": 14,
    "start_time": "2022-04-09T12:17:45.613Z"
   },
   {
    "duration": 129,
    "start_time": "2022-04-09T12:17:53.871Z"
   },
   {
    "duration": 8,
    "start_time": "2022-04-09T12:17:55.988Z"
   },
   {
    "duration": 10,
    "start_time": "2022-04-09T12:17:56.692Z"
   },
   {
    "duration": 63,
    "start_time": "2022-04-09T12:18:34.808Z"
   },
   {
    "duration": 18,
    "start_time": "2022-04-09T12:18:39.984Z"
   },
   {
    "duration": 11,
    "start_time": "2022-04-09T12:18:47.136Z"
   },
   {
    "duration": 19,
    "start_time": "2022-04-09T12:18:49.259Z"
   },
   {
    "duration": 2912,
    "start_time": "2022-04-09T12:18:54.574Z"
   },
   {
    "duration": 20,
    "start_time": "2022-04-09T12:18:59.355Z"
   },
   {
    "duration": 16,
    "start_time": "2022-04-09T12:19:10.405Z"
   },
   {
    "duration": 14,
    "start_time": "2022-04-09T12:20:22.969Z"
   },
   {
    "duration": 15,
    "start_time": "2022-04-09T12:20:30.141Z"
   },
   {
    "duration": 7,
    "start_time": "2022-04-09T12:20:52.068Z"
   },
   {
    "duration": 22,
    "start_time": "2022-04-09T12:21:15.266Z"
   },
   {
    "duration": 191,
    "start_time": "2022-04-09T12:21:54.056Z"
   },
   {
    "duration": 19,
    "start_time": "2022-04-09T12:22:24.341Z"
   },
   {
    "duration": 11,
    "start_time": "2022-04-09T12:23:12.977Z"
   },
   {
    "duration": 22,
    "start_time": "2022-04-09T12:23:16.640Z"
   },
   {
    "duration": 3214,
    "start_time": "2022-04-09T12:23:17.205Z"
   },
   {
    "duration": 2820,
    "start_time": "2022-04-09T12:23:32.599Z"
   },
   {
    "duration": 10,
    "start_time": "2022-04-09T12:23:57.315Z"
   },
   {
    "duration": 16,
    "start_time": "2022-04-09T12:24:03.111Z"
   },
   {
    "duration": 8,
    "start_time": "2022-04-09T12:24:54.495Z"
   },
   {
    "duration": 15,
    "start_time": "2022-04-09T12:24:55.181Z"
   },
   {
    "duration": 7,
    "start_time": "2022-04-09T12:25:04.364Z"
   },
   {
    "duration": 15,
    "start_time": "2022-04-09T12:25:04.852Z"
   },
   {
    "duration": 8,
    "start_time": "2022-04-09T12:25:23.454Z"
   },
   {
    "duration": 19,
    "start_time": "2022-04-09T12:25:23.985Z"
   },
   {
    "duration": 8,
    "start_time": "2022-04-09T12:25:53.520Z"
   },
   {
    "duration": 13,
    "start_time": "2022-04-09T12:25:53.893Z"
   },
   {
    "duration": 22,
    "start_time": "2022-04-09T12:29:36.969Z"
   },
   {
    "duration": 16,
    "start_time": "2022-04-09T12:29:46.688Z"
   },
   {
    "duration": 8,
    "start_time": "2022-04-09T12:29:55.527Z"
   },
   {
    "duration": 181,
    "start_time": "2022-04-09T12:30:17.797Z"
   },
   {
    "duration": 10,
    "start_time": "2022-04-09T12:30:40.811Z"
   },
   {
    "duration": 10,
    "start_time": "2022-04-09T12:30:48.271Z"
   },
   {
    "duration": 12,
    "start_time": "2022-04-09T12:30:49.850Z"
   },
   {
    "duration": 10,
    "start_time": "2022-04-09T12:30:50.427Z"
   },
   {
    "duration": 15,
    "start_time": "2022-04-09T12:30:51.145Z"
   },
   {
    "duration": 178,
    "start_time": "2022-04-09T12:31:10.034Z"
   },
   {
    "duration": 2124,
    "start_time": "2022-04-09T12:31:36.749Z"
   },
   {
    "duration": 315,
    "start_time": "2022-04-09T12:31:38.876Z"
   },
   {
    "duration": 19,
    "start_time": "2022-04-09T12:31:39.194Z"
   },
   {
    "duration": 1287,
    "start_time": "2022-04-09T12:31:39.216Z"
   },
   {
    "duration": 45,
    "start_time": "2022-04-09T12:31:40.507Z"
   },
   {
    "duration": 9,
    "start_time": "2022-04-09T12:31:40.556Z"
   },
   {
    "duration": 867,
    "start_time": "2022-04-09T12:31:40.568Z"
   },
   {
    "duration": 76,
    "start_time": "2022-04-09T12:31:41.437Z"
   },
   {
    "duration": 65,
    "start_time": "2022-04-09T12:31:41.515Z"
   },
   {
    "duration": 163,
    "start_time": "2022-04-09T12:31:41.583Z"
   },
   {
    "duration": 292,
    "start_time": "2022-04-09T12:31:41.748Z"
   },
   {
    "duration": 223,
    "start_time": "2022-04-09T12:31:42.043Z"
   },
   {
    "duration": 18,
    "start_time": "2022-04-09T12:31:42.269Z"
   },
   {
    "duration": 94,
    "start_time": "2022-04-09T12:31:42.294Z"
   },
   {
    "duration": 2924,
    "start_time": "2022-04-09T12:31:42.391Z"
   },
   {
    "duration": 0,
    "start_time": "2022-04-09T12:31:45.318Z"
   },
   {
    "duration": 0,
    "start_time": "2022-04-09T12:31:45.320Z"
   },
   {
    "duration": 0,
    "start_time": "2022-04-09T12:31:45.323Z"
   },
   {
    "duration": 0,
    "start_time": "2022-04-09T12:31:45.325Z"
   },
   {
    "duration": 0,
    "start_time": "2022-04-09T12:31:45.327Z"
   },
   {
    "duration": 0,
    "start_time": "2022-04-09T12:31:45.329Z"
   },
   {
    "duration": 0,
    "start_time": "2022-04-09T12:31:45.332Z"
   },
   {
    "duration": 45,
    "start_time": "2022-04-09T12:32:20.281Z"
   },
   {
    "duration": 13,
    "start_time": "2022-04-09T12:32:21.498Z"
   },
   {
    "duration": 130,
    "start_time": "2022-04-09T12:32:22.741Z"
   },
   {
    "duration": 24,
    "start_time": "2022-04-09T12:32:24.207Z"
   },
   {
    "duration": 8,
    "start_time": "2022-04-09T12:32:50.414Z"
   },
   {
    "duration": 11,
    "start_time": "2022-04-09T12:32:51.278Z"
   },
   {
    "duration": 46,
    "start_time": "2022-04-09T12:33:13.303Z"
   },
   {
    "duration": 2831,
    "start_time": "2022-04-09T12:33:14.000Z"
   },
   {
    "duration": 0,
    "start_time": "2022-04-09T12:33:16.835Z"
   },
   {
    "duration": 0,
    "start_time": "2022-04-09T12:33:16.837Z"
   },
   {
    "duration": 20,
    "start_time": "2022-04-09T12:33:18.366Z"
   },
   {
    "duration": 6,
    "start_time": "2022-04-09T12:33:55.470Z"
   },
   {
    "duration": 2782,
    "start_time": "2022-04-09T12:34:20.076Z"
   },
   {
    "duration": 56,
    "start_time": "2022-04-09T12:35:39.259Z"
   },
   {
    "duration": 13,
    "start_time": "2022-04-09T12:35:46.036Z"
   },
   {
    "duration": 109,
    "start_time": "2022-04-09T12:35:47.190Z"
   },
   {
    "duration": 10,
    "start_time": "2022-04-09T12:36:16.400Z"
   },
   {
    "duration": 11,
    "start_time": "2022-04-09T12:36:21.029Z"
   },
   {
    "duration": 14,
    "start_time": "2022-04-09T12:38:13.532Z"
   },
   {
    "duration": 16,
    "start_time": "2022-04-09T12:38:32.494Z"
   },
   {
    "duration": 16,
    "start_time": "2022-04-09T12:38:37.535Z"
   },
   {
    "duration": 8,
    "start_time": "2022-04-09T12:38:42.463Z"
   },
   {
    "duration": 2815,
    "start_time": "2022-04-09T12:38:45.036Z"
   },
   {
    "duration": 7,
    "start_time": "2022-04-09T12:39:09.198Z"
   },
   {
    "duration": 14,
    "start_time": "2022-04-09T12:39:32.087Z"
   },
   {
    "duration": 1876,
    "start_time": "2022-04-09T12:39:55.744Z"
   },
   {
    "duration": 239,
    "start_time": "2022-04-09T12:39:57.623Z"
   },
   {
    "duration": 17,
    "start_time": "2022-04-09T12:39:57.864Z"
   },
   {
    "duration": 818,
    "start_time": "2022-04-09T12:39:57.883Z"
   },
   {
    "duration": 47,
    "start_time": "2022-04-09T12:39:58.705Z"
   },
   {
    "duration": 7,
    "start_time": "2022-04-09T12:39:58.754Z"
   },
   {
    "duration": 766,
    "start_time": "2022-04-09T12:39:58.763Z"
   },
   {
    "duration": 98,
    "start_time": "2022-04-09T12:39:59.532Z"
   },
   {
    "duration": 62,
    "start_time": "2022-04-09T12:39:59.644Z"
   },
   {
    "duration": 224,
    "start_time": "2022-04-09T12:39:59.709Z"
   },
   {
    "duration": 311,
    "start_time": "2022-04-09T12:39:59.944Z"
   },
   {
    "duration": 228,
    "start_time": "2022-04-09T12:40:00.258Z"
   },
   {
    "duration": 19,
    "start_time": "2022-04-09T12:40:00.489Z"
   },
   {
    "duration": 73,
    "start_time": "2022-04-09T12:40:00.514Z"
   },
   {
    "duration": 13,
    "start_time": "2022-04-09T12:40:00.590Z"
   },
   {
    "duration": 133,
    "start_time": "2022-04-09T12:40:00.606Z"
   },
   {
    "duration": 16,
    "start_time": "2022-04-09T12:40:00.743Z"
   },
   {
    "duration": 37,
    "start_time": "2022-04-09T12:40:00.762Z"
   },
   {
    "duration": 9,
    "start_time": "2022-04-09T12:40:00.802Z"
   },
   {
    "duration": 8331,
    "start_time": "2022-04-09T12:40:00.813Z"
   },
   {
    "duration": 0,
    "start_time": "2022-04-09T12:40:09.147Z"
   },
   {
    "duration": 0,
    "start_time": "2022-04-09T12:40:09.148Z"
   },
   {
    "duration": 7,
    "start_time": "2022-04-09T12:40:57.700Z"
   },
   {
    "duration": 24,
    "start_time": "2022-04-09T12:41:36.830Z"
   },
   {
    "duration": 7,
    "start_time": "2022-04-09T12:42:19.593Z"
   },
   {
    "duration": 1935,
    "start_time": "2022-04-09T12:42:25.082Z"
   },
   {
    "duration": 241,
    "start_time": "2022-04-09T12:42:27.020Z"
   },
   {
    "duration": 16,
    "start_time": "2022-04-09T12:42:27.264Z"
   },
   {
    "duration": 872,
    "start_time": "2022-04-09T12:42:27.283Z"
   },
   {
    "duration": 35,
    "start_time": "2022-04-09T12:42:28.157Z"
   },
   {
    "duration": 7,
    "start_time": "2022-04-09T12:42:28.194Z"
   },
   {
    "duration": 766,
    "start_time": "2022-04-09T12:42:28.203Z"
   },
   {
    "duration": 75,
    "start_time": "2022-04-09T12:42:28.971Z"
   },
   {
    "duration": 35,
    "start_time": "2022-04-09T12:42:29.049Z"
   },
   {
    "duration": 156,
    "start_time": "2022-04-09T12:42:29.088Z"
   },
   {
    "duration": 213,
    "start_time": "2022-04-09T12:42:29.246Z"
   },
   {
    "duration": 245,
    "start_time": "2022-04-09T12:42:29.462Z"
   },
   {
    "duration": 39,
    "start_time": "2022-04-09T12:42:29.710Z"
   },
   {
    "duration": 69,
    "start_time": "2022-04-09T12:42:29.752Z"
   },
   {
    "duration": 36,
    "start_time": "2022-04-09T12:42:29.824Z"
   },
   {
    "duration": 181,
    "start_time": "2022-04-09T12:42:29.863Z"
   },
   {
    "duration": 15,
    "start_time": "2022-04-09T12:42:30.048Z"
   },
   {
    "duration": 17,
    "start_time": "2022-04-09T12:42:30.066Z"
   },
   {
    "duration": 16,
    "start_time": "2022-04-09T12:42:30.086Z"
   },
   {
    "duration": 3201,
    "start_time": "2022-04-09T12:42:30.105Z"
   },
   {
    "duration": 0,
    "start_time": "2022-04-09T12:42:33.309Z"
   },
   {
    "duration": 0,
    "start_time": "2022-04-09T12:42:33.310Z"
   },
   {
    "duration": 4,
    "start_time": "2022-04-09T12:43:16.355Z"
   },
   {
    "duration": 9,
    "start_time": "2022-04-09T12:43:30.745Z"
   },
   {
    "duration": 2547,
    "start_time": "2022-04-09T12:43:54.771Z"
   },
   {
    "duration": 236,
    "start_time": "2022-04-09T12:43:57.321Z"
   },
   {
    "duration": 16,
    "start_time": "2022-04-09T12:43:57.560Z"
   },
   {
    "duration": 1675,
    "start_time": "2022-04-09T12:43:57.579Z"
   },
   {
    "duration": 55,
    "start_time": "2022-04-09T12:43:59.258Z"
   },
   {
    "duration": 34,
    "start_time": "2022-04-09T12:43:59.316Z"
   },
   {
    "duration": 746,
    "start_time": "2022-04-09T12:43:59.353Z"
   },
   {
    "duration": 79,
    "start_time": "2022-04-09T12:44:00.101Z"
   },
   {
    "duration": 37,
    "start_time": "2022-04-09T12:44:00.182Z"
   },
   {
    "duration": 204,
    "start_time": "2022-04-09T12:44:00.243Z"
   },
   {
    "duration": 222,
    "start_time": "2022-04-09T12:44:00.450Z"
   },
   {
    "duration": 179,
    "start_time": "2022-04-09T12:44:00.675Z"
   },
   {
    "duration": 19,
    "start_time": "2022-04-09T12:44:00.856Z"
   },
   {
    "duration": 79,
    "start_time": "2022-04-09T12:44:00.881Z"
   },
   {
    "duration": 15,
    "start_time": "2022-04-09T12:44:00.963Z"
   },
   {
    "duration": 133,
    "start_time": "2022-04-09T12:44:00.981Z"
   },
   {
    "duration": 27,
    "start_time": "2022-04-09T12:44:01.116Z"
   },
   {
    "duration": 174,
    "start_time": "2022-04-09T12:44:01.146Z"
   },
   {
    "duration": 0,
    "start_time": "2022-04-09T12:44:01.322Z"
   },
   {
    "duration": 193,
    "start_time": "2022-04-09T12:44:43.231Z"
   },
   {
    "duration": 175,
    "start_time": "2022-04-09T12:44:54.936Z"
   },
   {
    "duration": 16,
    "start_time": "2022-04-09T12:45:05.400Z"
   },
   {
    "duration": 8,
    "start_time": "2022-04-09T12:45:23.340Z"
   },
   {
    "duration": 22,
    "start_time": "2022-04-09T12:45:25.739Z"
   },
   {
    "duration": 7,
    "start_time": "2022-04-09T12:46:08.119Z"
   },
   {
    "duration": 11,
    "start_time": "2022-04-09T12:46:08.613Z"
   },
   {
    "duration": 188,
    "start_time": "2022-04-09T12:47:06.350Z"
   },
   {
    "duration": 11,
    "start_time": "2022-04-09T12:47:26.884Z"
   },
   {
    "duration": 27,
    "start_time": "2022-04-09T12:47:28.611Z"
   },
   {
    "duration": 12,
    "start_time": "2022-04-09T12:48:04.420Z"
   },
   {
    "duration": 27,
    "start_time": "2022-04-09T12:48:04.959Z"
   },
   {
    "duration": 8,
    "start_time": "2022-04-09T12:48:15.729Z"
   },
   {
    "duration": 13,
    "start_time": "2022-04-09T12:48:16.250Z"
   },
   {
    "duration": 1915,
    "start_time": "2022-04-09T12:48:34.803Z"
   },
   {
    "duration": 231,
    "start_time": "2022-04-09T12:48:36.721Z"
   },
   {
    "duration": 16,
    "start_time": "2022-04-09T12:48:36.954Z"
   },
   {
    "duration": 846,
    "start_time": "2022-04-09T12:48:36.973Z"
   },
   {
    "duration": 46,
    "start_time": "2022-04-09T12:48:37.822Z"
   },
   {
    "duration": 8,
    "start_time": "2022-04-09T12:48:37.870Z"
   },
   {
    "duration": 737,
    "start_time": "2022-04-09T12:48:37.880Z"
   },
   {
    "duration": 70,
    "start_time": "2022-04-09T12:48:38.619Z"
   },
   {
    "duration": 51,
    "start_time": "2022-04-09T12:48:38.691Z"
   },
   {
    "duration": 147,
    "start_time": "2022-04-09T12:48:38.744Z"
   },
   {
    "duration": 223,
    "start_time": "2022-04-09T12:48:38.893Z"
   },
   {
    "duration": 158,
    "start_time": "2022-04-09T12:48:39.119Z"
   },
   {
    "duration": 18,
    "start_time": "2022-04-09T12:48:39.279Z"
   },
   {
    "duration": 47,
    "start_time": "2022-04-09T12:48:39.344Z"
   },
   {
    "duration": 13,
    "start_time": "2022-04-09T12:48:39.394Z"
   },
   {
    "duration": 145,
    "start_time": "2022-04-09T12:48:39.409Z"
   },
   {
    "duration": 16,
    "start_time": "2022-04-09T12:48:39.556Z"
   },
   {
    "duration": 9,
    "start_time": "2022-04-09T12:48:39.574Z"
   },
   {
    "duration": 35,
    "start_time": "2022-04-09T12:48:39.585Z"
   },
   {
    "duration": 1885,
    "start_time": "2022-04-09T12:50:40.158Z"
   },
   {
    "duration": 246,
    "start_time": "2022-04-09T12:50:42.047Z"
   },
   {
    "duration": 16,
    "start_time": "2022-04-09T12:50:42.295Z"
   },
   {
    "duration": 900,
    "start_time": "2022-04-09T12:50:42.314Z"
   },
   {
    "duration": 52,
    "start_time": "2022-04-09T12:50:43.218Z"
   },
   {
    "duration": 14,
    "start_time": "2022-04-09T12:50:43.273Z"
   },
   {
    "duration": 918,
    "start_time": "2022-04-09T12:50:43.289Z"
   },
   {
    "duration": 83,
    "start_time": "2022-04-09T12:50:44.210Z"
   },
   {
    "duration": 49,
    "start_time": "2022-04-09T12:50:44.295Z"
   },
   {
    "duration": 154,
    "start_time": "2022-04-09T12:50:44.347Z"
   },
   {
    "duration": 218,
    "start_time": "2022-04-09T12:50:44.504Z"
   },
   {
    "duration": 157,
    "start_time": "2022-04-09T12:50:44.725Z"
   },
   {
    "duration": 66,
    "start_time": "2022-04-09T12:50:44.884Z"
   },
   {
    "duration": 46,
    "start_time": "2022-04-09T12:50:44.955Z"
   },
   {
    "duration": 39,
    "start_time": "2022-04-09T12:50:45.004Z"
   },
   {
    "duration": 128,
    "start_time": "2022-04-09T12:50:45.047Z"
   },
   {
    "duration": 14,
    "start_time": "2022-04-09T12:50:45.178Z"
   },
   {
    "duration": 186,
    "start_time": "2022-04-09T12:50:45.195Z"
   },
   {
    "duration": 0,
    "start_time": "2022-04-09T12:50:45.384Z"
   },
   {
    "duration": 7,
    "start_time": "2022-04-09T12:50:58.699Z"
   },
   {
    "duration": 12,
    "start_time": "2022-04-09T12:50:59.488Z"
   },
   {
    "duration": 7,
    "start_time": "2022-04-09T13:00:45.717Z"
   },
   {
    "duration": 12,
    "start_time": "2022-04-09T13:00:46.133Z"
   },
   {
    "duration": 8,
    "start_time": "2022-04-09T14:40:18.341Z"
   },
   {
    "duration": 7,
    "start_time": "2022-04-09T14:41:02.760Z"
   },
   {
    "duration": 11,
    "start_time": "2022-04-09T14:41:03.260Z"
   },
   {
    "duration": 16,
    "start_time": "2022-04-09T14:49:22.838Z"
   },
   {
    "duration": 12,
    "start_time": "2022-04-09T14:50:37.874Z"
   },
   {
    "duration": 11,
    "start_time": "2022-04-09T14:51:24.274Z"
   },
   {
    "duration": 13,
    "start_time": "2022-04-09T14:51:58.513Z"
   },
   {
    "duration": 3118,
    "start_time": "2022-04-09T19:58:13.421Z"
   },
   {
    "duration": 0,
    "start_time": "2022-04-09T19:58:16.542Z"
   },
   {
    "duration": 1911,
    "start_time": "2022-04-09T19:58:21.550Z"
   },
   {
    "duration": 353,
    "start_time": "2022-04-09T19:58:23.464Z"
   },
   {
    "duration": 36,
    "start_time": "2022-04-09T19:58:23.820Z"
   },
   {
    "duration": 1114,
    "start_time": "2022-04-09T19:58:23.859Z"
   },
   {
    "duration": 36,
    "start_time": "2022-04-09T19:58:24.975Z"
   },
   {
    "duration": 34,
    "start_time": "2022-04-09T19:58:25.013Z"
   },
   {
    "duration": 731,
    "start_time": "2022-04-09T19:58:25.049Z"
   },
   {
    "duration": 72,
    "start_time": "2022-04-09T19:58:25.782Z"
   },
   {
    "duration": 35,
    "start_time": "2022-04-09T19:58:25.856Z"
   },
   {
    "duration": 158,
    "start_time": "2022-04-09T19:58:25.895Z"
   },
   {
    "duration": 226,
    "start_time": "2022-04-09T19:58:26.055Z"
   },
   {
    "duration": 182,
    "start_time": "2022-04-09T19:58:26.284Z"
   },
   {
    "duration": 19,
    "start_time": "2022-04-09T19:58:26.468Z"
   },
   {
    "duration": 91,
    "start_time": "2022-04-09T19:58:26.489Z"
   },
   {
    "duration": 12,
    "start_time": "2022-04-09T19:58:26.583Z"
   },
   {
    "duration": 131,
    "start_time": "2022-04-09T19:58:26.598Z"
   },
   {
    "duration": 17,
    "start_time": "2022-04-09T19:58:26.730Z"
   },
   {
    "duration": 10,
    "start_time": "2022-04-09T19:58:26.749Z"
   },
   {
    "duration": 28,
    "start_time": "2022-04-09T19:58:26.761Z"
   },
   {
    "duration": 16,
    "start_time": "2022-04-09T19:58:26.791Z"
   },
   {
    "duration": 45,
    "start_time": "2022-04-09T19:58:26.810Z"
   },
   {
    "duration": 21,
    "start_time": "2022-04-09T19:58:26.858Z"
   },
   {
    "duration": 1786,
    "start_time": "2022-04-09T20:23:27.647Z"
   },
   {
    "duration": 217,
    "start_time": "2022-04-09T20:23:29.436Z"
   },
   {
    "duration": 17,
    "start_time": "2022-04-09T20:23:29.655Z"
   },
   {
    "duration": 813,
    "start_time": "2022-04-09T20:23:29.675Z"
   },
   {
    "duration": 33,
    "start_time": "2022-04-09T20:23:30.490Z"
   },
   {
    "duration": 24,
    "start_time": "2022-04-09T20:23:30.525Z"
   },
   {
    "duration": 716,
    "start_time": "2022-04-09T20:23:30.552Z"
   },
   {
    "duration": 74,
    "start_time": "2022-04-09T20:23:31.270Z"
   },
   {
    "duration": 36,
    "start_time": "2022-04-09T20:23:31.347Z"
   },
   {
    "duration": 162,
    "start_time": "2022-04-09T20:23:31.387Z"
   },
   {
    "duration": 236,
    "start_time": "2022-04-09T20:23:31.552Z"
   },
   {
    "duration": 165,
    "start_time": "2022-04-09T20:23:31.790Z"
   },
   {
    "duration": 16,
    "start_time": "2022-04-09T20:23:31.957Z"
   },
   {
    "duration": 81,
    "start_time": "2022-04-09T20:23:31.975Z"
   },
   {
    "duration": 13,
    "start_time": "2022-04-09T20:23:32.058Z"
   },
   {
    "duration": 126,
    "start_time": "2022-04-09T20:23:32.073Z"
   },
   {
    "duration": 13,
    "start_time": "2022-04-09T20:23:32.201Z"
   },
   {
    "duration": 29,
    "start_time": "2022-04-09T20:23:32.216Z"
   },
   {
    "duration": 18,
    "start_time": "2022-04-09T20:23:32.247Z"
   },
   {
    "duration": 12,
    "start_time": "2022-04-09T20:23:32.267Z"
   },
   {
    "duration": 11,
    "start_time": "2022-04-09T20:23:32.281Z"
   },
   {
    "duration": 48,
    "start_time": "2022-04-09T20:23:32.295Z"
   },
   {
    "duration": 1582,
    "start_time": "2022-04-10T16:17:06.605Z"
   },
   {
    "duration": 177,
    "start_time": "2022-04-10T16:17:08.190Z"
   },
   {
    "duration": 11,
    "start_time": "2022-04-10T16:17:08.369Z"
   },
   {
    "duration": 463,
    "start_time": "2022-04-10T16:17:08.382Z"
   },
   {
    "duration": 25,
    "start_time": "2022-04-10T16:17:08.847Z"
   },
   {
    "duration": 16,
    "start_time": "2022-04-10T16:17:08.874Z"
   },
   {
    "duration": 471,
    "start_time": "2022-04-10T16:17:08.892Z"
   },
   {
    "duration": 43,
    "start_time": "2022-04-10T16:17:09.365Z"
   },
   {
    "duration": 46,
    "start_time": "2022-04-10T16:17:09.410Z"
   },
   {
    "duration": 106,
    "start_time": "2022-04-10T16:17:09.457Z"
   },
   {
    "duration": 208,
    "start_time": "2022-04-10T16:17:09.565Z"
   },
   {
    "duration": 176,
    "start_time": "2022-04-10T16:17:09.776Z"
   },
   {
    "duration": 17,
    "start_time": "2022-04-10T16:17:09.954Z"
   },
   {
    "duration": 71,
    "start_time": "2022-04-10T16:17:09.975Z"
   },
   {
    "duration": 14,
    "start_time": "2022-04-10T16:17:10.048Z"
   },
   {
    "duration": 139,
    "start_time": "2022-04-10T16:17:10.065Z"
   },
   {
    "duration": 13,
    "start_time": "2022-04-10T16:17:10.206Z"
   },
   {
    "duration": 17,
    "start_time": "2022-04-10T16:17:10.221Z"
   },
   {
    "duration": 16,
    "start_time": "2022-04-10T16:17:10.241Z"
   },
   {
    "duration": 14,
    "start_time": "2022-04-10T16:17:10.259Z"
   },
   {
    "duration": 10,
    "start_time": "2022-04-10T16:17:10.275Z"
   },
   {
    "duration": 18,
    "start_time": "2022-04-10T16:17:10.286Z"
   },
   {
    "duration": 1568,
    "start_time": "2022-04-10T16:21:57.361Z"
   },
   {
    "duration": 180,
    "start_time": "2022-04-10T16:21:58.931Z"
   },
   {
    "duration": 12,
    "start_time": "2022-04-10T16:21:59.113Z"
   },
   {
    "duration": 468,
    "start_time": "2022-04-10T16:21:59.138Z"
   },
   {
    "duration": 33,
    "start_time": "2022-04-10T16:21:59.608Z"
   },
   {
    "duration": 6,
    "start_time": "2022-04-10T16:21:59.644Z"
   },
   {
    "duration": 487,
    "start_time": "2022-04-10T16:21:59.651Z"
   },
   {
    "duration": 46,
    "start_time": "2022-04-10T16:22:00.140Z"
   },
   {
    "duration": 52,
    "start_time": "2022-04-10T16:22:00.188Z"
   },
   {
    "duration": 108,
    "start_time": "2022-04-10T16:22:00.243Z"
   },
   {
    "duration": 210,
    "start_time": "2022-04-10T16:22:00.353Z"
   },
   {
    "duration": 187,
    "start_time": "2022-04-10T16:22:00.565Z"
   },
   {
    "duration": 17,
    "start_time": "2022-04-10T16:22:00.754Z"
   },
   {
    "duration": 86,
    "start_time": "2022-04-10T16:22:00.774Z"
   },
   {
    "duration": 9,
    "start_time": "2022-04-10T16:22:00.862Z"
   },
   {
    "duration": 119,
    "start_time": "2022-04-10T16:22:00.873Z"
   },
   {
    "duration": 11,
    "start_time": "2022-04-10T16:22:00.994Z"
   },
   {
    "duration": 29,
    "start_time": "2022-04-10T16:22:01.006Z"
   },
   {
    "duration": 42,
    "start_time": "2022-04-10T16:22:01.037Z"
   },
   {
    "duration": 27,
    "start_time": "2022-04-10T16:22:01.081Z"
   },
   {
    "duration": 21,
    "start_time": "2022-04-10T16:22:01.111Z"
   },
   {
    "duration": 26,
    "start_time": "2022-04-10T16:22:01.134Z"
   },
   {
    "duration": 46,
    "start_time": "2022-04-10T20:17:06.823Z"
   },
   {
    "duration": 1634,
    "start_time": "2022-04-10T20:17:12.659Z"
   },
   {
    "duration": 139,
    "start_time": "2022-04-10T20:17:14.295Z"
   },
   {
    "duration": 10,
    "start_time": "2022-04-10T20:17:14.436Z"
   },
   {
    "duration": 413,
    "start_time": "2022-04-10T20:17:14.449Z"
   },
   {
    "duration": 32,
    "start_time": "2022-04-10T20:17:14.864Z"
   },
   {
    "duration": 6,
    "start_time": "2022-04-10T20:17:14.897Z"
   },
   {
    "duration": 403,
    "start_time": "2022-04-10T20:17:14.905Z"
   },
   {
    "duration": 37,
    "start_time": "2022-04-10T20:17:15.310Z"
   },
   {
    "duration": 33,
    "start_time": "2022-04-10T20:17:15.348Z"
   },
   {
    "duration": 78,
    "start_time": "2022-04-10T20:17:15.384Z"
   },
   {
    "duration": 183,
    "start_time": "2022-04-10T20:17:15.463Z"
   },
   {
    "duration": 68,
    "start_time": "2022-04-10T20:17:15.647Z"
   },
   {
    "duration": 10,
    "start_time": "2022-04-10T20:17:15.716Z"
   },
   {
    "duration": 79,
    "start_time": "2022-04-10T20:17:15.728Z"
   },
   {
    "duration": 7,
    "start_time": "2022-04-10T20:17:15.809Z"
   },
   {
    "duration": 86,
    "start_time": "2022-04-10T20:17:15.818Z"
   },
   {
    "duration": 7,
    "start_time": "2022-04-10T20:17:15.906Z"
   },
   {
    "duration": 8,
    "start_time": "2022-04-10T20:17:15.914Z"
   },
   {
    "duration": 11,
    "start_time": "2022-04-10T20:17:15.923Z"
   },
   {
    "duration": 8,
    "start_time": "2022-04-10T20:17:15.936Z"
   },
   {
    "duration": 10,
    "start_time": "2022-04-10T20:17:15.945Z"
   },
   {
    "duration": 31,
    "start_time": "2022-04-10T20:17:15.956Z"
   },
   {
    "duration": 29,
    "start_time": "2022-04-10T20:17:46.143Z"
   },
   {
    "duration": 25,
    "start_time": "2022-04-10T20:18:31.609Z"
   },
   {
    "duration": 25,
    "start_time": "2022-04-10T20:18:50.921Z"
   },
   {
    "duration": 33,
    "start_time": "2022-04-10T20:19:18.843Z"
   },
   {
    "duration": 25,
    "start_time": "2022-04-10T20:19:24.118Z"
   },
   {
    "duration": 186,
    "start_time": "2022-04-10T20:19:42.855Z"
   },
   {
    "duration": 25,
    "start_time": "2022-04-10T20:19:54.917Z"
   },
   {
    "duration": 27,
    "start_time": "2022-04-10T20:20:03.843Z"
   },
   {
    "duration": 25,
    "start_time": "2022-04-10T20:21:51.295Z"
   },
   {
    "duration": 27,
    "start_time": "2022-04-10T20:25:17.360Z"
   },
   {
    "duration": 27,
    "start_time": "2022-04-10T20:25:59.847Z"
   },
   {
    "duration": 188,
    "start_time": "2022-04-10T20:32:41.423Z"
   },
   {
    "duration": 1331,
    "start_time": "2022-04-10T20:57:07.578Z"
   },
   {
    "duration": 147,
    "start_time": "2022-04-10T20:57:08.911Z"
   },
   {
    "duration": 9,
    "start_time": "2022-04-10T20:57:09.060Z"
   },
   {
    "duration": 385,
    "start_time": "2022-04-10T20:57:09.081Z"
   },
   {
    "duration": 24,
    "start_time": "2022-04-10T20:57:09.467Z"
   },
   {
    "duration": 5,
    "start_time": "2022-04-10T20:57:09.492Z"
   },
   {
    "duration": 409,
    "start_time": "2022-04-10T20:57:09.498Z"
   },
   {
    "duration": 44,
    "start_time": "2022-04-10T20:57:09.908Z"
   },
   {
    "duration": 32,
    "start_time": "2022-04-10T20:57:09.954Z"
   },
   {
    "duration": 92,
    "start_time": "2022-04-10T20:57:09.989Z"
   },
   {
    "duration": 142,
    "start_time": "2022-04-10T20:57:10.083Z"
   },
   {
    "duration": 83,
    "start_time": "2022-04-10T20:57:10.227Z"
   },
   {
    "duration": 9,
    "start_time": "2022-04-10T20:57:10.312Z"
   },
   {
    "duration": 86,
    "start_time": "2022-04-10T20:57:10.323Z"
   },
   {
    "duration": 7,
    "start_time": "2022-04-10T20:57:10.411Z"
   },
   {
    "duration": 80,
    "start_time": "2022-04-10T20:57:10.420Z"
   },
   {
    "duration": 8,
    "start_time": "2022-04-10T20:57:10.501Z"
   },
   {
    "duration": 8,
    "start_time": "2022-04-10T20:57:10.510Z"
   },
   {
    "duration": 15,
    "start_time": "2022-04-10T20:57:10.520Z"
   },
   {
    "duration": 13,
    "start_time": "2022-04-10T20:57:10.536Z"
   },
   {
    "duration": 7,
    "start_time": "2022-04-10T20:57:10.551Z"
   },
   {
    "duration": 25,
    "start_time": "2022-04-10T20:57:10.560Z"
   },
   {
    "duration": 5,
    "start_time": "2022-04-10T21:11:29.674Z"
   },
   {
    "duration": 19,
    "start_time": "2022-04-10T21:12:07.700Z"
   },
   {
    "duration": 13,
    "start_time": "2022-04-10T21:13:25.634Z"
   },
   {
    "duration": 11,
    "start_time": "2022-04-10T21:14:37.248Z"
   },
   {
    "duration": 12,
    "start_time": "2022-04-10T21:14:51.795Z"
   },
   {
    "duration": 12,
    "start_time": "2022-04-10T21:15:02.441Z"
   },
   {
    "duration": 80,
    "start_time": "2022-04-10T21:15:10.472Z"
   },
   {
    "duration": 13,
    "start_time": "2022-04-10T21:15:36.417Z"
   },
   {
    "duration": 144,
    "start_time": "2022-04-10T21:17:41.545Z"
   },
   {
    "duration": 1361,
    "start_time": "2022-04-10T21:18:54.634Z"
   },
   {
    "duration": 153,
    "start_time": "2022-04-10T21:18:55.997Z"
   },
   {
    "duration": 10,
    "start_time": "2022-04-10T21:18:56.152Z"
   },
   {
    "duration": 400,
    "start_time": "2022-04-10T21:18:56.165Z"
   },
   {
    "duration": 33,
    "start_time": "2022-04-10T21:18:56.566Z"
   },
   {
    "duration": 5,
    "start_time": "2022-04-10T21:18:56.600Z"
   },
   {
    "duration": 405,
    "start_time": "2022-04-10T21:18:56.606Z"
   },
   {
    "duration": 44,
    "start_time": "2022-04-10T21:18:57.012Z"
   },
   {
    "duration": 36,
    "start_time": "2022-04-10T21:18:57.058Z"
   },
   {
    "duration": 92,
    "start_time": "2022-04-10T21:18:57.096Z"
   },
   {
    "duration": 157,
    "start_time": "2022-04-10T21:18:57.190Z"
   },
   {
    "duration": 72,
    "start_time": "2022-04-10T21:18:57.349Z"
   },
   {
    "duration": 10,
    "start_time": "2022-04-10T21:18:57.422Z"
   },
   {
    "duration": 31,
    "start_time": "2022-04-10T21:18:57.481Z"
   },
   {
    "duration": 8,
    "start_time": "2022-04-10T21:18:57.514Z"
   },
   {
    "duration": 84,
    "start_time": "2022-04-10T21:18:57.523Z"
   },
   {
    "duration": 14,
    "start_time": "2022-04-10T21:18:57.608Z"
   },
   {
    "duration": 8,
    "start_time": "2022-04-10T21:18:57.623Z"
   },
   {
    "duration": 4,
    "start_time": "2022-04-10T21:18:57.632Z"
   },
   {
    "duration": 11,
    "start_time": "2022-04-10T21:18:57.638Z"
   },
   {
    "duration": 33,
    "start_time": "2022-04-10T21:18:57.650Z"
   },
   {
    "duration": 7,
    "start_time": "2022-04-10T21:18:57.685Z"
   },
   {
    "duration": 8,
    "start_time": "2022-04-10T21:18:57.694Z"
   },
   {
    "duration": 1222,
    "start_time": "2022-04-11T07:27:07.608Z"
   },
   {
    "duration": 129,
    "start_time": "2022-04-11T07:27:08.832Z"
   },
   {
    "duration": 14,
    "start_time": "2022-04-11T07:27:08.963Z"
   },
   {
    "duration": 377,
    "start_time": "2022-04-11T07:27:08.978Z"
   },
   {
    "duration": 23,
    "start_time": "2022-04-11T07:27:09.358Z"
   },
   {
    "duration": 5,
    "start_time": "2022-04-11T07:27:09.382Z"
   },
   {
    "duration": 382,
    "start_time": "2022-04-11T07:27:09.388Z"
   },
   {
    "duration": 38,
    "start_time": "2022-04-11T07:27:09.772Z"
   },
   {
    "duration": 20,
    "start_time": "2022-04-11T07:27:09.812Z"
   },
   {
    "duration": 96,
    "start_time": "2022-04-11T07:27:09.833Z"
   },
   {
    "duration": 177,
    "start_time": "2022-04-11T07:27:09.930Z"
   },
   {
    "duration": 83,
    "start_time": "2022-04-11T07:27:10.109Z"
   },
   {
    "duration": 11,
    "start_time": "2022-04-11T07:27:10.193Z"
   },
   {
    "duration": 77,
    "start_time": "2022-04-11T07:27:10.207Z"
   },
   {
    "duration": 8,
    "start_time": "2022-04-11T07:27:10.286Z"
   },
   {
    "duration": 78,
    "start_time": "2022-04-11T07:27:10.295Z"
   },
   {
    "duration": 16,
    "start_time": "2022-04-11T07:27:10.375Z"
   },
   {
    "duration": 7,
    "start_time": "2022-04-11T07:27:10.393Z"
   },
   {
    "duration": 6,
    "start_time": "2022-04-11T07:27:10.402Z"
   },
   {
    "duration": 11,
    "start_time": "2022-04-11T07:27:10.409Z"
   },
   {
    "duration": 8,
    "start_time": "2022-04-11T07:27:10.422Z"
   },
   {
    "duration": 7,
    "start_time": "2022-04-11T07:27:10.431Z"
   },
   {
    "duration": 37,
    "start_time": "2022-04-11T07:27:10.439Z"
   },
   {
    "duration": 1689,
    "start_time": "2022-06-29T22:23:29.741Z"
   },
   {
    "duration": 155,
    "start_time": "2022-06-29T22:23:31.432Z"
   },
   {
    "duration": 10,
    "start_time": "2022-06-29T22:23:31.589Z"
   },
   {
    "duration": 418,
    "start_time": "2022-06-29T22:23:31.601Z"
   },
   {
    "duration": 26,
    "start_time": "2022-06-29T22:23:32.020Z"
   },
   {
    "duration": 6,
    "start_time": "2022-06-29T22:23:32.048Z"
   },
   {
    "duration": 437,
    "start_time": "2022-06-29T22:23:32.055Z"
   },
   {
    "duration": 51,
    "start_time": "2022-06-29T22:23:32.493Z"
   },
   {
    "duration": 25,
    "start_time": "2022-06-29T22:23:32.546Z"
   },
   {
    "duration": 103,
    "start_time": "2022-06-29T22:23:32.573Z"
   },
   {
    "duration": 137,
    "start_time": "2022-06-29T22:23:32.677Z"
   },
   {
    "duration": 113,
    "start_time": "2022-06-29T22:23:32.816Z"
   },
   {
    "duration": 11,
    "start_time": "2022-06-29T22:23:32.930Z"
   },
   {
    "duration": 34,
    "start_time": "2022-06-29T22:23:32.943Z"
   },
   {
    "duration": 9,
    "start_time": "2022-06-29T22:23:32.978Z"
   },
   {
    "duration": 104,
    "start_time": "2022-06-29T22:23:32.989Z"
   },
   {
    "duration": 14,
    "start_time": "2022-06-29T22:23:33.095Z"
   },
   {
    "duration": 22,
    "start_time": "2022-06-29T22:23:33.111Z"
   },
   {
    "duration": 7,
    "start_time": "2022-06-29T22:23:33.135Z"
   },
   {
    "duration": 13,
    "start_time": "2022-06-29T22:23:33.144Z"
   },
   {
    "duration": 9,
    "start_time": "2022-06-29T22:23:33.159Z"
   },
   {
    "duration": 10,
    "start_time": "2022-06-29T22:23:33.170Z"
   },
   {
    "duration": 9,
    "start_time": "2022-06-29T22:23:33.181Z"
   },
   {
    "duration": 1346,
    "start_time": "2022-06-29T23:50:30.607Z"
   },
   {
    "duration": 153,
    "start_time": "2022-06-29T23:50:31.955Z"
   },
   {
    "duration": 21,
    "start_time": "2022-06-29T23:50:32.112Z"
   },
   {
    "duration": 412,
    "start_time": "2022-06-29T23:50:32.135Z"
   },
   {
    "duration": 22,
    "start_time": "2022-06-29T23:50:32.549Z"
   },
   {
    "duration": 5,
    "start_time": "2022-06-29T23:50:32.573Z"
   },
   {
    "duration": 426,
    "start_time": "2022-06-29T23:50:32.579Z"
   },
   {
    "duration": 56,
    "start_time": "2022-06-29T23:50:33.007Z"
   },
   {
    "duration": 25,
    "start_time": "2022-06-29T23:50:33.065Z"
   },
   {
    "duration": 100,
    "start_time": "2022-06-29T23:50:33.091Z"
   },
   {
    "duration": 149,
    "start_time": "2022-06-29T23:50:33.193Z"
   },
   {
    "duration": 110,
    "start_time": "2022-06-29T23:50:33.343Z"
   },
   {
    "duration": 10,
    "start_time": "2022-06-29T23:50:33.455Z"
   },
   {
    "duration": 83,
    "start_time": "2022-06-29T23:50:33.466Z"
   },
   {
    "duration": 8,
    "start_time": "2022-06-29T23:50:33.550Z"
   },
   {
    "duration": 82,
    "start_time": "2022-06-29T23:50:33.560Z"
   },
   {
    "duration": 14,
    "start_time": "2022-06-29T23:50:33.644Z"
   },
   {
    "duration": 8,
    "start_time": "2022-06-29T23:50:33.659Z"
   },
   {
    "duration": 12,
    "start_time": "2022-06-29T23:50:33.668Z"
   },
   {
    "duration": 14,
    "start_time": "2022-06-29T23:50:33.681Z"
   },
   {
    "duration": 8,
    "start_time": "2022-06-29T23:50:33.697Z"
   },
   {
    "duration": 27,
    "start_time": "2022-06-29T23:50:33.707Z"
   },
   {
    "duration": 14,
    "start_time": "2022-06-29T23:50:33.735Z"
   },
   {
    "duration": 9,
    "start_time": "2022-06-29T23:51:01.188Z"
   },
   {
    "duration": 6,
    "start_time": "2022-06-29T23:51:19.087Z"
   },
   {
    "duration": 8,
    "start_time": "2022-06-29T23:51:28.069Z"
   },
   {
    "duration": 1331,
    "start_time": "2022-06-30T16:30:46.870Z"
   },
   {
    "duration": 167,
    "start_time": "2022-06-30T16:30:48.203Z"
   },
   {
    "duration": 11,
    "start_time": "2022-06-30T16:30:48.371Z"
   },
   {
    "duration": 426,
    "start_time": "2022-06-30T16:30:48.384Z"
   },
   {
    "duration": 27,
    "start_time": "2022-06-30T16:30:48.812Z"
   },
   {
    "duration": 5,
    "start_time": "2022-06-30T16:30:48.840Z"
   },
   {
    "duration": 457,
    "start_time": "2022-06-30T16:30:48.847Z"
   },
   {
    "duration": 59,
    "start_time": "2022-06-30T16:30:49.306Z"
   },
   {
    "duration": 25,
    "start_time": "2022-06-30T16:30:49.366Z"
   },
   {
    "duration": 104,
    "start_time": "2022-06-30T16:30:49.393Z"
   },
   {
    "duration": 138,
    "start_time": "2022-06-30T16:30:49.499Z"
   },
   {
    "duration": 111,
    "start_time": "2022-06-30T16:30:49.639Z"
   },
   {
    "duration": 11,
    "start_time": "2022-06-30T16:30:49.752Z"
   },
   {
    "duration": 88,
    "start_time": "2022-06-30T16:30:49.764Z"
   },
   {
    "duration": 8,
    "start_time": "2022-06-30T16:30:49.854Z"
   },
   {
    "duration": 12,
    "start_time": "2022-06-30T16:30:49.863Z"
   },
   {
    "duration": 93,
    "start_time": "2022-06-30T16:30:49.876Z"
   },
   {
    "duration": 16,
    "start_time": "2022-06-30T16:30:49.970Z"
   },
   {
    "duration": 8,
    "start_time": "2022-06-30T16:30:49.987Z"
   },
   {
    "duration": 5,
    "start_time": "2022-06-30T16:30:49.997Z"
   },
   {
    "duration": 15,
    "start_time": "2022-06-30T16:30:50.027Z"
   },
   {
    "duration": 11,
    "start_time": "2022-06-30T16:30:50.043Z"
   },
   {
    "duration": 10,
    "start_time": "2022-06-30T16:30:50.055Z"
   },
   {
    "duration": 20,
    "start_time": "2022-06-30T16:30:50.066Z"
   },
   {
    "duration": 115,
    "start_time": "2022-06-30T16:31:03.241Z"
   },
   {
    "duration": 7,
    "start_time": "2022-06-30T16:31:10.194Z"
   },
   {
    "duration": 4,
    "start_time": "2022-06-30T16:31:29.719Z"
   },
   {
    "duration": 1187,
    "start_time": "2022-06-30T16:53:30.149Z"
   },
   {
    "duration": 1300,
    "start_time": "2022-06-30T16:53:38.682Z"
   },
   {
    "duration": 165,
    "start_time": "2022-06-30T16:53:39.984Z"
   },
   {
    "duration": 11,
    "start_time": "2022-06-30T16:53:40.151Z"
   },
   {
    "duration": 438,
    "start_time": "2022-06-30T16:53:40.163Z"
   },
   {
    "duration": 31,
    "start_time": "2022-06-30T16:53:40.602Z"
   },
   {
    "duration": 6,
    "start_time": "2022-06-30T16:53:40.634Z"
   },
   {
    "duration": 464,
    "start_time": "2022-06-30T16:53:40.641Z"
   },
   {
    "duration": 54,
    "start_time": "2022-06-30T16:53:41.107Z"
   },
   {
    "duration": 28,
    "start_time": "2022-06-30T16:53:41.163Z"
   },
   {
    "duration": 121,
    "start_time": "2022-06-30T16:53:41.194Z"
   },
   {
    "duration": 138,
    "start_time": "2022-06-30T16:53:41.316Z"
   },
   {
    "duration": 98,
    "start_time": "2022-06-30T16:53:41.456Z"
   },
   {
    "duration": 11,
    "start_time": "2022-06-30T16:53:41.555Z"
   },
   {
    "duration": 83,
    "start_time": "2022-06-30T16:53:41.568Z"
   },
   {
    "duration": 8,
    "start_time": "2022-06-30T16:53:41.653Z"
   },
   {
    "duration": 9,
    "start_time": "2022-06-30T16:53:41.663Z"
   },
   {
    "duration": 10,
    "start_time": "2022-06-30T16:53:41.673Z"
   },
   {
    "duration": 94,
    "start_time": "2022-06-30T16:53:41.684Z"
   },
   {
    "duration": 15,
    "start_time": "2022-06-30T16:53:41.780Z"
   },
   {
    "duration": 8,
    "start_time": "2022-06-30T16:53:41.796Z"
   },
   {
    "duration": 22,
    "start_time": "2022-06-30T16:53:41.806Z"
   },
   {
    "duration": 9,
    "start_time": "2022-06-30T16:53:41.830Z"
   },
   {
    "duration": 10,
    "start_time": "2022-06-30T16:53:41.841Z"
   },
   {
    "duration": 9,
    "start_time": "2022-06-30T16:53:41.853Z"
   },
   {
    "duration": 11,
    "start_time": "2022-06-30T16:53:41.863Z"
   },
   {
    "duration": 8,
    "start_time": "2022-06-30T16:53:41.876Z"
   },
   {
    "duration": 6,
    "start_time": "2022-06-30T16:54:01.321Z"
   },
   {
    "duration": 7,
    "start_time": "2022-06-30T16:54:22.668Z"
   },
   {
    "duration": 125,
    "start_time": "2022-06-30T17:14:28.069Z"
   },
   {
    "duration": 1427,
    "start_time": "2022-06-30T17:14:36.578Z"
   },
   {
    "duration": 166,
    "start_time": "2022-06-30T17:14:38.007Z"
   },
   {
    "duration": 16,
    "start_time": "2022-06-30T17:14:38.175Z"
   },
   {
    "duration": 458,
    "start_time": "2022-06-30T17:14:38.193Z"
   },
   {
    "duration": 22,
    "start_time": "2022-06-30T17:14:38.652Z"
   },
   {
    "duration": 6,
    "start_time": "2022-06-30T17:14:38.677Z"
   },
   {
    "duration": 487,
    "start_time": "2022-06-30T17:14:38.685Z"
   },
   {
    "duration": 62,
    "start_time": "2022-06-30T17:14:39.174Z"
   },
   {
    "duration": 32,
    "start_time": "2022-06-30T17:14:39.237Z"
   },
   {
    "duration": 146,
    "start_time": "2022-06-30T17:14:39.276Z"
   },
   {
    "duration": 150,
    "start_time": "2022-06-30T17:14:39.429Z"
   },
   {
    "duration": 118,
    "start_time": "2022-06-30T17:14:39.628Z"
   },
   {
    "duration": 11,
    "start_time": "2022-06-30T17:14:39.748Z"
   },
   {
    "duration": 91,
    "start_time": "2022-06-30T17:14:39.760Z"
   },
   {
    "duration": 10,
    "start_time": "2022-06-30T17:14:39.852Z"
   },
   {
    "duration": 66,
    "start_time": "2022-06-30T17:14:39.863Z"
   },
   {
    "duration": 220,
    "start_time": "2022-06-30T17:14:39.931Z"
   },
   {
    "duration": 0,
    "start_time": "2022-06-30T17:14:40.154Z"
   },
   {
    "duration": 0,
    "start_time": "2022-06-30T17:14:40.157Z"
   },
   {
    "duration": 0,
    "start_time": "2022-06-30T17:14:40.158Z"
   },
   {
    "duration": 0,
    "start_time": "2022-06-30T17:14:40.160Z"
   },
   {
    "duration": 0,
    "start_time": "2022-06-30T17:14:40.161Z"
   },
   {
    "duration": 0,
    "start_time": "2022-06-30T17:14:40.163Z"
   },
   {
    "duration": 0,
    "start_time": "2022-06-30T17:14:40.164Z"
   },
   {
    "duration": 0,
    "start_time": "2022-06-30T17:14:40.165Z"
   },
   {
    "duration": 0,
    "start_time": "2022-06-30T17:14:40.167Z"
   },
   {
    "duration": 7,
    "start_time": "2022-06-30T17:14:55.220Z"
   },
   {
    "duration": 9,
    "start_time": "2022-06-30T17:15:03.455Z"
   },
   {
    "duration": 4,
    "start_time": "2022-06-30T17:15:15.358Z"
   },
   {
    "duration": 11,
    "start_time": "2022-06-30T17:45:33.869Z"
   },
   {
    "duration": 1450,
    "start_time": "2022-06-30T17:45:40.166Z"
   },
   {
    "duration": 162,
    "start_time": "2022-06-30T17:45:41.626Z"
   },
   {
    "duration": 15,
    "start_time": "2022-06-30T17:45:41.790Z"
   },
   {
    "duration": 481,
    "start_time": "2022-06-30T17:45:41.807Z"
   },
   {
    "duration": 38,
    "start_time": "2022-06-30T17:45:42.290Z"
   },
   {
    "duration": 6,
    "start_time": "2022-06-30T17:45:42.329Z"
   },
   {
    "duration": 444,
    "start_time": "2022-06-30T17:45:42.338Z"
   },
   {
    "duration": 67,
    "start_time": "2022-06-30T17:45:42.783Z"
   },
   {
    "duration": 34,
    "start_time": "2022-06-30T17:45:42.852Z"
   },
   {
    "duration": 101,
    "start_time": "2022-06-30T17:45:42.889Z"
   },
   {
    "duration": 144,
    "start_time": "2022-06-30T17:45:42.992Z"
   },
   {
    "duration": 141,
    "start_time": "2022-06-30T17:45:43.138Z"
   },
   {
    "duration": 50,
    "start_time": "2022-06-30T17:45:43.281Z"
   },
   {
    "duration": 40,
    "start_time": "2022-06-30T17:45:43.333Z"
   },
   {
    "duration": 9,
    "start_time": "2022-06-30T17:45:43.375Z"
   },
   {
    "duration": 11,
    "start_time": "2022-06-30T17:45:43.386Z"
   },
   {
    "duration": 31,
    "start_time": "2022-06-30T17:45:43.398Z"
   },
   {
    "duration": 80,
    "start_time": "2022-06-30T17:45:43.430Z"
   },
   {
    "duration": 16,
    "start_time": "2022-06-30T17:45:43.527Z"
   },
   {
    "duration": 10,
    "start_time": "2022-06-30T17:45:43.545Z"
   },
   {
    "duration": 7,
    "start_time": "2022-06-30T17:45:43.557Z"
   },
   {
    "duration": 15,
    "start_time": "2022-06-30T17:45:43.565Z"
   },
   {
    "duration": 12,
    "start_time": "2022-06-30T17:45:43.581Z"
   },
   {
    "duration": 9,
    "start_time": "2022-06-30T17:45:43.629Z"
   },
   {
    "duration": 21,
    "start_time": "2022-06-30T17:45:43.640Z"
   },
   {
    "duration": 11,
    "start_time": "2022-06-30T17:45:43.663Z"
   },
   {
    "duration": 110,
    "start_time": "2022-06-30T18:51:32.853Z"
   },
   {
    "duration": 10,
    "start_time": "2022-06-30T18:51:39.405Z"
   },
   {
    "duration": 9,
    "start_time": "2022-06-30T18:58:18.638Z"
   },
   {
    "duration": 10,
    "start_time": "2022-06-30T18:58:21.283Z"
   },
   {
    "duration": 5,
    "start_time": "2022-06-30T18:58:27.020Z"
   },
   {
    "duration": 10,
    "start_time": "2022-06-30T18:58:28.510Z"
   },
   {
    "duration": 9,
    "start_time": "2022-06-30T18:58:29.045Z"
   },
   {
    "duration": 5,
    "start_time": "2022-06-30T19:23:28.012Z"
   },
   {
    "duration": 10,
    "start_time": "2022-06-30T19:23:28.841Z"
   },
   {
    "duration": 9,
    "start_time": "2022-06-30T19:23:29.472Z"
   },
   {
    "duration": 6,
    "start_time": "2022-06-30T19:24:04.509Z"
   },
   {
    "duration": 9,
    "start_time": "2022-06-30T19:24:05.460Z"
   }
  ],
  "kernelspec": {
   "display_name": "Python 3 (ipykernel)",
   "language": "python",
   "name": "python3"
  },
  "language_info": {
   "codemirror_mode": {
    "name": "ipython",
    "version": 3
   },
   "file_extension": ".py",
   "mimetype": "text/x-python",
   "name": "python",
   "nbconvert_exporter": "python",
   "pygments_lexer": "ipython3",
   "version": "3.9.12"
  },
  "toc": {
   "base_numbering": "1",
   "nav_menu": {},
   "number_sections": true,
   "sideBar": true,
   "skip_h1_title": true,
   "title_cell": "Содержание:",
   "title_sidebar": "Содержание:",
   "toc_cell": false,
   "toc_position": {
    "height": "calc(100% - 180px)",
    "left": "10px",
    "top": "150px",
    "width": "366.391px"
   },
   "toc_section_display": true,
   "toc_window_display": true
  }
 },
 "nbformat": 4,
 "nbformat_minor": 2
}
