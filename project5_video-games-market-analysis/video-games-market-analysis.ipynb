{
 "cells": [
  {
   "cell_type": "markdown",
   "metadata": {},
   "source": [
    "# Анализ исторических данных о продажах игр, оценок пользователей и экспертов, жанров и платформ для выявления потенциально популярного продукта и планирования рекламных кампаний на следующий год."
   ]
  },
  {
   "cell_type": "markdown",
   "metadata": {},
   "source": [
    "Из открытых источников доступны исторические данные о продажах игр, оценки пользователей и экспертов, жанры и платформы (например, Xbox или PlayStation). Нужно выявить определяющие успешность игры закономерности. Это позволит сделать ставку на потенциально популярный продукт и спланировать рекламные кампании.\n",
    "\n",
    "Перед нами данные до 2016 года. Представим, что сейчас декабрь 2016 г., и мы планируем кампанию на 2017-й. Нужно отработать принцип работы с данными. Неважно, прогнозируем ли мы продажи на 2017 год по данным 2016-го или же 2027-й — по данным 2026 года.\n",
    "\n",
    "В наборе данных попадается аббревиатура ESRB (Entertainment Software Rating Board) — это ассоциация, определяющая возрастной рейтинг компьютерных игр. ESRB оценивает игровой контент и присваивает ему подходящую возрастную категорию, например, «Для взрослых», «Для детей младшего возраста» или «Для подростков»."
   ]
  },
  {
   "cell_type": "markdown",
   "metadata": {},
   "source": [
    "<b>Описание данных:</b>\n",
    "* Name — название игры\n",
    "* Platform — платформа\n",
    "* Year_of_Release — год выпуска\n",
    "* Genre — жанр игры\n",
    "* NA_sales — продажи в Северной Америке (миллионы проданных копий)\n",
    "* EU_sales — продажи в Европе (миллионы проданных копий)\n",
    "* JP_sales — продажи в Японии (миллионы проданных копий)\n",
    "* Other_sales — продажи в других странах (миллионы проданных копий)\n",
    "* Critic_Score — оценка критиков (максимум 100)\n",
    "* User_Score — оценка пользователей (максимум 10)\n",
    "* Rating — рейтинг от организации ESRB (англ. Entertainment Software Rating Board). Эта ассоциация определяет рейтинг компьютерных игр и присваивает им подходящую возрастную категорию.<br/><br/>\n",
    "Данные за 2016 год могут быть неполными."
   ]
  },
  {
   "cell_type": "markdown",
   "metadata": {},
   "source": [
    "##  Открываем файл с данными и изучаем общую информацию."
   ]
  },
  {
   "cell_type": "code",
   "execution_count": 1,
   "metadata": {},
   "outputs": [
    {
     "name": "stdout",
     "output_type": "stream",
     "text": [
      "<class 'pandas.core.frame.DataFrame'>\n",
      "RangeIndex: 16715 entries, 0 to 16714\n",
      "Data columns (total 11 columns):\n",
      " #   Column           Non-Null Count  Dtype  \n",
      "---  ------           --------------  -----  \n",
      " 0   Name             16713 non-null  object \n",
      " 1   Platform         16715 non-null  object \n",
      " 2   Year_of_Release  16446 non-null  float64\n",
      " 3   Genre            16713 non-null  object \n",
      " 4   NA_sales         16715 non-null  float64\n",
      " 5   EU_sales         16715 non-null  float64\n",
      " 6   JP_sales         16715 non-null  float64\n",
      " 7   Other_sales      16715 non-null  float64\n",
      " 8   Critic_Score     8137 non-null   float64\n",
      " 9   User_Score       10014 non-null  object \n",
      " 10  Rating           9949 non-null   object \n",
      "dtypes: float64(6), object(5)\n",
      "memory usage: 1.4+ MB\n"
     ]
    },
    {
     "data": {
      "text/html": [
       "<div>\n",
       "<style scoped>\n",
       "    .dataframe tbody tr th:only-of-type {\n",
       "        vertical-align: middle;\n",
       "    }\n",
       "\n",
       "    .dataframe tbody tr th {\n",
       "        vertical-align: top;\n",
       "    }\n",
       "\n",
       "    .dataframe thead th {\n",
       "        text-align: right;\n",
       "    }\n",
       "</style>\n",
       "<table border=\"1\" class=\"dataframe\">\n",
       "  <thead>\n",
       "    <tr style=\"text-align: right;\">\n",
       "      <th></th>\n",
       "      <th>Name</th>\n",
       "      <th>Platform</th>\n",
       "      <th>Year_of_Release</th>\n",
       "      <th>Genre</th>\n",
       "      <th>NA_sales</th>\n",
       "      <th>EU_sales</th>\n",
       "      <th>JP_sales</th>\n",
       "      <th>Other_sales</th>\n",
       "      <th>Critic_Score</th>\n",
       "      <th>User_Score</th>\n",
       "      <th>Rating</th>\n",
       "    </tr>\n",
       "  </thead>\n",
       "  <tbody>\n",
       "    <tr>\n",
       "      <th>0</th>\n",
       "      <td>Wii Sports</td>\n",
       "      <td>Wii</td>\n",
       "      <td>2006.0</td>\n",
       "      <td>Sports</td>\n",
       "      <td>41.36</td>\n",
       "      <td>28.96</td>\n",
       "      <td>3.77</td>\n",
       "      <td>8.45</td>\n",
       "      <td>76.0</td>\n",
       "      <td>8</td>\n",
       "      <td>E</td>\n",
       "    </tr>\n",
       "    <tr>\n",
       "      <th>1</th>\n",
       "      <td>Super Mario Bros.</td>\n",
       "      <td>NES</td>\n",
       "      <td>1985.0</td>\n",
       "      <td>Platform</td>\n",
       "      <td>29.08</td>\n",
       "      <td>3.58</td>\n",
       "      <td>6.81</td>\n",
       "      <td>0.77</td>\n",
       "      <td>NaN</td>\n",
       "      <td>NaN</td>\n",
       "      <td>NaN</td>\n",
       "    </tr>\n",
       "    <tr>\n",
       "      <th>2</th>\n",
       "      <td>Mario Kart Wii</td>\n",
       "      <td>Wii</td>\n",
       "      <td>2008.0</td>\n",
       "      <td>Racing</td>\n",
       "      <td>15.68</td>\n",
       "      <td>12.76</td>\n",
       "      <td>3.79</td>\n",
       "      <td>3.29</td>\n",
       "      <td>82.0</td>\n",
       "      <td>8.3</td>\n",
       "      <td>E</td>\n",
       "    </tr>\n",
       "    <tr>\n",
       "      <th>3</th>\n",
       "      <td>Wii Sports Resort</td>\n",
       "      <td>Wii</td>\n",
       "      <td>2009.0</td>\n",
       "      <td>Sports</td>\n",
       "      <td>15.61</td>\n",
       "      <td>10.93</td>\n",
       "      <td>3.28</td>\n",
       "      <td>2.95</td>\n",
       "      <td>80.0</td>\n",
       "      <td>8</td>\n",
       "      <td>E</td>\n",
       "    </tr>\n",
       "    <tr>\n",
       "      <th>4</th>\n",
       "      <td>Pokemon Red/Pokemon Blue</td>\n",
       "      <td>GB</td>\n",
       "      <td>1996.0</td>\n",
       "      <td>Role-Playing</td>\n",
       "      <td>11.27</td>\n",
       "      <td>8.89</td>\n",
       "      <td>10.22</td>\n",
       "      <td>1.00</td>\n",
       "      <td>NaN</td>\n",
       "      <td>NaN</td>\n",
       "      <td>NaN</td>\n",
       "    </tr>\n",
       "    <tr>\n",
       "      <th>5</th>\n",
       "      <td>Tetris</td>\n",
       "      <td>GB</td>\n",
       "      <td>1989.0</td>\n",
       "      <td>Puzzle</td>\n",
       "      <td>23.20</td>\n",
       "      <td>2.26</td>\n",
       "      <td>4.22</td>\n",
       "      <td>0.58</td>\n",
       "      <td>NaN</td>\n",
       "      <td>NaN</td>\n",
       "      <td>NaN</td>\n",
       "    </tr>\n",
       "    <tr>\n",
       "      <th>6</th>\n",
       "      <td>New Super Mario Bros.</td>\n",
       "      <td>DS</td>\n",
       "      <td>2006.0</td>\n",
       "      <td>Platform</td>\n",
       "      <td>11.28</td>\n",
       "      <td>9.14</td>\n",
       "      <td>6.50</td>\n",
       "      <td>2.88</td>\n",
       "      <td>89.0</td>\n",
       "      <td>8.5</td>\n",
       "      <td>E</td>\n",
       "    </tr>\n",
       "    <tr>\n",
       "      <th>7</th>\n",
       "      <td>Wii Play</td>\n",
       "      <td>Wii</td>\n",
       "      <td>2006.0</td>\n",
       "      <td>Misc</td>\n",
       "      <td>13.96</td>\n",
       "      <td>9.18</td>\n",
       "      <td>2.93</td>\n",
       "      <td>2.84</td>\n",
       "      <td>58.0</td>\n",
       "      <td>6.6</td>\n",
       "      <td>E</td>\n",
       "    </tr>\n",
       "    <tr>\n",
       "      <th>8</th>\n",
       "      <td>New Super Mario Bros. Wii</td>\n",
       "      <td>Wii</td>\n",
       "      <td>2009.0</td>\n",
       "      <td>Platform</td>\n",
       "      <td>14.44</td>\n",
       "      <td>6.94</td>\n",
       "      <td>4.70</td>\n",
       "      <td>2.24</td>\n",
       "      <td>87.0</td>\n",
       "      <td>8.4</td>\n",
       "      <td>E</td>\n",
       "    </tr>\n",
       "    <tr>\n",
       "      <th>9</th>\n",
       "      <td>Duck Hunt</td>\n",
       "      <td>NES</td>\n",
       "      <td>1984.0</td>\n",
       "      <td>Shooter</td>\n",
       "      <td>26.93</td>\n",
       "      <td>0.63</td>\n",
       "      <td>0.28</td>\n",
       "      <td>0.47</td>\n",
       "      <td>NaN</td>\n",
       "      <td>NaN</td>\n",
       "      <td>NaN</td>\n",
       "    </tr>\n",
       "  </tbody>\n",
       "</table>\n",
       "</div>"
      ],
      "text/plain": [
       "                        Name Platform  Year_of_Release         Genre  \\\n",
       "0                 Wii Sports      Wii           2006.0        Sports   \n",
       "1          Super Mario Bros.      NES           1985.0      Platform   \n",
       "2             Mario Kart Wii      Wii           2008.0        Racing   \n",
       "3          Wii Sports Resort      Wii           2009.0        Sports   \n",
       "4   Pokemon Red/Pokemon Blue       GB           1996.0  Role-Playing   \n",
       "5                     Tetris       GB           1989.0        Puzzle   \n",
       "6      New Super Mario Bros.       DS           2006.0      Platform   \n",
       "7                   Wii Play      Wii           2006.0          Misc   \n",
       "8  New Super Mario Bros. Wii      Wii           2009.0      Platform   \n",
       "9                  Duck Hunt      NES           1984.0       Shooter   \n",
       "\n",
       "   NA_sales  EU_sales  JP_sales  Other_sales  Critic_Score User_Score Rating  \n",
       "0     41.36     28.96      3.77         8.45          76.0          8      E  \n",
       "1     29.08      3.58      6.81         0.77           NaN        NaN    NaN  \n",
       "2     15.68     12.76      3.79         3.29          82.0        8.3      E  \n",
       "3     15.61     10.93      3.28         2.95          80.0          8      E  \n",
       "4     11.27      8.89     10.22         1.00           NaN        NaN    NaN  \n",
       "5     23.20      2.26      4.22         0.58           NaN        NaN    NaN  \n",
       "6     11.28      9.14      6.50         2.88          89.0        8.5      E  \n",
       "7     13.96      9.18      2.93         2.84          58.0        6.6      E  \n",
       "8     14.44      6.94      4.70         2.24          87.0        8.4      E  \n",
       "9     26.93      0.63      0.28         0.47           NaN        NaN    NaN  "
      ]
     },
     "metadata": {},
     "output_type": "display_data"
    }
   ],
   "source": [
    "# Импорт библиотек\n",
    "import pandas as pd\n",
    "import numpy as np\n",
    "import matplotlib.pyplot as plt\n",
    "import seaborn as sns\n",
    "from scipy import stats as st\n",
    "\n",
    "# Открытие файла\n",
    "df = pd.read_csv('datasets/games.csv')\n",
    "\n",
    "#Смотрим общую информаию\n",
    "df.info()\n",
    "display(df.head(10))"
   ]
  },
  {
   "cell_type": "code",
   "execution_count": 2,
   "metadata": {},
   "outputs": [
    {
     "data": {
      "text/plain": [
       "Name                  2\n",
       "Platform              0\n",
       "Year_of_Release     269\n",
       "Genre                 2\n",
       "NA_sales              0\n",
       "EU_sales              0\n",
       "JP_sales              0\n",
       "Other_sales           0\n",
       "Critic_Score       8578\n",
       "User_Score         6701\n",
       "Rating             6766\n",
       "dtype: int64"
      ]
     },
     "execution_count": 2,
     "metadata": {},
     "output_type": "execute_result"
    }
   ],
   "source": [
    "# Посмотрим на пропуски\n",
    "df.isna().sum()"
   ]
  },
  {
   "cell_type": "code",
   "execution_count": 3,
   "metadata": {},
   "outputs": [
    {
     "data": {
      "text/plain": [
       "0"
      ]
     },
     "execution_count": 3,
     "metadata": {},
     "output_type": "execute_result"
    }
   ],
   "source": [
    "# Проверим наличие полных дубликатов\n",
    "df.duplicated().sum()"
   ]
  },
  {
   "cell_type": "markdown",
   "metadata": {},
   "source": [
    "По общей информации видно, что:\n",
    "- Нужно привести столбецы Year_of_Release и User_Score к нужному типу.\n",
    "- Столбцы привести к нижнему регистру.\n",
    "- Попытаться понять причину пропусков и обработать их."
   ]
  },
  {
   "cell_type": "markdown",
   "metadata": {},
   "source": [
    "## Подготовка данных."
   ]
  },
  {
   "cell_type": "code",
   "execution_count": 4,
   "metadata": {},
   "outputs": [
    {
     "data": {
      "text/plain": [
       "Index(['name', 'platform', 'year_of_release', 'genre', 'na_sales', 'eu_sales',\n",
       "       'jp_sales', 'other_sales', 'critic_score', 'user_score', 'rating'],\n",
       "      dtype='object')"
      ]
     },
     "execution_count": 4,
     "metadata": {},
     "output_type": "execute_result"
    }
   ],
   "source": [
    "# Приведем названия столбцов к нижнему регистру\n",
    "df.columns = df.columns.str.lower()\n",
    "df.columns"
   ]
  },
  {
   "cell_type": "code",
   "execution_count": 5,
   "metadata": {},
   "outputs": [],
   "source": [
    "# Пропуски в name и genre заменим на пустую строку \n",
    "df.fillna({'name':\" \",'genre': \" \"}, inplace=True)\n",
    "# Обнаруженные в столбце user_score значения \"tbd\" заменим на NaN\n",
    "df.query('user_score == \"tbd\"')\n",
    "df['user_score'] = df['user_score'].replace(\"tbd\", np.NaN)\n",
    "# Пропуски в графе rating заменим на unknown\n",
    "df['rating'] = df['rating'].fillna('unknown')"
   ]
  },
  {
   "cell_type": "markdown",
   "metadata": {},
   "source": [
    "Пропуски в name и genre заменили на пустую строчку, потому что нас в первую очередь интересуют финансовые показатели, а не название игры. Аббревиатура 'tbd' расшифровывается - To Be Determined, то есть \"Будет определено\". Когда данные готовятся, но пока ещё нет возможности назвать точную оценку, именно это сокращение и используется. 'tbd' заменил на NaN для возможности дальнейших вычислений.<br/>\n",
    "Пропуски в critic_score и user_score не буду трогать во-первых по причине того, что много пропусков у старых до 1994г т.к еще не было организацый или сайтов которые бы выставляли рейтинги играм, во-вторых оценка игры это уникальное значение которое не заполнить средним или медианным - все игры уникальны и оценка соответственно то же.<br/>\n",
    "Пропуски в rating заполнил маркером \"unknown\", чтобы не потерять большой объем данных и в портрете пользователя увидеть объем продаж, который был осуществлен по видеоиграм без определенного рейтинга."
   ]
  },
  {
   "cell_type": "code",
   "execution_count": 6,
   "metadata": {},
   "outputs": [
    {
     "data": {
      "text/plain": [
       "name                object\n",
       "platform            object\n",
       "year_of_release      Int64\n",
       "genre               object\n",
       "na_sales           float64\n",
       "eu_sales           float64\n",
       "jp_sales           float64\n",
       "other_sales        float64\n",
       "critic_score       float64\n",
       "user_score         float64\n",
       "rating              object\n",
       "dtype: object"
      ]
     },
     "execution_count": 6,
     "metadata": {},
     "output_type": "execute_result"
    }
   ],
   "source": [
    "# Преобразование данных в нужные типы\n",
    "df['year_of_release'] = df['year_of_release'].astype('Int64')\n",
    "df['user_score'] = df['user_score'].astype(float)\n",
    "df.dtypes"
   ]
  },
  {
   "cell_type": "markdown",
   "metadata": {},
   "source": [
    "Тип в year_of_release меняем с float на int. Не нужны нам дроби в годах.<br/>\n",
    "Тип в user_score меняем с object в float. Оценки должны быть в численном формате."
   ]
  },
  {
   "cell_type": "code",
   "execution_count": 7,
   "metadata": {},
   "outputs": [
    {
     "data": {
      "text/html": [
       "<div>\n",
       "<style scoped>\n",
       "    .dataframe tbody tr th:only-of-type {\n",
       "        vertical-align: middle;\n",
       "    }\n",
       "\n",
       "    .dataframe tbody tr th {\n",
       "        vertical-align: top;\n",
       "    }\n",
       "\n",
       "    .dataframe thead th {\n",
       "        text-align: right;\n",
       "    }\n",
       "</style>\n",
       "<table border=\"1\" class=\"dataframe\">\n",
       "  <thead>\n",
       "    <tr style=\"text-align: right;\">\n",
       "      <th></th>\n",
       "      <th>name</th>\n",
       "      <th>platform</th>\n",
       "      <th>year_of_release</th>\n",
       "      <th>genre</th>\n",
       "      <th>na_sales</th>\n",
       "      <th>eu_sales</th>\n",
       "      <th>jp_sales</th>\n",
       "      <th>other_sales</th>\n",
       "      <th>critic_score</th>\n",
       "      <th>user_score</th>\n",
       "      <th>rating</th>\n",
       "      <th>total_sales</th>\n",
       "    </tr>\n",
       "  </thead>\n",
       "  <tbody>\n",
       "    <tr>\n",
       "      <th>0</th>\n",
       "      <td>Wii Sports</td>\n",
       "      <td>Wii</td>\n",
       "      <td>2006</td>\n",
       "      <td>Sports</td>\n",
       "      <td>41.36</td>\n",
       "      <td>28.96</td>\n",
       "      <td>3.77</td>\n",
       "      <td>8.45</td>\n",
       "      <td>76.0</td>\n",
       "      <td>8.0</td>\n",
       "      <td>E</td>\n",
       "      <td>82.54</td>\n",
       "    </tr>\n",
       "    <tr>\n",
       "      <th>1</th>\n",
       "      <td>Super Mario Bros.</td>\n",
       "      <td>NES</td>\n",
       "      <td>1985</td>\n",
       "      <td>Platform</td>\n",
       "      <td>29.08</td>\n",
       "      <td>3.58</td>\n",
       "      <td>6.81</td>\n",
       "      <td>0.77</td>\n",
       "      <td>NaN</td>\n",
       "      <td>NaN</td>\n",
       "      <td>unknown</td>\n",
       "      <td>40.24</td>\n",
       "    </tr>\n",
       "    <tr>\n",
       "      <th>2</th>\n",
       "      <td>Mario Kart Wii</td>\n",
       "      <td>Wii</td>\n",
       "      <td>2008</td>\n",
       "      <td>Racing</td>\n",
       "      <td>15.68</td>\n",
       "      <td>12.76</td>\n",
       "      <td>3.79</td>\n",
       "      <td>3.29</td>\n",
       "      <td>82.0</td>\n",
       "      <td>8.3</td>\n",
       "      <td>E</td>\n",
       "      <td>35.52</td>\n",
       "    </tr>\n",
       "    <tr>\n",
       "      <th>3</th>\n",
       "      <td>Wii Sports Resort</td>\n",
       "      <td>Wii</td>\n",
       "      <td>2009</td>\n",
       "      <td>Sports</td>\n",
       "      <td>15.61</td>\n",
       "      <td>10.93</td>\n",
       "      <td>3.28</td>\n",
       "      <td>2.95</td>\n",
       "      <td>80.0</td>\n",
       "      <td>8.0</td>\n",
       "      <td>E</td>\n",
       "      <td>32.77</td>\n",
       "    </tr>\n",
       "    <tr>\n",
       "      <th>4</th>\n",
       "      <td>Pokemon Red/Pokemon Blue</td>\n",
       "      <td>GB</td>\n",
       "      <td>1996</td>\n",
       "      <td>Role-Playing</td>\n",
       "      <td>11.27</td>\n",
       "      <td>8.89</td>\n",
       "      <td>10.22</td>\n",
       "      <td>1.00</td>\n",
       "      <td>NaN</td>\n",
       "      <td>NaN</td>\n",
       "      <td>unknown</td>\n",
       "      <td>31.38</td>\n",
       "    </tr>\n",
       "  </tbody>\n",
       "</table>\n",
       "</div>"
      ],
      "text/plain": [
       "                       name platform  year_of_release         genre  na_sales  \\\n",
       "0                Wii Sports      Wii             2006        Sports     41.36   \n",
       "1         Super Mario Bros.      NES             1985      Platform     29.08   \n",
       "2            Mario Kart Wii      Wii             2008        Racing     15.68   \n",
       "3         Wii Sports Resort      Wii             2009        Sports     15.61   \n",
       "4  Pokemon Red/Pokemon Blue       GB             1996  Role-Playing     11.27   \n",
       "\n",
       "   eu_sales  jp_sales  other_sales  critic_score  user_score   rating  \\\n",
       "0     28.96      3.77         8.45          76.0         8.0        E   \n",
       "1      3.58      6.81         0.77           NaN         NaN  unknown   \n",
       "2     12.76      3.79         3.29          82.0         8.3        E   \n",
       "3     10.93      3.28         2.95          80.0         8.0        E   \n",
       "4      8.89     10.22         1.00           NaN         NaN  unknown   \n",
       "\n",
       "   total_sales  \n",
       "0        82.54  \n",
       "1        40.24  \n",
       "2        35.52  \n",
       "3        32.77  \n",
       "4        31.38  "
      ]
     },
     "execution_count": 7,
     "metadata": {},
     "output_type": "execute_result"
    }
   ],
   "source": [
    "# Посчитаем суммарные продажи во всех регионах и запишим их в отдельный столбец\n",
    "df['total_sales'] = df['na_sales'] + df['eu_sales'] + df['jp_sales'] + df['other_sales']\n",
    "df.head()"
   ]
  },
  {
   "cell_type": "markdown",
   "metadata": {},
   "source": [
    "## Исследовательский анализ данных."
   ]
  },
  {
   "cell_type": "code",
   "execution_count": 8,
   "metadata": {},
   "outputs": [
    {
     "data": {
      "image/png": "[encoded data removed]",
      "text/plain": [
       "<Figure size 720x360 with 1 Axes>"
      ]
     },
     "metadata": {
      "needs_background": "light"
     },
     "output_type": "display_data"
    }
   ],
   "source": [
    "# Cколько игр выпускалось в разные годы\n",
    "games_on_year = df.pivot_table(index='year_of_release', values='name', aggfunc='count')\n",
    "plt.figure(figsize=(10,5))\n",
    "sns.lineplot(data=games_on_year)\n",
    "plt.title('Количество игр выпускаемых в разные года')\n",
    "plt.xlabel('Год релиза')\n",
    "plt.ylabel('Количество игр')\n",
    "plt.legend([], frameon=False)\n",
    "plt.show()"
   ]
  },
  {
   "cell_type": "markdown",
   "metadata": {},
   "source": [
    "До 1994 года игровая индустрия явно топталась на одном месте, но после с развитием програмного и аппаратного обеспечений, а так же интернета произошел бурный рост рынка. С 2009 года наблюдаем снижение количества выпускаемых игр. Это напрямую связано с параллельным развитием более перспективного рынка мобильного гейминга."
   ]
  },
  {
   "cell_type": "code",
   "execution_count": 9,
   "metadata": {},
   "outputs": [
    {
     "data": {
      "image/png": "[encoded data removed]",
      "text/plain": [
       "<Figure size 1080x360 with 1 Axes>"
      ]
     },
     "metadata": {
      "needs_background": "light"
     },
     "output_type": "display_data"
    }
   ],
   "source": [
    "# Выбераем платформы с наибольшими суммарными продажами\n",
    "sales_on_platform = df.pivot_table(index='platform', values='total_sales', aggfunc='sum').sort_values(\n",
    "    by='total_sales', ascending=False)\n",
    "plt.figure(figsize=(15,5))\n",
    "sns.barplot(data=sales_on_platform, x=sales_on_platform.index, y='total_sales')\n",
    "plt.title('Продажи по игровым платформам')\n",
    "plt.xlabel('Платформа')\n",
    "plt.ylabel('Количество продаж, млн. копий')\n",
    "plt.show()"
   ]
  },
  {
   "cell_type": "markdown",
   "metadata": {},
   "source": [
    "Из графика видно, что больше всего продаж у PS2, X360, PS3, Wii, DS и PS."
   ]
  },
  {
   "cell_type": "code",
   "execution_count": 10,
   "metadata": {},
   "outputs": [
    {
     "data": {
      "text/html": [
       "<div>\n",
       "<style scoped>\n",
       "    .dataframe tbody tr th:only-of-type {\n",
       "        vertical-align: middle;\n",
       "    }\n",
       "\n",
       "    .dataframe tbody tr th {\n",
       "        vertical-align: top;\n",
       "    }\n",
       "\n",
       "    .dataframe thead th {\n",
       "        text-align: right;\n",
       "    }\n",
       "</style>\n",
       "<table border=\"1\" class=\"dataframe\">\n",
       "  <thead>\n",
       "    <tr style=\"text-align: right;\">\n",
       "      <th></th>\n",
       "      <th>total_sales</th>\n",
       "    </tr>\n",
       "    <tr>\n",
       "      <th>platform</th>\n",
       "      <th></th>\n",
       "    </tr>\n",
       "  </thead>\n",
       "  <tbody>\n",
       "    <tr>\n",
       "      <th>PS2</th>\n",
       "      <td>1255.77</td>\n",
       "    </tr>\n",
       "    <tr>\n",
       "      <th>X360</th>\n",
       "      <td>971.42</td>\n",
       "    </tr>\n",
       "    <tr>\n",
       "      <th>PS3</th>\n",
       "      <td>939.65</td>\n",
       "    </tr>\n",
       "    <tr>\n",
       "      <th>Wii</th>\n",
       "      <td>907.51</td>\n",
       "    </tr>\n",
       "    <tr>\n",
       "      <th>DS</th>\n",
       "      <td>806.12</td>\n",
       "    </tr>\n",
       "    <tr>\n",
       "      <th>PS</th>\n",
       "      <td>730.86</td>\n",
       "    </tr>\n",
       "  </tbody>\n",
       "</table>\n",
       "</div>"
      ],
      "text/plain": [
       "          total_sales\n",
       "platform             \n",
       "PS2           1255.77\n",
       "X360           971.42\n",
       "PS3            939.65\n",
       "Wii            907.51\n",
       "DS             806.12\n",
       "PS             730.86"
      ]
     },
     "execution_count": 10,
     "metadata": {},
     "output_type": "execute_result"
    }
   ],
   "source": [
    "# Выделим 6 самых продаваемых платформ\n",
    "top6 = df.pivot_table(index='platform', values='total_sales', aggfunc='sum').sort_values(\n",
    "    by='total_sales', ascending=False).head(6)\n",
    "top6"
   ]
  },
  {
   "cell_type": "code",
   "execution_count": 11,
   "metadata": {},
   "outputs": [
    {
     "data": {
      "image/png": "[encoded data removed]",
      "text/plain": [
       "<Figure size 720x360 with 1 Axes>"
      ]
     },
     "metadata": {
      "needs_background": "light"
     },
     "output_type": "display_data"
    }
   ],
   "source": [
    "# Напишем функцию которая будет выводить сводную таблицу по продажам отдельной платформы\n",
    "def platform_sale(name, data):\n",
    "    platform = data[data['platform'] == name]\n",
    "    total = platform.pivot_table(index='year_of_release', values='total_sales', aggfunc='sum')\n",
    "    return total\n",
    "\n",
    "# Построем распределение по годам для 6 самых успешных платформ\n",
    "plt.figure(figsize=(10,5))\n",
    "plt.title('Количество продаж популярных игровых платформ')\n",
    "plt.xlabel('Год релиза')\n",
    "plt.ylabel('Продажи, млн. копий')\n",
    "plt.xlim(1993,2017)\n",
    "\n",
    "for platform in top6.index:\n",
    "    sns.lineplot(data=platform_sale(platform,df)['total_sales'], label=platform)\n",
    "    plt.legend()"
   ]
  },
  {
   "cell_type": "markdown",
   "metadata": {},
   "source": [
    "Можно из графика заметить, что каждая из платформ в среднем приносила доход 10 лет\n",
    "- PlayStation - 9 лет (c 1994 по 2003)\n",
    "- PlayStation 2 - 11 лет (с 2000 по 2011)\n",
    "- Nintendo DS - 9 лет (c 2004 по 2013)\n",
    "- Xbox 360 - 11 лет (с 2005 по 2016)\n",
    "- PlayStation 3 - 10 лет (c 2006 по 2016)\n",
    "- Nintendo Wii - 10 лет (c 2006 по 2016)"
   ]
  },
  {
   "cell_type": "markdown",
   "metadata": {},
   "source": [
    "Актуальными данными для своего исследования буду считать с 2013 года. Этот год можно считать перломным, для коррекции рынка начиная с 2009. И это произошло не без участия главных гигантов консольного рынка PlayStation и Xbox. В 2013 году вышли PlayStation 4 и Xbox One. И началась смена поколений на консольном рынке."
   ]
  },
  {
   "cell_type": "code",
   "execution_count": 12,
   "metadata": {},
   "outputs": [
    {
     "data": {
      "image/png": "[encoded data removed]",
      "text/plain": [
       "<Figure size 576x360 with 1 Axes>"
      ]
     },
     "metadata": {
      "needs_background": "light"
     },
     "output_type": "display_data"
    }
   ],
   "source": [
    "# Обновляем таблицу по актуальным данным\n",
    "df_actual = df[df['year_of_release']>=2013]\n",
    "\n",
    "# Строим график по продажам за актуальный период\n",
    "plt.figure(figsize=(8,5))\n",
    "plt.title('Количество продаж игровых платформ')\n",
    "plt.xlabel('Год релиза')\n",
    "plt.ylabel('Продажи, млн. копий')\n",
    "plt.xlim(2013,2016)\n",
    "plt.xticks(range(2013, 2017))  \n",
    "for platform in df_actual['platform'].unique():\n",
    "    sns.lineplot(data=platform_sale(platform,df_actual)['total_sales'], label=platform)\n",
    "    plt.legend()"
   ]
  },
  {
   "cell_type": "markdown",
   "metadata": {},
   "source": [
    "Из графика видно, что продажи по всем платформам падают, рынок мобильных игр безжалостен. Но на плаву и в топе по продажам остаются PlayStation 4, Xbox One и Nintendo 3DS. По всем остальным платформам продажи одинаково малы."
   ]
  },
  {
   "cell_type": "code",
   "execution_count": 13,
   "metadata": {
    "scrolled": true
   },
   "outputs": [
    {
     "data": {
      "image/png": "[encoded data removed]",
      "text/plain": [
       "<Figure size 720x360 with 1 Axes>"
      ]
     },
     "metadata": {
      "needs_background": "light"
     },
     "output_type": "display_data"
    }
   ],
   "source": [
    "# Построем график «ящик с усами» по глобальным продажам игр в разбивке по платформам\n",
    "plt.figure(figsize=(10,5))\n",
    "sns.boxplot(data=df_actual, x='platform', y='total_sales')\n",
    "plt.xlabel('Платформа')\n",
    "plt.ylabel('Глобальные продажи')\n",
    "plt.title('Ящик с усами')\n",
    "plt.show()"
   ]
  },
  {
   "cell_type": "code",
   "execution_count": 14,
   "metadata": {
    "scrolled": true
   },
   "outputs": [
    {
     "data": {
      "image/png": "[encoded data removed]",
      "text/plain": [
       "<Figure size 720x360 with 1 Axes>"
      ]
     },
     "metadata": {
      "needs_background": "light"
     },
     "output_type": "display_data"
    }
   ],
   "source": [
    "# В приближении\n",
    "plt.figure(figsize=(10,5))\n",
    "sns.boxplot(data=df_actual, x='platform', y='total_sales')\n",
    "plt.xlabel('Платформа')\n",
    "plt.ylabel('Глобальные продажи')\n",
    "plt.title('Ящик с усами')\n",
    "plt.ylim(0,1)\n",
    "plt.show()"
   ]
  },
  {
   "cell_type": "markdown",
   "metadata": {},
   "source": [
    "Из графиков можно сделать выводы:\n",
    "- Самые большие медианные продажи у X360. Следом идут XOne, WiiU, PS4, Wii и PS3.\n",
    "- Практически все консоли имеют много выбросов. Это очень упешные игры, которые принесли большое количество продаж."
   ]
  },
  {
   "cell_type": "code",
   "execution_count": 15,
   "metadata": {
    "scrolled": false
   },
   "outputs": [
    {
     "data": {
      "image/png": "[encoded data removed]",
      "text/plain": [
       "<Figure size 540x540 with 12 Axes>"
      ]
     },
     "metadata": {
      "needs_background": "light"
     },
     "output_type": "display_data"
    }
   ],
   "source": [
    "# Посмотрим как влияют на продажи внутри одной популярной платформы отзывы пользователей и критиков\n",
    "ps4 = df_actual[df_actual['platform'] == \"PS4\"][['total_sales', 'critic_score', 'user_score']]\n",
    "sns.pairplot(ps4)\n",
    "plt.show()"
   ]
  },
  {
   "cell_type": "markdown",
   "metadata": {},
   "source": [
    "На графике видно, что чем выше оценки критиков, тем больше продажи у игры.<br/>\n",
    "С оценками игроков не все однозначно. Есть игры с плохими оценками, но с довольно внушительными продажами.<br/>\n",
    "Это может быть связано и неоправданными ожиданиями игроков относилеьно новой части игры популярной серии, а так же специальным занижением рейтинга игры в рамках протеста против компании-разработчика."
   ]
  },
  {
   "cell_type": "code",
   "execution_count": 16,
   "metadata": {},
   "outputs": [
    {
     "data": {
      "text/html": [
       "<div>\n",
       "<style scoped>\n",
       "    .dataframe tbody tr th:only-of-type {\n",
       "        vertical-align: middle;\n",
       "    }\n",
       "\n",
       "    .dataframe tbody tr th {\n",
       "        vertical-align: top;\n",
       "    }\n",
       "\n",
       "    .dataframe thead th {\n",
       "        text-align: right;\n",
       "    }\n",
       "</style>\n",
       "<table border=\"1\" class=\"dataframe\">\n",
       "  <thead>\n",
       "    <tr style=\"text-align: right;\">\n",
       "      <th></th>\n",
       "      <th>total_sales</th>\n",
       "      <th>critic_score</th>\n",
       "      <th>user_score</th>\n",
       "    </tr>\n",
       "  </thead>\n",
       "  <tbody>\n",
       "    <tr>\n",
       "      <th>total_sales</th>\n",
       "      <td>1.000000</td>\n",
       "      <td>0.406568</td>\n",
       "      <td>-0.031957</td>\n",
       "    </tr>\n",
       "    <tr>\n",
       "      <th>critic_score</th>\n",
       "      <td>0.406568</td>\n",
       "      <td>1.000000</td>\n",
       "      <td>0.557654</td>\n",
       "    </tr>\n",
       "    <tr>\n",
       "      <th>user_score</th>\n",
       "      <td>-0.031957</td>\n",
       "      <td>0.557654</td>\n",
       "      <td>1.000000</td>\n",
       "    </tr>\n",
       "  </tbody>\n",
       "</table>\n",
       "</div>"
      ],
      "text/plain": [
       "              total_sales  critic_score  user_score\n",
       "total_sales      1.000000      0.406568   -0.031957\n",
       "critic_score     0.406568      1.000000    0.557654\n",
       "user_score      -0.031957      0.557654    1.000000"
      ]
     },
     "execution_count": 16,
     "metadata": {},
     "output_type": "execute_result"
    }
   ],
   "source": [
    "# Посмотрим корреляцию между отцывами и продажами\n",
    "ps4.corr()"
   ]
  },
  {
   "cell_type": "markdown",
   "metadata": {},
   "source": [
    "Между оценками критиков и продажами есть умеренная прямая зависимость, а вот между оценками игроков и продажами корреляция у нуля. Эти данные подтверждают предыдущие выводы по матрицы диаграммы рассеяния."
   ]
  },
  {
   "cell_type": "code",
   "execution_count": 17,
   "metadata": {
    "scrolled": false
   },
   "outputs": [
    {
     "data": {
      "image/png": "[encoded data removed]",
      "text/plain": [
       "<Figure size 864x360 with 2 Axes>"
      ]
     },
     "metadata": {
      "needs_background": "light"
     },
     "output_type": "display_data"
    },
    {
     "name": "stdout",
     "output_type": "stream",
     "text": [
      "Корреляция между отзывами крититков и продажами: 0.40656790206178095\n",
      "Корреляция между отзывами пользователей и продажами: -0.031957110204556424\n"
     ]
    },
    {
     "data": {
      "image/png": "[encoded data removed]",
      "text/plain": [
       "<Figure size 864x360 with 2 Axes>"
      ]
     },
     "metadata": {
      "needs_background": "light"
     },
     "output_type": "display_data"
    },
    {
     "name": "stdout",
     "output_type": "stream",
     "text": [
      "Корреляция между отзывами крититков и продажами: 0.3570566142288103\n",
      "Корреляция между отзывами пользователей и продажами: 0.24150411773563016\n"
     ]
    },
    {
     "data": {
      "image/png": "[encoded data removed]",
      "text/plain": [
       "<Figure size 864x360 with 2 Axes>"
      ]
     },
     "metadata": {
      "needs_background": "light"
     },
     "output_type": "display_data"
    },
    {
     "name": "stdout",
     "output_type": "stream",
     "text": [
      "Корреляция между отзывами крититков и продажами: 0.4169983280084017\n",
      "Корреляция между отзывами пользователей и продажами: -0.06892505328279414\n"
     ]
    },
    {
     "data": {
      "image/png": "[encoded data removed]",
      "text/plain": [
       "<Figure size 864x360 with 2 Axes>"
      ]
     },
     "metadata": {
      "needs_background": "light"
     },
     "output_type": "display_data"
    },
    {
     "name": "stdout",
     "output_type": "stream",
     "text": [
      "Корреляция между отзывами крититков и продажами: 0.3764149065423912\n",
      "Корреляция между отзывами пользователей и продажами: 0.4193304819266187\n"
     ]
    },
    {
     "data": {
      "image/png": "[encoded data removed]",
      "text/plain": [
       "<Figure size 864x360 with 2 Axes>"
      ]
     },
     "metadata": {
      "needs_background": "light"
     },
     "output_type": "display_data"
    },
    {
     "name": "stdout",
     "output_type": "stream",
     "text": [
      "Корреляция между отзывами крититков и продажами: 0.2547423503068656\n",
      "Корреляция между отзывами пользователей и продажами: 0.0009424723319108626\n"
     ]
    },
    {
     "data": {
      "image/png": "[encoded data removed]",
      "text/plain": [
       "<Figure size 864x360 with 2 Axes>"
      ]
     },
     "metadata": {
      "needs_background": "light"
     },
     "output_type": "display_data"
    },
    {
     "name": "stdout",
     "output_type": "stream",
     "text": [
      "Корреляция между отзывами крититков и продажами: 0.19603028294369382\n",
      "Корреляция между отзывами пользователей и продажами: -0.0938418695247674\n"
     ]
    }
   ],
   "source": [
    "# Соотнесем выводы с продажами игр на других платформах\n",
    "# Добавим в список 3DS, XOne как самые продаваемые в 2016г\n",
    "# а так же WiiU c PSV как консоли восьмого поколения\n",
    "# И добавим туда PC - персональные компьютеры\n",
    "list_top = ['PS4', '3DS', 'XOne', 'WiiU', 'PSV', 'PC']\n",
    "\n",
    "# Функция, которая будет отрисовывать графики рассеивания и считать корреляции\n",
    "def other_platform(name):\n",
    "    platform = df_actual[df_actual['platform']==name]\n",
    "    fig, ax = plt.subplots(1,2, figsize=(12,5))\n",
    "    sns.scatterplot(x='critic_score', y='total_sales', data=platform, ax=ax[0])\n",
    "    sns.scatterplot(x='user_score', y='total_sales', data=platform, ax=ax[1])\n",
    "    fig.suptitle(name)\n",
    "    plt.show()\n",
    "    \n",
    "    critic_correl = platform['critic_score'].corr(platform['total_sales'])\n",
    "    user_correl = platform['user_score'].corr(platform['total_sales'])\n",
    "    print('Корреляция между отзывами крититков и продажами:', critic_correl)\n",
    "    print('Корреляция между отзывами пользователей и продажами:',user_correl)\n",
    "    \n",
    "for platform in list_top:\n",
    "    other_platform(platform)"
   ]
  },
  {
   "cell_type": "markdown",
   "metadata": {},
   "source": [
    "XOne имеет практически идентичные корреляции с PS4.<br/>\n",
    "У PSV и PC корреляция между отзывами крититков и продажами, хоть и есть, но уже слабее чем у PS4 и XOne.<br/>\n",
    "У 3DS на удивление появляется слабая корреляция между отзывами пользователей и продажами.<br/>\n",
    "А WiiU единственная у которой кореляция между отзывами пользователей и продажами больше чем корреляция между отзывами крититков и продажами.<br/><br/>\n",
    "\n",
    "По итогу можно сказать:\n",
    "- Перед покупкой люди прислушиваются в той или иной степени к мнению критиков и это относится ко всем платформам.\n",
    "- На японском рынке где преобладает Nintendo, люди прислушиваются и к другим пользователям. Это может являться частью менталитета или популярностью какого-либо интернет ресурса с рейтингами игр от пользователей."
   ]
  },
  {
   "cell_type": "code",
   "execution_count": 18,
   "metadata": {
    "scrolled": true
   },
   "outputs": [
    {
     "data": {
      "image/png": "[encoded data removed]",
      "text/plain": [
       "<Figure size 1080x360 with 1 Axes>"
      ]
     },
     "metadata": {
      "needs_background": "light"
     },
     "output_type": "display_data"
    }
   ],
   "source": [
    "# Посмотрим на общее распределение игр по жанрам.\n",
    "genre1 = df_actual.pivot_table(index='genre', values='total_sales', aggfunc='count').sort_values(\n",
    "    by='total_sales', ascending=False)\n",
    "genre2 = df_actual.pivot_table(index='genre', values='total_sales', aggfunc='sum').sort_values(\n",
    "    by='total_sales', ascending=False)\n",
    "\n",
    "# Количество выпущенных игр по жанрам\n",
    "plt.figure(figsize=(15,5))\n",
    "sns.barplot(data=genre1, x=genre1.index, y='total_sales')\n",
    "plt.title('Количество выпущенных игр по жанрам')\n",
    "plt.xlabel('Жанр игры')\n",
    "plt.ylabel('Количество игр')\n",
    "plt.show()"
   ]
  },
  {
   "cell_type": "code",
   "execution_count": 19,
   "metadata": {
    "scrolled": true
   },
   "outputs": [
    {
     "data": {
      "image/png": "[encoded data removed]",
      "text/plain": [
       "<Figure size 1080x360 with 1 Axes>"
      ]
     },
     "metadata": {
      "needs_background": "light"
     },
     "output_type": "display_data"
    }
   ],
   "source": [
    "# Количество проданных копий\n",
    "plt.figure(figsize=(15,5))\n",
    "sns.barplot(data=genre2, x=genre2.index, y='total_sales')\n",
    "plt.title('Количество проданных копий по жанрам')\n",
    "plt.xlabel('Жанр игры')\n",
    "plt.ylabel('Количество продаж, млн.')\n",
    "plt.show()"
   ]
  },
  {
   "cell_type": "markdown",
   "metadata": {},
   "source": [
    "Жанры с высокими продажами - Action, Shooter, Sports и Role-Playig.<br>Жанры с низкими продажами - Platform, Racing, Fighting, Adventure, Simulation, Strategy, Puzzle.<br>И я бы выделил Misc как переходный между высокими и низкими продажами. (Misc или Miscellaneous -  с английского \"смешанный\". То есть это игры в которых присутствую элемены нескольких жанров и основной жанр не определен.)<p>\n",
    "Action и Role-Playig в топе благодаря тому, что много игр этого жанра выпускается в принципе. Sports и в особенности Shooter в топе потому, что это самые популярные жанры у игроков. Выпускается таких игр меньше чем Role-Playig, но продаж больше. Очень интересным выглядит жанр Adventure - он в топе по выпущеным играм, но один из аутсайдеров по продажам.\n",
    "\n",
    "    \n"
   ]
  },
  {
   "cell_type": "markdown",
   "metadata": {},
   "source": [
    "##  Портрет пользователя каждого региона."
   ]
  },
  {
   "cell_type": "code",
   "execution_count": 20,
   "metadata": {
    "scrolled": false
   },
   "outputs": [
    {
     "data": {
      "image/png": "[encoded data removed]",
      "text/plain": [
       "<Figure size 1296x360 with 3 Axes>"
      ]
     },
     "metadata": {
      "needs_background": "light"
     },
     "output_type": "display_data"
    }
   ],
   "source": [
    "# Самые популярные платформы (топ-5) по регионам\n",
    "#NA\n",
    "na = df_actual.pivot_table(index='platform', values='na_sales', aggfunc='sum').sort_values(\n",
    "    by='na_sales', ascending=False).head()\n",
    "#EU\n",
    "eu = df_actual.pivot_table(index='platform', values='eu_sales', aggfunc='sum').sort_values(\n",
    "    by='eu_sales', ascending=False).head()\n",
    "#JP\n",
    "jp = df_actual.pivot_table(index='platform', values='jp_sales', aggfunc='sum').sort_values(\n",
    "    by='jp_sales', ascending=False).head()\n",
    "\n",
    "fig, (ax1, ax2, ax3) = plt.subplots(1, 3, figsize=(18,5))\n",
    "sns.barplot(data=na, x=na.index, y='na_sales', ax=ax1)\n",
    "sns.barplot(data=eu, x=eu.index, y='eu_sales', ax=ax2)\n",
    "sns.barplot(data=jp, x=jp.index, y='jp_sales', ax=ax3)\n",
    "ax1.set_title(\"North America\", fontsize=16)\n",
    "ax2.set_title(\"Europe\", fontsize=16)\n",
    "ax3.set_title(\"Japan\", fontsize=16)\n",
    "plt.show()"
   ]
  },
  {
   "cell_type": "code",
   "execution_count": 21,
   "metadata": {},
   "outputs": [
    {
     "data": {
      "image/png": "[encoded data removed]",
      "text/plain": [
       "<Figure size 1296x360 with 3 Axes>"
      ]
     },
     "metadata": {},
     "output_type": "display_data"
    }
   ],
   "source": [
    "# Доли продаж платформ (топ-5) по регионам\n",
    "fig, (ax1, ax2, ax3) = plt.subplots(1, 3, figsize=(18,5))\n",
    "ax1.pie(na['na_sales'], labels=na.index, autopct='%1.1f%%')\n",
    "ax2.pie(eu['eu_sales'], labels=eu.index, autopct='%1.1f%%')\n",
    "ax3.pie(jp['jp_sales'], labels=jp.index, autopct='%1.1f%%')\n",
    "ax1.set_title(\"North America\", fontsize=16)\n",
    "ax2.set_title(\"Europe\", fontsize=16)\n",
    "ax3.set_title(\"Japan\", fontsize=16)\n",
    "plt.show()"
   ]
  },
  {
   "cell_type": "markdown",
   "metadata": {},
   "source": [
    "В Северной Америке идет плотная конкуренция между PlayStation и Xbox: PS4 (28.2%) и PS3 (16.5%) занимают первую и четвертую строчки, а XOne (24.2%) и X360 (21.2%) вторую и третью соответственно. Nintendo 3DS (9.9%) замыкает пятерку.<p>\n",
    "В Европе с огромным отрывом лидируют PS4 (42.2%) и PS3 (20.3%), следом идут XOne (15.4%) и X360 (12.7%). Ну и замыкает 3DS (9.3%).<p>\n",
    "В Японии самыми популярными консолями являются \"отечественные\" - на первом месте с большим отрывом 3DS (49.6%). Дальше расположились консоли от Sony - PS3 (17.1%),PSV (13.6%),PS4 (11.7%) и замыкает топ WiiU (8.0%)."
   ]
  },
  {
   "cell_type": "code",
   "execution_count": 22,
   "metadata": {},
   "outputs": [
    {
     "data": {
      "image/png": "[encoded data removed]",
      "text/plain": [
       "<Figure size 1296x360 with 3 Axes>"
      ]
     },
     "metadata": {
      "needs_background": "light"
     },
     "output_type": "display_data"
    }
   ],
   "source": [
    "# Самые популярные жанры (топ-5) по регионам\n",
    "#NA\n",
    "na = df_actual.pivot_table(index='genre', values='na_sales', aggfunc='sum').sort_values(\n",
    "    by='na_sales', ascending=False).head()\n",
    "#EU\n",
    "eu = df_actual.pivot_table(index='genre', values='eu_sales', aggfunc='sum').sort_values(\n",
    "    by='eu_sales', ascending=False).head()\n",
    "#JP\n",
    "jp = df_actual.pivot_table(index='genre', values='jp_sales', aggfunc='sum').sort_values(\n",
    "    by='jp_sales', ascending=False).head()\n",
    "\n",
    "fig, (ax1, ax2, ax3) = plt.subplots(1, 3, figsize=(18,5))\n",
    "sns.barplot(data=na, x=na.index, y='na_sales', ax=ax1)\n",
    "sns.barplot(data=eu, x=eu.index, y='eu_sales', ax=ax2)\n",
    "sns.barplot(data=jp, x=jp.index, y='jp_sales', ax=ax3)\n",
    "ax1.set_title(\"North America\", fontsize=16)\n",
    "ax2.set_title(\"Europe\", fontsize=16)\n",
    "ax3.set_title(\"Japan\", fontsize=16)\n",
    "plt.show()"
   ]
  },
  {
   "cell_type": "markdown",
   "metadata": {},
   "source": [
    "В Северной Америке и Европе самые популярные жанры практически совпадают, это Action, Shooter, Sports, Role-Playing. Отличаются только последние места: в Северной Америке Misc, в Европе Racing.<p>\n",
    "В Японии предпочтения пользователей кардинально отличаются от Северной Америки и Европы - на первое место выходит Role-Playing. В топе не числится жанр Sports, но появляется жанр Fighting."
   ]
  },
  {
   "cell_type": "code",
   "execution_count": 23,
   "metadata": {},
   "outputs": [
    {
     "data": {
      "image/png": "[encoded data removed]",
      "text/plain": [
       "<Figure size 1296x360 with 3 Axes>"
      ]
     },
     "metadata": {
      "needs_background": "light"
     },
     "output_type": "display_data"
    }
   ],
   "source": [
    "# Посмотрим влияет ли рейтинг ESRB на продажи в отдельном регионе\n",
    "#NA\n",
    "na = df_actual.pivot_table(index='rating', values='na_sales', aggfunc='sum').sort_values(\n",
    "    by='na_sales', ascending=False).head()\n",
    "#EU\n",
    "eu = df_actual.pivot_table(index='rating', values='eu_sales', aggfunc='sum').sort_values(\n",
    "    by='eu_sales', ascending=False).head()\n",
    "#JP\n",
    "jp = df_actual.pivot_table(index='rating', values='jp_sales', aggfunc='sum').sort_values(\n",
    "    by='jp_sales', ascending=False).head()\n",
    "\n",
    "fig, (ax1, ax2, ax3) = plt.subplots(1, 3, figsize=(18,5))\n",
    "sns.barplot(data=na, x=na.index, y='na_sales', ax=ax1)\n",
    "sns.barplot(data=eu, x=eu.index, y='eu_sales', ax=ax2)\n",
    "sns.barplot(data=jp, x=jp.index, y='jp_sales', ax=ax3)\n",
    "ax1.set_title(\"North America\", fontsize=16)\n",
    "ax2.set_title(\"Europe\", fontsize=16)\n",
    "ax3.set_title(\"Japan\", fontsize=16)\n",
    "plt.show()"
   ]
  },
  {
   "cell_type": "markdown",
   "metadata": {},
   "source": [
    "В Северной Америке и Европе продажи игр по возрастным рейтингам можно сказать идентичны. На первом месте игры \"Для взрослых\", вторую с третьей строчки делят \"Для всех\" и \"Unknown\", на четвертой строчке \"Для всех от 10 лет и старше\" и замыкает «Подросткам».\n",
    "В Японии лидируют  c большим отрывом игры с неопределенным рейтингом \"Unknown\", далее идут \"Подросткам\", \"Для всех\" и \"Для взрослых\" и замыкают \"Для всех от 10 лет и старше\".<br/><br/>\n",
    "Рейтинг \"Unknown\" можно предположить, все же не такой уж и неопределенный. В нашем исследовании учавствует рейтинг Entertainment Software Rating Board (ESRB) - его влияние распространяется в первую очередь на Северную Америку (США и Канада). В Европе же регулирующий в этой сфере орган Pan European Game Information (PEGI). А в Японии - Computer Entertainment Rating Organization (CERO).<br/>\n",
    "Так без определения возрастного рейтинга игра в принципе не сможет продаваться в магазинах. Поэтому наши \"Unknown\" - это игры европейского и японского производства, которые получили свой возрастной рейтинг у своего регионального регулятора. На это нам сильно намекает первая позиция на японском рынке.<br/><br/>\n",
    "Я склоняюсь к такому варианту, что если бы в исследование добавили помимо рейтинга ESRB - PEGI и CERO, то распределение продаж по возрастным рейтингам не изменилась бы (столбцы Unknown перетекли бы равномерно в другие имеющиеся)."
   ]
  },
  {
   "cell_type": "markdown",
   "metadata": {},
   "source": [
    "## Проверим гипотезы."
   ]
  },
  {
   "cell_type": "markdown",
   "metadata": {},
   "source": [
    "### Средние пользовательские рейтинги платформ Xbox One и PC одинаковые."
   ]
  },
  {
   "cell_type": "markdown",
   "metadata": {},
   "source": [
    "H0 - Средние пользовательские рейтинги Xbox One равны средним пользовательским рейтингам PC.\n",
    "\n",
    "H1 - Средние пользовательские рейтинги Xbox One и PC различаются."
   ]
  },
  {
   "cell_type": "code",
   "execution_count": 24,
   "metadata": {},
   "outputs": [
    {
     "name": "stdout",
     "output_type": "stream",
     "text": [
      "Дисперсия Xbox One: 1.8965188383045533\n",
      "Дисперсия PC: 3.0163063475546332\n"
     ]
    }
   ],
   "source": [
    "# Выделим рейтинги пользователей нужных нам платформ\n",
    "xone = df_actual.query('platform == \"XOne\"')['user_score'].dropna()\n",
    "pc = df_actual.query('platform == \"PC\"')['user_score'].dropna()\n",
    "\n",
    "# Посмотрим на дисперсию выборок\n",
    "print('Дисперсия Xbox One:', np.var(xone))\n",
    "print('Дисперсия PC:',np.var(pc))"
   ]
  },
  {
   "cell_type": "code",
   "execution_count": 25,
   "metadata": {},
   "outputs": [
    {
     "name": "stdout",
     "output_type": "stream",
     "text": [
      "p-значение: 0.14759594013430463\n",
      "Не получилось отвергнуть нулевую гипотезу\n"
     ]
    }
   ],
   "source": [
    "# Проведем статистический тест и проверим гипотезу\n",
    "alpha = 0.05\n",
    "\n",
    "results = st.ttest_ind(\n",
    "    xone, \n",
    "    pc, \n",
    "    equal_var=False)\n",
    "\n",
    "print('p-значение:', results.pvalue)\n",
    "\n",
    "if (results.pvalue < alpha):\n",
    "    print(\"Отвергаем нулевую гипотезу\")\n",
    "else:\n",
    "    print(\"Не получилось отвергнуть нулевую гипотезу\")"
   ]
  },
  {
   "cell_type": "code",
   "execution_count": 26,
   "metadata": {},
   "outputs": [
    {
     "name": "stdout",
     "output_type": "stream",
     "text": [
      "Средний пользовательский рейтинг Xbox One: 6.52\n",
      "Средний пользовательский рейтинг PC: 6.27\n"
     ]
    }
   ],
   "source": [
    "# Посчитаем средние оценки для XOne и PC\n",
    "print('Средний пользовательский рейтинг Xbox One:', round(xone.mean(), 2))\n",
    "print('Средний пользовательский рейтинг PC:', round(pc.mean(), 2))"
   ]
  },
  {
   "cell_type": "markdown",
   "metadata": {},
   "source": [
    "Данный статистический тест не дал возможности опровергунть исходную гипотезу о том, что средние пользовательские рейтинги XOne и РС равны. Судя по расчетам средний пользовательский рейтинг этих двух платформ различается на 0.25 балла, что в рамках 10-ти бальной рейтинговой системы несущественно. Поэтому можно с уверенностью сказать, что средние пользовательские рейтинги Xbox One и PC практически не отличаются."
   ]
  },
  {
   "cell_type": "markdown",
   "metadata": {},
   "source": [
    "### Средние пользовательские рейтинги жанров Action и Sports разные."
   ]
  },
  {
   "cell_type": "markdown",
   "metadata": {},
   "source": [
    "H0 - Средние пользовательские рейтинги жанра Action равны средним пользовательским рейтингам жанра Sports.\n",
    "\n",
    "H1 - Средние пользовательские рейтинги жанров Action и Sports различаются."
   ]
  },
  {
   "cell_type": "code",
   "execution_count": 27,
   "metadata": {},
   "outputs": [
    {
     "name": "stdout",
     "output_type": "stream",
     "text": [
      "Дисперсия Action: 1.764812418633236\n",
      "Дисперсия Sports: 3.1607339843749975\n"
     ]
    }
   ],
   "source": [
    "# Выделим рейтинги пользователей нужных нам жанров\n",
    "action = df_actual.query('genre == \"Action\"')['user_score'].dropna()\n",
    "sports = df_actual.query('genre == \"Sports\"')['user_score'].dropna()\n",
    "\n",
    "# Посмотрим на дисперсию выборок\n",
    "print('Дисперсия Action:', np.var(action))\n",
    "print('Дисперсия Sports:',np.var(sports))"
   ]
  },
  {
   "cell_type": "code",
   "execution_count": 28,
   "metadata": {},
   "outputs": [
    {
     "name": "stdout",
     "output_type": "stream",
     "text": [
      "p-значение: 1.4460039700704315e-20\n",
      "Отвергаем нулевую гипотезу\n"
     ]
    }
   ],
   "source": [
    "# Проведем статистический тест и проверим гипотезу\n",
    "alpha = 0.05\n",
    "\n",
    "results = st.ttest_ind(\n",
    "    action, \n",
    "    sports, \n",
    "    equal_var=False)\n",
    "\n",
    "print('p-значение:', results.pvalue)\n",
    "\n",
    "if (results.pvalue < alpha):\n",
    "    print(\"Отвергаем нулевую гипотезу\")\n",
    "else:\n",
    "    print(\"Не получилось отвергнуть нулевую гипотезу\")"
   ]
  },
  {
   "cell_type": "markdown",
   "metadata": {},
   "source": [
    "А значит сформулированная нами альтернативная гипотеза о том, что средние пользовательские рейтинги жанров Action и Sports различаются, не отвергается!"
   ]
  },
  {
   "cell_type": "code",
   "execution_count": 29,
   "metadata": {},
   "outputs": [
    {
     "name": "stdout",
     "output_type": "stream",
     "text": [
      "Средний пользовательский рейтинг Action: 6.84\n",
      "Средний пользовательский рейтинг Sports: 5.24\n"
     ]
    }
   ],
   "source": [
    "# Посчитаем средние оценки для Action и Sports\n",
    "print('Средний пользовательский рейтинг Action:', round(action.mean(), 2))\n",
    "print('Средний пользовательский рейтинг Sports:', round(sports.mean(), 2))"
   ]
  },
  {
   "cell_type": "markdown",
   "metadata": {},
   "source": [
    "Наглядно видно, что средние пользовательские рейтинги Action и Sports отличаются на 1.6 балла. Это значение уже существенное для 10-ти бальной системы и в особенности для средних значений.<br/>\n",
    "Исходя из результатов проверки гипотезы, верно утверждение, что cредние пользовательские рейтинги жанров Action и Sports различаются."
   ]
  },
  {
   "cell_type": "markdown",
   "metadata": {},
   "source": [
    "## Общий вывод."
   ]
  },
  {
   "cell_type": "markdown",
   "metadata": {},
   "source": [
    "В данном исследовании мы изучили исторические данные по рынку видео игр.\n",
    "* <b>Мы определили основыне этапы роста и спада рынка:</b><br/>\n",
    "    - C 1980 по 1993г - происходит зарождение рынка. Появляются первые игровые автоматы, позже первые портитивные приставки и консоли.<br/>\n",
    "    - С 1994 по 2008г - начинается бурный рост индустрии с развитием програмного и аппаратного обеспечений, а так же интернета.<br/>\n",
    "    - С 2009 по 2013г - на рынке намечается спад, так как появляется параллельный более перспективный рынок мобильного гейминга.<br/>\n",
    "    - С 2013 по 2016г - можно наблюдать небольшой спад, но он уже не носит критичный характер.<br/>\n",
    "* <b>Выделили самые успешные платформы за все время:</b><br/>\n",
    "    - PS2, X360, PS3, Wii, DS и PS.<br/>\n",
    "    - Определили, что средний срок жизни платформы - 10 лет.<br/>\n",
    "* <b>Узнали на каких платформах лучше продаются игры:</b><br/>\n",
    "    - Самые лучшие медианные продажи у гигантов рынка - PlayStation, Xbox и Wii.<br/>\n",
    "    - Cудя по выбросам у платформ, ставку можно делать на известные и прибыльные франшизы.<br/>\n",
    "* <b>Определили связь между продажами и отзывами критиков и пользователей:</b><br/>\n",
    "    - Перед покупкой люди прислушиваются в той или иной степени к мнению критиков и это относится ко всем платформам.<br/>\n",
    "    - К мнению пользователей прислушиваются только в Японии. Возможно это часть менталитета.<br/>\n",
    "* <b>Узнали жанры с самыми высокими продажами и низкими продажами:</b><br/>\n",
    "    - Жанры с высокими продажами - Action, Shooter, Sports и Role-Playig.<br/>\n",
    "    - Жанр Misc как переходный между высокими и низкими продажами.<br/>\n",
    "    - Жанры с низкими продажами - Platform, Racing, Fighting, Adventure, Simulation, Strategy, Puzzle.<br/>\n",
    "* <b>Составили портреты пользователя для каждого региона:</b><br/>\n",
    "    - В Северной Америке предпочитают PlayStation и Xbox, как правило играют в Action, Shooter, Sports, Role-Playing с возрастными рейтингами \"Для взрослых\" и \"Для всех\".<br/>\n",
    "    - В Европе PlayStation и в меньшей степени Xbox, как правило играют в Action, Shooter, Sports, Role-Playing с возрастными рейтингами \"Для взрослых\" и \"Для всех\".<br/>\n",
    "    - В Японии предпочитают \"отечественные\" консоли Nintendo 3DS/WiiU и Sony PSV/PS3/PS4 и играют как правило в Role-Playing и Action с возрастными рейтингами «Подросткам», \"Для всех\" и \"Для взрослых\".\n",
    "<br/><br/>\n",
    "\n",
    "<b>Для планирования рекламных кампаний на 2017 год:</b><br/>\n",
    "Рекламные компании нужно разделить по регионам из-за специфики рынка.<br/>\n",
    "Самая популярная линейка консолей во всем мире Sony PlayStation, поэтому к играм этих консолей больше всего будет привлечено внимания. В Северной Америке и в Европе так же стоит делать упор на игры выходящие на семействе Xbox. В Японии же в первую очередь нужно делать упор на семейство Nintendo, не забывая про Sony PlayStation, а вот Xbox в Япониии крайне не популярен и рекламировать игры на Xbox как деньги на ветер.<br/>\n",
    "По поводу самих игр: идеальный вариант во всех регионах - игры жанра Action. В Северной Америке и Европе стоит так же делать упор на Shooter, Sports, Role-Playing. В Японии упор должен идти на Role-Playing и довольно популярным является Fighting, а вот жанр Sports не нашел широкого распространения.<br/>\n",
    "Нужно прислушиваться к мнению критиков, они все же знают толк в играх.\n",
    "Ну и конечно же нужно делать ставку на игры с высокими ожиданиями и высокими рейтингами критиков. Присматриваться к популярным франшизам и зарекомендованным за долгое время игровым студиям."
   ]
  }
 ],
 "metadata": {
  "ExecuteTimeLog": [
   {
    "duration": 878,
    "start_time": "2021-11-11T08:27:18.606Z"
   },
   {
    "duration": 13,
    "start_time": "2021-11-11T08:31:48.732Z"
   },
   {
    "duration": 504,
    "start_time": "2021-11-11T08:32:47.476Z"
   },
   {
    "duration": 25,
    "start_time": "2021-11-11T08:33:01.847Z"
   },
   {
    "duration": 79,
    "start_time": "2021-11-11T08:34:43.471Z"
   },
   {
    "duration": 77,
    "start_time": "2021-11-11T08:34:57.574Z"
   },
   {
    "duration": 869,
    "start_time": "2021-11-11T08:35:06.755Z"
   },
   {
    "duration": 15,
    "start_time": "2021-11-11T08:35:07.628Z"
   },
   {
    "duration": 25,
    "start_time": "2021-11-11T08:35:07.646Z"
   },
   {
    "duration": 5,
    "start_time": "2021-11-11T08:44:07.615Z"
   },
   {
    "duration": 4,
    "start_time": "2021-11-11T08:44:22.266Z"
   },
   {
    "duration": 9,
    "start_time": "2021-11-11T08:44:29.436Z"
   },
   {
    "duration": 476,
    "start_time": "2021-11-11T08:47:29.261Z"
   },
   {
    "duration": 463,
    "start_time": "2021-11-11T08:48:27.839Z"
   },
   {
    "duration": 396,
    "start_time": "2021-11-11T08:50:11.021Z"
   },
   {
    "duration": 926,
    "start_time": "2021-11-11T08:55:00.938Z"
   },
   {
    "duration": 1041,
    "start_time": "2021-11-11T09:03:28.329Z"
   },
   {
    "duration": 395,
    "start_time": "2021-11-11T09:03:48.498Z"
   },
   {
    "duration": 10,
    "start_time": "2021-11-11T09:04:09.344Z"
   },
   {
    "duration": 29,
    "start_time": "2021-11-11T09:04:22.084Z"
   },
   {
    "duration": 380,
    "start_time": "2021-11-11T09:04:50.058Z"
   },
   {
    "duration": 12,
    "start_time": "2021-11-11T09:05:45.977Z"
   },
   {
    "duration": 866,
    "start_time": "2021-11-11T09:06:03.200Z"
   },
   {
    "duration": 14,
    "start_time": "2021-11-11T09:06:04.070Z"
   },
   {
    "duration": 23,
    "start_time": "2021-11-11T09:06:04.102Z"
   },
   {
    "duration": 6,
    "start_time": "2021-11-11T09:06:04.128Z"
   },
   {
    "duration": 19,
    "start_time": "2021-11-11T09:06:04.136Z"
   },
   {
    "duration": 571,
    "start_time": "2021-11-11T09:06:04.158Z"
   },
   {
    "duration": 28,
    "start_time": "2021-11-11T09:06:11.213Z"
   },
   {
    "duration": 34,
    "start_time": "2021-11-11T09:06:38.610Z"
   },
   {
    "duration": 905,
    "start_time": "2021-11-11T09:06:48.466Z"
   },
   {
    "duration": 12,
    "start_time": "2021-11-11T09:06:49.373Z"
   },
   {
    "duration": 24,
    "start_time": "2021-11-11T09:06:49.402Z"
   },
   {
    "duration": 5,
    "start_time": "2021-11-11T09:06:49.429Z"
   },
   {
    "duration": 31,
    "start_time": "2021-11-11T09:06:49.437Z"
   },
   {
    "duration": 60,
    "start_time": "2021-11-11T09:06:49.471Z"
   },
   {
    "duration": 27,
    "start_time": "2021-11-11T09:18:08.115Z"
   },
   {
    "duration": 14,
    "start_time": "2021-11-11T09:23:05.768Z"
   },
   {
    "duration": 14,
    "start_time": "2021-11-11T09:27:49.100Z"
   },
   {
    "duration": 24,
    "start_time": "2021-11-11T09:28:18.435Z"
   },
   {
    "duration": 15,
    "start_time": "2021-11-11T09:29:52.540Z"
   },
   {
    "duration": 13,
    "start_time": "2021-11-11T09:30:28.300Z"
   },
   {
    "duration": 8,
    "start_time": "2021-11-11T09:30:52.218Z"
   },
   {
    "duration": 509,
    "start_time": "2021-11-11T09:31:24.877Z"
   },
   {
    "duration": 8,
    "start_time": "2021-11-11T09:32:07.032Z"
   },
   {
    "duration": 400,
    "start_time": "2021-11-11T09:32:47.556Z"
   },
   {
    "duration": 444,
    "start_time": "2021-11-11T09:33:49.061Z"
   },
   {
    "duration": 34,
    "start_time": "2021-11-11T09:34:26.556Z"
   },
   {
    "duration": 25,
    "start_time": "2021-11-11T09:34:43.667Z"
   },
   {
    "duration": 39,
    "start_time": "2021-11-11T09:35:03.813Z"
   },
   {
    "duration": 827,
    "start_time": "2021-11-11T09:53:44.144Z"
   },
   {
    "duration": 12,
    "start_time": "2021-11-11T09:53:44.974Z"
   },
   {
    "duration": 39,
    "start_time": "2021-11-11T09:53:44.988Z"
   },
   {
    "duration": 14,
    "start_time": "2021-11-11T09:53:45.030Z"
   },
   {
    "duration": 134,
    "start_time": "2021-11-11T09:53:45.047Z"
   },
   {
    "duration": -35,
    "start_time": "2021-11-11T09:53:45.219Z"
   },
   {
    "duration": 830,
    "start_time": "2021-11-11T09:54:08.533Z"
   },
   {
    "duration": 12,
    "start_time": "2021-11-11T09:54:09.366Z"
   },
   {
    "duration": 39,
    "start_time": "2021-11-11T09:54:09.381Z"
   },
   {
    "duration": 7,
    "start_time": "2021-11-11T09:54:09.422Z"
   },
   {
    "duration": 45,
    "start_time": "2021-11-11T09:54:09.431Z"
   },
   {
    "duration": 7,
    "start_time": "2021-11-11T09:54:09.501Z"
   },
   {
    "duration": 24,
    "start_time": "2021-11-11T09:54:31.216Z"
   },
   {
    "duration": 22,
    "start_time": "2021-11-11T09:54:46.052Z"
   },
   {
    "duration": 588,
    "start_time": "2021-11-11T11:55:51.673Z"
   },
   {
    "duration": 369,
    "start_time": "2021-11-11T11:55:58.540Z"
   },
   {
    "duration": 250,
    "start_time": "2021-11-11T11:56:06.710Z"
   },
   {
    "duration": 862,
    "start_time": "2021-11-11T11:56:14.630Z"
   },
   {
    "duration": 12,
    "start_time": "2021-11-11T11:56:15.495Z"
   },
   {
    "duration": 26,
    "start_time": "2021-11-11T11:56:15.510Z"
   },
   {
    "duration": 6,
    "start_time": "2021-11-11T11:56:15.539Z"
   },
   {
    "duration": 29,
    "start_time": "2021-11-11T11:56:15.548Z"
   },
   {
    "duration": 6,
    "start_time": "2021-11-11T11:56:15.600Z"
   },
   {
    "duration": 2366,
    "start_time": "2021-11-11T11:56:49.369Z"
   },
   {
    "duration": 1568,
    "start_time": "2021-11-11T11:57:08.810Z"
   },
   {
    "duration": 994,
    "start_time": "2021-11-11T11:57:15.707Z"
   },
   {
    "duration": 15,
    "start_time": "2021-11-11T11:57:16.705Z"
   },
   {
    "duration": 27,
    "start_time": "2021-11-11T11:57:16.728Z"
   },
   {
    "duration": 44,
    "start_time": "2021-11-11T11:57:16.758Z"
   },
   {
    "duration": 26,
    "start_time": "2021-11-11T11:57:16.804Z"
   },
   {
    "duration": 491,
    "start_time": "2021-11-11T11:57:16.832Z"
   },
   {
    "duration": 8,
    "start_time": "2021-11-11T11:57:23.348Z"
   },
   {
    "duration": 420,
    "start_time": "2021-11-11T11:57:39.501Z"
   },
   {
    "duration": 407,
    "start_time": "2021-11-11T11:57:44.965Z"
   },
   {
    "duration": 412,
    "start_time": "2021-11-11T11:58:04.098Z"
   },
   {
    "duration": 10,
    "start_time": "2021-11-11T11:58:07.025Z"
   },
   {
    "duration": 372,
    "start_time": "2021-11-11T12:14:36.187Z"
   },
   {
    "duration": 27,
    "start_time": "2021-11-11T12:14:45.617Z"
   },
   {
    "duration": 4,
    "start_time": "2021-11-11T12:15:32.890Z"
   },
   {
    "duration": 64,
    "start_time": "2021-11-11T12:21:01.190Z"
   },
   {
    "duration": 414,
    "start_time": "2021-11-11T12:22:43.875Z"
   },
   {
    "duration": 186,
    "start_time": "2021-11-11T12:23:14.137Z"
   },
   {
    "duration": 984,
    "start_time": "2021-11-11T12:23:20.183Z"
   },
   {
    "duration": 15,
    "start_time": "2021-11-11T12:23:21.171Z"
   },
   {
    "duration": 24,
    "start_time": "2021-11-11T12:23:21.205Z"
   },
   {
    "duration": 6,
    "start_time": "2021-11-11T12:23:21.232Z"
   },
   {
    "duration": 29,
    "start_time": "2021-11-11T12:23:21.241Z"
   },
   {
    "duration": 39,
    "start_time": "2021-11-11T12:23:21.272Z"
   },
   {
    "duration": 27,
    "start_time": "2021-11-11T12:23:21.313Z"
   },
   {
    "duration": 547,
    "start_time": "2021-11-11T12:23:21.343Z"
   },
   {
    "duration": 1559,
    "start_time": "2021-11-11T12:24:00.901Z"
   },
   {
    "duration": 11,
    "start_time": "2021-11-11T12:24:02.464Z"
   },
   {
    "duration": 41,
    "start_time": "2021-11-11T12:24:02.479Z"
   },
   {
    "duration": 6,
    "start_time": "2021-11-11T12:24:02.523Z"
   },
   {
    "duration": 23,
    "start_time": "2021-11-11T12:24:02.532Z"
   },
   {
    "duration": 18,
    "start_time": "2021-11-11T12:24:02.558Z"
   },
   {
    "duration": 50,
    "start_time": "2021-11-11T12:24:02.579Z"
   },
   {
    "duration": 644,
    "start_time": "2021-11-11T12:24:02.632Z"
   },
   {
    "duration": 405,
    "start_time": "2021-11-11T12:24:32.582Z"
   },
   {
    "duration": 418,
    "start_time": "2021-11-11T12:28:47.434Z"
   },
   {
    "duration": 402,
    "start_time": "2021-11-11T12:28:50.681Z"
   },
   {
    "duration": 408,
    "start_time": "2021-11-11T12:28:56.052Z"
   },
   {
    "duration": 25,
    "start_time": "2021-11-11T12:48:42.004Z"
   },
   {
    "duration": 1522,
    "start_time": "2021-11-11T12:48:58.640Z"
   },
   {
    "duration": 12,
    "start_time": "2021-11-11T12:49:00.165Z"
   },
   {
    "duration": 43,
    "start_time": "2021-11-11T12:49:00.180Z"
   },
   {
    "duration": 7,
    "start_time": "2021-11-11T12:49:00.225Z"
   },
   {
    "duration": 31,
    "start_time": "2021-11-11T12:49:00.234Z"
   },
   {
    "duration": 26,
    "start_time": "2021-11-11T12:49:00.267Z"
   },
   {
    "duration": 34,
    "start_time": "2021-11-11T12:49:00.296Z"
   },
   {
    "duration": 440,
    "start_time": "2021-11-11T12:49:00.333Z"
   },
   {
    "duration": 3,
    "start_time": "2021-11-11T12:49:00.776Z"
   },
   {
    "duration": 16,
    "start_time": "2021-11-11T12:57:16.293Z"
   },
   {
    "duration": 11,
    "start_time": "2021-11-11T12:57:21.759Z"
   },
   {
    "duration": 498,
    "start_time": "2021-11-11T13:00:00.602Z"
   },
   {
    "duration": 307,
    "start_time": "2021-11-11T13:00:12.205Z"
   },
   {
    "duration": 670,
    "start_time": "2021-11-11T13:01:16.944Z"
   },
   {
    "duration": 401,
    "start_time": "2021-11-11T13:01:31.852Z"
   },
   {
    "duration": 608,
    "start_time": "2021-11-11T13:01:59.002Z"
   },
   {
    "duration": 675,
    "start_time": "2021-11-11T13:03:16.572Z"
   },
   {
    "duration": 682,
    "start_time": "2021-11-11T13:03:29.971Z"
   },
   {
    "duration": 648,
    "start_time": "2021-11-11T13:07:38.837Z"
   },
   {
    "duration": 410,
    "start_time": "2021-11-11T13:22:15.540Z"
   },
   {
    "duration": 817,
    "start_time": "2021-11-11T13:22:21.549Z"
   },
   {
    "duration": 402,
    "start_time": "2021-11-11T13:22:27.507Z"
   },
   {
    "duration": 404,
    "start_time": "2021-11-11T13:23:58.659Z"
   },
   {
    "duration": 10,
    "start_time": "2021-11-11T13:27:48.366Z"
   },
   {
    "duration": 5,
    "start_time": "2021-11-11T13:28:49.426Z"
   },
   {
    "duration": 10,
    "start_time": "2021-11-11T13:28:59.420Z"
   },
   {
    "duration": 8,
    "start_time": "2021-11-11T13:30:10.090Z"
   },
   {
    "duration": 11,
    "start_time": "2021-11-11T13:30:20.012Z"
   },
   {
    "duration": 11124,
    "start_time": "2021-11-11T13:34:30.722Z"
   },
   {
    "duration": 13,
    "start_time": "2021-11-11T13:36:40.019Z"
   },
   {
    "duration": 9993,
    "start_time": "2021-11-11T13:36:43.124Z"
   },
   {
    "duration": 9452,
    "start_time": "2021-11-11T13:39:26.934Z"
   },
   {
    "duration": 9705,
    "start_time": "2021-11-11T13:40:01.655Z"
   },
   {
    "duration": 9480,
    "start_time": "2021-11-11T13:40:13.383Z"
   },
   {
    "duration": 9817,
    "start_time": "2021-11-11T13:40:51.659Z"
   },
   {
    "duration": 13,
    "start_time": "2021-11-11T13:41:22.639Z"
   },
   {
    "duration": 935,
    "start_time": "2021-11-11T13:42:01.342Z"
   },
   {
    "duration": 674,
    "start_time": "2021-11-11T13:42:53.608Z"
   },
   {
    "duration": 724,
    "start_time": "2021-11-11T13:50:07.089Z"
   },
   {
    "duration": 701,
    "start_time": "2021-11-11T13:51:30.858Z"
   },
   {
    "duration": 676,
    "start_time": "2021-11-11T14:46:53.956Z"
   },
   {
    "duration": 768,
    "start_time": "2021-11-11T14:46:58.477Z"
   },
   {
    "duration": 691,
    "start_time": "2021-11-11T14:48:10.970Z"
   },
   {
    "duration": 710,
    "start_time": "2021-11-11T15:09:30.884Z"
   },
   {
    "duration": 638,
    "start_time": "2021-11-11T15:10:05.764Z"
   },
   {
    "duration": 645,
    "start_time": "2021-11-11T15:11:30.908Z"
   },
   {
    "duration": 661,
    "start_time": "2021-11-11T15:12:00.111Z"
   },
   {
    "duration": 708,
    "start_time": "2021-11-11T15:12:17.926Z"
   },
   {
    "duration": 754,
    "start_time": "2021-11-11T15:13:06.393Z"
   },
   {
    "duration": 627,
    "start_time": "2021-11-11T15:13:14.048Z"
   },
   {
    "duration": 8,
    "start_time": "2021-11-11T15:16:13.509Z"
   },
   {
    "duration": 128,
    "start_time": "2021-11-11T15:17:00.745Z"
   },
   {
    "duration": 35,
    "start_time": "2021-11-11T15:17:07.427Z"
   },
   {
    "duration": 798,
    "start_time": "2021-11-11T15:18:00.299Z"
   },
   {
    "duration": 57,
    "start_time": "2021-11-11T15:18:21.580Z"
   },
   {
    "duration": 734,
    "start_time": "2021-11-11T15:25:02.881Z"
   },
   {
    "duration": 626,
    "start_time": "2021-11-11T15:25:23.260Z"
   },
   {
    "duration": 626,
    "start_time": "2021-11-11T15:49:01.831Z"
   },
   {
    "duration": 623,
    "start_time": "2021-11-11T15:50:19.672Z"
   },
   {
    "duration": 1518,
    "start_time": "2021-11-11T15:52:51.752Z"
   },
   {
    "duration": 11,
    "start_time": "2021-11-11T15:52:53.272Z"
   },
   {
    "duration": 33,
    "start_time": "2021-11-11T15:52:53.286Z"
   },
   {
    "duration": 6,
    "start_time": "2021-11-11T15:52:53.322Z"
   },
   {
    "duration": 20,
    "start_time": "2021-11-11T15:52:53.331Z"
   },
   {
    "duration": 12,
    "start_time": "2021-11-11T15:52:53.353Z"
   },
   {
    "duration": 53,
    "start_time": "2021-11-11T15:52:53.367Z"
   },
   {
    "duration": 423,
    "start_time": "2021-11-11T15:52:53.423Z"
   },
   {
    "duration": 685,
    "start_time": "2021-11-11T15:52:53.849Z"
   },
   {
    "duration": 812,
    "start_time": "2021-11-11T15:52:54.537Z"
   },
   {
    "duration": 22,
    "start_time": "2021-11-11T15:56:34.596Z"
   },
   {
    "duration": 21,
    "start_time": "2021-11-11T15:57:14.591Z"
   },
   {
    "duration": 21,
    "start_time": "2021-11-11T15:57:48.598Z"
   },
   {
    "duration": 648,
    "start_time": "2021-11-11T15:57:59.979Z"
   },
   {
    "duration": 1910,
    "start_time": "2021-11-11T15:59:13.338Z"
   },
   {
    "duration": 12,
    "start_time": "2021-11-11T15:59:15.250Z"
   },
   {
    "duration": 42,
    "start_time": "2021-11-11T15:59:15.265Z"
   },
   {
    "duration": 6,
    "start_time": "2021-11-11T15:59:15.310Z"
   },
   {
    "duration": 23,
    "start_time": "2021-11-11T15:59:15.319Z"
   },
   {
    "duration": 12,
    "start_time": "2021-11-11T15:59:15.344Z"
   },
   {
    "duration": 64,
    "start_time": "2021-11-11T15:59:15.358Z"
   },
   {
    "duration": 422,
    "start_time": "2021-11-11T15:59:15.426Z"
   },
   {
    "duration": 720,
    "start_time": "2021-11-11T15:59:15.851Z"
   },
   {
    "duration": 33,
    "start_time": "2021-11-11T15:59:16.574Z"
   },
   {
    "duration": 981,
    "start_time": "2021-11-11T15:59:16.610Z"
   },
   {
    "duration": 337,
    "start_time": "2021-11-12T07:06:26.932Z"
   },
   {
    "duration": 1559,
    "start_time": "2021-11-12T07:06:34.799Z"
   },
   {
    "duration": 13,
    "start_time": "2021-11-12T07:06:36.361Z"
   },
   {
    "duration": 25,
    "start_time": "2021-11-12T07:06:36.378Z"
   },
   {
    "duration": 7,
    "start_time": "2021-11-12T07:06:36.431Z"
   },
   {
    "duration": 17,
    "start_time": "2021-11-12T07:06:36.442Z"
   },
   {
    "duration": 13,
    "start_time": "2021-11-12T07:06:36.462Z"
   },
   {
    "duration": 71,
    "start_time": "2021-11-12T07:06:36.479Z"
   },
   {
    "duration": 410,
    "start_time": "2021-11-12T07:06:36.553Z"
   },
   {
    "duration": 644,
    "start_time": "2021-11-12T07:06:36.967Z"
   },
   {
    "duration": 31,
    "start_time": "2021-11-12T07:06:37.614Z"
   },
   {
    "duration": 626,
    "start_time": "2021-11-12T07:06:37.648Z"
   },
   {
    "duration": 8,
    "start_time": "2021-11-12T07:37:51.981Z"
   },
   {
    "duration": 924,
    "start_time": "2021-11-12T07:38:52.361Z"
   },
   {
    "duration": 950,
    "start_time": "2021-11-12T07:39:49.870Z"
   },
   {
    "duration": 902,
    "start_time": "2021-11-12T07:41:38.606Z"
   },
   {
    "duration": 34,
    "start_time": "2021-11-12T07:42:06.184Z"
   },
   {
    "duration": 10,
    "start_time": "2021-11-12T07:42:15.423Z"
   },
   {
    "duration": 911,
    "start_time": "2021-11-12T07:42:36.824Z"
   },
   {
    "duration": 995,
    "start_time": "2021-11-12T07:42:47.762Z"
   },
   {
    "duration": 915,
    "start_time": "2021-11-12T07:45:47.998Z"
   },
   {
    "duration": 902,
    "start_time": "2021-11-12T07:46:08.450Z"
   },
   {
    "duration": 1009,
    "start_time": "2021-11-12T07:46:19.834Z"
   },
   {
    "duration": 966,
    "start_time": "2021-11-12T07:47:25.036Z"
   },
   {
    "duration": 7,
    "start_time": "2021-11-12T07:47:49.395Z"
   },
   {
    "duration": 686,
    "start_time": "2021-11-12T08:04:49.479Z"
   },
   {
    "duration": 848,
    "start_time": "2021-11-12T08:09:08.464Z"
   },
   {
    "duration": 713,
    "start_time": "2021-11-12T08:09:36.974Z"
   },
   {
    "duration": 541,
    "start_time": "2021-11-12T08:10:01.804Z"
   },
   {
    "duration": 776,
    "start_time": "2021-11-12T08:11:16.147Z"
   },
   {
    "duration": 719,
    "start_time": "2021-11-12T08:11:51.854Z"
   },
   {
    "duration": 715,
    "start_time": "2021-11-12T08:12:32.591Z"
   },
   {
    "duration": 785,
    "start_time": "2021-11-12T08:13:19.543Z"
   },
   {
    "duration": 757,
    "start_time": "2021-11-12T08:13:29.757Z"
   },
   {
    "duration": 528,
    "start_time": "2021-11-12T08:13:48.238Z"
   },
   {
    "duration": 649,
    "start_time": "2021-11-12T08:15:21.906Z"
   },
   {
    "duration": 573,
    "start_time": "2021-11-12T08:16:43.916Z"
   },
   {
    "duration": 240,
    "start_time": "2021-11-12T08:16:48.180Z"
   },
   {
    "duration": 775,
    "start_time": "2021-11-12T08:17:10.031Z"
   },
   {
    "duration": 552,
    "start_time": "2021-11-12T08:17:19.794Z"
   },
   {
    "duration": 530,
    "start_time": "2021-11-12T08:17:56.885Z"
   },
   {
    "duration": 674,
    "start_time": "2021-11-12T08:18:00.169Z"
   },
   {
    "duration": 409,
    "start_time": "2021-11-12T08:43:47.364Z"
   },
   {
    "duration": 367,
    "start_time": "2021-11-12T08:43:56.803Z"
   },
   {
    "duration": 1735,
    "start_time": "2021-11-12T08:44:11.084Z"
   },
   {
    "duration": 3767,
    "start_time": "2021-11-12T08:46:01.123Z"
   },
   {
    "duration": 3722,
    "start_time": "2021-11-12T08:47:16.688Z"
   },
   {
    "duration": 3719,
    "start_time": "2021-11-12T08:49:11.808Z"
   },
   {
    "duration": 4033,
    "start_time": "2021-11-12T08:49:23.375Z"
   },
   {
    "duration": 3739,
    "start_time": "2021-11-12T08:51:30.440Z"
   },
   {
    "duration": 3658,
    "start_time": "2021-11-12T08:52:04.826Z"
   },
   {
    "duration": 9371,
    "start_time": "2021-11-12T08:52:21.886Z"
   },
   {
    "duration": 5432,
    "start_time": "2021-11-12T08:54:06.185Z"
   },
   {
    "duration": 8817,
    "start_time": "2021-11-12T08:54:39.857Z"
   },
   {
    "duration": 3875,
    "start_time": "2021-11-12T08:54:53.624Z"
   },
   {
    "duration": 12,
    "start_time": "2021-11-12T09:07:03.086Z"
   },
   {
    "duration": 716,
    "start_time": "2021-11-12T09:26:06.070Z"
   },
   {
    "duration": 1236,
    "start_time": "2021-11-12T09:27:26.521Z"
   },
   {
    "duration": 15,
    "start_time": "2021-11-12T09:27:38.437Z"
   },
   {
    "duration": 10,
    "start_time": "2021-11-12T09:28:18.768Z"
   },
   {
    "duration": 436,
    "start_time": "2021-11-12T09:28:47.751Z"
   },
   {
    "duration": 294,
    "start_time": "2021-11-12T09:30:51.974Z"
   },
   {
    "duration": 10,
    "start_time": "2021-11-12T09:31:04.184Z"
   },
   {
    "duration": 290,
    "start_time": "2021-11-12T09:31:23.489Z"
   },
   {
    "duration": 33,
    "start_time": "2021-11-12T09:31:59.132Z"
   },
   {
    "duration": 325,
    "start_time": "2021-11-12T09:35:01.682Z"
   },
   {
    "duration": 269,
    "start_time": "2021-11-12T09:35:08.996Z"
   },
   {
    "duration": 296,
    "start_time": "2021-11-12T09:35:38.119Z"
   },
   {
    "duration": 32,
    "start_time": "2021-11-12T09:36:05.882Z"
   },
   {
    "duration": 11,
    "start_time": "2021-11-12T09:36:33.159Z"
   },
   {
    "duration": 34,
    "start_time": "2021-11-12T09:36:38.371Z"
   },
   {
    "duration": 31,
    "start_time": "2021-11-12T09:36:58.907Z"
   },
   {
    "duration": 30,
    "start_time": "2021-11-12T09:37:12.649Z"
   },
   {
    "duration": 322,
    "start_time": "2021-11-12T09:37:50.508Z"
   },
   {
    "duration": 31,
    "start_time": "2021-11-12T09:38:06.043Z"
   },
   {
    "duration": 32,
    "start_time": "2021-11-12T09:38:15.383Z"
   },
   {
    "duration": 33,
    "start_time": "2021-11-12T09:39:22.447Z"
   },
   {
    "duration": 1532,
    "start_time": "2021-11-12T09:39:28.706Z"
   },
   {
    "duration": 12,
    "start_time": "2021-11-12T09:39:30.241Z"
   },
   {
    "duration": 34,
    "start_time": "2021-11-12T09:39:30.256Z"
   },
   {
    "duration": 6,
    "start_time": "2021-11-12T09:39:30.293Z"
   },
   {
    "duration": 41,
    "start_time": "2021-11-12T09:39:30.302Z"
   },
   {
    "duration": 18,
    "start_time": "2021-11-12T09:39:30.345Z"
   },
   {
    "duration": 23,
    "start_time": "2021-11-12T09:39:30.366Z"
   },
   {
    "duration": 431,
    "start_time": "2021-11-12T09:39:30.392Z"
   },
   {
    "duration": 663,
    "start_time": "2021-11-12T09:39:30.832Z"
   },
   {
    "duration": 35,
    "start_time": "2021-11-12T09:39:31.498Z"
   },
   {
    "duration": 660,
    "start_time": "2021-11-12T09:39:31.536Z"
   },
   {
    "duration": 13,
    "start_time": "2021-11-12T09:39:32.199Z"
   },
   {
    "duration": 990,
    "start_time": "2021-11-12T09:39:32.230Z"
   },
   {
    "duration": 548,
    "start_time": "2021-11-12T09:39:33.223Z"
   },
   {
    "duration": 558,
    "start_time": "2021-11-12T09:39:33.773Z"
   },
   {
    "duration": 3984,
    "start_time": "2021-11-12T09:39:34.333Z"
   },
   {
    "duration": 16,
    "start_time": "2021-11-12T09:39:38.319Z"
   },
   {
    "duration": 31,
    "start_time": "2021-11-12T09:39:38.338Z"
   },
   {
    "duration": 446,
    "start_time": "2021-11-12T09:40:54.450Z"
   },
   {
    "duration": 453,
    "start_time": "2021-11-12T09:41:33.929Z"
   },
   {
    "duration": 353,
    "start_time": "2021-11-12T09:42:58.619Z"
   },
   {
    "duration": 300,
    "start_time": "2021-11-12T09:43:08.097Z"
   },
   {
    "duration": 433,
    "start_time": "2021-11-12T09:43:15.644Z"
   },
   {
    "duration": 551,
    "start_time": "2021-11-12T09:44:04.661Z"
   },
   {
    "duration": 437,
    "start_time": "2021-11-12T09:45:28.109Z"
   },
   {
    "duration": 284,
    "start_time": "2021-11-12T09:47:13.021Z"
   },
   {
    "duration": 378,
    "start_time": "2021-11-12T09:48:20.314Z"
   },
   {
    "duration": 39,
    "start_time": "2021-11-12T09:49:08.426Z"
   },
   {
    "duration": 779,
    "start_time": "2021-11-12T09:50:11.012Z"
   },
   {
    "duration": 530,
    "start_time": "2021-11-12T09:50:26.500Z"
   },
   {
    "duration": 652,
    "start_time": "2021-11-12T09:51:22.631Z"
   },
   {
    "duration": 508,
    "start_time": "2021-11-12T09:53:01.962Z"
   },
   {
    "duration": 642,
    "start_time": "2021-11-12T09:53:31.860Z"
   },
   {
    "duration": 477,
    "start_time": "2021-11-12T09:53:50.355Z"
   },
   {
    "duration": 474,
    "start_time": "2021-11-12T09:55:27.372Z"
   },
   {
    "duration": 441,
    "start_time": "2021-11-12T09:56:49.788Z"
   },
   {
    "duration": 441,
    "start_time": "2021-11-12T09:58:30.638Z"
   },
   {
    "duration": 43,
    "start_time": "2021-11-12T14:10:38.592Z"
   },
   {
    "duration": 9,
    "start_time": "2021-11-12T14:14:39.598Z"
   },
   {
    "duration": 280,
    "start_time": "2021-11-12T14:15:38.618Z"
   },
   {
    "duration": 7,
    "start_time": "2021-11-12T14:15:52.768Z"
   },
   {
    "duration": 6,
    "start_time": "2021-11-12T14:16:12.469Z"
   },
   {
    "duration": 447,
    "start_time": "2021-11-12T14:19:35.451Z"
   },
   {
    "duration": 481,
    "start_time": "2021-11-12T14:19:38.337Z"
   },
   {
    "duration": 461,
    "start_time": "2021-11-12T14:21:26.823Z"
   },
   {
    "duration": 450,
    "start_time": "2021-11-12T14:23:07.654Z"
   },
   {
    "duration": 485,
    "start_time": "2021-11-12T14:23:08.356Z"
   },
   {
    "duration": 1588,
    "start_time": "2021-11-12T14:42:01.849Z"
   },
   {
    "duration": 12,
    "start_time": "2021-11-12T14:42:03.440Z"
   },
   {
    "duration": 25,
    "start_time": "2021-11-12T14:42:03.458Z"
   },
   {
    "duration": 6,
    "start_time": "2021-11-12T14:42:03.485Z"
   },
   {
    "duration": 49,
    "start_time": "2021-11-12T14:42:03.495Z"
   },
   {
    "duration": 13,
    "start_time": "2021-11-12T14:42:03.547Z"
   },
   {
    "duration": 26,
    "start_time": "2021-11-12T14:42:03.563Z"
   },
   {
    "duration": 479,
    "start_time": "2021-11-12T14:42:03.593Z"
   },
   {
    "duration": 740,
    "start_time": "2021-11-12T14:42:04.074Z"
   },
   {
    "duration": 31,
    "start_time": "2021-11-12T14:42:04.817Z"
   },
   {
    "duration": 716,
    "start_time": "2021-11-12T14:42:04.850Z"
   },
   {
    "duration": 9,
    "start_time": "2021-11-12T14:42:05.569Z"
   },
   {
    "duration": 1101,
    "start_time": "2021-11-12T14:42:05.580Z"
   },
   {
    "duration": 563,
    "start_time": "2021-11-12T14:42:06.684Z"
   },
   {
    "duration": 580,
    "start_time": "2021-11-12T14:42:07.250Z"
   },
   {
    "duration": 3926,
    "start_time": "2021-11-12T14:42:07.833Z"
   },
   {
    "duration": 11,
    "start_time": "2021-11-12T14:42:11.761Z"
   },
   {
    "duration": 6,
    "start_time": "2021-11-12T14:42:11.774Z"
   },
   {
    "duration": 485,
    "start_time": "2021-11-12T14:42:11.783Z"
   },
   {
    "duration": 451,
    "start_time": "2021-11-12T14:42:12.271Z"
   },
   {
    "duration": 371,
    "start_time": "2021-11-12T14:58:18.583Z"
   },
   {
    "duration": 1567,
    "start_time": "2021-11-12T14:58:31.403Z"
   },
   {
    "duration": 12,
    "start_time": "2021-11-12T14:58:32.972Z"
   },
   {
    "duration": 43,
    "start_time": "2021-11-12T14:58:32.988Z"
   },
   {
    "duration": 12,
    "start_time": "2021-11-12T14:58:33.034Z"
   },
   {
    "duration": 19,
    "start_time": "2021-11-12T14:58:33.049Z"
   },
   {
    "duration": 13,
    "start_time": "2021-11-12T14:58:33.071Z"
   },
   {
    "duration": 55,
    "start_time": "2021-11-12T14:58:33.087Z"
   },
   {
    "duration": 458,
    "start_time": "2021-11-12T14:58:33.145Z"
   },
   {
    "duration": 664,
    "start_time": "2021-11-12T14:58:33.606Z"
   },
   {
    "duration": 20,
    "start_time": "2021-11-12T14:58:34.272Z"
   },
   {
    "duration": 653,
    "start_time": "2021-11-12T14:58:34.295Z"
   },
   {
    "duration": 979,
    "start_time": "2021-11-12T14:58:34.950Z"
   },
   {
    "duration": 538,
    "start_time": "2021-11-12T14:58:35.931Z"
   },
   {
    "duration": 559,
    "start_time": "2021-11-12T14:58:36.472Z"
   },
   {
    "duration": 3709,
    "start_time": "2021-11-12T14:58:37.033Z"
   },
   {
    "duration": 11,
    "start_time": "2021-11-12T14:58:40.744Z"
   },
   {
    "duration": 7,
    "start_time": "2021-11-12T14:58:40.758Z"
   },
   {
    "duration": 477,
    "start_time": "2021-11-12T14:58:40.768Z"
   },
   {
    "duration": 453,
    "start_time": "2021-11-12T14:58:41.247Z"
   },
   {
    "duration": 1007,
    "start_time": "2021-11-12T15:00:20.309Z"
   },
   {
    "duration": 935,
    "start_time": "2021-11-12T15:03:57.415Z"
   },
   {
    "duration": 977,
    "start_time": "2021-11-12T15:04:05.434Z"
   },
   {
    "duration": 884,
    "start_time": "2021-11-12T15:04:16.770Z"
   },
   {
    "duration": 864,
    "start_time": "2021-11-12T15:09:25.950Z"
   },
   {
    "duration": 993,
    "start_time": "2021-11-12T15:09:35.901Z"
   },
   {
    "duration": 950,
    "start_time": "2021-11-12T15:09:43.738Z"
   },
   {
    "duration": 848,
    "start_time": "2021-11-12T15:10:07.295Z"
   },
   {
    "duration": 7467,
    "start_time": "2021-11-12T15:15:01.722Z"
   },
   {
    "duration": 7539,
    "start_time": "2021-11-12T15:15:20.020Z"
   },
   {
    "duration": 1554,
    "start_time": "2021-11-12T15:15:39.115Z"
   },
   {
    "duration": 11,
    "start_time": "2021-11-12T15:15:40.672Z"
   },
   {
    "duration": 33,
    "start_time": "2021-11-12T15:15:40.685Z"
   },
   {
    "duration": 6,
    "start_time": "2021-11-12T15:15:40.730Z"
   },
   {
    "duration": 21,
    "start_time": "2021-11-12T15:15:40.738Z"
   },
   {
    "duration": 12,
    "start_time": "2021-11-12T15:15:40.761Z"
   },
   {
    "duration": 53,
    "start_time": "2021-11-12T15:15:40.776Z"
   },
   {
    "duration": 398,
    "start_time": "2021-11-12T15:15:40.831Z"
   },
   {
    "duration": 640,
    "start_time": "2021-11-12T15:15:41.233Z"
   },
   {
    "duration": 22,
    "start_time": "2021-11-12T15:15:41.876Z"
   },
   {
    "duration": 874,
    "start_time": "2021-11-12T15:15:41.900Z"
   },
   {
    "duration": 906,
    "start_time": "2021-11-12T15:15:42.777Z"
   },
   {
    "duration": 546,
    "start_time": "2021-11-12T15:15:43.685Z"
   },
   {
    "duration": 646,
    "start_time": "2021-11-12T15:15:44.233Z"
   },
   {
    "duration": 4005,
    "start_time": "2021-11-12T15:15:44.882Z"
   },
   {
    "duration": 11,
    "start_time": "2021-11-12T15:15:48.890Z"
   },
   {
    "duration": 49,
    "start_time": "2021-11-12T15:15:48.904Z"
   },
   {
    "duration": 481,
    "start_time": "2021-11-12T15:15:48.956Z"
   },
   {
    "duration": 450,
    "start_time": "2021-11-12T15:15:49.439Z"
   },
   {
    "duration": 890,
    "start_time": "2021-11-12T15:16:26.754Z"
   },
   {
    "duration": 1492,
    "start_time": "2021-11-12T15:18:04.983Z"
   },
   {
    "duration": 11,
    "start_time": "2021-11-12T15:18:06.478Z"
   },
   {
    "duration": 46,
    "start_time": "2021-11-12T15:18:06.492Z"
   },
   {
    "duration": 6,
    "start_time": "2021-11-12T15:18:06.541Z"
   },
   {
    "duration": 19,
    "start_time": "2021-11-12T15:18:06.550Z"
   },
   {
    "duration": 11,
    "start_time": "2021-11-12T15:18:06.572Z"
   },
   {
    "duration": 58,
    "start_time": "2021-11-12T15:18:06.585Z"
   },
   {
    "duration": 403,
    "start_time": "2021-11-12T15:18:06.645Z"
   },
   {
    "duration": 636,
    "start_time": "2021-11-12T15:18:07.052Z"
   },
   {
    "duration": 20,
    "start_time": "2021-11-12T15:18:07.690Z"
   },
   {
    "duration": 924,
    "start_time": "2021-11-12T15:18:07.712Z"
   },
   {
    "duration": 107,
    "start_time": "2021-11-12T15:18:08.638Z"
   },
   {
    "duration": -423,
    "start_time": "2021-11-12T15:18:09.171Z"
   },
   {
    "duration": -429,
    "start_time": "2021-11-12T15:18:09.178Z"
   },
   {
    "duration": -432,
    "start_time": "2021-11-12T15:18:09.182Z"
   },
   {
    "duration": -432,
    "start_time": "2021-11-12T15:18:09.184Z"
   },
   {
    "duration": -437,
    "start_time": "2021-11-12T15:18:09.190Z"
   },
   {
    "duration": -437,
    "start_time": "2021-11-12T15:18:09.191Z"
   },
   {
    "duration": -437,
    "start_time": "2021-11-12T15:18:09.193Z"
   },
   {
    "duration": 609,
    "start_time": "2021-11-12T15:18:23.739Z"
   },
   {
    "duration": 1600,
    "start_time": "2021-11-12T15:18:37.494Z"
   },
   {
    "duration": 14,
    "start_time": "2021-11-12T15:18:39.097Z"
   },
   {
    "duration": 38,
    "start_time": "2021-11-12T15:18:39.114Z"
   },
   {
    "duration": 6,
    "start_time": "2021-11-12T15:18:39.154Z"
   },
   {
    "duration": 28,
    "start_time": "2021-11-12T15:18:39.162Z"
   },
   {
    "duration": 38,
    "start_time": "2021-11-12T15:18:39.193Z"
   },
   {
    "duration": 25,
    "start_time": "2021-11-12T15:18:39.234Z"
   },
   {
    "duration": 429,
    "start_time": "2021-11-12T15:18:39.261Z"
   },
   {
    "duration": 652,
    "start_time": "2021-11-12T15:18:39.693Z"
   },
   {
    "duration": 20,
    "start_time": "2021-11-12T15:18:40.348Z"
   },
   {
    "duration": 631,
    "start_time": "2021-11-12T15:18:40.370Z"
   },
   {
    "duration": 102,
    "start_time": "2021-11-12T15:18:41.004Z"
   },
   {
    "duration": -428,
    "start_time": "2021-11-12T15:18:41.536Z"
   },
   {
    "duration": -429,
    "start_time": "2021-11-12T15:18:41.539Z"
   },
   {
    "duration": -430,
    "start_time": "2021-11-12T15:18:41.541Z"
   },
   {
    "duration": -430,
    "start_time": "2021-11-12T15:18:41.542Z"
   },
   {
    "duration": -433,
    "start_time": "2021-11-12T15:18:41.546Z"
   },
   {
    "duration": -432,
    "start_time": "2021-11-12T15:18:41.547Z"
   },
   {
    "duration": -432,
    "start_time": "2021-11-12T15:18:41.548Z"
   },
   {
    "duration": 953,
    "start_time": "2021-11-12T15:19:42.436Z"
   },
   {
    "duration": 1511,
    "start_time": "2021-11-12T15:19:50.355Z"
   },
   {
    "duration": 13,
    "start_time": "2021-11-12T15:19:51.869Z"
   },
   {
    "duration": 46,
    "start_time": "2021-11-12T15:19:51.885Z"
   },
   {
    "duration": 7,
    "start_time": "2021-11-12T15:19:51.934Z"
   },
   {
    "duration": 35,
    "start_time": "2021-11-12T15:19:51.943Z"
   },
   {
    "duration": 28,
    "start_time": "2021-11-12T15:19:51.981Z"
   },
   {
    "duration": 33,
    "start_time": "2021-11-12T15:19:52.012Z"
   },
   {
    "duration": 431,
    "start_time": "2021-11-12T15:19:52.048Z"
   },
   {
    "duration": 654,
    "start_time": "2021-11-12T15:19:52.483Z"
   },
   {
    "duration": 22,
    "start_time": "2021-11-12T15:19:53.140Z"
   },
   {
    "duration": 667,
    "start_time": "2021-11-12T15:19:53.164Z"
   },
   {
    "duration": 1108,
    "start_time": "2021-11-12T15:19:53.833Z"
   },
   {
    "duration": 548,
    "start_time": "2021-11-12T15:19:54.943Z"
   },
   {
    "duration": 543,
    "start_time": "2021-11-12T15:19:55.493Z"
   },
   {
    "duration": 3586,
    "start_time": "2021-11-12T15:19:56.039Z"
   },
   {
    "duration": 12,
    "start_time": "2021-11-12T15:19:59.627Z"
   },
   {
    "duration": 14,
    "start_time": "2021-11-12T15:19:59.641Z"
   },
   {
    "duration": 471,
    "start_time": "2021-11-12T15:19:59.658Z"
   },
   {
    "duration": 446,
    "start_time": "2021-11-12T15:20:00.131Z"
   },
   {
    "duration": 911,
    "start_time": "2021-11-12T15:21:33.029Z"
   },
   {
    "duration": 892,
    "start_time": "2021-11-12T15:21:41.697Z"
   },
   {
    "duration": 1031,
    "start_time": "2021-11-12T15:21:59.998Z"
   },
   {
    "duration": 2054,
    "start_time": "2021-11-12T15:26:07.106Z"
   },
   {
    "duration": 12,
    "start_time": "2021-11-12T15:26:09.163Z"
   },
   {
    "duration": 24,
    "start_time": "2021-11-12T15:26:09.178Z"
   },
   {
    "duration": 28,
    "start_time": "2021-11-12T15:26:09.205Z"
   },
   {
    "duration": 22,
    "start_time": "2021-11-12T15:26:09.235Z"
   },
   {
    "duration": 13,
    "start_time": "2021-11-12T15:26:09.259Z"
   },
   {
    "duration": 57,
    "start_time": "2021-11-12T15:26:09.274Z"
   },
   {
    "duration": 517,
    "start_time": "2021-11-12T15:26:09.334Z"
   },
   {
    "duration": 662,
    "start_time": "2021-11-12T15:26:09.854Z"
   },
   {
    "duration": 28,
    "start_time": "2021-11-12T15:26:10.518Z"
   },
   {
    "duration": 659,
    "start_time": "2021-11-12T15:26:10.548Z"
   },
   {
    "duration": 992,
    "start_time": "2021-11-12T15:26:11.209Z"
   },
   {
    "duration": 552,
    "start_time": "2021-11-12T15:26:12.204Z"
   },
   {
    "duration": 559,
    "start_time": "2021-11-12T15:26:12.758Z"
   },
   {
    "duration": 4068,
    "start_time": "2021-11-12T15:26:13.320Z"
   },
   {
    "duration": 11,
    "start_time": "2021-11-12T15:26:17.390Z"
   },
   {
    "duration": 28,
    "start_time": "2021-11-12T15:26:17.404Z"
   },
   {
    "duration": 459,
    "start_time": "2021-11-12T15:26:17.434Z"
   },
   {
    "duration": 464,
    "start_time": "2021-11-12T15:26:17.895Z"
   },
   {
    "duration": 5,
    "start_time": "2021-11-12T15:42:15.251Z"
   },
   {
    "duration": 1033,
    "start_time": "2021-11-12T15:43:22.800Z"
   },
   {
    "duration": 828,
    "start_time": "2021-11-12T15:43:32.127Z"
   },
   {
    "duration": 7095,
    "start_time": "2021-11-12T15:45:08.069Z"
   },
   {
    "duration": 7102,
    "start_time": "2021-11-12T15:48:42.467Z"
   },
   {
    "duration": 454,
    "start_time": "2021-11-12T15:49:28.222Z"
   },
   {
    "duration": 7394,
    "start_time": "2021-11-12T15:49:54.915Z"
   },
   {
    "duration": 5907,
    "start_time": "2021-11-12T15:53:13.118Z"
   },
   {
    "duration": 7,
    "start_time": "2021-11-12T15:54:23.887Z"
   },
   {
    "duration": 7704,
    "start_time": "2021-11-12T15:56:02.698Z"
   },
   {
    "duration": 7734,
    "start_time": "2021-11-12T16:14:55.415Z"
   },
   {
    "duration": 7948,
    "start_time": "2021-11-12T16:16:59.569Z"
   },
   {
    "duration": 4170,
    "start_time": "2021-11-12T16:28:09.068Z"
   },
   {
    "duration": 3485,
    "start_time": "2021-11-12T16:42:30.050Z"
   },
   {
    "duration": 3700,
    "start_time": "2021-11-12T16:42:39.589Z"
   },
   {
    "duration": 113,
    "start_time": "2021-11-12T18:40:12.841Z"
   },
   {
    "duration": 4,
    "start_time": "2021-11-12T18:40:32.016Z"
   },
   {
    "duration": 612,
    "start_time": "2021-11-12T18:58:19.219Z"
   },
   {
    "duration": 573,
    "start_time": "2021-11-12T18:59:35.547Z"
   },
   {
    "duration": 791,
    "start_time": "2021-11-12T19:00:00.151Z"
   },
   {
    "duration": 727,
    "start_time": "2021-11-12T19:00:41.127Z"
   },
   {
    "duration": 1129,
    "start_time": "2021-11-12T19:01:19.662Z"
   },
   {
    "duration": 753,
    "start_time": "2021-11-12T19:11:06.406Z"
   },
   {
    "duration": 7142,
    "start_time": "2021-11-12T19:12:58.452Z"
   },
   {
    "duration": 584,
    "start_time": "2021-11-12T19:14:57.747Z"
   },
   {
    "duration": 706,
    "start_time": "2021-11-12T19:15:30.823Z"
   },
   {
    "duration": 615,
    "start_time": "2021-11-12T19:16:08.567Z"
   },
   {
    "duration": 565,
    "start_time": "2021-11-12T19:18:58.055Z"
   },
   {
    "duration": 5,
    "start_time": "2021-11-12T19:19:35.385Z"
   },
   {
    "duration": 554,
    "start_time": "2021-11-12T19:20:07.837Z"
   },
   {
    "duration": 583,
    "start_time": "2021-11-12T19:20:34.615Z"
   },
   {
    "duration": 574,
    "start_time": "2021-11-12T19:20:50.355Z"
   },
   {
    "duration": 537,
    "start_time": "2021-11-12T19:21:13.931Z"
   },
   {
    "duration": 898,
    "start_time": "2021-11-12T19:23:55.996Z"
   },
   {
    "duration": 562,
    "start_time": "2021-11-12T19:24:20.469Z"
   },
   {
    "duration": 664,
    "start_time": "2021-11-12T19:28:27.781Z"
   },
   {
    "duration": 602,
    "start_time": "2021-11-12T19:29:26.808Z"
   },
   {
    "duration": 536,
    "start_time": "2021-11-12T19:29:47.920Z"
   },
   {
    "duration": 313,
    "start_time": "2021-11-12T19:29:56.928Z"
   },
   {
    "duration": 303,
    "start_time": "2021-11-12T19:30:30.645Z"
   },
   {
    "duration": 268,
    "start_time": "2021-11-12T19:30:44.329Z"
   },
   {
    "duration": 423,
    "start_time": "2021-11-12T19:31:46.163Z"
   },
   {
    "duration": 6,
    "start_time": "2021-11-12T19:31:52.353Z"
   },
   {
    "duration": 296,
    "start_time": "2021-11-12T19:32:28.021Z"
   },
   {
    "duration": 6,
    "start_time": "2021-11-12T19:32:33.681Z"
   },
   {
    "duration": 2857,
    "start_time": "2021-11-12T19:35:26.251Z"
   },
   {
    "duration": 553,
    "start_time": "2021-11-12T19:35:59.672Z"
   },
   {
    "duration": 605,
    "start_time": "2021-11-12T19:36:58.626Z"
   },
   {
    "duration": 673,
    "start_time": "2021-11-12T19:37:21.974Z"
   },
   {
    "duration": 564,
    "start_time": "2021-11-12T19:38:42.404Z"
   },
   {
    "duration": 586,
    "start_time": "2021-11-12T19:39:12.316Z"
   },
   {
    "duration": 305,
    "start_time": "2021-11-13T08:21:50.962Z"
   },
   {
    "duration": 1221,
    "start_time": "2021-11-13T08:22:00.846Z"
   },
   {
    "duration": 10,
    "start_time": "2021-11-13T08:22:02.069Z"
   },
   {
    "duration": 18,
    "start_time": "2021-11-13T08:22:02.081Z"
   },
   {
    "duration": 5,
    "start_time": "2021-11-13T08:22:02.101Z"
   },
   {
    "duration": 18,
    "start_time": "2021-11-13T08:22:02.107Z"
   },
   {
    "duration": 12,
    "start_time": "2021-11-13T08:22:02.145Z"
   },
   {
    "duration": 23,
    "start_time": "2021-11-13T08:22:02.159Z"
   },
   {
    "duration": 263,
    "start_time": "2021-11-13T08:22:02.184Z"
   },
   {
    "duration": 389,
    "start_time": "2021-11-13T08:22:02.449Z"
   },
   {
    "duration": 14,
    "start_time": "2021-11-13T08:22:02.843Z"
   },
   {
    "duration": 370,
    "start_time": "2021-11-13T08:22:02.858Z"
   },
   {
    "duration": 587,
    "start_time": "2021-11-13T08:22:03.229Z"
   },
   {
    "duration": 326,
    "start_time": "2021-11-13T08:22:03.818Z"
   },
   {
    "duration": 326,
    "start_time": "2021-11-13T08:22:04.146Z"
   },
   {
    "duration": 2366,
    "start_time": "2021-11-13T08:22:04.473Z"
   },
   {
    "duration": 8,
    "start_time": "2021-11-13T08:22:06.844Z"
   },
   {
    "duration": 3053,
    "start_time": "2021-11-13T08:22:06.853Z"
   },
   {
    "duration": 289,
    "start_time": "2021-11-13T08:22:09.907Z"
   },
   {
    "duration": 285,
    "start_time": "2021-11-13T08:22:10.198Z"
   },
   {
    "duration": 3,
    "start_time": "2021-11-13T08:22:10.485Z"
   },
   {
    "duration": 10,
    "start_time": "2021-11-13T08:22:10.490Z"
   },
   {
    "duration": 443,
    "start_time": "2021-11-13T08:22:10.502Z"
   },
   {
    "duration": -515,
    "start_time": "2021-11-13T08:22:11.462Z"
   },
   {
    "duration": 21,
    "start_time": "2021-11-13T08:22:16.934Z"
   },
   {
    "duration": 13,
    "start_time": "2021-11-13T08:22:57.580Z"
   },
   {
    "duration": 13,
    "start_time": "2021-11-13T08:23:13.549Z"
   },
   {
    "duration": 14,
    "start_time": "2021-11-13T08:23:20.703Z"
   },
   {
    "duration": 271,
    "start_time": "2021-11-13T08:24:08.438Z"
   },
   {
    "duration": 275,
    "start_time": "2021-11-13T08:24:19.167Z"
   },
   {
    "duration": 257,
    "start_time": "2021-11-13T08:24:38.118Z"
   },
   {
    "duration": 86,
    "start_time": "2021-11-13T08:34:43.735Z"
   },
   {
    "duration": 88,
    "start_time": "2021-11-13T08:34:49.509Z"
   },
   {
    "duration": 255,
    "start_time": "2021-11-13T08:34:54.659Z"
   },
   {
    "duration": 145,
    "start_time": "2021-11-13T08:35:51.460Z"
   },
   {
    "duration": 93,
    "start_time": "2021-11-13T09:00:10.101Z"
   },
   {
    "duration": 10,
    "start_time": "2021-11-13T09:00:16.957Z"
   },
   {
    "duration": 10,
    "start_time": "2021-11-13T09:00:44.387Z"
   },
   {
    "duration": 13,
    "start_time": "2021-11-13T09:00:58.426Z"
   },
   {
    "duration": 167,
    "start_time": "2021-11-13T09:02:54.595Z"
   },
   {
    "duration": 721,
    "start_time": "2021-11-13T09:07:16.795Z"
   },
   {
    "duration": 405,
    "start_time": "2021-11-13T09:07:28.930Z"
   },
   {
    "duration": 466,
    "start_time": "2021-11-13T09:08:48.417Z"
   },
   {
    "duration": 1210,
    "start_time": "2021-11-13T09:09:01.944Z"
   },
   {
    "duration": 8,
    "start_time": "2021-11-13T09:09:03.156Z"
   },
   {
    "duration": 18,
    "start_time": "2021-11-13T09:09:03.166Z"
   },
   {
    "duration": 5,
    "start_time": "2021-11-13T09:09:03.186Z"
   },
   {
    "duration": 22,
    "start_time": "2021-11-13T09:09:03.192Z"
   },
   {
    "duration": 8,
    "start_time": "2021-11-13T09:09:03.216Z"
   },
   {
    "duration": 29,
    "start_time": "2021-11-13T09:09:03.226Z"
   },
   {
    "duration": 260,
    "start_time": "2021-11-13T09:09:03.257Z"
   },
   {
    "duration": 488,
    "start_time": "2021-11-13T09:09:03.519Z"
   },
   {
    "duration": 13,
    "start_time": "2021-11-13T09:09:04.009Z"
   },
   {
    "duration": 396,
    "start_time": "2021-11-13T09:09:04.024Z"
   },
   {
    "duration": 594,
    "start_time": "2021-11-13T09:09:04.422Z"
   },
   {
    "duration": 312,
    "start_time": "2021-11-13T09:09:05.017Z"
   },
   {
    "duration": 321,
    "start_time": "2021-11-13T09:09:05.331Z"
   },
   {
    "duration": 2297,
    "start_time": "2021-11-13T09:09:05.654Z"
   },
   {
    "duration": 8,
    "start_time": "2021-11-13T09:09:07.952Z"
   },
   {
    "duration": 2916,
    "start_time": "2021-11-13T09:09:07.962Z"
   },
   {
    "duration": 265,
    "start_time": "2021-11-13T09:09:10.881Z"
   },
   {
    "duration": 258,
    "start_time": "2021-11-13T09:09:11.148Z"
   },
   {
    "duration": 563,
    "start_time": "2021-11-13T09:09:11.408Z"
   },
   {
    "duration": 470,
    "start_time": "2021-11-13T09:09:28.764Z"
   },
   {
    "duration": 475,
    "start_time": "2021-11-13T09:09:37.012Z"
   },
   {
    "duration": 440,
    "start_time": "2021-11-13T09:10:56.049Z"
   },
   {
    "duration": 460,
    "start_time": "2021-11-13T09:11:45.688Z"
   },
   {
    "duration": 454,
    "start_time": "2021-11-13T09:12:07.484Z"
   },
   {
    "duration": 493,
    "start_time": "2021-11-13T09:23:43.462Z"
   },
   {
    "duration": 426,
    "start_time": "2021-11-13T09:31:38.490Z"
   },
   {
    "duration": 438,
    "start_time": "2021-11-13T09:31:59.607Z"
   },
   {
    "duration": 139,
    "start_time": "2021-11-13T09:33:00.194Z"
   },
   {
    "duration": 5,
    "start_time": "2021-11-13T09:33:15.708Z"
   },
   {
    "duration": 4,
    "start_time": "2021-11-13T09:33:43.016Z"
   },
   {
    "duration": 4,
    "start_time": "2021-11-13T09:33:51.143Z"
   },
   {
    "duration": 423,
    "start_time": "2021-11-13T09:34:21.333Z"
   },
   {
    "duration": 1220,
    "start_time": "2021-11-13T09:35:10.733Z"
   },
   {
    "duration": 8,
    "start_time": "2021-11-13T09:35:11.955Z"
   },
   {
    "duration": 15,
    "start_time": "2021-11-13T09:35:11.965Z"
   },
   {
    "duration": 4,
    "start_time": "2021-11-13T09:35:11.982Z"
   },
   {
    "duration": 22,
    "start_time": "2021-11-13T09:35:11.988Z"
   },
   {
    "duration": 9,
    "start_time": "2021-11-13T09:35:12.012Z"
   },
   {
    "duration": 35,
    "start_time": "2021-11-13T09:35:12.022Z"
   },
   {
    "duration": 248,
    "start_time": "2021-11-13T09:35:12.059Z"
   },
   {
    "duration": 474,
    "start_time": "2021-11-13T09:35:12.311Z"
   },
   {
    "duration": 15,
    "start_time": "2021-11-13T09:35:12.787Z"
   },
   {
    "duration": 381,
    "start_time": "2021-11-13T09:35:12.804Z"
   },
   {
    "duration": 591,
    "start_time": "2021-11-13T09:35:13.187Z"
   },
   {
    "duration": 7,
    "start_time": "2021-11-13T09:35:13.780Z"
   },
   {
    "duration": 335,
    "start_time": "2021-11-13T09:35:13.788Z"
   },
   {
    "duration": 330,
    "start_time": "2021-11-13T09:35:14.125Z"
   },
   {
    "duration": 2278,
    "start_time": "2021-11-13T09:35:14.457Z"
   },
   {
    "duration": 13,
    "start_time": "2021-11-13T09:35:16.737Z"
   },
   {
    "duration": 3083,
    "start_time": "2021-11-13T09:35:16.752Z"
   },
   {
    "duration": 276,
    "start_time": "2021-11-13T09:35:19.844Z"
   },
   {
    "duration": 258,
    "start_time": "2021-11-13T09:35:20.123Z"
   },
   {
    "duration": 547,
    "start_time": "2021-11-13T09:35:20.383Z"
   },
   {
    "duration": 435,
    "start_time": "2021-11-13T09:35:20.932Z"
   },
   {
    "duration": 448,
    "start_time": "2021-11-13T09:35:21.370Z"
   },
   {
    "duration": 11,
    "start_time": "2021-11-13T09:35:51.822Z"
   },
   {
    "duration": 1330,
    "start_time": "2021-11-13T09:36:51.735Z"
   },
   {
    "duration": 8,
    "start_time": "2021-11-13T09:36:53.067Z"
   },
   {
    "duration": 7214,
    "start_time": "2021-11-13T09:36:53.077Z"
   },
   {
    "duration": -570,
    "start_time": "2021-11-13T09:37:00.864Z"
   },
   {
    "duration": -571,
    "start_time": "2021-11-13T09:37:00.866Z"
   },
   {
    "duration": -571,
    "start_time": "2021-11-13T09:37:00.867Z"
   },
   {
    "duration": -572,
    "start_time": "2021-11-13T09:37:00.869Z"
   },
   {
    "duration": -572,
    "start_time": "2021-11-13T09:37:00.870Z"
   },
   {
    "duration": -571,
    "start_time": "2021-11-13T09:37:00.871Z"
   },
   {
    "duration": -571,
    "start_time": "2021-11-13T09:37:00.872Z"
   },
   {
    "duration": -571,
    "start_time": "2021-11-13T09:37:00.873Z"
   },
   {
    "duration": -570,
    "start_time": "2021-11-13T09:37:00.874Z"
   },
   {
    "duration": -571,
    "start_time": "2021-11-13T09:37:00.876Z"
   },
   {
    "duration": -574,
    "start_time": "2021-11-13T09:37:00.880Z"
   },
   {
    "duration": -576,
    "start_time": "2021-11-13T09:37:00.883Z"
   },
   {
    "duration": -575,
    "start_time": "2021-11-13T09:37:00.884Z"
   },
   {
    "duration": -576,
    "start_time": "2021-11-13T09:37:00.886Z"
   },
   {
    "duration": -576,
    "start_time": "2021-11-13T09:37:00.887Z"
   },
   {
    "duration": -577,
    "start_time": "2021-11-13T09:37:00.889Z"
   },
   {
    "duration": -577,
    "start_time": "2021-11-13T09:37:00.891Z"
   },
   {
    "duration": -577,
    "start_time": "2021-11-13T09:37:00.892Z"
   },
   {
    "duration": -577,
    "start_time": "2021-11-13T09:37:00.893Z"
   },
   {
    "duration": -578,
    "start_time": "2021-11-13T09:37:00.895Z"
   },
   {
    "duration": 18,
    "start_time": "2021-11-13T09:37:12.191Z"
   },
   {
    "duration": 1199,
    "start_time": "2021-11-13T09:39:20.073Z"
   },
   {
    "duration": 9,
    "start_time": "2021-11-13T09:39:21.274Z"
   },
   {
    "duration": 16,
    "start_time": "2021-11-13T09:39:21.288Z"
   },
   {
    "duration": 5,
    "start_time": "2021-11-13T09:39:21.306Z"
   },
   {
    "duration": 38,
    "start_time": "2021-11-13T09:39:21.313Z"
   },
   {
    "duration": 8,
    "start_time": "2021-11-13T09:39:21.353Z"
   },
   {
    "duration": 16,
    "start_time": "2021-11-13T09:39:21.363Z"
   },
   {
    "duration": 273,
    "start_time": "2021-11-13T09:39:21.382Z"
   },
   {
    "duration": 406,
    "start_time": "2021-11-13T09:39:21.657Z"
   },
   {
    "duration": 14,
    "start_time": "2021-11-13T09:39:22.065Z"
   },
   {
    "duration": 413,
    "start_time": "2021-11-13T09:39:22.081Z"
   },
   {
    "duration": 641,
    "start_time": "2021-11-13T09:39:22.496Z"
   },
   {
    "duration": 10,
    "start_time": "2021-11-13T09:39:23.139Z"
   },
   {
    "duration": 331,
    "start_time": "2021-11-13T09:39:23.151Z"
   },
   {
    "duration": 331,
    "start_time": "2021-11-13T09:39:23.484Z"
   },
   {
    "duration": 2423,
    "start_time": "2021-11-13T09:39:23.817Z"
   },
   {
    "duration": 8,
    "start_time": "2021-11-13T09:39:26.244Z"
   },
   {
    "duration": 3131,
    "start_time": "2021-11-13T09:39:26.254Z"
   },
   {
    "duration": 293,
    "start_time": "2021-11-13T09:39:29.387Z"
   },
   {
    "duration": 264,
    "start_time": "2021-11-13T09:39:29.682Z"
   },
   {
    "duration": 562,
    "start_time": "2021-11-13T09:39:29.948Z"
   },
   {
    "duration": 445,
    "start_time": "2021-11-13T09:39:30.512Z"
   },
   {
    "duration": 456,
    "start_time": "2021-11-13T09:39:30.959Z"
   },
   {
    "duration": 10,
    "start_time": "2021-11-13T11:17:50.537Z"
   },
   {
    "duration": 10,
    "start_time": "2021-11-13T11:18:02.849Z"
   },
   {
    "duration": 9,
    "start_time": "2021-11-13T11:18:55.378Z"
   },
   {
    "duration": 12,
    "start_time": "2021-11-13T11:18:59.883Z"
   },
   {
    "duration": 348,
    "start_time": "2021-11-13T11:19:52.644Z"
   },
   {
    "duration": 1204,
    "start_time": "2021-11-13T11:20:06.542Z"
   },
   {
    "duration": 10,
    "start_time": "2021-11-13T11:20:07.748Z"
   },
   {
    "duration": 18,
    "start_time": "2021-11-13T11:20:07.764Z"
   },
   {
    "duration": 5,
    "start_time": "2021-11-13T11:20:07.784Z"
   },
   {
    "duration": 17,
    "start_time": "2021-11-13T11:20:07.791Z"
   },
   {
    "duration": 36,
    "start_time": "2021-11-13T11:20:07.810Z"
   },
   {
    "duration": 15,
    "start_time": "2021-11-13T11:20:07.848Z"
   },
   {
    "duration": 255,
    "start_time": "2021-11-13T11:20:07.865Z"
   },
   {
    "duration": 366,
    "start_time": "2021-11-13T11:20:08.122Z"
   },
   {
    "duration": 13,
    "start_time": "2021-11-13T11:20:08.490Z"
   },
   {
    "duration": 386,
    "start_time": "2021-11-13T11:20:08.504Z"
   },
   {
    "duration": 610,
    "start_time": "2021-11-13T11:20:08.891Z"
   },
   {
    "duration": 6,
    "start_time": "2021-11-13T11:20:09.504Z"
   },
   {
    "duration": 324,
    "start_time": "2021-11-13T11:20:09.512Z"
   },
   {
    "duration": 339,
    "start_time": "2021-11-13T11:20:09.839Z"
   },
   {
    "duration": 2332,
    "start_time": "2021-11-13T11:20:10.180Z"
   },
   {
    "duration": 8,
    "start_time": "2021-11-13T11:20:12.514Z"
   },
   {
    "duration": 2982,
    "start_time": "2021-11-13T11:20:12.524Z"
   },
   {
    "duration": 390,
    "start_time": "2021-11-13T11:20:15.508Z"
   },
   {
    "duration": 382,
    "start_time": "2021-11-13T11:20:15.900Z"
   },
   {
    "duration": 563,
    "start_time": "2021-11-13T11:20:16.283Z"
   },
   {
    "duration": 498,
    "start_time": "2021-11-13T11:20:16.848Z"
   },
   {
    "duration": 541,
    "start_time": "2021-11-13T11:20:17.348Z"
   },
   {
    "duration": 385,
    "start_time": "2021-11-13T11:20:17.891Z"
   },
   {
    "duration": 11,
    "start_time": "2021-11-13T11:20:32.891Z"
   },
   {
    "duration": 14,
    "start_time": "2021-11-13T11:26:22.906Z"
   },
   {
    "duration": 412,
    "start_time": "2021-11-13T11:27:55.741Z"
   },
   {
    "duration": 334,
    "start_time": "2021-11-13T11:28:28.805Z"
   },
   {
    "duration": 257,
    "start_time": "2021-11-13T11:28:43.247Z"
   },
   {
    "duration": 6,
    "start_time": "2021-11-13T11:28:50.070Z"
   },
   {
    "duration": 417,
    "start_time": "2021-11-13T11:30:58.363Z"
   },
   {
    "duration": 4,
    "start_time": "2021-11-13T11:31:04.381Z"
   },
   {
    "duration": 6,
    "start_time": "2021-11-13T11:31:21.667Z"
   },
   {
    "duration": 7,
    "start_time": "2021-11-13T11:32:35.759Z"
   },
   {
    "duration": 87,
    "start_time": "2021-11-13T11:32:42.881Z"
   },
   {
    "duration": 8,
    "start_time": "2021-11-13T11:32:52.902Z"
   },
   {
    "duration": 96,
    "start_time": "2021-11-13T11:33:02.446Z"
   },
   {
    "duration": 4,
    "start_time": "2021-11-13T11:33:43.683Z"
   },
   {
    "duration": 5,
    "start_time": "2021-11-13T11:34:05.288Z"
   },
   {
    "duration": 1147,
    "start_time": "2021-11-13T11:37:16.009Z"
   },
   {
    "duration": 12,
    "start_time": "2021-11-13T11:37:17.158Z"
   },
   {
    "duration": 24,
    "start_time": "2021-11-13T11:37:17.172Z"
   },
   {
    "duration": 5,
    "start_time": "2021-11-13T11:37:17.198Z"
   },
   {
    "duration": 13,
    "start_time": "2021-11-13T11:37:17.205Z"
   },
   {
    "duration": 9,
    "start_time": "2021-11-13T11:37:17.243Z"
   },
   {
    "duration": 27,
    "start_time": "2021-11-13T11:37:17.254Z"
   },
   {
    "duration": 249,
    "start_time": "2021-11-13T11:37:17.284Z"
   },
   {
    "duration": 387,
    "start_time": "2021-11-13T11:37:17.536Z"
   },
   {
    "duration": 23,
    "start_time": "2021-11-13T11:37:17.925Z"
   },
   {
    "duration": 396,
    "start_time": "2021-11-13T11:37:17.950Z"
   },
   {
    "duration": 600,
    "start_time": "2021-11-13T11:37:18.348Z"
   },
   {
    "duration": 5,
    "start_time": "2021-11-13T11:37:18.950Z"
   },
   {
    "duration": 319,
    "start_time": "2021-11-13T11:37:18.957Z"
   },
   {
    "duration": 402,
    "start_time": "2021-11-13T11:37:19.278Z"
   },
   {
    "duration": 2350,
    "start_time": "2021-11-13T11:37:19.682Z"
   },
   {
    "duration": 13,
    "start_time": "2021-11-13T11:37:22.033Z"
   },
   {
    "duration": 3174,
    "start_time": "2021-11-13T11:37:22.048Z"
   },
   {
    "duration": 289,
    "start_time": "2021-11-13T11:37:25.224Z"
   },
   {
    "duration": 261,
    "start_time": "2021-11-13T11:37:25.515Z"
   },
   {
    "duration": 548,
    "start_time": "2021-11-13T11:37:25.777Z"
   },
   {
    "duration": 453,
    "start_time": "2021-11-13T11:37:26.328Z"
   },
   {
    "duration": 454,
    "start_time": "2021-11-13T11:37:26.784Z"
   },
   {
    "duration": 9,
    "start_time": "2021-11-13T11:37:27.240Z"
   },
   {
    "duration": 7,
    "start_time": "2021-11-13T11:37:27.251Z"
   },
   {
    "duration": 11,
    "start_time": "2021-11-13T11:44:04.705Z"
   },
   {
    "duration": 5,
    "start_time": "2021-11-13T11:44:08.320Z"
   },
   {
    "duration": 10,
    "start_time": "2021-11-13T11:44:46.872Z"
   },
   {
    "duration": 11,
    "start_time": "2021-11-13T11:45:38.560Z"
   },
   {
    "duration": 14,
    "start_time": "2021-11-13T11:51:10.096Z"
   },
   {
    "duration": 7,
    "start_time": "2021-11-13T11:53:25.980Z"
   },
   {
    "duration": 10,
    "start_time": "2021-11-13T11:53:34.124Z"
   },
   {
    "duration": 11,
    "start_time": "2021-11-13T11:55:15.095Z"
   },
   {
    "duration": 5,
    "start_time": "2021-11-13T11:55:22.905Z"
   },
   {
    "duration": 15,
    "start_time": "2021-11-13T11:56:24.555Z"
   },
   {
    "duration": 6,
    "start_time": "2021-11-13T11:56:30.378Z"
   },
   {
    "duration": 5,
    "start_time": "2021-11-13T11:56:32.412Z"
   },
   {
    "duration": 13,
    "start_time": "2021-11-13T12:00:53.304Z"
   },
   {
    "duration": 6,
    "start_time": "2021-11-13T12:01:51.762Z"
   },
   {
    "duration": 4,
    "start_time": "2021-11-13T12:04:26.290Z"
   },
   {
    "duration": 3,
    "start_time": "2021-11-13T12:06:44.717Z"
   },
   {
    "duration": 2,
    "start_time": "2021-11-13T12:09:06.502Z"
   },
   {
    "duration": 1205,
    "start_time": "2021-11-13T12:09:45.849Z"
   },
   {
    "duration": 8,
    "start_time": "2021-11-13T12:09:47.056Z"
   },
   {
    "duration": 20,
    "start_time": "2021-11-13T12:09:47.067Z"
   },
   {
    "duration": 5,
    "start_time": "2021-11-13T12:09:47.089Z"
   },
   {
    "duration": 19,
    "start_time": "2021-11-13T12:09:47.096Z"
   },
   {
    "duration": 8,
    "start_time": "2021-11-13T12:09:47.117Z"
   },
   {
    "duration": 34,
    "start_time": "2021-11-13T12:09:47.127Z"
   },
   {
    "duration": 259,
    "start_time": "2021-11-13T12:09:47.170Z"
   },
   {
    "duration": 387,
    "start_time": "2021-11-13T12:09:47.431Z"
   },
   {
    "duration": 13,
    "start_time": "2021-11-13T12:09:47.820Z"
   },
   {
    "duration": 370,
    "start_time": "2021-11-13T12:09:47.845Z"
   },
   {
    "duration": 594,
    "start_time": "2021-11-13T12:09:48.217Z"
   },
   {
    "duration": 331,
    "start_time": "2021-11-13T12:09:48.813Z"
   },
   {
    "duration": 342,
    "start_time": "2021-11-13T12:09:49.146Z"
   },
   {
    "duration": 2564,
    "start_time": "2021-11-13T12:09:49.490Z"
   },
   {
    "duration": 8,
    "start_time": "2021-11-13T12:09:52.056Z"
   },
   {
    "duration": 3007,
    "start_time": "2021-11-13T12:09:52.066Z"
   },
   {
    "duration": 278,
    "start_time": "2021-11-13T12:09:55.074Z"
   },
   {
    "duration": 269,
    "start_time": "2021-11-13T12:09:55.355Z"
   },
   {
    "duration": 612,
    "start_time": "2021-11-13T12:09:55.626Z"
   },
   {
    "duration": 491,
    "start_time": "2021-11-13T12:09:56.239Z"
   },
   {
    "duration": 460,
    "start_time": "2021-11-13T12:09:56.731Z"
   },
   {
    "duration": 10,
    "start_time": "2021-11-13T12:09:57.194Z"
   },
   {
    "duration": 11,
    "start_time": "2021-11-13T12:09:57.206Z"
   },
   {
    "duration": 6,
    "start_time": "2021-11-13T12:09:57.219Z"
   },
   {
    "duration": 28,
    "start_time": "2021-11-13T12:09:57.227Z"
   },
   {
    "duration": 6,
    "start_time": "2021-11-13T12:09:57.257Z"
   },
   {
    "duration": 7,
    "start_time": "2021-11-13T12:09:57.265Z"
   },
   {
    "duration": 1259,
    "start_time": "2021-11-13T16:28:01.646Z"
   },
   {
    "duration": 9,
    "start_time": "2021-11-13T16:28:02.907Z"
   },
   {
    "duration": 23,
    "start_time": "2021-11-13T16:28:02.918Z"
   },
   {
    "duration": 6,
    "start_time": "2021-11-13T16:28:02.943Z"
   },
   {
    "duration": 19,
    "start_time": "2021-11-13T16:28:02.951Z"
   },
   {
    "duration": 8,
    "start_time": "2021-11-13T16:28:02.972Z"
   },
   {
    "duration": 24,
    "start_time": "2021-11-13T16:28:02.982Z"
   },
   {
    "duration": 253,
    "start_time": "2021-11-13T16:28:03.007Z"
   },
   {
    "duration": 382,
    "start_time": "2021-11-13T16:28:03.262Z"
   },
   {
    "duration": 15,
    "start_time": "2021-11-13T16:28:03.647Z"
   },
   {
    "duration": 400,
    "start_time": "2021-11-13T16:28:03.664Z"
   },
   {
    "duration": 617,
    "start_time": "2021-11-13T16:28:04.066Z"
   },
   {
    "duration": 325,
    "start_time": "2021-11-13T16:28:04.685Z"
   },
   {
    "duration": 319,
    "start_time": "2021-11-13T16:28:05.012Z"
   },
   {
    "duration": 2308,
    "start_time": "2021-11-13T16:28:05.333Z"
   },
   {
    "duration": 8,
    "start_time": "2021-11-13T16:28:07.644Z"
   },
   {
    "duration": 3058,
    "start_time": "2021-11-13T16:28:07.654Z"
   },
   {
    "duration": 275,
    "start_time": "2021-11-13T16:28:10.714Z"
   },
   {
    "duration": 396,
    "start_time": "2021-11-13T16:28:10.992Z"
   },
   {
    "duration": 829,
    "start_time": "2021-11-13T16:28:11.390Z"
   },
   {
    "duration": 603,
    "start_time": "2021-11-13T16:28:12.221Z"
   },
   {
    "duration": 427,
    "start_time": "2021-11-13T16:28:12.826Z"
   },
   {
    "duration": 11,
    "start_time": "2021-11-13T16:28:13.255Z"
   },
   {
    "duration": 7,
    "start_time": "2021-11-13T16:28:13.267Z"
   },
   {
    "duration": 6,
    "start_time": "2021-11-13T16:28:13.275Z"
   },
   {
    "duration": 16,
    "start_time": "2021-11-13T16:28:13.283Z"
   },
   {
    "duration": 10,
    "start_time": "2021-11-13T16:28:13.302Z"
   },
   {
    "duration": 31,
    "start_time": "2021-11-13T16:28:13.314Z"
   },
   {
    "duration": 1250,
    "start_time": "2021-11-14T11:42:43.106Z"
   },
   {
    "duration": 8,
    "start_time": "2021-11-14T11:42:44.358Z"
   },
   {
    "duration": 26,
    "start_time": "2021-11-14T11:42:44.368Z"
   },
   {
    "duration": 9,
    "start_time": "2021-11-14T11:42:44.396Z"
   },
   {
    "duration": 39,
    "start_time": "2021-11-14T11:42:44.407Z"
   },
   {
    "duration": 7,
    "start_time": "2021-11-14T11:42:44.448Z"
   },
   {
    "duration": 26,
    "start_time": "2021-11-14T11:42:44.457Z"
   },
   {
    "duration": 227,
    "start_time": "2021-11-14T11:42:44.486Z"
   },
   {
    "duration": 381,
    "start_time": "2021-11-14T11:42:44.715Z"
   },
   {
    "duration": 21,
    "start_time": "2021-11-14T11:42:45.098Z"
   },
   {
    "duration": 365,
    "start_time": "2021-11-14T11:42:45.121Z"
   },
   {
    "duration": 561,
    "start_time": "2021-11-14T11:42:45.487Z"
   },
   {
    "duration": 312,
    "start_time": "2021-11-14T11:42:46.050Z"
   },
   {
    "duration": 304,
    "start_time": "2021-11-14T11:42:46.364Z"
   },
   {
    "duration": 2170,
    "start_time": "2021-11-14T11:42:46.670Z"
   },
   {
    "duration": 9,
    "start_time": "2021-11-14T11:42:48.842Z"
   },
   {
    "duration": 2909,
    "start_time": "2021-11-14T11:42:48.853Z"
   },
   {
    "duration": 259,
    "start_time": "2021-11-14T11:42:51.764Z"
   },
   {
    "duration": 253,
    "start_time": "2021-11-14T11:42:52.025Z"
   },
   {
    "duration": 508,
    "start_time": "2021-11-14T11:42:52.280Z"
   },
   {
    "duration": 422,
    "start_time": "2021-11-14T11:42:52.790Z"
   },
   {
    "duration": 420,
    "start_time": "2021-11-14T11:42:53.215Z"
   },
   {
    "duration": 10,
    "start_time": "2021-11-14T11:42:53.637Z"
   },
   {
    "duration": 19,
    "start_time": "2021-11-14T11:42:53.649Z"
   },
   {
    "duration": 17,
    "start_time": "2021-11-14T11:42:53.670Z"
   },
   {
    "duration": 17,
    "start_time": "2021-11-14T11:42:53.689Z"
   },
   {
    "duration": 28,
    "start_time": "2021-11-14T11:42:53.708Z"
   },
   {
    "duration": 20,
    "start_time": "2021-11-14T11:42:53.738Z"
   },
   {
    "duration": 381,
    "start_time": "2021-11-14T13:10:38.427Z"
   },
   {
    "duration": 361,
    "start_time": "2021-11-14T13:18:20.004Z"
   },
   {
    "duration": 1526,
    "start_time": "2021-11-14T13:18:27.017Z"
   },
   {
    "duration": 13,
    "start_time": "2021-11-14T13:18:28.546Z"
   },
   {
    "duration": 36,
    "start_time": "2021-11-14T13:18:28.562Z"
   },
   {
    "duration": 7,
    "start_time": "2021-11-14T13:18:28.601Z"
   },
   {
    "duration": 23,
    "start_time": "2021-11-14T13:18:28.611Z"
   },
   {
    "duration": 48,
    "start_time": "2021-11-14T13:18:28.636Z"
   },
   {
    "duration": 23,
    "start_time": "2021-11-14T13:18:28.686Z"
   },
   {
    "duration": 435,
    "start_time": "2021-11-14T13:18:28.711Z"
   },
   {
    "duration": 661,
    "start_time": "2021-11-14T13:18:29.150Z"
   },
   {
    "duration": 20,
    "start_time": "2021-11-14T13:18:29.815Z"
   },
   {
    "duration": 658,
    "start_time": "2021-11-14T13:18:29.838Z"
   },
   {
    "duration": 1045,
    "start_time": "2021-11-14T13:18:30.498Z"
   },
   {
    "duration": 571,
    "start_time": "2021-11-14T13:18:31.545Z"
   },
   {
    "duration": 581,
    "start_time": "2021-11-14T13:18:32.118Z"
   },
   {
    "duration": 3687,
    "start_time": "2021-11-14T13:18:32.701Z"
   },
   {
    "duration": 12,
    "start_time": "2021-11-14T13:18:36.391Z"
   },
   {
    "duration": 4508,
    "start_time": "2021-11-14T13:18:36.405Z"
   },
   {
    "duration": 496,
    "start_time": "2021-11-14T13:18:40.916Z"
   },
   {
    "duration": 462,
    "start_time": "2021-11-14T13:18:41.415Z"
   },
   {
    "duration": 892,
    "start_time": "2021-11-14T13:18:41.880Z"
   },
   {
    "duration": 756,
    "start_time": "2021-11-14T13:18:42.775Z"
   },
   {
    "duration": 836,
    "start_time": "2021-11-14T13:18:43.534Z"
   },
   {
    "duration": 21,
    "start_time": "2021-11-14T13:18:44.372Z"
   },
   {
    "duration": 9,
    "start_time": "2021-11-14T13:18:44.396Z"
   },
   {
    "duration": 8,
    "start_time": "2021-11-14T13:18:44.407Z"
   },
   {
    "duration": 19,
    "start_time": "2021-11-14T13:18:44.418Z"
   },
   {
    "duration": 8,
    "start_time": "2021-11-14T13:18:44.482Z"
   },
   {
    "duration": 7,
    "start_time": "2021-11-14T13:18:44.493Z"
   },
   {
    "duration": 434,
    "start_time": "2021-11-14T13:40:38.592Z"
   },
   {
    "duration": 14,
    "start_time": "2021-11-14T13:40:46.995Z"
   },
   {
    "duration": 44,
    "start_time": "2021-11-14T13:40:57.135Z"
   },
   {
    "duration": 1605,
    "start_time": "2021-11-14T13:45:51.819Z"
   },
   {
    "duration": 12,
    "start_time": "2021-11-14T13:45:53.427Z"
   },
   {
    "duration": 41,
    "start_time": "2021-11-14T13:45:53.442Z"
   },
   {
    "duration": 6,
    "start_time": "2021-11-14T13:45:53.486Z"
   },
   {
    "duration": 17,
    "start_time": "2021-11-14T13:45:53.495Z"
   },
   {
    "duration": 12,
    "start_time": "2021-11-14T13:45:53.514Z"
   },
   {
    "duration": 60,
    "start_time": "2021-11-14T13:45:53.528Z"
   },
   {
    "duration": 406,
    "start_time": "2021-11-14T13:45:53.592Z"
   },
   {
    "duration": 644,
    "start_time": "2021-11-14T13:45:54.001Z"
   },
   {
    "duration": 35,
    "start_time": "2021-11-14T13:45:54.647Z"
   },
   {
    "duration": 622,
    "start_time": "2021-11-14T13:45:54.685Z"
   },
   {
    "duration": 8419,
    "start_time": "2021-11-14T13:45:55.309Z"
   },
   {
    "duration": -249,
    "start_time": "2021-11-14T13:46:03.980Z"
   },
   {
    "duration": -249,
    "start_time": "2021-11-14T13:46:03.982Z"
   },
   {
    "duration": -249,
    "start_time": "2021-11-14T13:46:03.983Z"
   },
   {
    "duration": -250,
    "start_time": "2021-11-14T13:46:03.985Z"
   },
   {
    "duration": -251,
    "start_time": "2021-11-14T13:46:03.987Z"
   },
   {
    "duration": -250,
    "start_time": "2021-11-14T13:46:03.988Z"
   },
   {
    "duration": -251,
    "start_time": "2021-11-14T13:46:03.990Z"
   },
   {
    "duration": -256,
    "start_time": "2021-11-14T13:46:03.996Z"
   },
   {
    "duration": -257,
    "start_time": "2021-11-14T13:46:03.998Z"
   },
   {
    "duration": -258,
    "start_time": "2021-11-14T13:46:04.000Z"
   },
   {
    "duration": -265,
    "start_time": "2021-11-14T13:46:04.009Z"
   },
   {
    "duration": -267,
    "start_time": "2021-11-14T13:46:04.012Z"
   },
   {
    "duration": -268,
    "start_time": "2021-11-14T13:46:04.014Z"
   },
   {
    "duration": -271,
    "start_time": "2021-11-14T13:46:04.019Z"
   },
   {
    "duration": -240,
    "start_time": "2021-11-14T13:46:04.022Z"
   },
   {
    "duration": -242,
    "start_time": "2021-11-14T13:46:04.026Z"
   },
   {
    "duration": 1498,
    "start_time": "2021-11-14T13:50:26.214Z"
   },
   {
    "duration": 11,
    "start_time": "2021-11-14T13:50:27.715Z"
   },
   {
    "duration": 22,
    "start_time": "2021-11-14T13:50:27.729Z"
   },
   {
    "duration": 31,
    "start_time": "2021-11-14T13:50:27.754Z"
   },
   {
    "duration": 20,
    "start_time": "2021-11-14T13:50:27.788Z"
   },
   {
    "duration": 11,
    "start_time": "2021-11-14T13:50:27.810Z"
   },
   {
    "duration": 59,
    "start_time": "2021-11-14T13:50:27.823Z"
   },
   {
    "duration": 400,
    "start_time": "2021-11-14T13:50:27.887Z"
   },
   {
    "duration": 641,
    "start_time": "2021-11-14T13:50:28.290Z"
   },
   {
    "duration": 20,
    "start_time": "2021-11-14T13:50:28.933Z"
   },
   {
    "duration": 627,
    "start_time": "2021-11-14T13:50:28.955Z"
   },
   {
    "duration": 8933,
    "start_time": "2021-11-14T13:50:29.584Z"
   },
   {
    "duration": -248,
    "start_time": "2021-11-14T13:50:38.768Z"
   },
   {
    "duration": -248,
    "start_time": "2021-11-14T13:50:38.770Z"
   },
   {
    "duration": -248,
    "start_time": "2021-11-14T13:50:38.771Z"
   },
   {
    "duration": -248,
    "start_time": "2021-11-14T13:50:38.773Z"
   },
   {
    "duration": -248,
    "start_time": "2021-11-14T13:50:38.774Z"
   },
   {
    "duration": -249,
    "start_time": "2021-11-14T13:50:38.776Z"
   },
   {
    "duration": -252,
    "start_time": "2021-11-14T13:50:38.780Z"
   },
   {
    "duration": -254,
    "start_time": "2021-11-14T13:50:38.784Z"
   },
   {
    "duration": -255,
    "start_time": "2021-11-14T13:50:38.786Z"
   },
   {
    "duration": -255,
    "start_time": "2021-11-14T13:50:38.787Z"
   },
   {
    "duration": -256,
    "start_time": "2021-11-14T13:50:38.789Z"
   },
   {
    "duration": -256,
    "start_time": "2021-11-14T13:50:38.790Z"
   },
   {
    "duration": -256,
    "start_time": "2021-11-14T13:50:38.792Z"
   },
   {
    "duration": -268,
    "start_time": "2021-11-14T13:50:38.805Z"
   },
   {
    "duration": -270,
    "start_time": "2021-11-14T13:50:38.808Z"
   },
   {
    "duration": -271,
    "start_time": "2021-11-14T13:50:38.810Z"
   },
   {
    "duration": 8747,
    "start_time": "2021-11-14T16:11:39.952Z"
   },
   {
    "duration": 40,
    "start_time": "2021-11-14T16:13:20.709Z"
   },
   {
    "duration": 1133,
    "start_time": "2021-11-14T16:13:46.793Z"
   },
   {
    "duration": 8,
    "start_time": "2021-11-14T16:13:52.457Z"
   },
   {
    "duration": 918,
    "start_time": "2021-11-14T16:14:13.238Z"
   },
   {
    "duration": 1037,
    "start_time": "2021-11-14T16:18:25.696Z"
   },
   {
    "duration": 316,
    "start_time": "2021-11-14T16:19:55.140Z"
   },
   {
    "duration": 1037,
    "start_time": "2021-11-14T16:20:18.752Z"
   },
   {
    "duration": 964,
    "start_time": "2021-11-14T16:21:26.222Z"
   },
   {
    "duration": 299,
    "start_time": "2021-11-14T16:26:52.331Z"
   },
   {
    "duration": 953,
    "start_time": "2021-11-14T16:28:04.782Z"
   },
   {
    "duration": 7,
    "start_time": "2021-11-14T16:28:23.125Z"
   },
   {
    "duration": 955,
    "start_time": "2021-11-14T16:30:51.039Z"
   },
   {
    "duration": 32,
    "start_time": "2021-11-14T16:30:59.647Z"
   },
   {
    "duration": 1597,
    "start_time": "2021-11-14T16:31:27.344Z"
   },
   {
    "duration": 12,
    "start_time": "2021-11-14T16:31:28.944Z"
   },
   {
    "duration": 39,
    "start_time": "2021-11-14T16:31:28.963Z"
   },
   {
    "duration": 6,
    "start_time": "2021-11-14T16:31:29.005Z"
   },
   {
    "duration": 20,
    "start_time": "2021-11-14T16:31:29.013Z"
   },
   {
    "duration": 47,
    "start_time": "2021-11-14T16:31:29.035Z"
   },
   {
    "duration": 25,
    "start_time": "2021-11-14T16:31:29.085Z"
   },
   {
    "duration": 408,
    "start_time": "2021-11-14T16:31:29.114Z"
   },
   {
    "duration": 634,
    "start_time": "2021-11-14T16:31:29.526Z"
   },
   {
    "duration": 30,
    "start_time": "2021-11-14T16:31:30.162Z"
   },
   {
    "duration": 745,
    "start_time": "2021-11-14T16:31:30.194Z"
   },
   {
    "duration": 1111,
    "start_time": "2021-11-14T16:31:30.943Z"
   },
   {
    "duration": 42,
    "start_time": "2021-11-14T16:31:32.057Z"
   },
   {
    "duration": 556,
    "start_time": "2021-11-14T16:31:32.101Z"
   },
   {
    "duration": 529,
    "start_time": "2021-11-14T16:31:32.659Z"
   },
   {
    "duration": 3574,
    "start_time": "2021-11-14T16:31:33.191Z"
   },
   {
    "duration": 20,
    "start_time": "2021-11-14T16:31:36.767Z"
   },
   {
    "duration": 4316,
    "start_time": "2021-11-14T16:31:36.789Z"
   },
   {
    "duration": 469,
    "start_time": "2021-11-14T16:31:41.108Z"
   },
   {
    "duration": 479,
    "start_time": "2021-11-14T16:31:41.582Z"
   },
   {
    "duration": 868,
    "start_time": "2021-11-14T16:31:42.064Z"
   },
   {
    "duration": 730,
    "start_time": "2021-11-14T16:31:42.935Z"
   },
   {
    "duration": 743,
    "start_time": "2021-11-14T16:31:43.667Z"
   },
   {
    "duration": 15,
    "start_time": "2021-11-14T16:31:44.413Z"
   },
   {
    "duration": 9,
    "start_time": "2021-11-14T16:31:44.430Z"
   },
   {
    "duration": 37,
    "start_time": "2021-11-14T16:31:44.444Z"
   },
   {
    "duration": 17,
    "start_time": "2021-11-14T16:31:44.484Z"
   },
   {
    "duration": 10,
    "start_time": "2021-11-14T16:31:44.504Z"
   },
   {
    "duration": 9,
    "start_time": "2021-11-14T16:31:44.516Z"
   },
   {
    "duration": 880,
    "start_time": "2021-11-14T16:31:49.141Z"
   },
   {
    "duration": 1948,
    "start_time": "2021-11-14T17:21:43.122Z"
   },
   {
    "duration": 20,
    "start_time": "2021-11-14T17:21:45.075Z"
   },
   {
    "duration": 37,
    "start_time": "2021-11-14T17:21:45.105Z"
   },
   {
    "duration": 39,
    "start_time": "2021-11-14T17:21:45.145Z"
   },
   {
    "duration": 31,
    "start_time": "2021-11-14T17:21:45.187Z"
   },
   {
    "duration": 18,
    "start_time": "2021-11-14T17:21:45.221Z"
   },
   {
    "duration": 57,
    "start_time": "2021-11-14T17:21:45.242Z"
   },
   {
    "duration": 570,
    "start_time": "2021-11-14T17:21:45.303Z"
   },
   {
    "duration": 756,
    "start_time": "2021-11-14T17:21:45.883Z"
   },
   {
    "duration": 41,
    "start_time": "2021-11-14T17:21:46.642Z"
   },
   {
    "duration": 678,
    "start_time": "2021-11-14T17:21:46.686Z"
   },
   {
    "duration": 1184,
    "start_time": "2021-11-14T17:21:47.367Z"
   },
   {
    "duration": 718,
    "start_time": "2021-11-14T17:21:48.553Z"
   },
   {
    "duration": 908,
    "start_time": "2021-11-14T17:21:49.274Z"
   },
   {
    "duration": 5341,
    "start_time": "2021-11-14T17:21:50.184Z"
   },
   {
    "duration": 13,
    "start_time": "2021-11-14T17:21:55.527Z"
   },
   {
    "duration": 4979,
    "start_time": "2021-11-14T17:21:55.543Z"
   },
   {
    "duration": 483,
    "start_time": "2021-11-14T17:22:00.524Z"
   },
   {
    "duration": 550,
    "start_time": "2021-11-14T17:22:01.010Z"
   },
   {
    "duration": 1189,
    "start_time": "2021-11-14T17:22:01.564Z"
   },
   {
    "duration": 816,
    "start_time": "2021-11-14T17:22:02.756Z"
   },
   {
    "duration": 786,
    "start_time": "2021-11-14T17:22:03.582Z"
   },
   {
    "duration": 22,
    "start_time": "2021-11-14T17:22:04.372Z"
   },
   {
    "duration": 10,
    "start_time": "2021-11-14T17:22:04.398Z"
   },
   {
    "duration": 10,
    "start_time": "2021-11-14T17:22:04.411Z"
   },
   {
    "duration": 65,
    "start_time": "2021-11-14T17:22:04.429Z"
   },
   {
    "duration": 11,
    "start_time": "2021-11-14T17:22:04.497Z"
   },
   {
    "duration": 9,
    "start_time": "2021-11-14T17:22:04.510Z"
   },
   {
    "duration": 1952,
    "start_time": "2021-11-14T17:49:01.963Z"
   },
   {
    "duration": 1039,
    "start_time": "2021-11-14T17:49:19.522Z"
   },
   {
    "duration": 1087,
    "start_time": "2021-11-14T17:50:19.337Z"
   },
   {
    "duration": 1254,
    "start_time": "2021-11-14T17:50:33.443Z"
   },
   {
    "duration": 847,
    "start_time": "2021-11-14T17:51:04.882Z"
   },
   {
    "duration": 1295,
    "start_time": "2021-11-14T17:52:04.856Z"
   },
   {
    "duration": 1150,
    "start_time": "2021-11-14T17:52:44.747Z"
   },
   {
    "duration": 1050,
    "start_time": "2021-11-14T17:53:20.105Z"
   },
   {
    "duration": 1327,
    "start_time": "2021-11-14T17:53:45.226Z"
   },
   {
    "duration": 714,
    "start_time": "2021-11-14T17:54:52.426Z"
   },
   {
    "duration": 437,
    "start_time": "2021-11-14T17:55:52.523Z"
   },
   {
    "duration": 10,
    "start_time": "2021-11-14T17:57:05.819Z"
   },
   {
    "duration": 453,
    "start_time": "2021-11-14T17:57:33.759Z"
   },
   {
    "duration": 930,
    "start_time": "2021-11-14T17:58:15.610Z"
   },
   {
    "duration": 666,
    "start_time": "2021-11-14T18:03:51.364Z"
   },
   {
    "duration": 751,
    "start_time": "2021-11-14T18:04:03.846Z"
   },
   {
    "duration": 665,
    "start_time": "2021-11-14T18:08:52.817Z"
   },
   {
    "duration": 953,
    "start_time": "2021-11-14T19:04:39.975Z"
   },
   {
    "duration": 728,
    "start_time": "2021-11-14T19:05:35.389Z"
   },
   {
    "duration": 728,
    "start_time": "2021-11-14T19:05:51.006Z"
   },
   {
    "duration": 326,
    "start_time": "2021-11-15T10:28:21.865Z"
   },
   {
    "duration": 1251,
    "start_time": "2021-11-15T10:28:25.861Z"
   },
   {
    "duration": 9,
    "start_time": "2021-11-15T10:28:27.114Z"
   },
   {
    "duration": 19,
    "start_time": "2021-11-15T10:28:27.126Z"
   },
   {
    "duration": 19,
    "start_time": "2021-11-15T10:28:27.147Z"
   },
   {
    "duration": 15,
    "start_time": "2021-11-15T10:28:27.168Z"
   },
   {
    "duration": 10,
    "start_time": "2021-11-15T10:28:27.185Z"
   },
   {
    "duration": 19,
    "start_time": "2021-11-15T10:28:27.197Z"
   },
   {
    "duration": 296,
    "start_time": "2021-11-15T10:28:27.218Z"
   },
   {
    "duration": 406,
    "start_time": "2021-11-15T10:28:27.518Z"
   },
   {
    "duration": 16,
    "start_time": "2021-11-15T10:28:27.926Z"
   },
   {
    "duration": 600,
    "start_time": "2021-11-15T10:28:27.944Z"
   },
   {
    "duration": 575,
    "start_time": "2021-11-15T10:28:28.546Z"
   },
   {
    "duration": -18524,
    "start_time": "2021-11-15T10:28:47.647Z"
   },
   {
    "duration": -18525,
    "start_time": "2021-11-15T10:28:47.650Z"
   },
   {
    "duration": -18531,
    "start_time": "2021-11-15T10:28:47.657Z"
   },
   {
    "duration": -18533,
    "start_time": "2021-11-15T10:28:47.660Z"
   },
   {
    "duration": -18534,
    "start_time": "2021-11-15T10:28:47.662Z"
   },
   {
    "duration": -18536,
    "start_time": "2021-11-15T10:28:47.665Z"
   },
   {
    "duration": -18537,
    "start_time": "2021-11-15T10:28:47.667Z"
   },
   {
    "duration": -18539,
    "start_time": "2021-11-15T10:28:47.670Z"
   },
   {
    "duration": -18541,
    "start_time": "2021-11-15T10:28:47.673Z"
   },
   {
    "duration": -18542,
    "start_time": "2021-11-15T10:28:47.675Z"
   },
   {
    "duration": -18543,
    "start_time": "2021-11-15T10:28:47.678Z"
   },
   {
    "duration": -18550,
    "start_time": "2021-11-15T10:28:47.686Z"
   },
   {
    "duration": -18551,
    "start_time": "2021-11-15T10:28:47.687Z"
   },
   {
    "duration": -18552,
    "start_time": "2021-11-15T10:28:47.689Z"
   },
   {
    "duration": -18554,
    "start_time": "2021-11-15T10:28:47.691Z"
   },
   {
    "duration": -18530,
    "start_time": "2021-11-15T10:28:47.692Z"
   },
   {
    "duration": 496,
    "start_time": "2021-11-15T10:28:43.475Z"
   },
   {
    "duration": 550,
    "start_time": "2021-11-15T10:29:12.601Z"
   },
   {
    "duration": 448,
    "start_time": "2021-11-15T10:30:06.426Z"
   },
   {
    "duration": 396,
    "start_time": "2021-11-15T10:30:59.700Z"
   },
   {
    "duration": 492,
    "start_time": "2021-11-15T10:31:08.196Z"
   },
   {
    "duration": 623,
    "start_time": "2021-11-15T10:31:15.197Z"
   },
   {
    "duration": 557,
    "start_time": "2021-11-15T10:31:52.908Z"
   },
   {
    "duration": 664,
    "start_time": "2021-11-15T10:31:58.215Z"
   },
   {
    "duration": 333,
    "start_time": "2021-11-15T10:33:23.333Z"
   },
   {
    "duration": 336,
    "start_time": "2021-11-15T10:33:24.427Z"
   },
   {
    "duration": 2425,
    "start_time": "2021-11-15T10:33:26.353Z"
   },
   {
    "duration": 8,
    "start_time": "2021-11-15T10:33:28.780Z"
   },
   {
    "duration": 3125,
    "start_time": "2021-11-15T10:33:29.704Z"
   },
   {
    "duration": 288,
    "start_time": "2021-11-15T10:33:32.831Z"
   },
   {
    "duration": 397,
    "start_time": "2021-11-15T10:33:33.121Z"
   },
   {
    "duration": 407,
    "start_time": "2021-11-15T10:33:33.520Z"
   },
   {
    "duration": 474,
    "start_time": "2021-11-15T10:33:33.929Z"
   },
   {
    "duration": 464,
    "start_time": "2021-11-15T10:33:34.406Z"
   },
   {
    "duration": 12,
    "start_time": "2021-11-15T10:37:42.286Z"
   },
   {
    "duration": 5,
    "start_time": "2021-11-15T10:37:42.479Z"
   },
   {
    "duration": 5,
    "start_time": "2021-11-15T10:37:42.650Z"
   },
   {
    "duration": 11,
    "start_time": "2021-11-15T10:37:43.703Z"
   },
   {
    "duration": 6,
    "start_time": "2021-11-15T10:37:43.912Z"
   },
   {
    "duration": 5,
    "start_time": "2021-11-15T10:37:44.456Z"
   },
   {
    "duration": 222,
    "start_time": "2021-11-15T11:13:29.742Z"
   },
   {
    "duration": 1215,
    "start_time": "2021-11-15T11:13:37.405Z"
   },
   {
    "duration": 13,
    "start_time": "2021-11-15T11:13:38.622Z"
   },
   {
    "duration": 33,
    "start_time": "2021-11-15T11:13:38.637Z"
   },
   {
    "duration": 5,
    "start_time": "2021-11-15T11:13:38.672Z"
   },
   {
    "duration": 26,
    "start_time": "2021-11-15T11:13:38.678Z"
   },
   {
    "duration": 25,
    "start_time": "2021-11-15T11:13:38.707Z"
   },
   {
    "duration": 15,
    "start_time": "2021-11-15T11:13:38.734Z"
   },
   {
    "duration": 288,
    "start_time": "2021-11-15T11:13:38.751Z"
   },
   {
    "duration": 439,
    "start_time": "2021-11-15T11:13:39.042Z"
   },
   {
    "duration": 24,
    "start_time": "2021-11-15T11:13:39.483Z"
   },
   {
    "duration": 429,
    "start_time": "2021-11-15T11:13:39.510Z"
   },
   {
    "duration": 612,
    "start_time": "2021-11-15T11:13:39.941Z"
   },
   {
    "duration": 343,
    "start_time": "2021-11-15T11:13:40.554Z"
   },
   {
    "duration": 362,
    "start_time": "2021-11-15T11:13:40.899Z"
   },
   {
    "duration": 2814,
    "start_time": "2021-11-15T11:13:41.262Z"
   },
   {
    "duration": 16,
    "start_time": "2021-11-15T11:13:44.077Z"
   },
   {
    "duration": 3298,
    "start_time": "2021-11-15T11:13:44.095Z"
   },
   {
    "duration": 299,
    "start_time": "2021-11-15T11:13:47.396Z"
   },
   {
    "duration": 284,
    "start_time": "2021-11-15T11:13:47.697Z"
   },
   {
    "duration": 595,
    "start_time": "2021-11-15T11:13:47.983Z"
   },
   {
    "duration": 581,
    "start_time": "2021-11-15T11:13:48.580Z"
   },
   {
    "duration": 561,
    "start_time": "2021-11-15T11:13:49.162Z"
   },
   {
    "duration": 11,
    "start_time": "2021-11-15T11:13:49.725Z"
   },
   {
    "duration": 24,
    "start_time": "2021-11-15T11:13:49.738Z"
   },
   {
    "duration": 21,
    "start_time": "2021-11-15T11:13:49.763Z"
   },
   {
    "duration": 31,
    "start_time": "2021-11-15T11:13:49.786Z"
   },
   {
    "duration": 4,
    "start_time": "2021-11-15T11:13:49.820Z"
   },
   {
    "duration": 33,
    "start_time": "2021-11-15T11:13:49.826Z"
   },
   {
    "duration": 79,
    "start_time": "2021-11-15T11:14:06.294Z"
   },
   {
    "duration": 435,
    "start_time": "2021-11-15T11:17:38.048Z"
   },
   {
    "duration": 638,
    "start_time": "2021-11-15T11:17:53.249Z"
   },
   {
    "duration": 483,
    "start_time": "2021-11-15T11:18:26.055Z"
   },
   {
    "duration": 350,
    "start_time": "2021-11-15T11:19:36.018Z"
   },
   {
    "duration": 459,
    "start_time": "2021-11-15T11:36:53.553Z"
   }
  ],
  "kernelspec": {
   "display_name": "Python 3 (ipykernel)",
   "language": "python",
   "name": "python3"
  },
  "language_info": {
   "codemirror_mode": {
    "name": "ipython",
    "version": 3
   },
   "file_extension": ".py",
   "mimetype": "text/x-python",
   "name": "python",
   "nbconvert_exporter": "python",
   "pygments_lexer": "ipython3",
   "version": "3.9.12"
  },
  "toc": {
   "base_numbering": 1,
   "nav_menu": {},
   "number_sections": true,
   "sideBar": true,
   "skip_h1_title": true,
   "title_cell": "Table of Contents",
   "title_sidebar": "Contents",
   "toc_cell": false,
   "toc_position": {
    "height": "calc(100% - 180px)",
    "left": "10px",
    "top": "150px",
    "width": "409px"
   },
   "toc_section_display": true,
   "toc_window_display": true
  }
 },
 "nbformat": 4,
 "nbformat_minor": 2
}
