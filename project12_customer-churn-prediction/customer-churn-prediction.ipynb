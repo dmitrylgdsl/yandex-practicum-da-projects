{
 "cells": [
  {
   "cell_type": "markdown",
   "metadata": {},
   "source": [
    "# Анализ оттока пользователей из сети фитнес-центров"
   ]
  },
  {
   "cell_type": "markdown",
   "metadata": {},
   "source": [
    "# Описание проекта\n",
    "Сеть фитнес-центров «Культурист-датасаентист» разрабатывает стратегию взаимодействия с клиентами на основе аналитических данных.\n",
    "\n",
    "Распространённая проблема фитнес-клубов и других сервисов — отток клиентов. Как понять, что клиент больше не с вами? Можно записать в отток тех, кто попросил закрыть договор или удалил аккаунт. Однако клиенты не всегда уходят демонстративно: чаще перестают пользоваться сервисом тихо.\n",
    "\n",
    "Индикаторы оттока зависят от специфики отрасли. Когда пользователь редко, но стабильно закупается в интернет-магазине — не похоже, что он «отвалился». А вот если две недели не заходит на канал с ежедневно обновляемым контентом, дела плохи: подписчик заскучал и, кажется, оставил вас.\n",
    "\n",
    "Для фитнес-центра можно считать, что клиент попал в отток, если за последний месяц ни разу не посетил спортзал. Конечно, не исключено, что он уехал на Бали и по приезде обязательно продолжит ходить на фитнес. Однако чаще бывает наоборот. Если клиент начал новую жизнь с понедельника, немного походил в спортзал, а потом пропал — скорее всего, он не вернётся.\n",
    "Чтобы бороться с оттоком, отдел по работе с клиентами «Культуриста-датасаентиста» перевёл в электронный вид множество клиентских анкет. Ваша задача — провести анализ и подготовить план действий по удержанию клиентов."
   ]
  },
  {
   "cell_type": "markdown",
   "metadata": {},
   "source": [
    "# Описание данных\n",
    "<b>Таблица gym_churn:</b>\n",
    "<br><br>\n",
    "<b>Данные клиента за предыдущий до проверки факта оттока месяц:</b>\n",
    "* gender — пол;\n",
    "* Near_Location — проживание или работа в районе, где находится фитнес-центр;\n",
    "* Partner — сотрудник компании-партнёра клуба (сотрудничество с компаниями, чьи сотрудники могут получать скидки на абонемент — в таком случае фитнес-центр хранит информацию о работодателе клиента);\n",
    "* Promo_friends — факт первоначальной записи в рамках акции «приведи друга» (использовал промо-код от знакомого при оплате первого абонемента);\n",
    "* Phone — наличие контактного телефона;\n",
    "* Age — возраст;\n",
    "* Lifetime — время с момента первого обращения в фитнес-центр (в месяцах).\n",
    "\n",
    "<b>Информация на основе журнала посещений, покупок и информация о текущем статусе абонемента клиента:</b>\n",
    "* Contract_period — длительность текущего действующего абонемента (месяц, 6 месяцев, год);\n",
    "* Month_to_end_contract — срок до окончания текущего действующего абонемента (в месяцах);\n",
    "* Group_visits — факт посещения групповых занятий;\n",
    "* Avg_class_frequency_total — средняя частота посещений в неделю за все время с начала действия абонемента;\n",
    "* Avg_class_frequency_current_month — средняя частота посещений в неделю за предыдущий месяц;\n",
    "* Avg_additional_charges_total — суммарная выручка от других услуг фитнес-центра: кафе, спорттовары, косметический и массажный салон.\n",
    "* Churn — факт оттока в текущем месяце."
   ]
  },
  {
   "cell_type": "markdown",
   "metadata": {},
   "source": [
    "## Загрузка данных"
   ]
  },
  {
   "cell_type": "code",
   "execution_count": 1,
   "metadata": {},
   "outputs": [],
   "source": [
    "# Импорт библиотек\n",
    "import pandas as pd\n",
    "import matplotlib.pyplot as plt\n",
    "import seaborn as sns\n",
    "from sklearn.model_selection import train_test_split\n",
    "from sklearn.preprocessing import StandardScaler\n",
    "from sklearn.linear_model import LogisticRegression\n",
    "from sklearn.ensemble import RandomForestClassifier\n",
    "from sklearn.metrics import accuracy_score, precision_score, recall_score, roc_auc_score\n",
    "from scipy.cluster.hierarchy import dendrogram, linkage\n",
    "from sklearn.cluster import KMeans\n",
    "import itertools\n",
    "from sklearn.metrics import silhouette_score"
   ]
  },
  {
   "cell_type": "code",
   "execution_count": 2,
   "metadata": {},
   "outputs": [
    {
     "data": {
      "text/html": [
       "<div>\n",
       "<style scoped>\n",
       "    .dataframe tbody tr th:only-of-type {\n",
       "        vertical-align: middle;\n",
       "    }\n",
       "\n",
       "    .dataframe tbody tr th {\n",
       "        vertical-align: top;\n",
       "    }\n",
       "\n",
       "    .dataframe thead th {\n",
       "        text-align: right;\n",
       "    }\n",
       "</style>\n",
       "<table border=\"1\" class=\"dataframe\">\n",
       "  <thead>\n",
       "    <tr style=\"text-align: right;\">\n",
       "      <th></th>\n",
       "      <th>gender</th>\n",
       "      <th>Near_Location</th>\n",
       "      <th>Partner</th>\n",
       "      <th>Promo_friends</th>\n",
       "      <th>Phone</th>\n",
       "      <th>Contract_period</th>\n",
       "      <th>Group_visits</th>\n",
       "      <th>Age</th>\n",
       "      <th>Avg_additional_charges_total</th>\n",
       "      <th>Month_to_end_contract</th>\n",
       "      <th>Lifetime</th>\n",
       "      <th>Avg_class_frequency_total</th>\n",
       "      <th>Avg_class_frequency_current_month</th>\n",
       "      <th>Churn</th>\n",
       "    </tr>\n",
       "  </thead>\n",
       "  <tbody>\n",
       "    <tr>\n",
       "      <th>0</th>\n",
       "      <td>1</td>\n",
       "      <td>1</td>\n",
       "      <td>1</td>\n",
       "      <td>1</td>\n",
       "      <td>0</td>\n",
       "      <td>6</td>\n",
       "      <td>1</td>\n",
       "      <td>29</td>\n",
       "      <td>14.227470</td>\n",
       "      <td>5.0</td>\n",
       "      <td>3</td>\n",
       "      <td>0.020398</td>\n",
       "      <td>0.000000</td>\n",
       "      <td>0</td>\n",
       "    </tr>\n",
       "    <tr>\n",
       "      <th>1</th>\n",
       "      <td>0</td>\n",
       "      <td>1</td>\n",
       "      <td>0</td>\n",
       "      <td>0</td>\n",
       "      <td>1</td>\n",
       "      <td>12</td>\n",
       "      <td>1</td>\n",
       "      <td>31</td>\n",
       "      <td>113.202938</td>\n",
       "      <td>12.0</td>\n",
       "      <td>7</td>\n",
       "      <td>1.922936</td>\n",
       "      <td>1.910244</td>\n",
       "      <td>0</td>\n",
       "    </tr>\n",
       "    <tr>\n",
       "      <th>2</th>\n",
       "      <td>0</td>\n",
       "      <td>1</td>\n",
       "      <td>1</td>\n",
       "      <td>0</td>\n",
       "      <td>1</td>\n",
       "      <td>1</td>\n",
       "      <td>0</td>\n",
       "      <td>28</td>\n",
       "      <td>129.448479</td>\n",
       "      <td>1.0</td>\n",
       "      <td>2</td>\n",
       "      <td>1.859098</td>\n",
       "      <td>1.736502</td>\n",
       "      <td>0</td>\n",
       "    </tr>\n",
       "    <tr>\n",
       "      <th>3</th>\n",
       "      <td>0</td>\n",
       "      <td>1</td>\n",
       "      <td>1</td>\n",
       "      <td>1</td>\n",
       "      <td>1</td>\n",
       "      <td>12</td>\n",
       "      <td>1</td>\n",
       "      <td>33</td>\n",
       "      <td>62.669863</td>\n",
       "      <td>12.0</td>\n",
       "      <td>2</td>\n",
       "      <td>3.205633</td>\n",
       "      <td>3.357215</td>\n",
       "      <td>0</td>\n",
       "    </tr>\n",
       "    <tr>\n",
       "      <th>4</th>\n",
       "      <td>1</td>\n",
       "      <td>1</td>\n",
       "      <td>1</td>\n",
       "      <td>1</td>\n",
       "      <td>1</td>\n",
       "      <td>1</td>\n",
       "      <td>0</td>\n",
       "      <td>26</td>\n",
       "      <td>198.362265</td>\n",
       "      <td>1.0</td>\n",
       "      <td>3</td>\n",
       "      <td>1.113884</td>\n",
       "      <td>1.120078</td>\n",
       "      <td>0</td>\n",
       "    </tr>\n",
       "  </tbody>\n",
       "</table>\n",
       "</div>"
      ],
      "text/plain": [
       "   gender  Near_Location  Partner  Promo_friends  Phone  Contract_period  \\\n",
       "0       1              1        1              1      0                6   \n",
       "1       0              1        0              0      1               12   \n",
       "2       0              1        1              0      1                1   \n",
       "3       0              1        1              1      1               12   \n",
       "4       1              1        1              1      1                1   \n",
       "\n",
       "   Group_visits  Age  Avg_additional_charges_total  Month_to_end_contract  \\\n",
       "0             1   29                     14.227470                    5.0   \n",
       "1             1   31                    113.202938                   12.0   \n",
       "2             0   28                    129.448479                    1.0   \n",
       "3             1   33                     62.669863                   12.0   \n",
       "4             0   26                    198.362265                    1.0   \n",
       "\n",
       "   Lifetime  Avg_class_frequency_total  Avg_class_frequency_current_month  \\\n",
       "0         3                   0.020398                           0.000000   \n",
       "1         7                   1.922936                           1.910244   \n",
       "2         2                   1.859098                           1.736502   \n",
       "3         2                   3.205633                           3.357215   \n",
       "4         3                   1.113884                           1.120078   \n",
       "\n",
       "   Churn  \n",
       "0      0  \n",
       "1      0  \n",
       "2      0  \n",
       "3      0  \n",
       "4      0  "
      ]
     },
     "metadata": {},
     "output_type": "display_data"
    },
    {
     "name": "stdout",
     "output_type": "stream",
     "text": [
      "Общая информация:\n",
      "<class 'pandas.core.frame.DataFrame'>\n",
      "RangeIndex: 4000 entries, 0 to 3999\n",
      "Data columns (total 14 columns):\n",
      " #   Column                             Non-Null Count  Dtype  \n",
      "---  ------                             --------------  -----  \n",
      " 0   gender                             4000 non-null   int64  \n",
      " 1   Near_Location                      4000 non-null   int64  \n",
      " 2   Partner                            4000 non-null   int64  \n",
      " 3   Promo_friends                      4000 non-null   int64  \n",
      " 4   Phone                              4000 non-null   int64  \n",
      " 5   Contract_period                    4000 non-null   int64  \n",
      " 6   Group_visits                       4000 non-null   int64  \n",
      " 7   Age                                4000 non-null   int64  \n",
      " 8   Avg_additional_charges_total       4000 non-null   float64\n",
      " 9   Month_to_end_contract              4000 non-null   float64\n",
      " 10  Lifetime                           4000 non-null   int64  \n",
      " 11  Avg_class_frequency_total          4000 non-null   float64\n",
      " 12  Avg_class_frequency_current_month  4000 non-null   float64\n",
      " 13  Churn                              4000 non-null   int64  \n",
      "dtypes: float64(4), int64(10)\n",
      "memory usage: 437.6 KB\n",
      "\n",
      "Количество пропуков:\n",
      "gender                               0.0\n",
      "Near_Location                        0.0\n",
      "Partner                              0.0\n",
      "Promo_friends                        0.0\n",
      "Phone                                0.0\n",
      "Contract_period                      0.0\n",
      "Group_visits                         0.0\n",
      "Age                                  0.0\n",
      "Avg_additional_charges_total         0.0\n",
      "Month_to_end_contract                0.0\n",
      "Lifetime                             0.0\n",
      "Avg_class_frequency_total            0.0\n",
      "Avg_class_frequency_current_month    0.0\n",
      "Churn                                0.0\n",
      "dtype: float64\n",
      "\n",
      "Количество полных дубликатов: 0\n",
      "\n"
     ]
    }
   ],
   "source": [
    "# Загрузка данных\n",
    "data = pd.read_csv('datasets/gym_churn.csv')\n",
    "\n",
    "# Увеличение ширины колонки\n",
    "pd.options.display.max_colwidth = 150\n",
    "\n",
    "#Смотрим общую информацию\n",
    "display(data.head())\n",
    "print('Общая информация:')\n",
    "data.info()\n",
    "print()\n",
    "print('Количество пропуков:')\n",
    "print(round((data.isna().mean()*100),2))\n",
    "print()\n",
    "print('Количество полных дубликатов:', data.duplicated().sum())\n",
    "print()"
   ]
  },
  {
   "cell_type": "markdown",
   "metadata": {},
   "source": [
    "В полученном датасете 4000 строк. Пропуски и полные дубликаты не обнаружены. "
   ]
  },
  {
   "cell_type": "code",
   "execution_count": 3,
   "metadata": {},
   "outputs": [
    {
     "data": {
      "text/plain": [
       "gender                                 int64\n",
       "near_location                          int64\n",
       "partner                                int64\n",
       "promo_friends                          int64\n",
       "phone                                  int64\n",
       "contract_period                        int64\n",
       "group_visits                           int64\n",
       "age                                    int64\n",
       "avg_additional_charges_total         float64\n",
       "month_to_end_contract                  int64\n",
       "lifetime                               int64\n",
       "avg_class_frequency_total            float64\n",
       "avg_class_frequency_current_month    float64\n",
       "churn                                  int64\n",
       "dtype: object"
      ]
     },
     "execution_count": 3,
     "metadata": {},
     "output_type": "execute_result"
    }
   ],
   "source": [
    "# Приведем названия столбцов к нижнему регистру\n",
    "data.columns = data.columns.str.lower()\n",
    "# Изменение типа данных\n",
    "data['month_to_end_contract'] = data['month_to_end_contract'].astype('int64')\n",
    "data.dtypes"
   ]
  },
  {
   "cell_type": "markdown",
   "metadata": {},
   "source": [
    "Для удобства привели названия столбцов к нижнему регистру. Тип данных в колонке month_to_end_contract сменили на int."
   ]
  },
  {
   "cell_type": "markdown",
   "metadata": {},
   "source": [
    "## Исследовательский анализ данных"
   ]
  },
  {
   "cell_type": "code",
   "execution_count": 4,
   "metadata": {},
   "outputs": [
    {
     "data": {
      "text/html": [
       "<div>\n",
       "<style scoped>\n",
       "    .dataframe tbody tr th:only-of-type {\n",
       "        vertical-align: middle;\n",
       "    }\n",
       "\n",
       "    .dataframe tbody tr th {\n",
       "        vertical-align: top;\n",
       "    }\n",
       "\n",
       "    .dataframe thead th {\n",
       "        text-align: right;\n",
       "    }\n",
       "</style>\n",
       "<table border=\"1\" class=\"dataframe\">\n",
       "  <thead>\n",
       "    <tr style=\"text-align: right;\">\n",
       "      <th></th>\n",
       "      <th>gender</th>\n",
       "      <th>near_location</th>\n",
       "      <th>partner</th>\n",
       "      <th>promo_friends</th>\n",
       "      <th>phone</th>\n",
       "      <th>contract_period</th>\n",
       "      <th>group_visits</th>\n",
       "      <th>age</th>\n",
       "      <th>avg_additional_charges_total</th>\n",
       "      <th>month_to_end_contract</th>\n",
       "      <th>lifetime</th>\n",
       "      <th>avg_class_frequency_total</th>\n",
       "      <th>avg_class_frequency_current_month</th>\n",
       "      <th>churn</th>\n",
       "    </tr>\n",
       "  </thead>\n",
       "  <tbody>\n",
       "    <tr>\n",
       "      <th>count</th>\n",
       "      <td>4000.000000</td>\n",
       "      <td>4000.000000</td>\n",
       "      <td>4000.000000</td>\n",
       "      <td>4000.000000</td>\n",
       "      <td>4000.000000</td>\n",
       "      <td>4000.000000</td>\n",
       "      <td>4000.000000</td>\n",
       "      <td>4000.000000</td>\n",
       "      <td>4000.000000</td>\n",
       "      <td>4000.000000</td>\n",
       "      <td>4000.000000</td>\n",
       "      <td>4000.000000</td>\n",
       "      <td>4000.000000</td>\n",
       "      <td>4000.000000</td>\n",
       "    </tr>\n",
       "    <tr>\n",
       "      <th>mean</th>\n",
       "      <td>0.510250</td>\n",
       "      <td>0.845250</td>\n",
       "      <td>0.486750</td>\n",
       "      <td>0.308500</td>\n",
       "      <td>0.903500</td>\n",
       "      <td>4.681250</td>\n",
       "      <td>0.412250</td>\n",
       "      <td>29.184250</td>\n",
       "      <td>146.943728</td>\n",
       "      <td>4.322750</td>\n",
       "      <td>3.724750</td>\n",
       "      <td>1.879020</td>\n",
       "      <td>1.767052</td>\n",
       "      <td>0.265250</td>\n",
       "    </tr>\n",
       "    <tr>\n",
       "      <th>std</th>\n",
       "      <td>0.499957</td>\n",
       "      <td>0.361711</td>\n",
       "      <td>0.499887</td>\n",
       "      <td>0.461932</td>\n",
       "      <td>0.295313</td>\n",
       "      <td>4.549706</td>\n",
       "      <td>0.492301</td>\n",
       "      <td>3.258367</td>\n",
       "      <td>96.355602</td>\n",
       "      <td>4.191297</td>\n",
       "      <td>3.749267</td>\n",
       "      <td>0.972245</td>\n",
       "      <td>1.052906</td>\n",
       "      <td>0.441521</td>\n",
       "    </tr>\n",
       "    <tr>\n",
       "      <th>min</th>\n",
       "      <td>0.000000</td>\n",
       "      <td>0.000000</td>\n",
       "      <td>0.000000</td>\n",
       "      <td>0.000000</td>\n",
       "      <td>0.000000</td>\n",
       "      <td>1.000000</td>\n",
       "      <td>0.000000</td>\n",
       "      <td>18.000000</td>\n",
       "      <td>0.148205</td>\n",
       "      <td>1.000000</td>\n",
       "      <td>0.000000</td>\n",
       "      <td>0.000000</td>\n",
       "      <td>0.000000</td>\n",
       "      <td>0.000000</td>\n",
       "    </tr>\n",
       "    <tr>\n",
       "      <th>25%</th>\n",
       "      <td>0.000000</td>\n",
       "      <td>1.000000</td>\n",
       "      <td>0.000000</td>\n",
       "      <td>0.000000</td>\n",
       "      <td>1.000000</td>\n",
       "      <td>1.000000</td>\n",
       "      <td>0.000000</td>\n",
       "      <td>27.000000</td>\n",
       "      <td>68.868830</td>\n",
       "      <td>1.000000</td>\n",
       "      <td>1.000000</td>\n",
       "      <td>1.180875</td>\n",
       "      <td>0.963003</td>\n",
       "      <td>0.000000</td>\n",
       "    </tr>\n",
       "    <tr>\n",
       "      <th>50%</th>\n",
       "      <td>1.000000</td>\n",
       "      <td>1.000000</td>\n",
       "      <td>0.000000</td>\n",
       "      <td>0.000000</td>\n",
       "      <td>1.000000</td>\n",
       "      <td>1.000000</td>\n",
       "      <td>0.000000</td>\n",
       "      <td>29.000000</td>\n",
       "      <td>136.220159</td>\n",
       "      <td>1.000000</td>\n",
       "      <td>3.000000</td>\n",
       "      <td>1.832768</td>\n",
       "      <td>1.719574</td>\n",
       "      <td>0.000000</td>\n",
       "    </tr>\n",
       "    <tr>\n",
       "      <th>75%</th>\n",
       "      <td>1.000000</td>\n",
       "      <td>1.000000</td>\n",
       "      <td>1.000000</td>\n",
       "      <td>1.000000</td>\n",
       "      <td>1.000000</td>\n",
       "      <td>6.000000</td>\n",
       "      <td>1.000000</td>\n",
       "      <td>31.000000</td>\n",
       "      <td>210.949625</td>\n",
       "      <td>6.000000</td>\n",
       "      <td>5.000000</td>\n",
       "      <td>2.536078</td>\n",
       "      <td>2.510336</td>\n",
       "      <td>1.000000</td>\n",
       "    </tr>\n",
       "    <tr>\n",
       "      <th>max</th>\n",
       "      <td>1.000000</td>\n",
       "      <td>1.000000</td>\n",
       "      <td>1.000000</td>\n",
       "      <td>1.000000</td>\n",
       "      <td>1.000000</td>\n",
       "      <td>12.000000</td>\n",
       "      <td>1.000000</td>\n",
       "      <td>41.000000</td>\n",
       "      <td>552.590740</td>\n",
       "      <td>12.000000</td>\n",
       "      <td>31.000000</td>\n",
       "      <td>6.023668</td>\n",
       "      <td>6.146783</td>\n",
       "      <td>1.000000</td>\n",
       "    </tr>\n",
       "  </tbody>\n",
       "</table>\n",
       "</div>"
      ],
      "text/plain": [
       "            gender  near_location      partner  promo_friends        phone  \\\n",
       "count  4000.000000    4000.000000  4000.000000    4000.000000  4000.000000   \n",
       "mean      0.510250       0.845250     0.486750       0.308500     0.903500   \n",
       "std       0.499957       0.361711     0.499887       0.461932     0.295313   \n",
       "min       0.000000       0.000000     0.000000       0.000000     0.000000   \n",
       "25%       0.000000       1.000000     0.000000       0.000000     1.000000   \n",
       "50%       1.000000       1.000000     0.000000       0.000000     1.000000   \n",
       "75%       1.000000       1.000000     1.000000       1.000000     1.000000   \n",
       "max       1.000000       1.000000     1.000000       1.000000     1.000000   \n",
       "\n",
       "       contract_period  group_visits          age  \\\n",
       "count      4000.000000   4000.000000  4000.000000   \n",
       "mean          4.681250      0.412250    29.184250   \n",
       "std           4.549706      0.492301     3.258367   \n",
       "min           1.000000      0.000000    18.000000   \n",
       "25%           1.000000      0.000000    27.000000   \n",
       "50%           1.000000      0.000000    29.000000   \n",
       "75%           6.000000      1.000000    31.000000   \n",
       "max          12.000000      1.000000    41.000000   \n",
       "\n",
       "       avg_additional_charges_total  month_to_end_contract     lifetime  \\\n",
       "count                   4000.000000            4000.000000  4000.000000   \n",
       "mean                     146.943728               4.322750     3.724750   \n",
       "std                       96.355602               4.191297     3.749267   \n",
       "min                        0.148205               1.000000     0.000000   \n",
       "25%                       68.868830               1.000000     1.000000   \n",
       "50%                      136.220159               1.000000     3.000000   \n",
       "75%                      210.949625               6.000000     5.000000   \n",
       "max                      552.590740              12.000000    31.000000   \n",
       "\n",
       "       avg_class_frequency_total  avg_class_frequency_current_month  \\\n",
       "count                4000.000000                        4000.000000   \n",
       "mean                    1.879020                           1.767052   \n",
       "std                     0.972245                           1.052906   \n",
       "min                     0.000000                           0.000000   \n",
       "25%                     1.180875                           0.963003   \n",
       "50%                     1.832768                           1.719574   \n",
       "75%                     2.536078                           2.510336   \n",
       "max                     6.023668                           6.146783   \n",
       "\n",
       "             churn  \n",
       "count  4000.000000  \n",
       "mean      0.265250  \n",
       "std       0.441521  \n",
       "min       0.000000  \n",
       "25%       0.000000  \n",
       "50%       0.000000  \n",
       "75%       1.000000  \n",
       "max       1.000000  "
      ]
     },
     "execution_count": 4,
     "metadata": {},
     "output_type": "execute_result"
    }
   ],
   "source": [
    "# Посмотрим на статистику датасета\n",
    "data.describe()"
   ]
  },
  {
   "cell_type": "markdown",
   "metadata": {},
   "source": [
    "В фитнес-центры ходят приблизительно поровну и мужчины и женщины. Большинство посетителей живут неподалеку от фитнес-центра. Около половины посетителей пришли по партнерской программе. Около 30% пользователей пришли по рекомендации друга. Более 90% пользователей оставили свой контактный телефон. Абонементы берутся в рамках от 1 до 12 месяцев. Групповые занятия посещают  меньше половины пользователей, идет продпочтение индивидуальным занятиям. Средний возраст посетителей 29-30 лет. В фитнес-центрах есть только начинающие заниматься посетители так и люди посещающие занятия более двух лет. Есть люди которые занимаются по 6 раз в неделю при этом средняя посещаемость в неделю это 1-2 дня. Суммарная выручка от других услуг фитнес-центра в среднем около 150 у.е. при максимуме более 500 у.е. Отток составляет порядка 27%. Сейчас сложно определить много это или мало."
   ]
  },
  {
   "cell_type": "code",
   "execution_count": 5,
   "metadata": {},
   "outputs": [
    {
     "data": {
      "text/html": [
       "<div>\n",
       "<style scoped>\n",
       "    .dataframe tbody tr th:only-of-type {\n",
       "        vertical-align: middle;\n",
       "    }\n",
       "\n",
       "    .dataframe tbody tr th {\n",
       "        vertical-align: top;\n",
       "    }\n",
       "\n",
       "    .dataframe thead th {\n",
       "        text-align: right;\n",
       "    }\n",
       "</style>\n",
       "<table border=\"1\" class=\"dataframe\">\n",
       "  <thead>\n",
       "    <tr style=\"text-align: right;\">\n",
       "      <th>churn</th>\n",
       "      <th>0</th>\n",
       "      <th>1</th>\n",
       "    </tr>\n",
       "  </thead>\n",
       "  <tbody>\n",
       "    <tr>\n",
       "      <th>gender</th>\n",
       "      <td>0.510037</td>\n",
       "      <td>0.510839</td>\n",
       "    </tr>\n",
       "    <tr>\n",
       "      <th>near_location</th>\n",
       "      <td>0.873086</td>\n",
       "      <td>0.768143</td>\n",
       "    </tr>\n",
       "    <tr>\n",
       "      <th>partner</th>\n",
       "      <td>0.534195</td>\n",
       "      <td>0.355325</td>\n",
       "    </tr>\n",
       "    <tr>\n",
       "      <th>promo_friends</th>\n",
       "      <td>0.353522</td>\n",
       "      <td>0.183789</td>\n",
       "    </tr>\n",
       "    <tr>\n",
       "      <th>phone</th>\n",
       "      <td>0.903709</td>\n",
       "      <td>0.902922</td>\n",
       "    </tr>\n",
       "    <tr>\n",
       "      <th>contract_period</th>\n",
       "      <td>5.747193</td>\n",
       "      <td>1.728558</td>\n",
       "    </tr>\n",
       "    <tr>\n",
       "      <th>group_visits</th>\n",
       "      <td>0.464103</td>\n",
       "      <td>0.268615</td>\n",
       "    </tr>\n",
       "    <tr>\n",
       "      <th>age</th>\n",
       "      <td>29.976523</td>\n",
       "      <td>26.989632</td>\n",
       "    </tr>\n",
       "    <tr>\n",
       "      <th>avg_additional_charges_total</th>\n",
       "      <td>158.445715</td>\n",
       "      <td>115.082899</td>\n",
       "    </tr>\n",
       "    <tr>\n",
       "      <th>month_to_end_contract</th>\n",
       "      <td>5.283089</td>\n",
       "      <td>1.662582</td>\n",
       "    </tr>\n",
       "    <tr>\n",
       "      <th>lifetime</th>\n",
       "      <td>4.711807</td>\n",
       "      <td>0.990575</td>\n",
       "    </tr>\n",
       "    <tr>\n",
       "      <th>avg_class_frequency_total</th>\n",
       "      <td>2.024876</td>\n",
       "      <td>1.474995</td>\n",
       "    </tr>\n",
       "    <tr>\n",
       "      <th>avg_class_frequency_current_month</th>\n",
       "      <td>2.027882</td>\n",
       "      <td>1.044546</td>\n",
       "    </tr>\n",
       "  </tbody>\n",
       "</table>\n",
       "</div>"
      ],
      "text/plain": [
       "churn                                       0           1\n",
       "gender                               0.510037    0.510839\n",
       "near_location                        0.873086    0.768143\n",
       "partner                              0.534195    0.355325\n",
       "promo_friends                        0.353522    0.183789\n",
       "phone                                0.903709    0.902922\n",
       "contract_period                      5.747193    1.728558\n",
       "group_visits                         0.464103    0.268615\n",
       "age                                 29.976523   26.989632\n",
       "avg_additional_charges_total       158.445715  115.082899\n",
       "month_to_end_contract                5.283089    1.662582\n",
       "lifetime                             4.711807    0.990575\n",
       "avg_class_frequency_total            2.024876    1.474995\n",
       "avg_class_frequency_current_month    2.027882    1.044546"
      ]
     },
     "execution_count": 5,
     "metadata": {},
     "output_type": "execute_result"
    }
   ],
   "source": [
    "# Посмотрим на средние значения групп оттока\n",
    "data.groupby(by='churn').mean().T"
   ]
  },
  {
   "cell_type": "markdown",
   "metadata": {},
   "source": [
    "По этим данным мы видим, что пол не влияет на факт оттока. Чаще в отток попадают более молодые клиенты которые живут и работают далеко от фитнес-центра, пришли в зал не по партнерской программе или программе \"приведи друга\", посещали занятие не более 1 раза в неделю и брали одномесячный абонемент.\n",
    "\n",
    "Можно предположить, что чаще всего это люди решившие купить пробный одномесячный абонемент и не имеющие каких любо партнерских или скидочных программ. Позже им что-то не понравилось или вообще \"это не его\", а может нашедшие более выгодное или удобное предложение."
   ]
  },
  {
   "cell_type": "code",
   "execution_count": 6,
   "metadata": {
    "scrolled": false
   },
   "outputs": [
    {
     "data": {
      "image/png": "[encoded data removed]",
      "text/plain": [
       "<Figure size 1296x864 with 6 Axes>"
      ]
     },
     "metadata": {
      "needs_background": "light"
     },
     "output_type": "display_data"
    }
   ],
   "source": [
    "# Построим столбчатые диаграммы и распределения признаков по группам оттока\n",
    "# для бинарных признаков\n",
    "fig, axes = plt.subplots(2,3, figsize=(18, 12))\n",
    "fig.suptitle('Распределения бинарных признаков', fontsize = 25)\n",
    "axes = axes.flatten()\n",
    "for i, column in enumerate(['gender', 'near_location', 'partner', 'promo_friends', 'phone', 'group_visits']):\n",
    "    sns.countplot(data=data, x=data[column], hue='churn', ax = axes.flatten()[i])\n",
    "    axes[i].set_title(column, fontsize = 15)"
   ]
  },
  {
   "cell_type": "code",
   "execution_count": 7,
   "metadata": {
    "scrolled": false
   },
   "outputs": [
    {
     "data": {
      "image/png": "[encoded data removed]",
      "text/plain": [
       "<Figure size 1296x864 with 8 Axes>"
      ]
     },
     "metadata": {
      "needs_background": "light"
     },
     "output_type": "display_data"
    }
   ],
   "source": [
    "# для числовых признаков\n",
    "fig, axes = plt.subplots(2,4, figsize=(18, 12))\n",
    "fig.suptitle('Распределения числовых признаков', fontsize = 25)\n",
    "axes = axes.flatten()\n",
    "for i, column in enumerate(['contract_period', \n",
    "                            'month_to_end_contract', \n",
    "                            'age', \n",
    "                            'avg_additional_charges_total', \n",
    "                            'lifetime', \n",
    "                            'avg_class_frequency_total', \n",
    "                            'avg_class_frequency_current_month'\n",
    "                           ]\n",
    "                          ):\n",
    "    sns.boxplot(data=data, y=data[column], x='churn', ax = axes.flatten()[i])\n",
    "    axes[i].set_title(column, fontsize = 15)"
   ]
  },
  {
   "cell_type": "markdown",
   "metadata": {},
   "source": [
    "Как и было отмечено ранее, пол не влияет на отток. \n",
    "Покидает фитнес-центр чуть больше тех, кто проживает не рядом с ним, кто не учавствует в программах лояльности и реже посещает групповые занятия.\n",
    "C длительными абонементами на 6 и 12 месяцев уходят в отток меньше, чем с абонементами на 1 месяц. Чем больше месяцев до конца окончания абонемента, тем меньше вероятность ухода клента. Так же замечено, что после 10 месяцев занятий клиенты проявляют лояльность и не попадют в отток."
   ]
  },
  {
   "cell_type": "code",
   "execution_count": 8,
   "metadata": {},
   "outputs": [
    {
     "data": {
      "image/png": "[encoded data removed]",
      "text/plain": [
       "<Figure size 1080x720 with 2 Axes>"
      ]
     },
     "metadata": {
      "needs_background": "light"
     },
     "output_type": "display_data"
    }
   ],
   "source": [
    "# Построим матрицу корреляций\n",
    "cm = data.corr()\n",
    "plt.figure(figsize=(15, 10))\n",
    "sns.heatmap(cm , annot=True, fmt='.2f', linewidths=.5, cmap='coolwarm')\n",
    "plt.title('Матрица корреляций', fontsize = 14)\n",
    "plt.show()"
   ]
  },
  {
   "cell_type": "markdown",
   "metadata": {},
   "source": [
    "Признаки, сильно коррелирующиеся между собой:\n",
    "* contract_period и month_to_end_contract\n",
    "* avg_class_frequency_total и avg_class_frequency_current_month\n",
    "\n",
    "Имеется корреляция между partner и promo_friend. Возможно это связано с тем, что люди учавствующие в программе лояльности чаще зовут друзей.\n",
    "\n",
    "У признаков gender и phone корреляция с целевой переменной близка к нулю.\n",
    "\n",
    "Больше всего влиеют на отток: время с момента первого обращения в фитнес-центр, средняя частота посещений в неделю за предыдущий месяц, возраст, длительность абонемента."
   ]
  },
  {
   "cell_type": "code",
   "execution_count": 9,
   "metadata": {},
   "outputs": [],
   "source": [
    "# Удалим мультиколлениарные признаки\n",
    "data = data.drop(['avg_class_frequency_total', 'month_to_end_contract'], axis=1)"
   ]
  },
  {
   "cell_type": "markdown",
   "metadata": {},
   "source": [
    "Удалили стобцы avg_class_frequency_total и month_to_end_contract во избежание переобучения моделей."
   ]
  },
  {
   "cell_type": "markdown",
   "metadata": {},
   "source": [
    "## Модели прогнозирования оттока клиентов"
   ]
  },
  {
   "cell_type": "markdown",
   "metadata": {},
   "source": [
    "Построим модель бинарной классификации клиентов, где целевой признак — факт оттока клиента в следующем месяце."
   ]
  },
  {
   "cell_type": "code",
   "execution_count": 10,
   "metadata": {},
   "outputs": [],
   "source": [
    "# Выделем переменную с признаками и целевую переменную\n",
    "X = data.drop('churn', axis=1)\n",
    "y = data['churn']\n",
    "\n",
    "# Разобьем данные на обучающую и валидационную выборку\n",
    "X_train, X_test, y_train, y_test = train_test_split(X, y, test_size=0.2, random_state=0)\n",
    "\n",
    "# Маштабирование данных\n",
    "scaler = StandardScaler()\n",
    "scaler.fit(X_train)\n",
    "X_train_st = scaler.transform(X_train) \n",
    "X_test_st = scaler.transform(X_test)"
   ]
  },
  {
   "cell_type": "code",
   "execution_count": 11,
   "metadata": {},
   "outputs": [
    {
     "name": "stdout",
     "output_type": "stream",
     "text": [
      "Метрики LogisticRegression:\n",
      "Accuracy - 0.90\n",
      "Precision - 0.79\n",
      "Recall - 0.82\n",
      "- - - - - - - - - - - - - - - -\n",
      "Метрики RandomForestRegressor:\n",
      "Accuracy - 0.90\n",
      "Precision - 0.81\n",
      "Recall - 0.75\n"
     ]
    }
   ],
   "source": [
    "# Обучим модель логистической регрессией\n",
    "lr_model = LogisticRegression(solver='liblinear', random_state=0)\n",
    "lr_model.fit(X_train_st, y_train)\n",
    "lr_predictions = lr_model.predict(X_test_st)\n",
    "lr_probabilities = lr_model.predict_proba(X_test_st)[:, 1]\n",
    "\n",
    "# Обучим модель случайным лесом\n",
    "rf_model = RandomForestClassifier(n_estimators = 100, random_state = 0) \n",
    "rf_model.fit(X_train_st, y_train)\n",
    "rf_predictions = rf_model.predict(X_test_st)\n",
    "rf_probabilities = rf_model.predict_proba(X_test_st)[:, 1]\n",
    "\n",
    "# Смотрим необходимые метрики\n",
    "print('Метрики LogisticRegression:')\n",
    "print('Accuracy - {:.2f}'.format(accuracy_score(y_test, lr_predictions)))\n",
    "print('Precision - {:.2f}'.format(precision_score(y_test, lr_predictions)))\n",
    "print('Recall - {:.2f}'.format(recall_score(y_test, lr_predictions)))\n",
    "print('- - - - - - - - - - - - - - - -')\n",
    "print('Метрики RandomForestRegressor:')\n",
    "print('Accuracy - {:.2f}'.format(accuracy_score(y_test, rf_predictions)))\n",
    "print('Precision - {:.2f}'.format(precision_score(y_test, rf_predictions)))\n",
    "print('Recall - {:.2f}'.format(recall_score(y_test, rf_predictions)))"
   ]
  },
  {
   "cell_type": "markdown",
   "metadata": {},
   "source": [
    "Рассчитаем прогнозы с учётом порога, равного 0.3. Сравним метрики при автоматическом расчете и расчете с кастомным порогом."
   ]
  },
  {
   "cell_type": "code",
   "execution_count": 12,
   "metadata": {},
   "outputs": [
    {
     "name": "stdout",
     "output_type": "stream",
     "text": [
      "Метрики LogisticRegression с кастомным порогом:\n",
      "Accuracy - 0.89\n",
      "Precision - 0.71\n",
      "Recall - 0.91\n",
      "- - - - - - - - - - - - - - - -\n",
      "Метрики RandomForestRegressor с кастомным порогом:\n",
      "Accuracy - 0.89\n",
      "Precision - 0.71\n",
      "Recall - 0.89\n"
     ]
    }
   ],
   "source": [
    "# Задаем порог\n",
    "threshold = 0.3\n",
    "\n",
    "# На основании вероятностей и соотношения классов рассчитаем predict\n",
    "lr_custom_predictions = [0 if i < threshold else 1 for i in lr_probabilities]\n",
    "rf_custom_predictions = [0 if i < threshold else 1 for i in rf_probabilities]\n",
    "\n",
    "# Смотрим необходимые метрики по новому порогу\n",
    "print('Метрики LogisticRegression с кастомным порогом:')\n",
    "print('Accuracy - {:.2f}'.format(accuracy_score(y_test, lr_custom_predictions)))\n",
    "print('Precision - {:.2f}'.format(precision_score(y_test, lr_custom_predictions)))\n",
    "print('Recall - {:.2f}'.format(recall_score(y_test, lr_custom_predictions)))\n",
    "print('- - - - - - - - - - - - - - - -')\n",
    "print('Метрики RandomForestRegressor с кастомным порогом:')\n",
    "print('Accuracy - {:.2f}'.format(accuracy_score(y_test, rf_custom_predictions)))\n",
    "print('Precision - {:.2f}'.format(precision_score(y_test, rf_custom_predictions)))\n",
    "print('Recall - {:.2f}'.format(recall_score(y_test, rf_custom_predictions)))"
   ]
  },
  {
   "cell_type": "markdown",
   "metadata": {},
   "source": [
    "Дополнительно посмотим на roc_auc"
   ]
  },
  {
   "cell_type": "code",
   "execution_count": 13,
   "metadata": {},
   "outputs": [
    {
     "name": "stdout",
     "output_type": "stream",
     "text": [
      "roc_auc для LogisticRegression: 0.96\n",
      "roc_auc для RandomForestRegressor: 0.95\n"
     ]
    }
   ],
   "source": [
    "print('roc_auc для LogisticRegression: {:.2f}'.format(roc_auc_score(y_test, lr_probabilities)))\n",
    "print('roc_auc для RandomForestRegressor: {:.2f}'.format(roc_auc_score(y_test, rf_probabilities)))"
   ]
  },
  {
   "cell_type": "markdown",
   "metadata": {},
   "source": [
    "Модель логистической регрессии с кастомным порогом обладает самыми высоким показателем Recall, который по моему мнению является важнейшим при распознавании целевого класса. Параметр roc_auc у логистической регрессии так же ближе к 1 и показывает что данная модель более точная. Модель логистической регрессии смотрится лучше."
   ]
  },
  {
   "cell_type": "markdown",
   "metadata": {},
   "source": [
    "## Кластеризация клиентов"
   ]
  },
  {
   "cell_type": "code",
   "execution_count": 14,
   "metadata": {},
   "outputs": [
    {
     "data": {
      "image/png": "[encoded data removed]",
      "text/plain": [
       "<Figure size 1440x720 with 1 Axes>"
      ]
     },
     "metadata": {
      "needs_background": "light"
     },
     "output_type": "display_data"
    }
   ],
   "source": [
    "# Стандартизируем данные\n",
    "sc = StandardScaler()\n",
    "X_sc = sc.fit_transform(X)\n",
    "\n",
    "# Строим матрицу расстояний и визуализируем ее дендограммой\n",
    "linked = linkage(X_sc, method = 'ward') \n",
    "plt.figure(figsize=(20, 10))\n",
    "dendrogram(linked, orientation='top', no_labels=True)\n",
    "plt.title('Дендрограмма иерархической кластеризации клиентов фитнес-клуба', fontsize = 14)\n",
    "plt.axhline(y=58, color='red', linestyle='--', label='K=5') \n",
    "plt.legend(fontsize = 14)\n",
    "plt.show()"
   ]
  },
  {
   "cell_type": "markdown",
   "metadata": {},
   "source": [
    "Дендрограмма предлогает нам оптимальное число кластеров 4 — четыре разных цвета на графике. Последний кластер выглядит довольно большим по сравнению с остальными и его можно разделить на два, тем самым получив 5 кластеров."
   ]
  },
  {
   "cell_type": "code",
   "execution_count": 15,
   "metadata": {},
   "outputs": [
    {
     "data": {
      "text/plain": [
       "0.1742511198644242"
      ]
     },
     "execution_count": 15,
     "metadata": {},
     "output_type": "execute_result"
    }
   ],
   "source": [
    "# Обучим модель кластеризации на основании алгоритма K-Means и спрогнозируем кластеры клиентов\n",
    "km = KMeans(n_clusters=5, random_state=0)\n",
    "km_clusters = km.fit_predict(X_sc)\n",
    "\n",
    "# Cохраняем метки кластера в поле нашего датасета\n",
    "data['cluster'] = km_clusters\n",
    "\n",
    "# Оценим похожесть кластеров метрикой силуэта\n",
    "df_sc = scaler.fit_transform(data)\n",
    "silhouette_score(df_sc, km_clusters)"
   ]
  },
  {
   "cell_type": "markdown",
   "metadata": {},
   "source": [
    "Значение метрики не очень высокое, значит разделение на кластеры не высокого качества."
   ]
  },
  {
   "cell_type": "code",
   "execution_count": 16,
   "metadata": {},
   "outputs": [
    {
     "data": {
      "text/html": [
       "<div>\n",
       "<style scoped>\n",
       "    .dataframe tbody tr th:only-of-type {\n",
       "        vertical-align: middle;\n",
       "    }\n",
       "\n",
       "    .dataframe tbody tr th {\n",
       "        vertical-align: top;\n",
       "    }\n",
       "\n",
       "    .dataframe thead th {\n",
       "        text-align: right;\n",
       "    }\n",
       "</style>\n",
       "<table border=\"1\" class=\"dataframe\">\n",
       "  <thead>\n",
       "    <tr style=\"text-align: right;\">\n",
       "      <th>cluster</th>\n",
       "      <th>0</th>\n",
       "      <th>1</th>\n",
       "      <th>2</th>\n",
       "      <th>3</th>\n",
       "      <th>4</th>\n",
       "      <th>all_mean</th>\n",
       "    </tr>\n",
       "  </thead>\n",
       "  <tbody>\n",
       "    <tr>\n",
       "      <th>gender</th>\n",
       "      <td>0.496447</td>\n",
       "      <td>0.500000</td>\n",
       "      <td>0.500940</td>\n",
       "      <td>0.534260</td>\n",
       "      <td>0.523316</td>\n",
       "      <td>0.510250</td>\n",
       "    </tr>\n",
       "    <tr>\n",
       "      <th>near_location</th>\n",
       "      <td>0.995939</td>\n",
       "      <td>0.000000</td>\n",
       "      <td>1.000000</td>\n",
       "      <td>0.996028</td>\n",
       "      <td>0.862694</td>\n",
       "      <td>0.845250</td>\n",
       "    </tr>\n",
       "    <tr>\n",
       "      <th>partner</th>\n",
       "      <td>0.892386</td>\n",
       "      <td>0.489247</td>\n",
       "      <td>0.217105</td>\n",
       "      <td>0.379345</td>\n",
       "      <td>0.471503</td>\n",
       "      <td>0.486750</td>\n",
       "    </tr>\n",
       "    <tr>\n",
       "      <th>promo_friends</th>\n",
       "      <td>1.000000</td>\n",
       "      <td>0.078853</td>\n",
       "      <td>0.072368</td>\n",
       "      <td>0.009930</td>\n",
       "      <td>0.305699</td>\n",
       "      <td>0.308500</td>\n",
       "    </tr>\n",
       "    <tr>\n",
       "      <th>phone</th>\n",
       "      <td>1.000000</td>\n",
       "      <td>1.000000</td>\n",
       "      <td>1.000000</td>\n",
       "      <td>1.000000</td>\n",
       "      <td>0.000000</td>\n",
       "      <td>0.903500</td>\n",
       "    </tr>\n",
       "    <tr>\n",
       "      <th>contract_period</th>\n",
       "      <td>6.922843</td>\n",
       "      <td>2.994624</td>\n",
       "      <td>2.010338</td>\n",
       "      <td>6.208540</td>\n",
       "      <td>4.777202</td>\n",
       "      <td>4.681250</td>\n",
       "    </tr>\n",
       "    <tr>\n",
       "      <th>group_visits</th>\n",
       "      <td>0.524873</td>\n",
       "      <td>0.232975</td>\n",
       "      <td>0.277256</td>\n",
       "      <td>0.538232</td>\n",
       "      <td>0.427461</td>\n",
       "      <td>0.412250</td>\n",
       "    </tr>\n",
       "    <tr>\n",
       "      <th>age</th>\n",
       "      <td>29.606091</td>\n",
       "      <td>28.679211</td>\n",
       "      <td>27.583647</td>\n",
       "      <td>30.699106</td>\n",
       "      <td>29.297927</td>\n",
       "      <td>29.184250</td>\n",
       "    </tr>\n",
       "    <tr>\n",
       "      <th>avg_additional_charges_total</th>\n",
       "      <td>153.424651</td>\n",
       "      <td>137.125763</td>\n",
       "      <td>119.339956</td>\n",
       "      <td>176.259567</td>\n",
       "      <td>144.208179</td>\n",
       "      <td>146.943728</td>\n",
       "    </tr>\n",
       "    <tr>\n",
       "      <th>lifetime</th>\n",
       "      <td>4.283249</td>\n",
       "      <td>2.974910</td>\n",
       "      <td>1.922932</td>\n",
       "      <td>5.415094</td>\n",
       "      <td>3.940415</td>\n",
       "      <td>3.724750</td>\n",
       "    </tr>\n",
       "    <tr>\n",
       "      <th>avg_class_frequency_current_month</th>\n",
       "      <td>1.919520</td>\n",
       "      <td>1.597146</td>\n",
       "      <td>1.203319</td>\n",
       "      <td>2.324220</td>\n",
       "      <td>1.723967</td>\n",
       "      <td>1.767052</td>\n",
       "    </tr>\n",
       "    <tr>\n",
       "      <th>churn</th>\n",
       "      <td>0.119797</td>\n",
       "      <td>0.403226</td>\n",
       "      <td>0.563910</td>\n",
       "      <td>0.014896</td>\n",
       "      <td>0.266839</td>\n",
       "      <td>0.265250</td>\n",
       "    </tr>\n",
       "  </tbody>\n",
       "</table>\n",
       "</div>"
      ],
      "text/plain": [
       "cluster                                     0           1           2  \\\n",
       "gender                               0.496447    0.500000    0.500940   \n",
       "near_location                        0.995939    0.000000    1.000000   \n",
       "partner                              0.892386    0.489247    0.217105   \n",
       "promo_friends                        1.000000    0.078853    0.072368   \n",
       "phone                                1.000000    1.000000    1.000000   \n",
       "contract_period                      6.922843    2.994624    2.010338   \n",
       "group_visits                         0.524873    0.232975    0.277256   \n",
       "age                                 29.606091   28.679211   27.583647   \n",
       "avg_additional_charges_total       153.424651  137.125763  119.339956   \n",
       "lifetime                             4.283249    2.974910    1.922932   \n",
       "avg_class_frequency_current_month    1.919520    1.597146    1.203319   \n",
       "churn                                0.119797    0.403226    0.563910   \n",
       "\n",
       "cluster                                     3           4    all_mean  \n",
       "gender                               0.534260    0.523316    0.510250  \n",
       "near_location                        0.996028    0.862694    0.845250  \n",
       "partner                              0.379345    0.471503    0.486750  \n",
       "promo_friends                        0.009930    0.305699    0.308500  \n",
       "phone                                1.000000    0.000000    0.903500  \n",
       "contract_period                      6.208540    4.777202    4.681250  \n",
       "group_visits                         0.538232    0.427461    0.412250  \n",
       "age                                 30.699106   29.297927   29.184250  \n",
       "avg_additional_charges_total       176.259567  144.208179  146.943728  \n",
       "lifetime                             5.415094    3.940415    3.724750  \n",
       "avg_class_frequency_current_month    2.324220    1.723967    1.767052  \n",
       "churn                                0.014896    0.266839    0.265250  "
      ]
     },
     "execution_count": 16,
     "metadata": {},
     "output_type": "execute_result"
    }
   ],
   "source": [
    "# Смотрим средние значения признаков для кластеров\n",
    "df1 = data.groupby('cluster').mean().T\n",
    "df1['all_mean'] = data.drop('cluster', axis=1).mean()\n",
    "df1"
   ]
  },
  {
   "cell_type": "code",
   "execution_count": 17,
   "metadata": {
    "scrolled": false
   },
   "outputs": [
    {
     "data": {
      "image/png": "[encoded data removed]",
      "text/plain": [
       "<Figure size 360x360 with 1 Axes>"
      ]
     },
     "metadata": {
      "needs_background": "light"
     },
     "output_type": "display_data"
    },
    {
     "data": {
      "image/png": "[encoded data removed]",
      "text/plain": [
       "<Figure size 360x360 with 1 Axes>"
      ]
     },
     "metadata": {
      "needs_background": "light"
     },
     "output_type": "display_data"
    },
    {
     "data": {
      "image/png": "[encoded data removed]",
      "text/plain": [
       "<Figure size 360x360 with 1 Axes>"
      ]
     },
     "metadata": {
      "needs_background": "light"
     },
     "output_type": "display_data"
    },
    {
     "data": {
      "image/png": "[encoded data removed]",
      "text/plain": [
       "<Figure size 360x360 with 1 Axes>"
      ]
     },
     "metadata": {
      "needs_background": "light"
     },
     "output_type": "display_data"
    },
    {
     "data": {
      "image/png": "[encoded data removed]",
      "text/plain": [
       "<Figure size 360x360 with 1 Axes>"
      ]
     },
     "metadata": {
      "needs_background": "light"
     },
     "output_type": "display_data"
    },
    {
     "data": {
      "image/png": "[encoded data removed]",
      "text/plain": [
       "<Figure size 360x360 with 1 Axes>"
      ]
     },
     "metadata": {
      "needs_background": "light"
     },
     "output_type": "display_data"
    }
   ],
   "source": [
    "# Распределения бинарных признаков по класстерам\n",
    "for column in ['gender', 'near_location', 'partner', 'promo_friends', 'phone', 'group_visits']:\n",
    "    plt.figure(figsize=(5, 5))\n",
    "    sns.countplot(data = data, x = data[column], hue = 'cluster')\n",
    "    plt.legend(bbox_to_anchor = (1,1), loc='upper left')\n",
    "    plt.show()"
   ]
  },
  {
   "cell_type": "code",
   "execution_count": 18,
   "metadata": {
    "scrolled": false
   },
   "outputs": [
    {
     "data": {
      "image/png": "[encoded data removed]",
      "text/plain": [
       "<Figure size 360x360 with 1 Axes>"
      ]
     },
     "metadata": {
      "needs_background": "light"
     },
     "output_type": "display_data"
    },
    {
     "data": {
      "image/png": "[encoded data removed]",
      "text/plain": [
       "<Figure size 360x360 with 1 Axes>"
      ]
     },
     "metadata": {
      "needs_background": "light"
     },
     "output_type": "display_data"
    },
    {
     "data": {
      "image/png": "[encoded data removed]",
      "text/plain": [
       "<Figure size 360x360 with 1 Axes>"
      ]
     },
     "metadata": {
      "needs_background": "light"
     },
     "output_type": "display_data"
    },
    {
     "data": {
      "image/png": "[encoded data removed]",
      "text/plain": [
       "<Figure size 360x360 with 1 Axes>"
      ]
     },
     "metadata": {
      "needs_background": "light"
     },
     "output_type": "display_data"
    },
    {
     "data": {
      "image/png": "[encoded data removed]",
      "text/plain": [
       "<Figure size 360x360 with 1 Axes>"
      ]
     },
     "metadata": {
      "needs_background": "light"
     },
     "output_type": "display_data"
    },
    {
     "data": {
      "image/png": "[encoded data removed]",
      "text/plain": [
       "<Figure size 360x360 with 1 Axes>"
      ]
     },
     "metadata": {
      "needs_background": "light"
     },
     "output_type": "display_data"
    }
   ],
   "source": [
    "# Распределение числовых признаков по кластерам\n",
    "for column in [\n",
    "    'contract_period', \n",
    "    'age', \n",
    "    'avg_additional_charges_total', \n",
    "    'lifetime', \n",
    "    'avg_class_frequency_current_month', \n",
    "    'churn'\n",
    "]:\n",
    "    plt.figure(figsize=(5, 5))\n",
    "    sns.boxplot(data = data, x = 'cluster', y = data[column])\n",
    "    plt.show()"
   ]
  },
  {
   "cell_type": "markdown",
   "metadata": {},
   "source": [
    "<b>Кластер c минимальным оттоком (~2%, Кластер 3):</b>\n",
    "\n",
    "Все клиенты старше 30 лет, практически все клиенты живут рядом или работают с фитнес-центром, около 1/3 имеют партнерские отношения с центром и почти все сами пришли в фитнес-центр, а не по рекомендации знакомых. Длительность абонемента у этих клиентов высокий - около 6 месяцев как и \"срок жизни\".\n",
    "Эти клиенты склонны к посещению групповых занятий и тренеруются более двух раз в неделю. А так же с этих клиентов центр имеет большее всего дополнительных доходов.\n",
    "\n",
    "<b>Кластер с оттоком немного выше минимального (~12%, Кластер 0):</b>\n",
    "\n",
    "Средний возраст совсем чуть меньше 30 лет, практически все клиенты так же находятся рядом с фитнес-центром, доля участия в партнерской программе самая высокая и все клиенты пришли по программе \"приведи друга\". Длительность абонемента высокая - больше 6 месяцев, но \"срок жизни\" снижается. Все так же высокий процент посещения групповых занятий и среднее число занятий в неделю близко к двум. Дополнительны доходы с этих клиентов немного выше среднего.\n",
    "\n",
    "<b>Кластер с оттоком около четверти и близким к среднему значению (~27%, Кластер 4):</b>\n",
    "\n",
    "В большей мере находятся рядом с фитнес-центром, чуть меньше половины имеют партнерские отношения и около трети пришли от друзей. Длительность абонемента, срок до конца и \"срок жизни\" примерно одинаковые, около 4-4,5 месяцев.\n",
    "По остальным параметрам клиенты из группы особо не выделяются, значения очень близки к средним. Можно сказать, что они посещают фитнес-центр чуть реже чем клиенты из предыдущих групп. Примечательно, что никто не оставил телефон. \n",
    "\n",
    "<b>Кластер с оттоком чуть меньше половины (~40%, Кластер 1):</b>\n",
    "\n",
    "Средний возраст уже спустился ниже 29 лет. Никто не живет или работает рядом с фитнес-центром, около половины имеют партнерскую программу и рактически никто не учавствует в программе \"приведи друга\". Средний срок абонимента и \"срок жизни\" низкий - около трех месяцев, интенсивность занятий в неделю снижается до ~1,5 и очень низкая посещаемость групповых занятий.\n",
    "    \n",
    "<b>Лидер по оттоку - больше половины (~56%, Кластер 2):</b>\n",
    "\n",
    "Средний возраст самый низкий - чуть больше 27 лет. Как не странно все клиенты живут или работают рядом с фитнес-центром. Доля клинетов учавствующих в программах лояльности - самая низкая. Длительность абонемента и \"срок жизни\" клиента самые низкие - около двух месяцев. Средняя посещаемость в неделю чуть выше 1 занятия, низкая посещаемость групповых занятий и самые низкие дополнительные расходы с этих клиентов."
   ]
  },
  {
   "cell_type": "markdown",
   "metadata": {},
   "source": [
    "## Выводы и базовые рекомендации по работе с клиентами"
   ]
  },
  {
   "cell_type": "markdown",
   "metadata": {},
   "source": [
    "<b>Выводы:</b>\n",
    "\n",
    "В данной работе были проведены исследовательский анализ данных, построены две модели прогнозирования оттока клиентов и произведена кластеризация клиентов для определения поведенческих групп клиентов и отличительных признаков клиентов из оттока.\n",
    "\n",
    "В исследовательском анализе данных мы отметили, что на первый взгляд факторами оттока являются:\n",
    "* молодой возраст\n",
    "* проживание или работа не рядом с фитнес-центром\n",
    "* приобретение абонемента на месячный срок\n",
    "* отсутствие льготных программ\n",
    "* не посещения групповых занятий\n",
    "* низкая интенсивность занятий в неделю\n",
    "* до срока окончания абонемента остается месяц\n",
    "\n",
    "На основе данных мы обучили две модели по алгоритмам логистической регрессии и случайного леса. Модель логистической регрессии с кастомным порогом на валидационной выборке выдала наилучшие метрики, в дальнейшем для прогнозирования оттока клиентов можно применять именно ее.\n",
    "\n",
    "Также все клиенты были поделены на кластеры с помощью алгоритмов агломеративной иерархической кластеризации и K-Means.<br> Дополнительно мы отметили, что попавшие в отток имеют:\n",
    "* средний возраст около 27 лет\n",
    "* среднюю посещаемость в неделю чуть выше 1 занятия\n",
    "* самые низкие дополнительные траты около 120 у.е\n",
    "* низкие срок абонемента и \"срок жизни\" клиента около 2 месяцев.\n",
    "\n",
    "<b>Базовые рекомендации:</b>\n",
    "1. Предлагать оформлять со скидкой абонементы на длительный срок (6 и 12 месяцев) как новым клиентам, так и старым у которых в течение месяца закончится старый абонемент.\n",
    "2. Стимулировать посещения групповых занятий, например первое посещение бесплатно.\n",
    "3. Проанализировать старые и добавить новые дополнительные услуги. Рассмотреть изменение ценовой политики в сторону лояльности к клиенту.\n",
    "4. Разработать новые программы лояльности как для новых так и для старых клиентов."
   ]
  }
 ],
 "metadata": {
  "ExecuteTimeLog": [
   {
    "duration": 56,
    "start_time": "2022-06-03T06:56:41.388Z"
   },
   {
    "duration": 539,
    "start_time": "2022-06-03T06:57:43.029Z"
   },
   {
    "duration": 48,
    "start_time": "2022-06-03T07:07:30.242Z"
   },
   {
    "duration": 4,
    "start_time": "2022-06-03T07:16:51.428Z"
   },
   {
    "duration": 17,
    "start_time": "2022-06-03T07:16:58.901Z"
   },
   {
    "duration": 3,
    "start_time": "2022-06-03T07:17:18.953Z"
   },
   {
    "duration": 83,
    "start_time": "2022-06-03T07:18:01.089Z"
   },
   {
    "duration": 16,
    "start_time": "2022-06-03T07:19:53.736Z"
   },
   {
    "duration": 7,
    "start_time": "2022-06-03T07:23:00.536Z"
   },
   {
    "duration": 89,
    "start_time": "2022-06-06T11:47:01.871Z"
   },
   {
    "duration": 607,
    "start_time": "2022-06-06T11:47:07.839Z"
   },
   {
    "duration": 94,
    "start_time": "2022-06-06T11:47:08.448Z"
   },
   {
    "duration": 0,
    "start_time": "2022-06-06T11:47:08.544Z"
   },
   {
    "duration": 0,
    "start_time": "2022-06-06T11:47:08.545Z"
   },
   {
    "duration": 7,
    "start_time": "2022-06-06T11:47:27.287Z"
   },
   {
    "duration": 7,
    "start_time": "2022-06-06T11:47:38.880Z"
   },
   {
    "duration": 47,
    "start_time": "2022-06-06T11:48:40.242Z"
   },
   {
    "duration": 15,
    "start_time": "2022-06-06T11:48:43.349Z"
   },
   {
    "duration": 17,
    "start_time": "2022-06-06T11:48:50.715Z"
   },
   {
    "duration": 12,
    "start_time": "2022-06-06T11:57:16.743Z"
   },
   {
    "duration": 50,
    "start_time": "2022-06-06T12:36:11.704Z"
   },
   {
    "duration": 10,
    "start_time": "2022-06-06T13:11:26.598Z"
   },
   {
    "duration": 11,
    "start_time": "2022-06-06T13:11:41.410Z"
   },
   {
    "duration": 400,
    "start_time": "2022-06-06T13:12:10.420Z"
   },
   {
    "duration": 26,
    "start_time": "2022-06-06T13:12:13.689Z"
   },
   {
    "duration": 15,
    "start_time": "2022-06-06T13:15:19.130Z"
   },
   {
    "duration": 11,
    "start_time": "2022-06-06T13:16:00.479Z"
   },
   {
    "duration": 11,
    "start_time": "2022-06-06T13:16:27.186Z"
   },
   {
    "duration": 827,
    "start_time": "2022-06-06T13:16:38.985Z"
   },
   {
    "duration": 6,
    "start_time": "2022-06-06T13:16:39.814Z"
   },
   {
    "duration": 48,
    "start_time": "2022-06-06T13:16:39.822Z"
   },
   {
    "duration": 11,
    "start_time": "2022-06-06T13:16:39.871Z"
   },
   {
    "duration": 96,
    "start_time": "2022-06-06T13:16:39.884Z"
   },
   {
    "duration": 0,
    "start_time": "2022-06-06T13:16:39.981Z"
   },
   {
    "duration": 4,
    "start_time": "2022-06-06T13:16:54.391Z"
   },
   {
    "duration": 4,
    "start_time": "2022-06-06T13:17:03.728Z"
   },
   {
    "duration": 4,
    "start_time": "2022-06-06T13:17:09.743Z"
   },
   {
    "duration": 4,
    "start_time": "2022-06-06T13:17:31.429Z"
   },
   {
    "duration": 4,
    "start_time": "2022-06-06T13:19:13.619Z"
   },
   {
    "duration": 781,
    "start_time": "2022-06-06T13:19:22.565Z"
   },
   {
    "duration": 6,
    "start_time": "2022-06-06T13:19:23.348Z"
   },
   {
    "duration": 73,
    "start_time": "2022-06-06T13:19:23.356Z"
   },
   {
    "duration": 14,
    "start_time": "2022-06-06T13:19:23.430Z"
   },
   {
    "duration": 107,
    "start_time": "2022-06-06T13:19:23.446Z"
   },
   {
    "duration": 0,
    "start_time": "2022-06-06T13:19:23.555Z"
   },
   {
    "duration": 4,
    "start_time": "2022-06-06T13:19:34.989Z"
   },
   {
    "duration": 10,
    "start_time": "2022-06-06T13:19:48.265Z"
   },
   {
    "duration": 17,
    "start_time": "2022-06-06T13:20:02.467Z"
   },
   {
    "duration": 34,
    "start_time": "2022-06-06T13:22:02.813Z"
   },
   {
    "duration": 12,
    "start_time": "2022-06-06T13:22:30.310Z"
   },
   {
    "duration": 10,
    "start_time": "2022-06-06T13:23:01.912Z"
   },
   {
    "duration": 9,
    "start_time": "2022-06-06T13:23:11.966Z"
   },
   {
    "duration": 11,
    "start_time": "2022-06-06T13:23:21.667Z"
   },
   {
    "duration": 1155,
    "start_time": "2022-06-06T13:23:48.877Z"
   },
   {
    "duration": 7,
    "start_time": "2022-06-06T13:23:50.035Z"
   },
   {
    "duration": 60,
    "start_time": "2022-06-06T13:23:50.043Z"
   },
   {
    "duration": 22,
    "start_time": "2022-06-06T13:23:50.104Z"
   },
   {
    "duration": 112,
    "start_time": "2022-06-06T13:23:50.128Z"
   },
   {
    "duration": 0,
    "start_time": "2022-06-06T13:23:50.242Z"
   },
   {
    "duration": 2983,
    "start_time": "2022-06-06T13:34:49.729Z"
   },
   {
    "duration": 10,
    "start_time": "2022-06-06T13:57:08.189Z"
   },
   {
    "duration": 16,
    "start_time": "2022-06-06T13:57:23.785Z"
   },
   {
    "duration": 76,
    "start_time": "2022-06-07T11:24:30.485Z"
   },
   {
    "duration": 1698,
    "start_time": "2022-06-07T11:24:37.316Z"
   },
   {
    "duration": 6,
    "start_time": "2022-06-07T11:24:39.016Z"
   },
   {
    "duration": 85,
    "start_time": "2022-06-07T11:24:39.023Z"
   },
   {
    "duration": 11,
    "start_time": "2022-06-07T11:24:39.110Z"
   },
   {
    "duration": 153,
    "start_time": "2022-06-07T11:24:39.122Z"
   },
   {
    "duration": 0,
    "start_time": "2022-06-07T11:24:39.277Z"
   },
   {
    "duration": 12,
    "start_time": "2022-06-07T11:24:56.574Z"
   },
   {
    "duration": 767,
    "start_time": "2022-06-07T11:25:27.883Z"
   },
   {
    "duration": 727,
    "start_time": "2022-06-07T11:25:44.190Z"
   },
   {
    "duration": 12,
    "start_time": "2022-06-07T11:26:58.963Z"
   },
   {
    "duration": 647,
    "start_time": "2022-06-07T11:28:14.329Z"
   },
   {
    "duration": 626,
    "start_time": "2022-06-07T13:42:18.953Z"
   },
   {
    "duration": 1334,
    "start_time": "2022-06-07T13:59:52.564Z"
   },
   {
    "duration": 1209,
    "start_time": "2022-06-07T14:01:33.912Z"
   },
   {
    "duration": 4,
    "start_time": "2022-06-07T14:26:07.914Z"
   },
   {
    "duration": 56,
    "start_time": "2022-06-07T21:33:31.770Z"
   },
   {
    "duration": 1900,
    "start_time": "2022-06-07T21:35:38.198Z"
   },
   {
    "duration": 6,
    "start_time": "2022-06-07T21:35:40.100Z"
   },
   {
    "duration": 53,
    "start_time": "2022-06-07T21:35:40.107Z"
   },
   {
    "duration": 11,
    "start_time": "2022-06-07T21:35:40.162Z"
   },
   {
    "duration": 817,
    "start_time": "2022-06-07T21:35:40.175Z"
   },
   {
    "duration": 729,
    "start_time": "2022-06-07T21:35:40.994Z"
   },
   {
    "duration": 1611,
    "start_time": "2022-06-07T21:35:41.724Z"
   },
   {
    "duration": 4,
    "start_time": "2022-06-07T21:35:43.337Z"
   },
   {
    "duration": 52,
    "start_time": "2022-06-08T15:15:25.528Z"
   },
   {
    "duration": 1384,
    "start_time": "2022-06-08T15:15:33.121Z"
   },
   {
    "duration": 7,
    "start_time": "2022-06-08T15:15:34.507Z"
   },
   {
    "duration": 52,
    "start_time": "2022-06-08T15:15:34.516Z"
   },
   {
    "duration": 12,
    "start_time": "2022-06-08T15:15:34.578Z"
   },
   {
    "duration": 845,
    "start_time": "2022-06-08T15:15:34.592Z"
   },
   {
    "duration": 923,
    "start_time": "2022-06-08T15:15:35.439Z"
   },
   {
    "duration": 1615,
    "start_time": "2022-06-08T15:15:36.364Z"
   },
   {
    "duration": 4,
    "start_time": "2022-06-08T15:15:37.981Z"
   },
   {
    "duration": 125,
    "start_time": "2022-06-08T15:15:37.987Z"
   },
   {
    "duration": 398,
    "start_time": "2022-06-08T15:18:59.449Z"
   },
   {
    "duration": 33,
    "start_time": "2022-06-08T15:19:03.447Z"
   },
   {
    "duration": 19,
    "start_time": "2022-06-08T15:19:44.514Z"
   },
   {
    "duration": 1376,
    "start_time": "2022-06-08T15:19:55.348Z"
   },
   {
    "duration": 6,
    "start_time": "2022-06-08T15:19:56.726Z"
   },
   {
    "duration": 56,
    "start_time": "2022-06-08T15:19:56.734Z"
   },
   {
    "duration": 12,
    "start_time": "2022-06-08T15:19:56.791Z"
   },
   {
    "duration": 923,
    "start_time": "2022-06-08T15:19:56.806Z"
   },
   {
    "duration": 806,
    "start_time": "2022-06-08T15:19:57.731Z"
   },
   {
    "duration": 1680,
    "start_time": "2022-06-08T15:19:58.539Z"
   },
   {
    "duration": 4,
    "start_time": "2022-06-08T15:20:00.220Z"
   },
   {
    "duration": 18,
    "start_time": "2022-06-08T15:20:00.226Z"
   },
   {
    "duration": 34,
    "start_time": "2022-06-08T15:20:00.246Z"
   },
   {
    "duration": 139,
    "start_time": "2022-06-08T15:21:45.615Z"
   },
   {
    "duration": 138,
    "start_time": "2022-06-08T15:24:59.288Z"
   },
   {
    "duration": 1501,
    "start_time": "2022-06-08T15:25:07.612Z"
   },
   {
    "duration": 10,
    "start_time": "2022-06-08T15:25:09.117Z"
   },
   {
    "duration": 71,
    "start_time": "2022-06-08T15:25:09.129Z"
   },
   {
    "duration": 11,
    "start_time": "2022-06-08T15:25:09.202Z"
   },
   {
    "duration": 931,
    "start_time": "2022-06-08T15:25:09.215Z"
   },
   {
    "duration": 825,
    "start_time": "2022-06-08T15:25:10.149Z"
   },
   {
    "duration": 1590,
    "start_time": "2022-06-08T15:25:10.977Z"
   },
   {
    "duration": 4,
    "start_time": "2022-06-08T15:25:12.569Z"
   },
   {
    "duration": 139,
    "start_time": "2022-06-08T15:25:12.574Z"
   },
   {
    "duration": 50,
    "start_time": "2022-06-08T21:26:54.567Z"
   },
   {
    "duration": 1912,
    "start_time": "2022-06-08T21:27:07.805Z"
   },
   {
    "duration": 27,
    "start_time": "2022-06-08T21:27:09.720Z"
   },
   {
    "duration": 103,
    "start_time": "2022-06-08T21:27:09.749Z"
   },
   {
    "duration": 24,
    "start_time": "2022-06-08T21:27:09.855Z"
   },
   {
    "duration": 1124,
    "start_time": "2022-06-08T21:27:09.882Z"
   },
   {
    "duration": 937,
    "start_time": "2022-06-08T21:27:11.008Z"
   },
   {
    "duration": 2035,
    "start_time": "2022-06-08T21:27:11.948Z"
   },
   {
    "duration": 4,
    "start_time": "2022-06-08T21:27:13.985Z"
   },
   {
    "duration": 656,
    "start_time": "2022-06-08T21:27:13.991Z"
   },
   {
    "duration": 1034,
    "start_time": "2022-06-08T21:29:30.919Z"
   },
   {
    "duration": 810,
    "start_time": "2022-06-08T21:31:23.626Z"
   },
   {
    "duration": 887,
    "start_time": "2022-06-08T21:34:01.780Z"
   },
   {
    "duration": 819,
    "start_time": "2022-06-08T21:37:22.997Z"
   },
   {
    "duration": 52,
    "start_time": "2022-06-08T21:39:20.651Z"
   },
   {
    "duration": 1443,
    "start_time": "2022-06-08T21:40:41.637Z"
   },
   {
    "duration": 8,
    "start_time": "2022-06-08T21:40:43.082Z"
   },
   {
    "duration": 55,
    "start_time": "2022-06-08T21:40:43.092Z"
   },
   {
    "duration": 14,
    "start_time": "2022-06-08T21:40:43.148Z"
   },
   {
    "duration": 1042,
    "start_time": "2022-06-08T21:40:43.164Z"
   },
   {
    "duration": 967,
    "start_time": "2022-06-08T21:40:44.208Z"
   },
   {
    "duration": 1702,
    "start_time": "2022-06-08T21:40:45.177Z"
   },
   {
    "duration": 5,
    "start_time": "2022-06-08T21:40:46.882Z"
   },
   {
    "duration": 350,
    "start_time": "2022-06-08T21:40:46.889Z"
   },
   {
    "duration": 341,
    "start_time": "2022-06-08T21:41:18.439Z"
   },
   {
    "duration": 114,
    "start_time": "2022-06-08T22:04:39.753Z"
   },
   {
    "duration": 1462,
    "start_time": "2022-06-08T22:04:50.191Z"
   },
   {
    "duration": 7,
    "start_time": "2022-06-08T22:04:51.655Z"
   },
   {
    "duration": 77,
    "start_time": "2022-06-08T22:04:51.664Z"
   },
   {
    "duration": 14,
    "start_time": "2022-06-08T22:04:51.745Z"
   },
   {
    "duration": 1038,
    "start_time": "2022-06-08T22:04:51.761Z"
   },
   {
    "duration": 899,
    "start_time": "2022-06-08T22:04:52.802Z"
   },
   {
    "duration": 1772,
    "start_time": "2022-06-08T22:04:53.703Z"
   },
   {
    "duration": 5,
    "start_time": "2022-06-08T22:04:55.477Z"
   },
   {
    "duration": 464,
    "start_time": "2022-06-08T22:04:55.484Z"
   },
   {
    "duration": 18,
    "start_time": "2022-06-08T22:04:55.955Z"
   },
   {
    "duration": 17,
    "start_time": "2022-06-08T22:10:47.260Z"
   },
   {
    "duration": 22,
    "start_time": "2022-06-08T22:12:52.281Z"
   },
   {
    "duration": 235,
    "start_time": "2022-06-08T22:19:18.972Z"
   },
   {
    "duration": 1711,
    "start_time": "2022-06-08T22:19:25.509Z"
   },
   {
    "duration": 0,
    "start_time": "2022-06-08T22:19:27.223Z"
   },
   {
    "duration": 0,
    "start_time": "2022-06-08T22:19:27.230Z"
   },
   {
    "duration": 0,
    "start_time": "2022-06-08T22:19:27.231Z"
   },
   {
    "duration": 0,
    "start_time": "2022-06-08T22:19:27.232Z"
   },
   {
    "duration": 0,
    "start_time": "2022-06-08T22:19:27.232Z"
   },
   {
    "duration": 0,
    "start_time": "2022-06-08T22:19:27.236Z"
   },
   {
    "duration": 0,
    "start_time": "2022-06-08T22:19:27.237Z"
   },
   {
    "duration": 0,
    "start_time": "2022-06-08T22:19:27.238Z"
   },
   {
    "duration": 0,
    "start_time": "2022-06-08T22:19:27.239Z"
   },
   {
    "duration": 0,
    "start_time": "2022-06-08T22:19:27.239Z"
   },
   {
    "duration": 1628,
    "start_time": "2022-06-08T22:19:54.806Z"
   },
   {
    "duration": 0,
    "start_time": "2022-06-08T22:19:56.436Z"
   },
   {
    "duration": 0,
    "start_time": "2022-06-08T22:19:56.437Z"
   },
   {
    "duration": 0,
    "start_time": "2022-06-08T22:19:56.439Z"
   },
   {
    "duration": 0,
    "start_time": "2022-06-08T22:19:56.439Z"
   },
   {
    "duration": 0,
    "start_time": "2022-06-08T22:19:56.440Z"
   },
   {
    "duration": 0,
    "start_time": "2022-06-08T22:19:56.443Z"
   },
   {
    "duration": 0,
    "start_time": "2022-06-08T22:19:56.443Z"
   },
   {
    "duration": 0,
    "start_time": "2022-06-08T22:19:56.445Z"
   },
   {
    "duration": 0,
    "start_time": "2022-06-08T22:19:56.447Z"
   },
   {
    "duration": 0,
    "start_time": "2022-06-08T22:19:56.447Z"
   },
   {
    "duration": 1468,
    "start_time": "2022-06-08T22:22:54.507Z"
   },
   {
    "duration": 11,
    "start_time": "2022-06-08T22:22:55.977Z"
   },
   {
    "duration": 93,
    "start_time": "2022-06-08T22:22:55.990Z"
   },
   {
    "duration": 20,
    "start_time": "2022-06-08T22:22:56.086Z"
   },
   {
    "duration": 1087,
    "start_time": "2022-06-08T22:22:56.109Z"
   },
   {
    "duration": 943,
    "start_time": "2022-06-08T22:22:57.198Z"
   },
   {
    "duration": 1699,
    "start_time": "2022-06-08T22:22:58.143Z"
   },
   {
    "duration": 6,
    "start_time": "2022-06-08T22:22:59.844Z"
   },
   {
    "duration": 388,
    "start_time": "2022-06-08T22:22:59.852Z"
   },
   {
    "duration": 27,
    "start_time": "2022-06-08T22:23:00.247Z"
   },
   {
    "duration": 15,
    "start_time": "2022-06-08T22:23:00.277Z"
   },
   {
    "duration": 52,
    "start_time": "2022-06-09T08:34:07.924Z"
   },
   {
    "duration": 1649,
    "start_time": "2022-06-09T08:34:15.179Z"
   },
   {
    "duration": 6,
    "start_time": "2022-06-09T08:34:16.830Z"
   },
   {
    "duration": 44,
    "start_time": "2022-06-09T08:34:16.838Z"
   },
   {
    "duration": 35,
    "start_time": "2022-06-09T08:34:16.883Z"
   },
   {
    "duration": 875,
    "start_time": "2022-06-09T08:34:16.921Z"
   },
   {
    "duration": 791,
    "start_time": "2022-06-09T08:34:17.798Z"
   },
   {
    "duration": 1759,
    "start_time": "2022-06-09T08:34:18.594Z"
   },
   {
    "duration": 4,
    "start_time": "2022-06-09T08:34:20.355Z"
   },
   {
    "duration": 137,
    "start_time": "2022-06-09T08:34:20.360Z"
   },
   {
    "duration": 0,
    "start_time": "2022-06-09T08:34:20.505Z"
   },
   {
    "duration": 0,
    "start_time": "2022-06-09T08:34:20.506Z"
   },
   {
    "duration": 1406,
    "start_time": "2022-06-09T08:35:10.874Z"
   },
   {
    "duration": 6,
    "start_time": "2022-06-09T08:35:12.282Z"
   },
   {
    "duration": 74,
    "start_time": "2022-06-09T08:35:12.290Z"
   },
   {
    "duration": 12,
    "start_time": "2022-06-09T08:35:12.365Z"
   },
   {
    "duration": 939,
    "start_time": "2022-06-09T08:35:12.380Z"
   },
   {
    "duration": 824,
    "start_time": "2022-06-09T08:35:13.321Z"
   },
   {
    "duration": 1672,
    "start_time": "2022-06-09T08:35:14.147Z"
   },
   {
    "duration": 4,
    "start_time": "2022-06-09T08:35:15.822Z"
   },
   {
    "duration": 1529,
    "start_time": "2022-06-09T08:35:15.827Z"
   },
   {
    "duration": 16,
    "start_time": "2022-06-09T08:35:17.357Z"
   },
   {
    "duration": 26,
    "start_time": "2022-06-09T08:35:17.374Z"
   },
   {
    "duration": 663,
    "start_time": "2022-06-09T08:35:51.587Z"
   },
   {
    "duration": 599,
    "start_time": "2022-06-09T08:36:12.346Z"
   },
   {
    "duration": 443,
    "start_time": "2022-06-09T08:36:24.222Z"
   },
   {
    "duration": 456,
    "start_time": "2022-06-09T08:36:36.608Z"
   },
   {
    "duration": 624,
    "start_time": "2022-06-09T08:37:19.268Z"
   },
   {
    "duration": 1033,
    "start_time": "2022-06-09T08:37:30.188Z"
   },
   {
    "duration": 3202,
    "start_time": "2022-06-09T08:37:37.119Z"
   },
   {
    "duration": 2170,
    "start_time": "2022-06-09T08:37:48.200Z"
   },
   {
    "duration": 3106,
    "start_time": "2022-06-09T08:37:58.020Z"
   },
   {
    "duration": 3338,
    "start_time": "2022-06-09T08:38:07.709Z"
   },
   {
    "duration": 3218,
    "start_time": "2022-06-09T08:38:16.449Z"
   },
   {
    "duration": 3334,
    "start_time": "2022-06-09T08:38:26.364Z"
   },
   {
    "duration": 3349,
    "start_time": "2022-06-09T08:38:36.166Z"
   },
   {
    "duration": 3243,
    "start_time": "2022-06-09T08:38:49.307Z"
   },
   {
    "duration": 1946,
    "start_time": "2022-06-09T08:39:23.910Z"
   },
   {
    "duration": 1065,
    "start_time": "2022-06-09T08:39:32.619Z"
   },
   {
    "duration": 1432,
    "start_time": "2022-06-09T08:39:40.736Z"
   },
   {
    "duration": 1477,
    "start_time": "2022-06-09T08:39:49.819Z"
   },
   {
    "duration": 1559,
    "start_time": "2022-06-09T08:39:57.302Z"
   },
   {
    "duration": 32,
    "start_time": "2022-06-09T08:40:20.115Z"
   },
   {
    "duration": 8,
    "start_time": "2022-06-09T08:40:35.775Z"
   },
   {
    "duration": 1499,
    "start_time": "2022-06-09T08:41:35.280Z"
   },
   {
    "duration": 6,
    "start_time": "2022-06-09T08:41:36.780Z"
   },
   {
    "duration": 75,
    "start_time": "2022-06-09T08:41:36.788Z"
   },
   {
    "duration": 10,
    "start_time": "2022-06-09T08:41:36.865Z"
   },
   {
    "duration": 973,
    "start_time": "2022-06-09T08:41:36.878Z"
   },
   {
    "duration": 868,
    "start_time": "2022-06-09T08:41:37.853Z"
   },
   {
    "duration": 1770,
    "start_time": "2022-06-09T08:41:38.723Z"
   },
   {
    "duration": 6,
    "start_time": "2022-06-09T08:41:40.496Z"
   },
   {
    "duration": 500,
    "start_time": "2022-06-09T08:41:40.504Z"
   },
   {
    "duration": 22,
    "start_time": "2022-06-09T08:41:41.008Z"
   },
   {
    "duration": 15,
    "start_time": "2022-06-09T08:41:41.033Z"
   },
   {
    "duration": 8,
    "start_time": "2022-06-09T08:55:31.829Z"
   },
   {
    "duration": 1373,
    "start_time": "2022-06-09T08:56:25.218Z"
   },
   {
    "duration": 21,
    "start_time": "2022-06-09T08:56:26.593Z"
   },
   {
    "duration": 51,
    "start_time": "2022-06-09T08:56:26.616Z"
   },
   {
    "duration": 10,
    "start_time": "2022-06-09T08:56:26.669Z"
   },
   {
    "duration": 982,
    "start_time": "2022-06-09T08:56:26.681Z"
   },
   {
    "duration": 859,
    "start_time": "2022-06-09T08:56:27.665Z"
   },
   {
    "duration": 1882,
    "start_time": "2022-06-09T08:56:28.528Z"
   },
   {
    "duration": 8,
    "start_time": "2022-06-09T08:56:30.413Z"
   },
   {
    "duration": 433,
    "start_time": "2022-06-09T08:56:30.426Z"
   },
   {
    "duration": 16,
    "start_time": "2022-06-09T08:56:30.860Z"
   },
   {
    "duration": 27,
    "start_time": "2022-06-09T08:56:30.878Z"
   },
   {
    "duration": 1424,
    "start_time": "2022-06-09T08:56:55.878Z"
   },
   {
    "duration": 9,
    "start_time": "2022-06-09T08:56:57.312Z"
   },
   {
    "duration": 53,
    "start_time": "2022-06-09T08:56:57.323Z"
   },
   {
    "duration": 12,
    "start_time": "2022-06-09T08:56:57.378Z"
   },
   {
    "duration": 934,
    "start_time": "2022-06-09T08:56:57.392Z"
   },
   {
    "duration": 860,
    "start_time": "2022-06-09T08:56:58.327Z"
   },
   {
    "duration": 1671,
    "start_time": "2022-06-09T08:56:59.194Z"
   },
   {
    "duration": 4,
    "start_time": "2022-06-09T08:57:00.867Z"
   },
   {
    "duration": 400,
    "start_time": "2022-06-09T08:57:00.872Z"
   },
   {
    "duration": 29,
    "start_time": "2022-06-09T08:57:01.273Z"
   },
   {
    "duration": 23,
    "start_time": "2022-06-09T08:57:01.306Z"
   },
   {
    "duration": 1351,
    "start_time": "2022-06-09T09:30:53.214Z"
   },
   {
    "duration": 1301,
    "start_time": "2022-06-09T09:31:02.187Z"
   },
   {
    "duration": 730,
    "start_time": "2022-06-09T09:31:25.131Z"
   },
   {
    "duration": 1095,
    "start_time": "2022-06-09T09:31:58.426Z"
   },
   {
    "duration": 678,
    "start_time": "2022-06-09T09:32:02.457Z"
   },
   {
    "duration": 1582,
    "start_time": "2022-06-09T09:32:16.926Z"
   },
   {
    "duration": 16,
    "start_time": "2022-06-09T09:32:18.520Z"
   },
   {
    "duration": 54,
    "start_time": "2022-06-09T09:32:18.541Z"
   },
   {
    "duration": 27,
    "start_time": "2022-06-09T09:32:18.599Z"
   },
   {
    "duration": 1197,
    "start_time": "2022-06-09T09:32:18.628Z"
   },
   {
    "duration": 1080,
    "start_time": "2022-06-09T09:32:19.828Z"
   },
   {
    "duration": 1775,
    "start_time": "2022-06-09T09:32:20.914Z"
   },
   {
    "duration": 14,
    "start_time": "2022-06-09T09:32:22.690Z"
   },
   {
    "duration": 421,
    "start_time": "2022-06-09T09:32:22.710Z"
   },
   {
    "duration": 23,
    "start_time": "2022-06-09T09:32:23.134Z"
   },
   {
    "duration": 8,
    "start_time": "2022-06-09T09:32:23.159Z"
   },
   {
    "duration": 133,
    "start_time": "2022-06-09T09:50:00.324Z"
   },
   {
    "duration": 18,
    "start_time": "2022-06-09T09:50:30.658Z"
   },
   {
    "duration": 1555,
    "start_time": "2022-06-09T09:51:06.866Z"
   },
   {
    "duration": 8,
    "start_time": "2022-06-09T09:51:08.423Z"
   },
   {
    "duration": 70,
    "start_time": "2022-06-09T09:51:08.433Z"
   },
   {
    "duration": 28,
    "start_time": "2022-06-09T09:51:08.505Z"
   },
   {
    "duration": 1096,
    "start_time": "2022-06-09T09:51:08.536Z"
   },
   {
    "duration": 913,
    "start_time": "2022-06-09T09:51:09.634Z"
   },
   {
    "duration": 1828,
    "start_time": "2022-06-09T09:51:10.549Z"
   },
   {
    "duration": 5,
    "start_time": "2022-06-09T09:51:12.379Z"
   },
   {
    "duration": 520,
    "start_time": "2022-06-09T09:51:12.386Z"
   },
   {
    "duration": 21,
    "start_time": "2022-06-09T09:51:12.916Z"
   },
   {
    "duration": 16,
    "start_time": "2022-06-09T09:51:12.939Z"
   },
   {
    "duration": 151,
    "start_time": "2022-06-09T09:51:12.958Z"
   },
   {
    "duration": 127029,
    "start_time": "2022-06-09T09:55:54.295Z"
   },
   {
    "duration": 124251,
    "start_time": "2022-06-09T10:02:11.562Z"
   },
   {
    "duration": 962,
    "start_time": "2022-06-09T10:05:50.663Z"
   },
   {
    "duration": 1053,
    "start_time": "2022-06-09T10:06:16.060Z"
   },
   {
    "duration": 992,
    "start_time": "2022-06-09T10:07:26.222Z"
   },
   {
    "duration": 119697,
    "start_time": "2022-06-09T10:07:58.121Z"
   },
   {
    "duration": 988,
    "start_time": "2022-06-09T10:10:22.096Z"
   },
   {
    "duration": 1101,
    "start_time": "2022-06-09T10:13:32.852Z"
   },
   {
    "duration": 975,
    "start_time": "2022-06-09T10:16:41.148Z"
   },
   {
    "duration": 1374,
    "start_time": "2022-06-09T10:16:58.885Z"
   },
   {
    "duration": 13,
    "start_time": "2022-06-09T10:31:43.189Z"
   },
   {
    "duration": 1464,
    "start_time": "2022-06-09T10:31:56.409Z"
   },
   {
    "duration": 7,
    "start_time": "2022-06-09T10:31:57.875Z"
   },
   {
    "duration": 52,
    "start_time": "2022-06-09T10:31:57.884Z"
   },
   {
    "duration": 12,
    "start_time": "2022-06-09T10:31:57.937Z"
   },
   {
    "duration": 928,
    "start_time": "2022-06-09T10:31:57.952Z"
   },
   {
    "duration": 950,
    "start_time": "2022-06-09T10:31:58.881Z"
   },
   {
    "duration": 1725,
    "start_time": "2022-06-09T10:31:59.832Z"
   },
   {
    "duration": 4,
    "start_time": "2022-06-09T10:32:01.559Z"
   },
   {
    "duration": 481,
    "start_time": "2022-06-09T10:32:01.564Z"
   },
   {
    "duration": 17,
    "start_time": "2022-06-09T10:32:02.048Z"
   },
   {
    "duration": 57,
    "start_time": "2022-06-09T10:32:02.067Z"
   },
   {
    "duration": 1020,
    "start_time": "2022-06-09T10:32:02.126Z"
   },
   {
    "duration": 159,
    "start_time": "2022-06-09T10:32:03.147Z"
   },
   {
    "duration": 1543,
    "start_time": "2022-06-09T10:32:16.885Z"
   },
   {
    "duration": 7,
    "start_time": "2022-06-09T10:32:18.429Z"
   },
   {
    "duration": 66,
    "start_time": "2022-06-09T10:32:18.437Z"
   },
   {
    "duration": 14,
    "start_time": "2022-06-09T10:32:18.504Z"
   },
   {
    "duration": 1031,
    "start_time": "2022-06-09T10:32:18.521Z"
   },
   {
    "duration": 863,
    "start_time": "2022-06-09T10:32:19.555Z"
   },
   {
    "duration": 1657,
    "start_time": "2022-06-09T10:32:20.420Z"
   },
   {
    "duration": 4,
    "start_time": "2022-06-09T10:32:22.079Z"
   },
   {
    "duration": 404,
    "start_time": "2022-06-09T10:32:22.085Z"
   },
   {
    "duration": 19,
    "start_time": "2022-06-09T10:32:22.497Z"
   },
   {
    "duration": 26,
    "start_time": "2022-06-09T10:32:22.518Z"
   },
   {
    "duration": 984,
    "start_time": "2022-06-09T10:32:22.546Z"
   },
   {
    "duration": 1561,
    "start_time": "2022-06-09T10:32:23.532Z"
   },
   {
    "duration": 1236,
    "start_time": "2022-06-09T10:37:55.177Z"
   },
   {
    "duration": 57,
    "start_time": "2022-06-09T10:38:14.527Z"
   },
   {
    "duration": 1496,
    "start_time": "2022-06-09T10:38:19.952Z"
   },
   {
    "duration": 8,
    "start_time": "2022-06-09T10:38:21.450Z"
   },
   {
    "duration": 54,
    "start_time": "2022-06-09T10:38:21.459Z"
   },
   {
    "duration": 12,
    "start_time": "2022-06-09T10:38:21.514Z"
   },
   {
    "duration": 935,
    "start_time": "2022-06-09T10:38:21.528Z"
   },
   {
    "duration": 826,
    "start_time": "2022-06-09T10:38:22.465Z"
   },
   {
    "duration": 1664,
    "start_time": "2022-06-09T10:38:23.297Z"
   },
   {
    "duration": 4,
    "start_time": "2022-06-09T10:38:24.963Z"
   },
   {
    "duration": 385,
    "start_time": "2022-06-09T10:38:24.969Z"
   },
   {
    "duration": 15,
    "start_time": "2022-06-09T10:38:25.355Z"
   },
   {
    "duration": 26,
    "start_time": "2022-06-09T10:38:25.372Z"
   },
   {
    "duration": 935,
    "start_time": "2022-06-09T10:38:25.400Z"
   },
   {
    "duration": 29599,
    "start_time": "2022-06-09T10:38:26.336Z"
   },
   {
    "duration": 557,
    "start_time": "2022-06-09T10:38:55.938Z"
   },
   {
    "duration": 30835,
    "start_time": "2022-06-09T10:41:19.153Z"
   },
   {
    "duration": 28075,
    "start_time": "2022-06-09T10:44:07.087Z"
   },
   {
    "duration": 1171,
    "start_time": "2022-06-09T10:45:51.446Z"
   },
   {
    "duration": 1969,
    "start_time": "2022-06-09T10:46:41.819Z"
   },
   {
    "duration": 9,
    "start_time": "2022-06-09T10:48:15.578Z"
   },
   {
    "duration": 16,
    "start_time": "2022-06-09T10:48:30.172Z"
   },
   {
    "duration": 1716,
    "start_time": "2022-06-09T10:49:04.487Z"
   },
   {
    "duration": 18,
    "start_time": "2022-06-09T10:49:06.209Z"
   },
   {
    "duration": 7,
    "start_time": "2022-06-09T10:52:29.961Z"
   },
   {
    "duration": 12,
    "start_time": "2022-06-09T10:53:28.952Z"
   },
   {
    "duration": 18,
    "start_time": "2022-06-09T10:53:42.706Z"
   },
   {
    "duration": 20,
    "start_time": "2022-06-09T10:54:18.630Z"
   },
   {
    "duration": 26,
    "start_time": "2022-06-09T10:54:40.006Z"
   },
   {
    "duration": 19,
    "start_time": "2022-06-09T10:54:52.324Z"
   },
   {
    "duration": 22,
    "start_time": "2022-06-09T10:55:02.458Z"
   },
   {
    "duration": 23,
    "start_time": "2022-06-09T10:56:38.991Z"
   },
   {
    "duration": 24,
    "start_time": "2022-06-09T10:56:50.524Z"
   },
   {
    "duration": 1415,
    "start_time": "2022-06-09T10:59:04.088Z"
   },
   {
    "duration": 7,
    "start_time": "2022-06-09T10:59:05.509Z"
   },
   {
    "duration": 54,
    "start_time": "2022-06-09T10:59:05.520Z"
   },
   {
    "duration": 11,
    "start_time": "2022-06-09T10:59:05.576Z"
   },
   {
    "duration": 884,
    "start_time": "2022-06-09T10:59:05.589Z"
   },
   {
    "duration": 774,
    "start_time": "2022-06-09T10:59:06.475Z"
   },
   {
    "duration": 1627,
    "start_time": "2022-06-09T10:59:07.250Z"
   },
   {
    "duration": 4,
    "start_time": "2022-06-09T10:59:08.878Z"
   },
   {
    "duration": 467,
    "start_time": "2022-06-09T10:59:08.885Z"
   },
   {
    "duration": 16,
    "start_time": "2022-06-09T10:59:09.354Z"
   },
   {
    "duration": 29,
    "start_time": "2022-06-09T10:59:09.372Z"
   },
   {
    "duration": 1015,
    "start_time": "2022-06-09T10:59:09.403Z"
   },
   {
    "duration": 1841,
    "start_time": "2022-06-09T10:59:10.421Z"
   },
   {
    "duration": 21,
    "start_time": "2022-06-09T10:59:12.263Z"
   },
   {
    "duration": 1622,
    "start_time": "2022-06-09T11:04:09.683Z"
   },
   {
    "duration": 1490,
    "start_time": "2022-06-09T11:04:17.535Z"
   },
   {
    "duration": 8,
    "start_time": "2022-06-09T11:04:19.028Z"
   },
   {
    "duration": 75,
    "start_time": "2022-06-09T11:04:19.039Z"
   },
   {
    "duration": 16,
    "start_time": "2022-06-09T11:04:19.116Z"
   },
   {
    "duration": 981,
    "start_time": "2022-06-09T11:04:19.134Z"
   },
   {
    "duration": 779,
    "start_time": "2022-06-09T11:04:20.117Z"
   },
   {
    "duration": 1579,
    "start_time": "2022-06-09T11:04:20.898Z"
   },
   {
    "duration": 4,
    "start_time": "2022-06-09T11:04:22.478Z"
   },
   {
    "duration": 370,
    "start_time": "2022-06-09T11:04:22.483Z"
   },
   {
    "duration": 15,
    "start_time": "2022-06-09T11:04:22.855Z"
   },
   {
    "duration": 29,
    "start_time": "2022-06-09T11:04:22.872Z"
   },
   {
    "duration": 923,
    "start_time": "2022-06-09T11:04:22.902Z"
   },
   {
    "duration": 1643,
    "start_time": "2022-06-09T11:04:23.827Z"
   },
   {
    "duration": 32,
    "start_time": "2022-06-09T11:04:25.472Z"
   },
   {
    "duration": 1448,
    "start_time": "2022-06-09T11:05:34.461Z"
   },
   {
    "duration": 6,
    "start_time": "2022-06-09T11:05:35.911Z"
   },
   {
    "duration": 60,
    "start_time": "2022-06-09T11:05:35.919Z"
   },
   {
    "duration": 32,
    "start_time": "2022-06-09T11:05:35.981Z"
   },
   {
    "duration": 861,
    "start_time": "2022-06-09T11:05:36.015Z"
   },
   {
    "duration": 779,
    "start_time": "2022-06-09T11:05:36.878Z"
   },
   {
    "duration": 1653,
    "start_time": "2022-06-09T11:05:37.659Z"
   },
   {
    "duration": 5,
    "start_time": "2022-06-09T11:05:39.314Z"
   },
   {
    "duration": 417,
    "start_time": "2022-06-09T11:05:39.321Z"
   },
   {
    "duration": 14,
    "start_time": "2022-06-09T11:05:39.740Z"
   },
   {
    "duration": 6,
    "start_time": "2022-06-09T11:05:39.756Z"
   },
   {
    "duration": 1034,
    "start_time": "2022-06-09T11:05:39.764Z"
   },
   {
    "duration": 1492,
    "start_time": "2022-06-09T11:05:40.800Z"
   },
   {
    "duration": 23,
    "start_time": "2022-06-09T11:05:42.294Z"
   },
   {
    "duration": 956,
    "start_time": "2022-06-09T11:12:25.724Z"
   },
   {
    "duration": 752,
    "start_time": "2022-06-09T11:15:07.858Z"
   },
   {
    "duration": 791,
    "start_time": "2022-06-09T11:15:47.966Z"
   },
   {
    "duration": 1015,
    "start_time": "2022-06-09T11:16:58.872Z"
   },
   {
    "duration": 934,
    "start_time": "2022-06-09T11:18:12.119Z"
   },
   {
    "duration": 1100,
    "start_time": "2022-06-09T11:26:37.384Z"
   },
   {
    "duration": 925,
    "start_time": "2022-06-09T11:27:47.227Z"
   },
   {
    "duration": 12,
    "start_time": "2022-06-09T11:33:22.323Z"
   },
   {
    "duration": 1632,
    "start_time": "2022-06-10T11:47:24.976Z"
   },
   {
    "duration": 106,
    "start_time": "2022-06-10T11:47:26.718Z"
   },
   {
    "duration": 633,
    "start_time": "2022-06-10T11:59:57.031Z"
   },
   {
    "duration": 698,
    "start_time": "2022-06-10T12:00:23.452Z"
   },
   {
    "duration": 672,
    "start_time": "2022-06-10T12:02:32.660Z"
   },
   {
    "duration": 653,
    "start_time": "2022-06-10T12:09:24.808Z"
   },
   {
    "duration": 616,
    "start_time": "2022-06-10T12:10:17.537Z"
   },
   {
    "duration": 784,
    "start_time": "2022-06-10T12:10:45.708Z"
   },
   {
    "duration": 638,
    "start_time": "2022-06-10T12:13:10.524Z"
   },
   {
    "duration": 1391,
    "start_time": "2022-06-10T12:13:18.844Z"
   },
   {
    "duration": 68,
    "start_time": "2022-06-10T12:13:20.237Z"
   },
   {
    "duration": 7,
    "start_time": "2022-06-10T12:13:20.307Z"
   },
   {
    "duration": 45,
    "start_time": "2022-06-10T12:13:20.316Z"
   },
   {
    "duration": 11,
    "start_time": "2022-06-10T12:13:20.362Z"
   },
   {
    "duration": 780,
    "start_time": "2022-06-10T12:13:20.374Z"
   },
   {
    "duration": 0,
    "start_time": "2022-06-10T12:13:21.156Z"
   },
   {
    "duration": 0,
    "start_time": "2022-06-10T12:13:21.157Z"
   },
   {
    "duration": 0,
    "start_time": "2022-06-10T12:13:21.158Z"
   },
   {
    "duration": 0,
    "start_time": "2022-06-10T12:13:21.159Z"
   },
   {
    "duration": 0,
    "start_time": "2022-06-10T12:13:21.160Z"
   },
   {
    "duration": 0,
    "start_time": "2022-06-10T12:13:21.161Z"
   },
   {
    "duration": 0,
    "start_time": "2022-06-10T12:13:21.162Z"
   },
   {
    "duration": 0,
    "start_time": "2022-06-10T12:13:21.163Z"
   },
   {
    "duration": 0,
    "start_time": "2022-06-10T12:13:21.164Z"
   },
   {
    "duration": 0,
    "start_time": "2022-06-10T12:13:21.165Z"
   },
   {
    "duration": 0,
    "start_time": "2022-06-10T12:13:21.166Z"
   },
   {
    "duration": 911,
    "start_time": "2022-06-10T12:13:57.129Z"
   },
   {
    "duration": 723,
    "start_time": "2022-06-10T12:14:17.688Z"
   },
   {
    "duration": 690,
    "start_time": "2022-06-10T12:15:36.475Z"
   },
   {
    "duration": 750,
    "start_time": "2022-06-10T12:17:57.993Z"
   },
   {
    "duration": 620,
    "start_time": "2022-06-10T12:18:09.433Z"
   },
   {
    "duration": 725,
    "start_time": "2022-06-10T12:18:31.604Z"
   },
   {
    "duration": 684,
    "start_time": "2022-06-10T12:18:47.883Z"
   },
   {
    "duration": 833,
    "start_time": "2022-06-10T12:19:33.009Z"
   },
   {
    "duration": 623,
    "start_time": "2022-06-10T12:20:13.028Z"
   },
   {
    "duration": 673,
    "start_time": "2022-06-10T12:20:24.610Z"
   },
   {
    "duration": 802,
    "start_time": "2022-06-10T12:20:37.186Z"
   },
   {
    "duration": 658,
    "start_time": "2022-06-10T12:22:02.549Z"
   },
   {
    "duration": 701,
    "start_time": "2022-06-10T12:25:50.613Z"
   },
   {
    "duration": 642,
    "start_time": "2022-06-10T12:25:57.356Z"
   },
   {
    "duration": 779,
    "start_time": "2022-06-10T12:26:03.046Z"
   },
   {
    "duration": 1040,
    "start_time": "2022-06-10T12:27:46.642Z"
   },
   {
    "duration": 1123,
    "start_time": "2022-06-10T12:28:03.013Z"
   },
   {
    "duration": 720,
    "start_time": "2022-06-10T12:28:24.324Z"
   },
   {
    "duration": 877,
    "start_time": "2022-06-10T12:28:42.715Z"
   },
   {
    "duration": 641,
    "start_time": "2022-06-10T12:29:06.593Z"
   },
   {
    "duration": 677,
    "start_time": "2022-06-10T12:29:22.805Z"
   },
   {
    "duration": 1014,
    "start_time": "2022-06-10T12:29:35.338Z"
   },
   {
    "duration": 672,
    "start_time": "2022-06-10T12:29:47.520Z"
   },
   {
    "duration": 652,
    "start_time": "2022-06-10T12:29:59.748Z"
   },
   {
    "duration": 912,
    "start_time": "2022-06-10T12:30:14.209Z"
   },
   {
    "duration": 1245,
    "start_time": "2022-06-10T12:30:22.015Z"
   },
   {
    "duration": 791,
    "start_time": "2022-06-10T12:30:32.516Z"
   },
   {
    "duration": 1014,
    "start_time": "2022-06-10T12:30:43.854Z"
   },
   {
    "duration": 747,
    "start_time": "2022-06-10T12:30:50.793Z"
   },
   {
    "duration": 775,
    "start_time": "2022-06-10T12:35:29.216Z"
   },
   {
    "duration": 662,
    "start_time": "2022-06-10T12:37:44.961Z"
   },
   {
    "duration": 976,
    "start_time": "2022-06-10T12:38:21.140Z"
   },
   {
    "duration": 25,
    "start_time": "2022-06-10T12:39:24.938Z"
   },
   {
    "duration": 40,
    "start_time": "2022-06-10T12:40:20.202Z"
   },
   {
    "duration": 23,
    "start_time": "2022-06-10T12:40:44.114Z"
   },
   {
    "duration": 36,
    "start_time": "2022-06-10T12:41:34.655Z"
   },
   {
    "duration": 941,
    "start_time": "2022-06-10T12:42:08.763Z"
   },
   {
    "duration": 4782,
    "start_time": "2022-06-10T12:42:45.698Z"
   },
   {
    "duration": 1525,
    "start_time": "2022-06-10T12:43:16.728Z"
   },
   {
    "duration": 610,
    "start_time": "2022-06-10T12:44:18.113Z"
   },
   {
    "duration": 708,
    "start_time": "2022-06-10T12:44:58.322Z"
   },
   {
    "duration": 628,
    "start_time": "2022-06-10T12:45:43.046Z"
   },
   {
    "duration": 885,
    "start_time": "2022-06-10T12:46:14.957Z"
   },
   {
    "duration": 661,
    "start_time": "2022-06-10T12:46:39.663Z"
   },
   {
    "duration": 24,
    "start_time": "2022-06-10T12:46:49.655Z"
   },
   {
    "duration": 791,
    "start_time": "2022-06-10T12:46:58.417Z"
   },
   {
    "duration": 1557,
    "start_time": "2022-06-10T12:47:07.211Z"
   },
   {
    "duration": 645,
    "start_time": "2022-06-10T12:49:43.068Z"
   },
   {
    "duration": 661,
    "start_time": "2022-06-10T12:49:53.417Z"
   },
   {
    "duration": 770,
    "start_time": "2022-06-10T12:50:06.492Z"
   },
   {
    "duration": 39,
    "start_time": "2022-06-10T12:53:04.033Z"
   },
   {
    "duration": 136,
    "start_time": "2022-06-10T12:53:51.412Z"
   },
   {
    "duration": 29,
    "start_time": "2022-06-10T12:53:59.033Z"
   },
   {
    "duration": 24,
    "start_time": "2022-06-10T12:54:24.171Z"
   },
   {
    "duration": 21,
    "start_time": "2022-06-10T12:54:37.638Z"
   },
   {
    "duration": 27,
    "start_time": "2022-06-10T12:54:44.487Z"
   },
   {
    "duration": 1454,
    "start_time": "2022-06-10T12:54:57.135Z"
   },
   {
    "duration": 70,
    "start_time": "2022-06-10T12:54:58.591Z"
   },
   {
    "duration": 6,
    "start_time": "2022-06-10T12:54:58.663Z"
   },
   {
    "duration": 54,
    "start_time": "2022-06-10T12:54:58.671Z"
   },
   {
    "duration": 10,
    "start_time": "2022-06-10T12:54:58.727Z"
   },
   {
    "duration": 4,
    "start_time": "2022-06-10T12:54:58.738Z"
   },
   {
    "duration": 0,
    "start_time": "2022-06-10T12:54:58.744Z"
   },
   {
    "duration": 0,
    "start_time": "2022-06-10T12:54:58.745Z"
   },
   {
    "duration": 0,
    "start_time": "2022-06-10T12:54:58.747Z"
   },
   {
    "duration": 0,
    "start_time": "2022-06-10T12:54:58.748Z"
   },
   {
    "duration": 0,
    "start_time": "2022-06-10T12:54:58.749Z"
   },
   {
    "duration": 0,
    "start_time": "2022-06-10T12:54:58.750Z"
   },
   {
    "duration": 0,
    "start_time": "2022-06-10T12:54:58.751Z"
   },
   {
    "duration": 0,
    "start_time": "2022-06-10T12:54:58.752Z"
   },
   {
    "duration": 0,
    "start_time": "2022-06-10T12:54:58.754Z"
   },
   {
    "duration": 0,
    "start_time": "2022-06-10T12:54:58.755Z"
   },
   {
    "duration": 0,
    "start_time": "2022-06-10T12:54:58.756Z"
   },
   {
    "duration": 14,
    "start_time": "2022-06-10T12:55:29.990Z"
   },
   {
    "duration": 9,
    "start_time": "2022-06-10T12:55:35.792Z"
   },
   {
    "duration": 5,
    "start_time": "2022-06-10T12:55:44.205Z"
   },
   {
    "duration": 823,
    "start_time": "2022-06-10T12:55:45.945Z"
   },
   {
    "duration": 45,
    "start_time": "2022-06-10T12:56:01.704Z"
   },
   {
    "duration": 3,
    "start_time": "2022-06-10T12:56:39.970Z"
   },
   {
    "duration": 4,
    "start_time": "2022-06-10T12:57:05.046Z"
   },
   {
    "duration": 3,
    "start_time": "2022-06-10T12:57:57.032Z"
   },
   {
    "duration": 124,
    "start_time": "2022-06-10T12:58:44.211Z"
   },
   {
    "duration": 622,
    "start_time": "2022-06-10T12:59:22.823Z"
   },
   {
    "duration": 683,
    "start_time": "2022-06-10T13:05:31.131Z"
   },
   {
    "duration": 857,
    "start_time": "2022-06-10T13:06:28.946Z"
   },
   {
    "duration": 830,
    "start_time": "2022-06-10T13:06:36.345Z"
   },
   {
    "duration": 703,
    "start_time": "2022-06-10T13:07:22.434Z"
   },
   {
    "duration": 889,
    "start_time": "2022-06-10T13:07:32.826Z"
   },
   {
    "duration": 809,
    "start_time": "2022-06-10T13:07:40.410Z"
   },
   {
    "duration": 812,
    "start_time": "2022-06-10T13:08:08.452Z"
   },
   {
    "duration": 716,
    "start_time": "2022-06-10T13:09:55.813Z"
   },
   {
    "duration": 56,
    "start_time": "2022-06-10T13:10:33.499Z"
   },
   {
    "duration": 755,
    "start_time": "2022-06-10T13:10:41.539Z"
   },
   {
    "duration": 720,
    "start_time": "2022-06-10T13:10:59.690Z"
   },
   {
    "duration": 596,
    "start_time": "2022-06-10T13:12:31.260Z"
   },
   {
    "duration": 623,
    "start_time": "2022-06-10T13:12:42.690Z"
   },
   {
    "duration": 693,
    "start_time": "2022-06-10T13:12:50.878Z"
   },
   {
    "duration": 726,
    "start_time": "2022-06-10T13:13:19.361Z"
   },
   {
    "duration": 721,
    "start_time": "2022-06-10T13:13:40.702Z"
   },
   {
    "duration": 714,
    "start_time": "2022-06-10T13:16:40.605Z"
   },
   {
    "duration": 880,
    "start_time": "2022-06-10T13:16:57.758Z"
   },
   {
    "duration": 798,
    "start_time": "2022-06-10T13:17:08.370Z"
   },
   {
    "duration": 635,
    "start_time": "2022-06-10T13:19:41.290Z"
   },
   {
    "duration": 1047,
    "start_time": "2022-06-10T13:19:49.814Z"
   },
   {
    "duration": 689,
    "start_time": "2022-06-10T13:20:49.100Z"
   },
   {
    "duration": 913,
    "start_time": "2022-06-10T13:21:04.025Z"
   },
   {
    "duration": 1028,
    "start_time": "2022-06-10T13:22:55.010Z"
   },
   {
    "duration": 919,
    "start_time": "2022-06-10T13:23:14.405Z"
   },
   {
    "duration": 964,
    "start_time": "2022-06-10T13:23:48.903Z"
   },
   {
    "duration": 1037,
    "start_time": "2022-06-10T13:28:20.750Z"
   },
   {
    "duration": 961,
    "start_time": "2022-06-10T13:28:29.681Z"
   },
   {
    "duration": 33,
    "start_time": "2022-06-10T13:30:58.105Z"
   },
   {
    "duration": 30,
    "start_time": "2022-06-10T13:50:32.657Z"
   },
   {
    "duration": 682,
    "start_time": "2022-06-10T13:52:11.358Z"
   }
  ],
  "kernelspec": {
   "display_name": "Python 3 (ipykernel)",
   "language": "python",
   "name": "python3"
  },
  "language_info": {
   "codemirror_mode": {
    "name": "ipython",
    "version": 3
   },
   "file_extension": ".py",
   "mimetype": "text/x-python",
   "name": "python",
   "nbconvert_exporter": "python",
   "pygments_lexer": "ipython3",
   "version": "3.9.12"
  },
  "toc": {
   "base_numbering": 1,
   "nav_menu": {},
   "number_sections": true,
   "sideBar": true,
   "skip_h1_title": true,
   "title_cell": "Table of Contents",
   "title_sidebar": "Contents",
   "toc_cell": false,
   "toc_position": {
    "height": "calc(100% - 180px)",
    "left": "10px",
    "top": "150px",
    "width": "409.097px"
   },
   "toc_section_display": true,
   "toc_window_display": true
  }
 },
 "nbformat": 4,
 "nbformat_minor": 2
}
