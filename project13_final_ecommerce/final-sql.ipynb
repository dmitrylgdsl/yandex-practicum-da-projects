{
 "cells": [
  {
   "cell_type": "markdown",
   "metadata": {},
   "source": [
    "# Проект по SQL\n",
    "\n",
    "Коронавирус застал мир врасплох, изменив привычный порядок вещей. В свободное время жители городов больше не выходят на улицу, не посещают кафе и торговые центры. Зато стало больше времени для книг. Это заметили стартаперы — и бросились создавать приложения для тех, кто любит читать.\n",
    "\n",
    "Ваша компания решила быть на волне и купила крупный сервис для чтения книг по подписке. Ваша первая задача как аналитика — проанализировать базу данных. В ней — информация о книгах, издательствах, авторах, а также пользовательские обзоры книг. Эти данные помогут сформулировать ценностное предложение для нового продукта."
   ]
  },
  {
   "cell_type": "markdown",
   "metadata": {},
   "source": [
    "# Описание данных\n",
    "<b>Таблица books</b> - cодержит данные о книгах:\n",
    "* book_id — идентификатор книги;\n",
    "* author_id — идентификатор автора;\n",
    "* title — название книги;\n",
    "* num_pages — количество страниц;  \n",
    "* publication_date — дата публикации книги;\n",
    "* publisher_id — идентификатор издателя.\n",
    "\n",
    "<b>Таблица authors</b> - cодержит данные об авторах:\n",
    "* author_id — идентификатор автора;\n",
    "* author — имя автора.\n",
    "\n",
    "<b>Таблица publishers</b> -cодержит данные об издательствах:\n",
    "* publisher_id — идентификатор издательства;\n",
    "* publisher — название издательства;\n",
    "\n",
    "<b>Таблица ratings</b> - cодержит данные о пользовательских оценках книг:\n",
    "* rating_id — идентификатор оценки;\n",
    "* book_id — идентификатор книги;\n",
    "* username — имя пользователя, оставившего оценку;\n",
    "* rating — оценка книги.\n",
    "\n",
    "<b>Таблица reviews</b> - cодержит данные о пользовательских обзорах:\n",
    "* review_id — идентификатор обзора;\n",
    "* book_id — идентификатор книги;\n",
    "* username — имя автора обзора;\n",
    "* text — текст обзора."
   ]
  },
  {
   "cell_type": "markdown",
   "metadata": {},
   "source": [
    "# Схема данных\n",
    "!['Схема данных'](https://pictures.s3.yandex.net/resources/scheme_1589269096.png)"
   ]
  },
  {
   "cell_type": "markdown",
   "metadata": {},
   "source": [
    "# Подключение к базе данных"
   ]
  },
  {
   "cell_type": "code",
   "execution_count": 1,
   "metadata": {},
   "outputs": [],
   "source": [
    "# импортируем библиотеки\n",
    "import pandas as pd\n",
    "from sqlalchemy import create_engine\n",
    "\n",
    "# устанавливаем параметры\n",
    "# данные удалены, код для примера\n",
    "db_config = {'user': '', # имя пользователя\n",
    "             'pwd': '', # пароль\n",
    "             'host': '',\n",
    "             'port': , # порт подключения\n",
    "             'db': ''} # название базы данных\n",
    "\n",
    "connection_string = 'postgresql://{}:{}@{}:{}/{}'.format(db_config['user'],\n",
    " db_config['pwd'],\n",
    " db_config['host'],\n",
    " db_config['port'],\n",
    " db_config['db'])\n",
    "\n",
    "# сохраняем коннектор\n",
    "engine = create_engine(connection_string, connect_args={'sslmode':'require'}) "
   ]
  },
  {
   "cell_type": "markdown",
   "metadata": {},
   "source": [
    "# Исследование таблиц"
   ]
  },
  {
   "cell_type": "code",
   "execution_count": 2,
   "metadata": {},
   "outputs": [
    {
     "data": {
      "text/html": [
       "<div>\n",
       "<style scoped>\n",
       "    .dataframe tbody tr th:only-of-type {\n",
       "        vertical-align: middle;\n",
       "    }\n",
       "\n",
       "    .dataframe tbody tr th {\n",
       "        vertical-align: top;\n",
       "    }\n",
       "\n",
       "    .dataframe thead th {\n",
       "        text-align: right;\n",
       "    }\n",
       "</style>\n",
       "<table border=\"1\" class=\"dataframe\">\n",
       "  <thead>\n",
       "    <tr style=\"text-align: right;\">\n",
       "      <th></th>\n",
       "      <th>book_id</th>\n",
       "      <th>author_id</th>\n",
       "      <th>title</th>\n",
       "      <th>num_pages</th>\n",
       "      <th>publication_date</th>\n",
       "      <th>publisher_id</th>\n",
       "    </tr>\n",
       "  </thead>\n",
       "  <tbody>\n",
       "    <tr>\n",
       "      <th>0</th>\n",
       "      <td>1</td>\n",
       "      <td>546</td>\n",
       "      <td>'Salem's Lot</td>\n",
       "      <td>594</td>\n",
       "      <td>2005-11-01</td>\n",
       "      <td>93</td>\n",
       "    </tr>\n",
       "    <tr>\n",
       "      <th>1</th>\n",
       "      <td>2</td>\n",
       "      <td>465</td>\n",
       "      <td>1 000 Places to See Before You Die</td>\n",
       "      <td>992</td>\n",
       "      <td>2003-05-22</td>\n",
       "      <td>336</td>\n",
       "    </tr>\n",
       "    <tr>\n",
       "      <th>2</th>\n",
       "      <td>3</td>\n",
       "      <td>407</td>\n",
       "      <td>13 Little Blue Envelopes (Little Blue Envelope...</td>\n",
       "      <td>322</td>\n",
       "      <td>2010-12-21</td>\n",
       "      <td>135</td>\n",
       "    </tr>\n",
       "    <tr>\n",
       "      <th>3</th>\n",
       "      <td>4</td>\n",
       "      <td>82</td>\n",
       "      <td>1491: New Revelations of the Americas Before C...</td>\n",
       "      <td>541</td>\n",
       "      <td>2006-10-10</td>\n",
       "      <td>309</td>\n",
       "    </tr>\n",
       "    <tr>\n",
       "      <th>4</th>\n",
       "      <td>5</td>\n",
       "      <td>125</td>\n",
       "      <td>1776</td>\n",
       "      <td>386</td>\n",
       "      <td>2006-07-04</td>\n",
       "      <td>268</td>\n",
       "    </tr>\n",
       "  </tbody>\n",
       "</table>\n",
       "</div>"
      ],
      "text/plain": [
       "   book_id  author_id                                              title  \\\n",
       "0        1        546                                       'Salem's Lot   \n",
       "1        2        465                 1 000 Places to See Before You Die   \n",
       "2        3        407  13 Little Blue Envelopes (Little Blue Envelope...   \n",
       "3        4         82  1491: New Revelations of the Americas Before C...   \n",
       "4        5        125                                               1776   \n",
       "\n",
       "   num_pages publication_date  publisher_id  \n",
       "0        594       2005-11-01            93  \n",
       "1        992       2003-05-22           336  \n",
       "2        322       2010-12-21           135  \n",
       "3        541       2006-10-10           309  \n",
       "4        386       2006-07-04           268  "
      ]
     },
     "metadata": {},
     "output_type": "display_data"
    },
    {
     "data": {
      "text/plain": [
       "(1000, 6)"
      ]
     },
     "metadata": {},
     "output_type": "display_data"
    },
    {
     "data": {
      "text/html": [
       "<div>\n",
       "<style scoped>\n",
       "    .dataframe tbody tr th:only-of-type {\n",
       "        vertical-align: middle;\n",
       "    }\n",
       "\n",
       "    .dataframe tbody tr th {\n",
       "        vertical-align: top;\n",
       "    }\n",
       "\n",
       "    .dataframe thead th {\n",
       "        text-align: right;\n",
       "    }\n",
       "</style>\n",
       "<table border=\"1\" class=\"dataframe\">\n",
       "  <thead>\n",
       "    <tr style=\"text-align: right;\">\n",
       "      <th></th>\n",
       "      <th>author_id</th>\n",
       "      <th>author</th>\n",
       "    </tr>\n",
       "  </thead>\n",
       "  <tbody>\n",
       "    <tr>\n",
       "      <th>0</th>\n",
       "      <td>1</td>\n",
       "      <td>A.S. Byatt</td>\n",
       "    </tr>\n",
       "    <tr>\n",
       "      <th>1</th>\n",
       "      <td>2</td>\n",
       "      <td>Aesop/Laura Harris/Laura Gibbs</td>\n",
       "    </tr>\n",
       "    <tr>\n",
       "      <th>2</th>\n",
       "      <td>3</td>\n",
       "      <td>Agatha Christie</td>\n",
       "    </tr>\n",
       "    <tr>\n",
       "      <th>3</th>\n",
       "      <td>4</td>\n",
       "      <td>Alan Brennert</td>\n",
       "    </tr>\n",
       "    <tr>\n",
       "      <th>4</th>\n",
       "      <td>5</td>\n",
       "      <td>Alan Moore/David   Lloyd</td>\n",
       "    </tr>\n",
       "  </tbody>\n",
       "</table>\n",
       "</div>"
      ],
      "text/plain": [
       "   author_id                          author\n",
       "0          1                      A.S. Byatt\n",
       "1          2  Aesop/Laura Harris/Laura Gibbs\n",
       "2          3                 Agatha Christie\n",
       "3          4                   Alan Brennert\n",
       "4          5        Alan Moore/David   Lloyd"
      ]
     },
     "metadata": {},
     "output_type": "display_data"
    },
    {
     "data": {
      "text/plain": [
       "(636, 2)"
      ]
     },
     "metadata": {},
     "output_type": "display_data"
    },
    {
     "data": {
      "text/html": [
       "<div>\n",
       "<style scoped>\n",
       "    .dataframe tbody tr th:only-of-type {\n",
       "        vertical-align: middle;\n",
       "    }\n",
       "\n",
       "    .dataframe tbody tr th {\n",
       "        vertical-align: top;\n",
       "    }\n",
       "\n",
       "    .dataframe thead th {\n",
       "        text-align: right;\n",
       "    }\n",
       "</style>\n",
       "<table border=\"1\" class=\"dataframe\">\n",
       "  <thead>\n",
       "    <tr style=\"text-align: right;\">\n",
       "      <th></th>\n",
       "      <th>publisher_id</th>\n",
       "      <th>publisher</th>\n",
       "    </tr>\n",
       "  </thead>\n",
       "  <tbody>\n",
       "    <tr>\n",
       "      <th>0</th>\n",
       "      <td>1</td>\n",
       "      <td>Ace</td>\n",
       "    </tr>\n",
       "    <tr>\n",
       "      <th>1</th>\n",
       "      <td>2</td>\n",
       "      <td>Ace Book</td>\n",
       "    </tr>\n",
       "    <tr>\n",
       "      <th>2</th>\n",
       "      <td>3</td>\n",
       "      <td>Ace Books</td>\n",
       "    </tr>\n",
       "    <tr>\n",
       "      <th>3</th>\n",
       "      <td>4</td>\n",
       "      <td>Ace Hardcover</td>\n",
       "    </tr>\n",
       "    <tr>\n",
       "      <th>4</th>\n",
       "      <td>5</td>\n",
       "      <td>Addison Wesley Publishing Company</td>\n",
       "    </tr>\n",
       "  </tbody>\n",
       "</table>\n",
       "</div>"
      ],
      "text/plain": [
       "   publisher_id                          publisher\n",
       "0             1                                Ace\n",
       "1             2                           Ace Book\n",
       "2             3                          Ace Books\n",
       "3             4                      Ace Hardcover\n",
       "4             5  Addison Wesley Publishing Company"
      ]
     },
     "metadata": {},
     "output_type": "display_data"
    },
    {
     "data": {
      "text/plain": [
       "(340, 2)"
      ]
     },
     "metadata": {},
     "output_type": "display_data"
    },
    {
     "data": {
      "text/html": [
       "<div>\n",
       "<style scoped>\n",
       "    .dataframe tbody tr th:only-of-type {\n",
       "        vertical-align: middle;\n",
       "    }\n",
       "\n",
       "    .dataframe tbody tr th {\n",
       "        vertical-align: top;\n",
       "    }\n",
       "\n",
       "    .dataframe thead th {\n",
       "        text-align: right;\n",
       "    }\n",
       "</style>\n",
       "<table border=\"1\" class=\"dataframe\">\n",
       "  <thead>\n",
       "    <tr style=\"text-align: right;\">\n",
       "      <th></th>\n",
       "      <th>rating_id</th>\n",
       "      <th>book_id</th>\n",
       "      <th>username</th>\n",
       "      <th>rating</th>\n",
       "    </tr>\n",
       "  </thead>\n",
       "  <tbody>\n",
       "    <tr>\n",
       "      <th>0</th>\n",
       "      <td>1</td>\n",
       "      <td>1</td>\n",
       "      <td>ryanfranco</td>\n",
       "      <td>4</td>\n",
       "    </tr>\n",
       "    <tr>\n",
       "      <th>1</th>\n",
       "      <td>2</td>\n",
       "      <td>1</td>\n",
       "      <td>grantpatricia</td>\n",
       "      <td>2</td>\n",
       "    </tr>\n",
       "    <tr>\n",
       "      <th>2</th>\n",
       "      <td>3</td>\n",
       "      <td>1</td>\n",
       "      <td>brandtandrea</td>\n",
       "      <td>5</td>\n",
       "    </tr>\n",
       "    <tr>\n",
       "      <th>3</th>\n",
       "      <td>4</td>\n",
       "      <td>2</td>\n",
       "      <td>lorichen</td>\n",
       "      <td>3</td>\n",
       "    </tr>\n",
       "    <tr>\n",
       "      <th>4</th>\n",
       "      <td>5</td>\n",
       "      <td>2</td>\n",
       "      <td>mariokeller</td>\n",
       "      <td>2</td>\n",
       "    </tr>\n",
       "  </tbody>\n",
       "</table>\n",
       "</div>"
      ],
      "text/plain": [
       "   rating_id  book_id       username  rating\n",
       "0          1        1     ryanfranco       4\n",
       "1          2        1  grantpatricia       2\n",
       "2          3        1   brandtandrea       5\n",
       "3          4        2       lorichen       3\n",
       "4          5        2    mariokeller       2"
      ]
     },
     "metadata": {},
     "output_type": "display_data"
    },
    {
     "data": {
      "text/plain": [
       "(6456, 4)"
      ]
     },
     "metadata": {},
     "output_type": "display_data"
    },
    {
     "data": {
      "text/html": [
       "<div>\n",
       "<style scoped>\n",
       "    .dataframe tbody tr th:only-of-type {\n",
       "        vertical-align: middle;\n",
       "    }\n",
       "\n",
       "    .dataframe tbody tr th {\n",
       "        vertical-align: top;\n",
       "    }\n",
       "\n",
       "    .dataframe thead th {\n",
       "        text-align: right;\n",
       "    }\n",
       "</style>\n",
       "<table border=\"1\" class=\"dataframe\">\n",
       "  <thead>\n",
       "    <tr style=\"text-align: right;\">\n",
       "      <th></th>\n",
       "      <th>review_id</th>\n",
       "      <th>book_id</th>\n",
       "      <th>username</th>\n",
       "      <th>text</th>\n",
       "    </tr>\n",
       "  </thead>\n",
       "  <tbody>\n",
       "    <tr>\n",
       "      <th>0</th>\n",
       "      <td>1</td>\n",
       "      <td>1</td>\n",
       "      <td>brandtandrea</td>\n",
       "      <td>Mention society tell send professor analysis. ...</td>\n",
       "    </tr>\n",
       "    <tr>\n",
       "      <th>1</th>\n",
       "      <td>2</td>\n",
       "      <td>1</td>\n",
       "      <td>ryanfranco</td>\n",
       "      <td>Foot glass pretty audience hit themselves. Amo...</td>\n",
       "    </tr>\n",
       "    <tr>\n",
       "      <th>2</th>\n",
       "      <td>3</td>\n",
       "      <td>2</td>\n",
       "      <td>lorichen</td>\n",
       "      <td>Listen treat keep worry. Miss husband tax but ...</td>\n",
       "    </tr>\n",
       "    <tr>\n",
       "      <th>3</th>\n",
       "      <td>4</td>\n",
       "      <td>3</td>\n",
       "      <td>johnsonamanda</td>\n",
       "      <td>Finally month interesting blue could nature cu...</td>\n",
       "    </tr>\n",
       "    <tr>\n",
       "      <th>4</th>\n",
       "      <td>5</td>\n",
       "      <td>3</td>\n",
       "      <td>scotttamara</td>\n",
       "      <td>Nation purpose heavy give wait song will. List...</td>\n",
       "    </tr>\n",
       "  </tbody>\n",
       "</table>\n",
       "</div>"
      ],
      "text/plain": [
       "   review_id  book_id       username  \\\n",
       "0          1        1   brandtandrea   \n",
       "1          2        1     ryanfranco   \n",
       "2          3        2       lorichen   \n",
       "3          4        3  johnsonamanda   \n",
       "4          5        3    scotttamara   \n",
       "\n",
       "                                                text  \n",
       "0  Mention society tell send professor analysis. ...  \n",
       "1  Foot glass pretty audience hit themselves. Amo...  \n",
       "2  Listen treat keep worry. Miss husband tax but ...  \n",
       "3  Finally month interesting blue could nature cu...  \n",
       "4  Nation purpose heavy give wait song will. List...  "
      ]
     },
     "metadata": {},
     "output_type": "display_data"
    },
    {
     "data": {
      "text/plain": [
       "(2793, 4)"
      ]
     },
     "metadata": {},
     "output_type": "display_data"
    }
   ],
   "source": [
    "# Вывод первых 5 строк всех таблиц\n",
    "table = ['books', 'authors', 'publishers', 'ratings', 'reviews']\n",
    "for i in table:\n",
    "    query = '''\n",
    "        SELECT *\n",
    "        FROM {};\n",
    "    '''.format(i)\n",
    "    df = pd.io.sql.read_sql(query, con = engine)\n",
    "    display(df.head())\n",
    "    display(df.shape)"
   ]
  },
  {
   "cell_type": "markdown",
   "metadata": {},
   "source": [
    "# Задания"
   ]
  },
  {
   "cell_type": "markdown",
   "metadata": {},
   "source": [
    "## Посчитайте, сколько книг вышло после 1 января 2000 года"
   ]
  },
  {
   "cell_type": "code",
   "execution_count": 3,
   "metadata": {},
   "outputs": [
    {
     "data": {
      "text/html": [
       "<div>\n",
       "<style scoped>\n",
       "    .dataframe tbody tr th:only-of-type {\n",
       "        vertical-align: middle;\n",
       "    }\n",
       "\n",
       "    .dataframe tbody tr th {\n",
       "        vertical-align: top;\n",
       "    }\n",
       "\n",
       "    .dataframe thead th {\n",
       "        text-align: right;\n",
       "    }\n",
       "</style>\n",
       "<table border=\"1\" class=\"dataframe\">\n",
       "  <thead>\n",
       "    <tr style=\"text-align: right;\">\n",
       "      <th></th>\n",
       "      <th>count</th>\n",
       "    </tr>\n",
       "  </thead>\n",
       "  <tbody>\n",
       "    <tr>\n",
       "      <th>0</th>\n",
       "      <td>819</td>\n",
       "    </tr>\n",
       "  </tbody>\n",
       "</table>\n",
       "</div>"
      ],
      "text/plain": [
       "   count\n",
       "0    819"
      ]
     },
     "execution_count": 3,
     "metadata": {},
     "output_type": "execute_result"
    }
   ],
   "source": [
    "task1 = '''\n",
    "SELECT COUNT(*)\n",
    "FROM books\n",
    "WHERE CAST(publication_date AS date) > '2000-01-01';\n",
    "'''\n",
    "pd.io.sql.read_sql(task1, con = engine) "
   ]
  },
  {
   "cell_type": "markdown",
   "metadata": {},
   "source": [
    "<b>Ответ:</b> 819 книг вышло после 1 января 2000 года"
   ]
  },
  {
   "cell_type": "markdown",
   "metadata": {},
   "source": [
    "## Для каждой книги посчитайте количество обзоров и среднюю оценку"
   ]
  },
  {
   "cell_type": "code",
   "execution_count": 4,
   "metadata": {},
   "outputs": [
    {
     "data": {
      "text/html": [
       "<div>\n",
       "<style scoped>\n",
       "    .dataframe tbody tr th:only-of-type {\n",
       "        vertical-align: middle;\n",
       "    }\n",
       "\n",
       "    .dataframe tbody tr th {\n",
       "        vertical-align: top;\n",
       "    }\n",
       "\n",
       "    .dataframe thead th {\n",
       "        text-align: right;\n",
       "    }\n",
       "</style>\n",
       "<table border=\"1\" class=\"dataframe\">\n",
       "  <thead>\n",
       "    <tr style=\"text-align: right;\">\n",
       "      <th></th>\n",
       "      <th>book_id</th>\n",
       "      <th>title</th>\n",
       "      <th>rewiews_count</th>\n",
       "      <th>avg_rating</th>\n",
       "    </tr>\n",
       "  </thead>\n",
       "  <tbody>\n",
       "    <tr>\n",
       "      <th>0</th>\n",
       "      <td>948</td>\n",
       "      <td>Twilight (Twilight  #1)</td>\n",
       "      <td>7</td>\n",
       "      <td>3.662500</td>\n",
       "    </tr>\n",
       "    <tr>\n",
       "      <th>1</th>\n",
       "      <td>963</td>\n",
       "      <td>Water for Elephants</td>\n",
       "      <td>6</td>\n",
       "      <td>3.977273</td>\n",
       "    </tr>\n",
       "    <tr>\n",
       "      <th>2</th>\n",
       "      <td>734</td>\n",
       "      <td>The Glass Castle</td>\n",
       "      <td>6</td>\n",
       "      <td>4.206897</td>\n",
       "    </tr>\n",
       "    <tr>\n",
       "      <th>3</th>\n",
       "      <td>302</td>\n",
       "      <td>Harry Potter and the Prisoner of Azkaban (Harr...</td>\n",
       "      <td>6</td>\n",
       "      <td>4.414634</td>\n",
       "    </tr>\n",
       "    <tr>\n",
       "      <th>4</th>\n",
       "      <td>695</td>\n",
       "      <td>The Curious Incident of the Dog in the Night-Time</td>\n",
       "      <td>6</td>\n",
       "      <td>4.081081</td>\n",
       "    </tr>\n",
       "    <tr>\n",
       "      <th>...</th>\n",
       "      <td>...</td>\n",
       "      <td>...</td>\n",
       "      <td>...</td>\n",
       "      <td>...</td>\n",
       "    </tr>\n",
       "    <tr>\n",
       "      <th>995</th>\n",
       "      <td>83</td>\n",
       "      <td>Anne Rice's The Vampire Lestat: A Graphic Novel</td>\n",
       "      <td>0</td>\n",
       "      <td>3.666667</td>\n",
       "    </tr>\n",
       "    <tr>\n",
       "      <th>996</th>\n",
       "      <td>808</td>\n",
       "      <td>The Natural Way to Draw</td>\n",
       "      <td>0</td>\n",
       "      <td>3.000000</td>\n",
       "    </tr>\n",
       "    <tr>\n",
       "      <th>997</th>\n",
       "      <td>672</td>\n",
       "      <td>The Cat in the Hat and Other Dr. Seuss Favorites</td>\n",
       "      <td>0</td>\n",
       "      <td>5.000000</td>\n",
       "    </tr>\n",
       "    <tr>\n",
       "      <th>998</th>\n",
       "      <td>221</td>\n",
       "      <td>Essential Tales and Poems</td>\n",
       "      <td>0</td>\n",
       "      <td>4.000000</td>\n",
       "    </tr>\n",
       "    <tr>\n",
       "      <th>999</th>\n",
       "      <td>191</td>\n",
       "      <td>Disney's Beauty and the Beast (A Little Golden...</td>\n",
       "      <td>0</td>\n",
       "      <td>4.000000</td>\n",
       "    </tr>\n",
       "  </tbody>\n",
       "</table>\n",
       "<p>1000 rows × 4 columns</p>\n",
       "</div>"
      ],
      "text/plain": [
       "     book_id                                              title  \\\n",
       "0        948                            Twilight (Twilight  #1)   \n",
       "1        963                                Water for Elephants   \n",
       "2        734                                   The Glass Castle   \n",
       "3        302  Harry Potter and the Prisoner of Azkaban (Harr...   \n",
       "4        695  The Curious Incident of the Dog in the Night-Time   \n",
       "..       ...                                                ...   \n",
       "995       83    Anne Rice's The Vampire Lestat: A Graphic Novel   \n",
       "996      808                            The Natural Way to Draw   \n",
       "997      672   The Cat in the Hat and Other Dr. Seuss Favorites   \n",
       "998      221                          Essential Tales and Poems   \n",
       "999      191  Disney's Beauty and the Beast (A Little Golden...   \n",
       "\n",
       "     rewiews_count  avg_rating  \n",
       "0                7    3.662500  \n",
       "1                6    3.977273  \n",
       "2                6    4.206897  \n",
       "3                6    4.414634  \n",
       "4                6    4.081081  \n",
       "..             ...         ...  \n",
       "995              0    3.666667  \n",
       "996              0    3.000000  \n",
       "997              0    5.000000  \n",
       "998              0    4.000000  \n",
       "999              0    4.000000  \n",
       "\n",
       "[1000 rows x 4 columns]"
      ]
     },
     "execution_count": 4,
     "metadata": {},
     "output_type": "execute_result"
    }
   ],
   "source": [
    "task2 = '''\n",
    "            SELECT b.book_id,\n",
    "                   b.title,\n",
    "                   COUNT(DISTINCT rv.review_id) AS rewiews_count,\n",
    "                   AVG(rt.rating) AS avg_rating\n",
    "            FROM books AS b\n",
    "            LEFT JOIN ratings AS rt ON b.book_id = rt.book_id\n",
    "            LEFT JOIN reviews AS rv ON b.book_id = rv.book_id\n",
    "            GROUP BY b.book_id\n",
    "            ORDER BY rewiews_count DESC;\n",
    "        '''\n",
    "pd.io.sql.read_sql(task2, con = engine)"
   ]
  },
  {
   "cell_type": "markdown",
   "metadata": {},
   "source": [
    "<b>Ответ:</b> Для 1000 книг посчитали  количество озоров и зреднюю оценку. Максимальное количество обзоров у книги Twilight (Twilight #1) и равно 7."
   ]
  },
  {
   "cell_type": "markdown",
   "metadata": {},
   "source": [
    "## Определите издательство, которое выпустило наибольшее число книг толще 50 страниц — так вы исключите из анализа брошюры"
   ]
  },
  {
   "cell_type": "code",
   "execution_count": 5,
   "metadata": {},
   "outputs": [
    {
     "data": {
      "text/html": [
       "<div>\n",
       "<style scoped>\n",
       "    .dataframe tbody tr th:only-of-type {\n",
       "        vertical-align: middle;\n",
       "    }\n",
       "\n",
       "    .dataframe tbody tr th {\n",
       "        vertical-align: top;\n",
       "    }\n",
       "\n",
       "    .dataframe thead th {\n",
       "        text-align: right;\n",
       "    }\n",
       "</style>\n",
       "<table border=\"1\" class=\"dataframe\">\n",
       "  <thead>\n",
       "    <tr style=\"text-align: right;\">\n",
       "      <th></th>\n",
       "      <th>publisher</th>\n",
       "      <th>books_count</th>\n",
       "    </tr>\n",
       "  </thead>\n",
       "  <tbody>\n",
       "    <tr>\n",
       "      <th>0</th>\n",
       "      <td>Penguin Books</td>\n",
       "      <td>42</td>\n",
       "    </tr>\n",
       "  </tbody>\n",
       "</table>\n",
       "</div>"
      ],
      "text/plain": [
       "       publisher  books_count\n",
       "0  Penguin Books           42"
      ]
     },
     "execution_count": 5,
     "metadata": {},
     "output_type": "execute_result"
    }
   ],
   "source": [
    "task3 = '''\n",
    "            SELECT p.publisher AS publisher,\n",
    "                   COUNT(b.book_id) AS books_count\n",
    "            FROM books AS b\n",
    "            LEFT JOIN publishers AS p ON b.publisher_id = p.publisher_id\n",
    "            WHERE b.num_pages > 50\n",
    "            GROUP BY publisher\n",
    "            ORDER BY books_count DESC\n",
    "            LIMIT 1;\n",
    "        '''\n",
    "pd.io.sql.read_sql(task3, con = engine)"
   ]
  },
  {
   "cell_type": "markdown",
   "metadata": {},
   "source": [
    "<b>Ответ:</b> Издательство Penguin Books выпустило 42 книги толще 50 страниц - это наибольшее число среди издателей."
   ]
  },
  {
   "cell_type": "markdown",
   "metadata": {},
   "source": [
    "## Определите автора с самой высокой средней оценкой книг — учитывайте только книги с 50 и более оценками"
   ]
  },
  {
   "cell_type": "code",
   "execution_count": 6,
   "metadata": {},
   "outputs": [
    {
     "data": {
      "text/html": [
       "<div>\n",
       "<style scoped>\n",
       "    .dataframe tbody tr th:only-of-type {\n",
       "        vertical-align: middle;\n",
       "    }\n",
       "\n",
       "    .dataframe tbody tr th {\n",
       "        vertical-align: top;\n",
       "    }\n",
       "\n",
       "    .dataframe thead th {\n",
       "        text-align: right;\n",
       "    }\n",
       "</style>\n",
       "<table border=\"1\" class=\"dataframe\">\n",
       "  <thead>\n",
       "    <tr style=\"text-align: right;\">\n",
       "      <th></th>\n",
       "      <th>author</th>\n",
       "      <th>avg_rt</th>\n",
       "    </tr>\n",
       "  </thead>\n",
       "  <tbody>\n",
       "    <tr>\n",
       "      <th>0</th>\n",
       "      <td>J.K. Rowling/Mary GrandPré</td>\n",
       "      <td>4.283844</td>\n",
       "    </tr>\n",
       "  </tbody>\n",
       "</table>\n",
       "</div>"
      ],
      "text/plain": [
       "                       author    avg_rt\n",
       "0  J.K. Rowling/Mary GrandPré  4.283844"
      ]
     },
     "execution_count": 6,
     "metadata": {},
     "output_type": "execute_result"
    }
   ],
   "source": [
    "task4 = '''\n",
    "            WITH\n",
    "            rt AS (SELECT book_id,\n",
    "                          COUNT(rating) AS cnt,\n",
    "                          AVG(rating) AS avg\n",
    "                   FROM ratings\n",
    "                   GROUP BY book_id)\n",
    "            -----------------------------------       \n",
    "            SELECT au.author,\n",
    "                   AVG(rt.avg) AS avg_rt\n",
    "            FROM  books AS b\n",
    "            LEFT JOIN rt ON b.book_id = rt.book_id\n",
    "            LEFT JOIN authors AS au ON b.author_id = au.author_id\n",
    "            WHERE rt.cnt >= 50\n",
    "            GROUP BY au.author\n",
    "            ORDER BY avg_rt DESC\n",
    "            LIMIT 1;\n",
    "\n",
    "        '''\n",
    "pd.io.sql.read_sql(task4, con = engine)"
   ]
  },
  {
   "cell_type": "markdown",
   "metadata": {},
   "source": [
    "<b>Ответ:</b> Автор с самой  высокой оценкой книг - J.K. Rowling/Mary GrandPré"
   ]
  },
  {
   "cell_type": "markdown",
   "metadata": {},
   "source": [
    "## Посчитайте среднее количество обзоров от пользователей, которые поставили больше 50 оценок."
   ]
  },
  {
   "cell_type": "markdown",
   "metadata": {},
   "source": [
    "Добавить юзеров с количеством обзоров, посчитать среднее от количества обзоров и сгруппировать по юзерам. Это навскидку, если что, я уже сплю почти так-то)"
   ]
  },
  {
   "cell_type": "code",
   "execution_count": 7,
   "metadata": {},
   "outputs": [
    {
     "data": {
      "text/html": [
       "<div>\n",
       "<style scoped>\n",
       "    .dataframe tbody tr th:only-of-type {\n",
       "        vertical-align: middle;\n",
       "    }\n",
       "\n",
       "    .dataframe tbody tr th {\n",
       "        vertical-align: top;\n",
       "    }\n",
       "\n",
       "    .dataframe thead th {\n",
       "        text-align: right;\n",
       "    }\n",
       "</style>\n",
       "<table border=\"1\" class=\"dataframe\">\n",
       "  <thead>\n",
       "    <tr style=\"text-align: right;\">\n",
       "      <th></th>\n",
       "      <th>round</th>\n",
       "    </tr>\n",
       "  </thead>\n",
       "  <tbody>\n",
       "    <tr>\n",
       "      <th>0</th>\n",
       "      <td>24.0</td>\n",
       "    </tr>\n",
       "  </tbody>\n",
       "</table>\n",
       "</div>"
      ],
      "text/plain": [
       "   round\n",
       "0   24.0"
      ]
     },
     "execution_count": 7,
     "metadata": {},
     "output_type": "execute_result"
    }
   ],
   "source": [
    "task5 = ''' \n",
    "            SELECT round(AVG(count))\n",
    "            FROM (SELECT COUNT(review_id)\n",
    "                  FROM reviews as r\n",
    "                  WHERE r.username IN (SELECT username\n",
    "                                       FROM ratings\n",
    "                                       GROUP BY username\n",
    "                                       HAVING COUNT(rating) > 50)\n",
    "                  GROUP BY r.username) AS cnt;\n",
    "        '''\n",
    "pd.io.sql.read_sql(task5, con = engine)"
   ]
  },
  {
   "cell_type": "markdown",
   "metadata": {},
   "source": [
    "<b>Ответ:</b> Среднее количество обзоров от пользователей, которые поставили больше 50 оценок равно 24."
   ]
  }
 ],
 "metadata": {
  "ExecuteTimeLog": [
   {
    "duration": 369,
    "start_time": "2022-07-01T11:49:05.741Z"
   },
   {
    "duration": 369,
    "start_time": "2022-07-01T11:49:17.524Z"
   },
   {
    "duration": 10801,
    "start_time": "2022-07-01T11:56:30.346Z"
   },
   {
    "duration": 133,
    "start_time": "2022-07-01T12:03:50.659Z"
   },
   {
    "duration": 101,
    "start_time": "2022-07-01T12:03:59.635Z"
   },
   {
    "duration": 28,
    "start_time": "2022-07-01T12:04:26.619Z"
   },
   {
    "duration": 18,
    "start_time": "2022-07-01T12:17:11.773Z"
   },
   {
    "duration": 19,
    "start_time": "2022-07-01T12:17:38.280Z"
   },
   {
    "duration": 19,
    "start_time": "2022-07-01T12:23:43.128Z"
   },
   {
    "duration": 13,
    "start_time": "2022-07-01T12:48:02.626Z"
   },
   {
    "duration": 63,
    "start_time": "2022-07-01T12:54:53.490Z"
   },
   {
    "duration": 8,
    "start_time": "2022-07-01T12:56:32.629Z"
   },
   {
    "duration": 21,
    "start_time": "2022-07-01T12:56:47.449Z"
   },
   {
    "duration": 16,
    "start_time": "2022-07-01T12:58:01.331Z"
   },
   {
    "duration": 13,
    "start_time": "2022-07-01T12:58:11.842Z"
   },
   {
    "duration": 25,
    "start_time": "2022-07-01T12:58:23.639Z"
   },
   {
    "duration": 79,
    "start_time": "2022-07-01T12:58:38.496Z"
   },
   {
    "duration": 119,
    "start_time": "2022-07-01T12:59:40.924Z"
   },
   {
    "duration": 3,
    "start_time": "2022-07-01T13:00:28.822Z"
   },
   {
    "duration": 14,
    "start_time": "2022-07-01T13:06:32.242Z"
   },
   {
    "duration": 13,
    "start_time": "2022-07-01T13:10:47.890Z"
   },
   {
    "duration": 84,
    "start_time": "2022-07-01T13:16:34.114Z"
   },
   {
    "duration": 302,
    "start_time": "2022-07-01T13:16:49.519Z"
   },
   {
    "duration": 104,
    "start_time": "2022-07-01T13:17:58.639Z"
   },
   {
    "duration": 21,
    "start_time": "2022-07-01T13:19:29.977Z"
   },
   {
    "duration": 127,
    "start_time": "2022-07-01T13:22:49.591Z"
   },
   {
    "duration": 134,
    "start_time": "2022-07-01T13:23:13.171Z"
   },
   {
    "duration": 24,
    "start_time": "2022-07-01T13:23:26.499Z"
   },
   {
    "duration": 123,
    "start_time": "2022-07-01T13:24:01.492Z"
   },
   {
    "duration": 74,
    "start_time": "2022-07-01T13:24:13.141Z"
   },
   {
    "duration": 106,
    "start_time": "2022-07-01T13:24:32.253Z"
   },
   {
    "duration": 38,
    "start_time": "2022-07-01T13:29:45.912Z"
   },
   {
    "duration": 48,
    "start_time": "2022-07-01T13:44:07.027Z"
   },
   {
    "duration": 28,
    "start_time": "2022-07-01T13:49:14.288Z"
   },
   {
    "duration": 34,
    "start_time": "2022-07-01T13:49:21.012Z"
   },
   {
    "duration": 29,
    "start_time": "2022-07-01T14:01:58.792Z"
   },
   {
    "duration": 31,
    "start_time": "2022-07-01T14:03:17.206Z"
   },
   {
    "duration": 7,
    "start_time": "2022-07-01T14:05:26.857Z"
   },
   {
    "duration": 17,
    "start_time": "2022-07-01T14:05:36.022Z"
   },
   {
    "duration": 20,
    "start_time": "2022-07-01T14:05:50.595Z"
   },
   {
    "duration": 5,
    "start_time": "2022-07-01T14:05:57.876Z"
   },
   {
    "duration": 4,
    "start_time": "2022-07-01T14:06:04.950Z"
   },
   {
    "duration": 19,
    "start_time": "2022-07-01T14:06:38.855Z"
   },
   {
    "duration": 4,
    "start_time": "2022-07-01T14:06:39.366Z"
   },
   {
    "duration": 36,
    "start_time": "2022-07-01T14:06:49.256Z"
   },
   {
    "duration": 31,
    "start_time": "2022-07-01T14:18:59.269Z"
   },
   {
    "duration": 123,
    "start_time": "2022-07-01T14:19:16.707Z"
   },
   {
    "duration": 111,
    "start_time": "2022-07-01T14:19:30.032Z"
   },
   {
    "duration": 27,
    "start_time": "2022-07-01T14:20:07.379Z"
   },
   {
    "duration": 29,
    "start_time": "2022-07-01T14:21:33.278Z"
   },
   {
    "duration": 25,
    "start_time": "2022-07-01T14:21:45.141Z"
   },
   {
    "duration": 23,
    "start_time": "2022-07-01T14:22:05.486Z"
   },
   {
    "duration": 15,
    "start_time": "2022-07-01T14:23:17.169Z"
   },
   {
    "duration": 217,
    "start_time": "2022-07-01T14:23:44.701Z"
   },
   {
    "duration": 138,
    "start_time": "2022-07-01T14:23:51.513Z"
   },
   {
    "duration": 253,
    "start_time": "2022-07-01T14:24:03.101Z"
   },
   {
    "duration": 26,
    "start_time": "2022-07-01T14:24:23.349Z"
   },
   {
    "duration": 15,
    "start_time": "2022-07-01T14:25:39.086Z"
   },
   {
    "duration": 16,
    "start_time": "2022-07-01T14:25:45.263Z"
   },
   {
    "duration": 12,
    "start_time": "2022-07-01T14:26:08.448Z"
   },
   {
    "duration": 90,
    "start_time": "2022-07-01T14:27:32.039Z"
   },
   {
    "duration": 21,
    "start_time": "2022-07-01T14:30:14.371Z"
   },
   {
    "duration": 124,
    "start_time": "2022-07-01T14:34:33.620Z"
   },
   {
    "duration": 20,
    "start_time": "2022-07-01T14:37:57.898Z"
   },
   {
    "duration": 45,
    "start_time": "2022-07-01T14:39:38.142Z"
   },
   {
    "duration": 19,
    "start_time": "2022-07-01T14:40:04.945Z"
   },
   {
    "duration": 104,
    "start_time": "2022-07-01T14:41:01.340Z"
   },
   {
    "duration": 124,
    "start_time": "2022-07-01T14:41:30.175Z"
   },
   {
    "duration": 25,
    "start_time": "2022-07-01T14:41:38.580Z"
   },
   {
    "duration": 120,
    "start_time": "2022-07-01T14:41:58.459Z"
   },
   {
    "duration": 126,
    "start_time": "2022-07-01T14:42:33.052Z"
   },
   {
    "duration": 28,
    "start_time": "2022-07-01T14:42:45.142Z"
   },
   {
    "duration": 96,
    "start_time": "2022-07-01T14:43:16.416Z"
   },
   {
    "duration": 18,
    "start_time": "2022-07-01T14:43:29.881Z"
   },
   {
    "duration": 17,
    "start_time": "2022-07-01T14:43:55.567Z"
   },
   {
    "duration": 18,
    "start_time": "2022-07-01T14:44:01.688Z"
   },
   {
    "duration": 126,
    "start_time": "2022-07-01T14:45:42.327Z"
   },
   {
    "duration": 110,
    "start_time": "2022-07-01T14:46:08.942Z"
   },
   {
    "duration": 43,
    "start_time": "2022-07-01T19:39:54.383Z"
   },
   {
    "duration": 34032,
    "start_time": "2022-07-01T19:40:00.379Z"
   },
   {
    "duration": 155,
    "start_time": "2022-07-01T19:40:34.413Z"
   },
   {
    "duration": 13,
    "start_time": "2022-07-01T19:40:34.570Z"
   },
   {
    "duration": 32,
    "start_time": "2022-07-01T19:40:34.584Z"
   },
   {
    "duration": 18,
    "start_time": "2022-07-01T19:40:34.619Z"
   },
   {
    "duration": 26,
    "start_time": "2022-07-01T19:40:34.639Z"
   },
   {
    "duration": 29,
    "start_time": "2022-07-01T19:42:11.881Z"
   },
   {
    "duration": 13,
    "start_time": "2022-07-01T19:42:14.368Z"
   },
   {
    "duration": 181,
    "start_time": "2022-07-01T19:42:36.036Z"
   },
   {
    "duration": 18,
    "start_time": "2022-07-01T19:45:19.892Z"
   },
   {
    "duration": 106,
    "start_time": "2022-07-01T19:47:01.273Z"
   },
   {
    "duration": 28,
    "start_time": "2022-07-01T19:47:07.468Z"
   },
   {
    "duration": 118,
    "start_time": "2022-07-01T19:48:22.655Z"
   },
   {
    "duration": 148,
    "start_time": "2022-07-01T19:48:27.680Z"
   },
   {
    "duration": 18,
    "start_time": "2022-07-01T19:48:39.292Z"
   },
   {
    "duration": 123,
    "start_time": "2022-07-01T19:48:48.176Z"
   },
   {
    "duration": 19,
    "start_time": "2022-07-01T19:48:59.678Z"
   },
   {
    "duration": 18,
    "start_time": "2022-07-01T19:56:55.880Z"
   },
   {
    "duration": 20,
    "start_time": "2022-07-01T19:57:30.130Z"
   },
   {
    "duration": 44,
    "start_time": "2022-07-01T20:01:53.987Z"
   },
   {
    "duration": 112,
    "start_time": "2022-07-01T20:02:35.215Z"
   },
   {
    "duration": 23,
    "start_time": "2022-07-01T20:03:02.854Z"
   },
   {
    "duration": 13,
    "start_time": "2022-07-01T20:03:48.301Z"
   },
   {
    "duration": 208,
    "start_time": "2022-07-01T20:04:49.035Z"
   },
   {
    "duration": 21,
    "start_time": "2022-07-01T20:06:28.902Z"
   },
   {
    "duration": 27,
    "start_time": "2022-07-01T20:06:35.180Z"
   },
   {
    "duration": 15,
    "start_time": "2022-07-01T20:06:48.719Z"
   },
   {
    "duration": 18,
    "start_time": "2022-07-01T20:13:30.684Z"
   },
   {
    "duration": 27,
    "start_time": "2022-07-01T20:14:01.610Z"
   },
   {
    "duration": 26,
    "start_time": "2022-07-01T20:18:37.244Z"
   },
   {
    "duration": 257,
    "start_time": "2022-07-01T20:20:30.492Z"
   },
   {
    "duration": 15,
    "start_time": "2022-07-01T20:20:43.226Z"
   },
   {
    "duration": 118,
    "start_time": "2022-07-01T20:22:23.445Z"
   },
   {
    "duration": 68,
    "start_time": "2022-07-01T20:22:28.114Z"
   },
   {
    "duration": 117,
    "start_time": "2022-07-01T20:23:30.932Z"
   },
   {
    "duration": 17,
    "start_time": "2022-07-01T20:23:42.340Z"
   },
   {
    "duration": 195,
    "start_time": "2022-07-01T20:24:21.077Z"
   },
   {
    "duration": 112,
    "start_time": "2022-07-01T20:24:36.409Z"
   },
   {
    "duration": 21,
    "start_time": "2022-07-01T20:24:50.196Z"
   },
   {
    "duration": 136,
    "start_time": "2022-07-01T20:27:34.078Z"
   },
   {
    "duration": 15,
    "start_time": "2022-07-01T20:27:43.631Z"
   },
   {
    "duration": 104,
    "start_time": "2022-07-01T20:30:28.593Z"
   },
   {
    "duration": 203,
    "start_time": "2022-07-01T20:30:35.792Z"
   },
   {
    "duration": 224,
    "start_time": "2022-07-01T20:32:58.643Z"
   },
   {
    "duration": 118,
    "start_time": "2022-07-01T20:33:15.478Z"
   },
   {
    "duration": 19,
    "start_time": "2022-07-01T20:33:25.237Z"
   },
   {
    "duration": 13,
    "start_time": "2022-07-01T20:34:07.651Z"
   },
   {
    "duration": 273,
    "start_time": "2022-07-01T20:35:06.317Z"
   },
   {
    "duration": 125,
    "start_time": "2022-07-01T20:36:31.311Z"
   },
   {
    "duration": 16,
    "start_time": "2022-07-01T20:36:38.239Z"
   },
   {
    "duration": 16,
    "start_time": "2022-07-01T20:39:21.519Z"
   },
   {
    "duration": 332,
    "start_time": "2022-07-01T20:40:24.722Z"
   },
   {
    "duration": 322,
    "start_time": "2022-07-01T20:40:30.490Z"
   },
   {
    "duration": 17,
    "start_time": "2022-07-01T20:41:23.092Z"
   },
   {
    "duration": 23,
    "start_time": "2022-07-01T20:41:49.642Z"
   },
   {
    "duration": 139,
    "start_time": "2022-07-01T20:41:57.144Z"
   },
   {
    "duration": 143,
    "start_time": "2022-07-01T20:42:03.880Z"
   },
   {
    "duration": 16,
    "start_time": "2022-07-01T20:42:11.507Z"
   },
   {
    "duration": 14,
    "start_time": "2022-07-01T20:42:21.377Z"
   },
   {
    "duration": 114,
    "start_time": "2022-07-01T20:56:03.919Z"
   },
   {
    "duration": 198,
    "start_time": "2022-07-01T20:56:23.149Z"
   },
   {
    "duration": 14,
    "start_time": "2022-07-01T20:56:30.982Z"
   },
   {
    "duration": 121,
    "start_time": "2022-07-01T20:58:05.648Z"
   },
   {
    "duration": 136,
    "start_time": "2022-07-01T20:59:33.121Z"
   },
   {
    "duration": 14,
    "start_time": "2022-07-01T21:00:01.679Z"
   },
   {
    "duration": 155,
    "start_time": "2022-07-01T21:01:08.111Z"
   },
   {
    "duration": 120,
    "start_time": "2022-07-01T21:01:17.222Z"
   },
   {
    "duration": 116,
    "start_time": "2022-07-01T21:01:21.581Z"
   },
   {
    "duration": 15,
    "start_time": "2022-07-01T21:02:48.939Z"
   },
   {
    "duration": 18,
    "start_time": "2022-07-01T21:06:47.243Z"
   },
   {
    "duration": 15,
    "start_time": "2022-07-01T21:06:54.457Z"
   },
   {
    "duration": 15,
    "start_time": "2022-07-01T21:08:02.443Z"
   },
   {
    "duration": 103,
    "start_time": "2022-07-01T21:09:01.190Z"
   },
   {
    "duration": 106,
    "start_time": "2022-07-01T21:12:43.681Z"
   },
   {
    "duration": 101,
    "start_time": "2022-07-01T21:12:55.199Z"
   },
   {
    "duration": 105,
    "start_time": "2022-07-01T21:13:07.837Z"
   },
   {
    "duration": 26,
    "start_time": "2022-07-01T21:14:12.928Z"
   },
   {
    "duration": 17,
    "start_time": "2022-07-01T21:14:30.875Z"
   },
   {
    "duration": 143,
    "start_time": "2022-07-01T21:16:00.211Z"
   },
   {
    "duration": 122,
    "start_time": "2022-07-01T21:16:23.680Z"
   },
   {
    "duration": 14,
    "start_time": "2022-07-01T21:16:33.895Z"
   },
   {
    "duration": 15,
    "start_time": "2022-07-01T21:17:15.899Z"
   },
   {
    "duration": 14,
    "start_time": "2022-07-01T21:20:29.544Z"
   },
   {
    "duration": 116,
    "start_time": "2022-07-01T21:21:37.726Z"
   },
   {
    "duration": 24,
    "start_time": "2022-07-01T21:22:03.320Z"
   },
   {
    "duration": 126,
    "start_time": "2022-07-01T21:22:43.280Z"
   },
   {
    "duration": 23,
    "start_time": "2022-07-01T21:26:07.647Z"
   },
   {
    "duration": 14,
    "start_time": "2022-07-01T21:29:42.272Z"
   },
   {
    "duration": 14,
    "start_time": "2022-07-01T21:34:13.815Z"
   },
   {
    "duration": 13,
    "start_time": "2022-07-01T21:34:47.298Z"
   },
   {
    "duration": 17,
    "start_time": "2022-07-01T21:35:21.343Z"
   },
   {
    "duration": 12,
    "start_time": "2022-07-01T21:35:48.778Z"
   },
   {
    "duration": 18,
    "start_time": "2022-07-01T21:36:16.284Z"
   },
   {
    "duration": 14,
    "start_time": "2022-07-01T21:36:48.970Z"
   },
   {
    "duration": 13,
    "start_time": "2022-07-01T21:36:54.442Z"
   },
   {
    "duration": 173,
    "start_time": "2022-07-01T21:38:14.434Z"
   },
   {
    "duration": 101,
    "start_time": "2022-07-01T21:38:54.891Z"
   },
   {
    "duration": 14,
    "start_time": "2022-07-01T21:39:13.617Z"
   },
   {
    "duration": 15,
    "start_time": "2022-07-01T21:39:16.648Z"
   },
   {
    "duration": 27,
    "start_time": "2022-07-01T21:39:32.921Z"
   },
   {
    "duration": 144,
    "start_time": "2022-07-01T21:39:40.511Z"
   },
   {
    "duration": 14,
    "start_time": "2022-07-01T21:39:49.512Z"
   },
   {
    "duration": 322,
    "start_time": "2022-07-01T21:40:11.768Z"
   },
   {
    "duration": 27,
    "start_time": "2022-07-01T21:41:44.126Z"
   },
   {
    "duration": 14,
    "start_time": "2022-07-01T21:41:54.082Z"
   },
   {
    "duration": 109,
    "start_time": "2022-07-01T21:42:05.620Z"
   },
   {
    "duration": 101,
    "start_time": "2022-07-01T21:42:43.994Z"
   },
   {
    "duration": 13,
    "start_time": "2022-07-01T21:43:02.000Z"
   },
   {
    "duration": 15,
    "start_time": "2022-07-01T21:43:13.668Z"
   },
   {
    "duration": 113,
    "start_time": "2022-07-01T21:43:21.918Z"
   },
   {
    "duration": 17,
    "start_time": "2022-07-01T21:43:28.840Z"
   },
   {
    "duration": 128,
    "start_time": "2022-07-01T21:44:34.177Z"
   },
   {
    "duration": 29,
    "start_time": "2022-07-01T21:44:39.425Z"
   },
   {
    "duration": 13,
    "start_time": "2022-07-01T21:45:34.568Z"
   },
   {
    "duration": 14,
    "start_time": "2022-07-01T21:45:44.406Z"
   },
   {
    "duration": 15,
    "start_time": "2022-07-01T21:45:59.868Z"
   }
  ],
  "kernelspec": {
   "display_name": "Python 3 (ipykernel)",
   "language": "python",
   "name": "python3"
  },
  "language_info": {
   "codemirror_mode": {
    "name": "ipython",
    "version": 3
   },
   "file_extension": ".py",
   "mimetype": "text/x-python",
   "name": "python",
   "nbconvert_exporter": "python",
   "pygments_lexer": "ipython3",
   "version": "3.9.12"
  },
  "toc": {
   "base_numbering": 1,
   "nav_menu": {},
   "number_sections": true,
   "sideBar": true,
   "skip_h1_title": false,
   "title_cell": "Table of Contents",
   "title_sidebar": "Contents",
   "toc_cell": false,
   "toc_position": {},
   "toc_section_display": true,
   "toc_window_display": true
  }
 },
 "nbformat": 4,
 "nbformat_minor": 2
}
