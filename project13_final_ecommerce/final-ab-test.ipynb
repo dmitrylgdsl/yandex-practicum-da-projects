{
 "cells": [
  {
   "cell_type": "markdown",
   "metadata": {},
   "source": [
    "# A/B-тестирование"
   ]
  },
  {
   "cell_type": "markdown",
   "metadata": {},
   "source": [
    "# Постановка задачи\n",
    "Ваша задача — провести оценку результатов A/B-теста. В вашем распоряжении\n",
    "есть датасет с действиями пользователей, техническое задание и несколько\n",
    "вспомогательных датасетов.\n",
    "* Оцените корректность проведения теста,\n",
    "* Проанализируйте результаты теста.\n",
    "\n",
    "Чтобы оценить корректность проведения теста, проверьте:\n",
    "* Пересечение тестовой аудитории с конкурирующим тестом,\n",
    "* Совпадение теста и маркетинговых событий,\n",
    "* Другие проблемы временных границ теста."
   ]
  },
  {
   "cell_type": "markdown",
   "metadata": {},
   "source": [
    "# Техническое задание\n",
    "* Название теста: recommender_system_test;\n",
    "* группы: А — контрольная, B — новая платёжная воронка;\n",
    "* дата запуска: 2020-12-07;\n",
    "* дата остановки набора новых пользователей: 2020-12-21;\n",
    "* дата остановки: 2021-01-04;\n",
    "* аудитория: 15% новых пользователей из региона EU;\n",
    "* назначение теста: тестирование изменений, связанных с внедрением улучшенной рекомендательной системы;\n",
    "* ожидаемое количество участников теста: 6000.\n",
    "* ожидаемый эффект: за 14 дней с момента регистрации пользователи покажут улучшение каждой метрики не менее, чем на 10%:\n",
    "    * конверсии в просмотр карточек товаров — событие product_page,\n",
    "    * просмотры корзины — product_cart,\n",
    "    * покупки — purchase."
   ]
  },
  {
   "cell_type": "markdown",
   "metadata": {},
   "source": [
    "# Описание данных\n",
    "\n",
    "<b>final_ab_marketing_events.csv</b> — календарь маркетинговых событий на 2020 год.<br>\n",
    "* name — название маркетингового события;\n",
    "* regions — регионы, в которых будет проводиться рекламная кампания;\n",
    "* start_dt — дата начала кампании;\n",
    "* finish_dt — дата завершения кампании.\n",
    "\n",
    "\n",
    "<b>final_ab_new_users.csv</b> — пользователи, зарегистрировавшиеся с 7 по 21 декабря 2020 года.<br>\n",
    "* user_id — идентификатор пользователя;\n",
    "* first_date — дата регистрации;\n",
    "* region — регион пользователя;\n",
    "* device — устройство, с которого происходила регистрация.\n",
    "\n",
    "\n",
    "\n",
    "<b>final_ab_events.csv</b> — действия новых пользователей в период с 7 декабря 2020 по 4 января 2021 года.<br>\n",
    "* user_id — идентификатор пользователя;\n",
    "* event_dt — дата и время покупки;\n",
    "* event_name — тип события;\n",
    "* details — дополнительные данные о событии. Например, для покупок, purchase — в этом поле хранится стоимость покупки в долларах.\n",
    "\n",
    "<b>final_ab_participants.csv</b> — таблица участников тестов.<br>\n",
    "* user_id — идентификатор пользователя;\n",
    "* ab_test — название теста;\n",
    "* group — группа пользователя."
   ]
  },
  {
   "cell_type": "markdown",
   "metadata": {},
   "source": [
    "# Загрузка данных и подготовка их к анализу"
   ]
  },
  {
   "cell_type": "code",
   "execution_count": 1,
   "metadata": {
    "scrolled": true
   },
   "outputs": [],
   "source": [
    "# Импортируем библиотеки\n",
    "import pandas as pd\n",
    "import numpy as np\n",
    "import matplotlib.pyplot as plt\n",
    "import seaborn as sns\n",
    "from plotly import graph_objects as go\n",
    "from statsmodels.stats.proportion import proportions_ztest"
   ]
  },
  {
   "cell_type": "code",
   "execution_count": 2,
   "metadata": {
    "scrolled": false
   },
   "outputs": [
    {
     "data": {
      "text/html": [
       "<div>\n",
       "<style scoped>\n",
       "    .dataframe tbody tr th:only-of-type {\n",
       "        vertical-align: middle;\n",
       "    }\n",
       "\n",
       "    .dataframe tbody tr th {\n",
       "        vertical-align: top;\n",
       "    }\n",
       "\n",
       "    .dataframe thead th {\n",
       "        text-align: right;\n",
       "    }\n",
       "</style>\n",
       "<table border=\"1\" class=\"dataframe\">\n",
       "  <thead>\n",
       "    <tr style=\"text-align: right;\">\n",
       "      <th></th>\n",
       "      <th>name</th>\n",
       "      <th>regions</th>\n",
       "      <th>start_dt</th>\n",
       "      <th>finish_dt</th>\n",
       "    </tr>\n",
       "  </thead>\n",
       "  <tbody>\n",
       "    <tr>\n",
       "      <th>0</th>\n",
       "      <td>Christmas&amp;New Year Promo</td>\n",
       "      <td>EU, N.America</td>\n",
       "      <td>2020-12-25</td>\n",
       "      <td>2021-01-03</td>\n",
       "    </tr>\n",
       "    <tr>\n",
       "      <th>1</th>\n",
       "      <td>St. Valentine's Day Giveaway</td>\n",
       "      <td>EU, CIS, APAC, N.America</td>\n",
       "      <td>2020-02-14</td>\n",
       "      <td>2020-02-16</td>\n",
       "    </tr>\n",
       "    <tr>\n",
       "      <th>2</th>\n",
       "      <td>St. Patric's Day Promo</td>\n",
       "      <td>EU, N.America</td>\n",
       "      <td>2020-03-17</td>\n",
       "      <td>2020-03-19</td>\n",
       "    </tr>\n",
       "    <tr>\n",
       "      <th>3</th>\n",
       "      <td>Easter Promo</td>\n",
       "      <td>EU, CIS, APAC, N.America</td>\n",
       "      <td>2020-04-12</td>\n",
       "      <td>2020-04-19</td>\n",
       "    </tr>\n",
       "    <tr>\n",
       "      <th>4</th>\n",
       "      <td>4th of July Promo</td>\n",
       "      <td>N.America</td>\n",
       "      <td>2020-07-04</td>\n",
       "      <td>2020-07-11</td>\n",
       "    </tr>\n",
       "  </tbody>\n",
       "</table>\n",
       "</div>"
      ],
      "text/plain": [
       "                           name                   regions    start_dt  \\\n",
       "0      Christmas&New Year Promo             EU, N.America  2020-12-25   \n",
       "1  St. Valentine's Day Giveaway  EU, CIS, APAC, N.America  2020-02-14   \n",
       "2        St. Patric's Day Promo             EU, N.America  2020-03-17   \n",
       "3                  Easter Promo  EU, CIS, APAC, N.America  2020-04-12   \n",
       "4             4th of July Promo                 N.America  2020-07-04   \n",
       "\n",
       "    finish_dt  \n",
       "0  2021-01-03  \n",
       "1  2020-02-16  \n",
       "2  2020-03-19  \n",
       "3  2020-04-19  \n",
       "4  2020-07-11  "
      ]
     },
     "metadata": {},
     "output_type": "display_data"
    },
    {
     "name": "stdout",
     "output_type": "stream",
     "text": [
      "Общая информация:\n",
      "<class 'pandas.core.frame.DataFrame'>\n",
      "RangeIndex: 14 entries, 0 to 13\n",
      "Data columns (total 4 columns):\n",
      " #   Column     Non-Null Count  Dtype \n",
      "---  ------     --------------  ----- \n",
      " 0   name       14 non-null     object\n",
      " 1   regions    14 non-null     object\n",
      " 2   start_dt   14 non-null     object\n",
      " 3   finish_dt  14 non-null     object\n",
      "dtypes: object(4)\n",
      "memory usage: 576.0+ bytes\n",
      "\n",
      "Количество пропуков:\n",
      "name         0.0\n",
      "regions      0.0\n",
      "start_dt     0.0\n",
      "finish_dt    0.0\n",
      "dtype: float64\n",
      "\n",
      "Количество полных дубликатов: 0\n",
      "\n"
     ]
    },
    {
     "data": {
      "text/html": [
       "<div>\n",
       "<style scoped>\n",
       "    .dataframe tbody tr th:only-of-type {\n",
       "        vertical-align: middle;\n",
       "    }\n",
       "\n",
       "    .dataframe tbody tr th {\n",
       "        vertical-align: top;\n",
       "    }\n",
       "\n",
       "    .dataframe thead th {\n",
       "        text-align: right;\n",
       "    }\n",
       "</style>\n",
       "<table border=\"1\" class=\"dataframe\">\n",
       "  <thead>\n",
       "    <tr style=\"text-align: right;\">\n",
       "      <th></th>\n",
       "      <th>user_id</th>\n",
       "      <th>first_date</th>\n",
       "      <th>region</th>\n",
       "      <th>device</th>\n",
       "    </tr>\n",
       "  </thead>\n",
       "  <tbody>\n",
       "    <tr>\n",
       "      <th>0</th>\n",
       "      <td>D72A72121175D8BE</td>\n",
       "      <td>2020-12-07</td>\n",
       "      <td>EU</td>\n",
       "      <td>PC</td>\n",
       "    </tr>\n",
       "    <tr>\n",
       "      <th>1</th>\n",
       "      <td>F1C668619DFE6E65</td>\n",
       "      <td>2020-12-07</td>\n",
       "      <td>N.America</td>\n",
       "      <td>Android</td>\n",
       "    </tr>\n",
       "    <tr>\n",
       "      <th>2</th>\n",
       "      <td>2E1BF1D4C37EA01F</td>\n",
       "      <td>2020-12-07</td>\n",
       "      <td>EU</td>\n",
       "      <td>PC</td>\n",
       "    </tr>\n",
       "    <tr>\n",
       "      <th>3</th>\n",
       "      <td>50734A22C0C63768</td>\n",
       "      <td>2020-12-07</td>\n",
       "      <td>EU</td>\n",
       "      <td>iPhone</td>\n",
       "    </tr>\n",
       "    <tr>\n",
       "      <th>4</th>\n",
       "      <td>E1BDDCE0DAFA2679</td>\n",
       "      <td>2020-12-07</td>\n",
       "      <td>N.America</td>\n",
       "      <td>iPhone</td>\n",
       "    </tr>\n",
       "  </tbody>\n",
       "</table>\n",
       "</div>"
      ],
      "text/plain": [
       "            user_id  first_date     region   device\n",
       "0  D72A72121175D8BE  2020-12-07         EU       PC\n",
       "1  F1C668619DFE6E65  2020-12-07  N.America  Android\n",
       "2  2E1BF1D4C37EA01F  2020-12-07         EU       PC\n",
       "3  50734A22C0C63768  2020-12-07         EU   iPhone\n",
       "4  E1BDDCE0DAFA2679  2020-12-07  N.America   iPhone"
      ]
     },
     "metadata": {},
     "output_type": "display_data"
    },
    {
     "name": "stdout",
     "output_type": "stream",
     "text": [
      "Общая информация:\n",
      "<class 'pandas.core.frame.DataFrame'>\n",
      "RangeIndex: 61733 entries, 0 to 61732\n",
      "Data columns (total 4 columns):\n",
      " #   Column      Non-Null Count  Dtype \n",
      "---  ------      --------------  ----- \n",
      " 0   user_id     61733 non-null  object\n",
      " 1   first_date  61733 non-null  object\n",
      " 2   region      61733 non-null  object\n",
      " 3   device      61733 non-null  object\n",
      "dtypes: object(4)\n",
      "memory usage: 1.9+ MB\n",
      "\n",
      "Количество пропуков:\n",
      "user_id       0.0\n",
      "first_date    0.0\n",
      "region        0.0\n",
      "device        0.0\n",
      "dtype: float64\n",
      "\n",
      "Количество полных дубликатов: 0\n",
      "\n"
     ]
    },
    {
     "data": {
      "text/html": [
       "<div>\n",
       "<style scoped>\n",
       "    .dataframe tbody tr th:only-of-type {\n",
       "        vertical-align: middle;\n",
       "    }\n",
       "\n",
       "    .dataframe tbody tr th {\n",
       "        vertical-align: top;\n",
       "    }\n",
       "\n",
       "    .dataframe thead th {\n",
       "        text-align: right;\n",
       "    }\n",
       "</style>\n",
       "<table border=\"1\" class=\"dataframe\">\n",
       "  <thead>\n",
       "    <tr style=\"text-align: right;\">\n",
       "      <th></th>\n",
       "      <th>user_id</th>\n",
       "      <th>event_dt</th>\n",
       "      <th>event_name</th>\n",
       "      <th>details</th>\n",
       "    </tr>\n",
       "  </thead>\n",
       "  <tbody>\n",
       "    <tr>\n",
       "      <th>0</th>\n",
       "      <td>E1BDDCE0DAFA2679</td>\n",
       "      <td>2020-12-07 20:22:03</td>\n",
       "      <td>purchase</td>\n",
       "      <td>99.99</td>\n",
       "    </tr>\n",
       "    <tr>\n",
       "      <th>1</th>\n",
       "      <td>7B6452F081F49504</td>\n",
       "      <td>2020-12-07 09:22:53</td>\n",
       "      <td>purchase</td>\n",
       "      <td>9.99</td>\n",
       "    </tr>\n",
       "    <tr>\n",
       "      <th>2</th>\n",
       "      <td>9CD9F34546DF254C</td>\n",
       "      <td>2020-12-07 12:59:29</td>\n",
       "      <td>purchase</td>\n",
       "      <td>4.99</td>\n",
       "    </tr>\n",
       "    <tr>\n",
       "      <th>3</th>\n",
       "      <td>96F27A054B191457</td>\n",
       "      <td>2020-12-07 04:02:40</td>\n",
       "      <td>purchase</td>\n",
       "      <td>4.99</td>\n",
       "    </tr>\n",
       "    <tr>\n",
       "      <th>4</th>\n",
       "      <td>1FD7660FDF94CA1F</td>\n",
       "      <td>2020-12-07 10:15:09</td>\n",
       "      <td>purchase</td>\n",
       "      <td>4.99</td>\n",
       "    </tr>\n",
       "  </tbody>\n",
       "</table>\n",
       "</div>"
      ],
      "text/plain": [
       "            user_id             event_dt event_name  details\n",
       "0  E1BDDCE0DAFA2679  2020-12-07 20:22:03   purchase    99.99\n",
       "1  7B6452F081F49504  2020-12-07 09:22:53   purchase     9.99\n",
       "2  9CD9F34546DF254C  2020-12-07 12:59:29   purchase     4.99\n",
       "3  96F27A054B191457  2020-12-07 04:02:40   purchase     4.99\n",
       "4  1FD7660FDF94CA1F  2020-12-07 10:15:09   purchase     4.99"
      ]
     },
     "metadata": {},
     "output_type": "display_data"
    },
    {
     "name": "stdout",
     "output_type": "stream",
     "text": [
      "Общая информация:\n",
      "<class 'pandas.core.frame.DataFrame'>\n",
      "RangeIndex: 440317 entries, 0 to 440316\n",
      "Data columns (total 4 columns):\n",
      " #   Column      Non-Null Count   Dtype  \n",
      "---  ------      --------------   -----  \n",
      " 0   user_id     440317 non-null  object \n",
      " 1   event_dt    440317 non-null  object \n",
      " 2   event_name  440317 non-null  object \n",
      " 3   details     62740 non-null   float64\n",
      "dtypes: float64(1), object(3)\n",
      "memory usage: 13.4+ MB\n",
      "\n",
      "Количество пропуков:\n",
      "user_id        0.00\n",
      "event_dt       0.00\n",
      "event_name     0.00\n",
      "details       85.75\n",
      "dtype: float64\n",
      "\n",
      "Количество полных дубликатов: 0\n",
      "\n"
     ]
    },
    {
     "data": {
      "text/html": [
       "<div>\n",
       "<style scoped>\n",
       "    .dataframe tbody tr th:only-of-type {\n",
       "        vertical-align: middle;\n",
       "    }\n",
       "\n",
       "    .dataframe tbody tr th {\n",
       "        vertical-align: top;\n",
       "    }\n",
       "\n",
       "    .dataframe thead th {\n",
       "        text-align: right;\n",
       "    }\n",
       "</style>\n",
       "<table border=\"1\" class=\"dataframe\">\n",
       "  <thead>\n",
       "    <tr style=\"text-align: right;\">\n",
       "      <th></th>\n",
       "      <th>user_id</th>\n",
       "      <th>group</th>\n",
       "      <th>ab_test</th>\n",
       "    </tr>\n",
       "  </thead>\n",
       "  <tbody>\n",
       "    <tr>\n",
       "      <th>0</th>\n",
       "      <td>D1ABA3E2887B6A73</td>\n",
       "      <td>A</td>\n",
       "      <td>recommender_system_test</td>\n",
       "    </tr>\n",
       "    <tr>\n",
       "      <th>1</th>\n",
       "      <td>A7A3664BD6242119</td>\n",
       "      <td>A</td>\n",
       "      <td>recommender_system_test</td>\n",
       "    </tr>\n",
       "    <tr>\n",
       "      <th>2</th>\n",
       "      <td>DABC14FDDFADD29E</td>\n",
       "      <td>A</td>\n",
       "      <td>recommender_system_test</td>\n",
       "    </tr>\n",
       "    <tr>\n",
       "      <th>3</th>\n",
       "      <td>04988C5DF189632E</td>\n",
       "      <td>A</td>\n",
       "      <td>recommender_system_test</td>\n",
       "    </tr>\n",
       "    <tr>\n",
       "      <th>4</th>\n",
       "      <td>482F14783456D21B</td>\n",
       "      <td>B</td>\n",
       "      <td>recommender_system_test</td>\n",
       "    </tr>\n",
       "  </tbody>\n",
       "</table>\n",
       "</div>"
      ],
      "text/plain": [
       "            user_id group                  ab_test\n",
       "0  D1ABA3E2887B6A73     A  recommender_system_test\n",
       "1  A7A3664BD6242119     A  recommender_system_test\n",
       "2  DABC14FDDFADD29E     A  recommender_system_test\n",
       "3  04988C5DF189632E     A  recommender_system_test\n",
       "4  482F14783456D21B     B  recommender_system_test"
      ]
     },
     "metadata": {},
     "output_type": "display_data"
    },
    {
     "name": "stdout",
     "output_type": "stream",
     "text": [
      "Общая информация:\n",
      "<class 'pandas.core.frame.DataFrame'>\n",
      "RangeIndex: 18268 entries, 0 to 18267\n",
      "Data columns (total 3 columns):\n",
      " #   Column   Non-Null Count  Dtype \n",
      "---  ------   --------------  ----- \n",
      " 0   user_id  18268 non-null  object\n",
      " 1   group    18268 non-null  object\n",
      " 2   ab_test  18268 non-null  object\n",
      "dtypes: object(3)\n",
      "memory usage: 428.3+ KB\n",
      "\n",
      "Количество пропуков:\n",
      "user_id    0.0\n",
      "group      0.0\n",
      "ab_test    0.0\n",
      "dtype: float64\n",
      "\n",
      "Количество полных дубликатов: 0\n",
      "\n"
     ]
    }
   ],
   "source": [
    "#Открытие файлов\n",
    "mk_events = pd.read_csv('datasets/final_ab_marketing_events.csv')\n",
    "users = pd.read_csv('datasets/final_ab_new_users.csv')\n",
    "events = pd.read_csv('datasets/final_ab_events.csv')\n",
    "participants = pd.read_csv('datasets/final_ab_participants.csv')\n",
    "\n",
    "#Смотрим общую информацию\n",
    "for data in [mk_events, users, events, participants]:\n",
    "    display(data.head())\n",
    "    print('Общая информация:')\n",
    "    data.info()\n",
    "    print()\n",
    "    print('Количество пропуков:')\n",
    "    print(round((data.isna().mean()*100),2))\n",
    "    print()\n",
    "    print('Количество полных дубликатов:', data.duplicated().sum())\n",
    "    print()"
   ]
  },
  {
   "cell_type": "markdown",
   "metadata": {},
   "source": [
    "* <b>В таблице mk_events:</b><br>\n",
    "В стобцах start_dt и finish_dt необходимо привести даты к нужным типам. В столбцах name и regions привести названия к нижнему регистру.\n",
    "\n",
    "* <b>В таблце users:</b><br>\n",
    "Привести дату к нужному типу в столбце first_date. В столбцах region и device привести названия к нижнему регистру.\n",
    "\n",
    "* <b>В таблице events:</b><br>\n",
    "Привести дату к нужному типу в столбце event_dt. В столбце details пропуски в 85.75% строк: скорее всего просто не было дополнительных данных о событии, пропуски не будем трогать.\n",
    "\n",
    "* <b>В таблице participants:</b><br>\n",
    "На первый взгляд все хорошо."
   ]
  },
  {
   "cell_type": "code",
   "execution_count": 3,
   "metadata": {
    "scrolled": true
   },
   "outputs": [],
   "source": [
    "# Замена типов данных\n",
    "mk_events['start_dt'] = pd.to_datetime(mk_events['start_dt'])\n",
    "mk_events['finish_dt'] = pd.to_datetime(mk_events['finish_dt'])\n",
    "users['first_date'] = pd.to_datetime(users['first_date'])\n",
    "events['event_dt'] = pd.to_datetime(events['event_dt'])"
   ]
  },
  {
   "cell_type": "code",
   "execution_count": 4,
   "metadata": {
    "scrolled": true
   },
   "outputs": [],
   "source": [
    "# Приводим нужные столбцы к нижнему регистру\n",
    "mk_events['name'] = mk_events['name'].str.lower()\n",
    "mk_events['regions'] = mk_events['regions'].str.lower()\n",
    "users['region'] = users['region'].str.lower()\n",
    "users['device'] = users['device'].str.lower()"
   ]
  },
  {
   "cell_type": "code",
   "execution_count": 5,
   "metadata": {
    "scrolled": true
   },
   "outputs": [
    {
     "data": {
      "text/html": [
       "<div>\n",
       "<style scoped>\n",
       "    .dataframe tbody tr th:only-of-type {\n",
       "        vertical-align: middle;\n",
       "    }\n",
       "\n",
       "    .dataframe tbody tr th {\n",
       "        vertical-align: top;\n",
       "    }\n",
       "\n",
       "    .dataframe thead th {\n",
       "        text-align: right;\n",
       "    }\n",
       "</style>\n",
       "<table border=\"1\" class=\"dataframe\">\n",
       "  <thead>\n",
       "    <tr style=\"text-align: right;\">\n",
       "      <th></th>\n",
       "      <th>event_name</th>\n",
       "    </tr>\n",
       "  </thead>\n",
       "  <tbody>\n",
       "    <tr>\n",
       "      <th>login</th>\n",
       "      <td>189552</td>\n",
       "    </tr>\n",
       "    <tr>\n",
       "      <th>product_page</th>\n",
       "      <td>125563</td>\n",
       "    </tr>\n",
       "    <tr>\n",
       "      <th>purchase</th>\n",
       "      <td>62740</td>\n",
       "    </tr>\n",
       "    <tr>\n",
       "      <th>product_cart</th>\n",
       "      <td>62462</td>\n",
       "    </tr>\n",
       "  </tbody>\n",
       "</table>\n",
       "</div>"
      ],
      "text/plain": [
       "              event_name\n",
       "login             189552\n",
       "product_page      125563\n",
       "purchase           62740\n",
       "product_cart       62462"
      ]
     },
     "execution_count": 5,
     "metadata": {},
     "output_type": "execute_result"
    }
   ],
   "source": [
    "# Проверим пропуски в events/details:\n",
    "# Посмотрим уникальные типы события\n",
    "events['event_name'].value_counts().to_frame()"
   ]
  },
  {
   "cell_type": "code",
   "execution_count": 6,
   "metadata": {
    "scrolled": true
   },
   "outputs": [
    {
     "data": {
      "text/html": [
       "<div>\n",
       "<style scoped>\n",
       "    .dataframe tbody tr th:only-of-type {\n",
       "        vertical-align: middle;\n",
       "    }\n",
       "\n",
       "    .dataframe tbody tr th {\n",
       "        vertical-align: top;\n",
       "    }\n",
       "\n",
       "    .dataframe thead th {\n",
       "        text-align: right;\n",
       "    }\n",
       "</style>\n",
       "<table border=\"1\" class=\"dataframe\">\n",
       "  <thead>\n",
       "    <tr style=\"text-align: right;\">\n",
       "      <th></th>\n",
       "      <th>user_id</th>\n",
       "    </tr>\n",
       "    <tr>\n",
       "      <th>event_name</th>\n",
       "      <th></th>\n",
       "    </tr>\n",
       "  </thead>\n",
       "  <tbody>\n",
       "    <tr>\n",
       "      <th>login</th>\n",
       "      <td>189552</td>\n",
       "    </tr>\n",
       "    <tr>\n",
       "      <th>product_cart</th>\n",
       "      <td>62462</td>\n",
       "    </tr>\n",
       "    <tr>\n",
       "      <th>product_page</th>\n",
       "      <td>125563</td>\n",
       "    </tr>\n",
       "  </tbody>\n",
       "</table>\n",
       "</div>"
      ],
      "text/plain": [
       "              user_id\n",
       "event_name           \n",
       "login          189552\n",
       "product_cart    62462\n",
       "product_page   125563"
      ]
     },
     "execution_count": 6,
     "metadata": {},
     "output_type": "execute_result"
    }
   ],
   "source": [
    "# Смотрим к каким событиям не указаны дополнительные данные\n",
    "events[events['details'].isnull()].groupby('event_name').agg({'user_id' : 'count'})"
   ]
  },
  {
   "cell_type": "markdown",
   "metadata": {},
   "source": [
    "Получается, что в столбце details присутствуют только значения стоимости покупки в долларах для события purchase. Для событий login, product_cart, product_page\tдополнительные данные не предусмотрены. Оставляю пропуски как они есть."
   ]
  },
  {
   "cell_type": "code",
   "execution_count": 7,
   "metadata": {},
   "outputs": [
    {
     "data": {
      "image/png": "[encoded data removed]",
      "text/plain": [
       "<Figure size 1080x504 with 1 Axes>"
      ]
     },
     "metadata": {
      "needs_background": "light"
     },
     "output_type": "display_data"
    }
   ],
   "source": [
    "# Посмотрим количество событий в логе во времени\n",
    "events_date_count = events.groupby(events['event_dt'].dt.date).agg({'event_name': 'count'}).reset_index()\n",
    "events_date_count.columns = ['event_dt', 'n_events']\n",
    "events_date_count\n",
    "\n",
    "plt.figure(figsize=(15,7))\n",
    "sns.set_style('dark')\n",
    "sns.barplot(data=events_date_count, x='event_dt', y='n_events', color=\"salmon\")\n",
    "plt.title('Количество событий в логе по дате', fontsize=16)\n",
    "plt.xlabel('Дата')\n",
    "plt.ylabel('Количество событий')\n",
    "plt.xticks(rotation= 90)\n",
    "plt.show()"
   ]
  },
  {
   "cell_type": "markdown",
   "metadata": {},
   "source": [
    "Данные обрываются на 30.12.2020, причем полные данные только до 29.12.2020, а должны были быть до 04.01.2021 по условию технического задания. Скорее всего произошел сбой при выгрузке или записи данных. Пользователи которые смогут \"дожить\" до 14 дней зарегистрируются не позднее 15.12.2020."
   ]
  },
  {
   "cell_type": "code",
   "execution_count": 8,
   "metadata": {
    "scrolled": true
   },
   "outputs": [
    {
     "data": {
      "text/html": [
       "<div>\n",
       "<style scoped>\n",
       "    .dataframe tbody tr th:only-of-type {\n",
       "        vertical-align: middle;\n",
       "    }\n",
       "\n",
       "    .dataframe tbody tr th {\n",
       "        vertical-align: top;\n",
       "    }\n",
       "\n",
       "    .dataframe thead th {\n",
       "        text-align: right;\n",
       "    }\n",
       "</style>\n",
       "<table border=\"1\" class=\"dataframe\">\n",
       "  <thead>\n",
       "    <tr style=\"text-align: right;\">\n",
       "      <th></th>\n",
       "      <th>name</th>\n",
       "      <th>regions</th>\n",
       "      <th>start_dt</th>\n",
       "      <th>finish_dt</th>\n",
       "    </tr>\n",
       "  </thead>\n",
       "  <tbody>\n",
       "    <tr>\n",
       "      <th>0</th>\n",
       "      <td>christmas&amp;new year promo</td>\n",
       "      <td>eu, n.america</td>\n",
       "      <td>2020-12-25</td>\n",
       "      <td>2021-01-03</td>\n",
       "    </tr>\n",
       "    <tr>\n",
       "      <th>10</th>\n",
       "      <td>cis new year gift lottery</td>\n",
       "      <td>cis</td>\n",
       "      <td>2020-12-30</td>\n",
       "      <td>2021-01-07</td>\n",
       "    </tr>\n",
       "  </tbody>\n",
       "</table>\n",
       "</div>"
      ],
      "text/plain": [
       "                         name        regions   start_dt  finish_dt\n",
       "0    christmas&new year promo  eu, n.america 2020-12-25 2021-01-03\n",
       "10  cis new year gift lottery            cis 2020-12-30 2021-01-07"
      ]
     },
     "execution_count": 8,
     "metadata": {},
     "output_type": "execute_result"
    }
   ],
   "source": [
    "# Смотрим маркейтинговые событие, которые попадают на даты проведение нашего теста\n",
    "mk_events.query('start_dt <= \"2021-01-04\" & finish_dt >= \"2020-12-07\"')"
   ]
  },
  {
   "cell_type": "markdown",
   "metadata": {},
   "source": [
    "Возникают вопросы о корректности проведения тестирования так как маркейтинговое событие \"christmas&new year promo\" которое проводилось в регионе EU и пересекалось по времени с нашим тестом."
   ]
  },
  {
   "cell_type": "code",
   "execution_count": 9,
   "metadata": {
    "scrolled": true
   },
   "outputs": [
    {
     "name": "stdout",
     "output_type": "stream",
     "text": [
      "Минимальная дата: 2020-12-07 00:00:00\n",
      "Максимальная дата: 2020-12-23 00:00:00\n"
     ]
    }
   ],
   "source": [
    "# Проверим минимальную и максимальную даты регистрации пользователей\n",
    "print('Минимальная дата:', users['first_date'].min())\n",
    "print('Максимальная дата:', users['first_date'].max())"
   ]
  },
  {
   "cell_type": "markdown",
   "metadata": {},
   "source": [
    "Так как в техническом задании указано, что дата остановки набора новых пользователей: 2020-12-21, то удалим пользователей, которые зарегистрировались позже."
   ]
  },
  {
   "cell_type": "code",
   "execution_count": 10,
   "metadata": {
    "scrolled": true
   },
   "outputs": [
    {
     "name": "stdout",
     "output_type": "stream",
     "text": [
      "Период лога: 14 days 00:00:00\n"
     ]
    }
   ],
   "source": [
    "# Срез с 2020-12-07 по 2020-12-21 включительно\n",
    "new_users = users.query('first_date <= \"2020-12-21\"')\n",
    "print('Период лога:', new_users['first_date'].max() - new_users['first_date'].min())"
   ]
  },
  {
   "cell_type": "markdown",
   "metadata": {},
   "source": [
    "Так же оставим только пользователей из региона EU чего требует техническое задание"
   ]
  },
  {
   "cell_type": "code",
   "execution_count": 11,
   "metadata": {
    "scrolled": true
   },
   "outputs": [
    {
     "data": {
      "text/plain": [
       "eu    42340\n",
       "Name: region, dtype: int64"
      ]
     },
     "execution_count": 11,
     "metadata": {},
     "output_type": "execute_result"
    }
   ],
   "source": [
    "# Срез по EU пользователям\n",
    "new_users = new_users.query('region == \"eu\"')\n",
    "new_users['region'].value_counts()"
   ]
  },
  {
   "cell_type": "code",
   "execution_count": 12,
   "metadata": {},
   "outputs": [
    {
     "data": {
      "text/html": [
       "<div>\n",
       "<style scoped>\n",
       "    .dataframe tbody tr th:only-of-type {\n",
       "        vertical-align: middle;\n",
       "    }\n",
       "\n",
       "    .dataframe tbody tr th {\n",
       "        vertical-align: top;\n",
       "    }\n",
       "\n",
       "    .dataframe thead th {\n",
       "        text-align: right;\n",
       "    }\n",
       "</style>\n",
       "<table border=\"1\" class=\"dataframe\">\n",
       "  <thead>\n",
       "    <tr style=\"text-align: right;\">\n",
       "      <th></th>\n",
       "      <th>user_id</th>\n",
       "      <th>first_date</th>\n",
       "      <th>region</th>\n",
       "      <th>device</th>\n",
       "      <th>group</th>\n",
       "      <th>ab_test</th>\n",
       "    </tr>\n",
       "  </thead>\n",
       "  <tbody>\n",
       "    <tr>\n",
       "      <th>0</th>\n",
       "      <td>D72A72121175D8BE</td>\n",
       "      <td>2020-12-07</td>\n",
       "      <td>eu</td>\n",
       "      <td>pc</td>\n",
       "      <td>A</td>\n",
       "      <td>recommender_system_test</td>\n",
       "    </tr>\n",
       "    <tr>\n",
       "      <th>1</th>\n",
       "      <td>2E1BF1D4C37EA01F</td>\n",
       "      <td>2020-12-07</td>\n",
       "      <td>eu</td>\n",
       "      <td>pc</td>\n",
       "      <td>A</td>\n",
       "      <td>interface_eu_test</td>\n",
       "    </tr>\n",
       "    <tr>\n",
       "      <th>2</th>\n",
       "      <td>50734A22C0C63768</td>\n",
       "      <td>2020-12-07</td>\n",
       "      <td>eu</td>\n",
       "      <td>iphone</td>\n",
       "      <td>B</td>\n",
       "      <td>interface_eu_test</td>\n",
       "    </tr>\n",
       "    <tr>\n",
       "      <th>7</th>\n",
       "      <td>E6DE857AFBDC6102</td>\n",
       "      <td>2020-12-07</td>\n",
       "      <td>eu</td>\n",
       "      <td>pc</td>\n",
       "      <td>B</td>\n",
       "      <td>recommender_system_test</td>\n",
       "    </tr>\n",
       "    <tr>\n",
       "      <th>8</th>\n",
       "      <td>E6DE857AFBDC6102</td>\n",
       "      <td>2020-12-07</td>\n",
       "      <td>eu</td>\n",
       "      <td>pc</td>\n",
       "      <td>B</td>\n",
       "      <td>interface_eu_test</td>\n",
       "    </tr>\n",
       "  </tbody>\n",
       "</table>\n",
       "</div>"
      ],
      "text/plain": [
       "            user_id first_date region  device group                  ab_test\n",
       "0  D72A72121175D8BE 2020-12-07     eu      pc     A  recommender_system_test\n",
       "1  2E1BF1D4C37EA01F 2020-12-07     eu      pc     A        interface_eu_test\n",
       "2  50734A22C0C63768 2020-12-07     eu  iphone     B        interface_eu_test\n",
       "7  E6DE857AFBDC6102 2020-12-07     eu      pc     B  recommender_system_test\n",
       "8  E6DE857AFBDC6102 2020-12-07     eu      pc     B        interface_eu_test"
      ]
     },
     "execution_count": 12,
     "metadata": {},
     "output_type": "execute_result"
    }
   ],
   "source": [
    "# Смерджим новых пользователей из региона EU с информацией об участниках тестов\n",
    "users_merge = new_users.merge(participants, on='user_id', how='left').dropna()\n",
    "users_merge.head()"
   ]
  },
  {
   "cell_type": "code",
   "execution_count": 13,
   "metadata": {},
   "outputs": [
    {
     "data": {
      "text/plain": [
       "interface_eu_test          10565\n",
       "recommender_system_test     6351\n",
       "Name: ab_test, dtype: int64"
      ]
     },
     "execution_count": 13,
     "metadata": {},
     "output_type": "execute_result"
    }
   ],
   "source": [
    "# Смотрим разбитие пользователей по тесту\n",
    "users_merge['ab_test'].value_counts()"
   ]
  },
  {
   "cell_type": "markdown",
   "metadata": {},
   "source": [
    "В нашем тесте 6351 пользователь, что отвечает ожидаемому значению по техническому заданию."
   ]
  },
  {
   "cell_type": "code",
   "execution_count": 14,
   "metadata": {},
   "outputs": [
    {
     "name": "stdout",
     "output_type": "stream",
     "text": [
      "Доля участников теста относительно новых пользователей из региона \"Европа\": 15.00%\n"
     ]
    }
   ],
   "source": [
    "# Проверка доли участников теста относительно новых пользователей региона EU\n",
    "r_s_t = users_merge[users_merge['ab_test'] == 'recommender_system_test'] #наш тест\n",
    "print(\n",
    "    'Доля участников теста относительно новых пользователей из региона \"Европа\": {:.2f}%'.format(\n",
    "        len(r_s_t)/len(new_users)*100\n",
    "    )\n",
    ")"
   ]
  },
  {
   "cell_type": "markdown",
   "metadata": {},
   "source": [
    "Доля участников теста удовлетворяет условию технического задания."
   ]
  },
  {
   "cell_type": "code",
   "execution_count": 15,
   "metadata": {},
   "outputs": [
    {
     "data": {
      "text/plain": [
       "1602"
      ]
     },
     "execution_count": 15,
     "metadata": {},
     "output_type": "execute_result"
    }
   ],
   "source": [
    "# Проверим пользователей на пересечение тестов.\n",
    "twotests_users = users_merge.groupby('user_id').agg({'ab_test': 'nunique'}).reset_index()\n",
    "twotests_users.query('ab_test > 1').shape[0]"
   ]
  },
  {
   "cell_type": "markdown",
   "metadata": {},
   "source": [
    "Обнаружено, что 1602 пользователя участвовали в двух тестах одновременно, что второй раз ставит под вопрос корректности проведения теста."
   ]
  },
  {
   "cell_type": "code",
   "execution_count": 16,
   "metadata": {},
   "outputs": [
    {
     "data": {
      "text/plain": [
       "0"
      ]
     },
     "execution_count": 16,
     "metadata": {},
     "output_type": "execute_result"
    }
   ],
   "source": [
    "# Проверка пользователей на участие в двух группах теста.\n",
    "twogroup_users = r_s_t.groupby('user_id').agg({'group': 'nunique'}).reset_index()\n",
    "twogroup_users.query('group > 1').shape[0]"
   ]
  },
  {
   "cell_type": "markdown",
   "metadata": {},
   "source": [
    "Пользователей попавших одновременно в контрольную и тестовую группы не обнаружено."
   ]
  },
  {
   "cell_type": "code",
   "execution_count": 17,
   "metadata": {},
   "outputs": [
    {
     "data": {
      "image/png": "[encoded data removed]",
      "text/plain": [
       "<Figure size 720x144 with 1 Axes>"
      ]
     },
     "metadata": {},
     "output_type": "display_data"
    },
    {
     "name": "stdout",
     "output_type": "stream",
     "text": [
      "Соотношение групп:\n",
      "Группа А: 57%\n",
      "Группа B: 43%\n"
     ]
    }
   ],
   "source": [
    "# Распределение пользователей по группам теста\n",
    "group_users = r_s_t.groupby('group').agg({'user_id': 'count'})\n",
    "\n",
    "# Визуализируем\n",
    "plt.figure(figsize=(10,2))\n",
    "sns.set_style('dark')\n",
    "sns.barplot(data=group_users, x='user_id', y=group_users.index, orient='h')\n",
    "plt.title('Количество пользователей в каждой группе', fontsize=16)\n",
    "plt.xlabel('Количество пользователей')\n",
    "plt.ylabel('Группа')\n",
    "plt.show()\n",
    "\n",
    "print('Соотношение групп:')\n",
    "print('Группа А: {}%'.format(round(len(r_s_t.query('group == \"A\"'))/len(r_s_t)*100)))\n",
    "print('Группа B: {}%'.format(round(len(r_s_t.query('group == \"B\"'))/len(r_s_t)*100)))"
   ]
  },
  {
   "cell_type": "markdown",
   "metadata": {},
   "source": [
    "Группы теста распределены не равномерно. Есть перекос в сторону контрольной группы, но так как в техническом задании нам не сказано какое должно быть соотношение контрольной и тестовой группы предположим, что данное соотношение допустимо."
   ]
  },
  {
   "cell_type": "markdown",
   "metadata": {},
   "source": [
    "<b>Предварительные выводы:</b>\n",
    "* Проведена проверка на соответствие техническому заданию:\n",
    "    * Оставили пользователей зарегистрировавшихся с 07.12.2020 по 21.12.2020,\n",
    "    * Оставили пользователей только из региона EU,\n",
    "    * Доля участников теста относительно новых пользователей из региона EU соответствует 15%,\n",
    "    * Количество участников теста равна 6351, что удовлетворяет условию,\n",
    "    * Только пользователи зарегистрировавшиеся до 15.12.2020 \"доживут\" до 14 дней.\n",
    "* Возникают вопросы к корректности проведения теста из-за пересечения дат теста с маркетинговым событием \"christmas&new year promo\" который проводился для региона EU. А целевая аудитория нашего теста именно от туда.\n",
    "* Возникают вопросы к корректности проведения теста из-за пересечения аудитории с конкурирующим тестом. Обнаружено, что 1602 пользователя участвовали в двух тестах одновременно.\n",
    "* Группы теста распределены не равномерно: 57/43% соответственно."
   ]
  },
  {
   "cell_type": "markdown",
   "metadata": {},
   "source": [
    "# Исследовательский анализ данных"
   ]
  },
  {
   "cell_type": "markdown",
   "metadata": {},
   "source": [
    "## Количество событий на пользователя"
   ]
  },
  {
   "cell_type": "code",
   "execution_count": 18,
   "metadata": {},
   "outputs": [
    {
     "data": {
      "text/html": [
       "<div>\n",
       "<style scoped>\n",
       "    .dataframe tbody tr th:only-of-type {\n",
       "        vertical-align: middle;\n",
       "    }\n",
       "\n",
       "    .dataframe tbody tr th {\n",
       "        vertical-align: top;\n",
       "    }\n",
       "\n",
       "    .dataframe thead th {\n",
       "        text-align: right;\n",
       "    }\n",
       "</style>\n",
       "<table border=\"1\" class=\"dataframe\">\n",
       "  <thead>\n",
       "    <tr style=\"text-align: right;\">\n",
       "      <th></th>\n",
       "      <th>user_id</th>\n",
       "      <th>first_date</th>\n",
       "      <th>region</th>\n",
       "      <th>device</th>\n",
       "      <th>group</th>\n",
       "      <th>ab_test</th>\n",
       "      <th>event_dt</th>\n",
       "      <th>event_name</th>\n",
       "      <th>details</th>\n",
       "    </tr>\n",
       "  </thead>\n",
       "  <tbody>\n",
       "    <tr>\n",
       "      <th>0</th>\n",
       "      <td>D72A72121175D8BE</td>\n",
       "      <td>2020-12-07</td>\n",
       "      <td>eu</td>\n",
       "      <td>pc</td>\n",
       "      <td>A</td>\n",
       "      <td>recommender_system_test</td>\n",
       "      <td>2020-12-07 21:52:10</td>\n",
       "      <td>product_page</td>\n",
       "      <td>NaN</td>\n",
       "    </tr>\n",
       "    <tr>\n",
       "      <th>1</th>\n",
       "      <td>D72A72121175D8BE</td>\n",
       "      <td>2020-12-07</td>\n",
       "      <td>eu</td>\n",
       "      <td>pc</td>\n",
       "      <td>A</td>\n",
       "      <td>recommender_system_test</td>\n",
       "      <td>2020-12-07 21:52:07</td>\n",
       "      <td>login</td>\n",
       "      <td>NaN</td>\n",
       "    </tr>\n",
       "  </tbody>\n",
       "</table>\n",
       "</div>"
      ],
      "text/plain": [
       "            user_id first_date region device group                  ab_test  \\\n",
       "0  D72A72121175D8BE 2020-12-07     eu     pc     A  recommender_system_test   \n",
       "1  D72A72121175D8BE 2020-12-07     eu     pc     A  recommender_system_test   \n",
       "\n",
       "             event_dt    event_name  details  \n",
       "0 2020-12-07 21:52:10  product_page      NaN  \n",
       "1 2020-12-07 21:52:07         login      NaN  "
      ]
     },
     "execution_count": 18,
     "metadata": {},
     "output_type": "execute_result"
    }
   ],
   "source": [
    "# Добавим к данным с участниками тестов информацию о событиях.\n",
    "ab_test = pd.merge(r_s_t, events, on='user_id', how='left')\n",
    "ab_test.head(2)"
   ]
  },
  {
   "cell_type": "code",
   "execution_count": 19,
   "metadata": {},
   "outputs": [
    {
     "name": "stdout",
     "output_type": "stream",
     "text": [
      "Пользователей A/B-теста теста не имеющие данные о событиях: 2870\n",
      "Доля от общего числа пользователей: 45.19 %\n"
     ]
    },
    {
     "data": {
      "text/html": [
       "<div>\n",
       "<style scoped>\n",
       "    .dataframe tbody tr th:only-of-type {\n",
       "        vertical-align: middle;\n",
       "    }\n",
       "\n",
       "    .dataframe tbody tr th {\n",
       "        vertical-align: top;\n",
       "    }\n",
       "\n",
       "    .dataframe thead th {\n",
       "        text-align: right;\n",
       "    }\n",
       "</style>\n",
       "<table border=\"1\" class=\"dataframe\">\n",
       "  <thead>\n",
       "    <tr style=\"text-align: right;\">\n",
       "      <th></th>\n",
       "      <th>user_id</th>\n",
       "      <th>first_date</th>\n",
       "      <th>region</th>\n",
       "      <th>device</th>\n",
       "      <th>group</th>\n",
       "      <th>ab_test</th>\n",
       "      <th>event_dt</th>\n",
       "      <th>event_name</th>\n",
       "      <th>details</th>\n",
       "    </tr>\n",
       "  </thead>\n",
       "  <tbody>\n",
       "    <tr>\n",
       "      <th>2</th>\n",
       "      <td>E6DE857AFBDC6102</td>\n",
       "      <td>2020-12-07</td>\n",
       "      <td>eu</td>\n",
       "      <td>pc</td>\n",
       "      <td>B</td>\n",
       "      <td>recommender_system_test</td>\n",
       "      <td>NaT</td>\n",
       "      <td>NaN</td>\n",
       "      <td>NaN</td>\n",
       "    </tr>\n",
       "    <tr>\n",
       "      <th>29</th>\n",
       "      <td>16C69ED14DA9F4A8</td>\n",
       "      <td>2020-12-07</td>\n",
       "      <td>eu</td>\n",
       "      <td>pc</td>\n",
       "      <td>B</td>\n",
       "      <td>recommender_system_test</td>\n",
       "      <td>NaT</td>\n",
       "      <td>NaN</td>\n",
       "      <td>NaN</td>\n",
       "    </tr>\n",
       "  </tbody>\n",
       "</table>\n",
       "</div>"
      ],
      "text/plain": [
       "             user_id first_date region device group                  ab_test  \\\n",
       "2   E6DE857AFBDC6102 2020-12-07     eu     pc     B  recommender_system_test   \n",
       "29  16C69ED14DA9F4A8 2020-12-07     eu     pc     B  recommender_system_test   \n",
       "\n",
       "   event_dt event_name  details  \n",
       "2       NaT        NaN      NaN  \n",
       "29      NaT        NaN      NaN  "
      ]
     },
     "execution_count": 19,
     "metadata": {},
     "output_type": "execute_result"
    }
   ],
   "source": [
    "# Проверим пустые значения в event_name\n",
    "ab_test['event_name'].isna().sum()\n",
    "print('Пользователей A/B-теста теста не имеющие данные о событиях:', ab_test['event_name'].isna().sum())\n",
    "print(\n",
    "    'Доля от общего числа пользователей:', \n",
    "    round(ab_test['event_name'].isna().sum()/r_s_t['user_id'].nunique()*100, 2),\n",
    "    '%'\n",
    ")\n",
    "ab_test[ab_test['event_name'].isna()].head(2)"
   ]
  },
  {
   "cell_type": "markdown",
   "metadata": {},
   "source": [
    "Получается, что 45% участников нашего теста не имеют данных о событиях. Такое могло произойти либо из-за неправильной выгрузки данных и вследстии чего потери данных, либо люди попросту после быстрой регистрации на сайте даже не залогинились на нем."
   ]
  },
  {
   "cell_type": "code",
   "execution_count": 20,
   "metadata": {},
   "outputs": [
    {
     "name": "stdout",
     "output_type": "stream",
     "text": [
      "Среднее количество событий на пользователя в группе А:\n"
     ]
    },
    {
     "data": {
      "text/html": [
       "<div>\n",
       "<style scoped>\n",
       "    .dataframe tbody tr th:only-of-type {\n",
       "        vertical-align: middle;\n",
       "    }\n",
       "\n",
       "    .dataframe tbody tr th {\n",
       "        vertical-align: top;\n",
       "    }\n",
       "\n",
       "    .dataframe thead th {\n",
       "        text-align: right;\n",
       "    }\n",
       "</style>\n",
       "<table border=\"1\" class=\"dataframe\">\n",
       "  <thead>\n",
       "    <tr style=\"text-align: right;\">\n",
       "      <th></th>\n",
       "      <th>event_name</th>\n",
       "      <th>event_dt</th>\n",
       "    </tr>\n",
       "  </thead>\n",
       "  <tbody>\n",
       "    <tr>\n",
       "      <th>0</th>\n",
       "      <td>login</td>\n",
       "      <td>3.12</td>\n",
       "    </tr>\n",
       "    <tr>\n",
       "      <th>1</th>\n",
       "      <td>product_cart</td>\n",
       "      <td>3.10</td>\n",
       "    </tr>\n",
       "    <tr>\n",
       "      <th>2</th>\n",
       "      <td>product_page</td>\n",
       "      <td>3.10</td>\n",
       "    </tr>\n",
       "    <tr>\n",
       "      <th>3</th>\n",
       "      <td>purchase</td>\n",
       "      <td>3.04</td>\n",
       "    </tr>\n",
       "  </tbody>\n",
       "</table>\n",
       "</div>"
      ],
      "text/plain": [
       "     event_name  event_dt\n",
       "0         login      3.12\n",
       "1  product_cart      3.10\n",
       "2  product_page      3.10\n",
       "3      purchase      3.04"
      ]
     },
     "metadata": {},
     "output_type": "display_data"
    },
    {
     "name": "stdout",
     "output_type": "stream",
     "text": [
      "Среднее количество событий на пользователя в группе B:\n"
     ]
    },
    {
     "data": {
      "text/html": [
       "<div>\n",
       "<style scoped>\n",
       "    .dataframe tbody tr th:only-of-type {\n",
       "        vertical-align: middle;\n",
       "    }\n",
       "\n",
       "    .dataframe tbody tr th {\n",
       "        vertical-align: top;\n",
       "    }\n",
       "\n",
       "    .dataframe thead th {\n",
       "        text-align: right;\n",
       "    }\n",
       "</style>\n",
       "<table border=\"1\" class=\"dataframe\">\n",
       "  <thead>\n",
       "    <tr style=\"text-align: right;\">\n",
       "      <th></th>\n",
       "      <th>event_name</th>\n",
       "      <th>event_dt</th>\n",
       "    </tr>\n",
       "  </thead>\n",
       "  <tbody>\n",
       "    <tr>\n",
       "      <th>0</th>\n",
       "      <td>login</td>\n",
       "      <td>2.82</td>\n",
       "    </tr>\n",
       "    <tr>\n",
       "      <th>1</th>\n",
       "      <td>product_cart</td>\n",
       "      <td>2.68</td>\n",
       "    </tr>\n",
       "    <tr>\n",
       "      <th>2</th>\n",
       "      <td>product_page</td>\n",
       "      <td>2.69</td>\n",
       "    </tr>\n",
       "    <tr>\n",
       "      <th>3</th>\n",
       "      <td>purchase</td>\n",
       "      <td>2.65</td>\n",
       "    </tr>\n",
       "  </tbody>\n",
       "</table>\n",
       "</div>"
      ],
      "text/plain": [
       "     event_name  event_dt\n",
       "0         login      2.82\n",
       "1  product_cart      2.68\n",
       "2  product_page      2.69\n",
       "3      purchase      2.65"
      ]
     },
     "metadata": {},
     "output_type": "display_data"
    }
   ],
   "source": [
    "# Выделим отдельно группы\n",
    "group_a = ab_test.query('group == \"A\"')\n",
    "group_b = ab_test.query('group == \"B\"')\n",
    "\n",
    "# Добавим среднее количестов событий на пользовтаеля\n",
    "eventmean_a = group_a.pivot_table(\n",
    "    index=['user_id', 'event_name'], values='event_dt', aggfunc='count'\n",
    ").reset_index().groupby('event_name').agg({'event_dt': 'mean'}).reset_index().round(2)\n",
    "print('Среднее количество событий на пользователя в группе А:')\n",
    "display(eventmean_a)\n",
    "\n",
    "eventmean_b = group_b.pivot_table(\n",
    "    index=['user_id', 'event_name'], values='event_dt', aggfunc='count'\n",
    ").reset_index().groupby('event_name').agg({'event_dt': 'mean'}).reset_index().round(2)\n",
    "print('Среднее количество событий на пользователя в группе B:')\n",
    "display(eventmean_b)"
   ]
  },
  {
   "cell_type": "code",
   "execution_count": 21,
   "metadata": {},
   "outputs": [
    {
     "data": {
      "image/png": "[encoded data removed]",
      "text/plain": [
       "<Figure size 1080x504 with 1 Axes>"
      ]
     },
     "metadata": {},
     "output_type": "display_data"
    }
   ],
   "source": [
    "# Посчитаем количество событий для пользователей в двух группах\n",
    "eventcount_a = group_a.pivot_table(index=['user_id'],values='event_name',aggfunc='count').reset_index()\n",
    "eventcount_b = group_b.pivot_table(index=['user_id'],values='event_name',aggfunc='count').reset_index()\n",
    "\n",
    "# Визуализируем\n",
    "plt.figure(figsize=(15, 7))\n",
    "sns.set_style('dark')\n",
    "sns.histplot(data=eventcount_a, x='event_name', kde=True, element=\"step\")\n",
    "sns.histplot(data=eventcount_b, x='event_name', kde=True, element=\"step\", color='red')\n",
    "plt.title('Распределение количества событий на одного пользователя', fontsize=16)\n",
    "plt.legend(labels=['Контрольная группа','Тестовая группа'])\n",
    "plt.xlabel('Количество событий')\n",
    "plt.ylabel('Количество пользователей')\n",
    "plt.show()"
   ]
  },
  {
   "cell_type": "markdown",
   "metadata": {},
   "source": [
    "Группы обладают разным распределением взаимодействий и разными средним количеством событий на одного пользователя.\n",
    "Cреднее число взаимодействий на одного пользователя у контрольной группы больше, чем в тестовой. Пользователей без взаимодейтвий в тестовой группе на порядок выше чем в контрольной."
   ]
  },
  {
   "cell_type": "markdown",
   "metadata": {},
   "source": [
    "## Распределение событий по дням"
   ]
  },
  {
   "cell_type": "code",
   "execution_count": 22,
   "metadata": {},
   "outputs": [
    {
     "data": {
      "image/png": "[encoded data removed]",
      "text/plain": [
       "<Figure size 1080x504 with 1 Axes>"
      ]
     },
     "metadata": {},
     "output_type": "display_data"
    }
   ],
   "source": [
    "# Визуализируем события по датам\n",
    "plt.figure(figsize=(15, 7))\n",
    "sns.set_style('dark')\n",
    "sns.histplot(data=group_a, x='event_dt', kde=True, element=\"step\")\n",
    "sns.histplot(data=group_b, x='event_dt', kde=True, element=\"step\", color='red')\n",
    "plt.title('Распределение событий по дням', fontsize=16)\n",
    "plt.ylabel('Количество событий')\n",
    "plt.xticks(rotation=20)\n",
    "plt.xlabel('Дата')\n",
    "plt.axvline(pd.to_datetime('2020-12-25'), color='green', linewidth=2)\n",
    "plt.legend(labels=['Контрольная группа','Тестовая группа', 'Рождество'])\n",
    "plt.show()"
   ]
  },
  {
   "cell_type": "markdown",
   "metadata": {},
   "source": [
    "После запуска теста тестовая группа генерировала событий больше, чем контрольная. Но после 13.12.2020 контрольная группа на голову вырвалась вперед и генерировала событий больше тестовой вплоть до завершения теста.\n",
    "Помимо этого, можно подметить, что факт рождества сам-по-себе потенциально может быть признаком роста продаж, так как люди покупают подарки перед праздником. Этот факт так же может влиять на результаты тестирования."
   ]
  },
  {
   "cell_type": "markdown",
   "metadata": {},
   "source": [
    "## Воронка конверсии"
   ]
  },
  {
   "cell_type": "code",
   "execution_count": 23,
   "metadata": {},
   "outputs": [
    {
     "data": {
      "text/html": [
       "<div>\n",
       "<style scoped>\n",
       "    .dataframe tbody tr th:only-of-type {\n",
       "        vertical-align: middle;\n",
       "    }\n",
       "\n",
       "    .dataframe tbody tr th {\n",
       "        vertical-align: top;\n",
       "    }\n",
       "\n",
       "    .dataframe thead th {\n",
       "        text-align: right;\n",
       "    }\n",
       "</style>\n",
       "<table border=\"1\" class=\"dataframe\">\n",
       "  <thead>\n",
       "    <tr style=\"text-align: right;\">\n",
       "      <th>group</th>\n",
       "      <th>A</th>\n",
       "      <th>B</th>\n",
       "    </tr>\n",
       "    <tr>\n",
       "      <th>event_name</th>\n",
       "      <th></th>\n",
       "      <th></th>\n",
       "    </tr>\n",
       "  </thead>\n",
       "  <tbody>\n",
       "    <tr>\n",
       "      <th>login</th>\n",
       "      <td>2604</td>\n",
       "      <td>877</td>\n",
       "    </tr>\n",
       "    <tr>\n",
       "      <th>product_page</th>\n",
       "      <td>1685</td>\n",
       "      <td>493</td>\n",
       "    </tr>\n",
       "    <tr>\n",
       "      <th>product_cart</th>\n",
       "      <td>782</td>\n",
       "      <td>244</td>\n",
       "    </tr>\n",
       "    <tr>\n",
       "      <th>purchase</th>\n",
       "      <td>833</td>\n",
       "      <td>249</td>\n",
       "    </tr>\n",
       "  </tbody>\n",
       "</table>\n",
       "</div>"
      ],
      "text/plain": [
       "group            A    B\n",
       "event_name             \n",
       "login         2604  877\n",
       "product_page  1685  493\n",
       "product_cart   782  244\n",
       "purchase       833  249"
      ]
     },
     "execution_count": 23,
     "metadata": {},
     "output_type": "execute_result"
    }
   ],
   "source": [
    "# Создадим таблицу с результатами тестов по каждому событию и разбивкой по группам\n",
    "funnel_data = ab_test.pivot_table(index='event_name', columns='group', values='user_id', aggfunc='nunique')\n",
    "funnel_data = funnel_data.sort_values(by='A', ascending=False).reindex(['login', 'product_page', 'product_cart', 'purchase'])\n",
    "funnel_data"
   ]
  },
  {
   "cell_type": "code",
   "execution_count": 24,
   "metadata": {},
   "outputs": [
    {
     "data": {
      "text/html": [
       "<div>\n",
       "<style scoped>\n",
       "    .dataframe tbody tr th:only-of-type {\n",
       "        vertical-align: middle;\n",
       "    }\n",
       "\n",
       "    .dataframe tbody tr th {\n",
       "        vertical-align: top;\n",
       "    }\n",
       "\n",
       "    .dataframe thead th {\n",
       "        text-align: right;\n",
       "    }\n",
       "</style>\n",
       "<table border=\"1\" class=\"dataframe\">\n",
       "  <thead>\n",
       "    <tr style=\"text-align: right;\">\n",
       "      <th>group</th>\n",
       "      <th>A</th>\n",
       "      <th>B</th>\n",
       "    </tr>\n",
       "  </thead>\n",
       "  <tbody>\n",
       "    <tr>\n",
       "      <th>registration</th>\n",
       "      <td>3634</td>\n",
       "      <td>2717</td>\n",
       "    </tr>\n",
       "    <tr>\n",
       "      <th>login</th>\n",
       "      <td>2604</td>\n",
       "      <td>877</td>\n",
       "    </tr>\n",
       "    <tr>\n",
       "      <th>product_page</th>\n",
       "      <td>1685</td>\n",
       "      <td>493</td>\n",
       "    </tr>\n",
       "    <tr>\n",
       "      <th>product_cart</th>\n",
       "      <td>782</td>\n",
       "      <td>244</td>\n",
       "    </tr>\n",
       "    <tr>\n",
       "      <th>purchase</th>\n",
       "      <td>833</td>\n",
       "      <td>249</td>\n",
       "    </tr>\n",
       "  </tbody>\n",
       "</table>\n",
       "</div>"
      ],
      "text/plain": [
       "group            A     B\n",
       "registration  3634  2717\n",
       "login         2604   877\n",
       "product_page  1685   493\n",
       "product_cart   782   244\n",
       "purchase       833   249"
      ]
     },
     "execution_count": 24,
     "metadata": {},
     "output_type": "execute_result"
    }
   ],
   "source": [
    "# Соединим таблицу с общим количеством пользователей по группам и их воронкой событий.\n",
    "group_users_t = group_users.T.rename(index={'user_id':'registration'})\n",
    "conversion = pd.concat([group_users_t, funnel_data])\n",
    "conversion"
   ]
  },
  {
   "cell_type": "code",
   "execution_count": 25,
   "metadata": {},
   "outputs": [
    {
     "data": {
      "image/svg+xml": [
       "<svg class=\"main-svg\" xmlns=\"http://www.w3.org/2000/svg\" xmlns:xlink=\"http://www.w3.org/1999/xlink\" width=\"980\" height=\"550\" style=\"\" viewBox=\"0 0 980 550\"><rect x=\"0\" y=\"0\" width=\"980\" height=\"550\" style=\"fill: rgb(255, 255, 255); fill-opacity: 1;\"/><defs id=\"defs-22e347\"><g class=\"clips\"><clipPath id=\"clip22e347xyplot\" class=\"plotclip\"><rect width=\"721\" height=\"370\"/></clipPath><clipPath class=\"axesclip\" id=\"clip22e347x\"><rect x=\"130\" y=\"0\" width=\"721\" height=\"550\"/></clipPath><clipPath class=\"axesclip\" id=\"clip22e347y\"><rect x=\"0\" y=\"100\" width=\"980\" height=\"370\"/></clipPath><clipPath class=\"axesclip\" id=\"clip22e347xy\"><rect x=\"130\" y=\"100\" width=\"721\" height=\"370\"/></clipPath></g><g class=\"gradients\"/><g class=\"patterns\"/></defs><g class=\"bglayer\"><rect class=\"bg\" x=\"130\" y=\"100\" width=\"721\" height=\"370\" style=\"fill: rgb(229, 236, 246); fill-opacity: 1; stroke-width: 0;\"/></g><g class=\"layer-below\"><g class=\"imagelayer\"/><g class=\"shapelayer\"/></g><g class=\"cartesianlayer\"><g class=\"subplot xy\"><g class=\"layer-subplot\"><g class=\"shapelayer\"/><g class=\"imagelayer\"/></g><g class=\"gridlayer\"><g class=\"x\"/><g class=\"y\"/></g><g class=\"zerolinelayer\"/><path class=\"xlines-below\"/><path class=\"ylines-below\"/><g class=\"overlines-below\"/><g class=\"xaxislayer-below\"/><g class=\"yaxislayer-below\"/><g class=\"overaxes-below\"/><g class=\"plot\" transform=\"translate(130,100)\" clip-path=\"url(#clip22e347xyplot)\"><g class=\"funnellayer mlayer\"><g class=\"trace bars\" style=\"opacity: 1;\"><g class=\"regions\"><g class=\"region\"><path d=\"M36.05,66.6L182.67,81.4H448.73L407.35,66.6Z\" style=\"stroke-width: 0; fill: rgb(99, 110, 250); fill-opacity: 0.5;\"/></g><g class=\"region\"><path d=\"M182.67,140.6L249.23,155.4H421.4L448.73,140.6Z\" style=\"stroke-width: 0; fill: rgb(99, 110, 250); fill-opacity: 0.5;\"/></g><g class=\"region\"><path d=\"M249.23,214.6L308.09,229.4H387.98L421.4,214.6Z\" style=\"stroke-width: 0; fill: rgb(99, 110, 250); fill-opacity: 0.5;\"/></g><g class=\"region\"><path d=\"M308.09,288.6L305.22,303.4H390.33L387.98,288.6Z\" style=\"stroke-width: 0; fill: rgb(99, 110, 250); fill-opacity: 0.5;\"/></g><g class=\"region\"><path d=\"M0,0Z\" style=\"stroke-width: 0; fill: rgb(99, 110, 250); fill-opacity: 0.5;\"/></g></g><g class=\"points\"><g class=\"point\"><path d=\"M36.05,7.4V66.6H407.35V7.4Z\" style=\"vector-effect: non-scaling-stroke; fill: rgb(99, 110, 250); fill-opacity: 1; stroke: rgb(68, 68, 68); stroke-opacity: 1; stroke-width: 0px; opacity: 1;\"/><text class=\"bartext bartext-inside\" text-anchor=\"middle\" data-notex=\"1\" x=\"0\" y=\"0\" style=\"font-family: 'Open Sans', verdana, arial, sans-serif; font-size: 12px; fill: rgb(255, 255, 255); fill-opacity: 1; white-space: pre;\" transform=\"translate(221.65312500000002,33.6953125)\"><tspan class=\"line\" dy=\"0em\" x=\"0\" y=\"0\">3634</tspan><tspan class=\"line\" dy=\"1.3em\" x=\"0\" y=\"0\">100%</tspan></text></g><g class=\"point\"><path d=\"M182.67,81.4V140.6H448.73V81.4Z\" style=\"vector-effect: non-scaling-stroke; fill: rgb(99, 110, 250); fill-opacity: 1; stroke: rgb(68, 68, 68); stroke-opacity: 1; stroke-width: 0px; opacity: 1;\"/><text class=\"bartext bartext-inside\" text-anchor=\"middle\" data-notex=\"1\" x=\"0\" y=\"0\" style=\"font-family: 'Open Sans', verdana, arial, sans-serif; font-size: 12px; fill: rgb(255, 255, 255); fill-opacity: 1; white-space: pre;\" transform=\"translate(315.5125,107.6953125)\"><tspan class=\"line\" dy=\"0em\" x=\"0\" y=\"0\">2604</tspan><tspan class=\"line\" dy=\"1.3em\" x=\"0\" y=\"0\">72%</tspan></text></g><g class=\"point\"><path d=\"M249.23,155.4V214.6H421.4V155.4Z\" style=\"vector-effect: non-scaling-stroke; fill: rgb(99, 110, 250); fill-opacity: 1; stroke: rgb(68, 68, 68); stroke-opacity: 1; stroke-width: 0px; opacity: 1;\"/><text class=\"bartext bartext-inside\" text-anchor=\"middle\" data-notex=\"1\" x=\"0\" y=\"0\" style=\"font-family: 'Open Sans', verdana, arial, sans-serif; font-size: 12px; fill: rgb(255, 255, 255); fill-opacity: 1; white-space: pre;\" transform=\"translate(335.1275,181.6953125)\"><tspan class=\"line\" dy=\"0em\" x=\"0\" y=\"0\">1685</tspan><tspan class=\"line\" dy=\"1.3em\" x=\"0\" y=\"0\">46%</tspan></text></g><g class=\"point\"><path d=\"M308.09,229.4V288.6H387.98V229.4Z\" style=\"vector-effect: non-scaling-stroke; fill: rgb(99, 110, 250); fill-opacity: 1; stroke: rgb(68, 68, 68); stroke-opacity: 1; stroke-width: 0px; opacity: 1;\"/><text class=\"bartext bartext-inside\" text-anchor=\"middle\" data-notex=\"1\" x=\"0\" y=\"0\" style=\"font-family: 'Open Sans', verdana, arial, sans-serif; font-size: 12px; fill: rgb(255, 255, 255); fill-opacity: 1; white-space: pre;\" transform=\"translate(347.99593749999997,255.6953125)\"><tspan class=\"line\" dy=\"0em\" x=\"0\" y=\"0\">782</tspan><tspan class=\"line\" dy=\"1.3em\" x=\"0\" y=\"0\">22%</tspan></text></g><g class=\"point\"><path d=\"M305.22,303.4V362.6H390.33V303.4Z\" style=\"vector-effect: non-scaling-stroke; fill: rgb(99, 110, 250); fill-opacity: 1; stroke: rgb(68, 68, 68); stroke-opacity: 1; stroke-width: 0px; opacity: 1;\"/><text class=\"bartext bartext-inside\" text-anchor=\"middle\" data-notex=\"1\" x=\"0\" y=\"0\" style=\"font-family: 'Open Sans', verdana, arial, sans-serif; font-size: 12px; fill: rgb(255, 255, 255); fill-opacity: 1; white-space: pre;\" transform=\"translate(347.7359375,329.6953125)\"><tspan class=\"line\" dy=\"0em\" x=\"0\" y=\"0\">833</tspan><tspan class=\"line\" dy=\"1.3em\" x=\"0\" y=\"0\">23%</tspan></text></g></g></g><g class=\"trace bars\" style=\"opacity: 1;\"><g class=\"regions\"><g class=\"region\"><path d=\"M407.35,66.6L448.73,81.4H538.33L684.95,66.6Z\" style=\"stroke-width: 0; fill: rgb(239, 85, 59); fill-opacity: 0.5;\"/></g><g class=\"region\"><path d=\"M448.73,140.6L421.4,155.4H471.77L538.33,140.6Z\" style=\"stroke-width: 0; fill: rgb(239, 85, 59); fill-opacity: 0.5;\"/></g><g class=\"region\"><path d=\"M421.4,214.6L387.98,229.4H412.91L471.77,214.6Z\" style=\"stroke-width: 0; fill: rgb(239, 85, 59); fill-opacity: 0.5;\"/></g><g class=\"region\"><path d=\"M387.98,288.6L390.33,303.4H415.78L412.91,288.6Z\" style=\"stroke-width: 0; fill: rgb(239, 85, 59); fill-opacity: 0.5;\"/></g><g class=\"region\"><path d=\"M0,0Z\" style=\"stroke-width: 0; fill: rgb(239, 85, 59); fill-opacity: 0.5;\"/></g></g><g class=\"points\"><g class=\"point\"><path d=\"M407.35,7.4V66.6H684.95V7.4Z\" style=\"vector-effect: non-scaling-stroke; fill: rgb(239, 85, 59); fill-opacity: 1; stroke: rgb(68, 68, 68); stroke-opacity: 1; stroke-width: 0px; opacity: 1;\"/><text class=\"bartext bartext-inside\" text-anchor=\"middle\" data-notex=\"1\" x=\"0\" y=\"0\" style=\"font-family: 'Open Sans', verdana, arial, sans-serif; font-size: 12px; fill: rgb(68, 68, 68); fill-opacity: 1; white-space: pre;\" transform=\"translate(546.1031250000001,33.6953125)\"><tspan class=\"line\" dy=\"0em\" x=\"0\" y=\"0\">2717</tspan><tspan class=\"line\" dy=\"1.3em\" x=\"0\" y=\"0\">100%</tspan></text></g><g class=\"point\"><path d=\"M448.73,81.4V140.6H538.33V81.4Z\" style=\"vector-effect: non-scaling-stroke; fill: rgb(239, 85, 59); fill-opacity: 1; stroke: rgb(68, 68, 68); stroke-opacity: 1; stroke-width: 0px; opacity: 1;\"/><text class=\"bartext bartext-inside\" text-anchor=\"middle\" data-notex=\"1\" x=\"0\" y=\"0\" style=\"font-family: 'Open Sans', verdana, arial, sans-serif; font-size: 12px; fill: rgb(68, 68, 68); fill-opacity: 1; white-space: pre;\" transform=\"translate(493.49093750000003,107.6953125)\"><tspan class=\"line\" dy=\"0em\" x=\"0\" y=\"0\">877</tspan><tspan class=\"line\" dy=\"1.3em\" x=\"0\" y=\"0\">32%</tspan></text></g><g class=\"point\"><path d=\"M421.4,155.4V214.6H471.77V155.4Z\" style=\"vector-effect: non-scaling-stroke; fill: rgb(239, 85, 59); fill-opacity: 1; stroke: rgb(68, 68, 68); stroke-opacity: 1; stroke-width: 0px; opacity: 1;\"/><text class=\"bartext bartext-inside\" text-anchor=\"middle\" data-notex=\"1\" x=\"0\" y=\"0\" style=\"font-family: 'Open Sans', verdana, arial, sans-serif; font-size: 12px; fill: rgb(68, 68, 68); fill-opacity: 1; white-space: pre;\" transform=\"translate(446.5459375,181.6953125)\"><tspan class=\"line\" dy=\"0em\" x=\"0\" y=\"0\">493</tspan><tspan class=\"line\" dy=\"1.3em\" x=\"0\" y=\"0\">18%</tspan></text></g><g class=\"point\"><path d=\"M387.98,229.4V288.6H412.91V229.4Z\" style=\"vector-effect: non-scaling-stroke; fill: rgb(239, 85, 59); fill-opacity: 1; stroke: rgb(68, 68, 68); stroke-opacity: 1; stroke-width: 0px; opacity: 1;\"/><text class=\"bartext bartext-inside\" text-anchor=\"middle\" data-notex=\"1\" x=\"0\" y=\"0\" style=\"font-family: 'Open Sans', verdana, arial, sans-serif; font-size: 12px; fill: rgb(68, 68, 68); fill-opacity: 1; white-space: pre;\" transform=\"translate(400.2925436241611,256.31295637583895)scale(0.8131006711409399)\"><tspan class=\"line\" dy=\"0em\" x=\"0\" y=\"0\">244</tspan><tspan class=\"line\" dy=\"1.3em\" x=\"0\" y=\"0\">9%</tspan></text></g><g class=\"point\"><path d=\"M390.33,303.4V362.6H415.78V303.4Z\" style=\"vector-effect: non-scaling-stroke; fill: rgb(239, 85, 59); fill-opacity: 1; stroke: rgb(68, 68, 68); stroke-opacity: 1; stroke-width: 0px; opacity: 1;\"/><text class=\"bartext bartext-inside\" text-anchor=\"middle\" data-notex=\"1\" x=\"0\" y=\"0\" style=\"font-family: 'Open Sans', verdana, arial, sans-serif; font-size: 12px; fill: rgb(68, 68, 68); fill-opacity: 1; white-space: pre;\" transform=\"translate(402.89835570469796,330.239144295302)scale(0.8354362416107378)\"><tspan class=\"line\" dy=\"0em\" x=\"0\" y=\"0\">249</tspan><tspan class=\"line\" dy=\"1.3em\" x=\"0\" y=\"0\">9%</tspan></text></g></g></g></g></g><g class=\"overplot\"/><path class=\"xlines-above crisp\" d=\"M0,0\" style=\"fill: none;\"/><path class=\"ylines-above crisp\" d=\"M0,0\" style=\"fill: none;\"/><g class=\"overlines-above\"/><g class=\"xaxislayer-above\"/><g class=\"yaxislayer-above\"><g class=\"ytick\"><text text-anchor=\"end\" x=\"129\" y=\"4.199999999999999\" transform=\"translate(0,433)\" style=\"font-family: 'Open Sans', verdana, arial, sans-serif; font-size: 12px; fill: rgb(42, 63, 95); fill-opacity: 1; white-space: pre; opacity: 1;\">Покупка</text></g><g class=\"ytick\"><text text-anchor=\"end\" x=\"129\" y=\"4.199999999999999\" transform=\"translate(0,359)\" style=\"font-family: 'Open Sans', verdana, arial, sans-serif; font-size: 12px; fill: rgb(42, 63, 95); fill-opacity: 1; white-space: pre; opacity: 1;\">Просмотр корзины</text></g><g class=\"ytick\"><text text-anchor=\"end\" x=\"129\" y=\"4.199999999999999\" transform=\"translate(0,285)\" style=\"font-family: 'Open Sans', verdana, arial, sans-serif; font-size: 12px; fill: rgb(42, 63, 95); fill-opacity: 1; white-space: pre; opacity: 1;\">Просмотр товара</text></g><g class=\"ytick\"><text text-anchor=\"end\" x=\"129\" y=\"4.199999999999999\" transform=\"translate(0,211)\" style=\"font-family: 'Open Sans', verdana, arial, sans-serif; font-size: 12px; fill: rgb(42, 63, 95); fill-opacity: 1; white-space: pre; opacity: 1;\">Логин</text></g><g class=\"ytick\"><text text-anchor=\"end\" x=\"129\" y=\"4.199999999999999\" transform=\"translate(0,137)\" style=\"font-family: 'Open Sans', verdana, arial, sans-serif; font-size: 12px; fill: rgb(42, 63, 95); fill-opacity: 1; white-space: pre; opacity: 1;\">Регистрация</text></g></g><g class=\"overaxes-above\"/></g></g><g class=\"polarlayer\"/><g class=\"smithlayer\"/><g class=\"ternarylayer\"/><g class=\"geolayer\"/><g class=\"funnelarealayer\"/><g class=\"pielayer\"/><g class=\"iciclelayer\"/><g class=\"treemaplayer\"/><g class=\"sunburstlayer\"/><g class=\"glimages\"/><defs id=\"topdefs-22e347\"><g class=\"clips\"/><clipPath id=\"legend22e347\"><rect width=\"103\" height=\"48\" x=\"0\" y=\"0\"/></clipPath></defs><g class=\"layer-above\"><g class=\"imagelayer\"/><g class=\"shapelayer\"/></g><g class=\"infolayer\"><g class=\"legend\" pointer-events=\"all\" transform=\"translate(865.42,100)\"><rect class=\"bg\" shape-rendering=\"crispEdges\" style=\"stroke: rgb(68, 68, 68); stroke-opacity: 1; fill: rgb(255, 255, 255); fill-opacity: 1; stroke-width: 0px;\" width=\"103\" height=\"48\" x=\"0\" y=\"0\"/><g class=\"scrollbox\" transform=\"\" clip-path=\"url(#legend22e347)\"><g class=\"groups\"><g class=\"traces\" transform=\"translate(0,14.5)\" style=\"opacity: 1;\"><text class=\"legendtext\" text-anchor=\"start\" x=\"40\" y=\"4.680000000000001\" style=\"font-family: 'Open Sans', verdana, arial, sans-serif; font-size: 12px; fill: rgb(42, 63, 95); fill-opacity: 1; white-space: pre;\">Группа А</text><g class=\"layers\" style=\"opacity: 1;\"><g class=\"legendfill\"/><g class=\"legendlines\"/><g class=\"legendsymbols\"><g class=\"legendpoints\"><path class=\"legendfunnel\" d=\"M6,6H-6V-6H6Z\" transform=\"translate(20,0)\" style=\"stroke-width: 0px; fill: rgb(99, 110, 250); fill-opacity: 1;\"/></g></g></g><rect class=\"legendtoggle\" x=\"0\" y=\"-9.5\" width=\"97.09375\" height=\"19\" style=\"fill: rgb(0, 0, 0); fill-opacity: 0;\"/></g><g class=\"traces\" transform=\"translate(0,33.5)\" style=\"opacity: 1;\"><text class=\"legendtext\" text-anchor=\"start\" x=\"40\" y=\"4.680000000000001\" style=\"font-family: 'Open Sans', verdana, arial, sans-serif; font-size: 12px; fill: rgb(42, 63, 95); fill-opacity: 1; white-space: pre;\">Группа Б</text><g class=\"layers\" style=\"opacity: 1;\"><g class=\"legendfill\"/><g class=\"legendlines\"/><g class=\"legendsymbols\"><g class=\"legendpoints\"><path class=\"legendfunnel\" d=\"M6,6H-6V-6H6Z\" transform=\"translate(20,0)\" style=\"stroke-width: 0px; fill: rgb(239, 85, 59); fill-opacity: 1;\"/></g></g></g><rect class=\"legendtoggle\" x=\"0\" y=\"-9.5\" width=\"97.09375\" height=\"19\" style=\"fill: rgb(0, 0, 0); fill-opacity: 0;\"/></g></g></g><rect class=\"scrollbar\" rx=\"20\" ry=\"3\" width=\"0\" height=\"0\" style=\"fill: rgb(128, 139, 164); fill-opacity: 1;\" x=\"0\" y=\"0\"/></g><g class=\"g-gtitle\"><text class=\"gtitle\" x=\"490\" y=\"50\" text-anchor=\"middle\" dy=\"0em\" style=\"font-family: 'Open Sans', verdana, arial, sans-serif; font-size: 20px; fill: rgb(42, 63, 95); opacity: 1; font-weight: normal; white-space: pre;\">Воронка пользователей c разбивкой на группы</text></g><g class=\"g-ytitle\"/></g></svg>"
      ]
     },
     "metadata": {},
     "output_type": "display_data"
    }
   ],
   "source": [
    "# Визуализация контрольной и тестовой групп\n",
    "fig = go.Figure()\n",
    "fig.add_trace(go.Funnel(\n",
    "    name = 'Группа А',\n",
    "    y = ['Регистрация', 'Логин', 'Просмотр товара', 'Просмотр корзины', 'Покупка'],\n",
    "    x = conversion['A'],\n",
    "    textinfo = \"value+percent initial\"))\n",
    "fig.add_trace(go.Funnel(\n",
    "    name = 'Группа Б',\n",
    "    orientation = \"h\",\n",
    "    y = ['Регистрация', 'Логин', 'Просмотр товара', 'Просмотр корзины', 'Покупка'],\n",
    "    x = conversion['B'],\n",
    "    textposition = \"inside\",\n",
    "    textinfo = \"value+percent initial\"))\n",
    "fig.update_layout(title={'text':\"Воронка пользователей c разбивкой на группы\", 'font':dict(size=20), 'x':0.5})\n",
    "fig.show(renderer='svg', width=980, height=550)"
   ]
  },
  {
   "cell_type": "code",
   "execution_count": 26,
   "metadata": {},
   "outputs": [
    {
     "name": "stdout",
     "output_type": "stream",
     "text": [
      "Конверсия зарегистрировавшихся пользователей в покупки в группе А: 22.92%\n",
      "Конверсия зарегистрировавшихся пользователей в покупки в группе B: 9.16%\n",
      "Отношение конверсии в покупки в группе В к группе А: 39.98%\n"
     ]
    }
   ],
   "source": [
    "print(\n",
    "    'Конверсия зарегистрировавшихся пользователей в покупки в группе А: {:.2f}%'\n",
    "    .format(conversion['A']['purchase']/conversion['A']['registration']*100)\n",
    ")\n",
    "print(\n",
    "    'Конверсия зарегистрировавшихся пользователей в покупки в группе B: {:.2f}%'\n",
    "    .format(conversion['B']['purchase']/conversion['B']['registration']*100)\n",
    ")\n",
    "print(\n",
    "    'Отношение конверсии в покупки в группе В к группе А: {:.2f}%'\n",
    "    .format(\n",
    "        (conversion['B']['purchase']/conversion['B']['registration'])\n",
    "        /(conversion['A']['purchase']/conversion['A']['registration'])\n",
    "        *100\n",
    "    )\n",
    ")"
   ]
  },
  {
   "cell_type": "markdown",
   "metadata": {},
   "source": [
    "По воронке можно понять, что есть часть пользователей которые покупают товар в обход просмотра корзины. Возможно на сайте есть функционал быстрых покупок.\n",
    "\n",
    "Но самое главное, конверсия в покупки тестовой группы в 2,5 раза меньше по отношению к контрольной. Что свидетельствует о провале теста."
   ]
  },
  {
   "cell_type": "markdown",
   "metadata": {},
   "source": [
    "# Оценка результатов A/B-тестирования"
   ]
  },
  {
   "cell_type": "markdown",
   "metadata": {},
   "source": [
    "Проверка статистической разницы долей с помощью Z-критерия:"
   ]
  },
  {
   "cell_type": "markdown",
   "metadata": {},
   "source": [
    "Сформулируем гипотезы:<br>\n",
    "<b>\n",
    "    H0: Нет отличий между группами<br>\n",
    "    H1: Отличие между группами статистически достоверно\n",
    "</b>"
   ]
  },
  {
   "cell_type": "code",
   "execution_count": 27,
   "metadata": {},
   "outputs": [
    {
     "data": {
      "text/html": [
       "<div>\n",
       "<style scoped>\n",
       "    .dataframe tbody tr th:only-of-type {\n",
       "        vertical-align: middle;\n",
       "    }\n",
       "\n",
       "    .dataframe tbody tr th {\n",
       "        vertical-align: top;\n",
       "    }\n",
       "\n",
       "    .dataframe thead th {\n",
       "        text-align: right;\n",
       "    }\n",
       "</style>\n",
       "<table border=\"1\" class=\"dataframe\">\n",
       "  <thead>\n",
       "    <tr style=\"text-align: right;\">\n",
       "      <th>group</th>\n",
       "      <th>A</th>\n",
       "      <th>B</th>\n",
       "      <th>A+B</th>\n",
       "    </tr>\n",
       "  </thead>\n",
       "  <tbody>\n",
       "    <tr>\n",
       "      <th>registration</th>\n",
       "      <td>3634</td>\n",
       "      <td>2717</td>\n",
       "      <td>6351</td>\n",
       "    </tr>\n",
       "    <tr>\n",
       "      <th>login</th>\n",
       "      <td>2604</td>\n",
       "      <td>877</td>\n",
       "      <td>3481</td>\n",
       "    </tr>\n",
       "    <tr>\n",
       "      <th>product_page</th>\n",
       "      <td>1685</td>\n",
       "      <td>493</td>\n",
       "      <td>2178</td>\n",
       "    </tr>\n",
       "    <tr>\n",
       "      <th>product_cart</th>\n",
       "      <td>782</td>\n",
       "      <td>244</td>\n",
       "      <td>1026</td>\n",
       "    </tr>\n",
       "    <tr>\n",
       "      <th>purchase</th>\n",
       "      <td>833</td>\n",
       "      <td>249</td>\n",
       "      <td>1082</td>\n",
       "    </tr>\n",
       "  </tbody>\n",
       "</table>\n",
       "</div>"
      ],
      "text/plain": [
       "group            A     B   A+B\n",
       "registration  3634  2717  6351\n",
       "login         2604   877  3481\n",
       "product_page  1685   493  2178\n",
       "product_cart   782   244  1026\n",
       "purchase       833   249  1082"
      ]
     },
     "execution_count": 27,
     "metadata": {},
     "output_type": "execute_result"
    }
   ],
   "source": [
    "# Добивам в таблицу конверсии значения по A и B группе вместе взятых.\n",
    "conversion['A+B'] = conversion['A'] + conversion['B']\n",
    "conversion"
   ]
  },
  {
   "cell_type": "code",
   "execution_count": 28,
   "metadata": {},
   "outputs": [],
   "source": [
    "# Проверка гипотезы о равенстве долей используя Z-критерий\n",
    "# Задаем критический уровень статистической значимости для последующих тестов\n",
    "alpha = 0.05\n",
    "# Напишем функцию для проверки гипотезы\n",
    "def check_hyp(eventname):\n",
    "    count = conversion.loc[eventname, 'A'],\n",
    "    nobs = conversion.loc[eventname, 'A+B'],\n",
    "    value = 0.5\n",
    "    stat, pval = proportions_ztest(count, nobs, value)\n",
    "    pval=pval[0]\n",
    "    print('Проверка равности долей групп А и B для cобытия: {}, p-value = {}'.format(eventname, pval))\n",
    "    if pval < alpha:\n",
    "        print('Отвергаем H0: между группами есть статистически значимая разница')\n",
    "    else:\n",
    "        print('Не отвергаем H0: группы статистически не отличаются') "
   ]
  },
  {
   "cell_type": "code",
   "execution_count": 29,
   "metadata": {},
   "outputs": [
    {
     "name": "stdout",
     "output_type": "stream",
     "text": [
      "Проверка равности долей групп А и B для cобытия: registration, p-value = 2.9529378206125363e-31\n",
      "Отвергаем H0: между группами есть статистически значимая разница\n",
      "\n",
      "Проверка равности долей групп А и B для cобытия: login, p-value = 3.760992009875724e-249\n",
      "Отвергаем H0: между группами есть статистически значимая разница\n",
      "\n",
      "Проверка равности долей групп А и B для cобытия: product_page, p-value = 1.5177269785999959e-204\n",
      "Отвергаем H0: между группами есть статистически значимая разница\n",
      "\n",
      "Проверка равности долей групп А и B для cобытия: product_cart, p-value = 1.3030396516354927e-86\n",
      "Отвергаем H0: между группами есть статистически значимая разница\n",
      "\n",
      "Проверка равности долей групп А и B для cобытия: purchase, p-value = 9.849102662356382e-99\n",
      "Отвергаем H0: между группами есть статистически значимая разница\n",
      "\n"
     ]
    }
   ],
   "source": [
    "# Сравнение результатов контрьной и тестовой групп\n",
    "for eventname in conversion.index:\n",
    "    check_hyp(eventname)\n",
    "    print()"
   ]
  },
  {
   "cell_type": "markdown",
   "metadata": {},
   "source": [
    "Похоже, что введение новой рекомендательной системы на сайте никак увеличело показатели конферсии на каждом этапе на 10% как таково требовало техническое задание. Тест провален."
   ]
  },
  {
   "cell_type": "markdown",
   "metadata": {},
   "source": [
    "# Выводы"
   ]
  },
  {
   "cell_type": "markdown",
   "metadata": {},
   "source": [
    "<b>По результатам исследования обнаружили, что:</b>\n",
    "* в файле с событиями, данные оборвались на 30.12.2020, полные данные были до 29.12.2020, а должны были быть до 04.01.2021. Скорее всего произошел сбой в записи или выгрузке событий;\n",
    "* в файле с новыми пользователями, дата остановки набора новых пользователей была 23.12.2020, а не 21.12.2021. Было больше данных;\n",
    "* Из-за неполных данных пользователи которые смогут \"дожить\" до 14 дней зарегистрируются не позднее 15.12.2020;\n",
    "* Имеется пересечение дат проведения A/B-теста с маркетинговым событием \"christmas&new year promo\", которое проводилось для нашей целевой аудитории.\n",
    "* Имеется пересечение аудитории с конкурирующим тестом: 1602 пользователя участвовало в двух тестах одновременно;\n",
    "* Группы теста распределены не равномерно: 57/43% соответственно, обладают разным распределением взаимодействий и разными средним количеством событий на одного пользователя.\n",
    "\n",
    "<b>По результатм анализа A/B-теста</b> конверсия в покупки тестовой группы в 2,5 раза меньше по отношению к контрольной. Конверсия в покупки после введения новой рекомендаельной системы снизилась приблизительно с 22.92 до 9.16%, т.е более чем на 13.5%.\n",
    "Новая рекомендательная система - неуспешна.\n",
    "\n",
    "<b>Рекомендации:</b>\n",
    "Так как очень много различных факторов ставят под сомнения результаты теста, особенно обрыв данных - воспринимать результаты теста как максимально правдивые не стоит. Если это тестирование было очень важно для бизнеса и на него возлагались определеннные ожидания стоит решить проблемы с сбором данных и провести тест заново."
   ]
  }
 ],
 "metadata": {
  "ExecuteTimeLog": [
   {
    "duration": 407,
    "start_time": "2022-06-28T19:15:11.695Z"
   },
   {
    "duration": 82,
    "start_time": "2022-06-28T19:15:25.004Z"
   },
   {
    "duration": 51,
    "start_time": "2022-06-28T19:16:20.585Z"
   },
   {
    "duration": 1464,
    "start_time": "2022-06-28T19:16:30.835Z"
   },
   {
    "duration": 58,
    "start_time": "2022-06-28T19:21:09.981Z"
   },
   {
    "duration": 8,
    "start_time": "2022-06-28T19:21:17.554Z"
   },
   {
    "duration": 9,
    "start_time": "2022-06-28T19:21:23.874Z"
   },
   {
    "duration": 7,
    "start_time": "2022-06-28T19:21:31.789Z"
   },
   {
    "duration": 7,
    "start_time": "2022-06-28T19:21:39.568Z"
   },
   {
    "duration": 7,
    "start_time": "2022-06-28T19:21:46.643Z"
   },
   {
    "duration": 7,
    "start_time": "2022-06-28T19:21:53.385Z"
   },
   {
    "duration": 7,
    "start_time": "2022-06-28T19:22:09.809Z"
   },
   {
    "duration": 414,
    "start_time": "2022-06-28T19:22:14.535Z"
   },
   {
    "duration": 1737,
    "start_time": "2022-06-28T19:22:14.952Z"
   },
   {
    "duration": 0,
    "start_time": "2022-06-28T19:22:16.691Z"
   },
   {
    "duration": 0,
    "start_time": "2022-06-28T19:22:16.692Z"
   },
   {
    "duration": 0,
    "start_time": "2022-06-28T19:22:16.693Z"
   },
   {
    "duration": 0,
    "start_time": "2022-06-28T19:22:16.694Z"
   },
   {
    "duration": 0,
    "start_time": "2022-06-28T19:22:16.696Z"
   },
   {
    "duration": 0,
    "start_time": "2022-06-28T19:22:16.697Z"
   },
   {
    "duration": 0,
    "start_time": "2022-06-28T19:22:16.698Z"
   },
   {
    "duration": 0,
    "start_time": "2022-06-28T19:22:16.699Z"
   },
   {
    "duration": 0,
    "start_time": "2022-06-28T19:22:16.701Z"
   },
   {
    "duration": 34,
    "start_time": "2022-06-28T19:38:06.270Z"
   },
   {
    "duration": 446,
    "start_time": "2022-06-28T19:40:27.224Z"
   },
   {
    "duration": 82,
    "start_time": "2022-06-28T19:40:27.672Z"
   },
   {
    "duration": 0,
    "start_time": "2022-06-28T19:40:27.756Z"
   },
   {
    "duration": 0,
    "start_time": "2022-06-28T19:40:27.757Z"
   },
   {
    "duration": 0,
    "start_time": "2022-06-28T19:40:27.758Z"
   },
   {
    "duration": 0,
    "start_time": "2022-06-28T19:40:27.759Z"
   },
   {
    "duration": 0,
    "start_time": "2022-06-28T19:40:27.761Z"
   },
   {
    "duration": 0,
    "start_time": "2022-06-28T19:40:27.762Z"
   },
   {
    "duration": 0,
    "start_time": "2022-06-28T19:40:27.763Z"
   },
   {
    "duration": 0,
    "start_time": "2022-06-28T19:40:27.764Z"
   },
   {
    "duration": 0,
    "start_time": "2022-06-28T19:40:27.765Z"
   },
   {
    "duration": 28,
    "start_time": "2022-06-28T19:46:32.903Z"
   },
   {
    "duration": 1618,
    "start_time": "2022-06-28T19:46:55.626Z"
   },
   {
    "duration": 415,
    "start_time": "2022-06-28T19:48:21.728Z"
   },
   {
    "duration": 1054,
    "start_time": "2022-06-28T19:48:22.145Z"
   },
   {
    "duration": 61,
    "start_time": "2022-06-28T19:48:23.200Z"
   },
   {
    "duration": 0,
    "start_time": "2022-06-28T19:48:23.263Z"
   },
   {
    "duration": 0,
    "start_time": "2022-06-28T19:48:23.265Z"
   },
   {
    "duration": 0,
    "start_time": "2022-06-28T19:48:23.266Z"
   },
   {
    "duration": 0,
    "start_time": "2022-06-28T19:48:23.267Z"
   },
   {
    "duration": 0,
    "start_time": "2022-06-28T19:48:23.271Z"
   },
   {
    "duration": 0,
    "start_time": "2022-06-28T19:48:23.271Z"
   },
   {
    "duration": 0,
    "start_time": "2022-06-28T19:48:23.272Z"
   },
   {
    "duration": 0,
    "start_time": "2022-06-28T19:48:23.274Z"
   },
   {
    "duration": 108,
    "start_time": "2022-06-28T20:25:43.687Z"
   },
   {
    "duration": 49,
    "start_time": "2022-06-28T20:25:46.172Z"
   },
   {
    "duration": 19,
    "start_time": "2022-06-28T20:25:47.919Z"
   },
   {
    "duration": 6,
    "start_time": "2022-06-28T20:26:05.507Z"
   },
   {
    "duration": 12,
    "start_time": "2022-06-28T20:26:08.040Z"
   },
   {
    "duration": 29,
    "start_time": "2022-06-28T20:26:12.192Z"
   },
   {
    "duration": 54,
    "start_time": "2022-06-28T20:33:32.512Z"
   },
   {
    "duration": 84,
    "start_time": "2022-06-28T20:33:32.990Z"
   },
   {
    "duration": 372,
    "start_time": "2022-06-29T00:15:45.067Z"
   },
   {
    "duration": 1168,
    "start_time": "2022-06-29T00:15:45.441Z"
   },
   {
    "duration": 119,
    "start_time": "2022-06-29T00:15:46.610Z"
   },
   {
    "duration": 36,
    "start_time": "2022-06-29T00:15:46.731Z"
   },
   {
    "duration": 12,
    "start_time": "2022-06-29T00:15:46.770Z"
   },
   {
    "duration": 7,
    "start_time": "2022-06-29T00:15:46.785Z"
   },
   {
    "duration": 33,
    "start_time": "2022-06-29T00:15:46.794Z"
   },
   {
    "duration": 19,
    "start_time": "2022-06-29T00:15:46.829Z"
   },
   {
    "duration": 38,
    "start_time": "2022-06-29T00:15:46.849Z"
   },
   {
    "duration": 102,
    "start_time": "2022-06-29T00:15:46.888Z"
   },
   {
    "duration": 439,
    "start_time": "2022-06-29T00:17:11.306Z"
   },
   {
    "duration": 1132,
    "start_time": "2022-06-29T00:17:11.747Z"
   },
   {
    "duration": 133,
    "start_time": "2022-06-29T00:17:12.883Z"
   },
   {
    "duration": 42,
    "start_time": "2022-06-29T00:17:13.018Z"
   },
   {
    "duration": 65,
    "start_time": "2022-06-29T00:17:13.062Z"
   },
   {
    "duration": 105,
    "start_time": "2022-06-29T00:17:13.130Z"
   },
   {
    "duration": 23,
    "start_time": "2022-06-29T00:17:13.236Z"
   },
   {
    "duration": 15,
    "start_time": "2022-06-29T00:17:13.261Z"
   },
   {
    "duration": 12,
    "start_time": "2022-06-29T00:17:13.278Z"
   },
   {
    "duration": 18,
    "start_time": "2022-06-29T00:17:13.291Z"
   },
   {
    "duration": 39,
    "start_time": "2022-06-29T00:17:39.287Z"
   },
   {
    "duration": 74,
    "start_time": "2022-06-29T00:17:40.206Z"
   },
   {
    "duration": 46,
    "start_time": "2022-06-29T00:36:05.469Z"
   },
   {
    "duration": 53,
    "start_time": "2022-06-29T00:36:22.935Z"
   },
   {
    "duration": 9,
    "start_time": "2022-06-29T00:37:36.315Z"
   },
   {
    "duration": 41,
    "start_time": "2022-06-29T00:42:38.012Z"
   },
   {
    "duration": 30,
    "start_time": "2022-06-29T00:42:47.815Z"
   },
   {
    "duration": 28,
    "start_time": "2022-06-29T00:43:10.371Z"
   },
   {
    "duration": 3,
    "start_time": "2022-06-29T00:58:56.836Z"
   },
   {
    "duration": 771,
    "start_time": "2022-06-29T00:59:22.113Z"
   },
   {
    "duration": 0,
    "start_time": "2022-06-29T00:59:22.886Z"
   },
   {
    "duration": 7,
    "start_time": "2022-06-29T00:59:44.823Z"
   },
   {
    "duration": 28,
    "start_time": "2022-06-29T01:01:36.535Z"
   },
   {
    "duration": 27,
    "start_time": "2022-06-29T01:02:47.934Z"
   },
   {
    "duration": 34,
    "start_time": "2022-06-29T01:03:14.910Z"
   },
   {
    "duration": 25,
    "start_time": "2022-06-29T01:03:23.451Z"
   },
   {
    "duration": 25,
    "start_time": "2022-06-29T01:03:37.614Z"
   },
   {
    "duration": 27,
    "start_time": "2022-06-29T01:03:47.145Z"
   },
   {
    "duration": 27,
    "start_time": "2022-06-29T01:04:13.023Z"
   },
   {
    "duration": 29,
    "start_time": "2022-06-29T01:04:30.534Z"
   },
   {
    "duration": 8,
    "start_time": "2022-06-29T01:05:24.949Z"
   },
   {
    "duration": 7,
    "start_time": "2022-06-29T01:12:56.788Z"
   },
   {
    "duration": 13,
    "start_time": "2022-06-29T01:18:40.303Z"
   },
   {
    "duration": 10,
    "start_time": "2022-06-29T01:20:16.537Z"
   },
   {
    "duration": 15,
    "start_time": "2022-06-29T01:20:32.942Z"
   },
   {
    "duration": 14,
    "start_time": "2022-06-29T01:23:24.820Z"
   },
   {
    "duration": 8,
    "start_time": "2022-06-29T01:23:35.439Z"
   },
   {
    "duration": 476,
    "start_time": "2022-06-29T01:24:30.855Z"
   },
   {
    "duration": 0,
    "start_time": "2022-06-29T01:24:31.333Z"
   },
   {
    "duration": 0,
    "start_time": "2022-06-29T01:24:31.334Z"
   },
   {
    "duration": 0,
    "start_time": "2022-06-29T01:24:31.335Z"
   },
   {
    "duration": 0,
    "start_time": "2022-06-29T01:24:31.336Z"
   },
   {
    "duration": 0,
    "start_time": "2022-06-29T01:24:31.337Z"
   },
   {
    "duration": 0,
    "start_time": "2022-06-29T01:24:31.338Z"
   },
   {
    "duration": 0,
    "start_time": "2022-06-29T01:24:31.340Z"
   },
   {
    "duration": 0,
    "start_time": "2022-06-29T01:24:31.341Z"
   },
   {
    "duration": 0,
    "start_time": "2022-06-29T01:24:31.342Z"
   },
   {
    "duration": 0,
    "start_time": "2022-06-29T01:24:31.344Z"
   },
   {
    "duration": 0,
    "start_time": "2022-06-29T01:24:31.345Z"
   },
   {
    "duration": 0,
    "start_time": "2022-06-29T01:24:31.346Z"
   },
   {
    "duration": 0,
    "start_time": "2022-06-29T01:24:31.347Z"
   },
   {
    "duration": 1,
    "start_time": "2022-06-29T01:24:31.348Z"
   },
   {
    "duration": 0,
    "start_time": "2022-06-29T01:24:31.350Z"
   },
   {
    "duration": 0,
    "start_time": "2022-06-29T01:24:31.351Z"
   },
   {
    "duration": 1246,
    "start_time": "2022-06-29T01:25:22.776Z"
   },
   {
    "duration": 1088,
    "start_time": "2022-06-29T01:25:24.023Z"
   },
   {
    "duration": 121,
    "start_time": "2022-06-29T01:25:25.113Z"
   },
   {
    "duration": 43,
    "start_time": "2022-06-29T01:25:25.236Z"
   },
   {
    "duration": 50,
    "start_time": "2022-06-29T01:25:25.280Z"
   },
   {
    "duration": 113,
    "start_time": "2022-06-29T01:25:25.331Z"
   },
   {
    "duration": 11,
    "start_time": "2022-06-29T01:25:25.446Z"
   },
   {
    "duration": 18,
    "start_time": "2022-06-29T01:25:25.458Z"
   },
   {
    "duration": 35,
    "start_time": "2022-06-29T01:25:25.478Z"
   },
   {
    "duration": 32,
    "start_time": "2022-06-29T01:25:25.516Z"
   },
   {
    "duration": 70,
    "start_time": "2022-06-29T01:25:25.551Z"
   },
   {
    "duration": 7,
    "start_time": "2022-06-29T01:25:25.627Z"
   },
   {
    "duration": 20,
    "start_time": "2022-06-29T01:25:25.635Z"
   },
   {
    "duration": 42,
    "start_time": "2022-06-29T01:25:25.657Z"
   },
   {
    "duration": 24,
    "start_time": "2022-06-29T01:25:25.701Z"
   },
   {
    "duration": 15,
    "start_time": "2022-06-29T01:25:25.727Z"
   },
   {
    "duration": 210,
    "start_time": "2022-06-29T01:25:25.744Z"
   },
   {
    "duration": 3,
    "start_time": "2022-06-29T01:27:08.069Z"
   },
   {
    "duration": 9,
    "start_time": "2022-06-29T01:28:19.458Z"
   },
   {
    "duration": 10,
    "start_time": "2022-06-29T01:28:28.379Z"
   },
   {
    "duration": 108,
    "start_time": "2022-06-29T01:29:09.797Z"
   },
   {
    "duration": 7,
    "start_time": "2022-06-29T01:29:14.916Z"
   },
   {
    "duration": 103,
    "start_time": "2022-06-29T01:29:16.073Z"
   },
   {
    "duration": 108,
    "start_time": "2022-06-29T01:31:31.775Z"
   },
   {
    "duration": 12,
    "start_time": "2022-06-29T01:35:02.871Z"
   },
   {
    "duration": 53,
    "start_time": "2022-06-29T01:35:29.271Z"
   },
   {
    "duration": 51,
    "start_time": "2022-06-29T01:35:36.973Z"
   },
   {
    "duration": 107,
    "start_time": "2022-06-29T01:35:57.005Z"
   },
   {
    "duration": 153,
    "start_time": "2022-06-29T01:37:57.156Z"
   },
   {
    "duration": 115,
    "start_time": "2022-06-29T01:38:13.575Z"
   },
   {
    "duration": 105,
    "start_time": "2022-06-29T01:38:25.089Z"
   },
   {
    "duration": 849,
    "start_time": "2022-06-29T01:38:41.627Z"
   },
   {
    "duration": 114,
    "start_time": "2022-06-29T01:38:57.176Z"
   },
   {
    "duration": 7,
    "start_time": "2022-06-29T01:40:15.724Z"
   },
   {
    "duration": 28,
    "start_time": "2022-06-29T01:40:17.589Z"
   },
   {
    "duration": 16,
    "start_time": "2022-06-29T01:40:18.818Z"
   },
   {
    "duration": 8,
    "start_time": "2022-06-29T01:40:43.970Z"
   },
   {
    "duration": 7,
    "start_time": "2022-06-29T01:40:56.468Z"
   },
   {
    "duration": 46,
    "start_time": "2022-06-29T01:41:05.494Z"
   },
   {
    "duration": 1134,
    "start_time": "2022-06-29T01:41:13.446Z"
   },
   {
    "duration": 1092,
    "start_time": "2022-06-29T01:41:14.582Z"
   },
   {
    "duration": 122,
    "start_time": "2022-06-29T01:41:15.676Z"
   },
   {
    "duration": 41,
    "start_time": "2022-06-29T01:41:15.800Z"
   },
   {
    "duration": 40,
    "start_time": "2022-06-29T01:41:15.843Z"
   },
   {
    "duration": 94,
    "start_time": "2022-06-29T01:41:15.885Z"
   },
   {
    "duration": 11,
    "start_time": "2022-06-29T01:41:15.981Z"
   },
   {
    "duration": 7,
    "start_time": "2022-06-29T01:41:15.993Z"
   },
   {
    "duration": 28,
    "start_time": "2022-06-29T01:41:16.002Z"
   },
   {
    "duration": 17,
    "start_time": "2022-06-29T01:41:16.031Z"
   },
   {
    "duration": 52,
    "start_time": "2022-06-29T01:41:16.050Z"
   },
   {
    "duration": 28,
    "start_time": "2022-06-29T01:41:16.104Z"
   },
   {
    "duration": 29,
    "start_time": "2022-06-29T01:41:16.134Z"
   },
   {
    "duration": 38,
    "start_time": "2022-06-29T01:41:16.166Z"
   },
   {
    "duration": 96,
    "start_time": "2022-06-29T01:41:16.206Z"
   },
   {
    "duration": 0,
    "start_time": "2022-06-29T01:41:16.305Z"
   },
   {
    "duration": 0,
    "start_time": "2022-06-29T01:41:16.306Z"
   },
   {
    "duration": 17,
    "start_time": "2022-06-29T01:41:28.601Z"
   },
   {
    "duration": 7,
    "start_time": "2022-06-29T01:41:30.274Z"
   },
   {
    "duration": 48,
    "start_time": "2022-06-29T01:41:31.368Z"
   },
   {
    "duration": 1112,
    "start_time": "2022-06-29T01:41:57.231Z"
   },
   {
    "duration": 1093,
    "start_time": "2022-06-29T01:41:58.345Z"
   },
   {
    "duration": 123,
    "start_time": "2022-06-29T01:41:59.440Z"
   },
   {
    "duration": 36,
    "start_time": "2022-06-29T01:41:59.565Z"
   },
   {
    "duration": 48,
    "start_time": "2022-06-29T01:41:59.603Z"
   },
   {
    "duration": 84,
    "start_time": "2022-06-29T01:41:59.652Z"
   },
   {
    "duration": 10,
    "start_time": "2022-06-29T01:41:59.738Z"
   },
   {
    "duration": 6,
    "start_time": "2022-06-29T01:41:59.750Z"
   },
   {
    "duration": 17,
    "start_time": "2022-06-29T01:41:59.758Z"
   },
   {
    "duration": 17,
    "start_time": "2022-06-29T01:41:59.778Z"
   },
   {
    "duration": 80,
    "start_time": "2022-06-29T01:41:59.796Z"
   },
   {
    "duration": 7,
    "start_time": "2022-06-29T01:41:59.878Z"
   },
   {
    "duration": 12,
    "start_time": "2022-06-29T01:41:59.887Z"
   },
   {
    "duration": 53,
    "start_time": "2022-06-29T01:41:59.901Z"
   },
   {
    "duration": 16,
    "start_time": "2022-06-29T01:41:59.956Z"
   },
   {
    "duration": 7,
    "start_time": "2022-06-29T01:41:59.974Z"
   },
   {
    "duration": 78,
    "start_time": "2022-06-29T01:41:59.982Z"
   },
   {
    "duration": 18,
    "start_time": "2022-06-29T01:42:50.876Z"
   },
   {
    "duration": 61,
    "start_time": "2022-06-29T01:43:48.017Z"
   },
   {
    "duration": 211,
    "start_time": "2022-06-29T01:43:54.073Z"
   },
   {
    "duration": 112,
    "start_time": "2022-06-29T01:44:13.028Z"
   },
   {
    "duration": 117,
    "start_time": "2022-06-29T01:44:37.570Z"
   },
   {
    "duration": 110,
    "start_time": "2022-06-29T01:45:25.009Z"
   },
   {
    "duration": 46,
    "start_time": "2022-06-29T01:46:08.069Z"
   },
   {
    "duration": 106,
    "start_time": "2022-06-29T01:46:43.033Z"
   },
   {
    "duration": 127,
    "start_time": "2022-06-29T01:46:56.082Z"
   },
   {
    "duration": 152,
    "start_time": "2022-06-29T01:47:06.222Z"
   },
   {
    "duration": 121,
    "start_time": "2022-06-29T01:47:25.126Z"
   },
   {
    "duration": 185,
    "start_time": "2022-06-29T01:47:46.535Z"
   },
   {
    "duration": 121,
    "start_time": "2022-06-29T01:48:01.224Z"
   },
   {
    "duration": 109,
    "start_time": "2022-06-29T01:48:21.155Z"
   },
   {
    "duration": 114,
    "start_time": "2022-06-29T01:48:47.574Z"
   },
   {
    "duration": 113,
    "start_time": "2022-06-29T01:49:06.467Z"
   },
   {
    "duration": 11,
    "start_time": "2022-06-29T02:00:30.699Z"
   },
   {
    "duration": 116,
    "start_time": "2022-06-29T02:00:52.141Z"
   },
   {
    "duration": 53,
    "start_time": "2022-06-29T11:23:47.219Z"
   },
   {
    "duration": 1376,
    "start_time": "2022-06-29T11:23:53.794Z"
   },
   {
    "duration": 1720,
    "start_time": "2022-06-29T11:23:55.172Z"
   },
   {
    "duration": 126,
    "start_time": "2022-06-29T11:23:56.894Z"
   },
   {
    "duration": 50,
    "start_time": "2022-06-29T11:23:57.023Z"
   },
   {
    "duration": 37,
    "start_time": "2022-06-29T11:23:57.075Z"
   },
   {
    "duration": 83,
    "start_time": "2022-06-29T11:23:57.114Z"
   },
   {
    "duration": 11,
    "start_time": "2022-06-29T11:23:57.198Z"
   },
   {
    "duration": 10,
    "start_time": "2022-06-29T11:23:57.211Z"
   },
   {
    "duration": 15,
    "start_time": "2022-06-29T11:23:57.233Z"
   },
   {
    "duration": 22,
    "start_time": "2022-06-29T11:23:57.250Z"
   },
   {
    "duration": 75,
    "start_time": "2022-06-29T11:23:57.274Z"
   },
   {
    "duration": 8,
    "start_time": "2022-06-29T11:23:57.351Z"
   },
   {
    "duration": 9,
    "start_time": "2022-06-29T11:23:57.360Z"
   },
   {
    "duration": 40,
    "start_time": "2022-06-29T11:23:57.370Z"
   },
   {
    "duration": 34,
    "start_time": "2022-06-29T11:23:57.412Z"
   },
   {
    "duration": 143,
    "start_time": "2022-06-29T11:23:57.447Z"
   },
   {
    "duration": 108,
    "start_time": "2022-06-29T11:23:57.592Z"
   },
   {
    "duration": 104,
    "start_time": "2022-06-29T11:24:45.519Z"
   },
   {
    "duration": 104,
    "start_time": "2022-06-29T11:26:04.471Z"
   },
   {
    "duration": 118,
    "start_time": "2022-06-29T11:26:16.425Z"
   },
   {
    "duration": 2471,
    "start_time": "2022-06-29T11:32:40.513Z"
   },
   {
    "duration": 1514,
    "start_time": "2022-06-29T11:32:42.987Z"
   },
   {
    "duration": 145,
    "start_time": "2022-06-29T11:32:44.503Z"
   },
   {
    "duration": 38,
    "start_time": "2022-06-29T11:32:44.650Z"
   },
   {
    "duration": 61,
    "start_time": "2022-06-29T11:32:44.690Z"
   },
   {
    "duration": 105,
    "start_time": "2022-06-29T11:32:44.753Z"
   },
   {
    "duration": 15,
    "start_time": "2022-06-29T11:32:44.860Z"
   },
   {
    "duration": 15,
    "start_time": "2022-06-29T11:32:44.877Z"
   },
   {
    "duration": 13,
    "start_time": "2022-06-29T11:32:44.895Z"
   },
   {
    "duration": 39,
    "start_time": "2022-06-29T11:32:44.910Z"
   },
   {
    "duration": 56,
    "start_time": "2022-06-29T11:32:44.951Z"
   },
   {
    "duration": 24,
    "start_time": "2022-06-29T11:32:45.009Z"
   },
   {
    "duration": 18,
    "start_time": "2022-06-29T11:32:45.035Z"
   },
   {
    "duration": 36,
    "start_time": "2022-06-29T11:32:45.054Z"
   },
   {
    "duration": 16,
    "start_time": "2022-06-29T11:32:45.092Z"
   },
   {
    "duration": 184,
    "start_time": "2022-06-29T11:32:45.109Z"
   },
   {
    "duration": 183,
    "start_time": "2022-06-29T11:32:45.295Z"
   },
   {
    "duration": 253,
    "start_time": "2022-06-29T11:32:45.480Z"
   },
   {
    "duration": 192,
    "start_time": "2022-06-29T11:33:01.750Z"
   },
   {
    "duration": 2352,
    "start_time": "2022-06-29T11:33:12.743Z"
   },
   {
    "duration": 2607,
    "start_time": "2022-06-29T11:33:26.062Z"
   },
   {
    "duration": 2398,
    "start_time": "2022-06-29T12:58:16.584Z"
   },
   {
    "duration": 14,
    "start_time": "2022-06-29T16:40:51.444Z"
   },
   {
    "duration": 19,
    "start_time": "2022-06-29T16:45:32.743Z"
   },
   {
    "duration": 8,
    "start_time": "2022-06-29T16:45:54.316Z"
   },
   {
    "duration": 19,
    "start_time": "2022-06-29T16:46:05.087Z"
   },
   {
    "duration": 13,
    "start_time": "2022-06-29T16:47:51.872Z"
   },
   {
    "duration": 129,
    "start_time": "2022-06-29T16:49:39.216Z"
   },
   {
    "duration": 22,
    "start_time": "2022-06-29T16:51:03.687Z"
   },
   {
    "duration": 31,
    "start_time": "2022-06-29T16:51:14.929Z"
   },
   {
    "duration": 32,
    "start_time": "2022-06-29T16:53:03.709Z"
   },
   {
    "duration": 49,
    "start_time": "2022-06-29T16:53:19.798Z"
   },
   {
    "duration": 33,
    "start_time": "2022-06-29T16:53:51.609Z"
   },
   {
    "duration": 28,
    "start_time": "2022-06-29T16:54:50.490Z"
   },
   {
    "duration": 35,
    "start_time": "2022-06-29T16:55:41.835Z"
   },
   {
    "duration": 53,
    "start_time": "2022-06-29T16:56:14.015Z"
   },
   {
    "duration": 18,
    "start_time": "2022-06-29T16:57:12.754Z"
   },
   {
    "duration": 187,
    "start_time": "2022-06-29T17:27:29.369Z"
   },
   {
    "duration": 306,
    "start_time": "2022-06-29T17:31:44.850Z"
   },
   {
    "duration": 242,
    "start_time": "2022-06-29T17:31:59.797Z"
   },
   {
    "duration": 315,
    "start_time": "2022-06-29T17:32:18.810Z"
   },
   {
    "duration": 342,
    "start_time": "2022-06-29T17:33:00.549Z"
   },
   {
    "duration": 323,
    "start_time": "2022-06-29T17:33:05.909Z"
   },
   {
    "duration": 281,
    "start_time": "2022-06-29T17:33:36.001Z"
   },
   {
    "duration": 223,
    "start_time": "2022-06-29T17:33:41.341Z"
   },
   {
    "duration": 238,
    "start_time": "2022-06-29T17:35:35.326Z"
   },
   {
    "duration": 333,
    "start_time": "2022-06-29T17:35:46.048Z"
   },
   {
    "duration": 232,
    "start_time": "2022-06-29T17:39:35.039Z"
   },
   {
    "duration": 232,
    "start_time": "2022-06-29T17:39:55.343Z"
   },
   {
    "duration": 248,
    "start_time": "2022-06-29T17:40:07.532Z"
   },
   {
    "duration": 232,
    "start_time": "2022-06-29T17:42:31.551Z"
   },
   {
    "duration": 231,
    "start_time": "2022-06-29T17:43:13.581Z"
   },
   {
    "duration": 233,
    "start_time": "2022-06-29T17:43:52.981Z"
   },
   {
    "duration": 234,
    "start_time": "2022-06-29T17:44:12.535Z"
   },
   {
    "duration": 243,
    "start_time": "2022-06-29T17:45:11.497Z"
   },
   {
    "duration": 222,
    "start_time": "2022-06-29T17:45:37.805Z"
   },
   {
    "duration": 228,
    "start_time": "2022-06-29T17:46:58.435Z"
   },
   {
    "duration": 235,
    "start_time": "2022-06-29T17:47:09.330Z"
   },
   {
    "duration": 215,
    "start_time": "2022-06-29T17:47:21.898Z"
   },
   {
    "duration": 9,
    "start_time": "2022-06-29T17:50:58.373Z"
   },
   {
    "duration": 10,
    "start_time": "2022-06-29T17:51:52.431Z"
   },
   {
    "duration": 227,
    "start_time": "2022-06-29T17:54:08.562Z"
   },
   {
    "duration": 314,
    "start_time": "2022-06-29T17:54:17.485Z"
   },
   {
    "duration": 225,
    "start_time": "2022-06-29T17:55:40.936Z"
   },
   {
    "duration": 136,
    "start_time": "2022-06-29T17:56:25.752Z"
   },
   {
    "duration": 51,
    "start_time": "2022-06-29T17:56:26.475Z"
   },
   {
    "duration": 220,
    "start_time": "2022-06-29T17:56:26.931Z"
   },
   {
    "duration": 257,
    "start_time": "2022-06-29T18:17:36.575Z"
   },
   {
    "duration": 17,
    "start_time": "2022-06-29T18:21:45.059Z"
   },
   {
    "duration": 507,
    "start_time": "2022-06-29T18:22:56.673Z"
   },
   {
    "duration": 19,
    "start_time": "2022-06-29T18:22:59.377Z"
   },
   {
    "duration": 241,
    "start_time": "2022-06-29T18:23:12.278Z"
   },
   {
    "duration": 12,
    "start_time": "2022-06-29T18:23:41.482Z"
   },
   {
    "duration": 320,
    "start_time": "2022-06-29T18:23:42.058Z"
   },
   {
    "duration": 251,
    "start_time": "2022-06-29T18:24:43.335Z"
   },
   {
    "duration": 409,
    "start_time": "2022-06-29T18:25:38.045Z"
   },
   {
    "duration": 316,
    "start_time": "2022-06-29T18:26:37.544Z"
   },
   {
    "duration": 258,
    "start_time": "2022-06-29T18:26:50.964Z"
   },
   {
    "duration": 296,
    "start_time": "2022-06-29T18:27:20.527Z"
   },
   {
    "duration": 443,
    "start_time": "2022-06-29T18:29:05.862Z"
   },
   {
    "duration": 305,
    "start_time": "2022-06-29T18:29:24.964Z"
   },
   {
    "duration": 426,
    "start_time": "2022-06-29T20:03:51.403Z"
   },
   {
    "duration": 458,
    "start_time": "2022-06-29T20:04:07.010Z"
   },
   {
    "duration": 368,
    "start_time": "2022-06-29T20:04:53.033Z"
   },
   {
    "duration": 332,
    "start_time": "2022-06-29T20:05:32.363Z"
   },
   {
    "duration": 425,
    "start_time": "2022-06-29T20:06:58.602Z"
   },
   {
    "duration": 359,
    "start_time": "2022-06-29T20:07:11.971Z"
   },
   {
    "duration": 336,
    "start_time": "2022-06-29T20:09:10.593Z"
   },
   {
    "duration": 510,
    "start_time": "2022-06-29T20:09:26.094Z"
   },
   {
    "duration": 311,
    "start_time": "2022-06-29T20:09:40.466Z"
   },
   {
    "duration": 340,
    "start_time": "2022-06-29T20:13:24.639Z"
   },
   {
    "duration": 317,
    "start_time": "2022-06-29T20:13:31.279Z"
   },
   {
    "duration": 480,
    "start_time": "2022-06-29T20:14:01.572Z"
   },
   {
    "duration": 357,
    "start_time": "2022-06-29T20:15:09.014Z"
   },
   {
    "duration": 341,
    "start_time": "2022-06-29T20:15:20.171Z"
   },
   {
    "duration": 444,
    "start_time": "2022-06-29T20:21:23.713Z"
   },
   {
    "duration": 318,
    "start_time": "2022-06-29T20:21:34.029Z"
   },
   {
    "duration": 415,
    "start_time": "2022-06-29T20:22:13.885Z"
   },
   {
    "duration": 510,
    "start_time": "2022-06-29T20:23:10.806Z"
   },
   {
    "duration": 410,
    "start_time": "2022-06-29T20:26:55.202Z"
   },
   {
    "duration": 457,
    "start_time": "2022-06-29T21:53:01.780Z"
   },
   {
    "duration": 632,
    "start_time": "2022-06-29T21:53:57.247Z"
   },
   {
    "duration": 589,
    "start_time": "2022-06-29T21:54:42.661Z"
   },
   {
    "duration": 715,
    "start_time": "2022-06-29T21:54:58.303Z"
   },
   {
    "duration": 629,
    "start_time": "2022-06-29T21:55:05.976Z"
   },
   {
    "duration": 482,
    "start_time": "2022-06-29T21:59:38.337Z"
   },
   {
    "duration": 564,
    "start_time": "2022-06-29T21:59:56.088Z"
   },
   {
    "duration": 574,
    "start_time": "2022-06-29T22:01:44.644Z"
   },
   {
    "duration": 554,
    "start_time": "2022-06-29T22:02:19.682Z"
   },
   {
    "duration": 512,
    "start_time": "2022-06-29T22:02:30.961Z"
   },
   {
    "duration": 794,
    "start_time": "2022-06-29T22:02:38.973Z"
   },
   {
    "duration": 635,
    "start_time": "2022-06-29T22:03:07.823Z"
   },
   {
    "duration": 656,
    "start_time": "2022-06-29T22:03:38.705Z"
   },
   {
    "duration": 672,
    "start_time": "2022-06-29T22:15:09.174Z"
   },
   {
    "duration": 727,
    "start_time": "2022-06-29T22:15:58.818Z"
   },
   {
    "duration": 650,
    "start_time": "2022-06-29T22:16:26.392Z"
   },
   {
    "duration": 653,
    "start_time": "2022-06-29T22:16:46.799Z"
   },
   {
    "duration": 779,
    "start_time": "2022-06-29T22:17:33.564Z"
   },
   {
    "duration": 648,
    "start_time": "2022-06-29T22:18:15.301Z"
   },
   {
    "duration": 629,
    "start_time": "2022-06-29T22:18:36.824Z"
   },
   {
    "duration": 6,
    "start_time": "2022-06-29T22:26:48.621Z"
   },
   {
    "duration": 17,
    "start_time": "2022-06-29T22:27:41.701Z"
   },
   {
    "duration": 12,
    "start_time": "2022-06-29T22:28:39.603Z"
   },
   {
    "duration": 17,
    "start_time": "2022-06-29T22:30:19.163Z"
   },
   {
    "duration": 15,
    "start_time": "2022-06-29T22:31:08.699Z"
   },
   {
    "duration": 18,
    "start_time": "2022-06-29T22:31:22.974Z"
   },
   {
    "duration": 76,
    "start_time": "2022-06-29T22:33:10.600Z"
   },
   {
    "duration": 22,
    "start_time": "2022-06-29T22:33:23.013Z"
   },
   {
    "duration": 30,
    "start_time": "2022-06-29T22:37:07.603Z"
   },
   {
    "duration": 224,
    "start_time": "2022-06-29T22:38:03.799Z"
   },
   {
    "duration": 25,
    "start_time": "2022-06-29T22:38:20.439Z"
   },
   {
    "duration": 13,
    "start_time": "2022-06-29T22:38:21.566Z"
   },
   {
    "duration": 12,
    "start_time": "2022-06-29T22:40:47.329Z"
   },
   {
    "duration": 12,
    "start_time": "2022-06-29T22:46:38.094Z"
   },
   {
    "duration": 11,
    "start_time": "2022-06-29T22:46:48.100Z"
   },
   {
    "duration": 15,
    "start_time": "2022-06-29T22:47:06.246Z"
   },
   {
    "duration": 4,
    "start_time": "2022-06-29T22:53:43.367Z"
   },
   {
    "duration": 23,
    "start_time": "2022-06-29T22:53:51.956Z"
   },
   {
    "duration": 52,
    "start_time": "2022-06-29T23:10:28.082Z"
   },
   {
    "duration": 108,
    "start_time": "2022-06-29T23:27:01.344Z"
   },
   {
    "duration": 15,
    "start_time": "2022-06-29T23:30:35.825Z"
   },
   {
    "duration": 25,
    "start_time": "2022-06-29T23:38:44.617Z"
   },
   {
    "duration": 14,
    "start_time": "2022-06-29T23:38:53.502Z"
   },
   {
    "duration": 23,
    "start_time": "2022-06-29T23:40:09.975Z"
   },
   {
    "duration": 49,
    "start_time": "2022-06-29T23:40:32.486Z"
   },
   {
    "duration": 0,
    "start_time": "2022-06-29T23:40:32.538Z"
   },
   {
    "duration": 0,
    "start_time": "2022-06-29T23:40:32.539Z"
   },
   {
    "duration": 0,
    "start_time": "2022-06-29T23:40:32.540Z"
   },
   {
    "duration": 0,
    "start_time": "2022-06-29T23:40:32.541Z"
   },
   {
    "duration": 0,
    "start_time": "2022-06-29T23:40:32.542Z"
   },
   {
    "duration": 0,
    "start_time": "2022-06-29T23:40:32.543Z"
   },
   {
    "duration": 0,
    "start_time": "2022-06-29T23:40:32.544Z"
   },
   {
    "duration": 0,
    "start_time": "2022-06-29T23:40:32.545Z"
   },
   {
    "duration": 0,
    "start_time": "2022-06-29T23:40:32.546Z"
   },
   {
    "duration": 0,
    "start_time": "2022-06-29T23:40:32.547Z"
   },
   {
    "duration": 0,
    "start_time": "2022-06-29T23:40:32.548Z"
   },
   {
    "duration": 0,
    "start_time": "2022-06-29T23:40:32.549Z"
   },
   {
    "duration": 0,
    "start_time": "2022-06-29T23:40:32.550Z"
   },
   {
    "duration": 0,
    "start_time": "2022-06-29T23:40:32.552Z"
   },
   {
    "duration": 0,
    "start_time": "2022-06-29T23:40:32.553Z"
   },
   {
    "duration": 0,
    "start_time": "2022-06-29T23:40:32.554Z"
   },
   {
    "duration": 0,
    "start_time": "2022-06-29T23:40:32.555Z"
   },
   {
    "duration": 0,
    "start_time": "2022-06-29T23:40:32.556Z"
   },
   {
    "duration": 0,
    "start_time": "2022-06-29T23:40:32.557Z"
   },
   {
    "duration": 0,
    "start_time": "2022-06-29T23:40:32.558Z"
   },
   {
    "duration": 0,
    "start_time": "2022-06-29T23:40:32.559Z"
   },
   {
    "duration": 0,
    "start_time": "2022-06-29T23:40:32.560Z"
   },
   {
    "duration": 0,
    "start_time": "2022-06-29T23:40:32.561Z"
   },
   {
    "duration": 0,
    "start_time": "2022-06-29T23:40:32.563Z"
   },
   {
    "duration": 48,
    "start_time": "2022-06-29T23:41:35.167Z"
   },
   {
    "duration": 0,
    "start_time": "2022-06-29T23:41:35.217Z"
   },
   {
    "duration": 0,
    "start_time": "2022-06-29T23:41:35.218Z"
   },
   {
    "duration": 0,
    "start_time": "2022-06-29T23:41:35.219Z"
   },
   {
    "duration": 0,
    "start_time": "2022-06-29T23:41:35.220Z"
   },
   {
    "duration": 0,
    "start_time": "2022-06-29T23:41:35.221Z"
   },
   {
    "duration": 0,
    "start_time": "2022-06-29T23:41:35.227Z"
   },
   {
    "duration": 0,
    "start_time": "2022-06-29T23:41:35.228Z"
   },
   {
    "duration": 0,
    "start_time": "2022-06-29T23:41:35.229Z"
   },
   {
    "duration": 0,
    "start_time": "2022-06-29T23:41:35.230Z"
   },
   {
    "duration": 0,
    "start_time": "2022-06-29T23:41:35.231Z"
   },
   {
    "duration": 0,
    "start_time": "2022-06-29T23:41:35.232Z"
   },
   {
    "duration": 0,
    "start_time": "2022-06-29T23:41:35.233Z"
   },
   {
    "duration": 0,
    "start_time": "2022-06-29T23:41:35.234Z"
   },
   {
    "duration": 0,
    "start_time": "2022-06-29T23:41:35.235Z"
   },
   {
    "duration": 0,
    "start_time": "2022-06-29T23:41:35.236Z"
   },
   {
    "duration": 0,
    "start_time": "2022-06-29T23:41:35.237Z"
   },
   {
    "duration": 0,
    "start_time": "2022-06-29T23:41:35.238Z"
   },
   {
    "duration": 0,
    "start_time": "2022-06-29T23:41:35.239Z"
   },
   {
    "duration": 0,
    "start_time": "2022-06-29T23:41:35.241Z"
   },
   {
    "duration": 0,
    "start_time": "2022-06-29T23:41:35.242Z"
   },
   {
    "duration": 0,
    "start_time": "2022-06-29T23:41:35.243Z"
   },
   {
    "duration": 0,
    "start_time": "2022-06-29T23:41:35.244Z"
   },
   {
    "duration": 0,
    "start_time": "2022-06-29T23:41:35.245Z"
   },
   {
    "duration": 0,
    "start_time": "2022-06-29T23:41:35.247Z"
   },
   {
    "duration": 1073,
    "start_time": "2022-06-29T23:42:39.634Z"
   },
   {
    "duration": 1059,
    "start_time": "2022-06-29T23:42:40.710Z"
   },
   {
    "duration": 122,
    "start_time": "2022-06-29T23:42:41.770Z"
   },
   {
    "duration": 44,
    "start_time": "2022-06-29T23:42:41.894Z"
   },
   {
    "duration": 38,
    "start_time": "2022-06-29T23:42:41.940Z"
   },
   {
    "duration": 85,
    "start_time": "2022-06-29T23:42:41.979Z"
   },
   {
    "duration": 10,
    "start_time": "2022-06-29T23:42:42.066Z"
   },
   {
    "duration": 6,
    "start_time": "2022-06-29T23:42:42.077Z"
   },
   {
    "duration": 11,
    "start_time": "2022-06-29T23:42:42.085Z"
   },
   {
    "duration": 38,
    "start_time": "2022-06-29T23:42:42.098Z"
   },
   {
    "duration": 52,
    "start_time": "2022-06-29T23:42:42.138Z"
   },
   {
    "duration": 5,
    "start_time": "2022-06-29T23:42:42.192Z"
   },
   {
    "duration": 8,
    "start_time": "2022-06-29T23:42:42.199Z"
   },
   {
    "duration": 26,
    "start_time": "2022-06-29T23:42:42.226Z"
   },
   {
    "duration": 14,
    "start_time": "2022-06-29T23:42:42.254Z"
   },
   {
    "duration": 142,
    "start_time": "2022-06-29T23:42:42.270Z"
   },
   {
    "duration": 143,
    "start_time": "2022-06-29T23:42:42.413Z"
   },
   {
    "duration": 48,
    "start_time": "2022-06-29T23:42:42.558Z"
   },
   {
    "duration": 271,
    "start_time": "2022-06-29T23:42:42.608Z"
   },
   {
    "duration": 727,
    "start_time": "2022-06-29T23:42:42.881Z"
   },
   {
    "duration": 20,
    "start_time": "2022-06-29T23:42:43.610Z"
   },
   {
    "duration": 20,
    "start_time": "2022-06-29T23:42:43.632Z"
   },
   {
    "duration": 225,
    "start_time": "2022-06-29T23:42:43.653Z"
   },
   {
    "duration": 117,
    "start_time": "2022-06-29T23:42:43.880Z"
   },
   {
    "duration": 1142,
    "start_time": "2022-06-29T23:43:24.485Z"
   },
   {
    "duration": 1103,
    "start_time": "2022-06-29T23:43:25.629Z"
   },
   {
    "duration": 114,
    "start_time": "2022-06-29T23:43:26.734Z"
   },
   {
    "duration": 36,
    "start_time": "2022-06-29T23:43:26.850Z"
   },
   {
    "duration": 44,
    "start_time": "2022-06-29T23:43:26.888Z"
   },
   {
    "duration": 95,
    "start_time": "2022-06-29T23:43:26.933Z"
   },
   {
    "duration": 11,
    "start_time": "2022-06-29T23:43:27.030Z"
   },
   {
    "duration": 7,
    "start_time": "2022-06-29T23:43:27.042Z"
   },
   {
    "duration": 13,
    "start_time": "2022-06-29T23:43:27.051Z"
   },
   {
    "duration": 17,
    "start_time": "2022-06-29T23:43:27.067Z"
   },
   {
    "duration": 78,
    "start_time": "2022-06-29T23:43:27.086Z"
   },
   {
    "duration": 7,
    "start_time": "2022-06-29T23:43:27.165Z"
   },
   {
    "duration": 11,
    "start_time": "2022-06-29T23:43:27.173Z"
   },
   {
    "duration": 45,
    "start_time": "2022-06-29T23:43:27.186Z"
   },
   {
    "duration": 16,
    "start_time": "2022-06-29T23:43:27.232Z"
   },
   {
    "duration": 147,
    "start_time": "2022-06-29T23:43:27.249Z"
   },
   {
    "duration": 139,
    "start_time": "2022-06-29T23:43:27.398Z"
   },
   {
    "duration": 52,
    "start_time": "2022-06-29T23:43:27.538Z"
   },
   {
    "duration": 270,
    "start_time": "2022-06-29T23:43:27.591Z"
   },
   {
    "duration": 742,
    "start_time": "2022-06-29T23:43:27.863Z"
   },
   {
    "duration": 26,
    "start_time": "2022-06-29T23:43:28.607Z"
   },
   {
    "duration": 23,
    "start_time": "2022-06-29T23:43:28.635Z"
   },
   {
    "duration": 213,
    "start_time": "2022-06-29T23:43:28.660Z"
   },
   {
    "duration": 53,
    "start_time": "2022-06-29T23:43:28.875Z"
   },
   {
    "duration": 25,
    "start_time": "2022-06-29T23:45:29.483Z"
   },
   {
    "duration": 23,
    "start_time": "2022-06-29T23:45:55.058Z"
   },
   {
    "duration": 24,
    "start_time": "2022-06-29T23:46:10.803Z"
   },
   {
    "duration": 24,
    "start_time": "2022-06-29T23:46:44.567Z"
   },
   {
    "duration": 27,
    "start_time": "2022-06-29T23:46:55.501Z"
   },
   {
    "duration": 17,
    "start_time": "2022-06-29T23:46:56.277Z"
   },
   {
    "duration": 26,
    "start_time": "2022-06-29T23:47:09.920Z"
   },
   {
    "duration": 13,
    "start_time": "2022-06-29T23:47:13.564Z"
   },
   {
    "duration": 938,
    "start_time": "2022-06-29T23:48:38.330Z"
   },
   {
    "duration": 6,
    "start_time": "2022-06-29T23:48:43.372Z"
   },
   {
    "duration": 790,
    "start_time": "2022-06-29T23:48:55.886Z"
   },
   {
    "duration": 6,
    "start_time": "2022-06-29T23:49:03.229Z"
   },
   {
    "duration": 876,
    "start_time": "2022-06-29T23:49:42.093Z"
   },
   {
    "duration": 9,
    "start_time": "2022-06-29T23:50:01.129Z"
   },
   {
    "duration": 891,
    "start_time": "2022-06-29T23:50:10.826Z"
   },
   {
    "duration": 6,
    "start_time": "2022-06-29T23:50:19.429Z"
   },
   {
    "duration": 8,
    "start_time": "2022-06-29T23:51:39.301Z"
   },
   {
    "duration": 724,
    "start_time": "2022-06-29T23:59:28.425Z"
   },
   {
    "duration": 7,
    "start_time": "2022-06-29T23:59:36.162Z"
   },
   {
    "duration": 1010,
    "start_time": "2022-06-30T00:00:00.712Z"
   },
   {
    "duration": 2258,
    "start_time": "2022-06-30T00:00:56.793Z"
   },
   {
    "duration": 647,
    "start_time": "2022-06-30T00:01:06.762Z"
   },
   {
    "duration": 26,
    "start_time": "2022-06-30T00:02:32.636Z"
   },
   {
    "duration": 24,
    "start_time": "2022-06-30T00:02:44.522Z"
   },
   {
    "duration": 25,
    "start_time": "2022-06-30T00:03:53.996Z"
   },
   {
    "duration": 23,
    "start_time": "2022-06-30T00:04:09.751Z"
   },
   {
    "duration": 19,
    "start_time": "2022-06-30T00:05:14.242Z"
   },
   {
    "duration": 14,
    "start_time": "2022-06-30T00:08:08.989Z"
   },
   {
    "duration": 27,
    "start_time": "2022-06-30T00:08:55.971Z"
   },
   {
    "duration": 25,
    "start_time": "2022-06-30T00:09:12.945Z"
   },
   {
    "duration": 24,
    "start_time": "2022-06-30T00:09:20.930Z"
   },
   {
    "duration": 23,
    "start_time": "2022-06-30T00:09:38.124Z"
   },
   {
    "duration": 25,
    "start_time": "2022-06-30T00:10:19.913Z"
   },
   {
    "duration": 24,
    "start_time": "2022-06-30T00:10:27.388Z"
   },
   {
    "duration": 14,
    "start_time": "2022-06-30T00:10:28.007Z"
   },
   {
    "duration": 7,
    "start_time": "2022-06-30T00:10:44.458Z"
   },
   {
    "duration": 776,
    "start_time": "2022-06-30T00:11:13.565Z"
   },
   {
    "duration": 4,
    "start_time": "2022-06-30T00:11:26.818Z"
   },
   {
    "duration": 5,
    "start_time": "2022-06-30T00:11:44.801Z"
   },
   {
    "duration": 62,
    "start_time": "2022-06-30T00:12:11.149Z"
   },
   {
    "duration": 5,
    "start_time": "2022-06-30T00:14:39.209Z"
   },
   {
    "duration": 5,
    "start_time": "2022-06-30T00:15:34.432Z"
   },
   {
    "duration": 56,
    "start_time": "2022-06-30T00:35:51.743Z"
   },
   {
    "duration": 5,
    "start_time": "2022-06-30T00:46:13.793Z"
   },
   {
    "duration": 811,
    "start_time": "2022-06-30T00:46:25.052Z"
   },
   {
    "duration": 858,
    "start_time": "2022-06-30T00:46:37.547Z"
   },
   {
    "duration": 762,
    "start_time": "2022-06-30T00:47:15.157Z"
   },
   {
    "duration": 785,
    "start_time": "2022-06-30T00:51:59.120Z"
   },
   {
    "duration": 8,
    "start_time": "2022-06-30T00:52:07.000Z"
   },
   {
    "duration": 1147,
    "start_time": "2022-06-30T00:52:20.152Z"
   },
   {
    "duration": 8,
    "start_time": "2022-06-30T00:52:40.036Z"
   },
   {
    "duration": 837,
    "start_time": "2022-06-30T00:53:09.222Z"
   },
   {
    "duration": 771,
    "start_time": "2022-06-30T00:53:20.003Z"
   },
   {
    "duration": 7,
    "start_time": "2022-06-30T00:53:43.258Z"
   },
   {
    "duration": 5,
    "start_time": "2022-06-30T00:54:32.844Z"
   },
   {
    "duration": 7,
    "start_time": "2022-06-30T00:54:46.116Z"
   },
   {
    "duration": 18,
    "start_time": "2022-06-30T00:59:15.172Z"
   },
   {
    "duration": 11,
    "start_time": "2022-06-30T00:59:41.194Z"
   },
   {
    "duration": 14,
    "start_time": "2022-06-30T01:03:01.865Z"
   },
   {
    "duration": 19,
    "start_time": "2022-06-30T01:05:44.240Z"
   },
   {
    "duration": 16,
    "start_time": "2022-06-30T01:05:53.740Z"
   },
   {
    "duration": 14,
    "start_time": "2022-06-30T01:06:29.756Z"
   },
   {
    "duration": 25,
    "start_time": "2022-06-30T01:07:05.486Z"
   },
   {
    "duration": 26,
    "start_time": "2022-06-30T01:07:56.730Z"
   },
   {
    "duration": 977,
    "start_time": "2022-06-30T01:08:55.498Z"
   },
   {
    "duration": 2788,
    "start_time": "2022-06-30T01:09:25.680Z"
   },
   {
    "duration": 1154,
    "start_time": "2022-06-30T01:09:33.440Z"
   },
   {
    "duration": 19,
    "start_time": "2022-06-30T01:10:55.108Z"
   },
   {
    "duration": 19,
    "start_time": "2022-06-30T01:11:26.900Z"
   },
   {
    "duration": 1153,
    "start_time": "2022-06-30T14:06:38.011Z"
   },
   {
    "duration": 1091,
    "start_time": "2022-06-30T14:06:39.167Z"
   },
   {
    "duration": 123,
    "start_time": "2022-06-30T14:06:40.260Z"
   },
   {
    "duration": 43,
    "start_time": "2022-06-30T14:06:40.384Z"
   },
   {
    "duration": 44,
    "start_time": "2022-06-30T14:06:40.430Z"
   },
   {
    "duration": 92,
    "start_time": "2022-06-30T14:06:40.475Z"
   },
   {
    "duration": 11,
    "start_time": "2022-06-30T14:06:40.569Z"
   },
   {
    "duration": 8,
    "start_time": "2022-06-30T14:06:40.582Z"
   },
   {
    "duration": 14,
    "start_time": "2022-06-30T14:06:40.592Z"
   },
   {
    "duration": 35,
    "start_time": "2022-06-30T14:06:40.607Z"
   },
   {
    "duration": 57,
    "start_time": "2022-06-30T14:06:40.643Z"
   },
   {
    "duration": 26,
    "start_time": "2022-06-30T14:06:40.702Z"
   },
   {
    "duration": 7,
    "start_time": "2022-06-30T14:06:40.730Z"
   },
   {
    "duration": 27,
    "start_time": "2022-06-30T14:06:40.739Z"
   },
   {
    "duration": 15,
    "start_time": "2022-06-30T14:06:40.768Z"
   },
   {
    "duration": 162,
    "start_time": "2022-06-30T14:06:40.785Z"
   },
   {
    "duration": 172,
    "start_time": "2022-06-30T14:06:40.949Z"
   },
   {
    "duration": 49,
    "start_time": "2022-06-30T14:06:41.126Z"
   },
   {
    "duration": 302,
    "start_time": "2022-06-30T14:06:41.177Z"
   },
   {
    "duration": 833,
    "start_time": "2022-06-30T14:06:41.482Z"
   },
   {
    "duration": 943,
    "start_time": "2022-06-30T14:06:42.318Z"
   },
   {
    "duration": 0,
    "start_time": "2022-06-30T14:06:43.262Z"
   },
   {
    "duration": 0,
    "start_time": "2022-06-30T14:06:43.263Z"
   },
   {
    "duration": 0,
    "start_time": "2022-06-30T14:06:43.265Z"
   },
   {
    "duration": 0,
    "start_time": "2022-06-30T14:06:43.266Z"
   },
   {
    "duration": 0,
    "start_time": "2022-06-30T14:06:43.268Z"
   },
   {
    "duration": 23,
    "start_time": "2022-06-30T14:07:03.730Z"
   },
   {
    "duration": 210,
    "start_time": "2022-06-30T14:07:06.750Z"
   },
   {
    "duration": 5,
    "start_time": "2022-06-30T14:07:11.339Z"
   },
   {
    "duration": 19,
    "start_time": "2022-06-30T14:07:15.315Z"
   },
   {
    "duration": 65,
    "start_time": "2022-06-30T14:07:15.787Z"
   },
   {
    "duration": 1245,
    "start_time": "2022-06-30T14:08:10.298Z"
   },
   {
    "duration": 1609,
    "start_time": "2022-06-30T14:08:19.386Z"
   },
   {
    "duration": 5,
    "start_time": "2022-06-30T14:08:28.100Z"
   },
   {
    "duration": 5,
    "start_time": "2022-06-30T14:08:54.280Z"
   },
   {
    "duration": 27,
    "start_time": "2022-06-30T14:09:44.821Z"
   },
   {
    "duration": 23,
    "start_time": "2022-06-30T14:10:41.259Z"
   },
   {
    "duration": 27,
    "start_time": "2022-06-30T14:10:54.761Z"
   },
   {
    "duration": 9,
    "start_time": "2022-06-30T14:11:00.997Z"
   },
   {
    "duration": 1109,
    "start_time": "2022-06-30T14:11:22.265Z"
   },
   {
    "duration": 1104,
    "start_time": "2022-06-30T14:11:23.376Z"
   },
   {
    "duration": 131,
    "start_time": "2022-06-30T14:11:24.482Z"
   },
   {
    "duration": 40,
    "start_time": "2022-06-30T14:11:24.615Z"
   },
   {
    "duration": 41,
    "start_time": "2022-06-30T14:11:24.658Z"
   },
   {
    "duration": 93,
    "start_time": "2022-06-30T14:11:24.701Z"
   },
   {
    "duration": 13,
    "start_time": "2022-06-30T14:11:24.796Z"
   },
   {
    "duration": 10,
    "start_time": "2022-06-30T14:11:24.828Z"
   },
   {
    "duration": 18,
    "start_time": "2022-06-30T14:11:24.840Z"
   },
   {
    "duration": 28,
    "start_time": "2022-06-30T14:11:24.861Z"
   },
   {
    "duration": 68,
    "start_time": "2022-06-30T14:11:24.891Z"
   },
   {
    "duration": 6,
    "start_time": "2022-06-30T14:11:24.961Z"
   },
   {
    "duration": 9,
    "start_time": "2022-06-30T14:11:24.969Z"
   },
   {
    "duration": 48,
    "start_time": "2022-06-30T14:11:24.980Z"
   },
   {
    "duration": 17,
    "start_time": "2022-06-30T14:11:25.030Z"
   },
   {
    "duration": 144,
    "start_time": "2022-06-30T14:11:25.049Z"
   },
   {
    "duration": 171,
    "start_time": "2022-06-30T14:11:25.194Z"
   },
   {
    "duration": 67,
    "start_time": "2022-06-30T14:11:25.368Z"
   },
   {
    "duration": 265,
    "start_time": "2022-06-30T14:11:25.437Z"
   },
   {
    "duration": 783,
    "start_time": "2022-06-30T14:11:25.704Z"
   },
   {
    "duration": 38,
    "start_time": "2022-06-30T14:11:26.489Z"
   },
   {
    "duration": 217,
    "start_time": "2022-06-30T14:11:26.529Z"
   },
   {
    "duration": 5,
    "start_time": "2022-06-30T14:11:26.748Z"
   },
   {
    "duration": 16,
    "start_time": "2022-06-30T14:11:26.754Z"
   },
   {
    "duration": 60,
    "start_time": "2022-06-30T14:11:26.771Z"
   },
   {
    "duration": 1,
    "start_time": "2022-06-30T14:11:26.832Z"
   },
   {
    "duration": 4,
    "start_time": "2022-06-30T14:12:14.648Z"
   },
   {
    "duration": 11,
    "start_time": "2022-06-30T14:12:34.570Z"
   },
   {
    "duration": 132,
    "start_time": "2022-06-30T14:13:31.529Z"
   },
   {
    "duration": 120,
    "start_time": "2022-06-30T14:13:46.057Z"
   },
   {
    "duration": 122,
    "start_time": "2022-06-30T14:13:54.668Z"
   },
   {
    "duration": 127,
    "start_time": "2022-06-30T14:14:00.699Z"
   },
   {
    "duration": 143,
    "start_time": "2022-06-30T14:14:11.788Z"
   },
   {
    "duration": 21,
    "start_time": "2022-06-30T14:14:28.264Z"
   },
   {
    "duration": 19,
    "start_time": "2022-06-30T14:14:38.337Z"
   },
   {
    "duration": 9,
    "start_time": "2022-06-30T14:15:36.654Z"
   },
   {
    "duration": 9,
    "start_time": "2022-06-30T14:16:03.682Z"
   },
   {
    "duration": 152,
    "start_time": "2022-06-30T14:17:21.992Z"
   },
   {
    "duration": 8,
    "start_time": "2022-06-30T14:18:31.726Z"
   },
   {
    "duration": 1065,
    "start_time": "2022-06-30T14:18:49.759Z"
   },
   {
    "duration": 1131,
    "start_time": "2022-06-30T14:18:50.827Z"
   },
   {
    "duration": 125,
    "start_time": "2022-06-30T14:18:51.960Z"
   },
   {
    "duration": 46,
    "start_time": "2022-06-30T14:18:52.087Z"
   },
   {
    "duration": 44,
    "start_time": "2022-06-30T14:18:52.134Z"
   },
   {
    "duration": 85,
    "start_time": "2022-06-30T14:18:52.179Z"
   },
   {
    "duration": 11,
    "start_time": "2022-06-30T14:18:52.265Z"
   },
   {
    "duration": 8,
    "start_time": "2022-06-30T14:18:52.278Z"
   },
   {
    "duration": 12,
    "start_time": "2022-06-30T14:18:52.287Z"
   },
   {
    "duration": 31,
    "start_time": "2022-06-30T14:18:52.301Z"
   },
   {
    "duration": 58,
    "start_time": "2022-06-30T14:18:52.333Z"
   },
   {
    "duration": 6,
    "start_time": "2022-06-30T14:18:52.392Z"
   },
   {
    "duration": 31,
    "start_time": "2022-06-30T14:18:52.400Z"
   },
   {
    "duration": 33,
    "start_time": "2022-06-30T14:18:52.432Z"
   },
   {
    "duration": 15,
    "start_time": "2022-06-30T14:18:52.467Z"
   },
   {
    "duration": 142,
    "start_time": "2022-06-30T14:18:52.483Z"
   },
   {
    "duration": 7,
    "start_time": "2022-06-30T14:18:52.626Z"
   },
   {
    "duration": 157,
    "start_time": "2022-06-30T14:18:52.634Z"
   },
   {
    "duration": 58,
    "start_time": "2022-06-30T14:18:52.792Z"
   },
   {
    "duration": 276,
    "start_time": "2022-06-30T14:18:52.852Z"
   },
   {
    "duration": 9,
    "start_time": "2022-06-30T14:18:53.129Z"
   },
   {
    "duration": 721,
    "start_time": "2022-06-30T14:18:53.140Z"
   },
   {
    "duration": 35,
    "start_time": "2022-06-30T14:18:53.864Z"
   },
   {
    "duration": 236,
    "start_time": "2022-06-30T14:18:53.901Z"
   },
   {
    "duration": 6,
    "start_time": "2022-06-30T14:18:54.139Z"
   },
   {
    "duration": 16,
    "start_time": "2022-06-30T14:18:54.146Z"
   },
   {
    "duration": 65,
    "start_time": "2022-06-30T14:18:54.164Z"
   },
   {
    "duration": 0,
    "start_time": "2022-06-30T14:18:54.231Z"
   },
   {
    "duration": 147,
    "start_time": "2022-06-30T14:19:25.583Z"
   },
   {
    "duration": 163,
    "start_time": "2022-06-30T14:19:36.466Z"
   },
   {
    "duration": 1143,
    "start_time": "2022-06-30T14:19:48.270Z"
   },
   {
    "duration": 1100,
    "start_time": "2022-06-30T14:19:49.416Z"
   },
   {
    "duration": 119,
    "start_time": "2022-06-30T14:19:50.527Z"
   },
   {
    "duration": 36,
    "start_time": "2022-06-30T14:19:50.648Z"
   },
   {
    "duration": 48,
    "start_time": "2022-06-30T14:19:50.686Z"
   },
   {
    "duration": 91,
    "start_time": "2022-06-30T14:19:50.736Z"
   },
   {
    "duration": 14,
    "start_time": "2022-06-30T14:19:50.829Z"
   },
   {
    "duration": 11,
    "start_time": "2022-06-30T14:19:50.844Z"
   },
   {
    "duration": 15,
    "start_time": "2022-06-30T14:19:50.857Z"
   },
   {
    "duration": 20,
    "start_time": "2022-06-30T14:19:50.875Z"
   },
   {
    "duration": 77,
    "start_time": "2022-06-30T14:19:50.896Z"
   },
   {
    "duration": 6,
    "start_time": "2022-06-30T14:19:50.975Z"
   },
   {
    "duration": 17,
    "start_time": "2022-06-30T14:19:50.984Z"
   },
   {
    "duration": 40,
    "start_time": "2022-06-30T14:19:51.003Z"
   },
   {
    "duration": 15,
    "start_time": "2022-06-30T14:19:51.045Z"
   },
   {
    "duration": 146,
    "start_time": "2022-06-30T14:19:51.061Z"
   },
   {
    "duration": 6,
    "start_time": "2022-06-30T14:19:51.209Z"
   },
   {
    "duration": 166,
    "start_time": "2022-06-30T14:19:51.227Z"
   },
   {
    "duration": 60,
    "start_time": "2022-06-30T14:19:51.395Z"
   },
   {
    "duration": 266,
    "start_time": "2022-06-30T14:19:51.457Z"
   },
   {
    "duration": 8,
    "start_time": "2022-06-30T14:19:51.726Z"
   },
   {
    "duration": 682,
    "start_time": "2022-06-30T14:19:51.736Z"
   },
   {
    "duration": 26,
    "start_time": "2022-06-30T14:19:52.419Z"
   },
   {
    "duration": 213,
    "start_time": "2022-06-30T14:19:52.447Z"
   },
   {
    "duration": 5,
    "start_time": "2022-06-30T14:19:52.661Z"
   },
   {
    "duration": 14,
    "start_time": "2022-06-30T14:19:52.667Z"
   },
   {
    "duration": 52,
    "start_time": "2022-06-30T14:19:52.682Z"
   },
   {
    "duration": 0,
    "start_time": "2022-06-30T14:19:52.735Z"
   },
   {
    "duration": 162,
    "start_time": "2022-06-30T14:20:13.822Z"
   },
   {
    "duration": 144,
    "start_time": "2022-06-30T14:20:47.654Z"
   },
   {
    "duration": 130,
    "start_time": "2022-06-30T14:20:57.497Z"
   },
   {
    "duration": 20,
    "start_time": "2022-06-30T14:21:14.862Z"
   },
   {
    "duration": 7,
    "start_time": "2022-06-30T14:21:42.694Z"
   },
   {
    "duration": 8,
    "start_time": "2022-06-30T14:21:47.085Z"
   },
   {
    "duration": 121,
    "start_time": "2022-06-30T14:22:22.391Z"
   },
   {
    "duration": 7,
    "start_time": "2022-06-30T14:22:42.703Z"
   },
   {
    "duration": 14,
    "start_time": "2022-06-30T14:23:00.370Z"
   },
   {
    "duration": 7,
    "start_time": "2022-06-30T14:23:18.340Z"
   },
   {
    "duration": 17,
    "start_time": "2022-06-30T14:23:36.350Z"
   },
   {
    "duration": 15,
    "start_time": "2022-06-30T14:24:16.156Z"
   },
   {
    "duration": 119,
    "start_time": "2022-06-30T14:24:50.419Z"
   },
   {
    "duration": 8,
    "start_time": "2022-06-30T14:24:56.501Z"
   },
   {
    "duration": 7,
    "start_time": "2022-06-30T14:25:34.404Z"
   },
   {
    "duration": 14,
    "start_time": "2022-06-30T14:26:23.715Z"
   },
   {
    "duration": 138,
    "start_time": "2022-06-30T14:28:01.680Z"
   },
   {
    "duration": 128,
    "start_time": "2022-06-30T14:28:23.587Z"
   },
   {
    "duration": 123,
    "start_time": "2022-06-30T14:29:10.536Z"
   },
   {
    "duration": 1140,
    "start_time": "2022-06-30T14:29:52.142Z"
   },
   {
    "duration": 1114,
    "start_time": "2022-06-30T14:29:53.286Z"
   },
   {
    "duration": 133,
    "start_time": "2022-06-30T14:29:54.402Z"
   },
   {
    "duration": 36,
    "start_time": "2022-06-30T14:29:54.538Z"
   },
   {
    "duration": 57,
    "start_time": "2022-06-30T14:29:54.576Z"
   },
   {
    "duration": 110,
    "start_time": "2022-06-30T14:29:54.635Z"
   },
   {
    "duration": 12,
    "start_time": "2022-06-30T14:29:54.747Z"
   },
   {
    "duration": 12,
    "start_time": "2022-06-30T14:29:54.760Z"
   },
   {
    "duration": 26,
    "start_time": "2022-06-30T14:29:54.774Z"
   },
   {
    "duration": 30,
    "start_time": "2022-06-30T14:29:54.803Z"
   },
   {
    "duration": 64,
    "start_time": "2022-06-30T14:29:54.835Z"
   },
   {
    "duration": 7,
    "start_time": "2022-06-30T14:29:54.901Z"
   },
   {
    "duration": 6,
    "start_time": "2022-06-30T14:29:54.928Z"
   },
   {
    "duration": 28,
    "start_time": "2022-06-30T14:29:54.936Z"
   },
   {
    "duration": 16,
    "start_time": "2022-06-30T14:29:54.965Z"
   },
   {
    "duration": 162,
    "start_time": "2022-06-30T14:29:54.983Z"
   },
   {
    "duration": 8,
    "start_time": "2022-06-30T14:29:55.147Z"
   },
   {
    "duration": 206,
    "start_time": "2022-06-30T14:29:55.157Z"
   },
   {
    "duration": 71,
    "start_time": "2022-06-30T14:29:55.365Z"
   },
   {
    "duration": 8,
    "start_time": "2022-06-30T14:29:55.437Z"
   },
   {
    "duration": 353,
    "start_time": "2022-06-30T14:29:55.446Z"
   },
   {
    "duration": 9,
    "start_time": "2022-06-30T14:29:55.801Z"
   },
   {
    "duration": 910,
    "start_time": "2022-06-30T14:29:55.812Z"
   },
   {
    "duration": 31,
    "start_time": "2022-06-30T14:29:56.728Z"
   },
   {
    "duration": 219,
    "start_time": "2022-06-30T14:29:56.761Z"
   },
   {
    "duration": 6,
    "start_time": "2022-06-30T14:29:56.981Z"
   },
   {
    "duration": 40,
    "start_time": "2022-06-30T14:29:56.988Z"
   },
   {
    "duration": 77,
    "start_time": "2022-06-30T14:29:57.031Z"
   },
   {
    "duration": 0,
    "start_time": "2022-06-30T14:29:57.110Z"
   },
   {
    "duration": 0,
    "start_time": "2022-06-30T14:29:57.111Z"
   },
   {
    "duration": 0,
    "start_time": "2022-06-30T14:29:57.112Z"
   },
   {
    "duration": 0,
    "start_time": "2022-06-30T14:29:57.113Z"
   },
   {
    "duration": 7,
    "start_time": "2022-06-30T14:30:21.795Z"
   },
   {
    "duration": 161,
    "start_time": "2022-06-30T14:31:04.171Z"
   },
   {
    "duration": 164,
    "start_time": "2022-06-30T14:31:25.527Z"
   },
   {
    "duration": 286,
    "start_time": "2022-06-30T14:37:16.836Z"
   },
   {
    "duration": 669,
    "start_time": "2022-06-30T14:37:22.819Z"
   },
   {
    "duration": 28,
    "start_time": "2022-06-30T14:37:35.944Z"
   },
   {
    "duration": 13,
    "start_time": "2022-06-30T14:37:50.057Z"
   },
   {
    "duration": 121,
    "start_time": "2022-06-30T14:40:58.790Z"
   },
   {
    "duration": 137,
    "start_time": "2022-06-30T14:41:37.694Z"
   },
   {
    "duration": 133,
    "start_time": "2022-06-30T14:41:48.134Z"
   },
   {
    "duration": 167,
    "start_time": "2022-06-30T14:41:52.634Z"
   },
   {
    "duration": 10,
    "start_time": "2022-06-30T14:42:20.659Z"
   },
   {
    "duration": 142,
    "start_time": "2022-06-30T14:44:07.383Z"
   },
   {
    "duration": 152,
    "start_time": "2022-06-30T14:45:07.231Z"
   },
   {
    "duration": 152,
    "start_time": "2022-06-30T14:46:12.145Z"
   },
   {
    "duration": 6,
    "start_time": "2022-06-30T14:46:43.220Z"
   },
   {
    "duration": 73,
    "start_time": "2022-06-30T14:48:07.549Z"
   },
   {
    "duration": 7,
    "start_time": "2022-06-30T14:48:24.825Z"
   },
   {
    "duration": 9,
    "start_time": "2022-06-30T14:50:23.118Z"
   },
   {
    "duration": 17,
    "start_time": "2022-06-30T14:50:47.291Z"
   },
   {
    "duration": 13,
    "start_time": "2022-06-30T14:51:08.854Z"
   },
   {
    "duration": 12,
    "start_time": "2022-06-30T14:51:14.975Z"
   },
   {
    "duration": 12,
    "start_time": "2022-06-30T14:51:42.226Z"
   },
   {
    "duration": 12,
    "start_time": "2022-06-30T14:51:57.478Z"
   },
   {
    "duration": 12,
    "start_time": "2022-06-30T14:52:03.439Z"
   },
   {
    "duration": 71,
    "start_time": "2022-06-30T14:54:45.428Z"
   },
   {
    "duration": 110,
    "start_time": "2022-06-30T14:56:40.589Z"
   },
   {
    "duration": 9,
    "start_time": "2022-06-30T14:56:47.328Z"
   },
   {
    "duration": 26,
    "start_time": "2022-06-30T14:57:21.195Z"
   },
   {
    "duration": 15,
    "start_time": "2022-06-30T14:57:52.849Z"
   },
   {
    "duration": 24,
    "start_time": "2022-06-30T14:58:08.493Z"
   },
   {
    "duration": 32,
    "start_time": "2022-06-30T14:58:13.904Z"
   },
   {
    "duration": 672,
    "start_time": "2022-06-30T15:00:20.696Z"
   },
   {
    "duration": 28,
    "start_time": "2022-06-30T15:00:56.953Z"
   },
   {
    "duration": 7,
    "start_time": "2022-06-30T15:01:55.497Z"
   },
   {
    "duration": 894,
    "start_time": "2022-06-30T15:03:26.729Z"
   },
   {
    "duration": 1838,
    "start_time": "2022-06-30T15:04:00.125Z"
   },
   {
    "duration": 7,
    "start_time": "2022-06-30T15:04:06.627Z"
   },
   {
    "duration": 4,
    "start_time": "2022-06-30T15:04:18.008Z"
   },
   {
    "duration": 4,
    "start_time": "2022-06-30T15:04:25.382Z"
   },
   {
    "duration": 7,
    "start_time": "2022-06-30T15:04:33.577Z"
   },
   {
    "duration": 4,
    "start_time": "2022-06-30T15:04:41.943Z"
   },
   {
    "duration": 91,
    "start_time": "2022-06-30T15:05:01.060Z"
   },
   {
    "duration": 62,
    "start_time": "2022-06-30T15:07:19.983Z"
   },
   {
    "duration": 65,
    "start_time": "2022-06-30T15:07:33.935Z"
   },
   {
    "duration": 105,
    "start_time": "2022-06-30T15:07:45.485Z"
   },
   {
    "duration": 84,
    "start_time": "2022-06-30T15:07:55.570Z"
   },
   {
    "duration": 129,
    "start_time": "2022-06-30T15:08:06.723Z"
   },
   {
    "duration": 17,
    "start_time": "2022-06-30T15:08:16.273Z"
   },
   {
    "duration": 12,
    "start_time": "2022-06-30T15:09:20.037Z"
   },
   {
    "duration": 34,
    "start_time": "2022-06-30T15:20:27.114Z"
   },
   {
    "duration": 6,
    "start_time": "2022-06-30T15:20:40.939Z"
   },
   {
    "duration": 6,
    "start_time": "2022-06-30T15:34:48.228Z"
   },
   {
    "duration": 9,
    "start_time": "2022-06-30T15:35:13.491Z"
   },
   {
    "duration": 151,
    "start_time": "2022-06-30T15:35:23.197Z"
   },
   {
    "duration": 1214,
    "start_time": "2022-06-30T15:35:42.705Z"
   },
   {
    "duration": 1110,
    "start_time": "2022-06-30T15:35:43.922Z"
   },
   {
    "duration": 128,
    "start_time": "2022-06-30T15:35:45.034Z"
   },
   {
    "duration": 37,
    "start_time": "2022-06-30T15:35:45.163Z"
   },
   {
    "duration": 54,
    "start_time": "2022-06-30T15:35:45.202Z"
   },
   {
    "duration": 95,
    "start_time": "2022-06-30T15:35:45.258Z"
   },
   {
    "duration": 11,
    "start_time": "2022-06-30T15:35:45.355Z"
   },
   {
    "duration": 8,
    "start_time": "2022-06-30T15:35:45.367Z"
   },
   {
    "duration": 11,
    "start_time": "2022-06-30T15:35:45.377Z"
   },
   {
    "duration": 39,
    "start_time": "2022-06-30T15:35:45.392Z"
   },
   {
    "duration": 59,
    "start_time": "2022-06-30T15:35:45.432Z"
   },
   {
    "duration": 6,
    "start_time": "2022-06-30T15:35:45.493Z"
   },
   {
    "duration": 29,
    "start_time": "2022-06-30T15:35:45.501Z"
   },
   {
    "duration": 31,
    "start_time": "2022-06-30T15:35:45.532Z"
   },
   {
    "duration": 16,
    "start_time": "2022-06-30T15:35:45.565Z"
   },
   {
    "duration": 237,
    "start_time": "2022-06-30T15:35:45.583Z"
   },
   {
    "duration": 0,
    "start_time": "2022-06-30T15:35:45.821Z"
   },
   {
    "duration": 0,
    "start_time": "2022-06-30T15:35:45.828Z"
   },
   {
    "duration": 0,
    "start_time": "2022-06-30T15:35:45.829Z"
   },
   {
    "duration": 0,
    "start_time": "2022-06-30T15:35:45.830Z"
   },
   {
    "duration": 0,
    "start_time": "2022-06-30T15:35:45.831Z"
   },
   {
    "duration": 0,
    "start_time": "2022-06-30T15:35:45.832Z"
   },
   {
    "duration": 0,
    "start_time": "2022-06-30T15:35:45.833Z"
   },
   {
    "duration": 0,
    "start_time": "2022-06-30T15:35:45.833Z"
   },
   {
    "duration": 0,
    "start_time": "2022-06-30T15:35:45.834Z"
   },
   {
    "duration": 0,
    "start_time": "2022-06-30T15:35:45.835Z"
   },
   {
    "duration": 0,
    "start_time": "2022-06-30T15:35:45.836Z"
   },
   {
    "duration": 0,
    "start_time": "2022-06-30T15:35:45.837Z"
   },
   {
    "duration": 0,
    "start_time": "2022-06-30T15:35:45.838Z"
   },
   {
    "duration": 0,
    "start_time": "2022-06-30T15:35:45.839Z"
   },
   {
    "duration": 0,
    "start_time": "2022-06-30T15:35:45.841Z"
   },
   {
    "duration": 0,
    "start_time": "2022-06-30T15:35:45.842Z"
   },
   {
    "duration": 0,
    "start_time": "2022-06-30T15:35:45.843Z"
   },
   {
    "duration": 117,
    "start_time": "2022-06-30T15:36:13.331Z"
   },
   {
    "duration": 7,
    "start_time": "2022-06-30T15:36:16.763Z"
   },
   {
    "duration": 9,
    "start_time": "2022-06-30T15:37:01.077Z"
   },
   {
    "duration": 33,
    "start_time": "2022-06-30T15:37:15.565Z"
   },
   {
    "duration": 40,
    "start_time": "2022-06-30T15:37:20.936Z"
   },
   {
    "duration": 6,
    "start_time": "2022-06-30T15:38:55.710Z"
   },
   {
    "duration": 1123,
    "start_time": "2022-06-30T15:40:27.766Z"
   },
   {
    "duration": 1083,
    "start_time": "2022-06-30T15:40:28.892Z"
   },
   {
    "duration": 121,
    "start_time": "2022-06-30T15:40:29.977Z"
   },
   {
    "duration": 71,
    "start_time": "2022-06-30T15:40:30.101Z"
   },
   {
    "duration": 41,
    "start_time": "2022-06-30T15:40:30.174Z"
   },
   {
    "duration": 80,
    "start_time": "2022-06-30T15:40:30.226Z"
   },
   {
    "duration": 21,
    "start_time": "2022-06-30T15:40:30.308Z"
   },
   {
    "duration": 29,
    "start_time": "2022-06-30T15:40:30.331Z"
   },
   {
    "duration": 22,
    "start_time": "2022-06-30T15:40:30.362Z"
   },
   {
    "duration": 28,
    "start_time": "2022-06-30T15:40:30.387Z"
   },
   {
    "duration": 66,
    "start_time": "2022-06-30T15:40:30.417Z"
   },
   {
    "duration": 7,
    "start_time": "2022-06-30T15:40:30.485Z"
   },
   {
    "duration": 29,
    "start_time": "2022-06-30T15:40:30.494Z"
   },
   {
    "duration": 44,
    "start_time": "2022-06-30T15:40:30.524Z"
   },
   {
    "duration": 17,
    "start_time": "2022-06-30T15:40:30.570Z"
   },
   {
    "duration": 128,
    "start_time": "2022-06-30T15:40:30.589Z"
   },
   {
    "duration": 12,
    "start_time": "2022-06-30T15:40:30.719Z"
   },
   {
    "duration": 160,
    "start_time": "2022-06-30T15:40:30.733Z"
   },
   {
    "duration": 34,
    "start_time": "2022-06-30T15:40:30.895Z"
   },
   {
    "duration": 54,
    "start_time": "2022-06-30T15:40:30.931Z"
   },
   {
    "duration": 313,
    "start_time": "2022-06-30T15:40:30.986Z"
   },
   {
    "duration": 960,
    "start_time": "2022-06-30T15:40:31.301Z"
   },
   {
    "duration": 75,
    "start_time": "2022-06-30T15:40:32.263Z"
   },
   {
    "duration": 395,
    "start_time": "2022-06-30T15:40:32.340Z"
   },
   {
    "duration": 7,
    "start_time": "2022-06-30T15:40:32.737Z"
   },
   {
    "duration": 39,
    "start_time": "2022-06-30T15:40:32.745Z"
   },
   {
    "duration": 72,
    "start_time": "2022-06-30T15:40:32.785Z"
   },
   {
    "duration": 0,
    "start_time": "2022-06-30T15:40:32.859Z"
   },
   {
    "duration": 0,
    "start_time": "2022-06-30T15:40:32.860Z"
   },
   {
    "duration": 0,
    "start_time": "2022-06-30T15:40:32.861Z"
   },
   {
    "duration": 0,
    "start_time": "2022-06-30T15:40:32.862Z"
   },
   {
    "duration": 0,
    "start_time": "2022-06-30T15:40:32.863Z"
   },
   {
    "duration": 0,
    "start_time": "2022-06-30T15:40:32.864Z"
   },
   {
    "duration": 18,
    "start_time": "2022-06-30T15:41:14.849Z"
   },
   {
    "duration": 7,
    "start_time": "2022-06-30T15:43:51.019Z"
   },
   {
    "duration": 7,
    "start_time": "2022-06-30T15:45:53.535Z"
   },
   {
    "duration": 6,
    "start_time": "2022-06-30T15:46:22.768Z"
   },
   {
    "duration": 109,
    "start_time": "2022-06-30T15:47:58.172Z"
   },
   {
    "duration": 15,
    "start_time": "2022-06-30T15:48:07.813Z"
   },
   {
    "duration": 7,
    "start_time": "2022-06-30T15:48:53.904Z"
   },
   {
    "duration": 7,
    "start_time": "2022-06-30T15:49:06.078Z"
   },
   {
    "duration": 18,
    "start_time": "2022-06-30T15:49:36.284Z"
   },
   {
    "duration": 5,
    "start_time": "2022-06-30T15:49:37.643Z"
   },
   {
    "duration": 7,
    "start_time": "2022-06-30T15:49:38.328Z"
   },
   {
    "duration": 901,
    "start_time": "2022-06-30T15:50:07.134Z"
   },
   {
    "duration": 6,
    "start_time": "2022-06-30T15:50:37.630Z"
   },
   {
    "duration": 7,
    "start_time": "2022-06-30T16:17:34.604Z"
   },
   {
    "duration": 6,
    "start_time": "2022-06-30T16:19:28.340Z"
   },
   {
    "duration": 1134,
    "start_time": "2022-06-30T16:23:37.888Z"
   },
   {
    "duration": 1099,
    "start_time": "2022-06-30T16:23:39.028Z"
   },
   {
    "duration": 116,
    "start_time": "2022-06-30T16:23:40.128Z"
   },
   {
    "duration": 35,
    "start_time": "2022-06-30T16:23:40.246Z"
   },
   {
    "duration": 51,
    "start_time": "2022-06-30T16:23:40.282Z"
   },
   {
    "duration": 83,
    "start_time": "2022-06-30T16:23:40.334Z"
   },
   {
    "duration": 16,
    "start_time": "2022-06-30T16:23:40.419Z"
   },
   {
    "duration": 9,
    "start_time": "2022-06-30T16:23:40.437Z"
   },
   {
    "duration": 16,
    "start_time": "2022-06-30T16:23:40.447Z"
   },
   {
    "duration": 18,
    "start_time": "2022-06-30T16:23:40.466Z"
   },
   {
    "duration": 85,
    "start_time": "2022-06-30T16:23:40.486Z"
   },
   {
    "duration": 7,
    "start_time": "2022-06-30T16:23:40.572Z"
   },
   {
    "duration": 9,
    "start_time": "2022-06-30T16:23:40.581Z"
   },
   {
    "duration": 45,
    "start_time": "2022-06-30T16:23:40.591Z"
   },
   {
    "duration": 16,
    "start_time": "2022-06-30T16:23:40.638Z"
   },
   {
    "duration": 144,
    "start_time": "2022-06-30T16:23:40.655Z"
   },
   {
    "duration": 164,
    "start_time": "2022-06-30T16:23:40.801Z"
   },
   {
    "duration": 27,
    "start_time": "2022-06-30T16:23:40.966Z"
   },
   {
    "duration": 71,
    "start_time": "2022-06-30T16:23:40.995Z"
   },
   {
    "duration": 286,
    "start_time": "2022-06-30T16:23:41.067Z"
   },
   {
    "duration": 770,
    "start_time": "2022-06-30T16:23:41.354Z"
   },
   {
    "duration": 26,
    "start_time": "2022-06-30T16:23:42.125Z"
   },
   {
    "duration": 213,
    "start_time": "2022-06-30T16:23:42.153Z"
   },
   {
    "duration": 5,
    "start_time": "2022-06-30T16:23:42.368Z"
   },
   {
    "duration": 9,
    "start_time": "2022-06-30T16:23:42.374Z"
   },
   {
    "duration": 1107,
    "start_time": "2022-06-30T16:23:42.384Z"
   },
   {
    "duration": 0,
    "start_time": "2022-06-30T16:23:43.493Z"
   },
   {
    "duration": 9,
    "start_time": "2022-06-30T16:24:19.152Z"
   },
   {
    "duration": 9,
    "start_time": "2022-06-30T16:24:41.535Z"
   },
   {
    "duration": 51,
    "start_time": "2022-06-30T16:25:09.120Z"
   },
   {
    "duration": 11,
    "start_time": "2022-06-30T16:25:09.588Z"
   },
   {
    "duration": 11,
    "start_time": "2022-06-30T16:25:16.919Z"
   },
   {
    "duration": 10,
    "start_time": "2022-06-30T16:25:41.200Z"
   },
   {
    "duration": 4,
    "start_time": "2022-06-30T16:27:22.596Z"
   },
   {
    "duration": 12,
    "start_time": "2022-06-30T16:27:27.110Z"
   },
   {
    "duration": 40,
    "start_time": "2022-06-30T16:27:51.718Z"
   },
   {
    "duration": 1110,
    "start_time": "2022-06-30T16:27:56.624Z"
   },
   {
    "duration": 1080,
    "start_time": "2022-06-30T16:27:57.736Z"
   },
   {
    "duration": 130,
    "start_time": "2022-06-30T16:27:58.818Z"
   },
   {
    "duration": 52,
    "start_time": "2022-06-30T16:27:58.950Z"
   },
   {
    "duration": 49,
    "start_time": "2022-06-30T16:27:59.005Z"
   },
   {
    "duration": 106,
    "start_time": "2022-06-30T16:27:59.056Z"
   },
   {
    "duration": 11,
    "start_time": "2022-06-30T16:27:59.164Z"
   },
   {
    "duration": 7,
    "start_time": "2022-06-30T16:27:59.177Z"
   },
   {
    "duration": 9,
    "start_time": "2022-06-30T16:27:59.186Z"
   },
   {
    "duration": 43,
    "start_time": "2022-06-30T16:27:59.198Z"
   },
   {
    "duration": 63,
    "start_time": "2022-06-30T16:27:59.243Z"
   },
   {
    "duration": 21,
    "start_time": "2022-06-30T16:27:59.307Z"
   },
   {
    "duration": 7,
    "start_time": "2022-06-30T16:27:59.330Z"
   },
   {
    "duration": 27,
    "start_time": "2022-06-30T16:27:59.338Z"
   },
   {
    "duration": 15,
    "start_time": "2022-06-30T16:27:59.367Z"
   },
   {
    "duration": 148,
    "start_time": "2022-06-30T16:27:59.383Z"
   },
   {
    "duration": 145,
    "start_time": "2022-06-30T16:27:59.533Z"
   },
   {
    "duration": 25,
    "start_time": "2022-06-30T16:27:59.680Z"
   },
   {
    "duration": 67,
    "start_time": "2022-06-30T16:27:59.706Z"
   },
   {
    "duration": 286,
    "start_time": "2022-06-30T16:27:59.775Z"
   },
   {
    "duration": 764,
    "start_time": "2022-06-30T16:28:00.063Z"
   },
   {
    "duration": 25,
    "start_time": "2022-06-30T16:28:00.828Z"
   },
   {
    "duration": 216,
    "start_time": "2022-06-30T16:28:00.855Z"
   },
   {
    "duration": 4,
    "start_time": "2022-06-30T16:28:01.073Z"
   },
   {
    "duration": 21,
    "start_time": "2022-06-30T16:28:01.079Z"
   },
   {
    "duration": 1047,
    "start_time": "2022-06-30T16:28:01.101Z"
   },
   {
    "duration": 0,
    "start_time": "2022-06-30T16:28:02.150Z"
   },
   {
    "duration": 0,
    "start_time": "2022-06-30T16:28:02.151Z"
   },
   {
    "duration": 11,
    "start_time": "2022-06-30T16:29:05.147Z"
   },
   {
    "duration": 10,
    "start_time": "2022-06-30T16:32:12.536Z"
   },
   {
    "duration": 5,
    "start_time": "2022-06-30T16:32:23.020Z"
   },
   {
    "duration": 870,
    "start_time": "2022-06-30T16:32:28.610Z"
   },
   {
    "duration": 5,
    "start_time": "2022-06-30T16:36:27.862Z"
   },
   {
    "duration": 9,
    "start_time": "2022-06-30T16:39:32.704Z"
   },
   {
    "duration": 4,
    "start_time": "2022-06-30T16:39:34.599Z"
   },
   {
    "duration": 24,
    "start_time": "2022-06-30T16:39:35.097Z"
   },
   {
    "duration": 4,
    "start_time": "2022-06-30T16:40:11.900Z"
   },
   {
    "duration": 14,
    "start_time": "2022-06-30T16:40:12.518Z"
   },
   {
    "duration": 4,
    "start_time": "2022-06-30T16:40:39.884Z"
   },
   {
    "duration": 13,
    "start_time": "2022-06-30T16:40:40.377Z"
   },
   {
    "duration": 10,
    "start_time": "2022-06-30T16:41:59.020Z"
   },
   {
    "duration": 4,
    "start_time": "2022-06-30T16:45:37.583Z"
   },
   {
    "duration": 3,
    "start_time": "2022-06-30T16:45:43.327Z"
   },
   {
    "duration": 10,
    "start_time": "2022-06-30T16:46:02.893Z"
   },
   {
    "duration": 4,
    "start_time": "2022-06-30T16:46:07.486Z"
   },
   {
    "duration": 10,
    "start_time": "2022-06-30T16:46:15.531Z"
   },
   {
    "duration": 11,
    "start_time": "2022-06-30T16:47:50.535Z"
   },
   {
    "duration": 13,
    "start_time": "2022-06-30T16:48:46.009Z"
   },
   {
    "duration": 5,
    "start_time": "2022-06-30T16:49:08.770Z"
   },
   {
    "duration": 51,
    "start_time": "2022-06-30T16:49:43.948Z"
   },
   {
    "duration": 10,
    "start_time": "2022-06-30T16:49:50.419Z"
   },
   {
    "duration": 3,
    "start_time": "2022-06-30T16:50:10.681Z"
   },
   {
    "duration": 4,
    "start_time": "2022-06-30T16:50:15.149Z"
   },
   {
    "duration": 5,
    "start_time": "2022-06-30T16:50:31.121Z"
   },
   {
    "duration": 13,
    "start_time": "2022-06-30T16:51:09.655Z"
   },
   {
    "duration": 5,
    "start_time": "2022-06-30T16:51:59.259Z"
   },
   {
    "duration": 11,
    "start_time": "2022-06-30T16:52:31.424Z"
   },
   {
    "duration": 13,
    "start_time": "2022-06-30T16:55:09.883Z"
   },
   {
    "duration": 13,
    "start_time": "2022-06-30T17:03:43.279Z"
   },
   {
    "duration": 5,
    "start_time": "2022-06-30T17:04:30.106Z"
   },
   {
    "duration": 5,
    "start_time": "2022-06-30T17:04:37.652Z"
   },
   {
    "duration": 15,
    "start_time": "2022-06-30T17:11:36.419Z"
   },
   {
    "duration": 5,
    "start_time": "2022-06-30T17:11:50.872Z"
   },
   {
    "duration": 11,
    "start_time": "2022-06-30T17:11:59.426Z"
   },
   {
    "duration": 5,
    "start_time": "2022-06-30T17:12:07.333Z"
   },
   {
    "duration": 6,
    "start_time": "2022-06-30T17:13:38.041Z"
   },
   {
    "duration": 6,
    "start_time": "2022-06-30T17:13:54.057Z"
   },
   {
    "duration": 6,
    "start_time": "2022-06-30T17:13:59.906Z"
   },
   {
    "duration": 12,
    "start_time": "2022-06-30T17:14:11.866Z"
   },
   {
    "duration": 10,
    "start_time": "2022-06-30T17:15:52.397Z"
   },
   {
    "duration": 10,
    "start_time": "2022-06-30T17:15:59.736Z"
   },
   {
    "duration": 10,
    "start_time": "2022-06-30T17:16:15.736Z"
   },
   {
    "duration": 5,
    "start_time": "2022-06-30T17:17:03.306Z"
   },
   {
    "duration": 6,
    "start_time": "2022-06-30T17:17:17.650Z"
   },
   {
    "duration": 6,
    "start_time": "2022-06-30T17:17:25.586Z"
   },
   {
    "duration": 14,
    "start_time": "2022-06-30T17:17:36.246Z"
   },
   {
    "duration": 14,
    "start_time": "2022-06-30T17:18:00.332Z"
   },
   {
    "duration": 6,
    "start_time": "2022-06-30T17:18:17.718Z"
   },
   {
    "duration": 8,
    "start_time": "2022-06-30T17:19:35.167Z"
   },
   {
    "duration": 5,
    "start_time": "2022-06-30T17:20:03.051Z"
   },
   {
    "duration": 7,
    "start_time": "2022-06-30T17:20:13.692Z"
   },
   {
    "duration": 6,
    "start_time": "2022-06-30T17:20:25.581Z"
   },
   {
    "duration": 6,
    "start_time": "2022-06-30T17:20:34.585Z"
   },
   {
    "duration": 6,
    "start_time": "2022-06-30T17:20:42.499Z"
   },
   {
    "duration": 6,
    "start_time": "2022-06-30T17:20:49.030Z"
   },
   {
    "duration": 4,
    "start_time": "2022-06-30T17:21:23.547Z"
   },
   {
    "duration": 6,
    "start_time": "2022-06-30T17:21:28.651Z"
   },
   {
    "duration": 6,
    "start_time": "2022-06-30T17:21:35.629Z"
   },
   {
    "duration": 6,
    "start_time": "2022-06-30T17:21:40.031Z"
   },
   {
    "duration": 5,
    "start_time": "2022-06-30T17:21:52.646Z"
   },
   {
    "duration": 5,
    "start_time": "2022-06-30T17:21:57.985Z"
   },
   {
    "duration": 5,
    "start_time": "2022-06-30T17:22:09.401Z"
   },
   {
    "duration": 7,
    "start_time": "2022-06-30T17:22:13.558Z"
   },
   {
    "duration": 5,
    "start_time": "2022-06-30T17:22:20.974Z"
   },
   {
    "duration": 5,
    "start_time": "2022-06-30T17:22:42.534Z"
   },
   {
    "duration": 5,
    "start_time": "2022-06-30T17:22:50.994Z"
   },
   {
    "duration": 4,
    "start_time": "2022-06-30T17:22:57.642Z"
   },
   {
    "duration": 5,
    "start_time": "2022-06-30T17:23:13.389Z"
   },
   {
    "duration": 5,
    "start_time": "2022-06-30T17:23:20.059Z"
   },
   {
    "duration": 5,
    "start_time": "2022-06-30T17:23:30.089Z"
   },
   {
    "duration": 6,
    "start_time": "2022-06-30T17:24:11.147Z"
   },
   {
    "duration": 4,
    "start_time": "2022-06-30T17:24:27.178Z"
   },
   {
    "duration": 5,
    "start_time": "2022-06-30T17:24:38.250Z"
   },
   {
    "duration": 5,
    "start_time": "2022-06-30T17:24:49.780Z"
   },
   {
    "duration": 6,
    "start_time": "2022-06-30T17:24:57.645Z"
   },
   {
    "duration": 6,
    "start_time": "2022-06-30T17:25:20.278Z"
   },
   {
    "duration": 6,
    "start_time": "2022-06-30T17:25:26.756Z"
   },
   {
    "duration": 6,
    "start_time": "2022-06-30T17:25:37.325Z"
   },
   {
    "duration": 6,
    "start_time": "2022-06-30T17:25:43.901Z"
   },
   {
    "duration": 6,
    "start_time": "2022-06-30T17:25:59.138Z"
   },
   {
    "duration": 5,
    "start_time": "2022-06-30T17:26:07.699Z"
   },
   {
    "duration": 6,
    "start_time": "2022-06-30T17:26:14.101Z"
   },
   {
    "duration": 5,
    "start_time": "2022-06-30T17:26:23.728Z"
   },
   {
    "duration": 5,
    "start_time": "2022-06-30T17:26:47.004Z"
   },
   {
    "duration": 5,
    "start_time": "2022-06-30T17:26:54.245Z"
   },
   {
    "duration": 5,
    "start_time": "2022-06-30T17:26:59.478Z"
   },
   {
    "duration": 5,
    "start_time": "2022-06-30T17:27:04.047Z"
   },
   {
    "duration": 5,
    "start_time": "2022-06-30T17:27:09.267Z"
   },
   {
    "duration": 4,
    "start_time": "2022-06-30T17:27:14.821Z"
   },
   {
    "duration": 5,
    "start_time": "2022-06-30T17:27:30.594Z"
   },
   {
    "duration": 5,
    "start_time": "2022-06-30T17:27:44.846Z"
   },
   {
    "duration": 6,
    "start_time": "2022-06-30T17:28:05.028Z"
   },
   {
    "duration": 5,
    "start_time": "2022-06-30T17:28:19.324Z"
   },
   {
    "duration": 5,
    "start_time": "2022-06-30T17:28:59.368Z"
   },
   {
    "duration": 11,
    "start_time": "2022-06-30T17:29:27.076Z"
   },
   {
    "duration": 5,
    "start_time": "2022-06-30T17:31:44.752Z"
   },
   {
    "duration": 7,
    "start_time": "2022-06-30T17:31:50.998Z"
   },
   {
    "duration": 6,
    "start_time": "2022-06-30T17:32:01.819Z"
   },
   {
    "duration": 11,
    "start_time": "2022-06-30T17:32:23.608Z"
   },
   {
    "duration": 10,
    "start_time": "2022-06-30T17:32:33.407Z"
   },
   {
    "duration": 4,
    "start_time": "2022-06-30T17:33:59.885Z"
   },
   {
    "duration": 10,
    "start_time": "2022-06-30T17:34:05.432Z"
   },
   {
    "duration": 1087,
    "start_time": "2022-06-30T17:34:44.936Z"
   },
   {
    "duration": 1387,
    "start_time": "2022-06-30T17:35:03.396Z"
   },
   {
    "duration": 5,
    "start_time": "2022-06-30T17:35:25.470Z"
   },
   {
    "duration": 5,
    "start_time": "2022-06-30T17:37:59.906Z"
   },
   {
    "duration": 21,
    "start_time": "2022-06-30T17:38:12.935Z"
   },
   {
    "duration": 5,
    "start_time": "2022-06-30T17:39:17.448Z"
   },
   {
    "duration": 5,
    "start_time": "2022-06-30T17:39:38.819Z"
   },
   {
    "duration": 4,
    "start_time": "2022-06-30T17:39:56.716Z"
   },
   {
    "duration": 5,
    "start_time": "2022-06-30T17:41:15.064Z"
   },
   {
    "duration": 6,
    "start_time": "2022-06-30T17:41:48.127Z"
   },
   {
    "duration": 6,
    "start_time": "2022-06-30T17:41:56.496Z"
   },
   {
    "duration": 5,
    "start_time": "2022-06-30T17:42:19.174Z"
   },
   {
    "duration": 6,
    "start_time": "2022-06-30T17:42:56.059Z"
   },
   {
    "duration": 4,
    "start_time": "2022-06-30T17:43:32.688Z"
   },
   {
    "duration": 9,
    "start_time": "2022-06-30T17:43:34.412Z"
   },
   {
    "duration": 6,
    "start_time": "2022-06-30T17:44:54.882Z"
   },
   {
    "duration": 19,
    "start_time": "2022-06-30T17:44:55.519Z"
   },
   {
    "duration": 4,
    "start_time": "2022-06-30T17:45:07.751Z"
   },
   {
    "duration": 17,
    "start_time": "2022-06-30T17:45:08.630Z"
   },
   {
    "duration": 5,
    "start_time": "2022-06-30T17:45:49.550Z"
   },
   {
    "duration": 5,
    "start_time": "2022-06-30T17:45:54.343Z"
   },
   {
    "duration": 17,
    "start_time": "2022-06-30T17:45:56.422Z"
   },
   {
    "duration": 5,
    "start_time": "2022-06-30T17:46:11.830Z"
   },
   {
    "duration": 15,
    "start_time": "2022-06-30T17:46:12.539Z"
   },
   {
    "duration": 6,
    "start_time": "2022-06-30T17:46:19.448Z"
   },
   {
    "duration": 15,
    "start_time": "2022-06-30T17:46:19.968Z"
   },
   {
    "duration": 5,
    "start_time": "2022-06-30T17:46:52.189Z"
   },
   {
    "duration": 14,
    "start_time": "2022-06-30T17:46:53.646Z"
   },
   {
    "duration": 5,
    "start_time": "2022-06-30T17:46:59.138Z"
   },
   {
    "duration": 15,
    "start_time": "2022-06-30T17:46:59.624Z"
   },
   {
    "duration": 4,
    "start_time": "2022-06-30T17:48:32.952Z"
   },
   {
    "duration": 14,
    "start_time": "2022-06-30T17:48:33.362Z"
   },
   {
    "duration": 4,
    "start_time": "2022-06-30T18:52:12.095Z"
   },
   {
    "duration": 4,
    "start_time": "2022-06-30T18:52:20.075Z"
   },
   {
    "duration": 13,
    "start_time": "2022-06-30T18:52:21.185Z"
   },
   {
    "duration": 4,
    "start_time": "2022-06-30T18:52:28.615Z"
   },
   {
    "duration": 7,
    "start_time": "2022-06-30T18:52:29.146Z"
   },
   {
    "duration": 4,
    "start_time": "2022-06-30T18:54:05.474Z"
   },
   {
    "duration": 4,
    "start_time": "2022-06-30T18:54:10.077Z"
   },
   {
    "duration": 8,
    "start_time": "2022-06-30T18:54:10.450Z"
   },
   {
    "duration": 4,
    "start_time": "2022-06-30T18:55:22.455Z"
   },
   {
    "duration": 8,
    "start_time": "2022-06-30T18:55:23.182Z"
   },
   {
    "duration": 6,
    "start_time": "2022-06-30T18:55:36.507Z"
   },
   {
    "duration": 13,
    "start_time": "2022-06-30T18:55:36.909Z"
   },
   {
    "duration": 4,
    "start_time": "2022-06-30T18:55:49.877Z"
   },
   {
    "duration": 14,
    "start_time": "2022-06-30T18:55:50.372Z"
   },
   {
    "duration": 4,
    "start_time": "2022-06-30T18:56:02.072Z"
   },
   {
    "duration": 19,
    "start_time": "2022-06-30T18:56:02.427Z"
   },
   {
    "duration": 4,
    "start_time": "2022-06-30T18:56:18.376Z"
   },
   {
    "duration": 8,
    "start_time": "2022-06-30T18:56:19.939Z"
   },
   {
    "duration": 4,
    "start_time": "2022-06-30T18:59:34.996Z"
   },
   {
    "duration": 7,
    "start_time": "2022-06-30T18:59:35.501Z"
   },
   {
    "duration": 5,
    "start_time": "2022-06-30T19:00:46.843Z"
   },
   {
    "duration": 5,
    "start_time": "2022-06-30T19:00:50.719Z"
   },
   {
    "duration": 4,
    "start_time": "2022-06-30T19:01:53.986Z"
   },
   {
    "duration": 8,
    "start_time": "2022-06-30T19:01:54.501Z"
   },
   {
    "duration": 8,
    "start_time": "2022-06-30T19:02:25.221Z"
   },
   {
    "duration": 6,
    "start_time": "2022-06-30T19:02:51.382Z"
   },
   {
    "duration": 6,
    "start_time": "2022-06-30T19:03:26.189Z"
   },
   {
    "duration": 10,
    "start_time": "2022-06-30T19:03:26.739Z"
   },
   {
    "duration": 4,
    "start_time": "2022-06-30T19:04:06.881Z"
   },
   {
    "duration": 19,
    "start_time": "2022-06-30T19:04:07.419Z"
   },
   {
    "duration": 4,
    "start_time": "2022-06-30T19:04:18.889Z"
   },
   {
    "duration": 8,
    "start_time": "2022-06-30T19:04:19.279Z"
   },
   {
    "duration": 5,
    "start_time": "2022-06-30T19:04:51.215Z"
   },
   {
    "duration": 5,
    "start_time": "2022-06-30T19:04:51.695Z"
   },
   {
    "duration": 7,
    "start_time": "2022-06-30T19:04:52.268Z"
   },
   {
    "duration": 4,
    "start_time": "2022-06-30T19:05:30.080Z"
   },
   {
    "duration": 5,
    "start_time": "2022-06-30T19:05:30.588Z"
   },
   {
    "duration": 7,
    "start_time": "2022-06-30T19:05:31.117Z"
   },
   {
    "duration": 4,
    "start_time": "2022-06-30T19:05:45.104Z"
   },
   {
    "duration": 5,
    "start_time": "2022-06-30T19:05:45.572Z"
   },
   {
    "duration": 8,
    "start_time": "2022-06-30T19:05:46.018Z"
   },
   {
    "duration": 5,
    "start_time": "2022-06-30T19:05:58.686Z"
   },
   {
    "duration": 6,
    "start_time": "2022-06-30T19:05:59.243Z"
   },
   {
    "duration": 7,
    "start_time": "2022-06-30T19:05:59.740Z"
   },
   {
    "duration": 4,
    "start_time": "2022-06-30T19:06:11.825Z"
   },
   {
    "duration": 5,
    "start_time": "2022-06-30T19:06:12.237Z"
   },
   {
    "duration": 8,
    "start_time": "2022-06-30T19:06:12.992Z"
   },
   {
    "duration": 5,
    "start_time": "2022-06-30T19:06:21.710Z"
   },
   {
    "duration": 5,
    "start_time": "2022-06-30T19:06:22.117Z"
   },
   {
    "duration": 10,
    "start_time": "2022-06-30T19:06:22.534Z"
   },
   {
    "duration": 4,
    "start_time": "2022-06-30T19:17:06.560Z"
   },
   {
    "duration": 5,
    "start_time": "2022-06-30T19:17:07.000Z"
   },
   {
    "duration": 19,
    "start_time": "2022-06-30T19:17:07.421Z"
   },
   {
    "duration": 4,
    "start_time": "2022-06-30T19:17:25.029Z"
   },
   {
    "duration": 5,
    "start_time": "2022-06-30T19:17:26.549Z"
   },
   {
    "duration": 13,
    "start_time": "2022-06-30T19:17:26.979Z"
   },
   {
    "duration": 4,
    "start_time": "2022-06-30T19:17:35.278Z"
   },
   {
    "duration": 5,
    "start_time": "2022-06-30T19:17:35.703Z"
   },
   {
    "duration": 13,
    "start_time": "2022-06-30T19:17:36.143Z"
   },
   {
    "duration": 4,
    "start_time": "2022-06-30T19:17:52.340Z"
   },
   {
    "duration": 5,
    "start_time": "2022-06-30T19:17:52.855Z"
   },
   {
    "duration": 15,
    "start_time": "2022-06-30T19:17:53.245Z"
   },
   {
    "duration": 4,
    "start_time": "2022-06-30T19:18:08.015Z"
   },
   {
    "duration": 10,
    "start_time": "2022-06-30T19:18:08.424Z"
   },
   {
    "duration": 13,
    "start_time": "2022-06-30T19:18:08.805Z"
   },
   {
    "duration": 5,
    "start_time": "2022-06-30T19:18:18.785Z"
   },
   {
    "duration": 5,
    "start_time": "2022-06-30T19:18:20.116Z"
   },
   {
    "duration": 7,
    "start_time": "2022-06-30T19:18:20.385Z"
   },
   {
    "duration": 53,
    "start_time": "2022-06-30T19:20:22.341Z"
   },
   {
    "duration": 5,
    "start_time": "2022-06-30T19:20:22.999Z"
   },
   {
    "duration": 8,
    "start_time": "2022-06-30T19:20:24.705Z"
   },
   {
    "duration": 4,
    "start_time": "2022-06-30T19:21:40.747Z"
   },
   {
    "duration": 15,
    "start_time": "2022-06-30T19:21:41.224Z"
   },
   {
    "duration": 9,
    "start_time": "2022-06-30T19:21:41.813Z"
   },
   {
    "duration": 10,
    "start_time": "2022-06-30T19:22:15.095Z"
   },
   {
    "duration": 4,
    "start_time": "2022-06-30T19:22:22.773Z"
   },
   {
    "duration": 3,
    "start_time": "2022-06-30T19:22:23.140Z"
   },
   {
    "duration": 6,
    "start_time": "2022-06-30T19:22:23.523Z"
   },
   {
    "duration": 11,
    "start_time": "2022-06-30T19:22:24.049Z"
   },
   {
    "duration": 8,
    "start_time": "2022-06-30T19:22:33.071Z"
   },
   {
    "duration": 7,
    "start_time": "2022-06-30T19:22:43.060Z"
   },
   {
    "duration": 4,
    "start_time": "2022-06-30T19:24:25.869Z"
   },
   {
    "duration": 7,
    "start_time": "2022-06-30T19:24:26.336Z"
   },
   {
    "duration": 10,
    "start_time": "2022-06-30T19:24:26.773Z"
   },
   {
    "duration": 4,
    "start_time": "2022-06-30T19:24:46.093Z"
   },
   {
    "duration": 17,
    "start_time": "2022-06-30T19:24:46.528Z"
   },
   {
    "duration": 9,
    "start_time": "2022-06-30T19:24:47.339Z"
   },
   {
    "duration": 4,
    "start_time": "2022-06-30T19:25:28.396Z"
   },
   {
    "duration": 7,
    "start_time": "2022-06-30T19:25:28.824Z"
   },
   {
    "duration": 7,
    "start_time": "2022-06-30T19:25:29.260Z"
   },
   {
    "duration": 4,
    "start_time": "2022-06-30T19:25:54.540Z"
   },
   {
    "duration": 6,
    "start_time": "2022-06-30T19:25:54.954Z"
   },
   {
    "duration": 6,
    "start_time": "2022-06-30T19:25:55.410Z"
   },
   {
    "duration": 4,
    "start_time": "2022-06-30T19:26:14.008Z"
   },
   {
    "duration": 4,
    "start_time": "2022-06-30T19:26:14.442Z"
   },
   {
    "duration": 15,
    "start_time": "2022-06-30T19:26:14.853Z"
   },
   {
    "duration": 4,
    "start_time": "2022-06-30T19:26:26.787Z"
   },
   {
    "duration": 7,
    "start_time": "2022-06-30T19:26:27.187Z"
   },
   {
    "duration": 10,
    "start_time": "2022-06-30T19:26:27.560Z"
   },
   {
    "duration": 4,
    "start_time": "2022-06-30T19:26:32.790Z"
   },
   {
    "duration": 9,
    "start_time": "2022-06-30T19:26:33.242Z"
   },
   {
    "duration": 8,
    "start_time": "2022-06-30T19:26:33.608Z"
   },
   {
    "duration": 4,
    "start_time": "2022-06-30T19:26:48.469Z"
   },
   {
    "duration": 5,
    "start_time": "2022-06-30T19:26:48.790Z"
   },
   {
    "duration": 25,
    "start_time": "2022-06-30T19:26:49.114Z"
   },
   {
    "duration": 4,
    "start_time": "2022-06-30T19:26:55.048Z"
   },
   {
    "duration": 5,
    "start_time": "2022-06-30T19:26:55.390Z"
   },
   {
    "duration": 14,
    "start_time": "2022-06-30T19:26:55.740Z"
   },
   {
    "duration": 49,
    "start_time": "2022-06-30T19:27:03.246Z"
   },
   {
    "duration": 5,
    "start_time": "2022-06-30T19:27:03.567Z"
   },
   {
    "duration": 13,
    "start_time": "2022-06-30T19:27:04.073Z"
   },
   {
    "duration": 5,
    "start_time": "2022-06-30T19:27:16.111Z"
   },
   {
    "duration": 9,
    "start_time": "2022-06-30T19:27:16.413Z"
   },
   {
    "duration": 13,
    "start_time": "2022-06-30T19:27:17.039Z"
   },
   {
    "duration": 5,
    "start_time": "2022-06-30T19:27:33.198Z"
   },
   {
    "duration": 5,
    "start_time": "2022-06-30T19:27:33.564Z"
   },
   {
    "duration": 14,
    "start_time": "2022-06-30T19:27:33.841Z"
   },
   {
    "duration": 4,
    "start_time": "2022-06-30T19:27:55.246Z"
   },
   {
    "duration": 6,
    "start_time": "2022-06-30T19:27:55.644Z"
   },
   {
    "duration": 15,
    "start_time": "2022-06-30T19:27:56.286Z"
   },
   {
    "duration": 4,
    "start_time": "2022-06-30T19:28:04.355Z"
   },
   {
    "duration": 5,
    "start_time": "2022-06-30T19:28:04.646Z"
   },
   {
    "duration": 10,
    "start_time": "2022-06-30T19:28:05.045Z"
   },
   {
    "duration": 4,
    "start_time": "2022-06-30T19:28:14.717Z"
   },
   {
    "duration": 5,
    "start_time": "2022-06-30T19:28:15.110Z"
   },
   {
    "duration": 13,
    "start_time": "2022-06-30T19:28:15.449Z"
   },
   {
    "duration": 4,
    "start_time": "2022-06-30T19:28:21.157Z"
   },
   {
    "duration": 5,
    "start_time": "2022-06-30T19:28:21.450Z"
   },
   {
    "duration": 12,
    "start_time": "2022-06-30T19:28:21.812Z"
   },
   {
    "duration": 4,
    "start_time": "2022-06-30T19:28:28.403Z"
   },
   {
    "duration": 5,
    "start_time": "2022-06-30T19:28:28.705Z"
   },
   {
    "duration": 14,
    "start_time": "2022-06-30T19:28:29.139Z"
   },
   {
    "duration": 3,
    "start_time": "2022-06-30T19:28:38.201Z"
   },
   {
    "duration": 5,
    "start_time": "2022-06-30T19:28:38.515Z"
   },
   {
    "duration": 8,
    "start_time": "2022-06-30T19:28:38.951Z"
   },
   {
    "duration": 4,
    "start_time": "2022-06-30T19:30:53.112Z"
   },
   {
    "duration": 18,
    "start_time": "2022-06-30T19:30:53.624Z"
   },
   {
    "duration": 5,
    "start_time": "2022-06-30T19:30:54.076Z"
   },
   {
    "duration": 8,
    "start_time": "2022-06-30T19:31:23.708Z"
   },
   {
    "duration": 12,
    "start_time": "2022-06-30T19:31:38.939Z"
   },
   {
    "duration": 10,
    "start_time": "2022-06-30T19:31:48.574Z"
   },
   {
    "duration": 8,
    "start_time": "2022-06-30T19:32:12.959Z"
   },
   {
    "duration": 4,
    "start_time": "2022-06-30T19:32:17.886Z"
   },
   {
    "duration": 5,
    "start_time": "2022-06-30T19:32:18.396Z"
   },
   {
    "duration": 18,
    "start_time": "2022-06-30T19:32:19.023Z"
   },
   {
    "duration": 10,
    "start_time": "2022-06-30T19:32:38.211Z"
   },
   {
    "duration": 7,
    "start_time": "2022-06-30T19:32:42.674Z"
   },
   {
    "duration": 10,
    "start_time": "2022-06-30T19:33:16.852Z"
   },
   {
    "duration": 8,
    "start_time": "2022-06-30T19:33:22.403Z"
   },
   {
    "duration": 7,
    "start_time": "2022-06-30T19:33:48.376Z"
   },
   {
    "duration": 11,
    "start_time": "2022-06-30T19:33:56.751Z"
   },
   {
    "duration": 7,
    "start_time": "2022-06-30T19:34:02.279Z"
   },
   {
    "duration": 8,
    "start_time": "2022-06-30T19:42:58.360Z"
   },
   {
    "duration": 5,
    "start_time": "2022-06-30T19:43:18.710Z"
   },
   {
    "duration": 5,
    "start_time": "2022-06-30T19:43:35.026Z"
   },
   {
    "duration": 8,
    "start_time": "2022-06-30T19:43:35.455Z"
   },
   {
    "duration": 4,
    "start_time": "2022-06-30T19:47:25.507Z"
   },
   {
    "duration": 8,
    "start_time": "2022-06-30T19:47:25.970Z"
   },
   {
    "duration": 4,
    "start_time": "2022-06-30T19:48:03.967Z"
   },
   {
    "duration": 7,
    "start_time": "2022-06-30T19:48:04.327Z"
   },
   {
    "duration": 8,
    "start_time": "2022-06-30T19:48:47.855Z"
   },
   {
    "duration": 18,
    "start_time": "2022-06-30T19:48:48.444Z"
   },
   {
    "duration": 26,
    "start_time": "2022-06-30T19:49:38.747Z"
   },
   {
    "duration": 8,
    "start_time": "2022-06-30T19:49:39.164Z"
   },
   {
    "duration": 14,
    "start_time": "2022-06-30T19:49:39.893Z"
   },
   {
    "duration": 6,
    "start_time": "2022-06-30T19:49:43.320Z"
   },
   {
    "duration": 8,
    "start_time": "2022-06-30T19:51:58.566Z"
   },
   {
    "duration": 5,
    "start_time": "2022-06-30T19:51:59.322Z"
   },
   {
    "duration": 10,
    "start_time": "2022-06-30T19:55:20.843Z"
   },
   {
    "duration": 5,
    "start_time": "2022-06-30T19:55:23.034Z"
   },
   {
    "duration": 9,
    "start_time": "2022-06-30T19:55:24.650Z"
   },
   {
    "duration": 1345,
    "start_time": "2022-06-30T19:59:59.323Z"
   },
   {
    "duration": 1256,
    "start_time": "2022-06-30T20:00:00.671Z"
   },
   {
    "duration": 132,
    "start_time": "2022-06-30T20:00:01.929Z"
   },
   {
    "duration": 63,
    "start_time": "2022-06-30T20:00:02.064Z"
   },
   {
    "duration": 56,
    "start_time": "2022-06-30T20:00:02.130Z"
   },
   {
    "duration": 155,
    "start_time": "2022-06-30T20:00:02.188Z"
   },
   {
    "duration": 13,
    "start_time": "2022-06-30T20:00:02.345Z"
   },
   {
    "duration": 50,
    "start_time": "2022-06-30T20:00:02.361Z"
   },
   {
    "duration": 160,
    "start_time": "2022-06-30T20:00:02.414Z"
   },
   {
    "duration": 26,
    "start_time": "2022-06-30T20:00:02.578Z"
   },
   {
    "duration": 61,
    "start_time": "2022-06-30T20:00:02.607Z"
   },
   {
    "duration": 8,
    "start_time": "2022-06-30T20:00:02.671Z"
   },
   {
    "duration": 22,
    "start_time": "2022-06-30T20:00:02.681Z"
   },
   {
    "duration": 60,
    "start_time": "2022-06-30T20:00:02.705Z"
   },
   {
    "duration": 19,
    "start_time": "2022-06-30T20:00:02.767Z"
   },
   {
    "duration": 191,
    "start_time": "2022-06-30T20:00:02.788Z"
   },
   {
    "duration": 207,
    "start_time": "2022-06-30T20:00:02.982Z"
   },
   {
    "duration": 38,
    "start_time": "2022-06-30T20:00:03.190Z"
   },
   {
    "duration": 73,
    "start_time": "2022-06-30T20:00:03.230Z"
   },
   {
    "duration": 394,
    "start_time": "2022-06-30T20:00:03.305Z"
   },
   {
    "duration": 981,
    "start_time": "2022-06-30T20:00:03.701Z"
   },
   {
    "duration": 53,
    "start_time": "2022-06-30T20:00:04.684Z"
   },
   {
    "duration": 11,
    "start_time": "2022-06-30T20:00:04.740Z"
   },
   {
    "duration": 289,
    "start_time": "2022-06-30T20:00:04.753Z"
   },
   {
    "duration": 6,
    "start_time": "2022-06-30T20:00:05.044Z"
   },
   {
    "duration": 18,
    "start_time": "2022-06-30T20:00:05.051Z"
   },
   {
    "duration": 10,
    "start_time": "2022-06-30T20:00:05.071Z"
   },
   {
    "duration": 49,
    "start_time": "2022-06-30T20:00:05.085Z"
   },
   {
    "duration": 3221,
    "start_time": "2022-06-30T20:03:15.033Z"
   },
   {
    "duration": 188,
    "start_time": "2022-06-30T20:04:05.890Z"
   },
   {
    "duration": 16,
    "start_time": "2022-06-30T20:04:09.663Z"
   },
   {
    "duration": 11,
    "start_time": "2022-06-30T20:05:11.553Z"
   },
   {
    "duration": 24,
    "start_time": "2022-06-30T20:05:34.818Z"
   },
   {
    "duration": 2828,
    "start_time": "2022-06-30T20:06:09.275Z"
   },
   {
    "duration": 23170,
    "start_time": "2022-06-30T20:06:20.082Z"
   },
   {
    "duration": 2847,
    "start_time": "2022-06-30T20:06:48.211Z"
   },
   {
    "duration": 31,
    "start_time": "2022-06-30T20:07:36.784Z"
   },
   {
    "duration": 302,
    "start_time": "2022-06-30T20:07:43.075Z"
   },
   {
    "duration": 47,
    "start_time": "2022-06-30T20:07:44.185Z"
   },
   {
    "duration": 40,
    "start_time": "2022-06-30T20:07:44.880Z"
   },
   {
    "duration": 135,
    "start_time": "2022-06-30T20:07:45.448Z"
   },
   {
    "duration": 12,
    "start_time": "2022-06-30T20:07:46.955Z"
   },
   {
    "duration": 103,
    "start_time": "2022-06-30T20:07:48.430Z"
   },
   {
    "duration": 76,
    "start_time": "2022-06-30T20:08:05.601Z"
   },
   {
    "duration": 400,
    "start_time": "2022-06-30T20:08:19.704Z"
   },
   {
    "duration": 407,
    "start_time": "2022-06-30T20:08:41.718Z"
   },
   {
    "duration": 12,
    "start_time": "2022-06-30T20:08:43.052Z"
   },
   {
    "duration": 10,
    "start_time": "2022-06-30T20:08:44.727Z"
   },
   {
    "duration": 15,
    "start_time": "2022-06-30T20:08:45.646Z"
   },
   {
    "duration": 32,
    "start_time": "2022-06-30T20:08:46.544Z"
   },
   {
    "duration": 84,
    "start_time": "2022-06-30T20:08:46.952Z"
   },
   {
    "duration": 7,
    "start_time": "2022-06-30T20:08:47.648Z"
   },
   {
    "duration": 9,
    "start_time": "2022-06-30T20:08:48.964Z"
   },
   {
    "duration": 33,
    "start_time": "2022-06-30T20:08:49.773Z"
   },
   {
    "duration": 19,
    "start_time": "2022-06-30T20:08:51.094Z"
   },
   {
    "duration": 169,
    "start_time": "2022-06-30T20:08:52.193Z"
   },
   {
    "duration": 171,
    "start_time": "2022-06-30T20:08:54.555Z"
   },
   {
    "duration": 31,
    "start_time": "2022-06-30T20:08:55.546Z"
   },
   {
    "duration": 95,
    "start_time": "2022-06-30T20:10:18.265Z"
   },
   {
    "duration": 105,
    "start_time": "2022-06-30T20:10:24.883Z"
   },
   {
    "duration": 47,
    "start_time": "2022-06-30T20:10:25.332Z"
   },
   {
    "duration": 41,
    "start_time": "2022-06-30T20:10:25.651Z"
   },
   {
    "duration": 114,
    "start_time": "2022-06-30T20:10:26.207Z"
   },
   {
    "duration": 19,
    "start_time": "2022-06-30T20:10:27.287Z"
   },
   {
    "duration": 360,
    "start_time": "2022-06-30T20:10:27.984Z"
   },
   {
    "duration": 1279,
    "start_time": "2022-06-30T20:11:19.344Z"
   },
   {
    "duration": 1339,
    "start_time": "2022-06-30T20:11:20.625Z"
   },
   {
    "duration": 143,
    "start_time": "2022-06-30T20:11:21.966Z"
   },
   {
    "duration": 67,
    "start_time": "2022-06-30T20:11:22.111Z"
   },
   {
    "duration": 57,
    "start_time": "2022-06-30T20:11:22.181Z"
   },
   {
    "duration": 132,
    "start_time": "2022-06-30T20:11:22.248Z"
   },
   {
    "duration": 2664,
    "start_time": "2022-06-30T20:11:22.382Z"
   },
   {
    "duration": 12,
    "start_time": "2022-06-30T20:11:25.048Z"
   },
   {
    "duration": 10,
    "start_time": "2022-06-30T20:11:25.062Z"
   },
   {
    "duration": 15,
    "start_time": "2022-06-30T20:11:25.074Z"
   },
   {
    "duration": 17,
    "start_time": "2022-06-30T20:11:25.092Z"
   },
   {
    "duration": 69,
    "start_time": "2022-06-30T20:11:25.134Z"
   },
   {
    "duration": 6,
    "start_time": "2022-06-30T20:11:25.206Z"
   },
   {
    "duration": 23,
    "start_time": "2022-06-30T20:11:25.216Z"
   },
   {
    "duration": 33,
    "start_time": "2022-06-30T20:11:25.246Z"
   },
   {
    "duration": 24,
    "start_time": "2022-06-30T20:11:25.280Z"
   },
   {
    "duration": 150,
    "start_time": "2022-06-30T20:11:25.306Z"
   },
   {
    "duration": 188,
    "start_time": "2022-06-30T20:11:25.459Z"
   },
   {
    "duration": 27,
    "start_time": "2022-06-30T20:11:25.649Z"
   },
   {
    "duration": 75,
    "start_time": "2022-06-30T20:11:25.678Z"
   },
   {
    "duration": 316,
    "start_time": "2022-06-30T20:11:25.754Z"
   },
   {
    "duration": 886,
    "start_time": "2022-06-30T20:11:26.072Z"
   },
   {
    "duration": 35,
    "start_time": "2022-06-30T20:11:26.960Z"
   },
   {
    "duration": 11,
    "start_time": "2022-06-30T20:11:26.996Z"
   },
   {
    "duration": 172,
    "start_time": "2022-06-30T20:11:27.008Z"
   },
   {
    "duration": 5,
    "start_time": "2022-06-30T20:11:27.183Z"
   },
   {
    "duration": 52,
    "start_time": "2022-06-30T20:11:27.190Z"
   },
   {
    "duration": 13,
    "start_time": "2022-06-30T20:11:27.249Z"
   },
   {
    "duration": 16,
    "start_time": "2022-06-30T20:11:27.264Z"
   },
   {
    "duration": 11,
    "start_time": "2022-06-30T20:12:16.864Z"
   },
   {
    "duration": 23062,
    "start_time": "2022-06-30T20:13:53.746Z"
   },
   {
    "duration": 0,
    "start_time": "2022-06-30T20:14:16.810Z"
   },
   {
    "duration": 13,
    "start_time": "2022-06-30T20:14:39.971Z"
   },
   {
    "duration": 12,
    "start_time": "2022-06-30T20:15:04.759Z"
   },
   {
    "duration": 1865,
    "start_time": "2022-06-30T20:16:58.703Z"
   },
   {
    "duration": 714,
    "start_time": "2022-06-30T20:17:05.099Z"
   },
   {
    "duration": 519,
    "start_time": "2022-06-30T20:17:38.700Z"
   },
   {
    "duration": 576,
    "start_time": "2022-06-30T20:18:02.809Z"
   },
   {
    "duration": 253,
    "start_time": "2022-06-30T20:18:32.811Z"
   },
   {
    "duration": 1364,
    "start_time": "2022-06-30T20:19:36.186Z"
   },
   {
    "duration": 1183,
    "start_time": "2022-06-30T20:19:37.553Z"
   },
   {
    "duration": 130,
    "start_time": "2022-06-30T20:19:38.738Z"
   },
   {
    "duration": 38,
    "start_time": "2022-06-30T20:19:38.870Z"
   },
   {
    "duration": 59,
    "start_time": "2022-06-30T20:19:38.909Z"
   },
   {
    "duration": 93,
    "start_time": "2022-06-30T20:19:38.970Z"
   },
   {
    "duration": 14,
    "start_time": "2022-06-30T20:19:39.064Z"
   },
   {
    "duration": 540,
    "start_time": "2022-06-30T20:19:39.080Z"
   },
   {
    "duration": 18,
    "start_time": "2022-06-30T20:19:39.629Z"
   },
   {
    "duration": 7,
    "start_time": "2022-06-30T20:19:39.651Z"
   },
   {
    "duration": 11,
    "start_time": "2022-06-30T20:19:39.660Z"
   },
   {
    "duration": 20,
    "start_time": "2022-06-30T20:19:39.675Z"
   },
   {
    "duration": 87,
    "start_time": "2022-06-30T20:19:39.697Z"
   },
   {
    "duration": 7,
    "start_time": "2022-06-30T20:19:39.786Z"
   },
   {
    "duration": 14,
    "start_time": "2022-06-30T20:19:39.795Z"
   },
   {
    "duration": 47,
    "start_time": "2022-06-30T20:19:39.811Z"
   },
   {
    "duration": 18,
    "start_time": "2022-06-30T20:19:39.860Z"
   },
   {
    "duration": 184,
    "start_time": "2022-06-30T20:19:39.880Z"
   },
   {
    "duration": 197,
    "start_time": "2022-06-30T20:19:40.065Z"
   },
   {
    "duration": 25,
    "start_time": "2022-06-30T20:19:40.264Z"
   },
   {
    "duration": 83,
    "start_time": "2022-06-30T20:19:40.292Z"
   },
   {
    "duration": 315,
    "start_time": "2022-06-30T20:19:40.377Z"
   },
   {
    "duration": 1017,
    "start_time": "2022-06-30T20:19:40.694Z"
   },
   {
    "duration": 38,
    "start_time": "2022-06-30T20:19:41.712Z"
   },
   {
    "duration": 16,
    "start_time": "2022-06-30T20:19:41.752Z"
   },
   {
    "duration": 234,
    "start_time": "2022-06-30T20:19:41.770Z"
   },
   {
    "duration": 6,
    "start_time": "2022-06-30T20:19:42.006Z"
   },
   {
    "duration": 40,
    "start_time": "2022-06-30T20:19:42.015Z"
   },
   {
    "duration": 26,
    "start_time": "2022-06-30T20:19:42.057Z"
   },
   {
    "duration": 56,
    "start_time": "2022-06-30T20:19:42.085Z"
   },
   {
    "duration": 496,
    "start_time": "2022-06-30T20:24:37.679Z"
   },
   {
    "duration": 554,
    "start_time": "2022-06-30T20:25:06.905Z"
   },
   {
    "duration": 481,
    "start_time": "2022-06-30T20:25:56.726Z"
   },
   {
    "duration": 492,
    "start_time": "2022-06-30T20:26:21.076Z"
   },
   {
    "duration": 538,
    "start_time": "2022-06-30T20:26:49.425Z"
   },
   {
    "duration": 634,
    "start_time": "2022-06-30T20:27:20.628Z"
   },
   {
    "duration": 35,
    "start_time": "2022-06-30T20:46:46.317Z"
   },
   {
    "duration": 74,
    "start_time": "2022-06-30T20:46:58.252Z"
   },
   {
    "duration": 511,
    "start_time": "2022-06-30T20:47:10.268Z"
   },
   {
    "duration": 12,
    "start_time": "2022-06-30T21:06:42.448Z"
   },
   {
    "duration": 15,
    "start_time": "2022-06-30T21:10:39.328Z"
   },
   {
    "duration": 15,
    "start_time": "2022-06-30T21:10:40.611Z"
   },
   {
    "duration": 41,
    "start_time": "2022-06-30T21:10:43.271Z"
   },
   {
    "duration": 8,
    "start_time": "2022-06-30T21:10:45.886Z"
   },
   {
    "duration": 8,
    "start_time": "2022-06-30T21:10:54.849Z"
   },
   {
    "duration": 9,
    "start_time": "2022-06-30T21:11:28.852Z"
   },
   {
    "duration": 23,
    "start_time": "2022-06-30T21:11:47.264Z"
   },
   {
    "duration": 18,
    "start_time": "2022-06-30T21:11:58.717Z"
   },
   {
    "duration": 187,
    "start_time": "2022-06-30T21:12:00.282Z"
   },
   {
    "duration": 149,
    "start_time": "2022-06-30T21:12:08.696Z"
   },
   {
    "duration": 152,
    "start_time": "2022-06-30T21:13:24.346Z"
   },
   {
    "duration": 21,
    "start_time": "2022-06-30T21:13:25.942Z"
   },
   {
    "duration": 47,
    "start_time": "2022-06-30T21:13:44.658Z"
   },
   {
    "duration": 294,
    "start_time": "2022-06-30T21:13:46.081Z"
   },
   {
    "duration": 481,
    "start_time": "2022-06-30T21:13:49.140Z"
   },
   {
    "duration": 21,
    "start_time": "2022-06-30T21:13:52.101Z"
   },
   {
    "duration": 8,
    "start_time": "2022-06-30T21:13:53.114Z"
   },
   {
    "duration": 24,
    "start_time": "2022-06-30T21:13:53.836Z"
   },
   {
    "duration": 13,
    "start_time": "2022-06-30T21:14:42.741Z"
   },
   {
    "duration": 24,
    "start_time": "2022-06-30T21:14:43.998Z"
   },
   {
    "duration": 90,
    "start_time": "2022-06-30T21:14:44.786Z"
   },
   {
    "duration": 12,
    "start_time": "2022-06-30T21:14:46.718Z"
   },
   {
    "duration": 10,
    "start_time": "2022-06-30T21:14:48.170Z"
   },
   {
    "duration": 8,
    "start_time": "2022-06-30T21:15:00.142Z"
   },
   {
    "duration": 30,
    "start_time": "2022-06-30T21:15:01.782Z"
   },
   {
    "duration": 18,
    "start_time": "2022-06-30T21:15:12.089Z"
   },
   {
    "duration": 173,
    "start_time": "2022-06-30T21:15:13.566Z"
   },
   {
    "duration": 1217,
    "start_time": "2022-06-30T21:17:29.623Z"
   },
   {
    "duration": 1270,
    "start_time": "2022-06-30T21:17:30.842Z"
   },
   {
    "duration": 133,
    "start_time": "2022-06-30T21:17:32.114Z"
   },
   {
    "duration": 54,
    "start_time": "2022-06-30T21:17:32.250Z"
   },
   {
    "duration": 81,
    "start_time": "2022-06-30T21:17:32.306Z"
   },
   {
    "duration": 92,
    "start_time": "2022-06-30T21:17:32.389Z"
   },
   {
    "duration": 530,
    "start_time": "2022-06-30T21:17:32.483Z"
   },
   {
    "duration": 14,
    "start_time": "2022-06-30T21:17:33.015Z"
   },
   {
    "duration": 11,
    "start_time": "2022-06-30T21:17:33.031Z"
   },
   {
    "duration": 13,
    "start_time": "2022-06-30T21:17:33.045Z"
   },
   {
    "duration": 26,
    "start_time": "2022-06-30T21:17:33.060Z"
   },
   {
    "duration": 83,
    "start_time": "2022-06-30T21:17:33.088Z"
   },
   {
    "duration": 7,
    "start_time": "2022-06-30T21:17:33.173Z"
   },
   {
    "duration": 17,
    "start_time": "2022-06-30T21:17:33.182Z"
   },
   {
    "duration": 49,
    "start_time": "2022-06-30T21:17:33.200Z"
   },
   {
    "duration": 23,
    "start_time": "2022-06-30T21:17:33.251Z"
   },
   {
    "duration": 170,
    "start_time": "2022-06-30T21:17:33.276Z"
   },
   {
    "duration": 152,
    "start_time": "2022-06-30T21:17:33.448Z"
   },
   {
    "duration": 38,
    "start_time": "2022-06-30T21:17:33.602Z"
   },
   {
    "duration": 55,
    "start_time": "2022-06-30T21:17:33.642Z"
   },
   {
    "duration": 321,
    "start_time": "2022-06-30T21:17:33.698Z"
   },
   {
    "duration": 810,
    "start_time": "2022-06-30T21:17:34.021Z"
   },
   {
    "duration": 32,
    "start_time": "2022-06-30T21:17:34.832Z"
   },
   {
    "duration": 11,
    "start_time": "2022-06-30T21:17:34.865Z"
   },
   {
    "duration": 238,
    "start_time": "2022-06-30T21:17:34.877Z"
   },
   {
    "duration": 13,
    "start_time": "2022-06-30T21:17:35.116Z"
   },
   {
    "duration": 21,
    "start_time": "2022-06-30T21:17:35.131Z"
   },
   {
    "duration": 15,
    "start_time": "2022-06-30T21:17:35.155Z"
   },
   {
    "duration": 12,
    "start_time": "2022-06-30T21:17:35.172Z"
   },
   {
    "duration": 1109,
    "start_time": "2022-06-30T21:21:41.864Z"
   },
   {
    "duration": 1134,
    "start_time": "2022-06-30T21:21:42.975Z"
   },
   {
    "duration": 128,
    "start_time": "2022-06-30T21:21:44.110Z"
   },
   {
    "duration": 37,
    "start_time": "2022-06-30T21:21:44.240Z"
   },
   {
    "duration": 53,
    "start_time": "2022-06-30T21:21:44.278Z"
   },
   {
    "duration": 76,
    "start_time": "2022-06-30T21:21:44.333Z"
   },
   {
    "duration": 546,
    "start_time": "2022-06-30T21:21:44.411Z"
   },
   {
    "duration": 13,
    "start_time": "2022-06-30T21:21:44.959Z"
   },
   {
    "duration": 8,
    "start_time": "2022-06-30T21:21:44.974Z"
   },
   {
    "duration": 11,
    "start_time": "2022-06-30T21:21:44.985Z"
   },
   {
    "duration": 39,
    "start_time": "2022-06-30T21:21:44.998Z"
   },
   {
    "duration": 57,
    "start_time": "2022-06-30T21:21:45.039Z"
   },
   {
    "duration": 8,
    "start_time": "2022-06-30T21:21:45.097Z"
   },
   {
    "duration": 8,
    "start_time": "2022-06-30T21:21:45.128Z"
   },
   {
    "duration": 47,
    "start_time": "2022-06-30T21:21:45.138Z"
   },
   {
    "duration": 15,
    "start_time": "2022-06-30T21:21:45.187Z"
   },
   {
    "duration": 174,
    "start_time": "2022-06-30T21:21:45.204Z"
   },
   {
    "duration": 157,
    "start_time": "2022-06-30T21:21:45.380Z"
   },
   {
    "duration": 26,
    "start_time": "2022-06-30T21:21:45.539Z"
   },
   {
    "duration": 78,
    "start_time": "2022-06-30T21:21:45.567Z"
   },
   {
    "duration": 283,
    "start_time": "2022-06-30T21:21:45.646Z"
   },
   {
    "duration": 715,
    "start_time": "2022-06-30T21:21:45.931Z"
   },
   {
    "duration": 24,
    "start_time": "2022-06-30T21:21:46.648Z"
   },
   {
    "duration": 8,
    "start_time": "2022-06-30T21:21:46.674Z"
   },
   {
    "duration": 221,
    "start_time": "2022-06-30T21:21:46.683Z"
   },
   {
    "duration": 6,
    "start_time": "2022-06-30T21:21:46.906Z"
   },
   {
    "duration": 22,
    "start_time": "2022-06-30T21:21:46.914Z"
   },
   {
    "duration": 6,
    "start_time": "2022-06-30T21:21:46.939Z"
   },
   {
    "duration": 14,
    "start_time": "2022-06-30T21:21:46.946Z"
   },
   {
    "duration": 8,
    "start_time": "2022-06-30T21:23:31.199Z"
   },
   {
    "duration": 39,
    "start_time": "2022-06-30T21:23:36.114Z"
   },
   {
    "duration": 5,
    "start_time": "2022-06-30T21:25:25.552Z"
   },
   {
    "duration": 279,
    "start_time": "2022-06-30T21:36:07.262Z"
   },
   {
    "duration": 1182,
    "start_time": "2022-06-30T22:24:17.419Z"
   },
   {
    "duration": 1165,
    "start_time": "2022-06-30T22:24:18.603Z"
   },
   {
    "duration": 119,
    "start_time": "2022-06-30T22:24:19.770Z"
   },
   {
    "duration": 51,
    "start_time": "2022-06-30T22:24:19.891Z"
   },
   {
    "duration": 40,
    "start_time": "2022-06-30T22:24:19.943Z"
   },
   {
    "duration": 94,
    "start_time": "2022-06-30T22:24:19.985Z"
   },
   {
    "duration": 561,
    "start_time": "2022-06-30T22:24:20.080Z"
   },
   {
    "duration": 12,
    "start_time": "2022-06-30T22:24:20.643Z"
   },
   {
    "duration": 8,
    "start_time": "2022-06-30T22:24:20.656Z"
   },
   {
    "duration": 11,
    "start_time": "2022-06-30T22:24:20.666Z"
   },
   {
    "duration": 17,
    "start_time": "2022-06-30T22:24:20.678Z"
   },
   {
    "duration": 81,
    "start_time": "2022-06-30T22:24:20.697Z"
   },
   {
    "duration": 10,
    "start_time": "2022-06-30T22:24:20.779Z"
   },
   {
    "duration": 9,
    "start_time": "2022-06-30T22:24:20.790Z"
   },
   {
    "duration": 39,
    "start_time": "2022-06-30T22:24:20.802Z"
   },
   {
    "duration": 16,
    "start_time": "2022-06-30T22:24:20.843Z"
   },
   {
    "duration": 154,
    "start_time": "2022-06-30T22:24:20.861Z"
   },
   {
    "duration": 156,
    "start_time": "2022-06-30T22:24:21.016Z"
   },
   {
    "duration": 26,
    "start_time": "2022-06-30T22:24:21.174Z"
   },
   {
    "duration": 74,
    "start_time": "2022-06-30T22:24:21.202Z"
   },
   {
    "duration": 294,
    "start_time": "2022-06-30T22:24:21.278Z"
   },
   {
    "duration": 743,
    "start_time": "2022-06-30T22:24:21.573Z"
   },
   {
    "duration": 40,
    "start_time": "2022-06-30T22:24:22.318Z"
   },
   {
    "duration": 7,
    "start_time": "2022-06-30T22:24:22.359Z"
   },
   {
    "duration": 220,
    "start_time": "2022-06-30T22:24:22.368Z"
   },
   {
    "duration": 4,
    "start_time": "2022-06-30T22:24:22.590Z"
   },
   {
    "duration": 10,
    "start_time": "2022-06-30T22:24:22.596Z"
   },
   {
    "duration": 5,
    "start_time": "2022-06-30T22:24:22.641Z"
   },
   {
    "duration": 16,
    "start_time": "2022-06-30T22:24:22.648Z"
   }
  ],
  "kernelspec": {
   "display_name": "Python 3 (ipykernel)",
   "language": "python",
   "name": "python3"
  },
  "language_info": {
   "codemirror_mode": {
    "name": "ipython",
    "version": 3
   },
   "file_extension": ".py",
   "mimetype": "text/x-python",
   "name": "python",
   "nbconvert_exporter": "python",
   "pygments_lexer": "ipython3",
   "version": "3.9.12"
  },
  "toc": {
   "base_numbering": 1,
   "nav_menu": {},
   "number_sections": true,
   "sideBar": true,
   "skip_h1_title": false,
   "title_cell": "Table of Contents",
   "title_sidebar": "Contents",
   "toc_cell": false,
   "toc_position": {
    "height": "calc(100% - 180px)",
    "left": "10px",
    "top": "150px",
    "width": "366.391px"
   },
   "toc_section_display": true,
   "toc_window_display": true
  }
 },
 "nbformat": 4,
 "nbformat_minor": 2
}
