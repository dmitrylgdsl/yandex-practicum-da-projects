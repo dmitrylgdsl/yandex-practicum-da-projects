{
 "cells": [
  {
   "cell_type": "markdown",
   "metadata": {},
   "source": [
    "# Исследование надёжности заёмщиков\n",
    "\n",
    "Заказчик — кредитный отдел банка. Нужно разобраться, влияет ли семейное положение и количество детей клиента на факт погашения кредита в срок. Входные данные от банка — статистика о платёжеспособности клиентов.\n",
    "\n",
    "Результаты исследования будут учтены при построении модели **кредитного скоринга** — специальной системы, которая оценивает способность потенциального заёмщика вернуть кредит банку."
   ]
  },
  {
   "cell_type": "markdown",
   "metadata": {},
   "source": [
    "## Открытие файла и изучение общей информации"
   ]
  },
  {
   "cell_type": "code",
   "execution_count": 1,
   "metadata": {},
   "outputs": [
    {
     "name": "stdout",
     "output_type": "stream",
     "text": [
      "<class 'pandas.core.frame.DataFrame'>\n",
      "RangeIndex: 21525 entries, 0 to 21524\n",
      "Data columns (total 12 columns):\n",
      " #   Column            Non-Null Count  Dtype  \n",
      "---  ------            --------------  -----  \n",
      " 0   children          21525 non-null  int64  \n",
      " 1   days_employed     19351 non-null  float64\n",
      " 2   dob_years         21525 non-null  int64  \n",
      " 3   education         21525 non-null  object \n",
      " 4   education_id      21525 non-null  int64  \n",
      " 5   family_status     21525 non-null  object \n",
      " 6   family_status_id  21525 non-null  int64  \n",
      " 7   gender            21525 non-null  object \n",
      " 8   income_type       21525 non-null  object \n",
      " 9   debt              21525 non-null  int64  \n",
      " 10  total_income      19351 non-null  float64\n",
      " 11  purpose           21525 non-null  object \n",
      "dtypes: float64(2), int64(5), object(5)\n",
      "memory usage: 2.0+ MB\n"
     ]
    },
    {
     "data": {
      "text/html": [
       "<div>\n",
       "<style scoped>\n",
       "    .dataframe tbody tr th:only-of-type {\n",
       "        vertical-align: middle;\n",
       "    }\n",
       "\n",
       "    .dataframe tbody tr th {\n",
       "        vertical-align: top;\n",
       "    }\n",
       "\n",
       "    .dataframe thead th {\n",
       "        text-align: right;\n",
       "    }\n",
       "</style>\n",
       "<table border=\"1\" class=\"dataframe\">\n",
       "  <thead>\n",
       "    <tr style=\"text-align: right;\">\n",
       "      <th></th>\n",
       "      <th>children</th>\n",
       "      <th>days_employed</th>\n",
       "      <th>dob_years</th>\n",
       "      <th>education</th>\n",
       "      <th>education_id</th>\n",
       "      <th>family_status</th>\n",
       "      <th>family_status_id</th>\n",
       "      <th>gender</th>\n",
       "      <th>income_type</th>\n",
       "      <th>debt</th>\n",
       "      <th>total_income</th>\n",
       "      <th>purpose</th>\n",
       "    </tr>\n",
       "  </thead>\n",
       "  <tbody>\n",
       "    <tr>\n",
       "      <th>0</th>\n",
       "      <td>1</td>\n",
       "      <td>-8437.673028</td>\n",
       "      <td>42</td>\n",
       "      <td>высшее</td>\n",
       "      <td>0</td>\n",
       "      <td>женат / замужем</td>\n",
       "      <td>0</td>\n",
       "      <td>F</td>\n",
       "      <td>сотрудник</td>\n",
       "      <td>0</td>\n",
       "      <td>253875.639453</td>\n",
       "      <td>покупка жилья</td>\n",
       "    </tr>\n",
       "    <tr>\n",
       "      <th>1</th>\n",
       "      <td>1</td>\n",
       "      <td>-4024.803754</td>\n",
       "      <td>36</td>\n",
       "      <td>среднее</td>\n",
       "      <td>1</td>\n",
       "      <td>женат / замужем</td>\n",
       "      <td>0</td>\n",
       "      <td>F</td>\n",
       "      <td>сотрудник</td>\n",
       "      <td>0</td>\n",
       "      <td>112080.014102</td>\n",
       "      <td>приобретение автомобиля</td>\n",
       "    </tr>\n",
       "    <tr>\n",
       "      <th>2</th>\n",
       "      <td>0</td>\n",
       "      <td>-5623.422610</td>\n",
       "      <td>33</td>\n",
       "      <td>Среднее</td>\n",
       "      <td>1</td>\n",
       "      <td>женат / замужем</td>\n",
       "      <td>0</td>\n",
       "      <td>M</td>\n",
       "      <td>сотрудник</td>\n",
       "      <td>0</td>\n",
       "      <td>145885.952297</td>\n",
       "      <td>покупка жилья</td>\n",
       "    </tr>\n",
       "    <tr>\n",
       "      <th>3</th>\n",
       "      <td>3</td>\n",
       "      <td>-4124.747207</td>\n",
       "      <td>32</td>\n",
       "      <td>среднее</td>\n",
       "      <td>1</td>\n",
       "      <td>женат / замужем</td>\n",
       "      <td>0</td>\n",
       "      <td>M</td>\n",
       "      <td>сотрудник</td>\n",
       "      <td>0</td>\n",
       "      <td>267628.550329</td>\n",
       "      <td>дополнительное образование</td>\n",
       "    </tr>\n",
       "    <tr>\n",
       "      <th>4</th>\n",
       "      <td>0</td>\n",
       "      <td>340266.072047</td>\n",
       "      <td>53</td>\n",
       "      <td>среднее</td>\n",
       "      <td>1</td>\n",
       "      <td>гражданский брак</td>\n",
       "      <td>1</td>\n",
       "      <td>F</td>\n",
       "      <td>пенсионер</td>\n",
       "      <td>0</td>\n",
       "      <td>158616.077870</td>\n",
       "      <td>сыграть свадьбу</td>\n",
       "    </tr>\n",
       "    <tr>\n",
       "      <th>5</th>\n",
       "      <td>0</td>\n",
       "      <td>-926.185831</td>\n",
       "      <td>27</td>\n",
       "      <td>высшее</td>\n",
       "      <td>0</td>\n",
       "      <td>гражданский брак</td>\n",
       "      <td>1</td>\n",
       "      <td>M</td>\n",
       "      <td>компаньон</td>\n",
       "      <td>0</td>\n",
       "      <td>255763.565419</td>\n",
       "      <td>покупка жилья</td>\n",
       "    </tr>\n",
       "    <tr>\n",
       "      <th>6</th>\n",
       "      <td>0</td>\n",
       "      <td>-2879.202052</td>\n",
       "      <td>43</td>\n",
       "      <td>высшее</td>\n",
       "      <td>0</td>\n",
       "      <td>женат / замужем</td>\n",
       "      <td>0</td>\n",
       "      <td>F</td>\n",
       "      <td>компаньон</td>\n",
       "      <td>0</td>\n",
       "      <td>240525.971920</td>\n",
       "      <td>операции с жильем</td>\n",
       "    </tr>\n",
       "    <tr>\n",
       "      <th>7</th>\n",
       "      <td>0</td>\n",
       "      <td>-152.779569</td>\n",
       "      <td>50</td>\n",
       "      <td>СРЕДНЕЕ</td>\n",
       "      <td>1</td>\n",
       "      <td>женат / замужем</td>\n",
       "      <td>0</td>\n",
       "      <td>M</td>\n",
       "      <td>сотрудник</td>\n",
       "      <td>0</td>\n",
       "      <td>135823.934197</td>\n",
       "      <td>образование</td>\n",
       "    </tr>\n",
       "    <tr>\n",
       "      <th>8</th>\n",
       "      <td>2</td>\n",
       "      <td>-6929.865299</td>\n",
       "      <td>35</td>\n",
       "      <td>ВЫСШЕЕ</td>\n",
       "      <td>0</td>\n",
       "      <td>гражданский брак</td>\n",
       "      <td>1</td>\n",
       "      <td>F</td>\n",
       "      <td>сотрудник</td>\n",
       "      <td>0</td>\n",
       "      <td>95856.832424</td>\n",
       "      <td>на проведение свадьбы</td>\n",
       "    </tr>\n",
       "    <tr>\n",
       "      <th>9</th>\n",
       "      <td>0</td>\n",
       "      <td>-2188.756445</td>\n",
       "      <td>41</td>\n",
       "      <td>среднее</td>\n",
       "      <td>1</td>\n",
       "      <td>женат / замужем</td>\n",
       "      <td>0</td>\n",
       "      <td>M</td>\n",
       "      <td>сотрудник</td>\n",
       "      <td>0</td>\n",
       "      <td>144425.938277</td>\n",
       "      <td>покупка жилья для семьи</td>\n",
       "    </tr>\n",
       "  </tbody>\n",
       "</table>\n",
       "</div>"
      ],
      "text/plain": [
       "   children  days_employed  dob_years education  education_id  \\\n",
       "0         1   -8437.673028         42    высшее             0   \n",
       "1         1   -4024.803754         36   среднее             1   \n",
       "2         0   -5623.422610         33   Среднее             1   \n",
       "3         3   -4124.747207         32   среднее             1   \n",
       "4         0  340266.072047         53   среднее             1   \n",
       "5         0    -926.185831         27    высшее             0   \n",
       "6         0   -2879.202052         43    высшее             0   \n",
       "7         0    -152.779569         50   СРЕДНЕЕ             1   \n",
       "8         2   -6929.865299         35    ВЫСШЕЕ             0   \n",
       "9         0   -2188.756445         41   среднее             1   \n",
       "\n",
       "      family_status  family_status_id gender income_type  debt   total_income  \\\n",
       "0   женат / замужем                 0      F   сотрудник     0  253875.639453   \n",
       "1   женат / замужем                 0      F   сотрудник     0  112080.014102   \n",
       "2   женат / замужем                 0      M   сотрудник     0  145885.952297   \n",
       "3   женат / замужем                 0      M   сотрудник     0  267628.550329   \n",
       "4  гражданский брак                 1      F   пенсионер     0  158616.077870   \n",
       "5  гражданский брак                 1      M   компаньон     0  255763.565419   \n",
       "6   женат / замужем                 0      F   компаньон     0  240525.971920   \n",
       "7   женат / замужем                 0      M   сотрудник     0  135823.934197   \n",
       "8  гражданский брак                 1      F   сотрудник     0   95856.832424   \n",
       "9   женат / замужем                 0      M   сотрудник     0  144425.938277   \n",
       "\n",
       "                      purpose  \n",
       "0               покупка жилья  \n",
       "1     приобретение автомобиля  \n",
       "2               покупка жилья  \n",
       "3  дополнительное образование  \n",
       "4             сыграть свадьбу  \n",
       "5               покупка жилья  \n",
       "6           операции с жильем  \n",
       "7                 образование  \n",
       "8       на проведение свадьбы  \n",
       "9     покупка жилья для семьи  "
      ]
     },
     "execution_count": 1,
     "metadata": {},
     "output_type": "execute_result"
    }
   ],
   "source": [
    "# Импортируем Pandas и читаем файл с данными\n",
    "import pandas as pd\n",
    "data = pd.read_csv('/datasets/data.csv')\n",
    "# Получаем общую информацию о файле и выводим первые 10 строк для наглядности\n",
    "data.info()\n",
    "data.head(10)"
   ]
  },
  {
   "cell_type": "markdown",
   "metadata": {},
   "source": [
    "В таблице 12 столбцов. Тип данных столбцов разный: float64(2), int64(5), object(5).\n",
    "\n",
    "Столбцы содержат информацию:\n",
    "\n",
    "* children - количество детей в семье;\n",
    "* days_employed - общий трудовой стаж в днях;\n",
    "* dob_years - возраст клиента в годах;\n",
    "* education - уровень образования клиента;\n",
    "* education_id - идентификатор уровня образования;\n",
    "* family_status - семейное положение;\n",
    "* family_status_id - идентификатор семейного положения;\n",
    "* gender - пол клиента;\n",
    "* income_type - тип занятости;\n",
    "* debt - имел ли задолженность по возврату кредитов;\n",
    "* total_income - ежемесячный доход;\n",
    "* purpose - цель получения кредита.\n",
    "\n",
    "В столбцах days_employed и total_income количество значений меньше чем у других. Следовательно в данных имеются NaN значения. В столбце days_employed обнаружено много отрицательных значений, а так же трудно обьяснимые значения: как например \"340266.072047\" соответствует 932 годам трудового стажа. Значения в столбце education написаны в разном регистре."
   ]
  },
  {
   "cell_type": "markdown",
   "metadata": {},
   "source": [
    "**Вывод**"
   ]
  },
  {
   "cell_type": "markdown",
   "metadata": {},
   "source": [
    "Отрицательные значения days_employed можно сделать положительными. О завышенных значениях days_employed было бы неплохо уточнить у заказчиков. Но все же главная проблема - пропуски. В столбце days_employed можно их заменить на 0 так как данный параметр не учавствует в расчетах зависимости которые хотят заказчики. Пропуски в столбце total_income логичнее будет заполнить медианой."
   ]
  },
  {
   "cell_type": "markdown",
   "metadata": {},
   "source": [
    "## Предобработка данных"
   ]
  },
  {
   "cell_type": "markdown",
   "metadata": {},
   "source": [
    "### Обработка пропусков"
   ]
  },
  {
   "cell_type": "code",
   "execution_count": 2,
   "metadata": {},
   "outputs": [
    {
     "data": {
      "text/plain": [
       "children               0\n",
       "days_employed       2174\n",
       "dob_years              0\n",
       "education              0\n",
       "education_id           0\n",
       "family_status          0\n",
       "family_status_id       0\n",
       "gender                 0\n",
       "income_type            0\n",
       "debt                   0\n",
       "total_income        2174\n",
       "purpose                0\n",
       "dtype: int64"
      ]
     },
     "execution_count": 2,
     "metadata": {},
     "output_type": "execute_result"
    }
   ],
   "source": [
    "# Считаем суммарное количество пропусков\n",
    "data.isnull().sum()"
   ]
  },
  {
   "cell_type": "markdown",
   "metadata": {},
   "source": [
    "Одинаковое колличество пропусков в столбцах days_employed и total_income. Причины могу крыться в неправильноый выгрузке данных."
   ]
  },
  {
   "cell_type": "code",
   "execution_count": 3,
   "metadata": {},
   "outputs": [
    {
     "data": {
      "text/plain": [
       "children            0\n",
       "days_employed       0\n",
       "dob_years           0\n",
       "education           0\n",
       "education_id        0\n",
       "family_status       0\n",
       "family_status_id    0\n",
       "gender              0\n",
       "income_type         0\n",
       "debt                0\n",
       "total_income        0\n",
       "purpose             0\n",
       "dtype: int64"
      ]
     },
     "execution_count": 3,
     "metadata": {},
     "output_type": "execute_result"
    }
   ],
   "source": [
    "# Сделаем функцию перевода отрицательных значений в положительные\n",
    "def reverse(days):\n",
    "    if days < 0:\n",
    "        days *= -1\n",
    "        return days\n",
    "    return days\n",
    "# Заменяем отрицательные значения в days_employed на положительные\n",
    "data['days_employed'] = data['days_employed'].apply(reverse)\n",
    "# Заменяем пропуски в days_employed на 0\n",
    "data['days_employed'] = data['days_employed'].fillna(0)\n",
    "# Находим медиану total_income для каждого типа занятости\n",
    "medians_total_income = data.groupby('income_type')['total_income'].median()\n",
    "medians_total_income\n",
    "# Замена медиан на пустые значения\n",
    "for inc_type in medians_total_income.index:\n",
    "    data.loc[data['income_type'] == inc_type,'total_income'] = data.loc[data['income_type'] == inc_type,'total_income'].fillna(medians_total_income[inc_type])\n",
    "data.isnull().sum()"
   ]
  },
  {
   "cell_type": "markdown",
   "metadata": {},
   "source": [
    "**Вывод**"
   ]
  },
  {
   "cell_type": "markdown",
   "metadata": {},
   "source": [
    "Убрали пустые значения в столбцах days_employed и total_income."
   ]
  },
  {
   "cell_type": "markdown",
   "metadata": {},
   "source": [
    "### Замена типа данных"
   ]
  },
  {
   "cell_type": "code",
   "execution_count": 4,
   "metadata": {},
   "outputs": [
    {
     "data": {
      "text/html": [
       "<div>\n",
       "<style scoped>\n",
       "    .dataframe tbody tr th:only-of-type {\n",
       "        vertical-align: middle;\n",
       "    }\n",
       "\n",
       "    .dataframe tbody tr th {\n",
       "        vertical-align: top;\n",
       "    }\n",
       "\n",
       "    .dataframe thead th {\n",
       "        text-align: right;\n",
       "    }\n",
       "</style>\n",
       "<table border=\"1\" class=\"dataframe\">\n",
       "  <thead>\n",
       "    <tr style=\"text-align: right;\">\n",
       "      <th></th>\n",
       "      <th>children</th>\n",
       "      <th>days_employed</th>\n",
       "      <th>dob_years</th>\n",
       "      <th>education</th>\n",
       "      <th>education_id</th>\n",
       "      <th>family_status</th>\n",
       "      <th>family_status_id</th>\n",
       "      <th>gender</th>\n",
       "      <th>income_type</th>\n",
       "      <th>debt</th>\n",
       "      <th>total_income</th>\n",
       "      <th>purpose</th>\n",
       "    </tr>\n",
       "  </thead>\n",
       "  <tbody>\n",
       "    <tr>\n",
       "      <th>0</th>\n",
       "      <td>1</td>\n",
       "      <td>8437</td>\n",
       "      <td>42</td>\n",
       "      <td>высшее</td>\n",
       "      <td>0</td>\n",
       "      <td>женат / замужем</td>\n",
       "      <td>0</td>\n",
       "      <td>F</td>\n",
       "      <td>сотрудник</td>\n",
       "      <td>0</td>\n",
       "      <td>253875</td>\n",
       "      <td>покупка жилья</td>\n",
       "    </tr>\n",
       "    <tr>\n",
       "      <th>1</th>\n",
       "      <td>1</td>\n",
       "      <td>4024</td>\n",
       "      <td>36</td>\n",
       "      <td>среднее</td>\n",
       "      <td>1</td>\n",
       "      <td>женат / замужем</td>\n",
       "      <td>0</td>\n",
       "      <td>F</td>\n",
       "      <td>сотрудник</td>\n",
       "      <td>0</td>\n",
       "      <td>112080</td>\n",
       "      <td>приобретение автомобиля</td>\n",
       "    </tr>\n",
       "    <tr>\n",
       "      <th>2</th>\n",
       "      <td>0</td>\n",
       "      <td>5623</td>\n",
       "      <td>33</td>\n",
       "      <td>Среднее</td>\n",
       "      <td>1</td>\n",
       "      <td>женат / замужем</td>\n",
       "      <td>0</td>\n",
       "      <td>M</td>\n",
       "      <td>сотрудник</td>\n",
       "      <td>0</td>\n",
       "      <td>145885</td>\n",
       "      <td>покупка жилья</td>\n",
       "    </tr>\n",
       "    <tr>\n",
       "      <th>3</th>\n",
       "      <td>3</td>\n",
       "      <td>4124</td>\n",
       "      <td>32</td>\n",
       "      <td>среднее</td>\n",
       "      <td>1</td>\n",
       "      <td>женат / замужем</td>\n",
       "      <td>0</td>\n",
       "      <td>M</td>\n",
       "      <td>сотрудник</td>\n",
       "      <td>0</td>\n",
       "      <td>267628</td>\n",
       "      <td>дополнительное образование</td>\n",
       "    </tr>\n",
       "    <tr>\n",
       "      <th>4</th>\n",
       "      <td>0</td>\n",
       "      <td>340266</td>\n",
       "      <td>53</td>\n",
       "      <td>среднее</td>\n",
       "      <td>1</td>\n",
       "      <td>гражданский брак</td>\n",
       "      <td>1</td>\n",
       "      <td>F</td>\n",
       "      <td>пенсионер</td>\n",
       "      <td>0</td>\n",
       "      <td>158616</td>\n",
       "      <td>сыграть свадьбу</td>\n",
       "    </tr>\n",
       "    <tr>\n",
       "      <th>5</th>\n",
       "      <td>0</td>\n",
       "      <td>926</td>\n",
       "      <td>27</td>\n",
       "      <td>высшее</td>\n",
       "      <td>0</td>\n",
       "      <td>гражданский брак</td>\n",
       "      <td>1</td>\n",
       "      <td>M</td>\n",
       "      <td>компаньон</td>\n",
       "      <td>0</td>\n",
       "      <td>255763</td>\n",
       "      <td>покупка жилья</td>\n",
       "    </tr>\n",
       "    <tr>\n",
       "      <th>6</th>\n",
       "      <td>0</td>\n",
       "      <td>2879</td>\n",
       "      <td>43</td>\n",
       "      <td>высшее</td>\n",
       "      <td>0</td>\n",
       "      <td>женат / замужем</td>\n",
       "      <td>0</td>\n",
       "      <td>F</td>\n",
       "      <td>компаньон</td>\n",
       "      <td>0</td>\n",
       "      <td>240525</td>\n",
       "      <td>операции с жильем</td>\n",
       "    </tr>\n",
       "    <tr>\n",
       "      <th>7</th>\n",
       "      <td>0</td>\n",
       "      <td>152</td>\n",
       "      <td>50</td>\n",
       "      <td>СРЕДНЕЕ</td>\n",
       "      <td>1</td>\n",
       "      <td>женат / замужем</td>\n",
       "      <td>0</td>\n",
       "      <td>M</td>\n",
       "      <td>сотрудник</td>\n",
       "      <td>0</td>\n",
       "      <td>135823</td>\n",
       "      <td>образование</td>\n",
       "    </tr>\n",
       "    <tr>\n",
       "      <th>8</th>\n",
       "      <td>2</td>\n",
       "      <td>6929</td>\n",
       "      <td>35</td>\n",
       "      <td>ВЫСШЕЕ</td>\n",
       "      <td>0</td>\n",
       "      <td>гражданский брак</td>\n",
       "      <td>1</td>\n",
       "      <td>F</td>\n",
       "      <td>сотрудник</td>\n",
       "      <td>0</td>\n",
       "      <td>95856</td>\n",
       "      <td>на проведение свадьбы</td>\n",
       "    </tr>\n",
       "    <tr>\n",
       "      <th>9</th>\n",
       "      <td>0</td>\n",
       "      <td>2188</td>\n",
       "      <td>41</td>\n",
       "      <td>среднее</td>\n",
       "      <td>1</td>\n",
       "      <td>женат / замужем</td>\n",
       "      <td>0</td>\n",
       "      <td>M</td>\n",
       "      <td>сотрудник</td>\n",
       "      <td>0</td>\n",
       "      <td>144425</td>\n",
       "      <td>покупка жилья для семьи</td>\n",
       "    </tr>\n",
       "  </tbody>\n",
       "</table>\n",
       "</div>"
      ],
      "text/plain": [
       "   children  days_employed  dob_years education  education_id  \\\n",
       "0         1           8437         42    высшее             0   \n",
       "1         1           4024         36   среднее             1   \n",
       "2         0           5623         33   Среднее             1   \n",
       "3         3           4124         32   среднее             1   \n",
       "4         0         340266         53   среднее             1   \n",
       "5         0            926         27    высшее             0   \n",
       "6         0           2879         43    высшее             0   \n",
       "7         0            152         50   СРЕДНЕЕ             1   \n",
       "8         2           6929         35    ВЫСШЕЕ             0   \n",
       "9         0           2188         41   среднее             1   \n",
       "\n",
       "      family_status  family_status_id gender income_type  debt  total_income  \\\n",
       "0   женат / замужем                 0      F   сотрудник     0        253875   \n",
       "1   женат / замужем                 0      F   сотрудник     0        112080   \n",
       "2   женат / замужем                 0      M   сотрудник     0        145885   \n",
       "3   женат / замужем                 0      M   сотрудник     0        267628   \n",
       "4  гражданский брак                 1      F   пенсионер     0        158616   \n",
       "5  гражданский брак                 1      M   компаньон     0        255763   \n",
       "6   женат / замужем                 0      F   компаньон     0        240525   \n",
       "7   женат / замужем                 0      M   сотрудник     0        135823   \n",
       "8  гражданский брак                 1      F   сотрудник     0         95856   \n",
       "9   женат / замужем                 0      M   сотрудник     0        144425   \n",
       "\n",
       "                      purpose  \n",
       "0               покупка жилья  \n",
       "1     приобретение автомобиля  \n",
       "2               покупка жилья  \n",
       "3  дополнительное образование  \n",
       "4             сыграть свадьбу  \n",
       "5               покупка жилья  \n",
       "6           операции с жильем  \n",
       "7                 образование  \n",
       "8       на проведение свадьбы  \n",
       "9     покупка жилья для семьи  "
      ]
     },
     "execution_count": 4,
     "metadata": {},
     "output_type": "execute_result"
    }
   ],
   "source": [
    "#Замена float на int\n",
    "data['days_employed'] = data['days_employed'].astype('int')\n",
    "data['total_income'] = data['total_income'].astype('int')\n",
    "data.head(10)"
   ]
  },
  {
   "cell_type": "markdown",
   "metadata": {},
   "source": [
    "**Вывод**"
   ]
  },
  {
   "cell_type": "markdown",
   "metadata": {},
   "source": [
    "Для увеличения точности и избежания неявных ошибок заменили тип данных float на int"
   ]
  },
  {
   "cell_type": "markdown",
   "metadata": {},
   "source": [
    "### Обработка дубликатов"
   ]
  },
  {
   "cell_type": "code",
   "execution_count": 5,
   "metadata": {},
   "outputs": [
    {
     "data": {
      "text/plain": [
       "0"
      ]
     },
     "execution_count": 5,
     "metadata": {},
     "output_type": "execute_result"
    }
   ],
   "source": [
    "#Приведем в единый регистр столбец education\n",
    "data['education'] = data['education'].str.lower()\n",
    "data['education'].value_counts()\n",
    "#Проверим уникальные строки в столбце family_status\n",
    "data['family_status'].value_counts()\n",
    "#Проверим уникальные строки в столбце gender\n",
    "data['gender'].value_counts()\n",
    "data[data.loc[:, 'gender'] == 'XNA']\n",
    "#Удаляем строку с полом XNA из data\n",
    "data.drop(data[data['gender'] == 'XNA'].index, inplace=True)\n",
    "#Проверим уникальные строки в income_type\n",
    "data['income_type'].value_counts()\n",
    "#Проверим уникальные строки в purpose\n",
    "data['purpose'].value_counts()\n",
    "#Проверим уникальные строки в children\n",
    "data['children'].value_counts()\n",
    "#Заменяем значение -1 на 1\n",
    "#20 детей то же выбивается из общей картины. Предположим, что случайно вместо 2 записали 20\n",
    "#Заменим значение 20 на 2\n",
    "data['children'] = data['children'].replace(-1, 1)\n",
    "data['children'] = data['children'].replace(20, 2)\n",
    "data['children'].value_counts()\n",
    "#Поиск полных дубликатов и удаление их\n",
    "data.duplicated().sum()\n",
    "data = data.drop_duplicates().reset_index(drop = True)\n",
    "#Проверка\n",
    "data.duplicated().sum()"
   ]
  },
  {
   "cell_type": "markdown",
   "metadata": {},
   "source": [
    "**Вывод**"
   ]
  },
  {
   "cell_type": "markdown",
   "metadata": {},
   "source": [
    "Привели к одному регистру Столбец education, удалили строчку с неизвестным полом XNA.Так же было отрицательное количество детей и очень большое значение в 20 детей. Эти строки были откорректированы. Удалили полные дубликаты."
   ]
  },
  {
   "cell_type": "markdown",
   "metadata": {},
   "source": [
    "### Лемматизация"
   ]
  },
  {
   "cell_type": "code",
   "execution_count": 6,
   "metadata": {},
   "outputs": [
    {
     "data": {
      "text/plain": [
       "недвижимость    10810\n",
       "автомобиль       4306\n",
       "образование      4013\n",
       "свадьба          2324\n",
       "Name: purpose_group, dtype: int64"
      ]
     },
     "execution_count": 6,
     "metadata": {},
     "output_type": "execute_result"
    }
   ],
   "source": [
    "#Импорт библиотеки pymystem3\n",
    "from pymystem3 import Mystem\n",
    "m = Mystem()\n",
    "#Посмотрим уникальные строки целей займа\n",
    "data['purpose'].value_counts()\n",
    "#Создадим в ручную список ключевых слов займа\n",
    "#Проводим Лемматизацию и замену лемм на ключевое слово\n",
    "purpose_list = ['свадьба', 'недвижимость', 'жилье', 'автомобиль', 'образование']\n",
    "def lemmatize_text(text):\n",
    "    lemma = m.lemmatize(text)\n",
    "    for word in purpose_list:\n",
    "        if word in lemma:\n",
    "            lemma = word\n",
    "    return lemma\n",
    "\n",
    "#Добавим новый столбец с группой по целям займа\n",
    "data['purpose_group'] = data['purpose'].apply(lemmatize_text)    \n",
    "data['purpose_group'].value_counts()\n",
    "\n",
    "#Жилье логично будет обьеденить с недвижимостью\n",
    "data.loc[data['purpose_group'] == 'жилье', 'purpose_group'] = 'недвижимость'\n",
    "data['purpose_group'].value_counts()"
   ]
  },
  {
   "cell_type": "markdown",
   "metadata": {},
   "source": [
    "**Вывод**"
   ]
  },
  {
   "cell_type": "markdown",
   "metadata": {},
   "source": [
    "Из целей кредита выделили вручную ключевые слова и обьеденили похожие по смыслу цели займа в группы. Также цели связанные с покупкой жилья мы обьеденили с целями связанными с покупкой недвижимости. В итоге мы получили 4 больших группы целей займа: недвижимость, автомобиль, образование и свадьба."
   ]
  },
  {
   "cell_type": "markdown",
   "metadata": {},
   "source": [
    "### Категоризация данных"
   ]
  },
  {
   "cell_type": "code",
   "execution_count": 7,
   "metadata": {},
   "outputs": [
    {
     "data": {
      "text/html": [
       "<div>\n",
       "<style scoped>\n",
       "    .dataframe tbody tr th:only-of-type {\n",
       "        vertical-align: middle;\n",
       "    }\n",
       "\n",
       "    .dataframe tbody tr th {\n",
       "        vertical-align: top;\n",
       "    }\n",
       "\n",
       "    .dataframe thead th {\n",
       "        text-align: right;\n",
       "    }\n",
       "</style>\n",
       "<table border=\"1\" class=\"dataframe\">\n",
       "  <thead>\n",
       "    <tr style=\"text-align: right;\">\n",
       "      <th></th>\n",
       "      <th>children</th>\n",
       "      <th>days_employed</th>\n",
       "      <th>dob_years</th>\n",
       "      <th>education</th>\n",
       "      <th>education_id</th>\n",
       "      <th>family_status</th>\n",
       "      <th>family_status_id</th>\n",
       "      <th>gender</th>\n",
       "      <th>income_type</th>\n",
       "      <th>debt</th>\n",
       "      <th>total_income</th>\n",
       "      <th>purpose</th>\n",
       "      <th>purpose_group</th>\n",
       "      <th>children_group</th>\n",
       "      <th>income_group</th>\n",
       "    </tr>\n",
       "  </thead>\n",
       "  <tbody>\n",
       "    <tr>\n",
       "      <th>0</th>\n",
       "      <td>1</td>\n",
       "      <td>8437</td>\n",
       "      <td>42</td>\n",
       "      <td>высшее</td>\n",
       "      <td>0</td>\n",
       "      <td>женат / замужем</td>\n",
       "      <td>0</td>\n",
       "      <td>F</td>\n",
       "      <td>сотрудник</td>\n",
       "      <td>0</td>\n",
       "      <td>253875</td>\n",
       "      <td>покупка жилья</td>\n",
       "      <td>недвижимость</td>\n",
       "      <td>1-2 ребенка</td>\n",
       "      <td>4</td>\n",
       "    </tr>\n",
       "    <tr>\n",
       "      <th>1</th>\n",
       "      <td>1</td>\n",
       "      <td>4024</td>\n",
       "      <td>36</td>\n",
       "      <td>среднее</td>\n",
       "      <td>1</td>\n",
       "      <td>женат / замужем</td>\n",
       "      <td>0</td>\n",
       "      <td>F</td>\n",
       "      <td>сотрудник</td>\n",
       "      <td>0</td>\n",
       "      <td>112080</td>\n",
       "      <td>приобретение автомобиля</td>\n",
       "      <td>автомобиль</td>\n",
       "      <td>1-2 ребенка</td>\n",
       "      <td>2</td>\n",
       "    </tr>\n",
       "    <tr>\n",
       "      <th>2</th>\n",
       "      <td>0</td>\n",
       "      <td>5623</td>\n",
       "      <td>33</td>\n",
       "      <td>среднее</td>\n",
       "      <td>1</td>\n",
       "      <td>женат / замужем</td>\n",
       "      <td>0</td>\n",
       "      <td>M</td>\n",
       "      <td>сотрудник</td>\n",
       "      <td>0</td>\n",
       "      <td>145885</td>\n",
       "      <td>покупка жилья</td>\n",
       "      <td>недвижимость</td>\n",
       "      <td>нет детей</td>\n",
       "      <td>3</td>\n",
       "    </tr>\n",
       "    <tr>\n",
       "      <th>3</th>\n",
       "      <td>3</td>\n",
       "      <td>4124</td>\n",
       "      <td>32</td>\n",
       "      <td>среднее</td>\n",
       "      <td>1</td>\n",
       "      <td>женат / замужем</td>\n",
       "      <td>0</td>\n",
       "      <td>M</td>\n",
       "      <td>сотрудник</td>\n",
       "      <td>0</td>\n",
       "      <td>267628</td>\n",
       "      <td>дополнительное образование</td>\n",
       "      <td>образование</td>\n",
       "      <td>многодетные</td>\n",
       "      <td>4</td>\n",
       "    </tr>\n",
       "    <tr>\n",
       "      <th>4</th>\n",
       "      <td>0</td>\n",
       "      <td>340266</td>\n",
       "      <td>53</td>\n",
       "      <td>среднее</td>\n",
       "      <td>1</td>\n",
       "      <td>гражданский брак</td>\n",
       "      <td>1</td>\n",
       "      <td>F</td>\n",
       "      <td>пенсионер</td>\n",
       "      <td>0</td>\n",
       "      <td>158616</td>\n",
       "      <td>сыграть свадьбу</td>\n",
       "      <td>свадьба</td>\n",
       "      <td>нет детей</td>\n",
       "      <td>3</td>\n",
       "    </tr>\n",
       "    <tr>\n",
       "      <th>...</th>\n",
       "      <td>...</td>\n",
       "      <td>...</td>\n",
       "      <td>...</td>\n",
       "      <td>...</td>\n",
       "      <td>...</td>\n",
       "      <td>...</td>\n",
       "      <td>...</td>\n",
       "      <td>...</td>\n",
       "      <td>...</td>\n",
       "      <td>...</td>\n",
       "      <td>...</td>\n",
       "      <td>...</td>\n",
       "      <td>...</td>\n",
       "      <td>...</td>\n",
       "      <td>...</td>\n",
       "    </tr>\n",
       "    <tr>\n",
       "      <th>21448</th>\n",
       "      <td>1</td>\n",
       "      <td>4529</td>\n",
       "      <td>43</td>\n",
       "      <td>среднее</td>\n",
       "      <td>1</td>\n",
       "      <td>гражданский брак</td>\n",
       "      <td>1</td>\n",
       "      <td>F</td>\n",
       "      <td>компаньон</td>\n",
       "      <td>0</td>\n",
       "      <td>224791</td>\n",
       "      <td>операции с жильем</td>\n",
       "      <td>недвижимость</td>\n",
       "      <td>1-2 ребенка</td>\n",
       "      <td>4</td>\n",
       "    </tr>\n",
       "    <tr>\n",
       "      <th>21449</th>\n",
       "      <td>0</td>\n",
       "      <td>343937</td>\n",
       "      <td>67</td>\n",
       "      <td>среднее</td>\n",
       "      <td>1</td>\n",
       "      <td>женат / замужем</td>\n",
       "      <td>0</td>\n",
       "      <td>F</td>\n",
       "      <td>пенсионер</td>\n",
       "      <td>0</td>\n",
       "      <td>155999</td>\n",
       "      <td>сделка с автомобилем</td>\n",
       "      <td>автомобиль</td>\n",
       "      <td>нет детей</td>\n",
       "      <td>3</td>\n",
       "    </tr>\n",
       "    <tr>\n",
       "      <th>21450</th>\n",
       "      <td>1</td>\n",
       "      <td>2113</td>\n",
       "      <td>38</td>\n",
       "      <td>среднее</td>\n",
       "      <td>1</td>\n",
       "      <td>гражданский брак</td>\n",
       "      <td>1</td>\n",
       "      <td>M</td>\n",
       "      <td>сотрудник</td>\n",
       "      <td>1</td>\n",
       "      <td>89672</td>\n",
       "      <td>недвижимость</td>\n",
       "      <td>недвижимость</td>\n",
       "      <td>1-2 ребенка</td>\n",
       "      <td>1</td>\n",
       "    </tr>\n",
       "    <tr>\n",
       "      <th>21451</th>\n",
       "      <td>3</td>\n",
       "      <td>3112</td>\n",
       "      <td>38</td>\n",
       "      <td>среднее</td>\n",
       "      <td>1</td>\n",
       "      <td>женат / замужем</td>\n",
       "      <td>0</td>\n",
       "      <td>M</td>\n",
       "      <td>сотрудник</td>\n",
       "      <td>1</td>\n",
       "      <td>244093</td>\n",
       "      <td>на покупку своего автомобиля</td>\n",
       "      <td>автомобиль</td>\n",
       "      <td>многодетные</td>\n",
       "      <td>4</td>\n",
       "    </tr>\n",
       "    <tr>\n",
       "      <th>21452</th>\n",
       "      <td>2</td>\n",
       "      <td>1984</td>\n",
       "      <td>40</td>\n",
       "      <td>среднее</td>\n",
       "      <td>1</td>\n",
       "      <td>женат / замужем</td>\n",
       "      <td>0</td>\n",
       "      <td>F</td>\n",
       "      <td>сотрудник</td>\n",
       "      <td>0</td>\n",
       "      <td>82047</td>\n",
       "      <td>на покупку автомобиля</td>\n",
       "      <td>автомобиль</td>\n",
       "      <td>1-2 ребенка</td>\n",
       "      <td>1</td>\n",
       "    </tr>\n",
       "  </tbody>\n",
       "</table>\n",
       "<p>21453 rows × 15 columns</p>\n",
       "</div>"
      ],
      "text/plain": [
       "       children  days_employed  dob_years education  education_id  \\\n",
       "0             1           8437         42    высшее             0   \n",
       "1             1           4024         36   среднее             1   \n",
       "2             0           5623         33   среднее             1   \n",
       "3             3           4124         32   среднее             1   \n",
       "4             0         340266         53   среднее             1   \n",
       "...         ...            ...        ...       ...           ...   \n",
       "21448         1           4529         43   среднее             1   \n",
       "21449         0         343937         67   среднее             1   \n",
       "21450         1           2113         38   среднее             1   \n",
       "21451         3           3112         38   среднее             1   \n",
       "21452         2           1984         40   среднее             1   \n",
       "\n",
       "          family_status  family_status_id gender income_type  debt  \\\n",
       "0       женат / замужем                 0      F   сотрудник     0   \n",
       "1       женат / замужем                 0      F   сотрудник     0   \n",
       "2       женат / замужем                 0      M   сотрудник     0   \n",
       "3       женат / замужем                 0      M   сотрудник     0   \n",
       "4      гражданский брак                 1      F   пенсионер     0   \n",
       "...                 ...               ...    ...         ...   ...   \n",
       "21448  гражданский брак                 1      F   компаньон     0   \n",
       "21449   женат / замужем                 0      F   пенсионер     0   \n",
       "21450  гражданский брак                 1      M   сотрудник     1   \n",
       "21451   женат / замужем                 0      M   сотрудник     1   \n",
       "21452   женат / замужем                 0      F   сотрудник     0   \n",
       "\n",
       "       total_income                       purpose purpose_group  \\\n",
       "0            253875                 покупка жилья  недвижимость   \n",
       "1            112080       приобретение автомобиля    автомобиль   \n",
       "2            145885                 покупка жилья  недвижимость   \n",
       "3            267628    дополнительное образование   образование   \n",
       "4            158616               сыграть свадьбу       свадьба   \n",
       "...             ...                           ...           ...   \n",
       "21448        224791             операции с жильем  недвижимость   \n",
       "21449        155999          сделка с автомобилем    автомобиль   \n",
       "21450         89672                  недвижимость  недвижимость   \n",
       "21451        244093  на покупку своего автомобиля    автомобиль   \n",
       "21452         82047         на покупку автомобиля    автомобиль   \n",
       "\n",
       "      children_group  income_group  \n",
       "0        1-2 ребенка             4  \n",
       "1        1-2 ребенка             2  \n",
       "2          нет детей             3  \n",
       "3        многодетные             4  \n",
       "4          нет детей             3  \n",
       "...              ...           ...  \n",
       "21448    1-2 ребенка             4  \n",
       "21449      нет детей             3  \n",
       "21450    1-2 ребенка             1  \n",
       "21451    многодетные             4  \n",
       "21452    1-2 ребенка             1  \n",
       "\n",
       "[21453 rows x 15 columns]"
      ]
     },
     "execution_count": 7,
     "metadata": {},
     "output_type": "execute_result"
    }
   ],
   "source": [
    "#Деление на группы по целем займа своего рода то же категоризация целей. Поэтому Цели уже не трогаем.\n",
    "\n",
    "#Выделим группы по колличеству детей\n",
    "# нет детей (0)\n",
    "# 1-2 ребенка\n",
    "# многодетные (>3)\n",
    "def children_group(row):\n",
    "    if row['children'] == 0:\n",
    "        return 'нет детей'\n",
    "    elif 1 <= row['children'] <= 2:\n",
    "        return '1-2 ребенка'\n",
    "    else:\n",
    "        return 'многодетные'\n",
    "data['children_group'] = data.apply(children_group, axis=1)\n",
    "\n",
    "#Выделяем группы по заработку\n",
    "#Разбитие на квантилии\n",
    "quantile = data['total_income'].quantile([0.25, 0.50, 0.75]).array\n",
    "quantile\n",
    "def income_group(income):\n",
    "    if income <= quantile[0]:\n",
    "        return 1\n",
    "    elif (quantile[0] < income) and (income <= quantile[1]):\n",
    "        return 2\n",
    "    elif (quantile[1] < income) and (income <= quantile[2]):\n",
    "        return 3\n",
    "    else:\n",
    "        return 4\n",
    "data['income_group'] = data['total_income'].apply(income_group)\n",
    "data"
   ]
  },
  {
   "cell_type": "markdown",
   "metadata": {},
   "source": [
    "**Вывод**"
   ]
  },
  {
   "cell_type": "markdown",
   "metadata": {},
   "source": [
    "Провели категоризацию по целям для займа, количеству детей и ежемесячному доходу. Можно было бы провести категоризацию по трудовому стажу и возрасту заемщика, но данные группы не нужны для ответа на поставленные задачи заказчика."
   ]
  },
  {
   "cell_type": "markdown",
   "metadata": {},
   "source": [
    "## Ответы на вопросы"
   ]
  },
  {
   "cell_type": "markdown",
   "metadata": {},
   "source": [
    "- Есть ли зависимость между наличием детей и возвратом кредита в срок?"
   ]
  },
  {
   "cell_type": "code",
   "execution_count": 8,
   "metadata": {},
   "outputs": [
    {
     "data": {
      "text/html": [
       "<div>\n",
       "<style scoped>\n",
       "    .dataframe tbody tr th:only-of-type {\n",
       "        vertical-align: middle;\n",
       "    }\n",
       "\n",
       "    .dataframe tbody tr th {\n",
       "        vertical-align: top;\n",
       "    }\n",
       "\n",
       "    .dataframe thead th {\n",
       "        text-align: right;\n",
       "    }\n",
       "</style>\n",
       "<table border=\"1\" class=\"dataframe\">\n",
       "  <thead>\n",
       "    <tr style=\"text-align: right;\">\n",
       "      <th></th>\n",
       "      <th>debt</th>\n",
       "    </tr>\n",
       "    <tr>\n",
       "      <th>children_group</th>\n",
       "      <th></th>\n",
       "    </tr>\n",
       "  </thead>\n",
       "  <tbody>\n",
       "    <tr>\n",
       "      <th>1-2 ребенка</th>\n",
       "      <td>0.092654</td>\n",
       "    </tr>\n",
       "    <tr>\n",
       "      <th>многодетные</th>\n",
       "      <td>0.081579</td>\n",
       "    </tr>\n",
       "    <tr>\n",
       "      <th>нет детей</th>\n",
       "      <td>0.075444</td>\n",
       "    </tr>\n",
       "  </tbody>\n",
       "</table>\n",
       "</div>"
      ],
      "text/plain": [
       "                    debt\n",
       "children_group          \n",
       "1-2 ребенка     0.092654\n",
       "многодетные     0.081579\n",
       "нет детей       0.075444"
      ]
     },
     "execution_count": 8,
     "metadata": {},
     "output_type": "execute_result"
    }
   ],
   "source": [
    "#Строим сводную таблицу по кол-ву детей и имеющейся задолженности.\n",
    "data_pivot = data.pivot_table(index = ['children_group'], values = 'debt').sort_values(by = 'debt', ascending = False)\n",
    "data_pivot"
   ]
  },
  {
   "cell_type": "markdown",
   "metadata": {},
   "source": [
    "**Вывод**"
   ]
  },
  {
   "cell_type": "markdown",
   "metadata": {},
   "source": [
    "Судя по результатам заемщики не имеющие детей менее склонны к просрочке по займу."
   ]
  },
  {
   "cell_type": "markdown",
   "metadata": {},
   "source": [
    "- Есть ли зависимость между семейным положением и возвратом кредита в срок?"
   ]
  },
  {
   "cell_type": "code",
   "execution_count": 9,
   "metadata": {},
   "outputs": [
    {
     "data": {
      "text/html": [
       "<div>\n",
       "<style scoped>\n",
       "    .dataframe tbody tr th:only-of-type {\n",
       "        vertical-align: middle;\n",
       "    }\n",
       "\n",
       "    .dataframe tbody tr th {\n",
       "        vertical-align: top;\n",
       "    }\n",
       "\n",
       "    .dataframe thead th {\n",
       "        text-align: right;\n",
       "    }\n",
       "</style>\n",
       "<table border=\"1\" class=\"dataframe\">\n",
       "  <thead>\n",
       "    <tr style=\"text-align: right;\">\n",
       "      <th></th>\n",
       "      <th></th>\n",
       "      <th>debt</th>\n",
       "    </tr>\n",
       "    <tr>\n",
       "      <th>family_status</th>\n",
       "      <th>family_status_id</th>\n",
       "      <th></th>\n",
       "    </tr>\n",
       "  </thead>\n",
       "  <tbody>\n",
       "    <tr>\n",
       "      <th>Не женат / не замужем</th>\n",
       "      <th>4</th>\n",
       "      <td>0.097509</td>\n",
       "    </tr>\n",
       "    <tr>\n",
       "      <th>гражданский брак</th>\n",
       "      <th>1</th>\n",
       "      <td>0.093494</td>\n",
       "    </tr>\n",
       "    <tr>\n",
       "      <th>женат / замужем</th>\n",
       "      <th>0</th>\n",
       "      <td>0.075452</td>\n",
       "    </tr>\n",
       "    <tr>\n",
       "      <th>в разводе</th>\n",
       "      <th>3</th>\n",
       "      <td>0.071130</td>\n",
       "    </tr>\n",
       "    <tr>\n",
       "      <th>вдовец / вдова</th>\n",
       "      <th>2</th>\n",
       "      <td>0.065693</td>\n",
       "    </tr>\n",
       "  </tbody>\n",
       "</table>\n",
       "</div>"
      ],
      "text/plain": [
       "                                            debt\n",
       "family_status         family_status_id          \n",
       "Не женат / не замужем 4                 0.097509\n",
       "гражданский брак      1                 0.093494\n",
       "женат / замужем       0                 0.075452\n",
       "в разводе             3                 0.071130\n",
       "вдовец / вдова        2                 0.065693"
      ]
     },
     "execution_count": 9,
     "metadata": {},
     "output_type": "execute_result"
    }
   ],
   "source": [
    "#Строим сводную таблицу по семейному положению и имеющейся задолженности.\n",
    "data_pivot2 = data.pivot_table(index = ['family_status', 'family_status_id'], values='debt').sort_values(by = 'debt', ascending = False)\n",
    "data_pivot2"
   ]
  },
  {
   "cell_type": "markdown",
   "metadata": {},
   "source": [
    "**Вывод**"
   ]
  },
  {
   "cell_type": "markdown",
   "metadata": {},
   "source": [
    "Граждане которые ни разу не были в браке или не имеют узаконенных отношений более склонны к просрочке платежей по займу."
   ]
  },
  {
   "cell_type": "markdown",
   "metadata": {},
   "source": [
    "- Есть ли зависимость между уровнем дохода и возвратом кредита в срок?"
   ]
  },
  {
   "cell_type": "code",
   "execution_count": 10,
   "metadata": {},
   "outputs": [
    {
     "data": {
      "text/html": [
       "<div>\n",
       "<style scoped>\n",
       "    .dataframe tbody tr th:only-of-type {\n",
       "        vertical-align: middle;\n",
       "    }\n",
       "\n",
       "    .dataframe tbody tr th {\n",
       "        vertical-align: top;\n",
       "    }\n",
       "\n",
       "    .dataframe thead th {\n",
       "        text-align: right;\n",
       "    }\n",
       "</style>\n",
       "<table border=\"1\" class=\"dataframe\">\n",
       "  <thead>\n",
       "    <tr style=\"text-align: right;\">\n",
       "      <th></th>\n",
       "      <th>debt</th>\n",
       "    </tr>\n",
       "    <tr>\n",
       "      <th>income_group</th>\n",
       "      <th></th>\n",
       "    </tr>\n",
       "  </thead>\n",
       "  <tbody>\n",
       "    <tr>\n",
       "      <th>2</th>\n",
       "      <td>0.088155</td>\n",
       "    </tr>\n",
       "    <tr>\n",
       "      <th>3</th>\n",
       "      <td>0.085382</td>\n",
       "    </tr>\n",
       "    <tr>\n",
       "      <th>1</th>\n",
       "      <td>0.079605</td>\n",
       "    </tr>\n",
       "    <tr>\n",
       "      <th>4</th>\n",
       "      <td>0.071415</td>\n",
       "    </tr>\n",
       "  </tbody>\n",
       "</table>\n",
       "</div>"
      ],
      "text/plain": [
       "                  debt\n",
       "income_group          \n",
       "2             0.088155\n",
       "3             0.085382\n",
       "1             0.079605\n",
       "4             0.071415"
      ]
     },
     "execution_count": 10,
     "metadata": {},
     "output_type": "execute_result"
    }
   ],
   "source": [
    "#Строим сводную таблицу по уровню дохода и имеющейся задолженности.\n",
    "data_pivot3 = data.pivot_table(index = ['income_group'], values='debt').sort_values(by = 'debt', ascending = False)\n",
    "data_pivot3"
   ]
  },
  {
   "cell_type": "markdown",
   "metadata": {},
   "source": [
    "**Вывод**"
   ]
  },
  {
   "cell_type": "markdown",
   "metadata": {},
   "source": [
    "Судя по результатам, клиет который зарабатывает больше чем 75% выборки с большей вероятностью вернет займ в срок, что в прочем ожидаемо. Но вот на втором месте к удивлению оказалась группа не 50-75% выборки, а группа с наименьшим доходом (<25%). Это можно обьяснить тем, что люди с наименьшим доходом больше контролируют свои расходы и бюджет.\n",
    "\n",
    "Шанс задолженности клиента:\n",
    "* доход от 107,6 до 142,6 тыс. рублей в месяц = 8,8%\n",
    "* доход от 142,6 до 195,8 тыс. рублей = 8,5%\n",
    "* доход меньше или равен 107,6 тыс. руб. = 8,0%\n",
    "* больше 195,8 тыс. рублей = 7,1%"
   ]
  },
  {
   "cell_type": "markdown",
   "metadata": {},
   "source": [
    "- Как разные цели кредита влияют на его возврат в срок?"
   ]
  },
  {
   "cell_type": "code",
   "execution_count": 11,
   "metadata": {},
   "outputs": [
    {
     "data": {
      "text/html": [
       "<div>\n",
       "<style scoped>\n",
       "    .dataframe tbody tr th:only-of-type {\n",
       "        vertical-align: middle;\n",
       "    }\n",
       "\n",
       "    .dataframe tbody tr th {\n",
       "        vertical-align: top;\n",
       "    }\n",
       "\n",
       "    .dataframe thead th {\n",
       "        text-align: right;\n",
       "    }\n",
       "</style>\n",
       "<table border=\"1\" class=\"dataframe\">\n",
       "  <thead>\n",
       "    <tr style=\"text-align: right;\">\n",
       "      <th></th>\n",
       "      <th>debt</th>\n",
       "    </tr>\n",
       "    <tr>\n",
       "      <th>purpose_group</th>\n",
       "      <th></th>\n",
       "    </tr>\n",
       "  </thead>\n",
       "  <tbody>\n",
       "    <tr>\n",
       "      <th>автомобиль</th>\n",
       "      <td>0.093590</td>\n",
       "    </tr>\n",
       "    <tr>\n",
       "      <th>образование</th>\n",
       "      <td>0.092200</td>\n",
       "    </tr>\n",
       "    <tr>\n",
       "      <th>свадьба</th>\n",
       "      <td>0.080034</td>\n",
       "    </tr>\n",
       "    <tr>\n",
       "      <th>недвижимость</th>\n",
       "      <td>0.072340</td>\n",
       "    </tr>\n",
       "  </tbody>\n",
       "</table>\n",
       "</div>"
      ],
      "text/plain": [
       "                   debt\n",
       "purpose_group          \n",
       "автомобиль     0.093590\n",
       "образование    0.092200\n",
       "свадьба        0.080034\n",
       "недвижимость   0.072340"
      ]
     },
     "execution_count": 11,
     "metadata": {},
     "output_type": "execute_result"
    }
   ],
   "source": [
    "#Строим сводную таблицу по целям кредита и имеющейся задолженности.\n",
    "data_pivot4 = data.pivot_table(index = ['purpose_group'], values='debt').sort_values(by = 'debt', ascending = False)\n",
    "data_pivot4"
   ]
  },
  {
   "cell_type": "markdown",
   "metadata": {},
   "source": [
    "**Вывод**"
   ]
  },
  {
   "cell_type": "markdown",
   "metadata": {},
   "source": [
    "Граждане берущие заем связанный с приобретением или ремонтом недвижимости более склонны к выплатам его в срок."
   ]
  },
  {
   "cell_type": "markdown",
   "metadata": {},
   "source": [
    "## Общий вывод"
   ]
  },
  {
   "cell_type": "markdown",
   "metadata": {},
   "source": [
    "На поставленный вопрос \"влияет ли семейное положение и количество детей клиента на факт погашения кредита в срок?\" можно однозначно ответить: да, влияет.\n",
    "Более ответственными являются клиенты состоящие в официальном браке или хотябы раз бывшие в нем и не имеющие детей.\n",
    "Менее ответственными можно считать граждан которые никогда не состояли в официальном браке и при этом имеют 1 или 2 детей.\n"
   ]
  }
 ],
 "metadata": {
  "ExecuteTimeLog": [
   {
    "duration": 1563,
    "start_time": "2021-09-27T15:13:06.732Z"
   },
   {
    "duration": 95,
    "start_time": "2021-09-27T15:22:23.402Z"
   },
   {
    "duration": 14,
    "start_time": "2021-09-27T15:26:09.207Z"
   },
   {
    "duration": 135,
    "start_time": "2021-09-27T15:26:38.783Z"
   },
   {
    "duration": 88,
    "start_time": "2021-09-27T15:40:26.689Z"
   },
   {
    "duration": 13,
    "start_time": "2021-09-27T15:40:40.641Z"
   },
   {
    "duration": 14,
    "start_time": "2021-09-27T15:49:21.561Z"
   },
   {
    "duration": 11,
    "start_time": "2021-09-27T15:55:26.207Z"
   },
   {
    "duration": 156,
    "start_time": "2021-09-27T15:55:48.000Z"
   },
   {
    "duration": 12,
    "start_time": "2021-09-27T15:55:55.300Z"
   },
   {
    "duration": 11,
    "start_time": "2021-09-27T15:56:32.330Z"
   },
   {
    "duration": 11,
    "start_time": "2021-09-27T15:56:49.695Z"
   },
   {
    "duration": 372,
    "start_time": "2021-09-27T15:57:32.495Z"
   },
   {
    "duration": 9,
    "start_time": "2021-09-27T15:57:44.464Z"
   },
   {
    "duration": 333,
    "start_time": "2021-09-27T15:58:00.916Z"
   },
   {
    "duration": 10,
    "start_time": "2021-09-27T15:58:26.586Z"
   },
   {
    "duration": 10,
    "start_time": "2021-09-27T15:58:51.796Z"
   },
   {
    "duration": 10,
    "start_time": "2021-09-27T15:59:21.983Z"
   },
   {
    "duration": 9,
    "start_time": "2021-09-27T16:00:08.324Z"
   },
   {
    "duration": 10,
    "start_time": "2021-09-27T16:10:37.614Z"
   },
   {
    "duration": 377,
    "start_time": "2021-09-29T12:38:22.787Z"
   },
   {
    "duration": 415,
    "start_time": "2021-09-29T12:39:23.418Z"
   },
   {
    "duration": 328,
    "start_time": "2021-09-29T12:39:46.325Z"
   },
   {
    "duration": 325,
    "start_time": "2021-09-29T12:39:58.920Z"
   },
   {
    "duration": 328,
    "start_time": "2021-09-29T12:40:10.747Z"
   },
   {
    "duration": 505,
    "start_time": "2021-09-29T12:40:17.945Z"
   },
   {
    "duration": 1577,
    "start_time": "2021-09-29T12:40:22.349Z"
   },
   {
    "duration": 13,
    "start_time": "2021-09-29T12:40:31.996Z"
   },
   {
    "duration": 15,
    "start_time": "2021-09-29T12:40:34.108Z"
   },
   {
    "duration": 12,
    "start_time": "2021-09-29T12:40:51.877Z"
   },
   {
    "duration": 9,
    "start_time": "2021-09-29T12:46:48.312Z"
   },
   {
    "duration": 11,
    "start_time": "2021-09-29T12:58:21.582Z"
   },
   {
    "duration": 364,
    "start_time": "2021-09-29T12:59:01.971Z"
   },
   {
    "duration": 300,
    "start_time": "2021-09-29T12:59:13.221Z"
   },
   {
    "duration": 309,
    "start_time": "2021-09-29T13:07:37.788Z"
   },
   {
    "duration": 92,
    "start_time": "2021-09-29T13:07:55.497Z"
   },
   {
    "duration": 13,
    "start_time": "2021-09-29T13:07:58.268Z"
   },
   {
    "duration": 497,
    "start_time": "2021-09-29T13:07:59.156Z"
   },
   {
    "duration": 28,
    "start_time": "2021-09-29T13:08:08.505Z"
   },
   {
    "duration": 45,
    "start_time": "2021-09-29T13:08:55.149Z"
   },
   {
    "duration": 23,
    "start_time": "2021-09-29T13:09:18.464Z"
   },
   {
    "duration": 23,
    "start_time": "2021-09-29T13:09:25.235Z"
   },
   {
    "duration": 124,
    "start_time": "2021-09-29T13:10:48.809Z"
   },
   {
    "duration": 100,
    "start_time": "2021-09-29T13:11:15.925Z"
   },
   {
    "duration": 18,
    "start_time": "2021-09-29T13:11:23.960Z"
   },
   {
    "duration": 107,
    "start_time": "2021-09-29T13:11:25.819Z"
   },
   {
    "duration": 16,
    "start_time": "2021-09-29T13:12:06.312Z"
   },
   {
    "duration": 134,
    "start_time": "2021-09-29T13:21:49.887Z"
   },
   {
    "duration": 346,
    "start_time": "2021-09-29T13:21:56.499Z"
   },
   {
    "duration": 28,
    "start_time": "2021-09-29T13:22:08.187Z"
   },
   {
    "duration": 39,
    "start_time": "2021-09-29T13:22:24.818Z"
   },
   {
    "duration": 48,
    "start_time": "2021-09-29T13:23:13.705Z"
   },
   {
    "duration": 21,
    "start_time": "2021-09-29T13:23:41.652Z"
   },
   {
    "duration": 33,
    "start_time": "2021-09-29T13:23:43.512Z"
   },
   {
    "duration": 33,
    "start_time": "2021-09-29T13:25:57.279Z"
   },
   {
    "duration": 24,
    "start_time": "2021-09-29T13:26:38.877Z"
   },
   {
    "duration": 24,
    "start_time": "2021-09-29T13:27:24.071Z"
   },
   {
    "duration": 35,
    "start_time": "2021-09-29T13:27:28.500Z"
   },
   {
    "duration": 24,
    "start_time": "2021-09-29T13:27:41.032Z"
   },
   {
    "duration": 25,
    "start_time": "2021-09-29T13:27:45.331Z"
   },
   {
    "duration": 14,
    "start_time": "2021-09-29T13:27:48.680Z"
   },
   {
    "duration": 37,
    "start_time": "2021-09-29T13:27:50.194Z"
   },
   {
    "duration": 23,
    "start_time": "2021-09-29T13:28:01.997Z"
   },
   {
    "duration": 93,
    "start_time": "2021-09-29T13:28:05.111Z"
   },
   {
    "duration": 14,
    "start_time": "2021-09-29T13:28:10.336Z"
   },
   {
    "duration": 22,
    "start_time": "2021-09-29T13:28:12.259Z"
   },
   {
    "duration": 33,
    "start_time": "2021-09-29T13:28:21.796Z"
   },
   {
    "duration": 31,
    "start_time": "2021-09-29T13:28:29.024Z"
   },
   {
    "duration": 16,
    "start_time": "2021-09-29T13:29:57.990Z"
   },
   {
    "duration": 27,
    "start_time": "2021-09-29T13:37:10.539Z"
   },
   {
    "duration": 25,
    "start_time": "2021-09-29T13:41:17.450Z"
   },
   {
    "duration": 6,
    "start_time": "2021-09-29T13:53:46.554Z"
   },
   {
    "duration": 37,
    "start_time": "2021-09-29T13:54:22.268Z"
   },
   {
    "duration": 20,
    "start_time": "2021-09-29T13:56:45.015Z"
   },
   {
    "duration": 16,
    "start_time": "2021-09-29T15:01:11.840Z"
   },
   {
    "duration": 42,
    "start_time": "2021-09-29T15:01:17.036Z"
   },
   {
    "duration": 24,
    "start_time": "2021-09-29T15:14:20.336Z"
   },
   {
    "duration": 24,
    "start_time": "2021-09-29T15:15:15.111Z"
   },
   {
    "duration": 24,
    "start_time": "2021-09-29T15:15:20.001Z"
   },
   {
    "duration": -254,
    "start_time": "2021-09-29T15:17:43.103Z"
   },
   {
    "duration": 23,
    "start_time": "2021-09-29T15:17:43.711Z"
   },
   {
    "duration": 10013,
    "start_time": "2021-09-29T15:17:50.947Z"
   },
   {
    "duration": 8135,
    "start_time": "2021-09-29T15:18:08.221Z"
   },
   {
    "duration": 28,
    "start_time": "2021-09-29T15:18:22.457Z"
   },
   {
    "duration": 329,
    "start_time": "2021-09-29T15:19:12.711Z"
   },
   {
    "duration": 28,
    "start_time": "2021-09-29T15:19:19.261Z"
   },
   {
    "duration": 28,
    "start_time": "2021-09-29T15:20:21.421Z"
   },
   {
    "duration": 49,
    "start_time": "2021-09-29T15:20:41.823Z"
   },
   {
    "duration": 328,
    "start_time": "2021-09-29T15:25:25.874Z"
   },
   {
    "duration": 43,
    "start_time": "2021-09-29T15:25:31.239Z"
   },
   {
    "duration": 44,
    "start_time": "2021-09-29T15:26:38.563Z"
   },
   {
    "duration": 46,
    "start_time": "2021-09-29T15:26:43.975Z"
   },
   {
    "duration": 900,
    "start_time": "2021-09-29T15:26:58.405Z"
   },
   {
    "duration": 14,
    "start_time": "2021-09-29T15:27:00.592Z"
   },
   {
    "duration": 33,
    "start_time": "2021-09-29T15:27:01.553Z"
   },
   {
    "duration": 23,
    "start_time": "2021-09-29T15:27:04.114Z"
   },
   {
    "duration": 46,
    "start_time": "2021-09-29T15:27:06.809Z"
   },
   {
    "duration": -257,
    "start_time": "2021-09-29T15:27:29.675Z"
   },
   {
    "duration": 22,
    "start_time": "2021-09-29T15:27:29.731Z"
   },
   {
    "duration": -256,
    "start_time": "2021-09-29T15:27:39.521Z"
   },
   {
    "duration": 45,
    "start_time": "2021-09-29T15:27:44.059Z"
   },
   {
    "duration": 38,
    "start_time": "2021-09-29T15:34:03.344Z"
   },
   {
    "duration": 42,
    "start_time": "2021-09-29T15:34:21.458Z"
   },
   {
    "duration": 95,
    "start_time": "2021-09-29T15:34:37.814Z"
   },
   {
    "duration": 43,
    "start_time": "2021-09-29T15:34:42.333Z"
   },
   {
    "duration": 65,
    "start_time": "2021-09-29T15:35:46.511Z"
   },
   {
    "duration": 44,
    "start_time": "2021-09-29T15:37:39.057Z"
   },
   {
    "duration": 53,
    "start_time": "2021-09-29T15:38:19.778Z"
   },
   {
    "duration": 372,
    "start_time": "2021-09-29T15:39:16.994Z"
   },
   {
    "duration": 49,
    "start_time": "2021-09-29T15:39:27.547Z"
   },
   {
    "duration": 51,
    "start_time": "2021-09-29T15:39:52.529Z"
   },
   {
    "duration": 55,
    "start_time": "2021-09-29T15:59:19.649Z"
   },
   {
    "duration": 56,
    "start_time": "2021-09-29T16:03:08.080Z"
   },
   {
    "duration": 72,
    "start_time": "2021-09-29T16:03:18.162Z"
   },
   {
    "duration": 23,
    "start_time": "2021-09-29T16:03:30.498Z"
   },
   {
    "duration": 54,
    "start_time": "2021-09-29T16:03:35.186Z"
   },
   {
    "duration": 56,
    "start_time": "2021-09-29T16:05:58.301Z"
   },
   {
    "duration": 75,
    "start_time": "2021-09-29T16:13:28.976Z"
   },
   {
    "duration": 88,
    "start_time": "2021-09-29T16:14:01.138Z"
   },
   {
    "duration": 72,
    "start_time": "2021-09-29T16:14:06.580Z"
   },
   {
    "duration": 109,
    "start_time": "2021-09-29T16:15:52.496Z"
   },
   {
    "duration": 89,
    "start_time": "2021-09-29T16:16:02.364Z"
   },
   {
    "duration": 122,
    "start_time": "2021-09-29T16:16:35.757Z"
   },
   {
    "duration": 44,
    "start_time": "2021-09-29T16:21:48.216Z"
   },
   {
    "duration": 867,
    "start_time": "2021-09-29T16:21:59.351Z"
   },
   {
    "duration": 18,
    "start_time": "2021-09-29T16:22:00.222Z"
   },
   {
    "duration": 30,
    "start_time": "2021-09-29T16:22:00.243Z"
   },
   {
    "duration": 55,
    "start_time": "2021-09-29T16:22:00.276Z"
   },
   {
    "duration": 51,
    "start_time": "2021-09-29T16:22:00.334Z"
   },
   {
    "duration": 126,
    "start_time": "2021-09-29T16:23:22.412Z"
   },
   {
    "duration": 351,
    "start_time": "2021-09-30T05:28:58.661Z"
   },
   {
    "duration": 648,
    "start_time": "2021-09-30T05:29:12.833Z"
   },
   {
    "duration": 16,
    "start_time": "2021-09-30T05:29:13.483Z"
   },
   {
    "duration": 27,
    "start_time": "2021-09-30T05:29:13.501Z"
   },
   {
    "duration": 13,
    "start_time": "2021-09-30T05:29:13.530Z"
   },
   {
    "duration": 100,
    "start_time": "2021-09-30T05:29:13.544Z"
   },
   {
    "duration": 359,
    "start_time": "2021-09-30T05:29:13.646Z"
   },
   {
    "duration": 265,
    "start_time": "2021-09-30T07:08:39.424Z"
   },
   {
    "duration": 271,
    "start_time": "2021-09-30T07:10:00.359Z"
   },
   {
    "duration": 3481,
    "start_time": "2021-09-30T07:11:42.398Z"
   },
   {
    "duration": 3530,
    "start_time": "2021-09-30T07:11:49.372Z"
   },
   {
    "duration": 3481,
    "start_time": "2021-09-30T07:14:08.426Z"
   },
   {
    "duration": 3733,
    "start_time": "2021-09-30T07:16:43.278Z"
   },
   {
    "duration": 267,
    "start_time": "2021-09-30T07:17:40.487Z"
   },
   {
    "duration": 260,
    "start_time": "2021-09-30T07:18:28.760Z"
   },
   {
    "duration": 7,
    "start_time": "2021-09-30T07:20:29.145Z"
   },
   {
    "duration": 910,
    "start_time": "2021-09-30T07:25:18.480Z"
   },
   {
    "duration": 4172,
    "start_time": "2021-09-30T07:26:23.896Z"
   },
   {
    "duration": 3696,
    "start_time": "2021-09-30T07:27:49.067Z"
   },
   {
    "duration": 3588,
    "start_time": "2021-09-30T07:29:07.528Z"
   },
   {
    "duration": 4051,
    "start_time": "2021-09-30T07:29:26.566Z"
   },
   {
    "duration": 3656,
    "start_time": "2021-09-30T07:29:42.897Z"
   },
   {
    "duration": 3596,
    "start_time": "2021-09-30T07:30:00.863Z"
   },
   {
    "duration": 3493,
    "start_time": "2021-09-30T07:30:38.680Z"
   },
   {
    "duration": 3637,
    "start_time": "2021-09-30T07:30:52.456Z"
   },
   {
    "duration": 1012,
    "start_time": "2021-09-30T07:31:18.475Z"
   },
   {
    "duration": 458,
    "start_time": "2021-09-30T07:32:22.632Z"
   },
   {
    "duration": 610,
    "start_time": "2021-09-30T07:32:31.538Z"
   },
   {
    "duration": 9,
    "start_time": "2021-09-30T07:33:49.928Z"
   },
   {
    "duration": 562,
    "start_time": "2021-09-30T07:35:40.603Z"
   },
   {
    "duration": 269,
    "start_time": "2021-09-30T07:41:31.855Z"
   },
   {
    "duration": 283,
    "start_time": "2021-09-30T07:41:38.784Z"
   },
   {
    "duration": 320,
    "start_time": "2021-09-30T07:42:35.260Z"
   },
   {
    "duration": 688,
    "start_time": "2021-09-30T07:42:46.898Z"
   },
   {
    "duration": 12,
    "start_time": "2021-09-30T07:42:47.588Z"
   },
   {
    "duration": 19,
    "start_time": "2021-09-30T07:42:47.602Z"
   },
   {
    "duration": 13,
    "start_time": "2021-09-30T07:42:47.623Z"
   },
   {
    "duration": 115,
    "start_time": "2021-09-30T07:42:47.638Z"
   },
   {
    "duration": 319,
    "start_time": "2021-09-30T07:42:47.754Z"
   },
   {
    "duration": 3542,
    "start_time": "2021-09-30T07:43:28.207Z"
   },
   {
    "duration": 27,
    "start_time": "2021-09-30T07:55:04.228Z"
   },
   {
    "duration": 378,
    "start_time": "2021-09-30T08:01:37.773Z"
   },
   {
    "duration": 3584,
    "start_time": "2021-09-30T08:02:17.301Z"
   },
   {
    "duration": 3642,
    "start_time": "2021-09-30T08:02:35.800Z"
   },
   {
    "duration": 676,
    "start_time": "2021-09-30T08:02:59.373Z"
   },
   {
    "duration": 10,
    "start_time": "2021-09-30T08:03:00.051Z"
   },
   {
    "duration": 28,
    "start_time": "2021-09-30T08:03:00.065Z"
   },
   {
    "duration": 13,
    "start_time": "2021-09-30T08:03:00.095Z"
   },
   {
    "duration": 96,
    "start_time": "2021-09-30T08:03:00.110Z"
   },
   {
    "duration": 3698,
    "start_time": "2021-09-30T08:03:00.208Z"
   },
   {
    "duration": 3624,
    "start_time": "2021-09-30T08:04:03.761Z"
   },
   {
    "duration": 3822,
    "start_time": "2021-09-30T08:08:39.638Z"
   },
   {
    "duration": 4063,
    "start_time": "2021-09-30T08:12:17.540Z"
   },
   {
    "duration": 4017,
    "start_time": "2021-09-30T08:14:09.881Z"
   },
   {
    "duration": 3621,
    "start_time": "2021-09-30T08:17:32.364Z"
   },
   {
    "duration": 4071,
    "start_time": "2021-09-30T08:17:48.385Z"
   },
   {
    "duration": 3651,
    "start_time": "2021-09-30T08:18:09.651Z"
   },
   {
    "duration": 4295,
    "start_time": "2021-09-30T08:18:40.410Z"
   },
   {
    "duration": 4062,
    "start_time": "2021-09-30T08:18:51.332Z"
   },
   {
    "duration": 109,
    "start_time": "2021-09-30T08:40:22.130Z"
   },
   {
    "duration": 4,
    "start_time": "2021-09-30T08:41:18.328Z"
   },
   {
    "duration": 278,
    "start_time": "2021-09-30T08:49:19.182Z"
   },
   {
    "duration": 303,
    "start_time": "2021-09-30T08:49:25.080Z"
   },
   {
    "duration": 282,
    "start_time": "2021-09-30T08:49:55.481Z"
   },
   {
    "duration": 4336,
    "start_time": "2021-09-30T08:50:26.127Z"
   },
   {
    "duration": 3883,
    "start_time": "2021-09-30T08:50:36.477Z"
   },
   {
    "duration": 463,
    "start_time": "2021-09-30T08:50:53.106Z"
   },
   {
    "duration": 764,
    "start_time": "2021-09-30T09:41:00.154Z"
   },
   {
    "duration": 761,
    "start_time": "2021-09-30T09:41:26.538Z"
   },
   {
    "duration": 20,
    "start_time": "2021-09-30T09:47:57.290Z"
   },
   {
    "duration": 16,
    "start_time": "2021-09-30T09:50:48.725Z"
   },
   {
    "duration": 25,
    "start_time": "2021-09-30T09:50:58.275Z"
   },
   {
    "duration": 22,
    "start_time": "2021-09-30T09:51:03.775Z"
   },
   {
    "duration": 23,
    "start_time": "2021-09-30T09:51:13.566Z"
   },
   {
    "duration": 17,
    "start_time": "2021-09-30T09:53:08.626Z"
   },
   {
    "duration": 17,
    "start_time": "2021-09-30T09:54:03.436Z"
   },
   {
    "duration": 22,
    "start_time": "2021-09-30T09:54:37.365Z"
   },
   {
    "duration": 14,
    "start_time": "2021-09-30T09:55:14.833Z"
   },
   {
    "duration": 14,
    "start_time": "2021-09-30T09:55:41.302Z"
   },
   {
    "duration": 18,
    "start_time": "2021-09-30T09:58:51.852Z"
   },
   {
    "duration": 18,
    "start_time": "2021-09-30T10:03:03.061Z"
   },
   {
    "duration": 17,
    "start_time": "2021-09-30T10:03:56.316Z"
   },
   {
    "duration": 20,
    "start_time": "2021-09-30T10:04:34.159Z"
   },
   {
    "duration": 19,
    "start_time": "2021-09-30T10:04:46.162Z"
   },
   {
    "duration": 21,
    "start_time": "2021-09-30T10:05:03.181Z"
   },
   {
    "duration": 16,
    "start_time": "2021-09-30T10:05:06.491Z"
   },
   {
    "duration": 88,
    "start_time": "2021-09-30T10:05:31.793Z"
   },
   {
    "duration": 21,
    "start_time": "2021-09-30T10:06:30.466Z"
   },
   {
    "duration": 16,
    "start_time": "2021-09-30T10:16:09.766Z"
   },
   {
    "duration": 18,
    "start_time": "2021-09-30T10:16:46.256Z"
   },
   {
    "duration": 15,
    "start_time": "2021-09-30T10:17:34.743Z"
   },
   {
    "duration": 17,
    "start_time": "2021-09-30T10:17:42.142Z"
   },
   {
    "duration": 16,
    "start_time": "2021-09-30T10:17:56.888Z"
   },
   {
    "duration": 16,
    "start_time": "2021-09-30T10:21:44.932Z"
   },
   {
    "duration": 643,
    "start_time": "2021-09-30T10:24:13.615Z"
   },
   {
    "duration": 9,
    "start_time": "2021-09-30T10:24:14.260Z"
   },
   {
    "duration": 27,
    "start_time": "2021-09-30T10:24:14.271Z"
   },
   {
    "duration": 13,
    "start_time": "2021-09-30T10:24:14.300Z"
   },
   {
    "duration": 83,
    "start_time": "2021-09-30T10:24:14.314Z"
   },
   {
    "duration": 3351,
    "start_time": "2021-09-30T10:24:14.399Z"
   },
   {
    "duration": 748,
    "start_time": "2021-09-30T10:24:17.752Z"
   },
   {
    "duration": 17,
    "start_time": "2021-09-30T10:24:18.502Z"
   },
   {
    "duration": 17,
    "start_time": "2021-09-30T10:24:18.523Z"
   },
   {
    "duration": 42,
    "start_time": "2021-09-30T10:24:18.542Z"
   },
   {
    "duration": 14,
    "start_time": "2021-09-30T10:24:18.586Z"
   },
   {
    "duration": 753,
    "start_time": "2021-09-30T11:34:02.385Z"
   },
   {
    "duration": 694,
    "start_time": "2021-09-30T12:10:50.066Z"
   },
   {
    "duration": 11,
    "start_time": "2021-09-30T12:10:50.762Z"
   },
   {
    "duration": 21,
    "start_time": "2021-09-30T12:10:50.775Z"
   },
   {
    "duration": 14,
    "start_time": "2021-09-30T12:10:50.799Z"
   },
   {
    "duration": 103,
    "start_time": "2021-09-30T12:10:50.815Z"
   },
   {
    "duration": 3774,
    "start_time": "2021-09-30T12:10:50.919Z"
   },
   {
    "duration": 796,
    "start_time": "2021-09-30T12:10:54.696Z"
   },
   {
    "duration": 20,
    "start_time": "2021-09-30T12:10:55.494Z"
   },
   {
    "duration": 19,
    "start_time": "2021-09-30T12:10:55.517Z"
   },
   {
    "duration": 44,
    "start_time": "2021-09-30T12:10:55.538Z"
   },
   {
    "duration": 44,
    "start_time": "2021-09-30T12:10:55.585Z"
   },
   {
    "duration": 709,
    "start_time": "2021-09-30T12:16:19.894Z"
   },
   {
    "duration": 10,
    "start_time": "2021-09-30T12:16:20.605Z"
   },
   {
    "duration": 20,
    "start_time": "2021-09-30T12:16:20.617Z"
   },
   {
    "duration": 15,
    "start_time": "2021-09-30T12:16:20.639Z"
   },
   {
    "duration": 82,
    "start_time": "2021-09-30T12:16:20.677Z"
   },
   {
    "duration": 3881,
    "start_time": "2021-09-30T12:16:20.761Z"
   },
   {
    "duration": 783,
    "start_time": "2021-09-30T12:16:24.643Z"
   },
   {
    "duration": 19,
    "start_time": "2021-09-30T12:16:25.428Z"
   },
   {
    "duration": 35,
    "start_time": "2021-09-30T12:16:25.449Z"
   },
   {
    "duration": 14,
    "start_time": "2021-09-30T12:16:25.486Z"
   },
   {
    "duration": 14,
    "start_time": "2021-09-30T12:16:25.502Z"
   },
   {
    "duration": 906,
    "start_time": "2021-09-30T16:51:18.202Z"
   },
   {
    "duration": 12,
    "start_time": "2021-09-30T16:51:19.110Z"
   },
   {
    "duration": 45,
    "start_time": "2021-09-30T16:51:19.125Z"
   },
   {
    "duration": 24,
    "start_time": "2021-09-30T16:51:19.173Z"
   },
   {
    "duration": 137,
    "start_time": "2021-09-30T16:51:19.199Z"
   },
   {
    "duration": 4907,
    "start_time": "2021-09-30T16:51:19.339Z"
   },
   {
    "duration": 1466,
    "start_time": "2021-09-30T16:51:24.249Z"
   },
   {
    "duration": 27,
    "start_time": "2021-09-30T16:51:25.718Z"
   },
   {
    "duration": 43,
    "start_time": "2021-09-30T16:51:25.748Z"
   },
   {
    "duration": 23,
    "start_time": "2021-09-30T16:51:25.794Z"
   },
   {
    "duration": 59,
    "start_time": "2021-09-30T16:51:25.819Z"
   },
   {
    "duration": 879,
    "start_time": "2021-10-01T05:15:22.213Z"
   },
   {
    "duration": 90,
    "start_time": "2021-10-01T05:17:00.774Z"
   },
   {
    "duration": 118,
    "start_time": "2021-10-01T05:22:59.221Z"
   },
   {
    "duration": 112,
    "start_time": "2021-10-01T05:23:23.836Z"
   },
   {
    "duration": 90,
    "start_time": "2021-10-01T05:24:16.229Z"
   },
   {
    "duration": 22,
    "start_time": "2021-10-01T05:34:33.205Z"
   },
   {
    "duration": 404,
    "start_time": "2021-10-01T05:34:52.856Z"
   },
   {
    "duration": 21,
    "start_time": "2021-10-01T05:35:00.661Z"
   },
   {
    "duration": 23,
    "start_time": "2021-10-01T05:35:10.927Z"
   },
   {
    "duration": 21,
    "start_time": "2021-10-01T05:37:29.782Z"
   },
   {
    "duration": 64,
    "start_time": "2021-10-01T05:37:50.663Z"
   },
   {
    "duration": 299,
    "start_time": "2021-10-01T05:49:17.183Z"
   },
   {
    "duration": 303,
    "start_time": "2021-10-01T05:49:37.549Z"
   },
   {
    "duration": 312,
    "start_time": "2021-10-01T05:50:32.034Z"
   },
   {
    "duration": 868,
    "start_time": "2021-10-01T05:50:39.304Z"
   },
   {
    "duration": 12,
    "start_time": "2021-10-01T05:50:40.174Z"
   },
   {
    "duration": 400,
    "start_time": "2021-10-01T05:50:40.189Z"
   },
   {
    "duration": -1339,
    "start_time": "2021-10-01T05:50:41.931Z"
   },
   {
    "duration": -1340,
    "start_time": "2021-10-01T05:50:41.933Z"
   },
   {
    "duration": -1342,
    "start_time": "2021-10-01T05:50:41.937Z"
   },
   {
    "duration": -1344,
    "start_time": "2021-10-01T05:50:41.940Z"
   },
   {
    "duration": -1347,
    "start_time": "2021-10-01T05:50:41.944Z"
   },
   {
    "duration": -1347,
    "start_time": "2021-10-01T05:50:41.945Z"
   },
   {
    "duration": -1348,
    "start_time": "2021-10-01T05:50:41.947Z"
   },
   {
    "duration": -1350,
    "start_time": "2021-10-01T05:50:41.951Z"
   },
   {
    "duration": 317,
    "start_time": "2021-10-01T05:53:30.101Z"
   },
   {
    "duration": 65,
    "start_time": "2021-10-01T05:54:14.200Z"
   },
   {
    "duration": 111,
    "start_time": "2021-10-01T05:54:20.230Z"
   },
   {
    "duration": 66,
    "start_time": "2021-10-01T05:55:39.559Z"
   },
   {
    "duration": 76,
    "start_time": "2021-10-01T05:56:29.602Z"
   },
   {
    "duration": 108,
    "start_time": "2021-10-01T05:56:40.740Z"
   },
   {
    "duration": 73,
    "start_time": "2021-10-01T05:56:59.378Z"
   },
   {
    "duration": 870,
    "start_time": "2021-10-01T05:57:25.900Z"
   },
   {
    "duration": 12,
    "start_time": "2021-10-01T05:57:26.773Z"
   },
   {
    "duration": 94,
    "start_time": "2021-10-01T05:57:26.789Z"
   },
   {
    "duration": 21,
    "start_time": "2021-10-01T05:57:26.886Z"
   },
   {
    "duration": 121,
    "start_time": "2021-10-01T05:57:26.923Z"
   },
   {
    "duration": 4316,
    "start_time": "2021-10-01T05:57:27.047Z"
   },
   {
    "duration": 1317,
    "start_time": "2021-10-01T05:57:31.366Z"
   },
   {
    "duration": 36,
    "start_time": "2021-10-01T05:57:32.686Z"
   },
   {
    "duration": 24,
    "start_time": "2021-10-01T05:57:32.725Z"
   },
   {
    "duration": 30,
    "start_time": "2021-10-01T05:57:32.752Z"
   },
   {
    "duration": 49,
    "start_time": "2021-10-01T05:57:32.784Z"
   },
   {
    "duration": 1321,
    "start_time": "2021-10-01T06:01:29.711Z"
   },
   {
    "duration": 1315,
    "start_time": "2021-10-01T06:02:14.712Z"
   },
   {
    "duration": 1697,
    "start_time": "2021-10-01T06:02:34.063Z"
   },
   {
    "duration": 1308,
    "start_time": "2021-10-01T06:02:43.472Z"
   },
   {
    "duration": 448,
    "start_time": "2021-10-01T06:20:09.987Z"
   },
   {
    "duration": 21,
    "start_time": "2021-10-01T06:21:26.362Z"
   },
   {
    "duration": 437,
    "start_time": "2021-10-01T06:22:02.143Z"
   },
   {
    "duration": 301,
    "start_time": "2021-10-01T06:22:09.849Z"
   },
   {
    "duration": 457,
    "start_time": "2021-10-01T06:22:33.669Z"
   },
   {
    "duration": 312,
    "start_time": "2021-10-01T06:22:38.999Z"
   },
   {
    "duration": 868,
    "start_time": "2021-10-01T06:22:52.490Z"
   },
   {
    "duration": 15,
    "start_time": "2021-10-01T06:22:53.361Z"
   },
   {
    "duration": 104,
    "start_time": "2021-10-01T06:22:53.380Z"
   },
   {
    "duration": 40,
    "start_time": "2021-10-01T06:22:53.488Z"
   },
   {
    "duration": 127,
    "start_time": "2021-10-01T06:22:53.531Z"
   },
   {
    "duration": 4363,
    "start_time": "2021-10-01T06:22:53.661Z"
   },
   {
    "duration": 452,
    "start_time": "2021-10-01T06:22:58.026Z"
   },
   {
    "duration": 23,
    "start_time": "2021-10-01T06:22:58.480Z"
   },
   {
    "duration": 37,
    "start_time": "2021-10-01T06:22:58.507Z"
   },
   {
    "duration": 402,
    "start_time": "2021-10-01T06:22:58.547Z"
   },
   {
    "duration": -1352,
    "start_time": "2021-10-01T06:23:00.303Z"
   },
   {
    "duration": 1538,
    "start_time": "2021-10-01T06:24:50.621Z"
   },
   {
    "duration": 147,
    "start_time": "2021-10-01T06:32:22.934Z"
   },
   {
    "duration": 458,
    "start_time": "2021-10-01T06:32:42.746Z"
   },
   {
    "duration": 10724,
    "start_time": "2021-10-01T06:32:56.955Z"
   },
   {
    "duration": 443,
    "start_time": "2021-10-01T06:33:15.117Z"
   },
   {
    "duration": 458,
    "start_time": "2021-10-01T06:33:46.185Z"
   },
   {
    "duration": 534,
    "start_time": "2021-10-01T06:34:01.331Z"
   },
   {
    "duration": 674,
    "start_time": "2021-10-01T06:34:12.588Z"
   },
   {
    "duration": -1364,
    "start_time": "2021-10-01T06:37:58.892Z"
   },
   {
    "duration": 9404,
    "start_time": "2021-10-01T06:38:15.407Z"
   },
   {
    "duration": -1377,
    "start_time": "2021-10-01T06:38:26.191Z"
   },
   {
    "duration": 12308,
    "start_time": "2021-10-01T06:40:08.765Z"
   },
   {
    "duration": 174,
    "start_time": "2021-10-01T06:41:00.672Z"
   },
   {
    "duration": 146,
    "start_time": "2021-10-01T06:41:39.472Z"
   },
   {
    "duration": 1130,
    "start_time": "2021-10-01T06:42:03.483Z"
   },
   {
    "duration": 10569,
    "start_time": "2021-10-01T06:42:30.431Z"
   },
   {
    "duration": 442,
    "start_time": "2021-10-01T06:43:43.754Z"
   },
   {
    "duration": 447,
    "start_time": "2021-10-01T06:45:31.226Z"
   },
   {
    "duration": 1664,
    "start_time": "2021-10-01T06:46:17.971Z"
   },
   {
    "duration": 9839,
    "start_time": "2021-10-01T06:46:44.298Z"
   },
   {
    "duration": 9386,
    "start_time": "2021-10-01T06:49:54.308Z"
   },
   {
    "duration": 422,
    "start_time": "2021-10-01T11:10:11.410Z"
   },
   {
    "duration": 867,
    "start_time": "2021-10-01T11:10:28.944Z"
   },
   {
    "duration": 12,
    "start_time": "2021-10-01T11:10:29.813Z"
   },
   {
    "duration": 101,
    "start_time": "2021-10-01T11:10:29.827Z"
   },
   {
    "duration": 39,
    "start_time": "2021-10-01T11:10:29.932Z"
   },
   {
    "duration": 139,
    "start_time": "2021-10-01T11:10:29.974Z"
   },
   {
    "duration": 4659,
    "start_time": "2021-10-01T11:10:30.115Z"
   },
   {
    "duration": 9800,
    "start_time": "2021-10-01T11:10:34.778Z"
   },
   {
    "duration": -530,
    "start_time": "2021-10-01T11:10:45.111Z"
   },
   {
    "duration": -531,
    "start_time": "2021-10-01T11:10:45.114Z"
   },
   {
    "duration": -532,
    "start_time": "2021-10-01T11:10:45.116Z"
   },
   {
    "duration": -532,
    "start_time": "2021-10-01T11:10:45.118Z"
   },
   {
    "duration": 8271,
    "start_time": "2021-10-01T11:11:23.495Z"
   },
   {
    "duration": 8419,
    "start_time": "2021-10-01T11:11:47.511Z"
   },
   {
    "duration": 1567,
    "start_time": "2021-10-01T11:12:53.009Z"
   },
   {
    "duration": 1638,
    "start_time": "2021-10-01T11:13:25.901Z"
   },
   {
    "duration": 1607,
    "start_time": "2021-10-01T11:16:03.953Z"
   },
   {
    "duration": 8928,
    "start_time": "2021-10-01T11:16:15.867Z"
   },
   {
    "duration": 9396,
    "start_time": "2021-10-01T11:17:37.109Z"
   },
   {
    "duration": 458,
    "start_time": "2021-10-01T11:21:35.291Z"
   },
   {
    "duration": 777,
    "start_time": "2021-10-01T11:21:46.698Z"
   },
   {
    "duration": 478,
    "start_time": "2021-10-01T11:24:01.506Z"
   },
   {
    "duration": 8250,
    "start_time": "2021-10-01T11:25:17.014Z"
   },
   {
    "duration": 7984,
    "start_time": "2021-10-01T11:29:33.394Z"
   },
   {
    "duration": 8258,
    "start_time": "2021-10-01T11:30:46.219Z"
   },
   {
    "duration": 8178,
    "start_time": "2021-10-01T11:37:03.607Z"
   },
   {
    "duration": 445,
    "start_time": "2021-10-01T11:38:07.588Z"
   },
   {
    "duration": 855,
    "start_time": "2021-10-01T11:39:09.103Z"
   },
   {
    "duration": 12,
    "start_time": "2021-10-01T11:39:09.961Z"
   },
   {
    "duration": 106,
    "start_time": "2021-10-01T11:39:09.976Z"
   },
   {
    "duration": 21,
    "start_time": "2021-10-01T11:39:10.084Z"
   },
   {
    "duration": 134,
    "start_time": "2021-10-01T11:39:10.107Z"
   },
   {
    "duration": 4559,
    "start_time": "2021-10-01T11:39:10.244Z"
   },
   {
    "duration": 464,
    "start_time": "2021-10-01T11:39:14.805Z"
   },
   {
    "duration": 27,
    "start_time": "2021-10-01T11:39:15.272Z"
   },
   {
    "duration": 26,
    "start_time": "2021-10-01T11:39:15.302Z"
   },
   {
    "duration": 444,
    "start_time": "2021-10-01T11:39:15.357Z"
   },
   {
    "duration": -585,
    "start_time": "2021-10-01T11:39:16.388Z"
   },
   {
    "duration": 20,
    "start_time": "2021-10-01T11:42:34.903Z"
   },
   {
    "duration": 101,
    "start_time": "2021-10-01T11:42:45.036Z"
   },
   {
    "duration": 12,
    "start_time": "2021-10-01T11:42:49.102Z"
   },
   {
    "duration": 90,
    "start_time": "2021-10-01T11:42:50.453Z"
   },
   {
    "duration": 19,
    "start_time": "2021-10-01T11:42:55.730Z"
   },
   {
    "duration": 21,
    "start_time": "2021-10-01T11:43:12.007Z"
   },
   {
    "duration": 110,
    "start_time": "2021-10-01T11:43:17.580Z"
   },
   {
    "duration": 4645,
    "start_time": "2021-10-01T11:43:34.583Z"
   },
   {
    "duration": 439,
    "start_time": "2021-10-01T11:43:43.660Z"
   },
   {
    "duration": 8917,
    "start_time": "2021-10-01T11:53:35.854Z"
   },
   {
    "duration": 1669,
    "start_time": "2021-10-01T11:54:10.117Z"
   },
   {
    "duration": 1565,
    "start_time": "2021-10-01T11:54:27.845Z"
   },
   {
    "duration": 8778,
    "start_time": "2021-10-01T11:54:39.833Z"
   },
   {
    "duration": 10187,
    "start_time": "2021-10-01T11:56:34.662Z"
   },
   {
    "duration": 369,
    "start_time": "2021-10-01T17:06:22.777Z"
   },
   {
    "duration": 878,
    "start_time": "2021-10-01T17:06:35.913Z"
   },
   {
    "duration": 21,
    "start_time": "2021-10-01T17:06:36.796Z"
   },
   {
    "duration": 98,
    "start_time": "2021-10-01T17:06:36.820Z"
   },
   {
    "duration": 22,
    "start_time": "2021-10-01T17:06:36.920Z"
   },
   {
    "duration": 141,
    "start_time": "2021-10-01T17:06:36.945Z"
   },
   {
    "duration": 4568,
    "start_time": "2021-10-01T17:06:37.088Z"
   },
   {
    "duration": 597,
    "start_time": "2021-10-01T17:06:41.659Z"
   },
   {
    "duration": 26,
    "start_time": "2021-10-01T17:06:42.260Z"
   },
   {
    "duration": 41,
    "start_time": "2021-10-01T17:06:42.289Z"
   },
   {
    "duration": 18,
    "start_time": "2021-10-01T17:06:42.332Z"
   },
   {
    "duration": 52,
    "start_time": "2021-10-01T17:06:42.353Z"
   },
   {
    "duration": 91,
    "start_time": "2021-10-02T05:38:20.497Z"
   },
   {
    "duration": 93,
    "start_time": "2021-10-02T05:38:47.259Z"
   },
   {
    "duration": 99,
    "start_time": "2021-10-02T05:41:55.490Z"
   },
   {
    "duration": 85,
    "start_time": "2021-10-02T05:42:25.136Z"
   },
   {
    "duration": 76,
    "start_time": "2021-10-02T05:42:34.710Z"
   },
   {
    "duration": 113,
    "start_time": "2021-10-02T05:42:42.716Z"
   },
   {
    "duration": 95,
    "start_time": "2021-10-02T05:43:55.422Z"
   },
   {
    "duration": 135,
    "start_time": "2021-10-02T05:44:23.805Z"
   },
   {
    "duration": 83,
    "start_time": "2021-10-02T05:45:04.847Z"
   },
   {
    "duration": 420,
    "start_time": "2021-10-02T05:45:04.512Z"
   },
   {
    "duration": 420,
    "start_time": "2021-10-02T05:45:04.515Z"
   },
   {
    "duration": 417,
    "start_time": "2021-10-02T05:45:04.519Z"
   },
   {
    "duration": 417,
    "start_time": "2021-10-02T05:45:04.520Z"
   },
   {
    "duration": 416,
    "start_time": "2021-10-02T05:45:04.522Z"
   },
   {
    "duration": 416,
    "start_time": "2021-10-02T05:45:04.523Z"
   },
   {
    "duration": 416,
    "start_time": "2021-10-02T05:45:04.524Z"
   },
   {
    "duration": 415,
    "start_time": "2021-10-02T05:45:04.526Z"
   },
   {
    "duration": 415,
    "start_time": "2021-10-02T05:45:04.527Z"
   },
   {
    "duration": 415,
    "start_time": "2021-10-02T05:45:04.528Z"
   },
   {
    "duration": 415,
    "start_time": "2021-10-02T05:45:04.529Z"
   },
   {
    "duration": 132,
    "start_time": "2021-10-02T05:45:50.690Z"
   },
   {
    "duration": 84,
    "start_time": "2021-10-02T05:45:53.555Z"
   },
   {
    "duration": 678,
    "start_time": "2021-10-02T05:58:14.975Z"
   },
   {
    "duration": 11,
    "start_time": "2021-10-02T05:58:15.655Z"
   },
   {
    "duration": 52,
    "start_time": "2021-10-02T05:58:15.668Z"
   },
   {
    "duration": 29,
    "start_time": "2021-10-02T05:58:15.721Z"
   },
   {
    "duration": 71,
    "start_time": "2021-10-02T05:58:15.752Z"
   },
   {
    "duration": 3567,
    "start_time": "2021-10-02T05:58:15.845Z"
   },
   {
    "duration": 369,
    "start_time": "2021-10-02T05:58:19.414Z"
   },
   {
    "duration": 16,
    "start_time": "2021-10-02T05:58:19.784Z"
   },
   {
    "duration": 15,
    "start_time": "2021-10-02T05:58:19.803Z"
   },
   {
    "duration": 33,
    "start_time": "2021-10-02T05:58:19.820Z"
   },
   {
    "duration": 24,
    "start_time": "2021-10-02T05:58:19.855Z"
   },
   {
    "duration": 325,
    "start_time": "2021-10-02T06:03:42.268Z"
   },
   {
    "duration": 249,
    "start_time": "2021-10-02T06:04:41.482Z"
   },
   {
    "duration": 12,
    "start_time": "2021-10-02T06:04:49.280Z"
   },
   {
    "duration": 14,
    "start_time": "2021-10-02T06:06:05.991Z"
   },
   {
    "duration": 333,
    "start_time": "2021-10-02T06:14:33.732Z"
   },
   {
    "duration": 657,
    "start_time": "2021-10-02T06:23:02.216Z"
   },
   {
    "duration": 10,
    "start_time": "2021-10-02T06:23:02.875Z"
   },
   {
    "duration": 68,
    "start_time": "2021-10-02T06:23:02.890Z"
   },
   {
    "duration": 12,
    "start_time": "2021-10-02T06:23:02.961Z"
   },
   {
    "duration": 93,
    "start_time": "2021-10-02T06:23:02.975Z"
   },
   {
    "duration": 3407,
    "start_time": "2021-10-02T06:23:03.070Z"
   },
   {
    "duration": 341,
    "start_time": "2021-10-02T06:23:06.479Z"
   },
   {
    "duration": 26,
    "start_time": "2021-10-02T06:23:06.823Z"
   },
   {
    "duration": 18,
    "start_time": "2021-10-02T06:23:06.851Z"
   },
   {
    "duration": 11,
    "start_time": "2021-10-02T06:23:06.870Z"
   },
   {
    "duration": 12,
    "start_time": "2021-10-02T06:23:06.882Z"
   },
   {
    "duration": 1118,
    "start_time": "2022-08-23T14:30:07.515Z"
   },
   {
    "duration": 10,
    "start_time": "2022-08-23T14:30:08.635Z"
   },
   {
    "duration": 72,
    "start_time": "2022-08-23T14:30:08.647Z"
   },
   {
    "duration": 15,
    "start_time": "2022-08-23T14:30:08.721Z"
   },
   {
    "duration": 97,
    "start_time": "2022-08-23T14:30:08.737Z"
   },
   {
    "duration": 4130,
    "start_time": "2022-08-23T14:30:08.836Z"
   },
   {
    "duration": 280,
    "start_time": "2022-08-23T14:30:12.968Z"
   },
   {
    "duration": 21,
    "start_time": "2022-08-23T14:30:13.249Z"
   },
   {
    "duration": 40,
    "start_time": "2022-08-23T14:30:13.272Z"
   },
   {
    "duration": 15,
    "start_time": "2022-08-23T14:30:13.314Z"
   },
   {
    "duration": 16,
    "start_time": "2022-08-23T14:30:13.331Z"
   },
   {
    "duration": 629,
    "start_time": "2022-08-24T10:38:24.275Z"
   },
   {
    "duration": 13,
    "start_time": "2022-08-24T10:38:24.907Z"
   },
   {
    "duration": 77,
    "start_time": "2022-08-24T10:38:24.922Z"
   },
   {
    "duration": 18,
    "start_time": "2022-08-24T10:38:25.003Z"
   },
   {
    "duration": 103,
    "start_time": "2022-08-24T10:38:25.022Z"
   },
   {
    "duration": 4479,
    "start_time": "2022-08-24T10:38:25.127Z"
   },
   {
    "duration": 627,
    "start_time": "2022-08-24T10:38:29.610Z"
   },
   {
    "duration": 83,
    "start_time": "2022-08-24T10:38:30.238Z"
   },
   {
    "duration": 75,
    "start_time": "2022-08-24T10:38:30.323Z"
   },
   {
    "duration": 21,
    "start_time": "2022-08-24T10:38:30.402Z"
   },
   {
    "duration": 87,
    "start_time": "2022-08-24T10:38:30.425Z"
   },
   {
    "duration": 1242,
    "start_time": "2022-08-24T13:29:08.104Z"
   },
   {
    "duration": 16,
    "start_time": "2022-08-24T13:29:09.348Z"
   },
   {
    "duration": 70,
    "start_time": "2022-08-24T13:29:09.366Z"
   },
   {
    "duration": 16,
    "start_time": "2022-08-24T13:29:09.439Z"
   },
   {
    "duration": 135,
    "start_time": "2022-08-24T13:29:09.458Z"
   },
   {
    "duration": 4731,
    "start_time": "2022-08-24T13:29:09.601Z"
   },
   {
    "duration": 233,
    "start_time": "2022-08-24T13:29:14.334Z"
   },
   {
    "duration": 31,
    "start_time": "2022-08-24T13:29:14.569Z"
   },
   {
    "duration": 20,
    "start_time": "2022-08-24T13:29:14.602Z"
   },
   {
    "duration": 18,
    "start_time": "2022-08-24T13:29:14.625Z"
   },
   {
    "duration": 21,
    "start_time": "2022-08-24T13:29:14.645Z"
   },
   {
    "duration": 100,
    "start_time": "2022-08-24T13:35:10.160Z"
   },
   {
    "duration": 16,
    "start_time": "2022-08-24T13:35:12.197Z"
   },
   {
    "duration": 48,
    "start_time": "2022-08-24T13:35:12.779Z"
   },
   {
    "duration": 552,
    "start_time": "2022-08-24T13:35:17.779Z"
   },
   {
    "duration": 10,
    "start_time": "2022-08-24T13:35:18.334Z"
   },
   {
    "duration": 61,
    "start_time": "2022-08-24T13:35:18.345Z"
   },
   {
    "duration": 21,
    "start_time": "2022-08-24T13:35:18.409Z"
   },
   {
    "duration": 97,
    "start_time": "2022-08-24T13:35:18.433Z"
   },
   {
    "duration": 3999,
    "start_time": "2022-08-24T13:35:18.533Z"
   },
   {
    "duration": 234,
    "start_time": "2022-08-24T13:35:22.537Z"
   },
   {
    "duration": 28,
    "start_time": "2022-08-24T13:35:22.773Z"
   },
   {
    "duration": 19,
    "start_time": "2022-08-24T13:35:22.803Z"
   },
   {
    "duration": 16,
    "start_time": "2022-08-24T13:35:22.825Z"
   },
   {
    "duration": 16,
    "start_time": "2022-08-24T13:35:22.844Z"
   }
  ],
  "kernelspec": {
   "display_name": "Python 3 (ipykernel)",
   "language": "python",
   "name": "python3"
  },
  "language_info": {
   "codemirror_mode": {
    "name": "ipython",
    "version": 3
   },
   "file_extension": ".py",
   "mimetype": "text/x-python",
   "name": "python",
   "nbconvert_exporter": "python",
   "pygments_lexer": "ipython3",
   "version": "3.9.5"
  },
  "toc": {
   "base_numbering": 1,
   "nav_menu": {},
   "number_sections": true,
   "sideBar": true,
   "skip_h1_title": true,
   "title_cell": "Table of Contents",
   "title_sidebar": "Contents",
   "toc_cell": false,
   "toc_position": {},
   "toc_section_display": true,
   "toc_window_display": true
  }
 },
 "nbformat": 4,
 "nbformat_minor": 2
}
