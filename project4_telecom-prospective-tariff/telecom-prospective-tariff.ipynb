{
 "cells": [
  {
   "cell_type": "markdown",
   "metadata": {},
   "source": [
    "# Определение перспективного тарифа для телеком-компании"
   ]
  },
  {
   "cell_type": "markdown",
   "metadata": {},
   "source": [
    "Клиентам предлагают два тарифных плана: «Смарт» и «Ультра». Чтобы скорректировать рекламный бюджет, коммерческий департамент хочет понять, какой тариф приносит больше денег.\n",
    "\n",
    "Предстоит сделать предварительный анализ тарифов на небольшой выборке клиентов. В распоряжении данные 500 пользователей «Мегалайна»: кто они, откуда, каким тарифом пользуются, сколько звонков и сообщений каждый отправил за 2018 год. Нужно проанализировать поведение клиентов и сделать вывод — какой тариф лучше."
   ]
  },
  {
   "cell_type": "markdown",
   "metadata": {},
   "source": [
    "## Открываем файл и изучаем общую информацию"
   ]
  },
  {
   "cell_type": "code",
   "execution_count": 2,
   "metadata": {
    "scrolled": false
   },
   "outputs": [
    {
     "name": "stdout",
     "output_type": "stream",
     "text": [
      "<class 'pandas.core.frame.DataFrame'>\n",
      "RangeIndex: 202607 entries, 0 to 202606\n",
      "Data columns (total 4 columns):\n",
      " #   Column     Non-Null Count   Dtype  \n",
      "---  ------     --------------   -----  \n",
      " 0   id         202607 non-null  object \n",
      " 1   call_date  202607 non-null  object \n",
      " 2   duration   202607 non-null  float64\n",
      " 3   user_id    202607 non-null  int64  \n",
      "dtypes: float64(1), int64(1), object(2)\n",
      "memory usage: 6.2+ MB\n",
      "None\n",
      "\n"
     ]
    },
    {
     "data": {
      "text/html": [
       "<div>\n",
       "<style scoped>\n",
       "    .dataframe tbody tr th:only-of-type {\n",
       "        vertical-align: middle;\n",
       "    }\n",
       "\n",
       "    .dataframe tbody tr th {\n",
       "        vertical-align: top;\n",
       "    }\n",
       "\n",
       "    .dataframe thead th {\n",
       "        text-align: right;\n",
       "    }\n",
       "</style>\n",
       "<table border=\"1\" class=\"dataframe\">\n",
       "  <thead>\n",
       "    <tr style=\"text-align: right;\">\n",
       "      <th></th>\n",
       "      <th>id</th>\n",
       "      <th>call_date</th>\n",
       "      <th>duration</th>\n",
       "      <th>user_id</th>\n",
       "    </tr>\n",
       "  </thead>\n",
       "  <tbody>\n",
       "    <tr>\n",
       "      <th>0</th>\n",
       "      <td>1000_0</td>\n",
       "      <td>2018-07-25</td>\n",
       "      <td>0.00</td>\n",
       "      <td>1000</td>\n",
       "    </tr>\n",
       "    <tr>\n",
       "      <th>1</th>\n",
       "      <td>1000_1</td>\n",
       "      <td>2018-08-17</td>\n",
       "      <td>0.00</td>\n",
       "      <td>1000</td>\n",
       "    </tr>\n",
       "    <tr>\n",
       "      <th>2</th>\n",
       "      <td>1000_2</td>\n",
       "      <td>2018-06-11</td>\n",
       "      <td>2.85</td>\n",
       "      <td>1000</td>\n",
       "    </tr>\n",
       "    <tr>\n",
       "      <th>3</th>\n",
       "      <td>1000_3</td>\n",
       "      <td>2018-09-21</td>\n",
       "      <td>13.80</td>\n",
       "      <td>1000</td>\n",
       "    </tr>\n",
       "    <tr>\n",
       "      <th>4</th>\n",
       "      <td>1000_4</td>\n",
       "      <td>2018-12-15</td>\n",
       "      <td>5.18</td>\n",
       "      <td>1000</td>\n",
       "    </tr>\n",
       "  </tbody>\n",
       "</table>\n",
       "</div>"
      ],
      "text/plain": [
       "       id   call_date  duration  user_id\n",
       "0  1000_0  2018-07-25      0.00     1000\n",
       "1  1000_1  2018-08-17      0.00     1000\n",
       "2  1000_2  2018-06-11      2.85     1000\n",
       "3  1000_3  2018-09-21     13.80     1000\n",
       "4  1000_4  2018-12-15      5.18     1000"
      ]
     },
     "metadata": {},
     "output_type": "display_data"
    },
    {
     "name": "stdout",
     "output_type": "stream",
     "text": [
      "\n",
      "<class 'pandas.core.frame.DataFrame'>\n",
      "RangeIndex: 149396 entries, 0 to 149395\n",
      "Data columns (total 5 columns):\n",
      " #   Column        Non-Null Count   Dtype  \n",
      "---  ------        --------------   -----  \n",
      " 0   Unnamed: 0    149396 non-null  int64  \n",
      " 1   id            149396 non-null  object \n",
      " 2   mb_used       149396 non-null  float64\n",
      " 3   session_date  149396 non-null  object \n",
      " 4   user_id       149396 non-null  int64  \n",
      "dtypes: float64(1), int64(2), object(2)\n",
      "memory usage: 5.7+ MB\n",
      "None\n",
      "\n"
     ]
    },
    {
     "data": {
      "text/html": [
       "<div>\n",
       "<style scoped>\n",
       "    .dataframe tbody tr th:only-of-type {\n",
       "        vertical-align: middle;\n",
       "    }\n",
       "\n",
       "    .dataframe tbody tr th {\n",
       "        vertical-align: top;\n",
       "    }\n",
       "\n",
       "    .dataframe thead th {\n",
       "        text-align: right;\n",
       "    }\n",
       "</style>\n",
       "<table border=\"1\" class=\"dataframe\">\n",
       "  <thead>\n",
       "    <tr style=\"text-align: right;\">\n",
       "      <th></th>\n",
       "      <th>Unnamed: 0</th>\n",
       "      <th>id</th>\n",
       "      <th>mb_used</th>\n",
       "      <th>session_date</th>\n",
       "      <th>user_id</th>\n",
       "    </tr>\n",
       "  </thead>\n",
       "  <tbody>\n",
       "    <tr>\n",
       "      <th>0</th>\n",
       "      <td>0</td>\n",
       "      <td>1000_0</td>\n",
       "      <td>112.95</td>\n",
       "      <td>2018-11-25</td>\n",
       "      <td>1000</td>\n",
       "    </tr>\n",
       "    <tr>\n",
       "      <th>1</th>\n",
       "      <td>1</td>\n",
       "      <td>1000_1</td>\n",
       "      <td>1052.81</td>\n",
       "      <td>2018-09-07</td>\n",
       "      <td>1000</td>\n",
       "    </tr>\n",
       "    <tr>\n",
       "      <th>2</th>\n",
       "      <td>2</td>\n",
       "      <td>1000_2</td>\n",
       "      <td>1197.26</td>\n",
       "      <td>2018-06-25</td>\n",
       "      <td>1000</td>\n",
       "    </tr>\n",
       "    <tr>\n",
       "      <th>3</th>\n",
       "      <td>3</td>\n",
       "      <td>1000_3</td>\n",
       "      <td>550.27</td>\n",
       "      <td>2018-08-22</td>\n",
       "      <td>1000</td>\n",
       "    </tr>\n",
       "    <tr>\n",
       "      <th>4</th>\n",
       "      <td>4</td>\n",
       "      <td>1000_4</td>\n",
       "      <td>302.56</td>\n",
       "      <td>2018-09-24</td>\n",
       "      <td>1000</td>\n",
       "    </tr>\n",
       "  </tbody>\n",
       "</table>\n",
       "</div>"
      ],
      "text/plain": [
       "   Unnamed: 0      id  mb_used session_date  user_id\n",
       "0           0  1000_0   112.95   2018-11-25     1000\n",
       "1           1  1000_1  1052.81   2018-09-07     1000\n",
       "2           2  1000_2  1197.26   2018-06-25     1000\n",
       "3           3  1000_3   550.27   2018-08-22     1000\n",
       "4           4  1000_4   302.56   2018-09-24     1000"
      ]
     },
     "metadata": {},
     "output_type": "display_data"
    },
    {
     "name": "stdout",
     "output_type": "stream",
     "text": [
      "\n",
      "<class 'pandas.core.frame.DataFrame'>\n",
      "RangeIndex: 123036 entries, 0 to 123035\n",
      "Data columns (total 3 columns):\n",
      " #   Column        Non-Null Count   Dtype \n",
      "---  ------        --------------   ----- \n",
      " 0   id            123036 non-null  object\n",
      " 1   message_date  123036 non-null  object\n",
      " 2   user_id       123036 non-null  int64 \n",
      "dtypes: int64(1), object(2)\n",
      "memory usage: 2.8+ MB\n",
      "None\n",
      "\n"
     ]
    },
    {
     "data": {
      "text/html": [
       "<div>\n",
       "<style scoped>\n",
       "    .dataframe tbody tr th:only-of-type {\n",
       "        vertical-align: middle;\n",
       "    }\n",
       "\n",
       "    .dataframe tbody tr th {\n",
       "        vertical-align: top;\n",
       "    }\n",
       "\n",
       "    .dataframe thead th {\n",
       "        text-align: right;\n",
       "    }\n",
       "</style>\n",
       "<table border=\"1\" class=\"dataframe\">\n",
       "  <thead>\n",
       "    <tr style=\"text-align: right;\">\n",
       "      <th></th>\n",
       "      <th>id</th>\n",
       "      <th>message_date</th>\n",
       "      <th>user_id</th>\n",
       "    </tr>\n",
       "  </thead>\n",
       "  <tbody>\n",
       "    <tr>\n",
       "      <th>0</th>\n",
       "      <td>1000_0</td>\n",
       "      <td>2018-06-27</td>\n",
       "      <td>1000</td>\n",
       "    </tr>\n",
       "    <tr>\n",
       "      <th>1</th>\n",
       "      <td>1000_1</td>\n",
       "      <td>2018-10-08</td>\n",
       "      <td>1000</td>\n",
       "    </tr>\n",
       "    <tr>\n",
       "      <th>2</th>\n",
       "      <td>1000_2</td>\n",
       "      <td>2018-08-04</td>\n",
       "      <td>1000</td>\n",
       "    </tr>\n",
       "    <tr>\n",
       "      <th>3</th>\n",
       "      <td>1000_3</td>\n",
       "      <td>2018-06-16</td>\n",
       "      <td>1000</td>\n",
       "    </tr>\n",
       "    <tr>\n",
       "      <th>4</th>\n",
       "      <td>1000_4</td>\n",
       "      <td>2018-12-05</td>\n",
       "      <td>1000</td>\n",
       "    </tr>\n",
       "  </tbody>\n",
       "</table>\n",
       "</div>"
      ],
      "text/plain": [
       "       id message_date  user_id\n",
       "0  1000_0   2018-06-27     1000\n",
       "1  1000_1   2018-10-08     1000\n",
       "2  1000_2   2018-08-04     1000\n",
       "3  1000_3   2018-06-16     1000\n",
       "4  1000_4   2018-12-05     1000"
      ]
     },
     "metadata": {},
     "output_type": "display_data"
    },
    {
     "name": "stdout",
     "output_type": "stream",
     "text": [
      "\n",
      "<class 'pandas.core.frame.DataFrame'>\n",
      "RangeIndex: 500 entries, 0 to 499\n",
      "Data columns (total 8 columns):\n",
      " #   Column      Non-Null Count  Dtype \n",
      "---  ------      --------------  ----- \n",
      " 0   user_id     500 non-null    int64 \n",
      " 1   age         500 non-null    int64 \n",
      " 2   churn_date  38 non-null     object\n",
      " 3   city        500 non-null    object\n",
      " 4   first_name  500 non-null    object\n",
      " 5   last_name   500 non-null    object\n",
      " 6   reg_date    500 non-null    object\n",
      " 7   tariff      500 non-null    object\n",
      "dtypes: int64(2), object(6)\n",
      "memory usage: 31.4+ KB\n",
      "None\n",
      "\n"
     ]
    },
    {
     "data": {
      "text/html": [
       "<div>\n",
       "<style scoped>\n",
       "    .dataframe tbody tr th:only-of-type {\n",
       "        vertical-align: middle;\n",
       "    }\n",
       "\n",
       "    .dataframe tbody tr th {\n",
       "        vertical-align: top;\n",
       "    }\n",
       "\n",
       "    .dataframe thead th {\n",
       "        text-align: right;\n",
       "    }\n",
       "</style>\n",
       "<table border=\"1\" class=\"dataframe\">\n",
       "  <thead>\n",
       "    <tr style=\"text-align: right;\">\n",
       "      <th></th>\n",
       "      <th>user_id</th>\n",
       "      <th>age</th>\n",
       "      <th>churn_date</th>\n",
       "      <th>city</th>\n",
       "      <th>first_name</th>\n",
       "      <th>last_name</th>\n",
       "      <th>reg_date</th>\n",
       "      <th>tariff</th>\n",
       "    </tr>\n",
       "  </thead>\n",
       "  <tbody>\n",
       "    <tr>\n",
       "      <th>0</th>\n",
       "      <td>1000</td>\n",
       "      <td>52</td>\n",
       "      <td>NaN</td>\n",
       "      <td>Краснодар</td>\n",
       "      <td>Рафаил</td>\n",
       "      <td>Верещагин</td>\n",
       "      <td>2018-05-25</td>\n",
       "      <td>ultra</td>\n",
       "    </tr>\n",
       "    <tr>\n",
       "      <th>1</th>\n",
       "      <td>1001</td>\n",
       "      <td>41</td>\n",
       "      <td>NaN</td>\n",
       "      <td>Москва</td>\n",
       "      <td>Иван</td>\n",
       "      <td>Ежов</td>\n",
       "      <td>2018-11-01</td>\n",
       "      <td>smart</td>\n",
       "    </tr>\n",
       "    <tr>\n",
       "      <th>2</th>\n",
       "      <td>1002</td>\n",
       "      <td>59</td>\n",
       "      <td>NaN</td>\n",
       "      <td>Стерлитамак</td>\n",
       "      <td>Евгений</td>\n",
       "      <td>Абрамович</td>\n",
       "      <td>2018-06-17</td>\n",
       "      <td>smart</td>\n",
       "    </tr>\n",
       "    <tr>\n",
       "      <th>3</th>\n",
       "      <td>1003</td>\n",
       "      <td>23</td>\n",
       "      <td>NaN</td>\n",
       "      <td>Москва</td>\n",
       "      <td>Белла</td>\n",
       "      <td>Белякова</td>\n",
       "      <td>2018-08-17</td>\n",
       "      <td>ultra</td>\n",
       "    </tr>\n",
       "    <tr>\n",
       "      <th>4</th>\n",
       "      <td>1004</td>\n",
       "      <td>68</td>\n",
       "      <td>NaN</td>\n",
       "      <td>Новокузнецк</td>\n",
       "      <td>Татьяна</td>\n",
       "      <td>Авдеенко</td>\n",
       "      <td>2018-05-14</td>\n",
       "      <td>ultra</td>\n",
       "    </tr>\n",
       "  </tbody>\n",
       "</table>\n",
       "</div>"
      ],
      "text/plain": [
       "   user_id  age churn_date         city first_name  last_name    reg_date  \\\n",
       "0     1000   52        NaN    Краснодар     Рафаил  Верещагин  2018-05-25   \n",
       "1     1001   41        NaN       Москва       Иван       Ежов  2018-11-01   \n",
       "2     1002   59        NaN  Стерлитамак    Евгений  Абрамович  2018-06-17   \n",
       "3     1003   23        NaN       Москва      Белла   Белякова  2018-08-17   \n",
       "4     1004   68        NaN  Новокузнецк    Татьяна   Авдеенко  2018-05-14   \n",
       "\n",
       "  tariff  \n",
       "0  ultra  \n",
       "1  smart  \n",
       "2  smart  \n",
       "3  ultra  \n",
       "4  ultra  "
      ]
     },
     "metadata": {},
     "output_type": "display_data"
    },
    {
     "name": "stdout",
     "output_type": "stream",
     "text": [
      "\n",
      "<class 'pandas.core.frame.DataFrame'>\n",
      "RangeIndex: 2 entries, 0 to 1\n",
      "Data columns (total 8 columns):\n",
      " #   Column                 Non-Null Count  Dtype \n",
      "---  ------                 --------------  ----- \n",
      " 0   messages_included      2 non-null      int64 \n",
      " 1   mb_per_month_included  2 non-null      int64 \n",
      " 2   minutes_included       2 non-null      int64 \n",
      " 3   rub_monthly_fee        2 non-null      int64 \n",
      " 4   rub_per_gb             2 non-null      int64 \n",
      " 5   rub_per_message        2 non-null      int64 \n",
      " 6   rub_per_minute         2 non-null      int64 \n",
      " 7   tariff_name            2 non-null      object\n",
      "dtypes: int64(7), object(1)\n",
      "memory usage: 256.0+ bytes\n",
      "None\n",
      "\n"
     ]
    },
    {
     "data": {
      "text/html": [
       "<div>\n",
       "<style scoped>\n",
       "    .dataframe tbody tr th:only-of-type {\n",
       "        vertical-align: middle;\n",
       "    }\n",
       "\n",
       "    .dataframe tbody tr th {\n",
       "        vertical-align: top;\n",
       "    }\n",
       "\n",
       "    .dataframe thead th {\n",
       "        text-align: right;\n",
       "    }\n",
       "</style>\n",
       "<table border=\"1\" class=\"dataframe\">\n",
       "  <thead>\n",
       "    <tr style=\"text-align: right;\">\n",
       "      <th></th>\n",
       "      <th>messages_included</th>\n",
       "      <th>mb_per_month_included</th>\n",
       "      <th>minutes_included</th>\n",
       "      <th>rub_monthly_fee</th>\n",
       "      <th>rub_per_gb</th>\n",
       "      <th>rub_per_message</th>\n",
       "      <th>rub_per_minute</th>\n",
       "      <th>tariff_name</th>\n",
       "    </tr>\n",
       "  </thead>\n",
       "  <tbody>\n",
       "    <tr>\n",
       "      <th>0</th>\n",
       "      <td>50</td>\n",
       "      <td>15360</td>\n",
       "      <td>500</td>\n",
       "      <td>550</td>\n",
       "      <td>200</td>\n",
       "      <td>3</td>\n",
       "      <td>3</td>\n",
       "      <td>smart</td>\n",
       "    </tr>\n",
       "    <tr>\n",
       "      <th>1</th>\n",
       "      <td>1000</td>\n",
       "      <td>30720</td>\n",
       "      <td>3000</td>\n",
       "      <td>1950</td>\n",
       "      <td>150</td>\n",
       "      <td>1</td>\n",
       "      <td>1</td>\n",
       "      <td>ultra</td>\n",
       "    </tr>\n",
       "  </tbody>\n",
       "</table>\n",
       "</div>"
      ],
      "text/plain": [
       "   messages_included  mb_per_month_included  minutes_included  \\\n",
       "0                 50                  15360               500   \n",
       "1               1000                  30720              3000   \n",
       "\n",
       "   rub_monthly_fee  rub_per_gb  rub_per_message  rub_per_minute tariff_name  \n",
       "0              550         200                3               3       smart  \n",
       "1             1950         150                1               1       ultra  "
      ]
     },
     "metadata": {},
     "output_type": "display_data"
    },
    {
     "name": "stdout",
     "output_type": "stream",
     "text": [
      "\n"
     ]
    }
   ],
   "source": [
    "#Импорт библиотек\n",
    "import pandas as pd\n",
    "import numpy as np\n",
    "import matplotlib.pyplot as plt\n",
    "import seaborn as sns\n",
    "from scipy import stats as st\n",
    "\n",
    "#Открываем файлы\n",
    "calls = pd.read_csv('datasets/calls.csv')\n",
    "internet = pd.read_csv('datasets/internet.csv')\n",
    "messages = pd.read_csv('datasets/messages.csv')\n",
    "users = pd.read_csv('datasets/users.csv')\n",
    "tariffs = pd.read_csv('datasets/tariffs.csv')\n",
    "\n",
    "#Смотрим общую информацию\n",
    "for data in [calls, internet, messages, users, tariffs]:\n",
    "    print(data.info())\n",
    "    print()\n",
    "    display(data.head())\n",
    "    print()"
   ]
  },
  {
   "cell_type": "markdown",
   "metadata": {},
   "source": [
    "В нашем распоряжении данные 500 клиентов. В столбцах с датой и временим нужно заменить тип данных на временой. \n",
    "Пропуски в churn_date обозначают, что тариф ещё действовал на момент выгрузки данных. Так же нужно округлить значения минут разговора каждого звонка и гигабайт использованного интернет-трафика по итогу месяца в большую сторону."
   ]
  },
  {
   "cell_type": "markdown",
   "metadata": {},
   "source": [
    "## Подготавливаем данные"
   ]
  },
  {
   "cell_type": "markdown",
   "metadata": {},
   "source": [
    "### Приведем данные к нужным типам и посмотрим на ошибки"
   ]
  },
  {
   "cell_type": "code",
   "execution_count": 3,
   "metadata": {},
   "outputs": [
    {
     "name": "stdout",
     "output_type": "stream",
     "text": [
      "Количество звонков продолжительностью 0 секунд: 39613\n",
      "Отношение количества пропущенных звонков к количеству всех звонков: 19.55%\n"
     ]
    }
   ],
   "source": [
    "# Заменим тип данных, обозначающих дату, со строчного на временной:\n",
    "calls['call_date'] = pd.to_datetime(calls['call_date'], format='%Y-%m-%d')\n",
    "internet['session_date'] = pd.to_datetime(internet['session_date'], format='%Y-%m-%d')\n",
    "messages['message_date'] = pd.to_datetime(messages['message_date'], format='%Y-%m-%d')\n",
    "users['churn_date'] = pd.to_datetime(users['churn_date'], format='%Y-%m-%d')\n",
    "users['reg_date'] = pd.to_datetime(users['reg_date'], format='%Y-%m-%d')\n",
    "\n",
    "# Дообавление столбца с месяцем\n",
    "calls['month'] = calls['call_date'].dt.month\n",
    "internet['month'] = internet['session_date'].dt.month\n",
    "messages['month'] = messages['message_date'].dt.month\n",
    "\n",
    "# Округляем минуты разговора каждого звонка в большую сторону\n",
    "calls['duration'] = calls['duration'].apply(np.ceil)\n",
    "\n",
    "zero_calls = calls.query('duration == 0')\n",
    "zero_calls_percent = len(zero_calls) / len(calls)\n",
    "print('Количество звонков продолжительностью 0 секунд:', zero_calls['duration'].count())\n",
    "print('Отношение количества пропущенных звонков к количеству всех звонков: {:.2%}'.format(zero_calls_percent))"
   ]
  },
  {
   "cell_type": "markdown",
   "metadata": {},
   "source": [
    "В данных есть звонки с нулевой продолжительностью.\n",
    "Это не ошибка: нулями обозначены пропущенные звонки."
   ]
  },
  {
   "cell_type": "code",
   "execution_count": 4,
   "metadata": {},
   "outputs": [
    {
     "name": "stdout",
     "output_type": "stream",
     "text": [
      "Количество сессий без расхода трафика: 19598\n",
      "Отношение количества сессий без расхода трафика к количеству всех сессий: 13.12%\n"
     ]
    }
   ],
   "source": [
    "zero_internet = internet.query('mb_used == 0')\n",
    "zero_internet_percent = len(zero_internet) / len(internet)\n",
    "print('Количество сессий без расхода трафика:', zero_internet['mb_used'].count())\n",
    "print('Отношение количества сессий без расхода трафика к количеству всех сессий: {:.2%}'.format(zero_internet_percent))"
   ]
  },
  {
   "cell_type": "markdown",
   "metadata": {},
   "source": [
    "В данных есть интернет сессии с нулемым(околонулевым) трафиком. Можно предположить, что это микросессии на подобии получения пуш-уведомлени, когда телефон ночью получает уведомление и сразу засыпает. Такое уведомление может занимать допустим несколько килобайт. Соответственно мегабайты стремятся к нулю. Возможно сам оператор округляет такие микросессии к нулю. Так же можно предположить, что в тариф входит бесплатное пользование определенными партнерскими приложениями, чей трафик не учитывается."
   ]
  },
  {
   "cell_type": "markdown",
   "metadata": {},
   "source": [
    "Нулевые значения я не буду удалять и трогать, потому что в сводных таблицах среднее будет вычисляться при делении суммы на количество пользователей, а не на количество сессий."
   ]
  },
  {
   "cell_type": "markdown",
   "metadata": {},
   "source": [
    "### Посчитаем для каждого пользователя:\n",
    "- количество сделанных звонков и израсходованных минут разговора по месяцам.\n",
    "- количество отправленных сообщений по месяцам.\n",
    "- объем израсходованного интернет-трафика по месяцам.\n",
    "- помесячную выручку с каждого пользователя."
   ]
  },
  {
   "cell_type": "code",
   "execution_count": 5,
   "metadata": {},
   "outputs": [
    {
     "data": {
      "text/html": [
       "<div>\n",
       "<style scoped>\n",
       "    .dataframe tbody tr th:only-of-type {\n",
       "        vertical-align: middle;\n",
       "    }\n",
       "\n",
       "    .dataframe tbody tr th {\n",
       "        vertical-align: top;\n",
       "    }\n",
       "\n",
       "    .dataframe thead th {\n",
       "        text-align: right;\n",
       "    }\n",
       "</style>\n",
       "<table border=\"1\" class=\"dataframe\">\n",
       "  <thead>\n",
       "    <tr style=\"text-align: right;\">\n",
       "      <th></th>\n",
       "      <th></th>\n",
       "      <th>calls_duration</th>\n",
       "    </tr>\n",
       "    <tr>\n",
       "      <th>user_id</th>\n",
       "      <th>month</th>\n",
       "      <th></th>\n",
       "    </tr>\n",
       "  </thead>\n",
       "  <tbody>\n",
       "    <tr>\n",
       "      <th rowspan=\"5\" valign=\"top\">1000</th>\n",
       "      <th>5</th>\n",
       "      <td>159.0</td>\n",
       "    </tr>\n",
       "    <tr>\n",
       "      <th>6</th>\n",
       "      <td>172.0</td>\n",
       "    </tr>\n",
       "    <tr>\n",
       "      <th>7</th>\n",
       "      <td>340.0</td>\n",
       "    </tr>\n",
       "    <tr>\n",
       "      <th>8</th>\n",
       "      <td>408.0</td>\n",
       "    </tr>\n",
       "    <tr>\n",
       "      <th>9</th>\n",
       "      <td>466.0</td>\n",
       "    </tr>\n",
       "    <tr>\n",
       "      <th>...</th>\n",
       "      <th>...</th>\n",
       "      <td>...</td>\n",
       "    </tr>\n",
       "    <tr>\n",
       "      <th>1498</th>\n",
       "      <th>10</th>\n",
       "      <td>247.0</td>\n",
       "    </tr>\n",
       "    <tr>\n",
       "      <th rowspan=\"4\" valign=\"top\">1499</th>\n",
       "      <th>9</th>\n",
       "      <td>70.0</td>\n",
       "    </tr>\n",
       "    <tr>\n",
       "      <th>10</th>\n",
       "      <td>449.0</td>\n",
       "    </tr>\n",
       "    <tr>\n",
       "      <th>11</th>\n",
       "      <td>612.0</td>\n",
       "    </tr>\n",
       "    <tr>\n",
       "      <th>12</th>\n",
       "      <td>492.0</td>\n",
       "    </tr>\n",
       "  </tbody>\n",
       "</table>\n",
       "<p>3174 rows × 1 columns</p>\n",
       "</div>"
      ],
      "text/plain": [
       "               calls_duration\n",
       "user_id month                \n",
       "1000    5               159.0\n",
       "        6               172.0\n",
       "        7               340.0\n",
       "        8               408.0\n",
       "        9               466.0\n",
       "...                       ...\n",
       "1498    10              247.0\n",
       "1499    9                70.0\n",
       "        10              449.0\n",
       "        11              612.0\n",
       "        12              492.0\n",
       "\n",
       "[3174 rows x 1 columns]"
      ]
     },
     "execution_count": 5,
     "metadata": {},
     "output_type": "execute_result"
    }
   ],
   "source": [
    "# Звонки\n",
    "calls_per_month = calls.pivot_table(index=['user_id', 'month'], values='duration', aggfunc=['sum'])\n",
    "calls_per_month.columns=['calls_duration']\n",
    "calls_per_month"
   ]
  },
  {
   "cell_type": "code",
   "execution_count": 6,
   "metadata": {},
   "outputs": [
    {
     "data": {
      "text/html": [
       "<div>\n",
       "<style scoped>\n",
       "    .dataframe tbody tr th:only-of-type {\n",
       "        vertical-align: middle;\n",
       "    }\n",
       "\n",
       "    .dataframe tbody tr th {\n",
       "        vertical-align: top;\n",
       "    }\n",
       "\n",
       "    .dataframe thead th {\n",
       "        text-align: right;\n",
       "    }\n",
       "</style>\n",
       "<table border=\"1\" class=\"dataframe\">\n",
       "  <thead>\n",
       "    <tr style=\"text-align: right;\">\n",
       "      <th></th>\n",
       "      <th></th>\n",
       "      <th>mb_used_sum</th>\n",
       "    </tr>\n",
       "    <tr>\n",
       "      <th>user_id</th>\n",
       "      <th>month</th>\n",
       "      <th></th>\n",
       "    </tr>\n",
       "  </thead>\n",
       "  <tbody>\n",
       "    <tr>\n",
       "      <th rowspan=\"5\" valign=\"top\">1000</th>\n",
       "      <th>5</th>\n",
       "      <td>2253.49</td>\n",
       "    </tr>\n",
       "    <tr>\n",
       "      <th>6</th>\n",
       "      <td>23233.77</td>\n",
       "    </tr>\n",
       "    <tr>\n",
       "      <th>7</th>\n",
       "      <td>14003.64</td>\n",
       "    </tr>\n",
       "    <tr>\n",
       "      <th>8</th>\n",
       "      <td>14055.93</td>\n",
       "    </tr>\n",
       "    <tr>\n",
       "      <th>9</th>\n",
       "      <td>14568.91</td>\n",
       "    </tr>\n",
       "    <tr>\n",
       "      <th>...</th>\n",
       "      <th>...</th>\n",
       "      <td>...</td>\n",
       "    </tr>\n",
       "    <tr>\n",
       "      <th>1498</th>\n",
       "      <th>10</th>\n",
       "      <td>20579.36</td>\n",
       "    </tr>\n",
       "    <tr>\n",
       "      <th rowspan=\"4\" valign=\"top\">1499</th>\n",
       "      <th>9</th>\n",
       "      <td>1845.75</td>\n",
       "    </tr>\n",
       "    <tr>\n",
       "      <th>10</th>\n",
       "      <td>17788.51</td>\n",
       "    </tr>\n",
       "    <tr>\n",
       "      <th>11</th>\n",
       "      <td>17963.31</td>\n",
       "    </tr>\n",
       "    <tr>\n",
       "      <th>12</th>\n",
       "      <td>13055.58</td>\n",
       "    </tr>\n",
       "  </tbody>\n",
       "</table>\n",
       "<p>3203 rows × 1 columns</p>\n",
       "</div>"
      ],
      "text/plain": [
       "               mb_used_sum\n",
       "user_id month             \n",
       "1000    5          2253.49\n",
       "        6         23233.77\n",
       "        7         14003.64\n",
       "        8         14055.93\n",
       "        9         14568.91\n",
       "...                    ...\n",
       "1498    10        20579.36\n",
       "1499    9          1845.75\n",
       "        10        17788.51\n",
       "        11        17963.31\n",
       "        12        13055.58\n",
       "\n",
       "[3203 rows x 1 columns]"
      ]
     },
     "execution_count": 6,
     "metadata": {},
     "output_type": "execute_result"
    }
   ],
   "source": [
    "# Интеренет трафик\n",
    "mb_used_per_month = internet.pivot_table(index=['user_id', 'month'], values='mb_used', aggfunc='sum')\n",
    "mb_used_per_month.columns=['mb_used_sum']\n",
    "mb_used_per_month"
   ]
  },
  {
   "cell_type": "code",
   "execution_count": 7,
   "metadata": {},
   "outputs": [
    {
     "data": {
      "text/html": [
       "<div>\n",
       "<style scoped>\n",
       "    .dataframe tbody tr th:only-of-type {\n",
       "        vertical-align: middle;\n",
       "    }\n",
       "\n",
       "    .dataframe tbody tr th {\n",
       "        vertical-align: top;\n",
       "    }\n",
       "\n",
       "    .dataframe thead th {\n",
       "        text-align: right;\n",
       "    }\n",
       "</style>\n",
       "<table border=\"1\" class=\"dataframe\">\n",
       "  <thead>\n",
       "    <tr style=\"text-align: right;\">\n",
       "      <th></th>\n",
       "      <th></th>\n",
       "      <th>msg_count</th>\n",
       "    </tr>\n",
       "    <tr>\n",
       "      <th>user_id</th>\n",
       "      <th>month</th>\n",
       "      <th></th>\n",
       "    </tr>\n",
       "  </thead>\n",
       "  <tbody>\n",
       "    <tr>\n",
       "      <th rowspan=\"5\" valign=\"top\">1000</th>\n",
       "      <th>5</th>\n",
       "      <td>22</td>\n",
       "    </tr>\n",
       "    <tr>\n",
       "      <th>6</th>\n",
       "      <td>60</td>\n",
       "    </tr>\n",
       "    <tr>\n",
       "      <th>7</th>\n",
       "      <td>75</td>\n",
       "    </tr>\n",
       "    <tr>\n",
       "      <th>8</th>\n",
       "      <td>81</td>\n",
       "    </tr>\n",
       "    <tr>\n",
       "      <th>9</th>\n",
       "      <td>57</td>\n",
       "    </tr>\n",
       "    <tr>\n",
       "      <th>...</th>\n",
       "      <th>...</th>\n",
       "      <td>...</td>\n",
       "    </tr>\n",
       "    <tr>\n",
       "      <th>1498</th>\n",
       "      <th>10</th>\n",
       "      <td>42</td>\n",
       "    </tr>\n",
       "    <tr>\n",
       "      <th rowspan=\"4\" valign=\"top\">1499</th>\n",
       "      <th>9</th>\n",
       "      <td>11</td>\n",
       "    </tr>\n",
       "    <tr>\n",
       "      <th>10</th>\n",
       "      <td>48</td>\n",
       "    </tr>\n",
       "    <tr>\n",
       "      <th>11</th>\n",
       "      <td>59</td>\n",
       "    </tr>\n",
       "    <tr>\n",
       "      <th>12</th>\n",
       "      <td>66</td>\n",
       "    </tr>\n",
       "  </tbody>\n",
       "</table>\n",
       "<p>2717 rows × 1 columns</p>\n",
       "</div>"
      ],
      "text/plain": [
       "               msg_count\n",
       "user_id month           \n",
       "1000    5             22\n",
       "        6             60\n",
       "        7             75\n",
       "        8             81\n",
       "        9             57\n",
       "...                  ...\n",
       "1498    10            42\n",
       "1499    9             11\n",
       "        10            48\n",
       "        11            59\n",
       "        12            66\n",
       "\n",
       "[2717 rows x 1 columns]"
      ]
     },
     "execution_count": 7,
     "metadata": {},
     "output_type": "execute_result"
    }
   ],
   "source": [
    "# Сообщения\n",
    "messages_per_month = messages.pivot_table(index=['user_id', 'month'], values='message_date', aggfunc='count')\n",
    "messages_per_month.columns=['msg_count']\n",
    "messages_per_month"
   ]
  },
  {
   "cell_type": "code",
   "execution_count": 8,
   "metadata": {},
   "outputs": [
    {
     "data": {
      "text/html": [
       "<div>\n",
       "<style scoped>\n",
       "    .dataframe tbody tr th:only-of-type {\n",
       "        vertical-align: middle;\n",
       "    }\n",
       "\n",
       "    .dataframe tbody tr th {\n",
       "        vertical-align: top;\n",
       "    }\n",
       "\n",
       "    .dataframe thead th {\n",
       "        text-align: right;\n",
       "    }\n",
       "</style>\n",
       "<table border=\"1\" class=\"dataframe\">\n",
       "  <thead>\n",
       "    <tr style=\"text-align: right;\">\n",
       "      <th></th>\n",
       "      <th></th>\n",
       "      <th>calls_duration</th>\n",
       "      <th>mb_used_sum</th>\n",
       "      <th>msg_count</th>\n",
       "    </tr>\n",
       "    <tr>\n",
       "      <th>user_id</th>\n",
       "      <th>month</th>\n",
       "      <th></th>\n",
       "      <th></th>\n",
       "      <th></th>\n",
       "    </tr>\n",
       "  </thead>\n",
       "  <tbody>\n",
       "    <tr>\n",
       "      <th rowspan=\"5\" valign=\"top\">1000</th>\n",
       "      <th>5</th>\n",
       "      <td>159.0</td>\n",
       "      <td>2253.49</td>\n",
       "      <td>22.0</td>\n",
       "    </tr>\n",
       "    <tr>\n",
       "      <th>6</th>\n",
       "      <td>172.0</td>\n",
       "      <td>23233.77</td>\n",
       "      <td>60.0</td>\n",
       "    </tr>\n",
       "    <tr>\n",
       "      <th>7</th>\n",
       "      <td>340.0</td>\n",
       "      <td>14003.64</td>\n",
       "      <td>75.0</td>\n",
       "    </tr>\n",
       "    <tr>\n",
       "      <th>8</th>\n",
       "      <td>408.0</td>\n",
       "      <td>14055.93</td>\n",
       "      <td>81.0</td>\n",
       "    </tr>\n",
       "    <tr>\n",
       "      <th>9</th>\n",
       "      <td>466.0</td>\n",
       "      <td>14568.91</td>\n",
       "      <td>57.0</td>\n",
       "    </tr>\n",
       "    <tr>\n",
       "      <th>...</th>\n",
       "      <th>...</th>\n",
       "      <td>...</td>\n",
       "      <td>...</td>\n",
       "      <td>...</td>\n",
       "    </tr>\n",
       "    <tr>\n",
       "      <th rowspan=\"5\" valign=\"top\">1489</th>\n",
       "      <th>8</th>\n",
       "      <td>NaN</td>\n",
       "      <td>11050.56</td>\n",
       "      <td>17.0</td>\n",
       "    </tr>\n",
       "    <tr>\n",
       "      <th>9</th>\n",
       "      <td>NaN</td>\n",
       "      <td>17206.30</td>\n",
       "      <td>32.0</td>\n",
       "    </tr>\n",
       "    <tr>\n",
       "      <th>10</th>\n",
       "      <td>NaN</td>\n",
       "      <td>19559.44</td>\n",
       "      <td>21.0</td>\n",
       "    </tr>\n",
       "    <tr>\n",
       "      <th>11</th>\n",
       "      <td>NaN</td>\n",
       "      <td>17491.56</td>\n",
       "      <td>20.0</td>\n",
       "    </tr>\n",
       "    <tr>\n",
       "      <th>12</th>\n",
       "      <td>NaN</td>\n",
       "      <td>17322.51</td>\n",
       "      <td>35.0</td>\n",
       "    </tr>\n",
       "  </tbody>\n",
       "</table>\n",
       "<p>3214 rows × 3 columns</p>\n",
       "</div>"
      ],
      "text/plain": [
       "               calls_duration  mb_used_sum  msg_count\n",
       "user_id month                                        \n",
       "1000    5               159.0      2253.49       22.0\n",
       "        6               172.0     23233.77       60.0\n",
       "        7               340.0     14003.64       75.0\n",
       "        8               408.0     14055.93       81.0\n",
       "        9               466.0     14568.91       57.0\n",
       "...                       ...          ...        ...\n",
       "1489    8                 NaN     11050.56       17.0\n",
       "        9                 NaN     17206.30       32.0\n",
       "        10                NaN     19559.44       21.0\n",
       "        11                NaN     17491.56       20.0\n",
       "        12                NaN     17322.51       35.0\n",
       "\n",
       "[3214 rows x 3 columns]"
      ]
     },
     "execution_count": 8,
     "metadata": {},
     "output_type": "execute_result"
    }
   ],
   "source": [
    "# Обьеденим все данные в одну таблицу\n",
    "users_pivot = calls_per_month.join([mb_used_per_month, messages_per_month], how='outer')\n",
    "users_pivot"
   ]
  },
  {
   "cell_type": "code",
   "execution_count": 9,
   "metadata": {},
   "outputs": [
    {
     "data": {
      "text/plain": [
       "calls_duration     40\n",
       "mb_used_sum        11\n",
       "msg_count         497\n",
       "dtype: int64"
      ]
     },
     "execution_count": 9,
     "metadata": {},
     "output_type": "execute_result"
    }
   ],
   "source": [
    "# Смотрим пропуски появившиеся при объеденении таблиц\n",
    "users_pivot.isnull().sum()"
   ]
  },
  {
   "cell_type": "code",
   "execution_count": 10,
   "metadata": {},
   "outputs": [
    {
     "data": {
      "text/plain": [
       "calls_duration    0\n",
       "mb_used_sum       0\n",
       "msg_count         0\n",
       "dtype: int64"
      ]
     },
     "execution_count": 10,
     "metadata": {},
     "output_type": "execute_result"
    }
   ],
   "source": [
    "# Заменяем пропуски на нули\n",
    "users_pivot.fillna(0, inplace=True)\n",
    "users_pivot.isnull().sum()"
   ]
  },
  {
   "cell_type": "code",
   "execution_count": 11,
   "metadata": {},
   "outputs": [
    {
     "data": {
      "text/html": [
       "<div>\n",
       "<style scoped>\n",
       "    .dataframe tbody tr th:only-of-type {\n",
       "        vertical-align: middle;\n",
       "    }\n",
       "\n",
       "    .dataframe tbody tr th {\n",
       "        vertical-align: top;\n",
       "    }\n",
       "\n",
       "    .dataframe thead th {\n",
       "        text-align: right;\n",
       "    }\n",
       "</style>\n",
       "<table border=\"1\" class=\"dataframe\">\n",
       "  <thead>\n",
       "    <tr style=\"text-align: right;\">\n",
       "      <th></th>\n",
       "      <th></th>\n",
       "      <th>calls_duration</th>\n",
       "      <th>mb_used_sum</th>\n",
       "      <th>msg_count</th>\n",
       "      <th>tariff</th>\n",
       "    </tr>\n",
       "    <tr>\n",
       "      <th>user_id</th>\n",
       "      <th>month</th>\n",
       "      <th></th>\n",
       "      <th></th>\n",
       "      <th></th>\n",
       "      <th></th>\n",
       "    </tr>\n",
       "  </thead>\n",
       "  <tbody>\n",
       "    <tr>\n",
       "      <th rowspan=\"5\" valign=\"top\">1000</th>\n",
       "      <th>5</th>\n",
       "      <td>159.0</td>\n",
       "      <td>2253.49</td>\n",
       "      <td>22.0</td>\n",
       "      <td>ultra</td>\n",
       "    </tr>\n",
       "    <tr>\n",
       "      <th>6</th>\n",
       "      <td>172.0</td>\n",
       "      <td>23233.77</td>\n",
       "      <td>60.0</td>\n",
       "      <td>ultra</td>\n",
       "    </tr>\n",
       "    <tr>\n",
       "      <th>7</th>\n",
       "      <td>340.0</td>\n",
       "      <td>14003.64</td>\n",
       "      <td>75.0</td>\n",
       "      <td>ultra</td>\n",
       "    </tr>\n",
       "    <tr>\n",
       "      <th>8</th>\n",
       "      <td>408.0</td>\n",
       "      <td>14055.93</td>\n",
       "      <td>81.0</td>\n",
       "      <td>ultra</td>\n",
       "    </tr>\n",
       "    <tr>\n",
       "      <th>9</th>\n",
       "      <td>466.0</td>\n",
       "      <td>14568.91</td>\n",
       "      <td>57.0</td>\n",
       "      <td>ultra</td>\n",
       "    </tr>\n",
       "    <tr>\n",
       "      <th>...</th>\n",
       "      <th>...</th>\n",
       "      <td>...</td>\n",
       "      <td>...</td>\n",
       "      <td>...</td>\n",
       "      <td>...</td>\n",
       "    </tr>\n",
       "    <tr>\n",
       "      <th rowspan=\"5\" valign=\"top\">1489</th>\n",
       "      <th>8</th>\n",
       "      <td>0.0</td>\n",
       "      <td>11050.56</td>\n",
       "      <td>17.0</td>\n",
       "      <td>smart</td>\n",
       "    </tr>\n",
       "    <tr>\n",
       "      <th>9</th>\n",
       "      <td>0.0</td>\n",
       "      <td>17206.30</td>\n",
       "      <td>32.0</td>\n",
       "      <td>smart</td>\n",
       "    </tr>\n",
       "    <tr>\n",
       "      <th>10</th>\n",
       "      <td>0.0</td>\n",
       "      <td>19559.44</td>\n",
       "      <td>21.0</td>\n",
       "      <td>smart</td>\n",
       "    </tr>\n",
       "    <tr>\n",
       "      <th>11</th>\n",
       "      <td>0.0</td>\n",
       "      <td>17491.56</td>\n",
       "      <td>20.0</td>\n",
       "      <td>smart</td>\n",
       "    </tr>\n",
       "    <tr>\n",
       "      <th>12</th>\n",
       "      <td>0.0</td>\n",
       "      <td>17322.51</td>\n",
       "      <td>35.0</td>\n",
       "      <td>smart</td>\n",
       "    </tr>\n",
       "  </tbody>\n",
       "</table>\n",
       "<p>3214 rows × 4 columns</p>\n",
       "</div>"
      ],
      "text/plain": [
       "               calls_duration  mb_used_sum  msg_count tariff\n",
       "user_id month                                               \n",
       "1000    5               159.0      2253.49       22.0  ultra\n",
       "        6               172.0     23233.77       60.0  ultra\n",
       "        7               340.0     14003.64       75.0  ultra\n",
       "        8               408.0     14055.93       81.0  ultra\n",
       "        9               466.0     14568.91       57.0  ultra\n",
       "...                       ...          ...        ...    ...\n",
       "1489    8                 0.0     11050.56       17.0  smart\n",
       "        9                 0.0     17206.30       32.0  smart\n",
       "        10                0.0     19559.44       21.0  smart\n",
       "        11                0.0     17491.56       20.0  smart\n",
       "        12                0.0     17322.51       35.0  smart\n",
       "\n",
       "[3214 rows x 4 columns]"
      ]
     },
     "execution_count": 11,
     "metadata": {},
     "output_type": "execute_result"
    }
   ],
   "source": [
    "# Добавим столбец с обозначением тарифа\n",
    "users_pivot = users_pivot.join(users.loc[:,['user_id', 'tariff']].set_index('user_id'), how='outer')\n",
    "users_pivot"
   ]
  },
  {
   "cell_type": "code",
   "execution_count": 12,
   "metadata": {},
   "outputs": [
    {
     "data": {
      "text/html": [
       "<div>\n",
       "<style scoped>\n",
       "    .dataframe tbody tr th:only-of-type {\n",
       "        vertical-align: middle;\n",
       "    }\n",
       "\n",
       "    .dataframe tbody tr th {\n",
       "        vertical-align: top;\n",
       "    }\n",
       "\n",
       "    .dataframe thead th {\n",
       "        text-align: right;\n",
       "    }\n",
       "</style>\n",
       "<table border=\"1\" class=\"dataframe\">\n",
       "  <thead>\n",
       "    <tr style=\"text-align: right;\">\n",
       "      <th></th>\n",
       "      <th></th>\n",
       "      <th>calls_duration</th>\n",
       "      <th>mb_used_sum</th>\n",
       "      <th>msg_count</th>\n",
       "      <th>tariff</th>\n",
       "      <th>revenue</th>\n",
       "    </tr>\n",
       "    <tr>\n",
       "      <th>user_id</th>\n",
       "      <th>month</th>\n",
       "      <th></th>\n",
       "      <th></th>\n",
       "      <th></th>\n",
       "      <th></th>\n",
       "      <th></th>\n",
       "    </tr>\n",
       "  </thead>\n",
       "  <tbody>\n",
       "    <tr>\n",
       "      <th rowspan=\"8\" valign=\"top\">1000</th>\n",
       "      <th>5</th>\n",
       "      <td>159.0</td>\n",
       "      <td>2253.49</td>\n",
       "      <td>22.0</td>\n",
       "      <td>ultra</td>\n",
       "      <td>1950.0</td>\n",
       "    </tr>\n",
       "    <tr>\n",
       "      <th>6</th>\n",
       "      <td>172.0</td>\n",
       "      <td>23233.77</td>\n",
       "      <td>60.0</td>\n",
       "      <td>ultra</td>\n",
       "      <td>1950.0</td>\n",
       "    </tr>\n",
       "    <tr>\n",
       "      <th>7</th>\n",
       "      <td>340.0</td>\n",
       "      <td>14003.64</td>\n",
       "      <td>75.0</td>\n",
       "      <td>ultra</td>\n",
       "      <td>1950.0</td>\n",
       "    </tr>\n",
       "    <tr>\n",
       "      <th>8</th>\n",
       "      <td>408.0</td>\n",
       "      <td>14055.93</td>\n",
       "      <td>81.0</td>\n",
       "      <td>ultra</td>\n",
       "      <td>1950.0</td>\n",
       "    </tr>\n",
       "    <tr>\n",
       "      <th>9</th>\n",
       "      <td>466.0</td>\n",
       "      <td>14568.91</td>\n",
       "      <td>57.0</td>\n",
       "      <td>ultra</td>\n",
       "      <td>1950.0</td>\n",
       "    </tr>\n",
       "    <tr>\n",
       "      <th>10</th>\n",
       "      <td>350.0</td>\n",
       "      <td>14702.49</td>\n",
       "      <td>73.0</td>\n",
       "      <td>ultra</td>\n",
       "      <td>1950.0</td>\n",
       "    </tr>\n",
       "    <tr>\n",
       "      <th>11</th>\n",
       "      <td>338.0</td>\n",
       "      <td>14756.47</td>\n",
       "      <td>58.0</td>\n",
       "      <td>ultra</td>\n",
       "      <td>1950.0</td>\n",
       "    </tr>\n",
       "    <tr>\n",
       "      <th>12</th>\n",
       "      <td>333.0</td>\n",
       "      <td>9817.61</td>\n",
       "      <td>70.0</td>\n",
       "      <td>ultra</td>\n",
       "      <td>1950.0</td>\n",
       "    </tr>\n",
       "    <tr>\n",
       "      <th rowspan=\"2\" valign=\"top\">1001</th>\n",
       "      <th>11</th>\n",
       "      <td>430.0</td>\n",
       "      <td>18429.34</td>\n",
       "      <td>0.0</td>\n",
       "      <td>smart</td>\n",
       "      <td>1150.0</td>\n",
       "    </tr>\n",
       "    <tr>\n",
       "      <th>12</th>\n",
       "      <td>414.0</td>\n",
       "      <td>14036.66</td>\n",
       "      <td>0.0</td>\n",
       "      <td>smart</td>\n",
       "      <td>550.0</td>\n",
       "    </tr>\n",
       "    <tr>\n",
       "      <th rowspan=\"7\" valign=\"top\">1002</th>\n",
       "      <th>6</th>\n",
       "      <td>117.0</td>\n",
       "      <td>10856.82</td>\n",
       "      <td>4.0</td>\n",
       "      <td>smart</td>\n",
       "      <td>550.0</td>\n",
       "    </tr>\n",
       "    <tr>\n",
       "      <th>7</th>\n",
       "      <td>214.0</td>\n",
       "      <td>17580.10</td>\n",
       "      <td>11.0</td>\n",
       "      <td>smart</td>\n",
       "      <td>1150.0</td>\n",
       "    </tr>\n",
       "    <tr>\n",
       "      <th>8</th>\n",
       "      <td>289.0</td>\n",
       "      <td>20319.26</td>\n",
       "      <td>13.0</td>\n",
       "      <td>smart</td>\n",
       "      <td>1550.0</td>\n",
       "    </tr>\n",
       "    <tr>\n",
       "      <th>9</th>\n",
       "      <td>206.0</td>\n",
       "      <td>16691.08</td>\n",
       "      <td>4.0</td>\n",
       "      <td>smart</td>\n",
       "      <td>950.0</td>\n",
       "    </tr>\n",
       "    <tr>\n",
       "      <th>10</th>\n",
       "      <td>212.0</td>\n",
       "      <td>13888.25</td>\n",
       "      <td>10.0</td>\n",
       "      <td>smart</td>\n",
       "      <td>550.0</td>\n",
       "    </tr>\n",
       "    <tr>\n",
       "      <th>11</th>\n",
       "      <td>243.0</td>\n",
       "      <td>18587.28</td>\n",
       "      <td>16.0</td>\n",
       "      <td>smart</td>\n",
       "      <td>1350.0</td>\n",
       "    </tr>\n",
       "    <tr>\n",
       "      <th>12</th>\n",
       "      <td>236.0</td>\n",
       "      <td>18113.73</td>\n",
       "      <td>12.0</td>\n",
       "      <td>smart</td>\n",
       "      <td>1150.0</td>\n",
       "    </tr>\n",
       "  </tbody>\n",
       "</table>\n",
       "</div>"
      ],
      "text/plain": [
       "               calls_duration  mb_used_sum  msg_count tariff  revenue\n",
       "user_id month                                                        \n",
       "1000    5               159.0      2253.49       22.0  ultra   1950.0\n",
       "        6               172.0     23233.77       60.0  ultra   1950.0\n",
       "        7               340.0     14003.64       75.0  ultra   1950.0\n",
       "        8               408.0     14055.93       81.0  ultra   1950.0\n",
       "        9               466.0     14568.91       57.0  ultra   1950.0\n",
       "        10              350.0     14702.49       73.0  ultra   1950.0\n",
       "        11              338.0     14756.47       58.0  ultra   1950.0\n",
       "        12              333.0      9817.61       70.0  ultra   1950.0\n",
       "1001    11              430.0     18429.34        0.0  smart   1150.0\n",
       "        12              414.0     14036.66        0.0  smart    550.0\n",
       "1002    6               117.0     10856.82        4.0  smart    550.0\n",
       "        7               214.0     17580.10       11.0  smart   1150.0\n",
       "        8               289.0     20319.26       13.0  smart   1550.0\n",
       "        9               206.0     16691.08        4.0  smart    950.0\n",
       "        10              212.0     13888.25       10.0  smart    550.0\n",
       "        11              243.0     18587.28       16.0  smart   1350.0\n",
       "        12              236.0     18113.73       12.0  smart   1150.0"
      ]
     },
     "execution_count": 12,
     "metadata": {},
     "output_type": "execute_result"
    }
   ],
   "source": [
    "# Расчитаем помесячную выручку с каждого пользователя\n",
    "def det_revenue(row):\n",
    "    duration = row['calls_duration']\n",
    "    mb_used = row['mb_used_sum']\n",
    "    messages = row['msg_count']\n",
    "    tariff = row['tariff']\n",
    "    \n",
    "    if tariff == 'smart':\n",
    "        extra_duration = duration - tariffs.loc[0, 'minutes_included']\n",
    "        extra_gb = np.ceil((mb_used - tariffs.loc[0, 'mb_per_month_included'])/1024)\n",
    "        extra_messages = messages - tariffs.loc[0, 'messages_included']\n",
    "        \n",
    "        if extra_duration < 0: extra_duration = 0\n",
    "        if extra_gb < 0: extra_gb = 0\n",
    "        if extra_messages < 0: extra_messages = 0\n",
    "        \n",
    "        return (tariffs.loc[0, 'rub_per_message'] * extra_messages + \n",
    "                   tariffs.loc[0, 'rub_per_gb'] * extra_gb + \n",
    "                   tariffs.loc[0, 'rub_per_minute'] * extra_duration + \n",
    "                   tariffs.loc[0, 'rub_monthly_fee']\n",
    "                  ) \n",
    "    else:\n",
    "        extra_duration = duration - tariffs.loc[1, 'minutes_included']\n",
    "        extra_gb = np.ceil((mb_used - tariffs.loc[1, 'mb_per_month_included']) / 1024)\n",
    "        extra_messages = messages - tariffs.loc[1, 'messages_included']\n",
    "        \n",
    "        if extra_duration < 0: extra_duration = 0\n",
    "        if extra_gb < 0: extra_gb = 0\n",
    "        if extra_messages < 0: extra_messages = 0\n",
    "        \n",
    "        return (tariffs.loc[1, 'rub_per_message'] * extra_messages + \n",
    "                   tariffs.loc[1, 'rub_per_gb'] * extra_gb + \n",
    "                   tariffs.loc[1, 'rub_per_minute'] * extra_duration + \n",
    "                   tariffs.loc[1, 'rub_monthly_fee']\n",
    "                  )\n",
    "\n",
    "users_pivot['revenue'] = users_pivot.apply(det_revenue, axis=1)\n",
    "users_pivot.head(17)"
   ]
  },
  {
   "cell_type": "markdown",
   "metadata": {},
   "source": [
    "## Проанализируем данные"
   ]
  },
  {
   "cell_type": "code",
   "execution_count": 13,
   "metadata": {},
   "outputs": [
    {
     "data": {
      "text/html": [
       "<div>\n",
       "<style scoped>\n",
       "    .dataframe tbody tr th:only-of-type {\n",
       "        vertical-align: middle;\n",
       "    }\n",
       "\n",
       "    .dataframe tbody tr th {\n",
       "        vertical-align: top;\n",
       "    }\n",
       "\n",
       "    .dataframe thead th {\n",
       "        text-align: right;\n",
       "    }\n",
       "</style>\n",
       "<table border=\"1\" class=\"dataframe\">\n",
       "  <thead>\n",
       "    <tr style=\"text-align: right;\">\n",
       "      <th></th>\n",
       "      <th>calls_duration</th>\n",
       "      <th>mb_used_sum</th>\n",
       "      <th>msg_count</th>\n",
       "      <th>tariff</th>\n",
       "    </tr>\n",
       "    <tr>\n",
       "      <th>user_id</th>\n",
       "      <th></th>\n",
       "      <th></th>\n",
       "      <th></th>\n",
       "      <th></th>\n",
       "    </tr>\n",
       "  </thead>\n",
       "  <tbody>\n",
       "    <tr>\n",
       "      <th>1000</th>\n",
       "      <td>339.0</td>\n",
       "      <td>14312.420</td>\n",
       "      <td>65.0</td>\n",
       "      <td>ultra</td>\n",
       "    </tr>\n",
       "    <tr>\n",
       "      <th>1001</th>\n",
       "      <td>422.0</td>\n",
       "      <td>16233.000</td>\n",
       "      <td>0.0</td>\n",
       "      <td>smart</td>\n",
       "    </tr>\n",
       "    <tr>\n",
       "      <th>1002</th>\n",
       "      <td>214.0</td>\n",
       "      <td>17580.100</td>\n",
       "      <td>11.0</td>\n",
       "      <td>smart</td>\n",
       "    </tr>\n",
       "    <tr>\n",
       "      <th>1003</th>\n",
       "      <td>824.0</td>\n",
       "      <td>11356.890</td>\n",
       "      <td>83.0</td>\n",
       "      <td>ultra</td>\n",
       "    </tr>\n",
       "    <tr>\n",
       "      <th>1004</th>\n",
       "      <td>132.5</td>\n",
       "      <td>17810.530</td>\n",
       "      <td>154.5</td>\n",
       "      <td>ultra</td>\n",
       "    </tr>\n",
       "    <tr>\n",
       "      <th>...</th>\n",
       "      <td>...</td>\n",
       "      <td>...</td>\n",
       "      <td>...</td>\n",
       "      <td>...</td>\n",
       "    </tr>\n",
       "    <tr>\n",
       "      <th>1495</th>\n",
       "      <td>954.0</td>\n",
       "      <td>29363.000</td>\n",
       "      <td>82.0</td>\n",
       "      <td>ultra</td>\n",
       "    </tr>\n",
       "    <tr>\n",
       "      <th>1496</th>\n",
       "      <td>524.0</td>\n",
       "      <td>24037.255</td>\n",
       "      <td>41.5</td>\n",
       "      <td>smart</td>\n",
       "    </tr>\n",
       "    <tr>\n",
       "      <th>1497</th>\n",
       "      <td>490.0</td>\n",
       "      <td>14156.080</td>\n",
       "      <td>17.0</td>\n",
       "      <td>smart</td>\n",
       "    </tr>\n",
       "    <tr>\n",
       "      <th>1498</th>\n",
       "      <td>323.5</td>\n",
       "      <td>21356.885</td>\n",
       "      <td>43.0</td>\n",
       "      <td>smart</td>\n",
       "    </tr>\n",
       "    <tr>\n",
       "      <th>1499</th>\n",
       "      <td>470.5</td>\n",
       "      <td>15422.045</td>\n",
       "      <td>53.5</td>\n",
       "      <td>smart</td>\n",
       "    </tr>\n",
       "  </tbody>\n",
       "</table>\n",
       "<p>500 rows × 4 columns</p>\n",
       "</div>"
      ],
      "text/plain": [
       "         calls_duration  mb_used_sum  msg_count tariff\n",
       "user_id                                               \n",
       "1000              339.0    14312.420       65.0  ultra\n",
       "1001              422.0    16233.000        0.0  smart\n",
       "1002              214.0    17580.100       11.0  smart\n",
       "1003              824.0    11356.890       83.0  ultra\n",
       "1004              132.5    17810.530      154.5  ultra\n",
       "...                 ...          ...        ...    ...\n",
       "1495              954.0    29363.000       82.0  ultra\n",
       "1496              524.0    24037.255       41.5  smart\n",
       "1497              490.0    14156.080       17.0  smart\n",
       "1498              323.5    21356.885       43.0  smart\n",
       "1499              470.5    15422.045       53.5  smart\n",
       "\n",
       "[500 rows x 4 columns]"
      ]
     },
     "execution_count": 13,
     "metadata": {},
     "output_type": "execute_result"
    }
   ],
   "source": [
    "# Выясним сколько минут разговора, сколько сообщений и какой объём интернет-трафика требуется пользователям \n",
    "# каждого тарифа в месяц. Используем медиану.\n",
    "medians_per_month = users_pivot.pivot_table(index='user_id', \n",
    "                        values=['calls_duration', 'mb_used_sum', 'msg_count'], \n",
    "                        aggfunc='median')\n",
    "\n",
    "medians_per_month = medians_per_month.join(users.loc[:,['user_id', 'tariff']].set_index('user_id'), how='outer')\n",
    "\n",
    "medians_per_month.fillna(0, inplace=True)\n",
    "medians_per_month"
   ]
  },
  {
   "cell_type": "markdown",
   "metadata": {},
   "source": [
    "Как видно, пользователи по разному пользуются услугами: кто-то за месяц не отправляет ни одного сообщения, а кто-то проговаривает 900 минут. \n",
    "Так же нашлись 2 пользователя, которые подключили тарифы, не пользовались услугами и отключили тариф через 5-7 дней."
   ]
  },
  {
   "cell_type": "code",
   "execution_count": 14,
   "metadata": {},
   "outputs": [
    {
     "data": {
      "text/html": [
       "<div>\n",
       "<style scoped>\n",
       "    .dataframe tbody tr th:only-of-type {\n",
       "        vertical-align: middle;\n",
       "    }\n",
       "\n",
       "    .dataframe tbody tr th {\n",
       "        vertical-align: top;\n",
       "    }\n",
       "\n",
       "    .dataframe thead tr th {\n",
       "        text-align: left;\n",
       "    }\n",
       "\n",
       "    .dataframe thead tr:last-of-type th {\n",
       "        text-align: right;\n",
       "    }\n",
       "</style>\n",
       "<table border=\"1\" class=\"dataframe\">\n",
       "  <thead>\n",
       "    <tr>\n",
       "      <th></th>\n",
       "      <th colspan=\"3\" halign=\"left\">calls_duration</th>\n",
       "      <th colspan=\"3\" halign=\"left\">mb_used_sum</th>\n",
       "      <th colspan=\"3\" halign=\"left\">msg_count</th>\n",
       "    </tr>\n",
       "    <tr>\n",
       "      <th></th>\n",
       "      <th>mean</th>\n",
       "      <th>std</th>\n",
       "      <th>var</th>\n",
       "      <th>mean</th>\n",
       "      <th>std</th>\n",
       "      <th>var</th>\n",
       "      <th>mean</th>\n",
       "      <th>std</th>\n",
       "      <th>var</th>\n",
       "    </tr>\n",
       "    <tr>\n",
       "      <th>tariff</th>\n",
       "      <th></th>\n",
       "      <th></th>\n",
       "      <th></th>\n",
       "      <th></th>\n",
       "      <th></th>\n",
       "      <th></th>\n",
       "      <th></th>\n",
       "      <th></th>\n",
       "      <th></th>\n",
       "    </tr>\n",
       "  </thead>\n",
       "  <tbody>\n",
       "    <tr>\n",
       "      <th>smart</th>\n",
       "      <td>417.9</td>\n",
       "      <td>190.3</td>\n",
       "      <td>36219.3</td>\n",
       "      <td>16208.4</td>\n",
       "      <td>5870.5</td>\n",
       "      <td>34462496.5</td>\n",
       "      <td>33.4</td>\n",
       "      <td>28.2</td>\n",
       "      <td>796.8</td>\n",
       "    </tr>\n",
       "    <tr>\n",
       "      <th>ultra</th>\n",
       "      <td>526.6</td>\n",
       "      <td>317.6</td>\n",
       "      <td>100873.6</td>\n",
       "      <td>19468.8</td>\n",
       "      <td>10087.2</td>\n",
       "      <td>101751013.8</td>\n",
       "      <td>49.4</td>\n",
       "      <td>47.8</td>\n",
       "      <td>2285.3</td>\n",
       "    </tr>\n",
       "  </tbody>\n",
       "</table>\n",
       "</div>"
      ],
      "text/plain": [
       "       calls_duration                  mb_used_sum                        \\\n",
       "                 mean    std       var        mean      std          var   \n",
       "tariff                                                                     \n",
       "smart           417.9  190.3   36219.3     16208.4   5870.5   34462496.5   \n",
       "ultra           526.6  317.6  100873.6     19468.8  10087.2  101751013.8   \n",
       "\n",
       "       msg_count                \n",
       "            mean   std     var  \n",
       "tariff                          \n",
       "smart       33.4  28.2   796.8  \n",
       "ultra       49.4  47.8  2285.3  "
      ]
     },
     "execution_count": 14,
     "metadata": {},
     "output_type": "execute_result"
    }
   ],
   "source": [
    "# Посчитаем среднее количество, дисперсию и стандартное отклонение\n",
    "statistics = users_pivot.pivot_table(index=['tariff'], values=['calls_duration', 'mb_used_sum', 'msg_count'], \n",
    "                    aggfunc={'calls_duration': [np.mean, np.var, np.std], \n",
    "                             'mb_used_sum': [np.mean, np.var, np.std], \n",
    "                             'msg_count': [np.mean, np.var, np.std]})\n",
    "statistics.round(1)"
   ]
  },
  {
   "cell_type": "markdown",
   "metadata": {},
   "source": [
    "Из показателей можно сделать следующие выводы:\n",
    "\n",
    "- В среднем пользователь смарт проговаривает 418 минут в месяц, а пользователь ультра - 526 минут.\n",
    "- В среднем пользователь смарт использует 15.8 гб. трафика, а пользователь тарифа ультра - 19 гб.\n",
    "- В среднем пользователь смарт отправляет 33 сообщения, а пользователь тарифа ультра - 49.\n",
    "- Дисперсии тарифа ультра больше, чем у тарифа смарт, это говорит нам о большем размахе значений.\n",
    "\n",
    "В целом пользователи тарифа \"Ультра\" пользуются услугами оператора более свободно, они больше разговаривают, больше проводят времени в интернете, отправляют больше сообщений, при этом среднестатистический пользователь не превышает тарифные лимиты. С другой стороны среднестатистическому пользователю тарифа \"Смарт\" приходится докупать 1 гб. трафика сверх лимита."
   ]
  },
  {
   "cell_type": "code",
   "execution_count": 15,
   "metadata": {},
   "outputs": [
    {
     "data": {
      "image/png": "[encoded data removed]",
      "text/plain": [
       "<Figure size 360x360 with 1 Axes>"
      ]
     },
     "metadata": {
      "needs_background": "light"
     },
     "output_type": "display_data"
    },
    {
     "data": {
      "image/png": "[encoded data removed]",
      "text/plain": [
       "<Figure size 360x360 with 1 Axes>"
      ]
     },
     "metadata": {
      "needs_background": "light"
     },
     "output_type": "display_data"
    },
    {
     "data": {
      "image/png": "[encoded data removed]",
      "text/plain": [
       "<Figure size 360x360 with 1 Axes>"
      ]
     },
     "metadata": {
      "needs_background": "light"
     },
     "output_type": "display_data"
    }
   ],
   "source": [
    "# Построим боксплоты\n",
    "for column in ['calls_duration', 'mb_used_sum', 'msg_count']:\n",
    "    sns.catplot(data=users_pivot, x='tariff', y=column, kind='box')\n",
    "    plt.title(column, fontsize=15)"
   ]
  },
  {
   "cell_type": "markdown",
   "metadata": {},
   "source": [
    "Минуты разговора, объем потраченного интернет-трафика и число сообщений по тарифу «Ультра» имеет больший размах по сравнению с тарифом «Смарт», и медианы по вышеперечисленным признакам также смещены в большую сторону. Кроме того, выбросов в рамках более дешевого тарифа существенно больше."
   ]
  },
  {
   "cell_type": "code",
   "execution_count": 16,
   "metadata": {},
   "outputs": [
    {
     "data": {
      "image/png": "[encoded data removed]",
      "text/plain": [
       "<Figure size 432x288 with 1 Axes>"
      ]
     },
     "metadata": {
      "needs_background": "light"
     },
     "output_type": "display_data"
    }
   ],
   "source": [
    "# Посторим гистограммы\n",
    "for tariff in ['ultra', 'smart']:\n",
    "    sns.distplot(users_pivot.query('tariff == @tariff')['calls_duration'], kde=True, bins=20)\n",
    "\n",
    "plt.xlim(0,1500)\n",
    "plt.title('Распределение минут разговора тарифов \"smart\" и \"ultra\"')\n",
    "plt.xlabel('Продолжительность разговора в минутах')\n",
    "plt.ylabel('Плотность')\n",
    "plt.legend(['ultra', 'smart'])\n",
    "plt.show()"
   ]
  },
  {
   "cell_type": "code",
   "execution_count": 17,
   "metadata": {},
   "outputs": [
    {
     "data": {
      "image/png": "[encoded data removed]",
      "text/plain": [
       "<Figure size 432x288 with 1 Axes>"
      ]
     },
     "metadata": {
      "needs_background": "light"
     },
     "output_type": "display_data"
    }
   ],
   "source": [
    "for tariff in ['ultra', 'smart']:\n",
    "    sns.distplot(users_pivot.query('tariff == @tariff')['mb_used_sum'], kde=True, bins=20)\n",
    "\n",
    "plt.xlim(0,50000)\n",
    "plt.title('Распределение израсходованного интернет-трафика тарифов \"smart\" и \"ultra\"')\n",
    "plt.xlabel('Количество израсходованного траффика, мб')\n",
    "plt.ylabel('Плотность')\n",
    "plt.legend(['ultra', 'smart'])\n",
    "plt.show()"
   ]
  },
  {
   "cell_type": "code",
   "execution_count": 18,
   "metadata": {},
   "outputs": [
    {
     "data": {
      "image/png": "[encoded data removed]",
      "text/plain": [
       "<Figure size 432x288 with 1 Axes>"
      ]
     },
     "metadata": {
      "needs_background": "light"
     },
     "output_type": "display_data"
    }
   ],
   "source": [
    "for tariff in ['ultra', 'smart']:\n",
    "    sns.distplot(users_pivot.query('tariff == @tariff')['msg_count'], kde=True, bins=20)\n",
    "    \n",
    "plt.xlim(0,200)\n",
    "plt.title('Распределение отправленных сообщений тарифов \"smart\" и \"ultra\"')\n",
    "plt.xlabel('Количество отправленных сообщений')\n",
    "plt.ylabel('Плотность')\n",
    "plt.legend(['ultra', 'smart'])\n",
    "plt.show()"
   ]
  },
  {
   "cell_type": "markdown",
   "metadata": {},
   "source": [
    "Гистограмма распределения количества отправленных сообщений имеет ярко выраженный скос вправо. А так же своеобразный пик около нуля, который говорит нам о том, что многие пользователи практичести не используют смс-сообщения."
   ]
  },
  {
   "cell_type": "markdown",
   "metadata": {},
   "source": [
    "По гистограммам наглядно видно, что дисперсия по тарифу \"Смарт\" меньше, чем у пользователей с тарифом \"Ультра\" по всем показателям: по длительности разговора, использованному интернет-трафику и числу сообщений.\n",
    "\n",
    "Другими словами, поведение пользователей тарифа \"Ультра\" более разнообразное. Пользователи дорогого тарифа более свободны в выборе того, как именно использовать объемы тарифного пакета: возможно, использование дорогого тарифа помогает им не думать о том, что в какой-то момент у них отключится интернет или закончится пакет по минутам разговора."
   ]
  },
  {
   "cell_type": "code",
   "execution_count": 19,
   "metadata": {},
   "outputs": [
    {
     "data": {
      "text/html": [
       "<div>\n",
       "<style scoped>\n",
       "    .dataframe tbody tr th:only-of-type {\n",
       "        vertical-align: middle;\n",
       "    }\n",
       "\n",
       "    .dataframe tbody tr th {\n",
       "        vertical-align: top;\n",
       "    }\n",
       "\n",
       "    .dataframe thead th {\n",
       "        text-align: right;\n",
       "    }\n",
       "</style>\n",
       "<table border=\"1\" class=\"dataframe\">\n",
       "  <thead>\n",
       "    <tr style=\"text-align: right;\">\n",
       "      <th></th>\n",
       "      <th>revenue</th>\n",
       "    </tr>\n",
       "    <tr>\n",
       "      <th>tariff</th>\n",
       "      <th></th>\n",
       "    </tr>\n",
       "  </thead>\n",
       "  <tbody>\n",
       "    <tr>\n",
       "      <th>smart</th>\n",
       "      <td>2875351.0</td>\n",
       "    </tr>\n",
       "    <tr>\n",
       "      <th>ultra</th>\n",
       "      <td>2039100.0</td>\n",
       "    </tr>\n",
       "  </tbody>\n",
       "</table>\n",
       "</div>"
      ],
      "text/plain": [
       "          revenue\n",
       "tariff           \n",
       "smart   2875351.0\n",
       "ultra   2039100.0"
      ]
     },
     "execution_count": 19,
     "metadata": {},
     "output_type": "execute_result"
    }
   ],
   "source": [
    "# Посчитаем, какую прибыль принесли пользователи тарифов компании:\n",
    "users_pivot.pivot_table(index='tariff', values='revenue', aggfunc='sum')"
   ]
  },
  {
   "cell_type": "markdown",
   "metadata": {},
   "source": [
    "Тариф \"Смарт\" принес компании в 2018 году прибыль в 2,88 млн. руб, в то время как тариф \"Ультра\" - 2,04. Однако не стоит делать поспешных выводов, о том что тариф смарт выгоднее для компании, стоит вспомнить, что пользователей тарифа \"Смарт\" - 351 человек, а \"Ультра\" имеет всего 149 пользователей."
   ]
  },
  {
   "cell_type": "markdown",
   "metadata": {},
   "source": [
    "## Проверка гипотез"
   ]
  },
  {
   "cell_type": "markdown",
   "metadata": {},
   "source": [
    "### Средняя выручка пользователей тарифов «Ультра» и «Смарт» различается\n",
    "H0 - средняя выручка пользователей тарифа «Ультра» равна средней выручке пользователей тарифа «Смарт».\n",
    "\n",
    "H1 - средняя выручка пользователей тарифов «Ультра» и «Смарт» различаются."
   ]
  },
  {
   "cell_type": "code",
   "execution_count": 20,
   "metadata": {},
   "outputs": [
    {
     "name": "stdout",
     "output_type": "stream",
     "text": [
      "p-значение: 4.2606313931076085e-250\n",
      "Отвергаем нулевую гипотезу\n"
     ]
    }
   ],
   "source": [
    "ultra = users_pivot.query('tariff == \"ultra\"')['revenue']\n",
    "smart = users_pivot.query('tariff == \"smart\"')['revenue']\n",
    "\n",
    "alpha = 0.01\n",
    "\n",
    "results = st.ttest_ind(\n",
    "    ultra, \n",
    "    smart, \n",
    "    equal_var=False)\n",
    "\n",
    "print('p-значение:', results.pvalue)\n",
    "\n",
    "if (results.pvalue < alpha):\n",
    "    print(\"Отвергаем нулевую гипотезу\")\n",
    "else:\n",
    "    print(\"Не получилось отвергнуть нулевую гипотезу\")"
   ]
  },
  {
   "cell_type": "markdown",
   "metadata": {},
   "source": [
    "А значит сформулированная нами альтернативная гипотеза о том, что средние наших выборок отличаются, не отвергается!"
   ]
  },
  {
   "cell_type": "code",
   "execution_count": 21,
   "metadata": {},
   "outputs": [
    {
     "data": {
      "text/html": [
       "<div>\n",
       "<style scoped>\n",
       "    .dataframe tbody tr th:only-of-type {\n",
       "        vertical-align: middle;\n",
       "    }\n",
       "\n",
       "    .dataframe tbody tr th {\n",
       "        vertical-align: top;\n",
       "    }\n",
       "\n",
       "    .dataframe thead th {\n",
       "        text-align: right;\n",
       "    }\n",
       "</style>\n",
       "<table border=\"1\" class=\"dataframe\">\n",
       "  <thead>\n",
       "    <tr style=\"text-align: right;\">\n",
       "      <th></th>\n",
       "      <th>revenue</th>\n",
       "    </tr>\n",
       "    <tr>\n",
       "      <th>tariff</th>\n",
       "      <th></th>\n",
       "    </tr>\n",
       "  </thead>\n",
       "  <tbody>\n",
       "    <tr>\n",
       "      <th>smart</th>\n",
       "      <td>1289.973531</td>\n",
       "    </tr>\n",
       "    <tr>\n",
       "      <th>ultra</th>\n",
       "      <td>2070.152284</td>\n",
       "    </tr>\n",
       "  </tbody>\n",
       "</table>\n",
       "</div>"
      ],
      "text/plain": [
       "            revenue\n",
       "tariff             \n",
       "smart   1289.973531\n",
       "ultra   2070.152284"
      ]
     },
     "execution_count": 21,
     "metadata": {},
     "output_type": "execute_result"
    }
   ],
   "source": [
    "users_pivot.pivot_table(index='tariff', values='revenue', aggfunc='mean')"
   ]
  },
  {
   "cell_type": "markdown",
   "metadata": {},
   "source": [
    "Действительно, из таблицы видно, что средняя выручка отличается почти в два раза.\n",
    "\n",
    "Исходя из результатов проверки гипотезы, верно утверждение, что средняя выручка пользователей тарифов «Ультра» и «Смарт» различаются."
   ]
  },
  {
   "cell_type": "markdown",
   "metadata": {},
   "source": [
    "### Cредняя выручка пользователей из Москвы отличается от выручки пользователей из других регионов."
   ]
  },
  {
   "cell_type": "markdown",
   "metadata": {},
   "source": [
    "H0  — средняя выручка пользователей из Москвы равна средней выручке пользователей из других регионов.\n",
    "\n",
    "H1  — средняя выручка пользователей из Москвы отличается от средней выручке пользователей из других регионов."
   ]
  },
  {
   "cell_type": "code",
   "execution_count": 22,
   "metadata": {},
   "outputs": [
    {
     "data": {
      "text/html": [
       "<div>\n",
       "<style scoped>\n",
       "    .dataframe tbody tr th:only-of-type {\n",
       "        vertical-align: middle;\n",
       "    }\n",
       "\n",
       "    .dataframe tbody tr th {\n",
       "        vertical-align: top;\n",
       "    }\n",
       "\n",
       "    .dataframe thead th {\n",
       "        text-align: right;\n",
       "    }\n",
       "</style>\n",
       "<table border=\"1\" class=\"dataframe\">\n",
       "  <thead>\n",
       "    <tr style=\"text-align: right;\">\n",
       "      <th></th>\n",
       "      <th></th>\n",
       "      <th>calls_duration</th>\n",
       "      <th>mb_used_sum</th>\n",
       "      <th>msg_count</th>\n",
       "      <th>tariff</th>\n",
       "      <th>revenue</th>\n",
       "      <th>city</th>\n",
       "    </tr>\n",
       "    <tr>\n",
       "      <th>user_id</th>\n",
       "      <th>month</th>\n",
       "      <th></th>\n",
       "      <th></th>\n",
       "      <th></th>\n",
       "      <th></th>\n",
       "      <th></th>\n",
       "      <th></th>\n",
       "    </tr>\n",
       "  </thead>\n",
       "  <tbody>\n",
       "    <tr>\n",
       "      <th rowspan=\"8\" valign=\"top\">1000</th>\n",
       "      <th>5</th>\n",
       "      <td>159.0</td>\n",
       "      <td>2253.49</td>\n",
       "      <td>22.0</td>\n",
       "      <td>ultra</td>\n",
       "      <td>1950.0</td>\n",
       "      <td>Краснодар</td>\n",
       "    </tr>\n",
       "    <tr>\n",
       "      <th>6</th>\n",
       "      <td>172.0</td>\n",
       "      <td>23233.77</td>\n",
       "      <td>60.0</td>\n",
       "      <td>ultra</td>\n",
       "      <td>1950.0</td>\n",
       "      <td>Краснодар</td>\n",
       "    </tr>\n",
       "    <tr>\n",
       "      <th>7</th>\n",
       "      <td>340.0</td>\n",
       "      <td>14003.64</td>\n",
       "      <td>75.0</td>\n",
       "      <td>ultra</td>\n",
       "      <td>1950.0</td>\n",
       "      <td>Краснодар</td>\n",
       "    </tr>\n",
       "    <tr>\n",
       "      <th>8</th>\n",
       "      <td>408.0</td>\n",
       "      <td>14055.93</td>\n",
       "      <td>81.0</td>\n",
       "      <td>ultra</td>\n",
       "      <td>1950.0</td>\n",
       "      <td>Краснодар</td>\n",
       "    </tr>\n",
       "    <tr>\n",
       "      <th>9</th>\n",
       "      <td>466.0</td>\n",
       "      <td>14568.91</td>\n",
       "      <td>57.0</td>\n",
       "      <td>ultra</td>\n",
       "      <td>1950.0</td>\n",
       "      <td>Краснодар</td>\n",
       "    </tr>\n",
       "    <tr>\n",
       "      <th>10</th>\n",
       "      <td>350.0</td>\n",
       "      <td>14702.49</td>\n",
       "      <td>73.0</td>\n",
       "      <td>ultra</td>\n",
       "      <td>1950.0</td>\n",
       "      <td>Краснодар</td>\n",
       "    </tr>\n",
       "    <tr>\n",
       "      <th>11</th>\n",
       "      <td>338.0</td>\n",
       "      <td>14756.47</td>\n",
       "      <td>58.0</td>\n",
       "      <td>ultra</td>\n",
       "      <td>1950.0</td>\n",
       "      <td>Краснодар</td>\n",
       "    </tr>\n",
       "    <tr>\n",
       "      <th>12</th>\n",
       "      <td>333.0</td>\n",
       "      <td>9817.61</td>\n",
       "      <td>70.0</td>\n",
       "      <td>ultra</td>\n",
       "      <td>1950.0</td>\n",
       "      <td>Краснодар</td>\n",
       "    </tr>\n",
       "    <tr>\n",
       "      <th rowspan=\"2\" valign=\"top\">1001</th>\n",
       "      <th>11</th>\n",
       "      <td>430.0</td>\n",
       "      <td>18429.34</td>\n",
       "      <td>0.0</td>\n",
       "      <td>smart</td>\n",
       "      <td>1150.0</td>\n",
       "      <td>Москва</td>\n",
       "    </tr>\n",
       "    <tr>\n",
       "      <th>12</th>\n",
       "      <td>414.0</td>\n",
       "      <td>14036.66</td>\n",
       "      <td>0.0</td>\n",
       "      <td>smart</td>\n",
       "      <td>550.0</td>\n",
       "      <td>Москва</td>\n",
       "    </tr>\n",
       "    <tr>\n",
       "      <th rowspan=\"7\" valign=\"top\">1002</th>\n",
       "      <th>6</th>\n",
       "      <td>117.0</td>\n",
       "      <td>10856.82</td>\n",
       "      <td>4.0</td>\n",
       "      <td>smart</td>\n",
       "      <td>550.0</td>\n",
       "      <td>Стерлитамак</td>\n",
       "    </tr>\n",
       "    <tr>\n",
       "      <th>7</th>\n",
       "      <td>214.0</td>\n",
       "      <td>17580.10</td>\n",
       "      <td>11.0</td>\n",
       "      <td>smart</td>\n",
       "      <td>1150.0</td>\n",
       "      <td>Стерлитамак</td>\n",
       "    </tr>\n",
       "    <tr>\n",
       "      <th>8</th>\n",
       "      <td>289.0</td>\n",
       "      <td>20319.26</td>\n",
       "      <td>13.0</td>\n",
       "      <td>smart</td>\n",
       "      <td>1550.0</td>\n",
       "      <td>Стерлитамак</td>\n",
       "    </tr>\n",
       "    <tr>\n",
       "      <th>9</th>\n",
       "      <td>206.0</td>\n",
       "      <td>16691.08</td>\n",
       "      <td>4.0</td>\n",
       "      <td>smart</td>\n",
       "      <td>950.0</td>\n",
       "      <td>Стерлитамак</td>\n",
       "    </tr>\n",
       "    <tr>\n",
       "      <th>10</th>\n",
       "      <td>212.0</td>\n",
       "      <td>13888.25</td>\n",
       "      <td>10.0</td>\n",
       "      <td>smart</td>\n",
       "      <td>550.0</td>\n",
       "      <td>Стерлитамак</td>\n",
       "    </tr>\n",
       "    <tr>\n",
       "      <th>11</th>\n",
       "      <td>243.0</td>\n",
       "      <td>18587.28</td>\n",
       "      <td>16.0</td>\n",
       "      <td>smart</td>\n",
       "      <td>1350.0</td>\n",
       "      <td>Стерлитамак</td>\n",
       "    </tr>\n",
       "    <tr>\n",
       "      <th>12</th>\n",
       "      <td>236.0</td>\n",
       "      <td>18113.73</td>\n",
       "      <td>12.0</td>\n",
       "      <td>smart</td>\n",
       "      <td>1150.0</td>\n",
       "      <td>Стерлитамак</td>\n",
       "    </tr>\n",
       "  </tbody>\n",
       "</table>\n",
       "</div>"
      ],
      "text/plain": [
       "               calls_duration  mb_used_sum  msg_count tariff  revenue  \\\n",
       "user_id month                                                           \n",
       "1000    5               159.0      2253.49       22.0  ultra   1950.0   \n",
       "        6               172.0     23233.77       60.0  ultra   1950.0   \n",
       "        7               340.0     14003.64       75.0  ultra   1950.0   \n",
       "        8               408.0     14055.93       81.0  ultra   1950.0   \n",
       "        9               466.0     14568.91       57.0  ultra   1950.0   \n",
       "        10              350.0     14702.49       73.0  ultra   1950.0   \n",
       "        11              338.0     14756.47       58.0  ultra   1950.0   \n",
       "        12              333.0      9817.61       70.0  ultra   1950.0   \n",
       "1001    11              430.0     18429.34        0.0  smart   1150.0   \n",
       "        12              414.0     14036.66        0.0  smart    550.0   \n",
       "1002    6               117.0     10856.82        4.0  smart    550.0   \n",
       "        7               214.0     17580.10       11.0  smart   1150.0   \n",
       "        8               289.0     20319.26       13.0  smart   1550.0   \n",
       "        9               206.0     16691.08        4.0  smart    950.0   \n",
       "        10              212.0     13888.25       10.0  smart    550.0   \n",
       "        11              243.0     18587.28       16.0  smart   1350.0   \n",
       "        12              236.0     18113.73       12.0  smart   1150.0   \n",
       "\n",
       "                      city  \n",
       "user_id month               \n",
       "1000    5        Краснодар  \n",
       "        6        Краснодар  \n",
       "        7        Краснодар  \n",
       "        8        Краснодар  \n",
       "        9        Краснодар  \n",
       "        10       Краснодар  \n",
       "        11       Краснодар  \n",
       "        12       Краснодар  \n",
       "1001    11          Москва  \n",
       "        12          Москва  \n",
       "1002    6      Стерлитамак  \n",
       "        7      Стерлитамак  \n",
       "        8      Стерлитамак  \n",
       "        9      Стерлитамак  \n",
       "        10     Стерлитамак  \n",
       "        11     Стерлитамак  \n",
       "        12     Стерлитамак  "
      ]
     },
     "execution_count": 22,
     "metadata": {},
     "output_type": "execute_result"
    }
   ],
   "source": [
    "# добавим столбец с городом в сводную таблицу\n",
    "users_pivot = users_pivot.join(users.loc[:,['user_id', 'city']].set_index('user_id'), how='outer')    \n",
    "users_pivot.head(17)"
   ]
  },
  {
   "cell_type": "code",
   "execution_count": 23,
   "metadata": {},
   "outputs": [
    {
     "name": "stdout",
     "output_type": "stream",
     "text": [
      "p-значение: 0.5257376663729298\n",
      "Не получилось отвергнуть нулевую гипотезу\n"
     ]
    }
   ],
   "source": [
    "moscow = users_pivot.query('city == \"Москва\"')['revenue']\n",
    "regions = users_pivot.query('city != \"Москва\"')['revenue']\n",
    "\n",
    "alpha = 0.01\n",
    "\n",
    "results = st.ttest_ind(\n",
    "    moscow, \n",
    "    regions, \n",
    "    equal_var=False)\n",
    "\n",
    "print('p-значение:', results.pvalue)\n",
    "\n",
    "if (results.pvalue < alpha):\n",
    "    print(\"Отвергаем нулевую гипотезу\")\n",
    "else:\n",
    "    print(\"Не получилось отвергнуть нулевую гипотезу\")"
   ]
  },
  {
   "cell_type": "markdown",
   "metadata": {},
   "source": [
    "В данном случае нам не удалось отвергнуть нулевую гипотезу."
   ]
  },
  {
   "cell_type": "code",
   "execution_count": 24,
   "metadata": {},
   "outputs": [
    {
     "data": {
      "text/html": [
       "<div>\n",
       "<style scoped>\n",
       "    .dataframe tbody tr th:only-of-type {\n",
       "        vertical-align: middle;\n",
       "    }\n",
       "\n",
       "    .dataframe tbody tr th {\n",
       "        vertical-align: top;\n",
       "    }\n",
       "\n",
       "    .dataframe thead th {\n",
       "        text-align: right;\n",
       "    }\n",
       "</style>\n",
       "<table border=\"1\" class=\"dataframe\">\n",
       "  <thead>\n",
       "    <tr style=\"text-align: right;\">\n",
       "      <th></th>\n",
       "      <th>revenue</th>\n",
       "    </tr>\n",
       "    <tr>\n",
       "      <th>city</th>\n",
       "      <th></th>\n",
       "    </tr>\n",
       "  </thead>\n",
       "  <tbody>\n",
       "    <tr>\n",
       "      <th>Другой город</th>\n",
       "      <td>1524.936227</td>\n",
       "    </tr>\n",
       "    <tr>\n",
       "      <th>Москва</th>\n",
       "      <td>1546.713584</td>\n",
       "    </tr>\n",
       "  </tbody>\n",
       "</table>\n",
       "</div>"
      ],
      "text/plain": [
       "                  revenue\n",
       "city                     \n",
       "Другой город  1524.936227\n",
       "Москва        1546.713584"
      ]
     },
     "execution_count": 24,
     "metadata": {},
     "output_type": "execute_result"
    }
   ],
   "source": [
    "# Посчитаем средние выручки для москвы и других регионов\n",
    "cities = users_pivot.copy()\n",
    "cities.loc[cities.loc[:,'city'] != 'Москва', 'city'] = 'Другой город'\n",
    "cities.pivot_table(index='city', values='revenue', aggfunc='mean')"
   ]
  },
  {
   "cell_type": "markdown",
   "metadata": {},
   "source": [
    "Данный статистический тест не дал возможности опровергунть исходную гипотезу о том, что доходы от пользователей из Москвы и из других регионов равны. Действительно, доходы в Московском регионе практически не отличаются от других населенных пунктов."
   ]
  },
  {
   "cell_type": "markdown",
   "metadata": {},
   "source": [
    "## Общий вывод"
   ]
  },
  {
   "cell_type": "markdown",
   "metadata": {},
   "source": [
    "Хотя пользователи тарифа \"Смарт\" приносят на данный момент больше прибыли - 2.88 млн. руб. за 2018 год, в сравнении с тарифом \"Ультра\", доход от которого составил 2.04 млн. руб., средняя выручка от тарифа \"Ультра\" больше и составляет 2070 руб, против 1290 руб., которые показывает тариф \"Смарт\". \n",
    "\n",
    "Пользователи тарифа \"Ультра\" как правило не выходят за рамки лимитов, однако платят полную стоимость тарифа, в отличии от пользователей тарифа \"Смарт\", которым часто приходится покупать дополнительные пакеты интернет-трафика или оплачивать минуты разговора.\n",
    "Так же видно, что многие пользователи совершенно не пользуются смс-сообщениями.\n",
    "\n",
    "Средние доходы от пользователей в Москве не отличаются от доходов в других населенных пунктах: разница статистически незначима (p-значение: 0,53) и составляет 17 руб.: 1547 руб. в Москве против 1525 руб в других населенных пунктах.\n",
    "\n",
    "Более перспективным для компании является тариф \"Ультра\", на момент исследования, он имеет намного меньше пользователей, однако средняя выручка, которую приносит тариф компании - больше. Но я бы посоветовал \"Мегалайну\" подумать и выработать промежуточное решение, которое позволяло бы клиенту более комфортно, без доп. заказов, пользоваться услугами связи. Можно рассмотреть вариант создания промежкточного тарифа, в дополнение к текущим, под названием \"Медиум\"."
   ]
  }
 ],
 "metadata": {
  "ExecuteTimeLog": [
   {
    "duration": 891,
    "start_time": "2021-11-04T17:24:34.494Z"
   },
   {
    "duration": 722,
    "start_time": "2021-11-04T17:45:24.757Z"
   },
   {
    "duration": 915,
    "start_time": "2021-11-04T17:50:14.355Z"
   },
   {
    "duration": 598,
    "start_time": "2021-11-04T17:53:09.382Z"
   },
   {
    "duration": 92,
    "start_time": "2021-11-04T18:08:39.651Z"
   },
   {
    "duration": 22,
    "start_time": "2021-11-04T18:08:53.232Z"
   },
   {
    "duration": 24,
    "start_time": "2021-11-04T18:11:15.262Z"
   },
   {
    "duration": 141,
    "start_time": "2021-11-08T07:31:51.605Z"
   },
   {
    "duration": 126,
    "start_time": "2021-11-08T07:32:13.882Z"
   },
   {
    "duration": 127,
    "start_time": "2021-11-08T07:32:42.796Z"
   },
   {
    "duration": 1680,
    "start_time": "2021-11-08T07:32:52.299Z"
   },
   {
    "duration": 579,
    "start_time": "2021-11-08T07:33:26.919Z"
   },
   {
    "duration": 101,
    "start_time": "2021-11-08T07:45:07.511Z"
   },
   {
    "duration": 69,
    "start_time": "2021-11-08T07:50:15.784Z"
   },
   {
    "duration": 109,
    "start_time": "2021-11-08T07:51:50.986Z"
   },
   {
    "duration": 100,
    "start_time": "2021-11-08T07:52:23.584Z"
   },
   {
    "duration": 97,
    "start_time": "2021-11-08T07:52:38.335Z"
   },
   {
    "duration": 94,
    "start_time": "2021-11-08T07:52:48.509Z"
   },
   {
    "duration": 95,
    "start_time": "2021-11-08T07:53:12.783Z"
   },
   {
    "duration": 96,
    "start_time": "2021-11-08T07:53:29.154Z"
   },
   {
    "duration": 97,
    "start_time": "2021-11-08T07:56:38.779Z"
   },
   {
    "duration": 88,
    "start_time": "2021-11-08T08:24:09.937Z"
   },
   {
    "duration": 103,
    "start_time": "2021-11-08T08:24:34.300Z"
   },
   {
    "duration": 105,
    "start_time": "2021-11-08T08:29:38.696Z"
   },
   {
    "duration": 101,
    "start_time": "2021-11-08T08:33:36.105Z"
   },
   {
    "duration": 18,
    "start_time": "2021-11-08T08:35:38.002Z"
   },
   {
    "duration": 1430,
    "start_time": "2021-11-08T08:44:57.036Z"
   },
   {
    "duration": 183,
    "start_time": "2021-11-08T08:44:58.468Z"
   },
   {
    "duration": 17,
    "start_time": "2021-11-08T08:44:58.653Z"
   },
   {
    "duration": 474,
    "start_time": "2021-11-08T08:45:50.401Z"
   },
   {
    "duration": 9,
    "start_time": "2021-11-08T08:45:56.499Z"
   },
   {
    "duration": 1396,
    "start_time": "2021-11-08T08:46:31.617Z"
   },
   {
    "duration": 187,
    "start_time": "2021-11-08T08:46:33.016Z"
   },
   {
    "duration": 21,
    "start_time": "2021-11-08T08:46:33.209Z"
   },
   {
    "duration": 95,
    "start_time": "2021-11-08T08:47:13.616Z"
   },
   {
    "duration": 86,
    "start_time": "2021-11-08T08:59:32.248Z"
   },
   {
    "duration": 46,
    "start_time": "2021-11-08T09:00:16.103Z"
   },
   {
    "duration": 36,
    "start_time": "2021-11-08T09:00:57.684Z"
   },
   {
    "duration": 460,
    "start_time": "2021-11-08T09:04:47.948Z"
   },
   {
    "duration": 53,
    "start_time": "2021-11-08T09:06:40.683Z"
   },
   {
    "duration": 60,
    "start_time": "2021-11-08T09:07:26.305Z"
   },
   {
    "duration": 32,
    "start_time": "2021-11-08T09:07:27.877Z"
   },
   {
    "duration": 25,
    "start_time": "2021-11-08T09:07:29.311Z"
   },
   {
    "duration": 91,
    "start_time": "2021-11-08T09:07:31.656Z"
   },
   {
    "duration": 44,
    "start_time": "2021-11-08T09:13:24.206Z"
   },
   {
    "duration": 1108,
    "start_time": "2021-11-08T09:13:41.199Z"
   },
   {
    "duration": 365,
    "start_time": "2021-11-08T09:13:45.974Z"
   },
   {
    "duration": 376,
    "start_time": "2021-11-08T09:13:52.745Z"
   },
   {
    "duration": 81,
    "start_time": "2021-11-08T09:14:21.990Z"
   },
   {
    "duration": 46,
    "start_time": "2021-11-08T09:14:33.612Z"
   },
   {
    "duration": 39,
    "start_time": "2021-11-08T09:16:15.420Z"
   },
   {
    "duration": 48,
    "start_time": "2021-11-08T09:17:47.816Z"
   },
   {
    "duration": 46,
    "start_time": "2021-11-08T09:18:12.683Z"
   },
   {
    "duration": 7,
    "start_time": "2021-11-08T09:19:08.080Z"
   },
   {
    "duration": 7,
    "start_time": "2021-11-08T09:20:40.516Z"
   },
   {
    "duration": 8,
    "start_time": "2021-11-08T09:21:45.048Z"
   },
   {
    "duration": 1440,
    "start_time": "2021-11-08T09:21:58.825Z"
   },
   {
    "duration": 197,
    "start_time": "2021-11-08T09:22:00.267Z"
   },
   {
    "duration": 17,
    "start_time": "2021-11-08T09:22:00.468Z"
   },
   {
    "duration": 88,
    "start_time": "2021-11-08T09:22:00.488Z"
   },
   {
    "duration": 31,
    "start_time": "2021-11-08T09:22:00.578Z"
   },
   {
    "duration": 31,
    "start_time": "2021-11-08T09:22:00.611Z"
   },
   {
    "duration": 53,
    "start_time": "2021-11-08T09:22:00.660Z"
   },
   {
    "duration": 7,
    "start_time": "2021-11-08T09:22:00.715Z"
   },
   {
    "duration": 38,
    "start_time": "2021-11-08T09:22:00.725Z"
   },
   {
    "duration": 8,
    "start_time": "2021-11-08T09:22:06.715Z"
   },
   {
    "duration": 8,
    "start_time": "2021-11-08T09:22:42.990Z"
   },
   {
    "duration": 15,
    "start_time": "2021-11-08T09:22:58.859Z"
   },
   {
    "duration": 1412,
    "start_time": "2021-11-08T09:32:41.209Z"
   },
   {
    "duration": 188,
    "start_time": "2021-11-08T09:32:42.624Z"
   },
   {
    "duration": 16,
    "start_time": "2021-11-08T09:32:42.815Z"
   },
   {
    "duration": 102,
    "start_time": "2021-11-08T09:32:42.834Z"
   },
   {
    "duration": 50,
    "start_time": "2021-11-08T09:32:42.938Z"
   },
   {
    "duration": 36,
    "start_time": "2021-11-08T09:32:42.990Z"
   },
   {
    "duration": 72,
    "start_time": "2021-11-08T09:32:43.028Z"
   },
   {
    "duration": 7,
    "start_time": "2021-11-08T09:32:43.102Z"
   },
   {
    "duration": 11,
    "start_time": "2021-11-08T09:32:43.111Z"
   },
   {
    "duration": 467,
    "start_time": "2021-11-08T09:35:13.762Z"
   },
   {
    "duration": 744,
    "start_time": "2021-11-08T09:36:24.529Z"
   },
   {
    "duration": 30,
    "start_time": "2021-11-08T09:36:49.306Z"
   },
   {
    "duration": 82,
    "start_time": "2021-11-08T09:39:32.206Z"
   },
   {
    "duration": 48,
    "start_time": "2021-11-08T09:42:02.545Z"
   },
   {
    "duration": 47,
    "start_time": "2021-11-08T09:42:05.329Z"
   },
   {
    "duration": 38,
    "start_time": "2021-11-08T09:42:07.014Z"
   },
   {
    "duration": 46,
    "start_time": "2021-11-08T09:42:09.013Z"
   },
   {
    "duration": 8,
    "start_time": "2021-11-08T09:42:16.063Z"
   },
   {
    "duration": 9,
    "start_time": "2021-11-08T09:42:17.993Z"
   },
   {
    "duration": 9,
    "start_time": "2021-11-08T09:46:02.100Z"
   },
   {
    "duration": 3006,
    "start_time": "2021-11-08T09:46:32.069Z"
   },
   {
    "duration": 23,
    "start_time": "2021-11-08T09:46:43.865Z"
   },
   {
    "duration": 24,
    "start_time": "2021-11-08T09:47:00.075Z"
   },
   {
    "duration": 376,
    "start_time": "2021-11-08T09:48:20.175Z"
   },
   {
    "duration": 7,
    "start_time": "2021-11-08T09:48:43.049Z"
   },
   {
    "duration": 506,
    "start_time": "2021-11-08T09:48:56.543Z"
   },
   {
    "duration": 8,
    "start_time": "2021-11-08T09:49:01.240Z"
   },
   {
    "duration": 366,
    "start_time": "2021-11-08T09:49:06.379Z"
   },
   {
    "duration": 7,
    "start_time": "2021-11-08T09:49:14.429Z"
   },
   {
    "duration": 7,
    "start_time": "2021-11-08T09:49:34.165Z"
   },
   {
    "duration": 368,
    "start_time": "2021-11-08T09:50:14.572Z"
   },
   {
    "duration": 363,
    "start_time": "2021-11-08T09:50:18.838Z"
   },
   {
    "duration": 7,
    "start_time": "2021-11-08T09:50:22.285Z"
   },
   {
    "duration": 24,
    "start_time": "2021-11-08T09:51:05.960Z"
   },
   {
    "duration": 7,
    "start_time": "2021-11-08T09:53:38.082Z"
   },
   {
    "duration": 30,
    "start_time": "2021-11-08T10:05:27.699Z"
   },
   {
    "duration": 42,
    "start_time": "2021-11-08T10:05:45.498Z"
   },
   {
    "duration": 45,
    "start_time": "2021-11-08T10:06:29.649Z"
   },
   {
    "duration": 93,
    "start_time": "2021-11-08T10:06:44.513Z"
   },
   {
    "duration": 39,
    "start_time": "2021-11-08T10:08:02.736Z"
   },
   {
    "duration": 48,
    "start_time": "2021-11-08T10:08:21.362Z"
   },
   {
    "duration": 44,
    "start_time": "2021-11-08T10:10:52.582Z"
   },
   {
    "duration": 22,
    "start_time": "2021-11-08T10:11:39.069Z"
   },
   {
    "duration": 7468,
    "start_time": "2021-11-08T10:12:19.945Z"
   },
   {
    "duration": 8,
    "start_time": "2021-11-08T10:13:23.629Z"
   },
   {
    "duration": 378,
    "start_time": "2021-11-08T10:15:08.342Z"
   },
   {
    "duration": 3125,
    "start_time": "2021-11-08T10:15:14.035Z"
   },
   {
    "duration": 5,
    "start_time": "2021-11-08T10:15:29.472Z"
   },
   {
    "duration": 409,
    "start_time": "2021-11-08T10:16:31.939Z"
   },
   {
    "duration": 383,
    "start_time": "2021-11-08T10:16:43.648Z"
   },
   {
    "duration": 5,
    "start_time": "2021-11-08T10:16:50.705Z"
   },
   {
    "duration": 353,
    "start_time": "2021-11-08T10:16:58.234Z"
   },
   {
    "duration": 5,
    "start_time": "2021-11-08T10:17:02.735Z"
   },
   {
    "duration": 417,
    "start_time": "2021-11-08T10:17:22.886Z"
   },
   {
    "duration": 5,
    "start_time": "2021-11-08T10:17:28.016Z"
   },
   {
    "duration": 7042,
    "start_time": "2021-11-08T10:18:43.171Z"
   },
   {
    "duration": 7071,
    "start_time": "2021-11-08T10:19:08.648Z"
   },
   {
    "duration": 1364,
    "start_time": "2021-11-08T10:19:19.593Z"
   },
   {
    "duration": 251,
    "start_time": "2021-11-08T10:19:20.960Z"
   },
   {
    "duration": 39,
    "start_time": "2021-11-08T10:19:21.220Z"
   },
   {
    "duration": 55,
    "start_time": "2021-11-08T10:19:21.262Z"
   },
   {
    "duration": 63,
    "start_time": "2021-11-08T10:19:21.320Z"
   },
   {
    "duration": 40,
    "start_time": "2021-11-08T10:19:21.385Z"
   },
   {
    "duration": 73,
    "start_time": "2021-11-08T10:19:21.428Z"
   },
   {
    "duration": 9,
    "start_time": "2021-11-08T10:19:21.504Z"
   },
   {
    "duration": 11,
    "start_time": "2021-11-08T10:19:21.516Z"
   },
   {
    "duration": 3331,
    "start_time": "2021-11-08T10:19:21.529Z"
   },
   {
    "duration": 8578,
    "start_time": "2021-11-08T10:19:24.863Z"
   },
   {
    "duration": -1163,
    "start_time": "2021-11-08T10:19:34.607Z"
   },
   {
    "duration": -1164,
    "start_time": "2021-11-08T10:19:34.610Z"
   },
   {
    "duration": -1164,
    "start_time": "2021-11-08T10:19:34.611Z"
   },
   {
    "duration": 7,
    "start_time": "2021-11-08T11:49:23.427Z"
   },
   {
    "duration": 6,
    "start_time": "2021-11-08T11:49:48.795Z"
   },
   {
    "duration": 6,
    "start_time": "2021-11-08T11:49:55.628Z"
   },
   {
    "duration": 1598,
    "start_time": "2021-11-08T11:51:17.470Z"
   },
   {
    "duration": 202,
    "start_time": "2021-11-08T11:51:19.071Z"
   },
   {
    "duration": 18,
    "start_time": "2021-11-08T11:51:19.276Z"
   },
   {
    "duration": 81,
    "start_time": "2021-11-08T11:51:19.297Z"
   },
   {
    "duration": 44,
    "start_time": "2021-11-08T11:51:19.380Z"
   },
   {
    "duration": 59,
    "start_time": "2021-11-08T11:51:19.426Z"
   },
   {
    "duration": 49,
    "start_time": "2021-11-08T11:51:19.487Z"
   },
   {
    "duration": 26,
    "start_time": "2021-11-08T11:51:19.539Z"
   },
   {
    "duration": 8,
    "start_time": "2021-11-08T11:51:19.567Z"
   },
   {
    "duration": 3240,
    "start_time": "2021-11-08T11:51:19.577Z"
   },
   {
    "duration": 8,
    "start_time": "2021-11-08T11:51:22.820Z"
   },
   {
    "duration": 9,
    "start_time": "2021-11-08T11:51:52.876Z"
   },
   {
    "duration": 477,
    "start_time": "2021-11-08T11:52:32.932Z"
   },
   {
    "duration": 3201,
    "start_time": "2021-11-08T11:52:49.580Z"
   },
   {
    "duration": 425,
    "start_time": "2021-11-08T11:53:25.668Z"
   },
   {
    "duration": 6,
    "start_time": "2021-11-08T11:53:38.627Z"
   },
   {
    "duration": 5,
    "start_time": "2021-11-08T11:53:45.176Z"
   },
   {
    "duration": 395,
    "start_time": "2021-11-08T11:53:50.965Z"
   },
   {
    "duration": 5,
    "start_time": "2021-11-08T11:53:56.220Z"
   },
   {
    "duration": 6,
    "start_time": "2021-11-08T11:54:27.531Z"
   },
   {
    "duration": 5,
    "start_time": "2021-11-08T11:54:31.349Z"
   },
   {
    "duration": 2998,
    "start_time": "2021-11-08T11:58:24.180Z"
   },
   {
    "duration": 13,
    "start_time": "2021-11-08T12:03:19.073Z"
   },
   {
    "duration": 10809,
    "start_time": "2021-11-08T12:10:16.675Z"
   },
   {
    "duration": 24,
    "start_time": "2021-11-08T12:11:19.125Z"
   },
   {
    "duration": 8,
    "start_time": "2021-11-08T12:11:28.998Z"
   },
   {
    "duration": 9587,
    "start_time": "2021-11-08T12:14:46.245Z"
   },
   {
    "duration": 985,
    "start_time": "2021-11-08T12:15:35.096Z"
   },
   {
    "duration": 11001,
    "start_time": "2021-11-08T12:16:32.468Z"
   },
   {
    "duration": 10493,
    "start_time": "2021-11-08T12:17:33.665Z"
   },
   {
    "duration": 10503,
    "start_time": "2021-11-08T12:18:22.471Z"
   },
   {
    "duration": 13,
    "start_time": "2021-11-08T12:18:46.880Z"
   },
   {
    "duration": 1084,
    "start_time": "2021-11-08T12:19:21.658Z"
   },
   {
    "duration": 1126,
    "start_time": "2021-11-08T12:19:52.565Z"
   },
   {
    "duration": 628,
    "start_time": "2021-11-08T12:23:52.221Z"
   },
   {
    "duration": 1033,
    "start_time": "2021-11-08T12:25:01.643Z"
   },
   {
    "duration": 9500,
    "start_time": "2021-11-08T12:25:30.510Z"
   },
   {
    "duration": 9767,
    "start_time": "2021-11-08T12:25:46.613Z"
   },
   {
    "duration": 1099,
    "start_time": "2021-11-08T12:26:01.915Z"
   },
   {
    "duration": 1034,
    "start_time": "2021-11-08T12:26:46.275Z"
   },
   {
    "duration": 13,
    "start_time": "2021-11-08T12:30:46.867Z"
   },
   {
    "duration": 14,
    "start_time": "2021-11-08T12:30:52.261Z"
   },
   {
    "duration": 404,
    "start_time": "2021-11-08T12:32:07.318Z"
   },
   {
    "duration": 24,
    "start_time": "2021-11-08T12:33:41.779Z"
   },
   {
    "duration": 20,
    "start_time": "2021-11-08T12:34:16.254Z"
   },
   {
    "duration": 327,
    "start_time": "2021-11-08T12:34:27.303Z"
   },
   {
    "duration": 17,
    "start_time": "2021-11-08T12:34:28.976Z"
   },
   {
    "duration": 366,
    "start_time": "2021-11-08T12:34:52.850Z"
   },
   {
    "duration": 132,
    "start_time": "2021-11-08T12:36:23.489Z"
   },
   {
    "duration": 10088,
    "start_time": "2021-11-08T12:36:28.704Z"
   },
   {
    "duration": 11772,
    "start_time": "2021-11-08T12:36:45.708Z"
   },
   {
    "duration": -93,
    "start_time": "2021-11-08T12:37:56.683Z"
   },
   {
    "duration": -101,
    "start_time": "2021-11-08T12:38:31.804Z"
   },
   {
    "duration": 356,
    "start_time": "2021-11-08T12:38:45.586Z"
   },
   {
    "duration": 346,
    "start_time": "2021-11-08T12:38:56.280Z"
   },
   {
    "duration": 409,
    "start_time": "2021-11-08T12:39:18.695Z"
   },
   {
    "duration": 360,
    "start_time": "2021-11-08T12:39:29.644Z"
   },
   {
    "duration": 367,
    "start_time": "2021-11-08T12:39:35.291Z"
   },
   {
    "duration": 536,
    "start_time": "2021-11-08T12:40:04.716Z"
   },
   {
    "duration": 10781,
    "start_time": "2021-11-08T12:40:26.686Z"
   },
   {
    "duration": 8939,
    "start_time": "2021-11-08T12:40:57.152Z"
   },
   {
    "duration": 9,
    "start_time": "2021-11-08T12:41:14.194Z"
   },
   {
    "duration": 8801,
    "start_time": "2021-11-08T12:41:50.794Z"
   },
   {
    "duration": 9208,
    "start_time": "2021-11-08T12:42:00.731Z"
   },
   {
    "duration": 8,
    "start_time": "2021-11-08T12:42:17.692Z"
   },
   {
    "duration": 407,
    "start_time": "2021-11-08T12:42:43.934Z"
   },
   {
    "duration": 9353,
    "start_time": "2021-11-08T12:42:55.518Z"
   },
   {
    "duration": 65,
    "start_time": "2021-11-08T12:43:22.965Z"
   },
   {
    "duration": 8,
    "start_time": "2021-11-08T12:43:29.455Z"
   },
   {
    "duration": 1069,
    "start_time": "2021-11-08T12:43:58.553Z"
   },
   {
    "duration": 1011,
    "start_time": "2021-11-08T12:45:08.107Z"
   },
   {
    "duration": 348,
    "start_time": "2021-11-08T12:48:24.020Z"
   },
   {
    "duration": 10461,
    "start_time": "2021-11-08T12:49:16.462Z"
   },
   {
    "duration": 9743,
    "start_time": "2021-11-08T12:49:37.959Z"
   },
   {
    "duration": 30,
    "start_time": "2021-11-08T12:51:25.098Z"
   },
   {
    "duration": 19,
    "start_time": "2021-11-08T13:01:49.156Z"
   },
   {
    "duration": 7,
    "start_time": "2021-11-08T13:02:01.204Z"
   },
   {
    "duration": 23,
    "start_time": "2021-11-08T13:02:14.754Z"
   },
   {
    "duration": 20,
    "start_time": "2021-11-08T13:02:29.096Z"
   },
   {
    "duration": 29,
    "start_time": "2021-11-08T13:02:58.691Z"
   },
   {
    "duration": 23,
    "start_time": "2021-11-08T13:03:08.635Z"
   },
   {
    "duration": 16,
    "start_time": "2021-11-08T13:04:21.932Z"
   },
   {
    "duration": 367,
    "start_time": "2021-11-08T13:05:46.529Z"
   },
   {
    "duration": 383,
    "start_time": "2021-11-08T13:06:18.631Z"
   },
   {
    "duration": 385,
    "start_time": "2021-11-08T13:06:36.015Z"
   },
   {
    "duration": 1495,
    "start_time": "2021-11-08T13:07:14.400Z"
   },
   {
    "duration": 213,
    "start_time": "2021-11-08T13:07:15.899Z"
   },
   {
    "duration": 20,
    "start_time": "2021-11-08T13:07:16.116Z"
   },
   {
    "duration": 79,
    "start_time": "2021-11-08T13:07:16.140Z"
   },
   {
    "duration": 68,
    "start_time": "2021-11-08T13:07:16.223Z"
   },
   {
    "duration": 39,
    "start_time": "2021-11-08T13:07:16.293Z"
   },
   {
    "duration": 73,
    "start_time": "2021-11-08T13:07:16.334Z"
   },
   {
    "duration": 6,
    "start_time": "2021-11-08T13:07:16.410Z"
   },
   {
    "duration": 17,
    "start_time": "2021-11-08T13:07:16.420Z"
   },
   {
    "duration": 3270,
    "start_time": "2021-11-08T13:07:16.440Z"
   },
   {
    "duration": 1204,
    "start_time": "2021-11-08T13:07:19.713Z"
   },
   {
    "duration": 440,
    "start_time": "2021-11-08T13:07:20.919Z"
   },
   {
    "duration": 10,
    "start_time": "2021-11-08T13:07:21.361Z"
   },
   {
    "duration": 26,
    "start_time": "2021-11-08T13:07:21.374Z"
   },
   {
    "duration": 867,
    "start_time": "2021-11-08T13:07:56.433Z"
   },
   {
    "duration": 398,
    "start_time": "2021-11-08T13:08:08.592Z"
   },
   {
    "duration": 8,
    "start_time": "2021-11-08T13:08:55.927Z"
   },
   {
    "duration": 17,
    "start_time": "2021-11-08T13:09:16.147Z"
   },
   {
    "duration": 24,
    "start_time": "2021-11-08T13:10:44.938Z"
   },
   {
    "duration": 379,
    "start_time": "2021-11-08T13:11:07.706Z"
   },
   {
    "duration": 432,
    "start_time": "2021-11-08T13:11:18.339Z"
   },
   {
    "duration": 37,
    "start_time": "2021-11-08T13:11:30.283Z"
   },
   {
    "duration": 9268,
    "start_time": "2021-11-08T13:12:06.165Z"
   },
   {
    "duration": 9066,
    "start_time": "2021-11-08T13:12:31.511Z"
   },
   {
    "duration": 120,
    "start_time": "2021-11-08T13:12:41.886Z"
   },
   {
    "duration": 155,
    "start_time": "2021-11-08T13:12:50.545Z"
   },
   {
    "duration": 16,
    "start_time": "2021-11-08T13:12:56.801Z"
   },
   {
    "duration": 16,
    "start_time": "2021-11-08T13:13:00.360Z"
   },
   {
    "duration": 360,
    "start_time": "2021-11-08T13:13:34.519Z"
   },
   {
    "duration": 357,
    "start_time": "2021-11-08T13:13:42.129Z"
   },
   {
    "duration": 354,
    "start_time": "2021-11-08T13:13:47.736Z"
   },
   {
    "duration": 116,
    "start_time": "2021-11-08T13:13:51.706Z"
   },
   {
    "duration": 15,
    "start_time": "2021-11-08T13:14:05.263Z"
   },
   {
    "duration": 116,
    "start_time": "2021-11-08T13:14:32.230Z"
   },
   {
    "duration": 365,
    "start_time": "2021-11-08T13:14:37.137Z"
   },
   {
    "duration": 16,
    "start_time": "2021-11-08T13:14:46.789Z"
   },
   {
    "duration": 11,
    "start_time": "2021-11-08T13:14:55.347Z"
   },
   {
    "duration": 11,
    "start_time": "2021-11-08T13:15:16.510Z"
   },
   {
    "duration": 1457,
    "start_time": "2021-11-08T13:15:23.121Z"
   },
   {
    "duration": 196,
    "start_time": "2021-11-08T13:15:24.580Z"
   },
   {
    "duration": 21,
    "start_time": "2021-11-08T13:15:24.779Z"
   },
   {
    "duration": 70,
    "start_time": "2021-11-08T13:15:24.802Z"
   },
   {
    "duration": 44,
    "start_time": "2021-11-08T13:15:24.875Z"
   },
   {
    "duration": 62,
    "start_time": "2021-11-08T13:15:24.921Z"
   },
   {
    "duration": 46,
    "start_time": "2021-11-08T13:15:24.985Z"
   },
   {
    "duration": 27,
    "start_time": "2021-11-08T13:15:25.034Z"
   },
   {
    "duration": 18,
    "start_time": "2021-11-08T13:15:25.064Z"
   },
   {
    "duration": 3030,
    "start_time": "2021-11-08T13:15:25.085Z"
   },
   {
    "duration": 1097,
    "start_time": "2021-11-08T13:15:28.117Z"
   },
   {
    "duration": 405,
    "start_time": "2021-11-08T13:15:29.217Z"
   },
   {
    "duration": 8,
    "start_time": "2021-11-08T13:15:29.624Z"
   },
   {
    "duration": 34,
    "start_time": "2021-11-08T13:15:29.634Z"
   },
   {
    "duration": 1533,
    "start_time": "2021-11-08T13:15:43.726Z"
   },
   {
    "duration": 197,
    "start_time": "2021-11-08T13:15:45.262Z"
   },
   {
    "duration": 18,
    "start_time": "2021-11-08T13:15:45.462Z"
   },
   {
    "duration": 53,
    "start_time": "2021-11-08T13:15:45.483Z"
   },
   {
    "duration": 44,
    "start_time": "2021-11-08T13:15:45.559Z"
   },
   {
    "duration": 64,
    "start_time": "2021-11-08T13:15:45.606Z"
   },
   {
    "duration": 48,
    "start_time": "2021-11-08T13:15:45.673Z"
   },
   {
    "duration": 35,
    "start_time": "2021-11-08T13:15:45.724Z"
   },
   {
    "duration": 7,
    "start_time": "2021-11-08T13:15:45.762Z"
   },
   {
    "duration": 3254,
    "start_time": "2021-11-08T13:15:45.772Z"
   },
   {
    "duration": 1090,
    "start_time": "2021-11-08T13:15:49.028Z"
   },
   {
    "duration": 359,
    "start_time": "2021-11-08T13:15:50.121Z"
   },
   {
    "duration": 9,
    "start_time": "2021-11-08T13:15:50.483Z"
   },
   {
    "duration": 17,
    "start_time": "2021-11-08T13:15:50.494Z"
   },
   {
    "duration": 15,
    "start_time": "2021-11-08T13:15:58.793Z"
   },
   {
    "duration": 2692,
    "start_time": "2021-11-08T13:16:16.356Z"
   },
   {
    "duration": 406,
    "start_time": "2021-11-08T13:16:32.157Z"
   },
   {
    "duration": 12,
    "start_time": "2021-11-08T13:16:44.656Z"
   },
   {
    "duration": 16,
    "start_time": "2021-11-08T13:16:51.170Z"
   },
   {
    "duration": 15,
    "start_time": "2021-11-08T13:16:58.394Z"
   },
   {
    "duration": 14,
    "start_time": "2021-11-08T13:18:03.453Z"
   },
   {
    "duration": 473,
    "start_time": "2021-11-08T13:19:50.436Z"
   },
   {
    "duration": 509,
    "start_time": "2021-11-08T13:20:10.289Z"
   },
   {
    "duration": 508,
    "start_time": "2021-11-08T13:20:45.404Z"
   },
   {
    "duration": 740,
    "start_time": "2021-11-08T13:21:02.114Z"
   },
   {
    "duration": 1699,
    "start_time": "2021-11-08T13:21:25.019Z"
   },
   {
    "duration": 193,
    "start_time": "2021-11-08T13:21:26.721Z"
   },
   {
    "duration": 17,
    "start_time": "2021-11-08T13:21:26.917Z"
   },
   {
    "duration": 94,
    "start_time": "2021-11-08T13:21:26.937Z"
   },
   {
    "duration": 75,
    "start_time": "2021-11-08T13:21:27.035Z"
   },
   {
    "duration": 68,
    "start_time": "2021-11-08T13:21:27.113Z"
   },
   {
    "duration": 48,
    "start_time": "2021-11-08T13:21:27.184Z"
   },
   {
    "duration": 28,
    "start_time": "2021-11-08T13:21:27.236Z"
   },
   {
    "duration": 8,
    "start_time": "2021-11-08T13:21:27.267Z"
   },
   {
    "duration": 3243,
    "start_time": "2021-11-08T13:21:27.278Z"
   },
   {
    "duration": 1101,
    "start_time": "2021-11-08T13:21:30.523Z"
   },
   {
    "duration": 792,
    "start_time": "2021-11-08T13:21:31.626Z"
   },
   {
    "duration": -115,
    "start_time": "2021-11-08T13:21:32.536Z"
   },
   {
    "duration": 369,
    "start_time": "2021-11-08T13:21:44.548Z"
   },
   {
    "duration": 8,
    "start_time": "2021-11-08T13:22:00.171Z"
   },
   {
    "duration": 393,
    "start_time": "2021-11-08T13:22:08.458Z"
   },
   {
    "duration": 42,
    "start_time": "2021-11-08T13:29:39.400Z"
   },
   {
    "duration": 53,
    "start_time": "2021-11-08T13:30:09.267Z"
   },
   {
    "duration": 356,
    "start_time": "2021-11-08T13:34:22.412Z"
   },
   {
    "duration": 47,
    "start_time": "2021-11-08T13:34:57.910Z"
   },
   {
    "duration": 12,
    "start_time": "2021-11-08T13:40:07.031Z"
   },
   {
    "duration": 131,
    "start_time": "2021-11-08T13:42:03.747Z"
   },
   {
    "duration": 9558,
    "start_time": "2021-11-08T13:42:26.614Z"
   },
   {
    "duration": 380,
    "start_time": "2021-11-08T13:47:06.530Z"
   },
   {
    "duration": 8972,
    "start_time": "2021-11-08T13:47:17.139Z"
   },
   {
    "duration": 483,
    "start_time": "2021-11-08T13:47:43.596Z"
   },
   {
    "duration": 369,
    "start_time": "2021-11-08T13:47:53.672Z"
   },
   {
    "duration": 11576,
    "start_time": "2021-11-08T13:48:04.093Z"
   },
   {
    "duration": 129,
    "start_time": "2021-11-08T13:48:20.343Z"
   },
   {
    "duration": 413,
    "start_time": "2021-11-08T13:48:28.220Z"
   },
   {
    "duration": 1016,
    "start_time": "2021-11-08T13:49:08.185Z"
   },
   {
    "duration": 2141,
    "start_time": "2021-11-08T13:49:40.457Z"
   },
   {
    "duration": 207,
    "start_time": "2021-11-08T13:49:42.601Z"
   },
   {
    "duration": 18,
    "start_time": "2021-11-08T13:49:42.810Z"
   },
   {
    "duration": 63,
    "start_time": "2021-11-08T13:49:42.831Z"
   },
   {
    "duration": 43,
    "start_time": "2021-11-08T13:49:42.896Z"
   },
   {
    "duration": 52,
    "start_time": "2021-11-08T13:49:42.941Z"
   },
   {
    "duration": 69,
    "start_time": "2021-11-08T13:49:42.995Z"
   },
   {
    "duration": 7,
    "start_time": "2021-11-08T13:49:43.068Z"
   },
   {
    "duration": 10,
    "start_time": "2021-11-08T13:49:43.078Z"
   },
   {
    "duration": 3292,
    "start_time": "2021-11-08T13:49:43.090Z"
   },
   {
    "duration": 1016,
    "start_time": "2021-11-08T13:49:46.384Z"
   },
   {
    "duration": 351,
    "start_time": "2021-11-08T13:49:47.402Z"
   },
   {
    "duration": 49,
    "start_time": "2021-11-08T13:49:47.759Z"
   },
   {
    "duration": 1457,
    "start_time": "2021-11-08T13:49:47.811Z"
   },
   {
    "duration": 10641,
    "start_time": "2021-11-08T13:52:22.923Z"
   },
   {
    "duration": 481,
    "start_time": "2021-11-08T13:52:39.702Z"
   },
   {
    "duration": 123,
    "start_time": "2021-11-08T13:52:45.961Z"
   },
   {
    "duration": 364,
    "start_time": "2021-11-08T13:53:09.498Z"
   },
   {
    "duration": 9382,
    "start_time": "2021-11-08T13:53:45.494Z"
   },
   {
    "duration": 698,
    "start_time": "2021-11-08T13:54:21.857Z"
   },
   {
    "duration": 9906,
    "start_time": "2021-11-08T13:57:07.403Z"
   },
   {
    "duration": 685,
    "start_time": "2021-11-08T13:57:23.647Z"
   },
   {
    "duration": 452,
    "start_time": "2021-11-08T13:59:21.208Z"
   },
   {
    "duration": 664,
    "start_time": "2021-11-08T13:59:28.308Z"
   },
   {
    "duration": 374,
    "start_time": "2021-11-08T14:01:32.069Z"
   },
   {
    "duration": 375,
    "start_time": "2021-11-08T14:02:11.884Z"
   },
   {
    "duration": 1365,
    "start_time": "2021-11-08T14:02:22.775Z"
   },
   {
    "duration": 1770,
    "start_time": "2021-11-08T14:03:16.259Z"
   },
   {
    "duration": 427,
    "start_time": "2021-11-08T14:06:15.473Z"
   },
   {
    "duration": 9932,
    "start_time": "2021-11-08T14:06:27.001Z"
   },
   {
    "duration": 469,
    "start_time": "2021-11-08T14:07:23.279Z"
   },
   {
    "duration": 381,
    "start_time": "2021-11-08T14:07:33.929Z"
   },
   {
    "duration": 1386,
    "start_time": "2021-11-08T14:10:22.949Z"
   },
   {
    "duration": 395,
    "start_time": "2021-11-08T14:10:37.797Z"
   },
   {
    "duration": 468,
    "start_time": "2021-11-08T14:12:26.741Z"
   },
   {
    "duration": 495,
    "start_time": "2021-11-08T14:12:43.631Z"
   },
   {
    "duration": 608,
    "start_time": "2021-11-08T14:12:51.891Z"
   },
   {
    "duration": 349,
    "start_time": "2021-11-08T14:18:36.447Z"
   },
   {
    "duration": 395,
    "start_time": "2021-11-08T14:18:42.553Z"
   },
   {
    "duration": 845,
    "start_time": "2021-11-08T14:20:25.334Z"
   },
   {
    "duration": 395,
    "start_time": "2021-11-08T14:20:41.753Z"
   },
   {
    "duration": 805,
    "start_time": "2021-11-08T14:20:54.340Z"
   },
   {
    "duration": 396,
    "start_time": "2021-11-08T14:21:05.435Z"
   },
   {
    "duration": 2663,
    "start_time": "2021-11-08T14:21:59.818Z"
   },
   {
    "duration": 9012,
    "start_time": "2021-11-08T14:22:09.316Z"
   },
   {
    "duration": 10480,
    "start_time": "2021-11-08T14:22:23.441Z"
   },
   {
    "duration": 411,
    "start_time": "2021-11-08T14:23:07.620Z"
   },
   {
    "duration": 397,
    "start_time": "2021-11-08T14:23:28.601Z"
   },
   {
    "duration": 435,
    "start_time": "2021-11-08T14:23:32.702Z"
   },
   {
    "duration": 373,
    "start_time": "2021-11-08T14:23:40.655Z"
   },
   {
    "duration": 402,
    "start_time": "2021-11-08T14:24:58.606Z"
   },
   {
    "duration": 500,
    "start_time": "2021-11-08T14:25:47.033Z"
   },
   {
    "duration": 677,
    "start_time": "2021-11-08T14:57:55.517Z"
   },
   {
    "duration": 2641,
    "start_time": "2021-11-08T14:58:01.710Z"
   },
   {
    "duration": 192,
    "start_time": "2021-11-08T14:58:04.354Z"
   },
   {
    "duration": 24,
    "start_time": "2021-11-08T14:58:04.549Z"
   },
   {
    "duration": 61,
    "start_time": "2021-11-08T14:58:04.576Z"
   },
   {
    "duration": 43,
    "start_time": "2021-11-08T14:58:04.660Z"
   },
   {
    "duration": 62,
    "start_time": "2021-11-08T14:58:04.706Z"
   },
   {
    "duration": 47,
    "start_time": "2021-11-08T14:58:04.772Z"
   },
   {
    "duration": 8,
    "start_time": "2021-11-08T14:58:04.822Z"
   },
   {
    "duration": 33,
    "start_time": "2021-11-08T14:58:04.832Z"
   },
   {
    "duration": 3115,
    "start_time": "2021-11-08T14:58:04.868Z"
   },
   {
    "duration": 1080,
    "start_time": "2021-11-08T14:58:07.986Z"
   },
   {
    "duration": 360,
    "start_time": "2021-11-08T14:58:09.069Z"
   },
   {
    "duration": 65,
    "start_time": "2021-11-08T14:58:09.431Z"
   },
   {
    "duration": 1318,
    "start_time": "2021-11-08T14:58:09.499Z"
   },
   {
    "duration": 537,
    "start_time": "2021-11-08T14:58:10.819Z"
   },
   {
    "duration": 753,
    "start_time": "2021-11-08T14:58:11.360Z"
   },
   {
    "duration": 652,
    "start_time": "2021-11-08T14:58:12.117Z"
   },
   {
    "duration": 26,
    "start_time": "2021-11-08T15:08:05.333Z"
   },
   {
    "duration": 15,
    "start_time": "2021-11-08T15:10:01.408Z"
   },
   {
    "duration": 644,
    "start_time": "2021-11-08T15:10:05.920Z"
   },
   {
    "duration": 20,
    "start_time": "2021-11-08T15:10:34.831Z"
   },
   {
    "duration": 3099,
    "start_time": "2021-11-08T15:17:29.369Z"
   },
   {
    "duration": 3049,
    "start_time": "2021-11-08T15:18:33.699Z"
   },
   {
    "duration": 18,
    "start_time": "2021-11-08T15:18:37.399Z"
   },
   {
    "duration": 3558,
    "start_time": "2021-11-08T15:19:05.424Z"
   },
   {
    "duration": 3077,
    "start_time": "2021-11-08T15:19:14.499Z"
   },
   {
    "duration": 3081,
    "start_time": "2021-11-08T15:19:33.072Z"
   },
   {
    "duration": 18,
    "start_time": "2021-11-08T15:20:15.947Z"
   },
   {
    "duration": 134,
    "start_time": "2021-11-08T15:23:18.696Z"
   },
   {
    "duration": 30,
    "start_time": "2021-11-08T15:25:15.792Z"
   },
   {
    "duration": 126,
    "start_time": "2021-11-08T15:26:30.906Z"
   },
   {
    "duration": 20,
    "start_time": "2021-11-08T15:40:49.205Z"
   },
   {
    "duration": 42,
    "start_time": "2021-11-08T15:41:20.646Z"
   },
   {
    "duration": 20,
    "start_time": "2021-11-08T15:43:05.156Z"
   },
   {
    "duration": 26,
    "start_time": "2021-11-08T15:56:14.572Z"
   },
   {
    "duration": 12,
    "start_time": "2021-11-08T15:56:16.885Z"
   },
   {
    "duration": 2080,
    "start_time": "2021-11-09T05:43:25.296Z"
   },
   {
    "duration": 197,
    "start_time": "2021-11-09T05:43:27.378Z"
   },
   {
    "duration": 20,
    "start_time": "2021-11-09T05:43:27.579Z"
   },
   {
    "duration": 72,
    "start_time": "2021-11-09T05:43:27.601Z"
   },
   {
    "duration": 57,
    "start_time": "2021-11-09T05:43:27.676Z"
   },
   {
    "duration": 35,
    "start_time": "2021-11-09T05:43:27.736Z"
   },
   {
    "duration": 68,
    "start_time": "2021-11-09T05:43:27.774Z"
   },
   {
    "duration": 7,
    "start_time": "2021-11-09T05:43:27.846Z"
   },
   {
    "duration": 7,
    "start_time": "2021-11-09T05:43:27.856Z"
   },
   {
    "duration": 3216,
    "start_time": "2021-11-09T05:43:27.865Z"
   },
   {
    "duration": 1060,
    "start_time": "2021-11-09T05:43:31.084Z"
   },
   {
    "duration": 389,
    "start_time": "2021-11-09T05:43:32.146Z"
   },
   {
    "duration": 47,
    "start_time": "2021-11-09T05:43:32.538Z"
   },
   {
    "duration": 1335,
    "start_time": "2021-11-09T05:43:32.588Z"
   },
   {
    "duration": 427,
    "start_time": "2021-11-09T05:43:33.930Z"
   },
   {
    "duration": 482,
    "start_time": "2021-11-09T05:43:34.360Z"
   },
   {
    "duration": 386,
    "start_time": "2021-11-09T05:43:34.845Z"
   },
   {
    "duration": 20,
    "start_time": "2021-11-09T05:43:35.234Z"
   },
   {
    "duration": 16,
    "start_time": "2021-11-09T05:43:35.256Z"
   },
   {
    "duration": 18,
    "start_time": "2021-11-09T05:43:35.274Z"
   },
   {
    "duration": 3353,
    "start_time": "2021-11-09T05:43:35.330Z"
   },
   {
    "duration": 14,
    "start_time": "2021-11-09T05:43:38.685Z"
   },
   {
    "duration": 50,
    "start_time": "2021-11-09T05:43:38.703Z"
   },
   {
    "duration": 56,
    "start_time": "2021-11-09T14:31:16.537Z"
   },
   {
    "duration": 1669,
    "start_time": "2021-11-09T14:33:33.974Z"
   },
   {
    "duration": 762,
    "start_time": "2021-11-09T14:36:21.401Z"
   },
   {
    "duration": 798,
    "start_time": "2021-11-09T14:37:44.363Z"
   },
   {
    "duration": 494,
    "start_time": "2021-11-09T14:39:37.335Z"
   },
   {
    "duration": 75,
    "start_time": "2021-11-09T14:40:49.666Z"
   },
   {
    "duration": 509,
    "start_time": "2021-11-09T14:40:57.997Z"
   },
   {
    "duration": 56,
    "start_time": "2021-11-09T14:43:35.000Z"
   },
   {
    "duration": 1593,
    "start_time": "2021-11-09T14:44:53.446Z"
   },
   {
    "duration": 144,
    "start_time": "2021-11-09T14:44:55.041Z"
   },
   {
    "duration": 19,
    "start_time": "2021-11-09T14:44:55.188Z"
   },
   {
    "duration": 50,
    "start_time": "2021-11-09T14:44:55.210Z"
   },
   {
    "duration": 51,
    "start_time": "2021-11-09T14:44:55.262Z"
   },
   {
    "duration": 25,
    "start_time": "2021-11-09T14:44:55.315Z"
   },
   {
    "duration": 59,
    "start_time": "2021-11-09T14:44:55.342Z"
   },
   {
    "duration": 8,
    "start_time": "2021-11-09T14:44:55.404Z"
   },
   {
    "duration": 8,
    "start_time": "2021-11-09T14:44:55.414Z"
   },
   {
    "duration": 1942,
    "start_time": "2021-11-09T14:44:55.423Z"
   },
   {
    "duration": 558,
    "start_time": "2021-11-09T14:44:57.366Z"
   },
   {
    "duration": 221,
    "start_time": "2021-11-09T14:44:57.925Z"
   },
   {
    "duration": 52,
    "start_time": "2021-11-09T14:44:58.148Z"
   },
   {
    "duration": 1092,
    "start_time": "2021-11-09T14:44:58.201Z"
   },
   {
    "duration": 302,
    "start_time": "2021-11-09T14:44:59.295Z"
   },
   {
    "duration": 345,
    "start_time": "2021-11-09T14:44:59.599Z"
   },
   {
    "duration": 283,
    "start_time": "2021-11-09T14:44:59.946Z"
   },
   {
    "duration": 14,
    "start_time": "2021-11-09T14:45:00.231Z"
   },
   {
    "duration": 13,
    "start_time": "2021-11-09T14:45:00.246Z"
   },
   {
    "duration": 38,
    "start_time": "2021-11-09T14:45:00.261Z"
   },
   {
    "duration": 2049,
    "start_time": "2021-11-09T14:45:00.301Z"
   },
   {
    "duration": 12,
    "start_time": "2021-11-09T14:45:02.352Z"
   },
   {
    "duration": 33,
    "start_time": "2021-11-09T14:45:02.367Z"
   },
   {
    "duration": 84,
    "start_time": "2021-11-09T14:45:25.487Z"
   },
   {
    "duration": 73,
    "start_time": "2021-11-09T14:52:05.367Z"
   },
   {
    "duration": 83,
    "start_time": "2021-11-09T14:52:22.407Z"
   },
   {
    "duration": 83,
    "start_time": "2021-11-09T14:52:41.079Z"
   },
   {
    "duration": 70,
    "start_time": "2021-11-09T14:52:48.070Z"
   },
   {
    "duration": 841,
    "start_time": "2021-11-09T15:00:13.496Z"
   },
   {
    "duration": 561,
    "start_time": "2021-11-09T15:00:34.608Z"
   },
   {
    "duration": 1520,
    "start_time": "2021-11-09T15:00:54.327Z"
   },
   {
    "duration": 134,
    "start_time": "2021-11-09T15:00:55.849Z"
   },
   {
    "duration": 12,
    "start_time": "2021-11-09T15:00:55.986Z"
   },
   {
    "duration": 38,
    "start_time": "2021-11-09T15:00:56.000Z"
   },
   {
    "duration": 25,
    "start_time": "2021-11-09T15:00:56.040Z"
   },
   {
    "duration": 46,
    "start_time": "2021-11-09T15:00:56.067Z"
   },
   {
    "duration": 32,
    "start_time": "2021-11-09T15:00:56.116Z"
   },
   {
    "duration": 6,
    "start_time": "2021-11-09T15:00:56.150Z"
   },
   {
    "duration": 12,
    "start_time": "2021-11-09T15:00:56.157Z"
   },
   {
    "duration": 1830,
    "start_time": "2021-11-09T15:00:56.192Z"
   },
   {
    "duration": 524,
    "start_time": "2021-11-09T15:00:58.023Z"
   },
   {
    "duration": 219,
    "start_time": "2021-11-09T15:00:58.549Z"
   },
   {
    "duration": 38,
    "start_time": "2021-11-09T15:00:58.770Z"
   },
   {
    "duration": 930,
    "start_time": "2021-11-09T15:00:58.810Z"
   },
   {
    "duration": 266,
    "start_time": "2021-11-09T15:00:59.742Z"
   },
   {
    "duration": 324,
    "start_time": "2021-11-09T15:01:00.010Z"
   },
   {
    "duration": 262,
    "start_time": "2021-11-09T15:01:00.336Z"
   },
   {
    "duration": 13,
    "start_time": "2021-11-09T15:01:00.600Z"
   },
   {
    "duration": 27,
    "start_time": "2021-11-09T15:01:00.615Z"
   },
   {
    "duration": 23,
    "start_time": "2021-11-09T15:01:00.644Z"
   },
   {
    "duration": 1932,
    "start_time": "2021-11-09T15:01:00.668Z"
   },
   {
    "duration": 11,
    "start_time": "2021-11-09T15:01:02.603Z"
   },
   {
    "duration": 45,
    "start_time": "2021-11-09T15:01:02.616Z"
   },
   {
    "duration": 528,
    "start_time": "2021-11-09T15:04:35.134Z"
   },
   {
    "duration": 1534,
    "start_time": "2021-11-09T15:05:02.552Z"
   },
   {
    "duration": 136,
    "start_time": "2021-11-09T15:05:04.087Z"
   },
   {
    "duration": 12,
    "start_time": "2021-11-09T15:05:04.228Z"
   },
   {
    "duration": 56,
    "start_time": "2021-11-09T15:05:04.242Z"
   },
   {
    "duration": 28,
    "start_time": "2021-11-09T15:05:04.299Z"
   },
   {
    "duration": 30,
    "start_time": "2021-11-09T15:05:04.329Z"
   },
   {
    "duration": 48,
    "start_time": "2021-11-09T15:05:04.361Z"
   },
   {
    "duration": 5,
    "start_time": "2021-11-09T15:05:04.411Z"
   },
   {
    "duration": 25,
    "start_time": "2021-11-09T15:05:04.418Z"
   },
   {
    "duration": 1933,
    "start_time": "2021-11-09T15:05:04.445Z"
   },
   {
    "duration": 552,
    "start_time": "2021-11-09T15:05:06.380Z"
   },
   {
    "duration": 247,
    "start_time": "2021-11-09T15:05:06.934Z"
   },
   {
    "duration": 41,
    "start_time": "2021-11-09T15:05:07.183Z"
   },
   {
    "duration": 1041,
    "start_time": "2021-11-09T15:05:07.226Z"
   },
   {
    "duration": 275,
    "start_time": "2021-11-09T15:05:08.269Z"
   },
   {
    "duration": 328,
    "start_time": "2021-11-09T15:05:08.546Z"
   },
   {
    "duration": 257,
    "start_time": "2021-11-09T15:05:08.876Z"
   },
   {
    "duration": 13,
    "start_time": "2021-11-09T15:05:09.135Z"
   },
   {
    "duration": 10,
    "start_time": "2021-11-09T15:05:09.150Z"
   },
   {
    "duration": 33,
    "start_time": "2021-11-09T15:05:09.162Z"
   },
   {
    "duration": 1964,
    "start_time": "2021-11-09T15:05:09.197Z"
   },
   {
    "duration": 10,
    "start_time": "2021-11-09T15:05:11.163Z"
   },
   {
    "duration": 31,
    "start_time": "2021-11-09T15:05:11.175Z"
   },
   {
    "duration": 661,
    "start_time": "2021-11-09T15:08:12.031Z"
   },
   {
    "duration": 460,
    "start_time": "2021-11-09T15:08:22.835Z"
   },
   {
    "duration": 576,
    "start_time": "2021-11-09T15:08:39.678Z"
   },
   {
    "duration": 577,
    "start_time": "2021-11-09T15:08:46.688Z"
   },
   {
    "duration": 67,
    "start_time": "2021-11-09T15:09:43.878Z"
   },
   {
    "duration": 599,
    "start_time": "2021-11-09T15:10:10.176Z"
   },
   {
    "duration": 1518,
    "start_time": "2021-11-09T15:12:55.207Z"
   },
   {
    "duration": 136,
    "start_time": "2021-11-09T15:12:56.727Z"
   },
   {
    "duration": 16,
    "start_time": "2021-11-09T15:12:56.865Z"
   },
   {
    "duration": 38,
    "start_time": "2021-11-09T15:12:56.892Z"
   },
   {
    "duration": 28,
    "start_time": "2021-11-09T15:12:56.932Z"
   },
   {
    "duration": 42,
    "start_time": "2021-11-09T15:12:56.962Z"
   },
   {
    "duration": 31,
    "start_time": "2021-11-09T15:12:57.006Z"
   },
   {
    "duration": 5,
    "start_time": "2021-11-09T15:12:57.039Z"
   },
   {
    "duration": 8,
    "start_time": "2021-11-09T15:12:57.046Z"
   },
   {
    "duration": 1820,
    "start_time": "2021-11-09T15:12:57.055Z"
   },
   {
    "duration": 549,
    "start_time": "2021-11-09T15:12:58.876Z"
   },
   {
    "duration": 209,
    "start_time": "2021-11-09T15:12:59.427Z"
   },
   {
    "duration": 33,
    "start_time": "2021-11-09T15:12:59.640Z"
   },
   {
    "duration": 977,
    "start_time": "2021-11-09T15:12:59.675Z"
   },
   {
    "duration": 269,
    "start_time": "2021-11-09T15:13:00.653Z"
   },
   {
    "duration": 327,
    "start_time": "2021-11-09T15:13:00.923Z"
   },
   {
    "duration": 253,
    "start_time": "2021-11-09T15:13:01.252Z"
   },
   {
    "duration": 13,
    "start_time": "2021-11-09T15:13:01.507Z"
   },
   {
    "duration": 12,
    "start_time": "2021-11-09T15:13:01.521Z"
   },
   {
    "duration": 14,
    "start_time": "2021-11-09T15:13:01.534Z"
   },
   {
    "duration": 1916,
    "start_time": "2021-11-09T15:13:01.550Z"
   },
   {
    "duration": 12,
    "start_time": "2021-11-09T15:13:03.468Z"
   },
   {
    "duration": 19,
    "start_time": "2021-11-09T15:13:03.493Z"
   },
   {
    "duration": 248,
    "start_time": "2021-11-09T15:15:47.083Z"
   },
   {
    "duration": 249,
    "start_time": "2021-11-09T15:15:53.327Z"
   },
   {
    "duration": 274,
    "start_time": "2021-11-09T15:42:06.410Z"
   },
   {
    "duration": 189,
    "start_time": "2021-11-09T15:44:01.956Z"
   },
   {
    "duration": 1525,
    "start_time": "2021-11-09T15:46:11.692Z"
   },
   {
    "duration": 147,
    "start_time": "2021-11-09T15:46:13.219Z"
   },
   {
    "duration": 14,
    "start_time": "2021-11-09T15:46:13.368Z"
   },
   {
    "duration": 38,
    "start_time": "2021-11-09T15:46:13.391Z"
   },
   {
    "duration": 28,
    "start_time": "2021-11-09T15:46:13.430Z"
   },
   {
    "duration": 43,
    "start_time": "2021-11-09T15:46:13.460Z"
   },
   {
    "duration": 30,
    "start_time": "2021-11-09T15:46:13.504Z"
   },
   {
    "duration": 5,
    "start_time": "2021-11-09T15:46:13.536Z"
   },
   {
    "duration": 13,
    "start_time": "2021-11-09T15:46:13.543Z"
   },
   {
    "duration": 38,
    "start_time": "2021-11-09T15:46:13.558Z"
   },
   {
    "duration": 536,
    "start_time": "2021-11-09T15:46:13.598Z"
   },
   {
    "duration": 251,
    "start_time": "2021-11-09T15:46:14.136Z"
   },
   {
    "duration": 31,
    "start_time": "2021-11-09T15:46:14.392Z"
   },
   {
    "duration": 1012,
    "start_time": "2021-11-09T15:46:14.425Z"
   },
   {
    "duration": 337,
    "start_time": "2021-11-09T15:46:15.439Z"
   },
   {
    "duration": 264,
    "start_time": "2021-11-09T15:46:15.778Z"
   },
   {
    "duration": 268,
    "start_time": "2021-11-09T15:46:16.044Z"
   },
   {
    "duration": 14,
    "start_time": "2021-11-09T15:46:16.314Z"
   },
   {
    "duration": 11,
    "start_time": "2021-11-09T15:46:16.331Z"
   },
   {
    "duration": 11,
    "start_time": "2021-11-09T15:46:16.343Z"
   },
   {
    "duration": 1926,
    "start_time": "2021-11-09T15:46:16.356Z"
   },
   {
    "duration": 11,
    "start_time": "2021-11-09T15:46:18.291Z"
   },
   {
    "duration": 19,
    "start_time": "2021-11-09T15:46:18.305Z"
   },
   {
    "duration": 60,
    "start_time": "2021-11-09T15:48:47.985Z"
   },
   {
    "duration": 613,
    "start_time": "2021-11-09T15:56:22.391Z"
   },
   {
    "duration": 1778,
    "start_time": "2021-11-09T15:59:42.593Z"
   },
   {
    "duration": 154,
    "start_time": "2021-11-09T15:59:44.373Z"
   },
   {
    "duration": 13,
    "start_time": "2021-11-09T15:59:44.529Z"
   },
   {
    "duration": 59,
    "start_time": "2021-11-09T15:59:44.544Z"
   },
   {
    "duration": 36,
    "start_time": "2021-11-09T15:59:44.605Z"
   },
   {
    "duration": 27,
    "start_time": "2021-11-09T15:59:44.643Z"
   },
   {
    "duration": 61,
    "start_time": "2021-11-09T15:59:44.671Z"
   },
   {
    "duration": 5,
    "start_time": "2021-11-09T15:59:44.734Z"
   },
   {
    "duration": 29,
    "start_time": "2021-11-09T15:59:44.741Z"
   },
   {
    "duration": 51,
    "start_time": "2021-11-09T15:59:44.773Z"
   },
   {
    "duration": 636,
    "start_time": "2021-11-09T15:59:44.826Z"
   },
   {
    "duration": 273,
    "start_time": "2021-11-09T15:59:45.464Z"
   },
   {
    "duration": 32,
    "start_time": "2021-11-09T15:59:45.739Z"
   },
   {
    "duration": 1024,
    "start_time": "2021-11-09T15:59:45.773Z"
   },
   {
    "duration": 357,
    "start_time": "2021-11-09T15:59:46.799Z"
   },
   {
    "duration": 314,
    "start_time": "2021-11-09T15:59:47.158Z"
   },
   {
    "duration": 291,
    "start_time": "2021-11-09T15:59:47.473Z"
   },
   {
    "duration": 35,
    "start_time": "2021-11-09T15:59:47.766Z"
   },
   {
    "duration": 16,
    "start_time": "2021-11-09T15:59:47.804Z"
   },
   {
    "duration": 23,
    "start_time": "2021-11-09T15:59:47.823Z"
   },
   {
    "duration": 2190,
    "start_time": "2021-11-09T15:59:47.847Z"
   },
   {
    "duration": 15,
    "start_time": "2021-11-09T15:59:50.039Z"
   },
   {
    "duration": 37,
    "start_time": "2021-11-09T15:59:50.057Z"
   },
   {
    "duration": 1702,
    "start_time": "2021-11-09T16:02:08.223Z"
   },
   {
    "duration": 157,
    "start_time": "2021-11-09T16:02:09.927Z"
   },
   {
    "duration": 25,
    "start_time": "2021-11-09T16:02:10.086Z"
   },
   {
    "duration": 41,
    "start_time": "2021-11-09T16:02:10.114Z"
   },
   {
    "duration": 58,
    "start_time": "2021-11-09T16:02:10.156Z"
   },
   {
    "duration": 27,
    "start_time": "2021-11-09T16:02:10.217Z"
   },
   {
    "duration": 53,
    "start_time": "2021-11-09T16:02:10.246Z"
   },
   {
    "duration": 9,
    "start_time": "2021-11-09T16:02:10.301Z"
   },
   {
    "duration": 13,
    "start_time": "2021-11-09T16:02:10.315Z"
   },
   {
    "duration": 29,
    "start_time": "2021-11-09T16:02:10.330Z"
   },
   {
    "duration": 662,
    "start_time": "2021-11-09T16:02:10.361Z"
   },
   {
    "duration": 22,
    "start_time": "2021-11-09T16:02:11.026Z"
   },
   {
    "duration": 63,
    "start_time": "2021-11-09T16:02:11.050Z"
   },
   {
    "duration": 1101,
    "start_time": "2021-11-09T16:02:11.116Z"
   },
   {
    "duration": 386,
    "start_time": "2021-11-09T16:02:12.221Z"
   },
   {
    "duration": 295,
    "start_time": "2021-11-09T16:02:12.611Z"
   },
   {
    "duration": 314,
    "start_time": "2021-11-09T16:02:12.909Z"
   },
   {
    "duration": 12,
    "start_time": "2021-11-09T16:02:13.226Z"
   },
   {
    "duration": 17,
    "start_time": "2021-11-09T16:02:13.240Z"
   },
   {
    "duration": 11,
    "start_time": "2021-11-09T16:02:13.259Z"
   },
   {
    "duration": 2159,
    "start_time": "2021-11-09T16:02:13.272Z"
   },
   {
    "duration": 11,
    "start_time": "2021-11-09T16:02:15.432Z"
   },
   {
    "duration": 23,
    "start_time": "2021-11-09T16:02:15.445Z"
   },
   {
    "duration": 16,
    "start_time": "2021-11-09T16:03:37.841Z"
   },
   {
    "duration": 28,
    "start_time": "2021-11-09T16:03:57.818Z"
   },
   {
    "duration": 1694,
    "start_time": "2021-11-09T16:04:21.601Z"
   },
   {
    "duration": 155,
    "start_time": "2021-11-09T16:04:23.297Z"
   },
   {
    "duration": 12,
    "start_time": "2021-11-09T16:04:23.454Z"
   },
   {
    "duration": 56,
    "start_time": "2021-11-09T16:04:23.468Z"
   },
   {
    "duration": 28,
    "start_time": "2021-11-09T16:04:23.525Z"
   },
   {
    "duration": 42,
    "start_time": "2021-11-09T16:04:23.554Z"
   },
   {
    "duration": 41,
    "start_time": "2021-11-09T16:04:23.599Z"
   },
   {
    "duration": 6,
    "start_time": "2021-11-09T16:04:23.643Z"
   },
   {
    "duration": 6,
    "start_time": "2021-11-09T16:04:23.651Z"
   },
   {
    "duration": 59,
    "start_time": "2021-11-09T16:04:23.659Z"
   },
   {
    "duration": 618,
    "start_time": "2021-11-09T16:04:23.720Z"
   },
   {
    "duration": 21,
    "start_time": "2021-11-09T16:04:24.340Z"
   },
   {
    "duration": 59,
    "start_time": "2021-11-09T16:04:24.362Z"
   },
   {
    "duration": 1068,
    "start_time": "2021-11-09T16:04:24.423Z"
   },
   {
    "duration": 361,
    "start_time": "2021-11-09T16:04:25.493Z"
   },
   {
    "duration": 295,
    "start_time": "2021-11-09T16:04:25.856Z"
   },
   {
    "duration": 279,
    "start_time": "2021-11-09T16:04:26.153Z"
   },
   {
    "duration": 13,
    "start_time": "2021-11-09T16:04:26.434Z"
   },
   {
    "duration": 14,
    "start_time": "2021-11-09T16:04:26.448Z"
   },
   {
    "duration": 31,
    "start_time": "2021-11-09T16:04:26.464Z"
   },
   {
    "duration": 2056,
    "start_time": "2021-11-09T16:04:26.498Z"
   },
   {
    "duration": 11,
    "start_time": "2021-11-09T16:04:28.556Z"
   },
   {
    "duration": 44,
    "start_time": "2021-11-09T16:04:28.570Z"
   },
   {
    "duration": 4481,
    "start_time": "2021-11-09T16:05:03.293Z"
   },
   {
    "duration": 4745,
    "start_time": "2021-11-09T16:05:26.442Z"
   },
   {
    "duration": 4433,
    "start_time": "2021-11-09T16:05:38.922Z"
   },
   {
    "duration": 20,
    "start_time": "2021-11-09T16:05:47.661Z"
   },
   {
    "duration": 27,
    "start_time": "2021-11-09T16:06:18.905Z"
   },
   {
    "duration": 19,
    "start_time": "2021-11-09T16:06:44.430Z"
   },
   {
    "duration": 19,
    "start_time": "2021-11-09T16:07:12.641Z"
   },
   {
    "duration": 23,
    "start_time": "2021-11-09T16:07:19.496Z"
   },
   {
    "duration": 16,
    "start_time": "2021-11-09T16:07:27.344Z"
   },
   {
    "duration": 15,
    "start_time": "2021-11-09T16:07:30.859Z"
   },
   {
    "duration": 16,
    "start_time": "2021-11-09T16:08:15.569Z"
   },
   {
    "duration": 16,
    "start_time": "2021-11-09T16:08:35.450Z"
   },
   {
    "duration": 26,
    "start_time": "2021-11-09T16:08:45.583Z"
   },
   {
    "duration": 200,
    "start_time": "2021-11-09T16:25:27.890Z"
   },
   {
    "duration": 1562,
    "start_time": "2021-11-09T16:25:36.710Z"
   },
   {
    "duration": 130,
    "start_time": "2021-11-09T16:25:38.273Z"
   },
   {
    "duration": 13,
    "start_time": "2021-11-09T16:25:38.409Z"
   },
   {
    "duration": 40,
    "start_time": "2021-11-09T16:25:38.424Z"
   },
   {
    "duration": 53,
    "start_time": "2021-11-09T16:25:38.465Z"
   },
   {
    "duration": 24,
    "start_time": "2021-11-09T16:25:38.520Z"
   },
   {
    "duration": 55,
    "start_time": "2021-11-09T16:25:38.547Z"
   },
   {
    "duration": 6,
    "start_time": "2021-11-09T16:25:38.605Z"
   },
   {
    "duration": 16,
    "start_time": "2021-11-09T16:25:38.612Z"
   },
   {
    "duration": 18,
    "start_time": "2021-11-09T16:25:38.630Z"
   },
   {
    "duration": 537,
    "start_time": "2021-11-09T16:25:38.649Z"
   },
   {
    "duration": 20,
    "start_time": "2021-11-09T16:25:39.188Z"
   },
   {
    "duration": 49,
    "start_time": "2021-11-09T16:25:39.210Z"
   },
   {
    "duration": 968,
    "start_time": "2021-11-09T16:25:39.261Z"
   },
   {
    "duration": 321,
    "start_time": "2021-11-09T16:25:40.231Z"
   },
   {
    "duration": 253,
    "start_time": "2021-11-09T16:25:40.554Z"
   },
   {
    "duration": 245,
    "start_time": "2021-11-09T16:25:40.809Z"
   },
   {
    "duration": 13,
    "start_time": "2021-11-09T16:25:41.055Z"
   },
   {
    "duration": 23,
    "start_time": "2021-11-09T16:25:41.069Z"
   },
   {
    "duration": 11,
    "start_time": "2021-11-09T16:25:41.094Z"
   },
   {
    "duration": 37,
    "start_time": "2021-11-09T16:25:41.106Z"
   },
   {
    "duration": 10,
    "start_time": "2021-11-09T16:25:41.146Z"
   },
   {
    "duration": 18,
    "start_time": "2021-11-09T16:25:41.157Z"
   },
   {
    "duration": 89,
    "start_time": "2021-11-09T16:26:05.909Z"
   },
   {
    "duration": 56,
    "start_time": "2021-11-09T16:27:25.435Z"
   },
   {
    "duration": 256,
    "start_time": "2021-11-09T16:33:04.680Z"
   },
   {
    "duration": 260,
    "start_time": "2021-11-09T16:33:18.562Z"
   },
   {
    "duration": 59,
    "start_time": "2021-11-09T16:33:58.033Z"
   },
   {
    "duration": 275,
    "start_time": "2021-11-09T16:46:22.952Z"
   },
   {
    "duration": 306,
    "start_time": "2021-11-09T16:46:31.968Z"
   },
   {
    "duration": 487,
    "start_time": "2021-11-09T16:48:23.091Z"
   },
   {
    "duration": 292,
    "start_time": "2021-11-09T16:48:35.462Z"
   },
   {
    "duration": 521,
    "start_time": "2021-11-09T16:48:40.106Z"
   },
   {
    "duration": 262,
    "start_time": "2021-11-09T16:49:04.356Z"
   },
   {
    "duration": 182,
    "start_time": "2021-11-09T16:52:38.545Z"
   },
   {
    "duration": 405,
    "start_time": "2021-11-09T16:52:47.287Z"
   },
   {
    "duration": 295,
    "start_time": "2021-11-09T16:53:20.521Z"
   },
   {
    "duration": 299,
    "start_time": "2021-11-09T16:53:24.358Z"
   },
   {
    "duration": 300,
    "start_time": "2021-11-09T16:54:15.953Z"
   },
   {
    "duration": 342,
    "start_time": "2021-11-09T16:54:29.752Z"
   },
   {
    "duration": 290,
    "start_time": "2021-11-09T16:54:58.468Z"
   },
   {
    "duration": 325,
    "start_time": "2021-11-09T16:55:23.513Z"
   },
   {
    "duration": 301,
    "start_time": "2021-11-09T16:56:12.543Z"
   },
   {
    "duration": 304,
    "start_time": "2021-11-09T16:56:16.708Z"
   },
   {
    "duration": 301,
    "start_time": "2021-11-09T16:56:19.390Z"
   },
   {
    "duration": 77,
    "start_time": "2021-11-09T17:05:31.103Z"
   },
   {
    "duration": 93,
    "start_time": "2021-11-09T17:05:31.903Z"
   },
   {
    "duration": 1618,
    "start_time": "2021-11-09T17:08:31.910Z"
   },
   {
    "duration": 136,
    "start_time": "2021-11-09T17:08:33.529Z"
   },
   {
    "duration": 14,
    "start_time": "2021-11-09T17:08:33.668Z"
   },
   {
    "duration": 37,
    "start_time": "2021-11-09T17:08:33.692Z"
   },
   {
    "duration": 29,
    "start_time": "2021-11-09T17:08:33.731Z"
   },
   {
    "duration": 42,
    "start_time": "2021-11-09T17:08:33.762Z"
   },
   {
    "duration": 33,
    "start_time": "2021-11-09T17:08:33.806Z"
   },
   {
    "duration": 6,
    "start_time": "2021-11-09T17:08:33.841Z"
   },
   {
    "duration": 10,
    "start_time": "2021-11-09T17:08:33.849Z"
   },
   {
    "duration": 45,
    "start_time": "2021-11-09T17:08:33.860Z"
   },
   {
    "duration": 553,
    "start_time": "2021-11-09T17:08:33.907Z"
   },
   {
    "duration": 20,
    "start_time": "2021-11-09T17:08:34.461Z"
   },
   {
    "duration": 38,
    "start_time": "2021-11-09T17:08:34.482Z"
   },
   {
    "duration": 954,
    "start_time": "2021-11-09T17:08:34.521Z"
   },
   {
    "duration": 384,
    "start_time": "2021-11-09T17:08:35.476Z"
   },
   {
    "duration": 318,
    "start_time": "2021-11-09T17:08:35.862Z"
   },
   {
    "duration": 321,
    "start_time": "2021-11-09T17:08:36.181Z"
   },
   {
    "duration": 14,
    "start_time": "2021-11-09T17:08:36.504Z"
   },
   {
    "duration": 35,
    "start_time": "2021-11-09T17:08:36.520Z"
   },
   {
    "duration": 32,
    "start_time": "2021-11-09T17:08:36.557Z"
   },
   {
    "duration": 21,
    "start_time": "2021-11-09T17:08:36.591Z"
   },
   {
    "duration": 20,
    "start_time": "2021-11-09T17:08:36.614Z"
   },
   {
    "duration": 30,
    "start_time": "2021-11-09T17:08:36.637Z"
   },
   {
    "duration": 1672,
    "start_time": "2021-11-10T14:22:53.450Z"
   },
   {
    "duration": 149,
    "start_time": "2021-11-10T14:22:55.124Z"
   },
   {
    "duration": 17,
    "start_time": "2021-11-10T14:22:55.275Z"
   },
   {
    "duration": 38,
    "start_time": "2021-11-10T14:22:55.294Z"
   },
   {
    "duration": 52,
    "start_time": "2021-11-10T14:22:55.334Z"
   },
   {
    "duration": 25,
    "start_time": "2021-11-10T14:22:55.387Z"
   },
   {
    "duration": 60,
    "start_time": "2021-11-10T14:22:55.415Z"
   },
   {
    "duration": 7,
    "start_time": "2021-11-10T14:22:55.478Z"
   },
   {
    "duration": 7,
    "start_time": "2021-11-10T14:22:55.487Z"
   },
   {
    "duration": 19,
    "start_time": "2021-11-10T14:22:55.496Z"
   },
   {
    "duration": 586,
    "start_time": "2021-11-10T14:22:55.517Z"
   },
   {
    "duration": 21,
    "start_time": "2021-11-10T14:22:56.105Z"
   },
   {
    "duration": 47,
    "start_time": "2021-11-10T14:22:56.128Z"
   },
   {
    "duration": 911,
    "start_time": "2021-11-10T14:22:56.177Z"
   },
   {
    "duration": 376,
    "start_time": "2021-11-10T14:22:57.090Z"
   },
   {
    "duration": 302,
    "start_time": "2021-11-10T14:22:57.467Z"
   },
   {
    "duration": 299,
    "start_time": "2021-11-10T14:22:57.770Z"
   },
   {
    "duration": 14,
    "start_time": "2021-11-10T14:22:58.071Z"
   },
   {
    "duration": 13,
    "start_time": "2021-11-10T14:22:58.087Z"
   },
   {
    "duration": 17,
    "start_time": "2021-11-10T14:22:58.102Z"
   },
   {
    "duration": 52,
    "start_time": "2021-11-10T14:22:58.121Z"
   },
   {
    "duration": 12,
    "start_time": "2021-11-10T14:22:58.176Z"
   },
   {
    "duration": 20,
    "start_time": "2021-11-10T14:22:58.191Z"
   },
   {
    "duration": 355,
    "start_time": "2021-11-10T14:24:30.004Z"
   },
   {
    "duration": 3,
    "start_time": "2021-11-10T14:27:52.370Z"
   },
   {
    "duration": 5,
    "start_time": "2021-11-10T14:28:00.441Z"
   },
   {
    "duration": 125,
    "start_time": "2021-11-10T14:28:44.952Z"
   },
   {
    "duration": 25,
    "start_time": "2021-11-10T14:28:48.865Z"
   },
   {
    "duration": 245,
    "start_time": "2021-11-10T14:29:03.061Z"
   },
   {
    "duration": 7,
    "start_time": "2021-11-10T14:33:12.806Z"
   },
   {
    "duration": 1567,
    "start_time": "2022-02-17T08:08:17.471Z"
   }
  ],
  "kernelspec": {
   "display_name": "Python 3 (ipykernel)",
   "language": "python",
   "name": "python3"
  },
  "language_info": {
   "codemirror_mode": {
    "name": "ipython",
    "version": 3
   },
   "file_extension": ".py",
   "mimetype": "text/x-python",
   "name": "python",
   "nbconvert_exporter": "python",
   "pygments_lexer": "ipython3",
   "version": "3.9.12"
  },
  "toc": {
   "base_numbering": 1,
   "nav_menu": {},
   "number_sections": true,
   "sideBar": true,
   "skip_h1_title": true,
   "title_cell": "Table of Contents",
   "title_sidebar": "Contents",
   "toc_cell": false,
   "toc_position": {},
   "toc_section_display": true,
   "toc_window_display": true
  }
 },
 "nbformat": 4,
 "nbformat_minor": 2
}
