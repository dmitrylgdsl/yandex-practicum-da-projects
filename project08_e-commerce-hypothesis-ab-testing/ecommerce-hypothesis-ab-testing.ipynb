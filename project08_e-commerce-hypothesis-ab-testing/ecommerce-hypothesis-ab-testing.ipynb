{
 "cells": [
  {
   "cell_type": "markdown",
   "metadata": {},
   "source": [
    "# Описание проекта\n",
    "Контекст<br>\n",
    "Вы — аналитик крупного интернет-магазина. Вместе с отделом маркетинга вы подготовили список гипотез для увеличения выручки.\n",
    "Приоритизируйте гипотезы, запустите A/B-тест и проанализируйте результаты."
   ]
  },
  {
   "cell_type": "markdown",
   "metadata": {},
   "source": [
    "# Описание данных\n",
    "<b>Данные для первой части:</b>\n",
    "\n",
    "Файл <b>/datasets/hypothesis.csv</b>\n",
    "* Hypothesis — краткое описание гипотезы;\n",
    "* Reach — охват пользователей по 10-балльной шкале;\n",
    "* Impact — влияние на пользователей по 10-балльной шкале;\n",
    "* Confidence — уверенность в гипотезе по 10-балльной шкале;\n",
    "* Efforts — затраты ресурсов на проверку гипотезы по 10-балльной шкале. Чем больше значение Efforts, тем дороже проверка гипотезы.\n",
    "\n",
    "<b>Данные для второй части:</b>\n",
    "\n",
    "Файл <b>/datasets/orders.csv</b>\n",
    "* transactionId — идентификатор заказа;\n",
    "* visitorId — идентификатор пользователя, совершившего заказ;\n",
    "* date — дата, когда был совершён заказ;\n",
    "* revenue — выручка заказа;\n",
    "* group — группа A/B-теста, в которую попал заказ.\n",
    "\n",
    "Файл <b>/datasets/visitors.csv</b>\n",
    "* date — дата;\n",
    "* group — группа A/B-теста;\n",
    "* visitors — количество пользователей в указанную дату в указанной группе A/B-теста"
   ]
  },
  {
   "cell_type": "markdown",
   "metadata": {},
   "source": [
    "## Загрузка данных и подготовка их к анализу"
   ]
  },
  {
   "cell_type": "code",
   "execution_count": 1,
   "metadata": {},
   "outputs": [],
   "source": [
    "# Импорт библиотек\n",
    "import pandas as pd\n",
    "import numpy as np\n",
    "import matplotlib.pyplot as plt\n",
    "from statsmodels.stats.proportion import proportions_ztest\n",
    "import scipy.stats as stats\n",
    "\n",
    "# Загрузка данных\n",
    "hyp = pd.read_csv('datasets/hypothesis.csv')\n",
    "orders = pd.read_csv('datasets/orders.csv')\n",
    "visitors = pd.read_csv('datasets/visitors.csv')\n",
    "\n",
    "# Увеличение ширины колонки\n",
    "pd.options.display.max_colwidth = 120"
   ]
  },
  {
   "cell_type": "code",
   "execution_count": 2,
   "metadata": {},
   "outputs": [
    {
     "data": {
      "text/html": [
       "<div>\n",
       "<style scoped>\n",
       "    .dataframe tbody tr th:only-of-type {\n",
       "        vertical-align: middle;\n",
       "    }\n",
       "\n",
       "    .dataframe tbody tr th {\n",
       "        vertical-align: top;\n",
       "    }\n",
       "\n",
       "    .dataframe thead th {\n",
       "        text-align: right;\n",
       "    }\n",
       "</style>\n",
       "<table border=\"1\" class=\"dataframe\">\n",
       "  <thead>\n",
       "    <tr style=\"text-align: right;\">\n",
       "      <th></th>\n",
       "      <th>Hypothesis</th>\n",
       "      <th>Reach</th>\n",
       "      <th>Impact</th>\n",
       "      <th>Confidence</th>\n",
       "      <th>Efforts</th>\n",
       "    </tr>\n",
       "  </thead>\n",
       "  <tbody>\n",
       "    <tr>\n",
       "      <th>0</th>\n",
       "      <td>Добавить два новых канала привлечения трафика, что позволит привлекать на 30% больше пользователей</td>\n",
       "      <td>3</td>\n",
       "      <td>10</td>\n",
       "      <td>8</td>\n",
       "      <td>6</td>\n",
       "    </tr>\n",
       "    <tr>\n",
       "      <th>1</th>\n",
       "      <td>Запустить собственную службу доставки, что сократит срок доставки заказов</td>\n",
       "      <td>2</td>\n",
       "      <td>5</td>\n",
       "      <td>4</td>\n",
       "      <td>10</td>\n",
       "    </tr>\n",
       "    <tr>\n",
       "      <th>2</th>\n",
       "      <td>Добавить блоки рекомендаций товаров на сайт интернет магазина, чтобы повысить конверсию и средний чек заказа</td>\n",
       "      <td>8</td>\n",
       "      <td>3</td>\n",
       "      <td>7</td>\n",
       "      <td>3</td>\n",
       "    </tr>\n",
       "    <tr>\n",
       "      <th>3</th>\n",
       "      <td>Изменить структура категорий, что увеличит конверсию, т.к. пользователи быстрее найдут нужный товар</td>\n",
       "      <td>8</td>\n",
       "      <td>3</td>\n",
       "      <td>3</td>\n",
       "      <td>8</td>\n",
       "    </tr>\n",
       "    <tr>\n",
       "      <th>4</th>\n",
       "      <td>Изменить цвет фона главной страницы, чтобы увеличить вовлеченность пользователей</td>\n",
       "      <td>3</td>\n",
       "      <td>1</td>\n",
       "      <td>1</td>\n",
       "      <td>1</td>\n",
       "    </tr>\n",
       "  </tbody>\n",
       "</table>\n",
       "</div>"
      ],
      "text/plain": [
       "                                                                                                     Hypothesis  \\\n",
       "0            Добавить два новых канала привлечения трафика, что позволит привлекать на 30% больше пользователей   \n",
       "1                                     Запустить собственную службу доставки, что сократит срок доставки заказов   \n",
       "2  Добавить блоки рекомендаций товаров на сайт интернет магазина, чтобы повысить конверсию и средний чек заказа   \n",
       "3           Изменить структура категорий, что увеличит конверсию, т.к. пользователи быстрее найдут нужный товар   \n",
       "4                              Изменить цвет фона главной страницы, чтобы увеличить вовлеченность пользователей   \n",
       "\n",
       "   Reach  Impact  Confidence  Efforts  \n",
       "0      3      10           8        6  \n",
       "1      2       5           4       10  \n",
       "2      8       3           7        3  \n",
       "3      8       3           3        8  \n",
       "4      3       1           1        1  "
      ]
     },
     "metadata": {},
     "output_type": "display_data"
    },
    {
     "name": "stdout",
     "output_type": "stream",
     "text": [
      "Общая информация:\n",
      "<class 'pandas.core.frame.DataFrame'>\n",
      "RangeIndex: 9 entries, 0 to 8\n",
      "Data columns (total 5 columns):\n",
      " #   Column      Non-Null Count  Dtype \n",
      "---  ------      --------------  ----- \n",
      " 0   Hypothesis  9 non-null      object\n",
      " 1   Reach       9 non-null      int64 \n",
      " 2   Impact      9 non-null      int64 \n",
      " 3   Confidence  9 non-null      int64 \n",
      " 4   Efforts     9 non-null      int64 \n",
      "dtypes: int64(4), object(1)\n",
      "memory usage: 488.0+ bytes\n",
      "None\n",
      "\n",
      "Количество пропуков:\n",
      "Hypothesis    0.0\n",
      "Reach         0.0\n",
      "Impact        0.0\n",
      "Confidence    0.0\n",
      "Efforts       0.0\n",
      "dtype: float64\n",
      "\n",
      "Количество дубликатов: 0\n",
      "\n"
     ]
    },
    {
     "data": {
      "text/html": [
       "<div>\n",
       "<style scoped>\n",
       "    .dataframe tbody tr th:only-of-type {\n",
       "        vertical-align: middle;\n",
       "    }\n",
       "\n",
       "    .dataframe tbody tr th {\n",
       "        vertical-align: top;\n",
       "    }\n",
       "\n",
       "    .dataframe thead th {\n",
       "        text-align: right;\n",
       "    }\n",
       "</style>\n",
       "<table border=\"1\" class=\"dataframe\">\n",
       "  <thead>\n",
       "    <tr style=\"text-align: right;\">\n",
       "      <th></th>\n",
       "      <th>transactionId</th>\n",
       "      <th>visitorId</th>\n",
       "      <th>date</th>\n",
       "      <th>revenue</th>\n",
       "      <th>group</th>\n",
       "    </tr>\n",
       "  </thead>\n",
       "  <tbody>\n",
       "    <tr>\n",
       "      <th>0</th>\n",
       "      <td>3667963787</td>\n",
       "      <td>3312258926</td>\n",
       "      <td>2019-08-15</td>\n",
       "      <td>1650</td>\n",
       "      <td>B</td>\n",
       "    </tr>\n",
       "    <tr>\n",
       "      <th>1</th>\n",
       "      <td>2804400009</td>\n",
       "      <td>3642806036</td>\n",
       "      <td>2019-08-15</td>\n",
       "      <td>730</td>\n",
       "      <td>B</td>\n",
       "    </tr>\n",
       "    <tr>\n",
       "      <th>2</th>\n",
       "      <td>2961555356</td>\n",
       "      <td>4069496402</td>\n",
       "      <td>2019-08-15</td>\n",
       "      <td>400</td>\n",
       "      <td>A</td>\n",
       "    </tr>\n",
       "    <tr>\n",
       "      <th>3</th>\n",
       "      <td>3797467345</td>\n",
       "      <td>1196621759</td>\n",
       "      <td>2019-08-15</td>\n",
       "      <td>9759</td>\n",
       "      <td>B</td>\n",
       "    </tr>\n",
       "    <tr>\n",
       "      <th>4</th>\n",
       "      <td>2282983706</td>\n",
       "      <td>2322279887</td>\n",
       "      <td>2019-08-15</td>\n",
       "      <td>2308</td>\n",
       "      <td>B</td>\n",
       "    </tr>\n",
       "  </tbody>\n",
       "</table>\n",
       "</div>"
      ],
      "text/plain": [
       "   transactionId   visitorId        date  revenue group\n",
       "0     3667963787  3312258926  2019-08-15     1650     B\n",
       "1     2804400009  3642806036  2019-08-15      730     B\n",
       "2     2961555356  4069496402  2019-08-15      400     A\n",
       "3     3797467345  1196621759  2019-08-15     9759     B\n",
       "4     2282983706  2322279887  2019-08-15     2308     B"
      ]
     },
     "metadata": {},
     "output_type": "display_data"
    },
    {
     "name": "stdout",
     "output_type": "stream",
     "text": [
      "Общая информация:\n",
      "<class 'pandas.core.frame.DataFrame'>\n",
      "RangeIndex: 1197 entries, 0 to 1196\n",
      "Data columns (total 5 columns):\n",
      " #   Column         Non-Null Count  Dtype \n",
      "---  ------         --------------  ----- \n",
      " 0   transactionId  1197 non-null   int64 \n",
      " 1   visitorId      1197 non-null   int64 \n",
      " 2   date           1197 non-null   object\n",
      " 3   revenue        1197 non-null   int64 \n",
      " 4   group          1197 non-null   object\n",
      "dtypes: int64(3), object(2)\n",
      "memory usage: 46.9+ KB\n",
      "None\n",
      "\n",
      "Количество пропуков:\n",
      "transactionId    0.0\n",
      "visitorId        0.0\n",
      "date             0.0\n",
      "revenue          0.0\n",
      "group            0.0\n",
      "dtype: float64\n",
      "\n",
      "Количество дубликатов: 0\n",
      "\n"
     ]
    },
    {
     "data": {
      "text/html": [
       "<div>\n",
       "<style scoped>\n",
       "    .dataframe tbody tr th:only-of-type {\n",
       "        vertical-align: middle;\n",
       "    }\n",
       "\n",
       "    .dataframe tbody tr th {\n",
       "        vertical-align: top;\n",
       "    }\n",
       "\n",
       "    .dataframe thead th {\n",
       "        text-align: right;\n",
       "    }\n",
       "</style>\n",
       "<table border=\"1\" class=\"dataframe\">\n",
       "  <thead>\n",
       "    <tr style=\"text-align: right;\">\n",
       "      <th></th>\n",
       "      <th>date</th>\n",
       "      <th>group</th>\n",
       "      <th>visitors</th>\n",
       "    </tr>\n",
       "  </thead>\n",
       "  <tbody>\n",
       "    <tr>\n",
       "      <th>0</th>\n",
       "      <td>2019-08-01</td>\n",
       "      <td>A</td>\n",
       "      <td>719</td>\n",
       "    </tr>\n",
       "    <tr>\n",
       "      <th>1</th>\n",
       "      <td>2019-08-02</td>\n",
       "      <td>A</td>\n",
       "      <td>619</td>\n",
       "    </tr>\n",
       "    <tr>\n",
       "      <th>2</th>\n",
       "      <td>2019-08-03</td>\n",
       "      <td>A</td>\n",
       "      <td>507</td>\n",
       "    </tr>\n",
       "    <tr>\n",
       "      <th>3</th>\n",
       "      <td>2019-08-04</td>\n",
       "      <td>A</td>\n",
       "      <td>717</td>\n",
       "    </tr>\n",
       "    <tr>\n",
       "      <th>4</th>\n",
       "      <td>2019-08-05</td>\n",
       "      <td>A</td>\n",
       "      <td>756</td>\n",
       "    </tr>\n",
       "  </tbody>\n",
       "</table>\n",
       "</div>"
      ],
      "text/plain": [
       "         date group  visitors\n",
       "0  2019-08-01     A       719\n",
       "1  2019-08-02     A       619\n",
       "2  2019-08-03     A       507\n",
       "3  2019-08-04     A       717\n",
       "4  2019-08-05     A       756"
      ]
     },
     "metadata": {},
     "output_type": "display_data"
    },
    {
     "name": "stdout",
     "output_type": "stream",
     "text": [
      "Общая информация:\n",
      "<class 'pandas.core.frame.DataFrame'>\n",
      "RangeIndex: 62 entries, 0 to 61\n",
      "Data columns (total 3 columns):\n",
      " #   Column    Non-Null Count  Dtype \n",
      "---  ------    --------------  ----- \n",
      " 0   date      62 non-null     object\n",
      " 1   group     62 non-null     object\n",
      " 2   visitors  62 non-null     int64 \n",
      "dtypes: int64(1), object(2)\n",
      "memory usage: 1.6+ KB\n",
      "None\n",
      "\n",
      "Количество пропуков:\n",
      "date        0.0\n",
      "group       0.0\n",
      "visitors    0.0\n",
      "dtype: float64\n",
      "\n",
      "Количество дубликатов: 0\n",
      "\n"
     ]
    }
   ],
   "source": [
    "#Смотрим общую информацию\n",
    "for data in [hyp, orders, visitors]:\n",
    "    display(data.head())\n",
    "    print('Общая информация:')\n",
    "    print(data.info())\n",
    "    print()\n",
    "    print('Количество пропуков:')\n",
    "    print(round((data.isna().mean()*100),2))\n",
    "    print()\n",
    "    print('Количество дубликатов:', data.duplicated().sum())\n",
    "    print()"
   ]
  },
  {
   "cell_type": "code",
   "execution_count": 3,
   "metadata": {},
   "outputs": [],
   "source": [
    "# Приведем названия столбцов к нижнему регистру\n",
    "hyp.columns = hyp.columns.str.lower()\n",
    "orders.columns = orders.columns.str.lower()\n",
    "\n",
    "# Даты приведем к типу данных datetime\n",
    "orders['date'] = pd.to_datetime(orders['date'])\n",
    "visitors['date'] = pd.to_datetime(visitors['date'])"
   ]
  },
  {
   "cell_type": "code",
   "execution_count": 4,
   "metadata": {},
   "outputs": [
    {
     "name": "stdout",
     "output_type": "stream",
     "text": [
      "Доля посетитеей группы А: 49.76\n",
      "Доля посетитеей группы B: 50.24\n",
      "p-value = 0.354\n",
      "Разница в количестве посетителей в группах A и B статистически НЕ значима\n"
     ]
    }
   ],
   "source": [
    "# Смотрим корректность рапределения пользователей на группы\n",
    "usersa = visitors[visitors['group'] == 'A']['visitors'].sum()\n",
    "usersb = visitors[visitors['group'] == 'B']['visitors'].sum()\n",
    "users = visitors['visitors'].sum()\n",
    "print('Доля посетитеей группы А:', round(usersa/users*100, 2))\n",
    "print('Доля посетитеей группы B:', round(usersb/users*100, 2))\n",
    "   \n",
    "# Проверка гипотезы о равенстве долей используя Z-критерий\n",
    "alpha = 0.05 #критический уровень статистической значимости\n",
    "_, pvalue = proportions_ztest(\n",
    "    count=visitors.query(\"group=='A'\")['visitors'].sum(), \n",
    "    nobs=visitors['visitors'].sum(),\n",
    "    value=0.5\n",
    ")\n",
    "print('p-value = {0:.3f}'.format(pvalue))\n",
    "if pvalue < alpha:\n",
    "    print(\"Разница в количестве посетителей в группах A и B статистически значима\")\n",
    "else:\n",
    "    print(\"Разница в количестве посетителей в группах A и B статистически НЕ значима\")"
   ]
  },
  {
   "cell_type": "code",
   "execution_count": 5,
   "metadata": {},
   "outputs": [
    {
     "data": {
      "text/html": [
       "<div>\n",
       "<style scoped>\n",
       "    .dataframe tbody tr th:only-of-type {\n",
       "        vertical-align: middle;\n",
       "    }\n",
       "\n",
       "    .dataframe tbody tr th {\n",
       "        vertical-align: top;\n",
       "    }\n",
       "\n",
       "    .dataframe thead th {\n",
       "        text-align: right;\n",
       "    }\n",
       "</style>\n",
       "<table border=\"1\" class=\"dataframe\">\n",
       "  <thead>\n",
       "    <tr style=\"text-align: right;\">\n",
       "      <th></th>\n",
       "      <th>groops_count</th>\n",
       "      <th>groop_names</th>\n",
       "    </tr>\n",
       "    <tr>\n",
       "      <th>visitorid</th>\n",
       "      <th></th>\n",
       "      <th></th>\n",
       "    </tr>\n",
       "  </thead>\n",
       "  <tbody>\n",
       "    <tr>\n",
       "      <th>8300375</th>\n",
       "      <td>2</td>\n",
       "      <td>[B, A]</td>\n",
       "    </tr>\n",
       "    <tr>\n",
       "      <th>199603092</th>\n",
       "      <td>2</td>\n",
       "      <td>[A, B]</td>\n",
       "    </tr>\n",
       "    <tr>\n",
       "      <th>232979603</th>\n",
       "      <td>2</td>\n",
       "      <td>[B, A]</td>\n",
       "    </tr>\n",
       "    <tr>\n",
       "      <th>237748145</th>\n",
       "      <td>2</td>\n",
       "      <td>[B, A]</td>\n",
       "    </tr>\n",
       "    <tr>\n",
       "      <th>276558944</th>\n",
       "      <td>2</td>\n",
       "      <td>[B, A]</td>\n",
       "    </tr>\n",
       "  </tbody>\n",
       "</table>\n",
       "</div>"
      ],
      "text/plain": [
       "           groops_count groop_names\n",
       "visitorid                          \n",
       "8300375               2      [B, A]\n",
       "199603092             2      [A, B]\n",
       "232979603             2      [B, A]\n",
       "237748145             2      [B, A]\n",
       "276558944             2      [B, A]"
      ]
     },
     "metadata": {},
     "output_type": "display_data"
    },
    {
     "name": "stdout",
     "output_type": "stream",
     "text": [
      "Количество пользователей попавших в обе группы: 58\n"
     ]
    }
   ],
   "source": [
    "# Проверка на пересечение пользователей\n",
    "duplicatedusers = orders.groupby('visitorid').agg({'group':['nunique', 'unique']})\n",
    "duplicatedusers.columns = ['groops_count', 'groop_names']\n",
    "duplicatedusers = duplicatedusers[duplicatedusers['groops_count'] > 1]\n",
    "display(duplicatedusers.head())\n",
    "print('Количество пользователей попавших в обе группы:', len(duplicatedusers))"
   ]
  },
  {
   "cell_type": "markdown",
   "metadata": {},
   "source": [
    "Дубликатов и пропусков не обнаружено. Группы тестирования разбиты корректно. \n",
    "Имеются 58 пользователей которые попали в обе группы тестирования. Эту информацию нужно передать разработчикам."
   ]
  },
  {
   "cell_type": "markdown",
   "metadata": {},
   "source": [
    "## Приоритизация гипотез"
   ]
  },
  {
   "cell_type": "code",
   "execution_count": 6,
   "metadata": {},
   "outputs": [
    {
     "data": {
      "text/html": [
       "<div>\n",
       "<style scoped>\n",
       "    .dataframe tbody tr th:only-of-type {\n",
       "        vertical-align: middle;\n",
       "    }\n",
       "\n",
       "    .dataframe tbody tr th {\n",
       "        vertical-align: top;\n",
       "    }\n",
       "\n",
       "    .dataframe thead th {\n",
       "        text-align: right;\n",
       "    }\n",
       "</style>\n",
       "<table border=\"1\" class=\"dataframe\">\n",
       "  <thead>\n",
       "    <tr style=\"text-align: right;\">\n",
       "      <th></th>\n",
       "      <th>hypothesis</th>\n",
       "      <th>ice</th>\n",
       "    </tr>\n",
       "  </thead>\n",
       "  <tbody>\n",
       "    <tr>\n",
       "      <th>8</th>\n",
       "      <td>Запустить акцию, дающую скидку на товар в день рождения</td>\n",
       "      <td>16.200000</td>\n",
       "    </tr>\n",
       "    <tr>\n",
       "      <th>0</th>\n",
       "      <td>Добавить два новых канала привлечения трафика, что позволит привлекать на 30% больше пользователей</td>\n",
       "      <td>13.333333</td>\n",
       "    </tr>\n",
       "    <tr>\n",
       "      <th>7</th>\n",
       "      <td>Добавить форму подписки на все основные страницы, чтобы собрать базу клиентов для email-рассылок</td>\n",
       "      <td>11.200000</td>\n",
       "    </tr>\n",
       "    <tr>\n",
       "      <th>6</th>\n",
       "      <td>Показать на главной странице баннеры с актуальными акциями и распродажами, чтобы увеличить конверсию</td>\n",
       "      <td>8.000000</td>\n",
       "    </tr>\n",
       "    <tr>\n",
       "      <th>2</th>\n",
       "      <td>Добавить блоки рекомендаций товаров на сайт интернет магазина, чтобы повысить конверсию и средний чек заказа</td>\n",
       "      <td>7.000000</td>\n",
       "    </tr>\n",
       "    <tr>\n",
       "      <th>1</th>\n",
       "      <td>Запустить собственную службу доставки, что сократит срок доставки заказов</td>\n",
       "      <td>2.000000</td>\n",
       "    </tr>\n",
       "    <tr>\n",
       "      <th>5</th>\n",
       "      <td>Добавить страницу отзывов клиентов о магазине, что позволит увеличить количество заказов</td>\n",
       "      <td>1.333333</td>\n",
       "    </tr>\n",
       "    <tr>\n",
       "      <th>3</th>\n",
       "      <td>Изменить структура категорий, что увеличит конверсию, т.к. пользователи быстрее найдут нужный товар</td>\n",
       "      <td>1.125000</td>\n",
       "    </tr>\n",
       "    <tr>\n",
       "      <th>4</th>\n",
       "      <td>Изменить цвет фона главной страницы, чтобы увеличить вовлеченность пользователей</td>\n",
       "      <td>1.000000</td>\n",
       "    </tr>\n",
       "  </tbody>\n",
       "</table>\n",
       "</div>"
      ],
      "text/plain": [
       "                                                                                                     hypothesis  \\\n",
       "8                                                       Запустить акцию, дающую скидку на товар в день рождения   \n",
       "0            Добавить два новых канала привлечения трафика, что позволит привлекать на 30% больше пользователей   \n",
       "7              Добавить форму подписки на все основные страницы, чтобы собрать базу клиентов для email-рассылок   \n",
       "6          Показать на главной странице баннеры с актуальными акциями и распродажами, чтобы увеличить конверсию   \n",
       "2  Добавить блоки рекомендаций товаров на сайт интернет магазина, чтобы повысить конверсию и средний чек заказа   \n",
       "1                                     Запустить собственную службу доставки, что сократит срок доставки заказов   \n",
       "5                      Добавить страницу отзывов клиентов о магазине, что позволит увеличить количество заказов   \n",
       "3           Изменить структура категорий, что увеличит конверсию, т.к. пользователи быстрее найдут нужный товар   \n",
       "4                              Изменить цвет фона главной страницы, чтобы увеличить вовлеченность пользователей   \n",
       "\n",
       "         ice  \n",
       "8  16.200000  \n",
       "0  13.333333  \n",
       "7  11.200000  \n",
       "6   8.000000  \n",
       "2   7.000000  \n",
       "1   2.000000  \n",
       "5   1.333333  \n",
       "3   1.125000  \n",
       "4   1.000000  "
      ]
     },
     "metadata": {},
     "output_type": "display_data"
    }
   ],
   "source": [
    "# Применим фраймворк ICE\n",
    "hyp['ice'] = hyp['impact']*hyp['confidence']/hyp['efforts']\n",
    "display(hyp[['hypothesis','ice']].sort_values(by='ice', ascending=False))"
   ]
  },
  {
   "cell_type": "markdown",
   "metadata": {},
   "source": [
    "Наиболее перспективные гипотезы:\n",
    "- Запустить акцию, дающую скидку на товар в день рождения\n",
    "- Добавить два новых канала привлечения трафика, что позволит привлекать на 30% больше пользователей\n",
    "- Добавить форму подписки на все основные страницы, чтобы собрать базу клиентов для email-рассылок\n",
    "- Показать на главной странице баннеры с актуальными акциями и распродажами, чтобы увеличить конверсию\n",
    "- Добавить блоки рекомендаций товаров на сайт интернет магазина, чтобы повысить конверсию и средний чек заказа"
   ]
  },
  {
   "cell_type": "code",
   "execution_count": 7,
   "metadata": {},
   "outputs": [
    {
     "data": {
      "text/html": [
       "<div>\n",
       "<style scoped>\n",
       "    .dataframe tbody tr th:only-of-type {\n",
       "        vertical-align: middle;\n",
       "    }\n",
       "\n",
       "    .dataframe tbody tr th {\n",
       "        vertical-align: top;\n",
       "    }\n",
       "\n",
       "    .dataframe thead th {\n",
       "        text-align: right;\n",
       "    }\n",
       "</style>\n",
       "<table border=\"1\" class=\"dataframe\">\n",
       "  <thead>\n",
       "    <tr style=\"text-align: right;\">\n",
       "      <th></th>\n",
       "      <th>hypothesis</th>\n",
       "      <th>rice</th>\n",
       "      <th>reach</th>\n",
       "    </tr>\n",
       "  </thead>\n",
       "  <tbody>\n",
       "    <tr>\n",
       "      <th>7</th>\n",
       "      <td>Добавить форму подписки на все основные страницы, чтобы собрать базу клиентов для email-рассылок</td>\n",
       "      <td>112.0</td>\n",
       "      <td>10</td>\n",
       "    </tr>\n",
       "    <tr>\n",
       "      <th>2</th>\n",
       "      <td>Добавить блоки рекомендаций товаров на сайт интернет магазина, чтобы повысить конверсию и средний чек заказа</td>\n",
       "      <td>56.0</td>\n",
       "      <td>8</td>\n",
       "    </tr>\n",
       "    <tr>\n",
       "      <th>0</th>\n",
       "      <td>Добавить два новых канала привлечения трафика, что позволит привлекать на 30% больше пользователей</td>\n",
       "      <td>40.0</td>\n",
       "      <td>3</td>\n",
       "    </tr>\n",
       "    <tr>\n",
       "      <th>6</th>\n",
       "      <td>Показать на главной странице баннеры с актуальными акциями и распродажами, чтобы увеличить конверсию</td>\n",
       "      <td>40.0</td>\n",
       "      <td>5</td>\n",
       "    </tr>\n",
       "    <tr>\n",
       "      <th>8</th>\n",
       "      <td>Запустить акцию, дающую скидку на товар в день рождения</td>\n",
       "      <td>16.2</td>\n",
       "      <td>1</td>\n",
       "    </tr>\n",
       "    <tr>\n",
       "      <th>3</th>\n",
       "      <td>Изменить структура категорий, что увеличит конверсию, т.к. пользователи быстрее найдут нужный товар</td>\n",
       "      <td>9.0</td>\n",
       "      <td>8</td>\n",
       "    </tr>\n",
       "    <tr>\n",
       "      <th>1</th>\n",
       "      <td>Запустить собственную службу доставки, что сократит срок доставки заказов</td>\n",
       "      <td>4.0</td>\n",
       "      <td>2</td>\n",
       "    </tr>\n",
       "    <tr>\n",
       "      <th>5</th>\n",
       "      <td>Добавить страницу отзывов клиентов о магазине, что позволит увеличить количество заказов</td>\n",
       "      <td>4.0</td>\n",
       "      <td>3</td>\n",
       "    </tr>\n",
       "    <tr>\n",
       "      <th>4</th>\n",
       "      <td>Изменить цвет фона главной страницы, чтобы увеличить вовлеченность пользователей</td>\n",
       "      <td>3.0</td>\n",
       "      <td>3</td>\n",
       "    </tr>\n",
       "  </tbody>\n",
       "</table>\n",
       "</div>"
      ],
      "text/plain": [
       "                                                                                                     hypothesis  \\\n",
       "7              Добавить форму подписки на все основные страницы, чтобы собрать базу клиентов для email-рассылок   \n",
       "2  Добавить блоки рекомендаций товаров на сайт интернет магазина, чтобы повысить конверсию и средний чек заказа   \n",
       "0            Добавить два новых канала привлечения трафика, что позволит привлекать на 30% больше пользователей   \n",
       "6          Показать на главной странице баннеры с актуальными акциями и распродажами, чтобы увеличить конверсию   \n",
       "8                                                       Запустить акцию, дающую скидку на товар в день рождения   \n",
       "3           Изменить структура категорий, что увеличит конверсию, т.к. пользователи быстрее найдут нужный товар   \n",
       "1                                     Запустить собственную службу доставки, что сократит срок доставки заказов   \n",
       "5                      Добавить страницу отзывов клиентов о магазине, что позволит увеличить количество заказов   \n",
       "4                              Изменить цвет фона главной страницы, чтобы увеличить вовлеченность пользователей   \n",
       "\n",
       "    rice  reach  \n",
       "7  112.0     10  \n",
       "2   56.0      8  \n",
       "0   40.0      3  \n",
       "6   40.0      5  \n",
       "8   16.2      1  \n",
       "3    9.0      8  \n",
       "1    4.0      2  \n",
       "5    4.0      3  \n",
       "4    3.0      3  "
      ]
     },
     "metadata": {},
     "output_type": "display_data"
    }
   ],
   "source": [
    "# Применим фраймворк RICE\n",
    "hyp['rice'] = hyp['reach']*hyp['impact']*hyp['confidence']/hyp['efforts']\n",
    "display(hyp[['hypothesis','rice', 'reach']].sort_values(by='rice', ascending=False))"
   ]
  },
  {
   "cell_type": "markdown",
   "metadata": {},
   "source": [
    "Наиболее перспективные гипотезы:\n",
    "- Добавить форму подписки на все основные страницы, чтобы собрать базу клиентов для email-рассылок\n",
    "- Добавить блоки рекомендаций товаров на сайт интернет магазина, чтобы повысить конверсию и средний чек заказа\n",
    "- Добавить два новых канала привлечения трафика, что позволит привлекать на 30% больше пользователей\n",
    "- Показать на главной странице баннеры с актуальными акциями и распродажами, чтобы увеличить конверсию"
   ]
  },
  {
   "cell_type": "markdown",
   "metadata": {},
   "source": [
    "После применения фреймворка RISE вместо ICE гипотеза \"Запустить акцию, дающую скидку на товар в день рождения\" вылетела из перспективных. Это произошло потому, что охват пользователей, которых затронет изменение крайне мало. Как поется в известной песне \"К сожаленью, день рожденья. Только раз в году.\""
   ]
  },
  {
   "cell_type": "markdown",
   "metadata": {},
   "source": [
    "## Анализ A/B-теста"
   ]
  },
  {
   "cell_type": "markdown",
   "metadata": {},
   "source": [
    "### Кумулятивная выручка по группам"
   ]
  },
  {
   "cell_type": "code",
   "execution_count": 8,
   "metadata": {},
   "outputs": [
    {
     "data": {
      "text/html": [
       "<div>\n",
       "<style scoped>\n",
       "    .dataframe tbody tr th:only-of-type {\n",
       "        vertical-align: middle;\n",
       "    }\n",
       "\n",
       "    .dataframe tbody tr th {\n",
       "        vertical-align: top;\n",
       "    }\n",
       "\n",
       "    .dataframe thead th {\n",
       "        text-align: right;\n",
       "    }\n",
       "</style>\n",
       "<table border=\"1\" class=\"dataframe\">\n",
       "  <thead>\n",
       "    <tr style=\"text-align: right;\">\n",
       "      <th></th>\n",
       "      <th>date</th>\n",
       "      <th>group</th>\n",
       "      <th>orders</th>\n",
       "      <th>buyers</th>\n",
       "      <th>revenue</th>\n",
       "      <th>visitors</th>\n",
       "    </tr>\n",
       "  </thead>\n",
       "  <tbody>\n",
       "    <tr>\n",
       "      <th>0</th>\n",
       "      <td>2019-08-01</td>\n",
       "      <td>A</td>\n",
       "      <td>24</td>\n",
       "      <td>20</td>\n",
       "      <td>148579</td>\n",
       "      <td>719</td>\n",
       "    </tr>\n",
       "    <tr>\n",
       "      <th>1</th>\n",
       "      <td>2019-08-01</td>\n",
       "      <td>B</td>\n",
       "      <td>21</td>\n",
       "      <td>20</td>\n",
       "      <td>101217</td>\n",
       "      <td>713</td>\n",
       "    </tr>\n",
       "    <tr>\n",
       "      <th>2</th>\n",
       "      <td>2019-08-02</td>\n",
       "      <td>A</td>\n",
       "      <td>44</td>\n",
       "      <td>38</td>\n",
       "      <td>242401</td>\n",
       "      <td>1338</td>\n",
       "    </tr>\n",
       "    <tr>\n",
       "      <th>3</th>\n",
       "      <td>2019-08-02</td>\n",
       "      <td>B</td>\n",
       "      <td>45</td>\n",
       "      <td>43</td>\n",
       "      <td>266748</td>\n",
       "      <td>1294</td>\n",
       "    </tr>\n",
       "    <tr>\n",
       "      <th>4</th>\n",
       "      <td>2019-08-03</td>\n",
       "      <td>A</td>\n",
       "      <td>68</td>\n",
       "      <td>62</td>\n",
       "      <td>354874</td>\n",
       "      <td>1845</td>\n",
       "    </tr>\n",
       "  </tbody>\n",
       "</table>\n",
       "</div>"
      ],
      "text/plain": [
       "        date group  orders  buyers  revenue  visitors\n",
       "0 2019-08-01     A      24      20   148579       719\n",
       "1 2019-08-01     B      21      20   101217       713\n",
       "2 2019-08-02     A      44      38   242401      1338\n",
       "3 2019-08-02     B      45      43   266748      1294\n",
       "4 2019-08-03     A      68      62   354874      1845"
      ]
     },
     "metadata": {},
     "output_type": "display_data"
    }
   ],
   "source": [
    "# Создаем массив дат и групп\n",
    "datesgroups = orders[['date','group']].drop_duplicates()\n",
    "\n",
    "# Соберем агрегированные кумулятивные данные\n",
    "ordersagg = datesgroups.apply(\n",
    "    lambda x: orders[np.logical_and(orders['date'] <= x['date'], orders['group'] == x['group'])].agg({\n",
    "        'date' : 'max',\n",
    "        'group' : 'max',\n",
    "        'transactionid' : pd.Series.nunique,\n",
    "        'visitorid' : pd.Series.nunique,\n",
    "        'revenue' : 'sum'\n",
    "    }), axis=1).sort_values(by=['date','group']) \n",
    "\n",
    "visitorsagg = datesgroups.apply(\n",
    "    lambda x: visitors[np.logical_and(visitors['date'] <= x['date'], visitors['group'] == x['group'])].agg({\n",
    "        'date' : 'max',\n",
    "        'group' : 'max',\n",
    "        'visitors' : 'sum'\n",
    "    }), axis=1).sort_values(by=['date','group'])\n",
    "\n",
    "cumulativedata = ordersagg.merge(visitorsagg, left_on=['date', 'group'], right_on=['date', 'group'])\n",
    "cumulativedata.columns = ['date', 'group', 'orders', 'buyers', 'revenue', 'visitors']\n",
    "display(cumulativedata.head(5))"
   ]
  },
  {
   "cell_type": "code",
   "execution_count": 9,
   "metadata": {},
   "outputs": [
    {
     "data": {
      "image/png": "[encoded data removed]",
      "text/plain": [
       "<Figure size 1080x432 with 1 Axes>"
      ]
     },
     "metadata": {
      "needs_background": "light"
     },
     "output_type": "display_data"
    }
   ],
   "source": [
    "# Разбивка по группам\n",
    "cumulativea = cumulativedata[cumulativedata['group'] == 'A'][['date', 'revenue', 'orders']]\n",
    "cumulativeb = cumulativedata[cumulativedata['group'] == 'B'][['date', 'revenue', 'orders']]\n",
    "\n",
    "# Строим график кумулятивной выручки\n",
    "plt.figure(figsize=(15, 6))\n",
    "plt.title('График кумулятивной выручки по группам', fontsize=18)\n",
    "plt.plot(cumulativea['date'], cumulativea['revenue'], label = 'A')\n",
    "plt.plot(cumulativeb['date'], cumulativeb['revenue'], label = 'B')\n",
    "plt.xlabel('Дата')\n",
    "plt.ylabel('Выручка, млн.')\n",
    "plt.legend()\n",
    "plt.show()"
   ]
  },
  {
   "cell_type": "markdown",
   "metadata": {},
   "source": [
    "Выручка равномерно увеличивалась до 18 августа 2019 в обоих группах, после группа B вырвалась вперед и лидировала весь остаток теста. Это может быть следствием аномально больших заказов или увеличения числа заказов. То,что выручка растет на протяжении всего теста - хороший знак."
   ]
  },
  {
   "cell_type": "markdown",
   "metadata": {},
   "source": [
    "### Кумулятивный средний чек по группам"
   ]
  },
  {
   "cell_type": "code",
   "execution_count": 10,
   "metadata": {},
   "outputs": [
    {
     "data": {
      "image/png": "[encoded data removed]",
      "text/plain": [
       "<Figure size 1080x432 with 1 Axes>"
      ]
     },
     "metadata": {
      "needs_background": "light"
     },
     "output_type": "display_data"
    }
   ],
   "source": [
    "# Строим график кумулятивного среднего чека\n",
    "plt.figure(figsize=(15, 6))\n",
    "plt.title('График кумулятивного среднего чека по группам', fontsize=18)\n",
    "plt.plot(cumulativea['date'], cumulativea['revenue']/cumulativea['orders'], label = 'A')\n",
    "plt.plot(cumulativeb['date'], cumulativeb['revenue']/cumulativeb['orders'], label = 'B')\n",
    "plt.xlabel('Дата')\n",
    "plt.ylabel('Средний чек')\n",
    "plt.legend()\n",
    "plt.show()"
   ]
  },
  {
   "cell_type": "markdown",
   "metadata": {},
   "source": [
    "Средний чек группы B так же резко вырос 19 августа 2019, как и в случае выручки. После чего наблюдается небольшое снижение. Средний чек группы A после 19 августа наоборот немного растет. Складывается ощущение, что средние чеки групп А и B хотят выровняться за горизонтом анализа в своеобразном треугольнике. \n",
    "\n",
    "Скорее всего, принимать решение по этой метрике рано. Или требуется дополнительный анализ выбросов."
   ]
  },
  {
   "cell_type": "markdown",
   "metadata": {},
   "source": [
    "### Относительное изменение кумулятивного среднего чека группы B к группе A"
   ]
  },
  {
   "cell_type": "code",
   "execution_count": 11,
   "metadata": {},
   "outputs": [
    {
     "data": {
      "image/png": "[encoded data removed]",
      "text/plain": [
       "<Figure size 1080x432 with 1 Axes>"
      ]
     },
     "metadata": {
      "needs_background": "light"
     },
     "output_type": "display_data"
    }
   ],
   "source": [
    "# Обьеденяем таблицы группы A и группы B\n",
    "mergedcumulative = cumulativea.merge(\n",
    "    cumulativeb, \n",
    "    left_on='date', \n",
    "    right_on='date', \n",
    "    how='left', \n",
    "    suffixes=['_a', '_b']\n",
    ")\n",
    "\n",
    "# Строим график относительного изменения кумулятивного среднего чека\n",
    "plt.figure(figsize=(15, 6))\n",
    "plt.title('График относительного изменения кумулятивного среднего чека группы B к группе A', fontsize=18)\n",
    "plt.plot(\n",
    "    mergedcumulative['date'],\n",
    "    (mergedcumulative['revenue_b']/mergedcumulative['orders_b'])\n",
    "    /(mergedcumulative['revenue_a']/mergedcumulative['orders_a'])\n",
    "    -1\n",
    ")\n",
    "plt.axhline(y=0, color='red', linestyle='--') \n",
    "plt.xlabel('Дата')\n",
    "plt.ylabel('Отношение средних чеков')\n",
    "plt.show()"
   ]
  },
  {
   "cell_type": "markdown",
   "metadata": {},
   "source": [
    "График резко \"скачет\" из-за аномальных заказов."
   ]
  },
  {
   "cell_type": "markdown",
   "metadata": {},
   "source": [
    "### Кумулятивная конверсия по группам"
   ]
  },
  {
   "cell_type": "code",
   "execution_count": 12,
   "metadata": {},
   "outputs": [
    {
     "data": {
      "image/png": "[encoded data removed]",
      "text/plain": [
       "<Figure size 1080x432 with 1 Axes>"
      ]
     },
     "metadata": {
      "needs_background": "light"
     },
     "output_type": "display_data"
    }
   ],
   "source": [
    "# Создадим столбец с конверсией\n",
    "cumulativedata['conversion'] = cumulativedata['orders'] / cumulativedata['visitors']\n",
    "\n",
    "# Разбивка по группам\n",
    "cumulativea = cumulativedata[cumulativedata['group'] == 'A']\n",
    "cumulativeb = cumulativedata[cumulativedata['group'] == 'B']\n",
    "\n",
    "# Строим график кумулятивной конверсии\n",
    "plt.figure(figsize=(15, 6))\n",
    "plt.title('График кумулятивной конверсии по группам', fontsize=18)\n",
    "plt.plot(cumulativea['date'], cumulativea['conversion'], label = 'A')\n",
    "plt.plot(cumulativeb['date'], cumulativeb['conversion'], label = 'B')\n",
    "plt.grid()\n",
    "plt.xlabel('Дата')\n",
    "plt.ylabel('Конверсия')\n",
    "plt.legend()\n",
    "plt.show()"
   ]
  },
  {
   "cell_type": "markdown",
   "metadata": {},
   "source": [
    "Изначально конверсия группы А была больше конверсии группы B. Далее наблюдались \"скачки\" и резкое снижение конверсии по группе A и стабилизация в диапазоне 0.029-0.031, по группе B наоборот конверсия выросла и стабилизировалась в диапазоне 0.033-0.034."
   ]
  },
  {
   "cell_type": "markdown",
   "metadata": {},
   "source": [
    "### Относительное изменение кумулятивной конверсии группы B к группе A"
   ]
  },
  {
   "cell_type": "code",
   "execution_count": 13,
   "metadata": {},
   "outputs": [
    {
     "data": {
      "image/png": "[encoded data removed]",
      "text/plain": [
       "<Figure size 1080x432 with 1 Axes>"
      ]
     },
     "metadata": {
      "needs_background": "light"
     },
     "output_type": "display_data"
    }
   ],
   "source": [
    "# Обьеденяем таблицы группы A и группы B\n",
    "mergedcumulative = cumulativea.merge(\n",
    "    cumulativeb, \n",
    "    left_on='date', \n",
    "    right_on='date', \n",
    "    how='left', \n",
    "    suffixes=['_a', '_b']\n",
    ")\n",
    "\n",
    "# Строим график относительного изменения кумулятивного среднего чека\n",
    "plt.figure(figsize=(15, 6))\n",
    "plt.title('График относительного изменения кумулятивной конверсии группы B к группе A', fontsize=18)\n",
    "plt.plot(\n",
    "    mergedcumulative['date'],\n",
    "    (mergedcumulative['conversion_b']/mergedcumulative['conversion_a'])\n",
    "    -1\n",
    ")\n",
    "plt.axhline(y=0, color='red', linestyle='--')\n",
    "plt.axhline(y=0.15, color='black', linestyle='--') \n",
    "plt.xlabel('Дата')\n",
    "plt.ylabel('Отношение конверсий')\n",
    "plt.show()"
   ]
  },
  {
   "cell_type": "markdown",
   "metadata": {},
   "source": [
    "Практически с самого начала тестирования группа B вырвалась вперед группы A по конверсии и зафиксировалась около прироста в 15% относительно группы А."
   ]
  },
  {
   "cell_type": "markdown",
   "metadata": {},
   "source": [
    "### Количество заказов по пользователям"
   ]
  },
  {
   "cell_type": "code",
   "execution_count": 14,
   "metadata": {},
   "outputs": [
    {
     "data": {
      "image/png": "[encoded data removed]",
      "text/plain": [
       "<Figure size 1080x432 with 1 Axes>"
      ]
     },
     "metadata": {
      "needs_background": "light"
     },
     "output_type": "display_data"
    }
   ],
   "source": [
    "# Группировка заказов по пользователям\n",
    "ordersbyusers = (orders.groupby('visitorid', as_index=False).agg({'transactionid': pd.Series.nunique}))\n",
    "\n",
    "# Переименуем столбцы для удобства\n",
    "ordersbyusers.columns = ['user_id', 'orders']\n",
    "\n",
    "#Строим график\n",
    "x_values = pd.Series(range(0,len(ordersbyusers)))\n",
    "plt.figure(figsize=(15, 6))\n",
    "plt.title('Точечный график количества заказов по пользователям', fontsize=18)\n",
    "plt.scatter(x_values, ordersbyusers['orders']) \n",
    "plt.xlabel('Пользователи')\n",
    "plt.ylabel('Количество заказов')\n",
    "plt.show()"
   ]
  },
  {
   "cell_type": "markdown",
   "metadata": {},
   "source": [
    "Пользователей заказавших более 3х раз очень мало. Они вполене могут быть аномальными."
   ]
  },
  {
   "cell_type": "code",
   "execution_count": 15,
   "metadata": {},
   "outputs": [
    {
     "name": "stdout",
     "output_type": "stream",
     "text": [
      "[2. 4.]\n"
     ]
    }
   ],
   "source": [
    "#Расчет 95-й и 99-й перцентилей\n",
    "print(np.percentile(ordersbyusers['orders'], [95, 99]))"
   ]
  },
  {
   "cell_type": "markdown",
   "metadata": {},
   "source": [
    "Не более 5% пользователей заказали более 2х заказов и не более 1% пользователей заказали более 4х заказов. Принимаем за аномальных пользователей, тех кто совершил больше 4х заказов, что соответствует 1% пользователей."
   ]
  },
  {
   "cell_type": "markdown",
   "metadata": {},
   "source": [
    "### Стоимость заказов"
   ]
  },
  {
   "cell_type": "code",
   "execution_count": 16,
   "metadata": {},
   "outputs": [
    {
     "data": {
      "image/png": "[encoded data removed]",
      "text/plain": [
       "<Figure size 1080x432 with 1 Axes>"
      ]
     },
     "metadata": {
      "needs_background": "light"
     },
     "output_type": "display_data"
    }
   ],
   "source": [
    "# Строим график\n",
    "x_values = pd.Series(range(0, len(orders['revenue'])))\n",
    "plt.figure(figsize=(15, 6))\n",
    "plt.title('Точечный график стоимостей заказов', fontsize=18)\n",
    "plt.scatter(x_values, orders['revenue']) \n",
    "plt.xlabel('Пользователи')\n",
    "plt.ylabel('Выручка')\n",
    "plt.show()"
   ]
  },
  {
   "cell_type": "code",
   "execution_count": 17,
   "metadata": {},
   "outputs": [
    {
     "data": {
      "image/png": "[encoded data removed]",
      "text/plain": [
       "<Figure size 1080x432 with 1 Axes>"
      ]
     },
     "metadata": {
      "needs_background": "light"
     },
     "output_type": "display_data"
    }
   ],
   "source": [
    "# В приближении\n",
    "x_values = pd.Series(range(0, len(orders['revenue'])))\n",
    "plt.figure(figsize=(15, 6))\n",
    "plt.title('Точечный график стоимостей заказов', fontsize=18)\n",
    "plt.scatter(x_values, orders['revenue']) \n",
    "plt.xlabel('Пользователи')\n",
    "plt.ylabel('Выручка')\n",
    "plt.ylim(0, 220000)\n",
    "plt.show()"
   ]
  },
  {
   "cell_type": "markdown",
   "metadata": {},
   "source": [
    "В отдалении мы видим два очень крупных заказа, которые явно являются выбросами. В приближении по графику аномальную границу стоимости заказов можно выбрать в диапазоне от 25000 до 50000."
   ]
  },
  {
   "cell_type": "code",
   "execution_count": 18,
   "metadata": {},
   "outputs": [
    {
     "name": "stdout",
     "output_type": "stream",
     "text": [
      "[28000.  58233.2]\n"
     ]
    }
   ],
   "source": [
    "#Расчет 95-й и 99-й перцентилей\n",
    "print(np.percentile(orders['revenue'], [95, 99]))"
   ]
  },
  {
   "cell_type": "markdown",
   "metadata": {},
   "source": [
    "Не более 5 % заказов совершено на сумму 28000, не более 1 % - 58233.2. Примем за аномальные заказы, покупки на 50000 и более, что соответствует чуть больше 1% от количества заказов."
   ]
  },
  {
   "cell_type": "markdown",
   "metadata": {},
   "source": [
    "### Статистическая значимость различий в конверсии, в среднем чеке заказа между группами по «сырым» данным"
   ]
  },
  {
   "cell_type": "code",
   "execution_count": 19,
   "metadata": {},
   "outputs": [
    {
     "data": {
      "text/html": [
       "<div>\n",
       "<style scoped>\n",
       "    .dataframe tbody tr th:only-of-type {\n",
       "        vertical-align: middle;\n",
       "    }\n",
       "\n",
       "    .dataframe tbody tr th {\n",
       "        vertical-align: top;\n",
       "    }\n",
       "\n",
       "    .dataframe thead th {\n",
       "        text-align: right;\n",
       "    }\n",
       "</style>\n",
       "<table border=\"1\" class=\"dataframe\">\n",
       "  <thead>\n",
       "    <tr style=\"text-align: right;\">\n",
       "      <th></th>\n",
       "      <th>date</th>\n",
       "      <th>ordersperdatea</th>\n",
       "      <th>revenueperdatea</th>\n",
       "      <th>ordersperdateb</th>\n",
       "      <th>revenueperdateb</th>\n",
       "      <th>orderscummulativea</th>\n",
       "      <th>revenuecummulativea</th>\n",
       "      <th>orderscummulativeb</th>\n",
       "      <th>revenuecummulativeb</th>\n",
       "      <th>visitorsperdatea</th>\n",
       "      <th>visitorsperdateb</th>\n",
       "      <th>visitorscummulativea</th>\n",
       "      <th>visitorscummulativeb</th>\n",
       "    </tr>\n",
       "  </thead>\n",
       "  <tbody>\n",
       "    <tr>\n",
       "      <th>0</th>\n",
       "      <td>2019-08-01</td>\n",
       "      <td>24</td>\n",
       "      <td>148579</td>\n",
       "      <td>21</td>\n",
       "      <td>101217</td>\n",
       "      <td>24</td>\n",
       "      <td>148579</td>\n",
       "      <td>21</td>\n",
       "      <td>101217</td>\n",
       "      <td>719</td>\n",
       "      <td>713</td>\n",
       "      <td>719</td>\n",
       "      <td>713</td>\n",
       "    </tr>\n",
       "    <tr>\n",
       "      <th>1</th>\n",
       "      <td>2019-08-02</td>\n",
       "      <td>20</td>\n",
       "      <td>93822</td>\n",
       "      <td>24</td>\n",
       "      <td>165531</td>\n",
       "      <td>44</td>\n",
       "      <td>242401</td>\n",
       "      <td>45</td>\n",
       "      <td>266748</td>\n",
       "      <td>619</td>\n",
       "      <td>581</td>\n",
       "      <td>1338</td>\n",
       "      <td>1294</td>\n",
       "    </tr>\n",
       "    <tr>\n",
       "      <th>2</th>\n",
       "      <td>2019-08-03</td>\n",
       "      <td>24</td>\n",
       "      <td>112473</td>\n",
       "      <td>16</td>\n",
       "      <td>114248</td>\n",
       "      <td>68</td>\n",
       "      <td>354874</td>\n",
       "      <td>61</td>\n",
       "      <td>380996</td>\n",
       "      <td>507</td>\n",
       "      <td>509</td>\n",
       "      <td>1845</td>\n",
       "      <td>1803</td>\n",
       "    </tr>\n",
       "    <tr>\n",
       "      <th>3</th>\n",
       "      <td>2019-08-04</td>\n",
       "      <td>16</td>\n",
       "      <td>70825</td>\n",
       "      <td>17</td>\n",
       "      <td>108571</td>\n",
       "      <td>84</td>\n",
       "      <td>425699</td>\n",
       "      <td>78</td>\n",
       "      <td>489567</td>\n",
       "      <td>717</td>\n",
       "      <td>770</td>\n",
       "      <td>2562</td>\n",
       "      <td>2573</td>\n",
       "    </tr>\n",
       "    <tr>\n",
       "      <th>4</th>\n",
       "      <td>2019-08-05</td>\n",
       "      <td>25</td>\n",
       "      <td>124218</td>\n",
       "      <td>23</td>\n",
       "      <td>92428</td>\n",
       "      <td>109</td>\n",
       "      <td>549917</td>\n",
       "      <td>101</td>\n",
       "      <td>581995</td>\n",
       "      <td>756</td>\n",
       "      <td>707</td>\n",
       "      <td>3318</td>\n",
       "      <td>3280</td>\n",
       "    </tr>\n",
       "  </tbody>\n",
       "</table>\n",
       "</div>"
      ],
      "text/plain": [
       "        date  ordersperdatea  revenueperdatea  ordersperdateb  \\\n",
       "0 2019-08-01              24           148579              21   \n",
       "1 2019-08-02              20            93822              24   \n",
       "2 2019-08-03              24           112473              16   \n",
       "3 2019-08-04              16            70825              17   \n",
       "4 2019-08-05              25           124218              23   \n",
       "\n",
       "   revenueperdateb  orderscummulativea  revenuecummulativea  \\\n",
       "0           101217                  24               148579   \n",
       "1           165531                  44               242401   \n",
       "2           114248                  68               354874   \n",
       "3           108571                  84               425699   \n",
       "4            92428                 109               549917   \n",
       "\n",
       "   orderscummulativeb  revenuecummulativeb  visitorsperdatea  \\\n",
       "0                  21               101217               719   \n",
       "1                  45               266748               619   \n",
       "2                  61               380996               507   \n",
       "3                  78               489567               717   \n",
       "4                 101               581995               756   \n",
       "\n",
       "   visitorsperdateb  visitorscummulativea  visitorscummulativeb  \n",
       "0               713                   719                   713  \n",
       "1               581                  1338                  1294  \n",
       "2               509                  1845                  1803  \n",
       "3               770                  2562                  2573  \n",
       "4               707                  3318                  3280  "
      ]
     },
     "metadata": {},
     "output_type": "display_data"
    }
   ],
   "source": [
    "# Соберем данные по заказам и визитам в одну таблицу\n",
    "# Визиты\n",
    "visitorsadaily = visitors[visitors['group']=='A'][['date', 'visitors']]\n",
    "visitorsadaily.columns = ['date', 'visitorsperdatea']\n",
    " \n",
    "visitorsacummulative = visitorsadaily.apply(\n",
    "    lambda x: visitorsadaily[visitorsadaily['date'] <= x['date']].agg({\n",
    "        'date' : 'max',\n",
    "        'visitorsperdatea' : 'sum'\n",
    "    }), axis=1)\n",
    "visitorsacummulative.columns = ['date', 'visitorscummulativea']\n",
    " \n",
    "visitorsbdaily = visitors[visitors['group']=='B'][['date', 'visitors']]\n",
    "visitorsbdaily.columns = ['date', 'visitorsperdateb']\n",
    " \n",
    "visitorsbcummulative = visitorsbdaily.apply(\n",
    "    lambda x: visitorsbdaily[visitorsbdaily['date'] <= x['date']].agg({\n",
    "        'date' : 'max',\n",
    "        'visitorsperdateb' : 'sum'\n",
    "    }), axis=1)\n",
    "visitorsbcummulative.columns = ['date', 'visitorscummulativeb']\n",
    "\n",
    "# Заказы\n",
    "ordersadaily = (\n",
    "    orders[orders['group']=='A'][['date', 'transactionid', 'visitorid', 'revenue']]\n",
    "    .groupby('date', as_index=False)\n",
    "    .agg({'transactionid' : pd.Series.nunique, 'revenue' : 'sum'})\n",
    ")\n",
    "ordersadaily.columns = ['date', 'ordersperdatea', 'revenueperdatea']\n",
    " \n",
    "ordersacummulative = ordersadaily.apply(\n",
    "    lambda x: ordersadaily[ordersadaily['date'] <= x['date']].agg({\n",
    "        'date' : 'max',\n",
    "        'ordersperdatea' : 'sum',\n",
    "        'revenueperdatea' : 'sum'\n",
    "    }), axis=1).sort_values(by=['date'])\n",
    "ordersacummulative.columns = ['date', 'orderscummulativea', 'revenuecummulativea']\n",
    " \n",
    "ordersbdaily = (\n",
    "    orders[orders['group']=='B'][['date', 'transactionid', 'visitorid', 'revenue']]\n",
    "    .groupby('date', as_index=False)\n",
    "    .agg({'transactionid' : pd.Series.nunique, 'revenue' : 'sum'})\n",
    ")\n",
    "ordersbdaily.columns = ['date', 'ordersperdateb', 'revenueperdateb']\n",
    " \n",
    "ordersbcummulative = ordersbdaily.apply(\n",
    "    lambda x: ordersbdaily[ordersbdaily['date'] <= x['date']].agg({\n",
    "        'date' : 'max',\n",
    "        'ordersperdateb' : 'sum',\n",
    "        'revenueperdateb' : 'sum'\n",
    "    }), axis=1).sort_values(by=['date'])\n",
    "ordersbcummulative.columns = ['date', 'orderscummulativeb', 'revenuecummulativeb']\n",
    "\n",
    "# Объеденяем визиты и заказы в одну таблицу\n",
    "data = ordersadaily.merge(ordersbdaily, left_on='date', right_on='date', how='left')\\\n",
    "    .merge(ordersacummulative, left_on='date', right_on='date', how='left')\\\n",
    "    .merge(ordersbcummulative, left_on='date', right_on='date', how='left')\\\n",
    "    .merge(visitorsadaily, left_on='date', right_on='date', how='left')\\\n",
    "    .merge(visitorsbdaily, left_on='date', right_on='date', how='left')\\\n",
    "    .merge(visitorsacummulative, left_on='date', right_on='date', how='left')\\\n",
    "    .merge(visitorsbcummulative, left_on='date', right_on='date', how='left')\n",
    "display(data.head())"
   ]
  },
  {
   "cell_type": "markdown",
   "metadata": {},
   "source": [
    "Воспользуемся критерием Манна-Уитни для подсчета статистической значимости различий в конверсии между группами<br><br>\n",
    "<b>\n",
    "H0: Конверсия группы A равна конверсии группы B<br>\n",
    "H1: Конверсия группы A НЕ равна конверсии группы B<br>\n",
    "</b>"
   ]
  },
  {
   "cell_type": "code",
   "execution_count": 20,
   "metadata": {},
   "outputs": [
    {
     "name": "stdout",
     "output_type": "stream",
     "text": [
      "p-value = 0.017\n",
      "Отвергаем H0: разница статистически значима\n",
      "Относительный различие конверсии между группами \"B\" и \"A\" = 0.138\n"
     ]
    }
   ],
   "source": [
    "# Подготовка данных к тесту Манна-Уитни\n",
    "ordersbyusersa = orders[orders['group']=='A'].groupby('visitorid', as_index=False).agg({'transactionid' : pd.Series.nunique})\n",
    "ordersbyusersa.columns = ['user_id', 'orders']\n",
    "\n",
    "ordersbyusersb = orders[orders['group']=='B'].groupby('visitorid', as_index=False).agg({'transactionid' : pd.Series.nunique})\n",
    "ordersbyusersb.columns = ['user_id', 'orders']\n",
    " \n",
    "samplea = pd.concat(\n",
    "    [\n",
    "        ordersbyusersa['orders'],\n",
    "        pd.Series(0, index=np.arange(data['visitorsperdatea'].sum() - len(ordersbyusersa['orders'])), name='orders')\n",
    "    ],\n",
    "    axis=0\n",
    ")\n",
    "sampleb = pd.concat(\n",
    "    [\n",
    "        ordersbyusersb['orders'],\n",
    "        pd.Series(0, index=np.arange(data['visitorsperdateb'].sum() - len(ordersbyusersb['orders'])), name='orders')\n",
    "    ],\n",
    "    axis=0\n",
    ")\n",
    "\n",
    "# Статистическая значимость различий в конверсии\n",
    "alpha = 0.05 #критический уровень статистической значимости\n",
    "results = stats.mannwhitneyu(samplea, sampleb)\n",
    "print('p-value = {0:.3f}'.format(results.pvalue))\n",
    "if results.pvalue < alpha:\n",
    "    print('Отвергаем H0: разница статистически значима')\n",
    "else:\n",
    "    print('Не получилось отвергнуть H0: вывод о различии сделать нельзя')\n",
    "print('Относительный различие конверсии между группами \"B\" и \"A\" = {0:.3f}'.format(sampleb.mean()/samplea.mean()-1)) "
   ]
  },
  {
   "cell_type": "code",
   "execution_count": 21,
   "metadata": {},
   "outputs": [
    {
     "data": {
      "text/html": [
       "<div>\n",
       "<style scoped>\n",
       "    .dataframe tbody tr th:only-of-type {\n",
       "        vertical-align: middle;\n",
       "    }\n",
       "\n",
       "    .dataframe tbody tr th {\n",
       "        vertical-align: top;\n",
       "    }\n",
       "\n",
       "    .dataframe thead th {\n",
       "        text-align: right;\n",
       "    }\n",
       "</style>\n",
       "<table border=\"1\" class=\"dataframe\">\n",
       "  <thead>\n",
       "    <tr style=\"text-align: right;\">\n",
       "      <th></th>\n",
       "      <th>group</th>\n",
       "      <th>orders</th>\n",
       "      <th>visitors</th>\n",
       "      <th>conversion</th>\n",
       "    </tr>\n",
       "  </thead>\n",
       "  <tbody>\n",
       "    <tr>\n",
       "      <th>0</th>\n",
       "      <td>A</td>\n",
       "      <td>557</td>\n",
       "      <td>18736</td>\n",
       "      <td>0.029729</td>\n",
       "    </tr>\n",
       "    <tr>\n",
       "      <th>1</th>\n",
       "      <td>B</td>\n",
       "      <td>640</td>\n",
       "      <td>18916</td>\n",
       "      <td>0.033834</td>\n",
       "    </tr>\n",
       "  </tbody>\n",
       "</table>\n",
       "</div>"
      ],
      "text/plain": [
       "  group  orders  visitors  conversion\n",
       "0     A     557     18736    0.029729\n",
       "1     B     640     18916    0.033834"
      ]
     },
     "metadata": {},
     "output_type": "display_data"
    }
   ],
   "source": [
    "conversion = (orders\n",
    "              .groupby('group')\n",
    "              .agg({'transactionid':'count'})\n",
    "              .rename(columns={'transactionid':'orders'})\n",
    "             ).join((visitors.groupby('group').agg({'visitors':'sum'}))).reset_index()\n",
    "#добавим столбец с конверсией\n",
    "conversion['conversion'] = conversion['orders'] / conversion['visitors']\n",
    "display(conversion)"
   ]
  },
  {
   "cell_type": "markdown",
   "metadata": {},
   "source": [
    "P-value меньше 0.05. Значит, нулевую гипотезу о том, что статистически значимых различий в конверсии между группами нет - отвергаем. Конверсия группы B на 13.8% больше конверсии группы А."
   ]
  },
  {
   "cell_type": "markdown",
   "metadata": {},
   "source": [
    "Воспользуемся критерием Манна-Уитни для подсчета статистической значимости различий в среднем чеке заказа между группами<br>\n",
    "<b>\n",
    "H0: Средний чек A равен среднему чеку группы B<br>\n",
    "H1: Средний чек A НЕ равен среднему чеку группы B<br>\n",
    "</b>"
   ]
  },
  {
   "cell_type": "code",
   "execution_count": 22,
   "metadata": {},
   "outputs": [
    {
     "name": "stdout",
     "output_type": "stream",
     "text": [
      "p-value = 0.729\n",
      "Не получилось отвергнуть H0: вывод о различии сделать нельзя\n",
      "Относительный различие среднего чека заказа между группами \"B\" и \"A\" = 0.259\n"
     ]
    }
   ],
   "source": [
    "# Статистическая значимость различий в среднем чеке заказа\n",
    "alpha = 0.05 #критический уровень статистической значимости\n",
    "results = stats.mannwhitneyu(orders[orders['group']=='A']['revenue'], orders[orders['group']=='B']['revenue'])\n",
    "print('p-value = {0:.3f}'.format(results.pvalue))\n",
    "if results.pvalue < alpha:\n",
    "    print('Отвергаем H0: разница статистически значима')\n",
    "else:\n",
    "    print('Не получилось отвергнуть H0: вывод о различии сделать нельзя')\n",
    "print(\n",
    "    'Относительный различие среднего чека заказа между группами \"B\" и \"A\" = {0:.3f}'\n",
    "    .format(orders[orders['group']=='B']['revenue'].mean()/orders[orders['group']=='A']['revenue'].mean()-1)\n",
    ")"
   ]
  },
  {
   "cell_type": "code",
   "execution_count": 23,
   "metadata": {},
   "outputs": [
    {
     "name": "stdout",
     "output_type": "stream",
     "text": [
      "Средний чек группы А: 7333.58\n",
      "Средний чек группы B: 9230.88\n"
     ]
    }
   ],
   "source": [
    "print('Средний чек группы А:', round(orders[orders['group']=='A']['revenue'].mean(), 2))\n",
    "print('Средний чек группы B:', round(orders[orders['group']=='B']['revenue'].mean(), 2))"
   ]
  },
  {
   "cell_type": "markdown",
   "metadata": {},
   "source": [
    "P-value значительно больше 0.05. Значит, причин отвергать нулевую гипотезу и считать, что в среднем чеке есть различия, нет. Впрочем, средний чек группы B на 25,9% больше среднего чека группы A."
   ]
  },
  {
   "cell_type": "markdown",
   "metadata": {},
   "source": [
    "### Cтатистическая значимость различий в конверсии, в среднем чеке заказа между группами по «очищенным» данным"
   ]
  },
  {
   "cell_type": "code",
   "execution_count": 24,
   "metadata": {},
   "outputs": [
    {
     "name": "stdout",
     "output_type": "stream",
     "text": [
      "1099     148427295\n",
      "1137     759473111\n",
      "949      887908475\n",
      "744      888512513\n",
      "1103    1164614297\n",
      "dtype: int64\n",
      "(21,)\n"
     ]
    }
   ],
   "source": [
    "#  Очистка данных от аномалий\n",
    "userswithmanyorders = pd.concat(\n",
    "    [\n",
    "        ordersbyusersa[ordersbyusersa['orders'] > 4]['user_id'],\n",
    "        ordersbyusersb[ordersbyusersb['orders'] > 4]['user_id'],\n",
    "    ],\n",
    "    axis=0,\n",
    ")\n",
    "userswithexpensiveorders = orders[orders['revenue'] > 50000]['visitorid']\n",
    "\n",
    "anomalusers = (\n",
    "    pd.concat([userswithmanyorders, userswithexpensiveorders], axis=0)\n",
    "    .drop_duplicates()\n",
    "    .sort_values()\n",
    ")\n",
    "\n",
    "print(anomalusers.head())\n",
    "print(anomalusers.shape)"
   ]
  },
  {
   "cell_type": "markdown",
   "metadata": {},
   "source": [
    "Всего обнаружен 21 аномальный пользователь"
   ]
  },
  {
   "cell_type": "markdown",
   "metadata": {},
   "source": [
    "Воспользуемся критерием Манна-Уитни для подсчета статистической значимости различий в конверсии между группами<br><br>\n",
    "<b>\n",
    "H0: Конверсия группы A равна конверсии группы B<br>\n",
    "H1: Конверсия группы A НЕ равна конверсии группы B<br>\n",
    "</b>"
   ]
  },
  {
   "cell_type": "code",
   "execution_count": 25,
   "metadata": {},
   "outputs": [
    {
     "name": "stdout",
     "output_type": "stream",
     "text": [
      "p-value = 0.012\n",
      "Отвергаем H0: разница статистически значима\n",
      "Относительный различие конверсии между группами \"B\" и \"A\" = 0.160\n"
     ]
    }
   ],
   "source": [
    "# Подготовка выборок теста по очищенным данным\n",
    "sampleafiltered = pd.concat(\n",
    "    [\n",
    "        ordersbyusersa[np.logical_not(ordersbyusersa['user_id'].isin(anomalusers))]['orders'],\n",
    "        pd.Series(0, index=np.arange(data['visitorsperdatea'].sum() - len(ordersbyusersa['orders'])), name='orders')\n",
    "    ],\n",
    "    axis=0,\n",
    ")\n",
    "\n",
    "samplebfiltered = pd.concat(\n",
    "    [\n",
    "        ordersbyusersb[np.logical_not(ordersbyusersb['user_id'].isin(anomalusers))]['orders'],\n",
    "        pd.Series(0, index=np.arange(data['visitorsperdateb'].sum() - len(ordersbyusersb['orders'])), name='orders')\n",
    "    ],\n",
    "    axis=0,\n",
    ") \n",
    "\n",
    "# Статистическая значимость различий в конверсии\n",
    "alpha = 0.05 #критический уровень статистической значимости\n",
    "results = stats.mannwhitneyu(sampleafiltered, samplebfiltered)\n",
    "print('p-value = {0:.3f}'.format(results.pvalue))\n",
    "if results.pvalue < alpha:\n",
    "    print('Отвергаем H0: разница статистически значима')\n",
    "else:\n",
    "    print('Не получилось отвергнуть H0: вывод о различии сделать нельзя')\n",
    "print(\n",
    "    'Относительный различие конверсии между группами \"B\" и \"A\" = {0:.3f}'\n",
    "    .format(samplebfiltered.mean()/sampleafiltered.mean()-1)\n",
    ") "
   ]
  },
  {
   "cell_type": "code",
   "execution_count": 26,
   "metadata": {},
   "outputs": [
    {
     "data": {
      "text/html": [
       "<div>\n",
       "<style scoped>\n",
       "    .dataframe tbody tr th:only-of-type {\n",
       "        vertical-align: middle;\n",
       "    }\n",
       "\n",
       "    .dataframe tbody tr th {\n",
       "        vertical-align: top;\n",
       "    }\n",
       "\n",
       "    .dataframe thead th {\n",
       "        text-align: right;\n",
       "    }\n",
       "</style>\n",
       "<table border=\"1\" class=\"dataframe\">\n",
       "  <thead>\n",
       "    <tr style=\"text-align: right;\">\n",
       "      <th></th>\n",
       "      <th>group</th>\n",
       "      <th>orders</th>\n",
       "      <th>visitors</th>\n",
       "      <th>conversion</th>\n",
       "    </tr>\n",
       "  </thead>\n",
       "  <tbody>\n",
       "    <tr>\n",
       "      <th>0</th>\n",
       "      <td>A</td>\n",
       "      <td>524</td>\n",
       "      <td>18736</td>\n",
       "      <td>0.027968</td>\n",
       "    </tr>\n",
       "    <tr>\n",
       "      <th>1</th>\n",
       "      <td>B</td>\n",
       "      <td>614</td>\n",
       "      <td>18916</td>\n",
       "      <td>0.032459</td>\n",
       "    </tr>\n",
       "  </tbody>\n",
       "</table>\n",
       "</div>"
      ],
      "text/plain": [
       "  group  orders  visitors  conversion\n",
       "0     A     524     18736    0.027968\n",
       "1     B     614     18916    0.032459"
      ]
     },
     "metadata": {},
     "output_type": "display_data"
    }
   ],
   "source": [
    "orders_clear = orders[~orders['visitorid'].isin(anomalusers)]\n",
    "conversion_clear = (orders_clear\n",
    "                    .groupby('group')\n",
    "                    .agg({'transactionid':'count'})\n",
    "                    .rename(columns={'transactionid':'orders'})\n",
    "                   ).join((visitors.groupby('group').agg({'visitors':'sum'}))).reset_index()\n",
    "conversion_clear['conversion'] = conversion_clear['orders'] / conversion_clear['visitors']\n",
    "display(conversion_clear)"
   ]
  },
  {
   "cell_type": "markdown",
   "metadata": {},
   "source": [
    "По очищенным данным p-value меньше 0.05. Значит, нулевую гипотезу о том, что статистически значимых различий в конверсии между группами нет - отвергаем. Конверсия группы B на 16% больше конверсии группы А."
   ]
  },
  {
   "cell_type": "markdown",
   "metadata": {},
   "source": [
    "Воспользуемся критерием Манна-Уитни для подсчета статистической значимости различий в среднем чеке заказа между группами<br>\n",
    "<b>\n",
    "H0: Средний чек A равен среднему чеку группы B<br>\n",
    "H1: Средний чек A НЕ равен среднему чеку группы B<br>\n",
    "</b>"
   ]
  },
  {
   "cell_type": "code",
   "execution_count": 27,
   "metadata": {},
   "outputs": [
    {
     "name": "stdout",
     "output_type": "stream",
     "text": [
      "p-value = 0.715\n",
      "Не получилось отвергнуть H0: вывод о различии сделать нельзя\n",
      "Относительный различие среднего чека заказа между группами \"B\" и \"A\" = 0.032\n"
     ]
    }
   ],
   "source": [
    "# Статистическая значимость различий в среднем чеке заказа\n",
    "alpha = 0.05 #критический уровень статистической значимости\n",
    "results = stats.mannwhitneyu(\n",
    "            orders[np.logical_and(orders['group'] == 'A', np.logical_not(orders['visitorid'].isin(anomalusers)))]['revenue'],\n",
    "            orders[np.logical_and(orders['group'] == 'B', np.logical_not(orders['visitorid'].isin(anomalusers)))]['revenue']\n",
    "        )\n",
    "print('p-value = {0:.3f}'.format(results.pvalue))\n",
    "if results.pvalue < alpha:\n",
    "    print('Отвергаем H0: разница статистически значима')\n",
    "else:\n",
    "    print('Не получилось отвергнуть H0: вывод о различии сделать нельзя')\n",
    "print(\n",
    "    'Относительный различие среднего чека заказа между группами \"B\" и \"A\" = {0:.3f}'\n",
    "    .format(\n",
    "        orders[np.logical_and(orders['group'] == 'B', np.logical_not(orders['visitorid'].isin(anomalusers)))]['revenue'].mean()\n",
    "        /orders[np.logical_and(orders['group'] == 'A', np.logical_not(orders['visitorid'].isin(anomalusers)))]['revenue'].mean()\n",
    "        -1\n",
    "    )\n",
    ")\n"
   ]
  },
  {
   "cell_type": "markdown",
   "metadata": {},
   "source": [
    "P-value значительно больше 0.05. Значит, причин отвергать нулевую гипотезу и считать, что в среднем чеке есть различия, нет. Средний чек группы B всего на 3,2% больше среднего чека группы A."
   ]
  },
  {
   "cell_type": "code",
   "execution_count": 28,
   "metadata": {},
   "outputs": [
    {
     "name": "stdout",
     "output_type": "stream",
     "text": [
      "Среднее значение чека в группе А: 6054.13\n",
      "Среднее значение чека в группе B: 6246.71\n"
     ]
    }
   ],
   "source": [
    "print('Среднее значение чека в группе А:', round(orders_clear[orders_clear['group']=='A']['revenue'].mean(), 2))\n",
    "print('Среднее значение чека в группе B:', round(orders_clear[orders_clear['group']=='B']['revenue'].mean(), 2))"
   ]
  },
  {
   "cell_type": "markdown",
   "metadata": {},
   "source": [
    "### Принятие решения по результатам A/B теста"
   ]
  },
  {
   "cell_type": "markdown",
   "metadata": {},
   "source": [
    "На мой взгляд верным решением будет закончить тест, признать его успешным и зафиксировать победу группы B.\n",
    "\n",
    "Куммулятивные метрики по выручке, конверсии и среднему чеку практически на всем этапе тестирования были больше у группы B. Были сомнения из-за резких колебаний на графике кумулятивного среднего чека в группе B до очистки данных от аномальных пользователей. После очистки разница между средними чеками и вправду стала минимальна, но это не меняет выводы о результатах теста ведь до и после очистки данных показатель конверсии в группе B больше показателя в группе A (на 13,8% и 16% сооветственно). Данная разница конверсии между группами А и B является статистически значимой.\n",
    "Также фактором для завершения теста является время, отведенное для проведения теста. Бизнес не может ждать любое требуемое время, а тест уже длился 30 дней."
   ]
  }
 ],
 "metadata": {
  "ExecuteTimeLog": [
   {
    "duration": 170,
    "start_time": "2022-03-17T12:41:54.042Z"
   },
   {
    "duration": 572,
    "start_time": "2022-03-17T12:52:24.906Z"
   },
   {
    "duration": 13,
    "start_time": "2022-03-17T12:52:27.196Z"
   },
   {
    "duration": 868,
    "start_time": "2022-03-17T12:52:37.555Z"
   },
   {
    "duration": 20,
    "start_time": "2022-03-17T12:53:04.622Z"
   },
   {
    "duration": 2680,
    "start_time": "2022-03-17T13:00:14.440Z"
   },
   {
    "duration": 3,
    "start_time": "2022-03-17T13:12:46.899Z"
   },
   {
    "duration": 21,
    "start_time": "2022-03-17T13:12:47.614Z"
   },
   {
    "duration": 544,
    "start_time": "2022-03-17T13:17:17.035Z"
   },
   {
    "duration": 22,
    "start_time": "2022-03-17T13:17:17.581Z"
   },
   {
    "duration": 2760,
    "start_time": "2022-03-17T13:17:17.605Z"
   },
   {
    "duration": 580,
    "start_time": "2022-03-17T13:25:24.861Z"
   },
   {
    "duration": 21,
    "start_time": "2022-03-17T13:25:25.444Z"
   },
   {
    "duration": 3006,
    "start_time": "2022-03-17T13:25:25.468Z"
   },
   {
    "duration": 57,
    "start_time": "2022-03-17T13:26:39.844Z"
   },
   {
    "duration": 92,
    "start_time": "2022-03-17T13:28:21.964Z"
   },
   {
    "duration": 12,
    "start_time": "2022-03-17T13:32:54.735Z"
   },
   {
    "duration": 95,
    "start_time": "2022-03-17T13:33:11.706Z"
   },
   {
    "duration": 86,
    "start_time": "2022-03-17T13:33:24.660Z"
   },
   {
    "duration": 44,
    "start_time": "2022-03-17T13:33:56.491Z"
   },
   {
    "duration": 103,
    "start_time": "2022-03-17T13:33:57.683Z"
   },
   {
    "duration": 39,
    "start_time": "2022-03-17T13:34:36.221Z"
   },
   {
    "duration": 109,
    "start_time": "2022-03-17T13:34:37.675Z"
   },
   {
    "duration": 43,
    "start_time": "2022-03-17T13:34:43.629Z"
   },
   {
    "duration": 86,
    "start_time": "2022-03-17T13:34:44.140Z"
   },
   {
    "duration": 6,
    "start_time": "2022-03-17T13:40:37.269Z"
   },
   {
    "duration": 14,
    "start_time": "2022-03-17T13:40:41.973Z"
   },
   {
    "duration": 6,
    "start_time": "2022-03-17T13:41:12.338Z"
   },
   {
    "duration": 21,
    "start_time": "2022-03-17T13:41:17.847Z"
   },
   {
    "duration": 10,
    "start_time": "2022-03-17T13:43:46.156Z"
   },
   {
    "duration": 25,
    "start_time": "2022-03-17T13:43:54.624Z"
   },
   {
    "duration": 12,
    "start_time": "2022-03-17T13:44:08.444Z"
   },
   {
    "duration": 537,
    "start_time": "2022-03-17T13:44:27.709Z"
   },
   {
    "duration": 100,
    "start_time": "2022-03-17T13:44:28.248Z"
   },
   {
    "duration": 41,
    "start_time": "2022-03-17T13:44:28.352Z"
   },
   {
    "duration": 32,
    "start_time": "2022-03-17T13:44:28.395Z"
   },
   {
    "duration": 2711,
    "start_time": "2022-03-17T13:44:28.429Z"
   },
   {
    "duration": 577,
    "start_time": "2022-03-17T13:46:22.987Z"
   },
   {
    "duration": 122,
    "start_time": "2022-03-17T13:46:23.567Z"
   },
   {
    "duration": 18,
    "start_time": "2022-03-17T13:46:23.693Z"
   },
   {
    "duration": 20,
    "start_time": "2022-03-17T13:46:23.713Z"
   },
   {
    "duration": 3174,
    "start_time": "2022-03-17T13:46:23.736Z"
   },
   {
    "duration": 12,
    "start_time": "2022-03-17T13:53:53.399Z"
   },
   {
    "duration": 37,
    "start_time": "2022-03-17T13:54:02.400Z"
   },
   {
    "duration": 14,
    "start_time": "2022-03-17T13:55:02.279Z"
   },
   {
    "duration": 11,
    "start_time": "2022-03-17T13:55:12.479Z"
   },
   {
    "duration": 12,
    "start_time": "2022-03-17T13:55:18.528Z"
   },
   {
    "duration": 7,
    "start_time": "2022-03-17T13:55:36.341Z"
   },
   {
    "duration": 17,
    "start_time": "2022-03-17T13:59:59.228Z"
   },
   {
    "duration": 5,
    "start_time": "2022-03-17T14:01:57.343Z"
   },
   {
    "duration": 16,
    "start_time": "2022-03-17T14:02:04.574Z"
   },
   {
    "duration": 18,
    "start_time": "2022-03-17T14:03:58.636Z"
   },
   {
    "duration": 595,
    "start_time": "2022-03-17T14:04:17.044Z"
   },
   {
    "duration": 95,
    "start_time": "2022-03-17T14:04:17.643Z"
   },
   {
    "duration": 12,
    "start_time": "2022-03-17T14:04:17.740Z"
   },
   {
    "duration": 16,
    "start_time": "2022-03-17T14:04:17.784Z"
   },
   {
    "duration": 123,
    "start_time": "2022-03-17T14:04:17.803Z"
   },
   {
    "duration": 18,
    "start_time": "2022-03-17T14:04:44.728Z"
   },
   {
    "duration": 160,
    "start_time": "2022-03-17T14:07:25.967Z"
   },
   {
    "duration": 16,
    "start_time": "2022-03-17T14:11:31.553Z"
   },
   {
    "duration": 6,
    "start_time": "2022-03-17T14:27:37.633Z"
   },
   {
    "duration": 16,
    "start_time": "2022-03-17T14:27:52.627Z"
   },
   {
    "duration": 10,
    "start_time": "2022-03-17T14:32:43.583Z"
   },
   {
    "duration": 16,
    "start_time": "2022-03-17T14:33:00.045Z"
   },
   {
    "duration": 12,
    "start_time": "2022-03-17T14:33:04.747Z"
   },
   {
    "duration": 32,
    "start_time": "2022-03-17T14:35:52.208Z"
   },
   {
    "duration": 616,
    "start_time": "2022-03-17T14:36:42.168Z"
   },
   {
    "duration": 123,
    "start_time": "2022-03-17T14:36:42.787Z"
   },
   {
    "duration": 11,
    "start_time": "2022-03-17T14:36:42.913Z"
   },
   {
    "duration": 31,
    "start_time": "2022-03-17T14:36:42.927Z"
   },
   {
    "duration": 56,
    "start_time": "2022-03-17T14:36:42.961Z"
   },
   {
    "duration": 146,
    "start_time": "2022-03-17T14:36:43.019Z"
   },
   {
    "duration": 36,
    "start_time": "2022-03-17T14:46:47.683Z"
   },
   {
    "duration": 351,
    "start_time": "2022-03-17T14:48:44.203Z"
   },
   {
    "duration": 517,
    "start_time": "2022-03-17T14:50:26.369Z"
   },
   {
    "duration": 3,
    "start_time": "2022-03-17T15:02:16.977Z"
   },
   {
    "duration": 591,
    "start_time": "2022-03-17T15:03:49.951Z"
   },
   {
    "duration": 90,
    "start_time": "2022-03-17T15:03:50.545Z"
   },
   {
    "duration": 10,
    "start_time": "2022-03-17T15:03:50.637Z"
   },
   {
    "duration": 35,
    "start_time": "2022-03-17T15:03:50.650Z"
   },
   {
    "duration": 18,
    "start_time": "2022-03-17T15:03:50.687Z"
   },
   {
    "duration": 614,
    "start_time": "2022-03-17T15:03:50.707Z"
   },
   {
    "duration": 517,
    "start_time": "2022-03-17T15:04:40.729Z"
   },
   {
    "duration": 514,
    "start_time": "2022-03-17T15:04:48.363Z"
   },
   {
    "duration": 655,
    "start_time": "2022-03-17T15:05:22.768Z"
   },
   {
    "duration": 514,
    "start_time": "2022-03-17T15:06:31.554Z"
   },
   {
    "duration": 528,
    "start_time": "2022-03-17T15:10:30.814Z"
   },
   {
    "duration": 1199,
    "start_time": "2022-03-17T15:11:00.773Z"
   },
   {
    "duration": 88,
    "start_time": "2022-03-17T15:11:01.975Z"
   },
   {
    "duration": 11,
    "start_time": "2022-03-17T15:11:02.085Z"
   },
   {
    "duration": 25,
    "start_time": "2022-03-17T15:11:02.099Z"
   },
   {
    "duration": 28,
    "start_time": "2022-03-17T15:11:02.127Z"
   },
   {
    "duration": 998,
    "start_time": "2022-03-17T15:11:02.157Z"
   },
   {
    "duration": 1113,
    "start_time": "2022-03-17T15:15:20.664Z"
   },
   {
    "duration": 1048,
    "start_time": "2022-03-17T15:15:43.005Z"
   },
   {
    "duration": 905,
    "start_time": "2022-03-17T15:16:37.361Z"
   },
   {
    "duration": 913,
    "start_time": "2022-03-17T15:18:26.019Z"
   },
   {
    "duration": 897,
    "start_time": "2022-03-17T15:19:50.209Z"
   },
   {
    "duration": 903,
    "start_time": "2022-03-17T15:20:18.673Z"
   },
   {
    "duration": 947,
    "start_time": "2022-03-17T15:31:34.664Z"
   },
   {
    "duration": 103,
    "start_time": "2022-03-17T15:31:35.614Z"
   },
   {
    "duration": 11,
    "start_time": "2022-03-17T15:31:35.720Z"
   },
   {
    "duration": 26,
    "start_time": "2022-03-17T15:31:35.734Z"
   },
   {
    "duration": 33,
    "start_time": "2022-03-17T15:31:35.784Z"
   },
   {
    "duration": 554,
    "start_time": "2022-03-17T15:31:35.819Z"
   },
   {
    "duration": 528,
    "start_time": "2022-03-17T15:31:36.376Z"
   },
   {
    "duration": 358,
    "start_time": "2022-03-17T15:32:32.388Z"
   },
   {
    "duration": 366,
    "start_time": "2022-03-17T15:32:59.473Z"
   },
   {
    "duration": 387,
    "start_time": "2022-03-17T15:33:25.958Z"
   },
   {
    "duration": 335,
    "start_time": "2022-03-17T15:33:41.703Z"
   },
   {
    "duration": 112,
    "start_time": "2022-03-17T15:35:40.242Z"
   },
   {
    "duration": 285,
    "start_time": "2022-03-17T15:36:28.987Z"
   },
   {
    "duration": 337,
    "start_time": "2022-03-17T15:37:16.215Z"
   },
   {
    "duration": 983,
    "start_time": "2022-03-17T15:37:55.460Z"
   },
   {
    "duration": 110,
    "start_time": "2022-03-17T15:37:56.446Z"
   },
   {
    "duration": 27,
    "start_time": "2022-03-17T15:37:56.558Z"
   },
   {
    "duration": 21,
    "start_time": "2022-03-17T15:37:56.588Z"
   },
   {
    "duration": 19,
    "start_time": "2022-03-17T15:37:56.611Z"
   },
   {
    "duration": 559,
    "start_time": "2022-03-17T15:37:56.633Z"
   },
   {
    "duration": 513,
    "start_time": "2022-03-17T15:37:57.195Z"
   },
   {
    "duration": 377,
    "start_time": "2022-03-17T15:37:57.711Z"
   },
   {
    "duration": 23,
    "start_time": "2022-03-17T15:45:58.221Z"
   },
   {
    "duration": 21,
    "start_time": "2022-03-17T15:46:10.071Z"
   },
   {
    "duration": 21,
    "start_time": "2022-03-17T15:46:35.237Z"
   },
   {
    "duration": 358,
    "start_time": "2022-03-17T15:55:15.103Z"
   },
   {
    "duration": 588,
    "start_time": "2022-03-17T16:05:10.879Z"
   },
   {
    "duration": 486,
    "start_time": "2022-03-17T16:05:19.665Z"
   },
   {
    "duration": 519,
    "start_time": "2022-03-17T16:06:04.562Z"
   },
   {
    "duration": 25,
    "start_time": "2022-03-17T16:14:57.279Z"
   },
   {
    "duration": 32,
    "start_time": "2022-03-17T16:15:06.526Z"
   },
   {
    "duration": 395,
    "start_time": "2022-03-17T16:21:13.485Z"
   },
   {
    "duration": 392,
    "start_time": "2022-03-17T16:38:59.772Z"
   },
   {
    "duration": 45,
    "start_time": "2022-03-18T13:40:46.209Z"
   },
   {
    "duration": 891,
    "start_time": "2022-03-18T13:40:52.119Z"
   },
   {
    "duration": 48,
    "start_time": "2022-03-18T13:40:53.013Z"
   },
   {
    "duration": 6,
    "start_time": "2022-03-18T13:40:53.063Z"
   },
   {
    "duration": 12,
    "start_time": "2022-03-18T13:40:53.070Z"
   },
   {
    "duration": 22,
    "start_time": "2022-03-18T13:40:53.084Z"
   },
   {
    "duration": 295,
    "start_time": "2022-03-18T13:40:53.107Z"
   },
   {
    "duration": 263,
    "start_time": "2022-03-18T13:40:53.404Z"
   },
   {
    "duration": 191,
    "start_time": "2022-03-18T13:40:53.669Z"
   },
   {
    "duration": 379,
    "start_time": "2022-03-18T13:40:53.861Z"
   },
   {
    "duration": 246,
    "start_time": "2022-03-18T13:40:54.242Z"
   },
   {
    "duration": 299,
    "start_time": "2022-03-18T13:40:54.489Z"
   },
   {
    "duration": 677,
    "start_time": "2022-03-18T13:42:31.403Z"
   },
   {
    "duration": 49,
    "start_time": "2022-03-18T13:42:32.082Z"
   },
   {
    "duration": 6,
    "start_time": "2022-03-18T13:42:32.132Z"
   },
   {
    "duration": 12,
    "start_time": "2022-03-18T13:42:32.141Z"
   },
   {
    "duration": 10,
    "start_time": "2022-03-18T13:42:32.155Z"
   },
   {
    "duration": 342,
    "start_time": "2022-03-18T13:42:32.167Z"
   },
   {
    "duration": 265,
    "start_time": "2022-03-18T13:42:32.510Z"
   },
   {
    "duration": 187,
    "start_time": "2022-03-18T13:42:32.776Z"
   },
   {
    "duration": 300,
    "start_time": "2022-03-18T13:42:32.965Z"
   },
   {
    "duration": 253,
    "start_time": "2022-03-18T13:42:33.268Z"
   },
   {
    "duration": 284,
    "start_time": "2022-03-18T13:42:33.523Z"
   },
   {
    "duration": 123,
    "start_time": "2022-03-18T13:57:53.638Z"
   },
   {
    "duration": 140,
    "start_time": "2022-03-18T13:58:49.879Z"
   },
   {
    "duration": 134,
    "start_time": "2022-03-18T13:59:02.733Z"
   },
   {
    "duration": 204,
    "start_time": "2022-03-18T14:01:18.649Z"
   },
   {
    "duration": 432,
    "start_time": "2022-03-18T14:03:11.658Z"
   },
   {
    "duration": 8,
    "start_time": "2022-03-18T14:09:33.122Z"
   },
   {
    "duration": 9,
    "start_time": "2022-03-18T14:09:57.074Z"
   },
   {
    "duration": 8,
    "start_time": "2022-03-18T14:10:14.627Z"
   },
   {
    "duration": 4,
    "start_time": "2022-03-20T06:04:32.192Z"
   },
   {
    "duration": 2,
    "start_time": "2022-03-20T06:09:17.714Z"
   },
   {
    "duration": 3,
    "start_time": "2022-03-20T06:11:01.301Z"
   },
   {
    "duration": 50,
    "start_time": "2022-03-20T06:14:53.501Z"
   },
   {
    "duration": 961,
    "start_time": "2022-03-20T06:15:04.324Z"
   },
   {
    "duration": 65,
    "start_time": "2022-03-20T06:15:05.288Z"
   },
   {
    "duration": 8,
    "start_time": "2022-03-20T06:15:05.355Z"
   },
   {
    "duration": 15,
    "start_time": "2022-03-20T06:15:05.366Z"
   },
   {
    "duration": 19,
    "start_time": "2022-03-20T06:15:05.383Z"
   },
   {
    "duration": 372,
    "start_time": "2022-03-20T06:15:05.404Z"
   },
   {
    "duration": 336,
    "start_time": "2022-03-20T06:15:05.778Z"
   },
   {
    "duration": 249,
    "start_time": "2022-03-20T06:15:06.116Z"
   },
   {
    "duration": 398,
    "start_time": "2022-03-20T06:15:06.367Z"
   },
   {
    "duration": 322,
    "start_time": "2022-03-20T06:15:06.768Z"
   },
   {
    "duration": 364,
    "start_time": "2022-03-20T06:15:07.092Z"
   },
   {
    "duration": 300,
    "start_time": "2022-03-20T06:15:07.458Z"
   },
   {
    "duration": 4,
    "start_time": "2022-03-20T06:15:07.760Z"
   },
   {
    "duration": 24,
    "start_time": "2022-03-20T06:15:07.765Z"
   },
   {
    "duration": 174,
    "start_time": "2022-03-20T06:18:07.801Z"
   },
   {
    "duration": 179,
    "start_time": "2022-03-20T06:19:52.452Z"
   },
   {
    "duration": 109,
    "start_time": "2022-03-20T06:21:31.996Z"
   },
   {
    "duration": 177,
    "start_time": "2022-03-20T06:24:43.087Z"
   },
   {
    "duration": 178,
    "start_time": "2022-03-20T06:26:31.847Z"
   },
   {
    "duration": 180,
    "start_time": "2022-03-20T06:26:44.188Z"
   },
   {
    "duration": 174,
    "start_time": "2022-03-20T06:26:54.164Z"
   },
   {
    "duration": 186,
    "start_time": "2022-03-20T06:27:08.784Z"
   },
   {
    "duration": 255,
    "start_time": "2022-03-20T06:27:25.945Z"
   },
   {
    "duration": 120,
    "start_time": "2022-03-20T06:27:53.257Z"
   },
   {
    "duration": 193,
    "start_time": "2022-03-20T06:28:05.003Z"
   },
   {
    "duration": 4,
    "start_time": "2022-03-20T06:29:38.310Z"
   },
   {
    "duration": 151,
    "start_time": "2022-03-20T06:42:46.543Z"
   },
   {
    "duration": 24,
    "start_time": "2022-03-20T07:18:06.952Z"
   },
   {
    "duration": 160,
    "start_time": "2022-03-20T09:01:08.171Z"
   },
   {
    "duration": 151,
    "start_time": "2022-03-20T09:01:56.814Z"
   },
   {
    "duration": 188,
    "start_time": "2022-03-20T09:02:30.412Z"
   },
   {
    "duration": 136,
    "start_time": "2022-03-20T09:03:45.557Z"
   },
   {
    "duration": 92,
    "start_time": "2022-03-20T09:04:15.461Z"
   },
   {
    "duration": 79,
    "start_time": "2022-03-20T09:05:33.174Z"
   },
   {
    "duration": 190,
    "start_time": "2022-03-20T10:30:53.416Z"
   },
   {
    "duration": 242,
    "start_time": "2022-03-20T10:31:51.707Z"
   },
   {
    "duration": 237,
    "start_time": "2022-03-20T10:32:10.895Z"
   },
   {
    "duration": 241,
    "start_time": "2022-03-20T10:33:38.920Z"
   },
   {
    "duration": 245,
    "start_time": "2022-03-20T10:34:18.420Z"
   },
   {
    "duration": 240,
    "start_time": "2022-03-20T10:34:50.075Z"
   },
   {
    "duration": 87,
    "start_time": "2022-03-22T07:15:54.042Z"
   },
   {
    "duration": 817,
    "start_time": "2022-03-28T10:40:22.338Z"
   },
   {
    "duration": 57,
    "start_time": "2022-03-28T10:40:23.157Z"
   },
   {
    "duration": 6,
    "start_time": "2022-03-28T10:40:23.216Z"
   },
   {
    "duration": 16,
    "start_time": "2022-03-28T10:40:23.224Z"
   },
   {
    "duration": 14,
    "start_time": "2022-03-28T10:40:23.241Z"
   },
   {
    "duration": 320,
    "start_time": "2022-03-28T10:40:23.257Z"
   },
   {
    "duration": 315,
    "start_time": "2022-03-28T10:40:23.579Z"
   },
   {
    "duration": 222,
    "start_time": "2022-03-28T10:40:23.896Z"
   },
   {
    "duration": 390,
    "start_time": "2022-03-28T10:40:24.119Z"
   },
   {
    "duration": 286,
    "start_time": "2022-03-28T10:40:24.511Z"
   },
   {
    "duration": 322,
    "start_time": "2022-03-28T10:40:24.799Z"
   },
   {
    "duration": 262,
    "start_time": "2022-03-28T10:40:25.122Z"
   },
   {
    "duration": 4,
    "start_time": "2022-03-28T10:40:25.386Z"
   },
   {
    "duration": 173,
    "start_time": "2022-03-28T10:40:25.391Z"
   },
   {
    "duration": 176,
    "start_time": "2022-03-28T10:40:25.566Z"
   },
   {
    "duration": 4,
    "start_time": "2022-03-28T10:40:25.744Z"
   },
   {
    "duration": 290,
    "start_time": "2022-03-28T10:40:25.750Z"
   },
   {
    "duration": 345,
    "start_time": "2022-03-28T10:41:26.988Z"
   },
   {
    "duration": 410,
    "start_time": "2022-03-28T10:51:33.322Z"
   },
   {
    "duration": 347,
    "start_time": "2022-03-28T10:52:14.410Z"
   },
   {
    "duration": 347,
    "start_time": "2022-03-28T10:52:45.447Z"
   },
   {
    "duration": 1131,
    "start_time": "2022-03-28T10:53:30.172Z"
   },
   {
    "duration": 65,
    "start_time": "2022-03-28T10:53:31.306Z"
   },
   {
    "duration": 8,
    "start_time": "2022-03-28T10:53:31.373Z"
   },
   {
    "duration": 30,
    "start_time": "2022-03-28T10:53:31.384Z"
   },
   {
    "duration": 26,
    "start_time": "2022-03-28T10:53:31.417Z"
   },
   {
    "duration": 313,
    "start_time": "2022-03-28T10:53:31.445Z"
   },
   {
    "duration": 304,
    "start_time": "2022-03-28T10:53:31.759Z"
   },
   {
    "duration": 210,
    "start_time": "2022-03-28T10:53:32.065Z"
   },
   {
    "duration": 334,
    "start_time": "2022-03-28T10:53:32.277Z"
   },
   {
    "duration": 235,
    "start_time": "2022-03-28T10:53:32.614Z"
   },
   {
    "duration": 290,
    "start_time": "2022-03-28T10:53:32.851Z"
   },
   {
    "duration": 283,
    "start_time": "2022-03-28T10:53:33.143Z"
   },
   {
    "duration": 4,
    "start_time": "2022-03-28T10:53:33.428Z"
   },
   {
    "duration": 182,
    "start_time": "2022-03-28T10:53:33.433Z"
   },
   {
    "duration": 177,
    "start_time": "2022-03-28T10:53:33.616Z"
   },
   {
    "duration": 4,
    "start_time": "2022-03-28T10:53:33.794Z"
   },
   {
    "duration": 371,
    "start_time": "2022-03-28T10:53:33.800Z"
   },
   {
    "duration": 11,
    "start_time": "2022-03-28T10:58:18.655Z"
   },
   {
    "duration": 11,
    "start_time": "2022-03-28T11:01:44.313Z"
   },
   {
    "duration": 25,
    "start_time": "2022-03-28T11:02:54.456Z"
   },
   {
    "duration": 1235,
    "start_time": "2022-03-28T11:03:00.816Z"
   },
   {
    "duration": 60,
    "start_time": "2022-03-28T11:03:02.053Z"
   },
   {
    "duration": 7,
    "start_time": "2022-03-28T11:03:02.118Z"
   },
   {
    "duration": 13,
    "start_time": "2022-03-28T11:03:02.127Z"
   },
   {
    "duration": 16,
    "start_time": "2022-03-28T11:03:02.142Z"
   },
   {
    "duration": 317,
    "start_time": "2022-03-28T11:03:02.160Z"
   },
   {
    "duration": 310,
    "start_time": "2022-03-28T11:03:02.479Z"
   },
   {
    "duration": 230,
    "start_time": "2022-03-28T11:03:02.792Z"
   },
   {
    "duration": 341,
    "start_time": "2022-03-28T11:03:03.025Z"
   },
   {
    "duration": 243,
    "start_time": "2022-03-28T11:03:03.368Z"
   },
   {
    "duration": 331,
    "start_time": "2022-03-28T11:03:03.613Z"
   },
   {
    "duration": 274,
    "start_time": "2022-03-28T11:03:03.946Z"
   },
   {
    "duration": 4,
    "start_time": "2022-03-28T11:03:04.222Z"
   },
   {
    "duration": 178,
    "start_time": "2022-03-28T11:03:04.227Z"
   },
   {
    "duration": 190,
    "start_time": "2022-03-28T11:03:04.408Z"
   },
   {
    "duration": 9,
    "start_time": "2022-03-28T11:03:04.600Z"
   },
   {
    "duration": 386,
    "start_time": "2022-03-28T11:03:04.611Z"
   },
   {
    "duration": 30,
    "start_time": "2022-03-28T11:03:04.999Z"
   },
   {
    "duration": 11,
    "start_time": "2022-03-28T11:03:05.030Z"
   },
   {
    "duration": 131,
    "start_time": "2022-03-28T11:03:31.489Z"
   },
   {
    "duration": 1119,
    "start_time": "2022-03-28T11:04:30.248Z"
   },
   {
    "duration": 60,
    "start_time": "2022-03-28T11:04:31.370Z"
   },
   {
    "duration": 7,
    "start_time": "2022-03-28T11:04:31.432Z"
   },
   {
    "duration": 26,
    "start_time": "2022-03-28T11:04:31.441Z"
   },
   {
    "duration": 16,
    "start_time": "2022-03-28T11:04:31.470Z"
   },
   {
    "duration": 318,
    "start_time": "2022-03-28T11:04:31.487Z"
   },
   {
    "duration": 330,
    "start_time": "2022-03-28T11:04:31.807Z"
   },
   {
    "duration": 223,
    "start_time": "2022-03-28T11:04:32.139Z"
   },
   {
    "duration": 316,
    "start_time": "2022-03-28T11:04:32.364Z"
   },
   {
    "duration": 251,
    "start_time": "2022-03-28T11:04:32.681Z"
   },
   {
    "duration": 308,
    "start_time": "2022-03-28T11:04:32.934Z"
   },
   {
    "duration": 299,
    "start_time": "2022-03-28T11:04:33.244Z"
   },
   {
    "duration": 5,
    "start_time": "2022-03-28T11:04:33.544Z"
   },
   {
    "duration": 188,
    "start_time": "2022-03-28T11:04:33.551Z"
   },
   {
    "duration": 189,
    "start_time": "2022-03-28T11:04:33.740Z"
   },
   {
    "duration": 4,
    "start_time": "2022-03-28T11:04:33.931Z"
   },
   {
    "duration": 241,
    "start_time": "2022-03-28T11:04:33.937Z"
   },
   {
    "duration": 159,
    "start_time": "2022-03-28T11:04:34.180Z"
   },
   {
    "duration": 10,
    "start_time": "2022-03-28T11:04:34.340Z"
   },
   {
    "duration": 2190,
    "start_time": "2022-03-28T11:10:03.488Z"
   },
   {
    "duration": 1624,
    "start_time": "2022-03-28T11:10:17.631Z"
   },
   {
    "duration": 8,
    "start_time": "2022-03-28T11:11:12.369Z"
   },
   {
    "duration": 1631,
    "start_time": "2022-03-28T11:11:51.216Z"
   },
   {
    "duration": 2068,
    "start_time": "2022-03-28T11:27:53.700Z"
   },
   {
    "duration": 12,
    "start_time": "2022-03-28T11:28:45.785Z"
   },
   {
    "duration": 9,
    "start_time": "2022-03-28T11:29:25.837Z"
   },
   {
    "duration": 10,
    "start_time": "2022-03-28T11:30:04.077Z"
   },
   {
    "duration": 9,
    "start_time": "2022-03-28T11:30:08.989Z"
   },
   {
    "duration": 1167,
    "start_time": "2022-03-28T11:30:27.760Z"
   },
   {
    "duration": 70,
    "start_time": "2022-03-28T11:30:28.929Z"
   },
   {
    "duration": 8,
    "start_time": "2022-03-28T11:30:29.009Z"
   },
   {
    "duration": 12,
    "start_time": "2022-03-28T11:30:29.019Z"
   },
   {
    "duration": 15,
    "start_time": "2022-03-28T11:30:29.032Z"
   },
   {
    "duration": 336,
    "start_time": "2022-03-28T11:30:29.049Z"
   },
   {
    "duration": 327,
    "start_time": "2022-03-28T11:30:29.386Z"
   },
   {
    "duration": 238,
    "start_time": "2022-03-28T11:30:29.715Z"
   },
   {
    "duration": 315,
    "start_time": "2022-03-28T11:30:29.955Z"
   },
   {
    "duration": 260,
    "start_time": "2022-03-28T11:30:30.272Z"
   },
   {
    "duration": 340,
    "start_time": "2022-03-28T11:30:30.534Z"
   },
   {
    "duration": 306,
    "start_time": "2022-03-28T11:30:30.875Z"
   },
   {
    "duration": 4,
    "start_time": "2022-03-28T11:30:31.183Z"
   },
   {
    "duration": 186,
    "start_time": "2022-03-28T11:30:31.189Z"
   },
   {
    "duration": 192,
    "start_time": "2022-03-28T11:30:31.377Z"
   },
   {
    "duration": 4,
    "start_time": "2022-03-28T11:30:31.570Z"
   },
   {
    "duration": 239,
    "start_time": "2022-03-28T11:30:31.576Z"
   },
   {
    "duration": 179,
    "start_time": "2022-03-28T11:30:31.817Z"
   },
   {
    "duration": 17,
    "start_time": "2022-03-28T11:30:31.997Z"
   },
   {
    "duration": 13,
    "start_time": "2022-03-28T11:30:32.016Z"
   },
   {
    "duration": 9,
    "start_time": "2022-03-28T11:30:40.217Z"
   },
   {
    "duration": 9,
    "start_time": "2022-03-28T11:33:30.817Z"
   },
   {
    "duration": 28,
    "start_time": "2022-03-28T11:41:44.790Z"
   },
   {
    "duration": 362,
    "start_time": "2022-03-28T11:51:36.497Z"
   },
   {
    "duration": 368,
    "start_time": "2022-03-28T11:53:47.763Z"
   },
   {
    "duration": 1707,
    "start_time": "2022-03-28T11:55:07.082Z"
   },
   {
    "duration": 1447,
    "start_time": "2022-03-28T11:55:37.766Z"
   },
   {
    "duration": 11,
    "start_time": "2022-03-28T11:56:52.537Z"
   },
   {
    "duration": 14,
    "start_time": "2022-03-28T11:57:05.802Z"
   },
   {
    "duration": 1148,
    "start_time": "2022-03-28T12:02:13.649Z"
   },
   {
    "duration": 55,
    "start_time": "2022-03-28T12:02:14.798Z"
   },
   {
    "duration": 6,
    "start_time": "2022-03-28T12:02:14.855Z"
   },
   {
    "duration": 34,
    "start_time": "2022-03-28T12:02:14.863Z"
   },
   {
    "duration": 46,
    "start_time": "2022-03-28T12:02:14.898Z"
   },
   {
    "duration": 322,
    "start_time": "2022-03-28T12:02:14.946Z"
   },
   {
    "duration": 322,
    "start_time": "2022-03-28T12:02:15.269Z"
   },
   {
    "duration": 230,
    "start_time": "2022-03-28T12:02:15.593Z"
   },
   {
    "duration": 329,
    "start_time": "2022-03-28T12:02:15.825Z"
   },
   {
    "duration": 244,
    "start_time": "2022-03-28T12:02:16.157Z"
   },
   {
    "duration": 346,
    "start_time": "2022-03-28T12:02:16.402Z"
   },
   {
    "duration": 267,
    "start_time": "2022-03-28T12:02:16.750Z"
   },
   {
    "duration": 5,
    "start_time": "2022-03-28T12:02:17.018Z"
   },
   {
    "duration": 172,
    "start_time": "2022-03-28T12:02:17.025Z"
   },
   {
    "duration": 185,
    "start_time": "2022-03-28T12:02:17.199Z"
   },
   {
    "duration": 4,
    "start_time": "2022-03-28T12:02:17.385Z"
   },
   {
    "duration": 237,
    "start_time": "2022-03-28T12:02:17.391Z"
   },
   {
    "duration": 178,
    "start_time": "2022-03-28T12:02:17.630Z"
   },
   {
    "duration": 10,
    "start_time": "2022-03-28T12:02:17.810Z"
   },
   {
    "duration": 1844,
    "start_time": "2022-03-28T12:02:17.821Z"
   },
   {
    "duration": 0,
    "start_time": "2022-03-28T12:02:19.667Z"
   },
   {
    "duration": 0,
    "start_time": "2022-03-28T12:02:19.668Z"
   },
   {
    "duration": 50,
    "start_time": "2022-03-28T12:38:15.372Z"
   },
   {
    "duration": 1256,
    "start_time": "2022-03-28T12:38:32.584Z"
   },
   {
    "duration": 57,
    "start_time": "2022-03-28T12:38:33.842Z"
   },
   {
    "duration": 8,
    "start_time": "2022-03-28T12:38:33.901Z"
   },
   {
    "duration": 11,
    "start_time": "2022-03-28T12:38:33.940Z"
   },
   {
    "duration": 15,
    "start_time": "2022-03-28T12:38:33.953Z"
   },
   {
    "duration": 313,
    "start_time": "2022-03-28T12:38:33.970Z"
   },
   {
    "duration": 298,
    "start_time": "2022-03-28T12:38:34.285Z"
   },
   {
    "duration": 217,
    "start_time": "2022-03-28T12:38:34.585Z"
   },
   {
    "duration": 405,
    "start_time": "2022-03-28T12:38:34.804Z"
   },
   {
    "duration": 233,
    "start_time": "2022-03-28T12:38:35.211Z"
   },
   {
    "duration": 310,
    "start_time": "2022-03-28T12:38:35.445Z"
   },
   {
    "duration": 275,
    "start_time": "2022-03-28T12:38:35.757Z"
   },
   {
    "duration": 6,
    "start_time": "2022-03-28T12:38:36.034Z"
   },
   {
    "duration": 168,
    "start_time": "2022-03-28T12:38:36.041Z"
   },
   {
    "duration": 172,
    "start_time": "2022-03-28T12:38:36.211Z"
   },
   {
    "duration": 4,
    "start_time": "2022-03-28T12:38:36.385Z"
   },
   {
    "duration": 225,
    "start_time": "2022-03-28T12:38:36.390Z"
   },
   {
    "duration": 188,
    "start_time": "2022-03-28T12:38:36.616Z"
   },
   {
    "duration": 9,
    "start_time": "2022-03-28T12:38:36.805Z"
   },
   {
    "duration": 26,
    "start_time": "2022-03-28T12:38:36.816Z"
   },
   {
    "duration": 25,
    "start_time": "2022-03-28T12:38:36.844Z"
   },
   {
    "duration": 1556,
    "start_time": "2022-03-28T12:38:36.871Z"
   },
   {
    "duration": 8,
    "start_time": "2022-03-28T12:39:11.838Z"
   },
   {
    "duration": 10,
    "start_time": "2022-03-28T12:39:21.796Z"
   },
   {
    "duration": 104,
    "start_time": "2022-03-28T12:41:32.306Z"
   },
   {
    "duration": 9,
    "start_time": "2022-03-28T12:41:40.621Z"
   },
   {
    "duration": 13,
    "start_time": "2022-03-28T12:43:16.302Z"
   },
   {
    "duration": 1246,
    "start_time": "2022-03-28T12:46:04.701Z"
   },
   {
    "duration": 56,
    "start_time": "2022-03-28T12:46:05.950Z"
   },
   {
    "duration": 8,
    "start_time": "2022-03-28T12:46:06.007Z"
   },
   {
    "duration": 30,
    "start_time": "2022-03-28T12:46:06.017Z"
   },
   {
    "duration": 15,
    "start_time": "2022-03-28T12:46:06.048Z"
   },
   {
    "duration": 310,
    "start_time": "2022-03-28T12:46:06.065Z"
   },
   {
    "duration": 304,
    "start_time": "2022-03-28T12:46:06.377Z"
   },
   {
    "duration": 220,
    "start_time": "2022-03-28T12:46:06.682Z"
   },
   {
    "duration": 344,
    "start_time": "2022-03-28T12:46:06.904Z"
   },
   {
    "duration": 230,
    "start_time": "2022-03-28T12:46:07.251Z"
   },
   {
    "duration": 310,
    "start_time": "2022-03-28T12:46:07.483Z"
   },
   {
    "duration": 281,
    "start_time": "2022-03-28T12:46:07.795Z"
   },
   {
    "duration": 5,
    "start_time": "2022-03-28T12:46:08.077Z"
   },
   {
    "duration": 175,
    "start_time": "2022-03-28T12:46:08.083Z"
   },
   {
    "duration": 189,
    "start_time": "2022-03-28T12:46:08.260Z"
   },
   {
    "duration": 5,
    "start_time": "2022-03-28T12:46:08.450Z"
   },
   {
    "duration": 223,
    "start_time": "2022-03-28T12:46:08.456Z"
   },
   {
    "duration": 183,
    "start_time": "2022-03-28T12:46:08.681Z"
   },
   {
    "duration": 9,
    "start_time": "2022-03-28T12:46:08.866Z"
   },
   {
    "duration": 15,
    "start_time": "2022-03-28T12:46:08.877Z"
   },
   {
    "duration": 46,
    "start_time": "2022-03-28T12:46:08.894Z"
   },
   {
    "duration": 107,
    "start_time": "2022-03-28T12:46:08.941Z"
   },
   {
    "duration": 14,
    "start_time": "2022-03-28T12:46:24.096Z"
   },
   {
    "duration": 13,
    "start_time": "2022-03-28T12:48:15.893Z"
   },
   {
    "duration": 59,
    "start_time": "2022-03-29T10:55:14.466Z"
   },
   {
    "duration": 1391,
    "start_time": "2022-03-29T10:55:24.725Z"
   },
   {
    "duration": 60,
    "start_time": "2022-03-29T10:55:26.119Z"
   },
   {
    "duration": 25,
    "start_time": "2022-03-29T10:55:26.180Z"
   },
   {
    "duration": 19,
    "start_time": "2022-03-29T10:55:26.208Z"
   },
   {
    "duration": 17,
    "start_time": "2022-03-29T10:55:26.229Z"
   },
   {
    "duration": 342,
    "start_time": "2022-03-29T10:55:26.248Z"
   },
   {
    "duration": 318,
    "start_time": "2022-03-29T10:55:26.592Z"
   },
   {
    "duration": 230,
    "start_time": "2022-03-29T10:55:26.913Z"
   },
   {
    "duration": 337,
    "start_time": "2022-03-29T10:55:27.145Z"
   },
   {
    "duration": 262,
    "start_time": "2022-03-29T10:55:27.485Z"
   },
   {
    "duration": 310,
    "start_time": "2022-03-29T10:55:27.749Z"
   },
   {
    "duration": 303,
    "start_time": "2022-03-29T10:55:28.062Z"
   },
   {
    "duration": 5,
    "start_time": "2022-03-29T10:55:28.366Z"
   },
   {
    "duration": 188,
    "start_time": "2022-03-29T10:55:28.373Z"
   },
   {
    "duration": 196,
    "start_time": "2022-03-29T10:55:28.563Z"
   },
   {
    "duration": 5,
    "start_time": "2022-03-29T10:55:28.761Z"
   },
   {
    "duration": 258,
    "start_time": "2022-03-29T10:55:28.768Z"
   },
   {
    "duration": 182,
    "start_time": "2022-03-29T10:55:29.028Z"
   },
   {
    "duration": 12,
    "start_time": "2022-03-29T10:55:29.213Z"
   },
   {
    "duration": 13,
    "start_time": "2022-03-29T10:55:29.227Z"
   },
   {
    "duration": 31,
    "start_time": "2022-03-29T10:55:29.242Z"
   },
   {
    "duration": 44,
    "start_time": "2022-03-29T10:55:29.276Z"
   },
   {
    "duration": 310,
    "start_time": "2022-03-29T10:59:26.724Z"
   },
   {
    "duration": 429,
    "start_time": "2022-03-29T11:03:35.176Z"
   },
   {
    "duration": 356,
    "start_time": "2022-03-29T11:03:46.178Z"
   },
   {
    "duration": 72,
    "start_time": "2022-03-29T12:20:41.103Z"
   },
   {
    "duration": 1760,
    "start_time": "2022-03-29T12:20:49.115Z"
   },
   {
    "duration": 112,
    "start_time": "2022-03-29T12:20:50.878Z"
   },
   {
    "duration": 10,
    "start_time": "2022-03-29T12:20:50.996Z"
   },
   {
    "duration": 30,
    "start_time": "2022-03-29T12:20:51.009Z"
   },
   {
    "duration": 20,
    "start_time": "2022-03-29T12:20:51.041Z"
   },
   {
    "duration": 541,
    "start_time": "2022-03-29T12:20:51.084Z"
   },
   {
    "duration": 500,
    "start_time": "2022-03-29T12:20:51.627Z"
   },
   {
    "duration": 365,
    "start_time": "2022-03-29T12:20:52.129Z"
   },
   {
    "duration": 505,
    "start_time": "2022-03-29T12:20:52.500Z"
   },
   {
    "duration": 396,
    "start_time": "2022-03-29T12:20:53.007Z"
   },
   {
    "duration": 440,
    "start_time": "2022-03-29T12:20:53.405Z"
   },
   {
    "duration": 572,
    "start_time": "2022-03-29T12:20:53.847Z"
   },
   {
    "duration": 6,
    "start_time": "2022-03-29T12:20:54.421Z"
   },
   {
    "duration": 302,
    "start_time": "2022-03-29T12:20:54.429Z"
   },
   {
    "duration": 325,
    "start_time": "2022-03-29T12:20:54.733Z"
   },
   {
    "duration": 7,
    "start_time": "2022-03-29T12:20:55.060Z"
   },
   {
    "duration": 438,
    "start_time": "2022-03-29T12:20:55.085Z"
   },
   {
    "duration": 300,
    "start_time": "2022-03-29T12:20:55.525Z"
   },
   {
    "duration": 16,
    "start_time": "2022-03-29T12:20:55.827Z"
   },
   {
    "duration": 41,
    "start_time": "2022-03-29T12:20:55.845Z"
   },
   {
    "duration": 23,
    "start_time": "2022-03-29T12:20:55.888Z"
   },
   {
    "duration": 61,
    "start_time": "2022-03-29T12:20:55.914Z"
   },
   {
    "duration": 20,
    "start_time": "2022-03-29T12:20:55.977Z"
   },
   {
    "duration": 10,
    "start_time": "2022-03-29T12:21:57.714Z"
   },
   {
    "duration": 10,
    "start_time": "2022-03-29T12:22:23.527Z"
   },
   {
    "duration": 167,
    "start_time": "2022-03-29T12:24:13.596Z"
   },
   {
    "duration": 22,
    "start_time": "2022-03-29T12:24:24.893Z"
   },
   {
    "duration": 308,
    "start_time": "2022-03-29T12:25:12.993Z"
   },
   {
    "duration": 315,
    "start_time": "2022-03-29T12:29:18.548Z"
   },
   {
    "duration": 14,
    "start_time": "2022-03-29T12:35:51.581Z"
   },
   {
    "duration": 16,
    "start_time": "2022-03-29T12:40:51.094Z"
   },
   {
    "duration": 16,
    "start_time": "2022-03-29T12:40:58.227Z"
   },
   {
    "duration": 1556,
    "start_time": "2022-03-29T12:47:06.051Z"
   },
   {
    "duration": 88,
    "start_time": "2022-03-29T12:47:07.610Z"
   },
   {
    "duration": 11,
    "start_time": "2022-03-29T12:47:07.701Z"
   },
   {
    "duration": 19,
    "start_time": "2022-03-29T12:47:07.716Z"
   },
   {
    "duration": 56,
    "start_time": "2022-03-29T12:47:07.738Z"
   },
   {
    "duration": 525,
    "start_time": "2022-03-29T12:47:07.796Z"
   },
   {
    "duration": 616,
    "start_time": "2022-03-29T12:47:08.323Z"
   },
   {
    "duration": 367,
    "start_time": "2022-03-29T12:47:08.942Z"
   },
   {
    "duration": 458,
    "start_time": "2022-03-29T12:47:09.312Z"
   },
   {
    "duration": 447,
    "start_time": "2022-03-29T12:47:09.776Z"
   },
   {
    "duration": 589,
    "start_time": "2022-03-29T12:47:10.226Z"
   },
   {
    "duration": 572,
    "start_time": "2022-03-29T12:47:10.818Z"
   },
   {
    "duration": 6,
    "start_time": "2022-03-29T12:47:11.392Z"
   },
   {
    "duration": 297,
    "start_time": "2022-03-29T12:47:11.400Z"
   },
   {
    "duration": 320,
    "start_time": "2022-03-29T12:47:11.700Z"
   },
   {
    "duration": 6,
    "start_time": "2022-03-29T12:47:12.023Z"
   },
   {
    "duration": 391,
    "start_time": "2022-03-29T12:47:12.031Z"
   },
   {
    "duration": 301,
    "start_time": "2022-03-29T12:47:12.424Z"
   },
   {
    "duration": 23,
    "start_time": "2022-03-29T12:47:12.727Z"
   },
   {
    "duration": 38,
    "start_time": "2022-03-29T12:47:12.753Z"
   },
   {
    "duration": 12,
    "start_time": "2022-03-29T12:47:12.793Z"
   },
   {
    "duration": 18,
    "start_time": "2022-03-29T12:47:12.808Z"
   },
   {
    "duration": 64,
    "start_time": "2022-03-29T12:47:12.828Z"
   },
   {
    "duration": 21,
    "start_time": "2022-03-29T12:47:12.894Z"
   },
   {
    "duration": 19,
    "start_time": "2022-03-29T12:47:12.917Z"
   },
   {
    "duration": 22,
    "start_time": "2022-03-29T12:56:15.838Z"
   },
   {
    "duration": 133,
    "start_time": "2022-03-29T12:58:20.930Z"
   },
   {
    "duration": 2802,
    "start_time": "2022-03-29T12:58:27.463Z"
   },
   {
    "duration": 15,
    "start_time": "2022-03-29T12:58:38.999Z"
   },
   {
    "duration": 23,
    "start_time": "2022-03-29T12:59:17.998Z"
   },
   {
    "duration": 1538,
    "start_time": "2022-03-29T12:59:25.322Z"
   },
   {
    "duration": 93,
    "start_time": "2022-03-29T12:59:26.863Z"
   },
   {
    "duration": 29,
    "start_time": "2022-03-29T12:59:26.958Z"
   },
   {
    "duration": 37,
    "start_time": "2022-03-29T12:59:26.989Z"
   },
   {
    "duration": 19,
    "start_time": "2022-03-29T12:59:27.032Z"
   },
   {
    "duration": 555,
    "start_time": "2022-03-29T12:59:27.054Z"
   },
   {
    "duration": 559,
    "start_time": "2022-03-29T12:59:27.612Z"
   },
   {
    "duration": 399,
    "start_time": "2022-03-29T12:59:28.174Z"
   },
   {
    "duration": 502,
    "start_time": "2022-03-29T12:59:28.575Z"
   },
   {
    "duration": 433,
    "start_time": "2022-03-29T12:59:29.079Z"
   },
   {
    "duration": 464,
    "start_time": "2022-03-29T12:59:29.514Z"
   },
   {
    "duration": 556,
    "start_time": "2022-03-29T12:59:29.989Z"
   },
   {
    "duration": 6,
    "start_time": "2022-03-29T12:59:30.547Z"
   },
   {
    "duration": 320,
    "start_time": "2022-03-29T12:59:30.556Z"
   },
   {
    "duration": 348,
    "start_time": "2022-03-29T12:59:30.878Z"
   },
   {
    "duration": 5,
    "start_time": "2022-03-29T12:59:31.229Z"
   },
   {
    "duration": 432,
    "start_time": "2022-03-29T12:59:31.237Z"
   },
   {
    "duration": 360,
    "start_time": "2022-03-29T12:59:31.671Z"
   },
   {
    "duration": 23,
    "start_time": "2022-03-29T12:59:32.033Z"
   },
   {
    "duration": 43,
    "start_time": "2022-03-29T12:59:32.058Z"
   },
   {
    "duration": 28,
    "start_time": "2022-03-29T12:59:32.103Z"
   },
   {
    "duration": 15,
    "start_time": "2022-03-29T12:59:32.133Z"
   },
   {
    "duration": 64,
    "start_time": "2022-03-29T12:59:32.150Z"
   },
   {
    "duration": 16,
    "start_time": "2022-03-29T12:59:32.217Z"
   },
   {
    "duration": 38,
    "start_time": "2022-03-29T12:59:32.236Z"
   },
   {
    "duration": 28,
    "start_time": "2022-03-29T12:59:32.286Z"
   },
   {
    "duration": 23,
    "start_time": "2022-03-29T13:00:00.298Z"
   },
   {
    "duration": 34,
    "start_time": "2022-03-29T13:00:52.402Z"
   },
   {
    "duration": 150,
    "start_time": "2022-03-29T13:03:09.148Z"
   },
   {
    "duration": 11,
    "start_time": "2022-03-29T13:03:27.299Z"
   },
   {
    "duration": 1516,
    "start_time": "2022-03-30T04:14:05.695Z"
   },
   {
    "duration": 97,
    "start_time": "2022-03-30T04:14:07.215Z"
   },
   {
    "duration": 11,
    "start_time": "2022-03-30T04:14:07.315Z"
   },
   {
    "duration": 47,
    "start_time": "2022-03-30T04:14:07.329Z"
   },
   {
    "duration": 21,
    "start_time": "2022-03-30T04:14:07.378Z"
   },
   {
    "duration": 522,
    "start_time": "2022-03-30T04:14:07.402Z"
   },
   {
    "duration": 534,
    "start_time": "2022-03-30T04:14:07.927Z"
   },
   {
    "duration": 385,
    "start_time": "2022-03-30T04:14:08.463Z"
   },
   {
    "duration": 504,
    "start_time": "2022-03-30T04:14:08.851Z"
   },
   {
    "duration": 401,
    "start_time": "2022-03-30T04:14:09.359Z"
   },
   {
    "duration": 458,
    "start_time": "2022-03-30T04:14:09.763Z"
   },
   {
    "duration": 530,
    "start_time": "2022-03-30T04:14:10.223Z"
   },
   {
    "duration": 6,
    "start_time": "2022-03-30T04:14:10.755Z"
   },
   {
    "duration": 303,
    "start_time": "2022-03-30T04:14:10.774Z"
   },
   {
    "duration": 316,
    "start_time": "2022-03-30T04:14:11.080Z"
   },
   {
    "duration": 6,
    "start_time": "2022-03-30T04:14:11.398Z"
   },
   {
    "duration": 405,
    "start_time": "2022-03-30T04:14:11.407Z"
   },
   {
    "duration": 312,
    "start_time": "2022-03-30T04:14:11.815Z"
   },
   {
    "duration": 23,
    "start_time": "2022-03-30T04:14:12.129Z"
   },
   {
    "duration": 15,
    "start_time": "2022-03-30T04:14:12.173Z"
   },
   {
    "duration": 9,
    "start_time": "2022-03-30T04:14:12.191Z"
   },
   {
    "duration": 14,
    "start_time": "2022-03-30T04:14:12.203Z"
   },
   {
    "duration": 80,
    "start_time": "2022-03-30T04:14:12.219Z"
   },
   {
    "duration": 24,
    "start_time": "2022-03-30T04:14:12.301Z"
   },
   {
    "duration": 48,
    "start_time": "2022-03-30T04:14:12.327Z"
   },
   {
    "duration": 9,
    "start_time": "2022-03-30T04:14:12.378Z"
   },
   {
    "duration": 178,
    "start_time": "2022-03-30T11:26:19.442Z"
   },
   {
    "duration": 85,
    "start_time": "2022-03-30T11:26:29.122Z"
   },
   {
    "duration": 1841,
    "start_time": "2022-03-30T11:27:02.337Z"
   },
   {
    "duration": 109,
    "start_time": "2022-03-30T11:27:04.181Z"
   },
   {
    "duration": 8,
    "start_time": "2022-03-30T11:27:04.293Z"
   },
   {
    "duration": 47,
    "start_time": "2022-03-30T11:27:04.304Z"
   },
   {
    "duration": 36,
    "start_time": "2022-03-30T11:27:04.354Z"
   },
   {
    "duration": 55,
    "start_time": "2022-03-30T11:27:04.393Z"
   },
   {
    "duration": 542,
    "start_time": "2022-03-30T11:27:04.451Z"
   },
   {
    "duration": 528,
    "start_time": "2022-03-30T11:27:04.998Z"
   },
   {
    "duration": 397,
    "start_time": "2022-03-30T11:27:05.529Z"
   },
   {
    "duration": 537,
    "start_time": "2022-03-30T11:27:05.930Z"
   },
   {
    "duration": 410,
    "start_time": "2022-03-30T11:27:06.469Z"
   },
   {
    "duration": 457,
    "start_time": "2022-03-30T11:27:06.881Z"
   },
   {
    "duration": 702,
    "start_time": "2022-03-30T11:27:07.340Z"
   },
   {
    "duration": 8,
    "start_time": "2022-03-30T11:27:08.044Z"
   },
   {
    "duration": 308,
    "start_time": "2022-03-30T11:27:08.054Z"
   },
   {
    "duration": 391,
    "start_time": "2022-03-30T11:27:08.364Z"
   },
   {
    "duration": 6,
    "start_time": "2022-03-30T11:27:08.757Z"
   },
   {
    "duration": 476,
    "start_time": "2022-03-30T11:27:08.765Z"
   },
   {
    "duration": 347,
    "start_time": "2022-03-30T11:27:09.244Z"
   },
   {
    "duration": 23,
    "start_time": "2022-03-30T11:27:09.599Z"
   },
   {
    "duration": 18,
    "start_time": "2022-03-30T11:27:09.624Z"
   },
   {
    "duration": 16,
    "start_time": "2022-03-30T11:27:09.644Z"
   },
   {
    "duration": 40,
    "start_time": "2022-03-30T11:27:09.663Z"
   },
   {
    "duration": 40,
    "start_time": "2022-03-30T11:27:09.706Z"
   },
   {
    "duration": 56,
    "start_time": "2022-03-30T11:27:09.749Z"
   },
   {
    "duration": 20,
    "start_time": "2022-03-30T11:27:09.808Z"
   },
   {
    "duration": 16,
    "start_time": "2022-03-30T11:27:09.830Z"
   },
   {
    "duration": 224,
    "start_time": "2022-03-30T11:35:56.342Z"
   },
   {
    "duration": 1394,
    "start_time": "2022-03-30T11:36:02.535Z"
   },
   {
    "duration": 61,
    "start_time": "2022-03-30T11:36:03.932Z"
   },
   {
    "duration": 421,
    "start_time": "2022-03-30T11:36:03.995Z"
   },
   {
    "duration": 0,
    "start_time": "2022-03-30T11:36:04.419Z"
   },
   {
    "duration": 0,
    "start_time": "2022-03-30T11:36:04.420Z"
   },
   {
    "duration": 0,
    "start_time": "2022-03-30T11:36:04.422Z"
   },
   {
    "duration": 0,
    "start_time": "2022-03-30T11:36:04.423Z"
   },
   {
    "duration": 0,
    "start_time": "2022-03-30T11:36:04.424Z"
   },
   {
    "duration": 0,
    "start_time": "2022-03-30T11:36:04.425Z"
   },
   {
    "duration": 0,
    "start_time": "2022-03-30T11:36:04.426Z"
   },
   {
    "duration": 0,
    "start_time": "2022-03-30T11:36:04.427Z"
   },
   {
    "duration": 0,
    "start_time": "2022-03-30T11:36:04.429Z"
   },
   {
    "duration": 0,
    "start_time": "2022-03-30T11:36:04.430Z"
   },
   {
    "duration": 0,
    "start_time": "2022-03-30T11:36:04.432Z"
   },
   {
    "duration": 0,
    "start_time": "2022-03-30T11:36:04.433Z"
   },
   {
    "duration": 0,
    "start_time": "2022-03-30T11:36:04.434Z"
   },
   {
    "duration": 0,
    "start_time": "2022-03-30T11:36:04.435Z"
   },
   {
    "duration": 0,
    "start_time": "2022-03-30T11:36:04.436Z"
   },
   {
    "duration": 0,
    "start_time": "2022-03-30T11:36:04.437Z"
   },
   {
    "duration": 0,
    "start_time": "2022-03-30T11:36:04.438Z"
   },
   {
    "duration": 0,
    "start_time": "2022-03-30T11:36:04.439Z"
   },
   {
    "duration": 0,
    "start_time": "2022-03-30T11:36:04.440Z"
   },
   {
    "duration": 0,
    "start_time": "2022-03-30T11:36:04.441Z"
   },
   {
    "duration": 0,
    "start_time": "2022-03-30T11:36:04.442Z"
   },
   {
    "duration": 0,
    "start_time": "2022-03-30T11:36:04.443Z"
   },
   {
    "duration": 0,
    "start_time": "2022-03-30T11:36:04.445Z"
   },
   {
    "duration": 0,
    "start_time": "2022-03-30T11:36:04.446Z"
   },
   {
    "duration": 7,
    "start_time": "2022-03-30T11:36:27.435Z"
   },
   {
    "duration": 6,
    "start_time": "2022-03-30T11:37:13.364Z"
   },
   {
    "duration": 198,
    "start_time": "2022-03-30T11:37:26.475Z"
   },
   {
    "duration": 8,
    "start_time": "2022-03-30T11:37:32.795Z"
   },
   {
    "duration": 6,
    "start_time": "2022-03-30T11:37:45.947Z"
   },
   {
    "duration": 7,
    "start_time": "2022-03-30T11:39:12.035Z"
   },
   {
    "duration": 6,
    "start_time": "2022-03-30T11:39:36.387Z"
   },
   {
    "duration": 7,
    "start_time": "2022-03-30T11:43:39.353Z"
   },
   {
    "duration": 5,
    "start_time": "2022-03-30T11:44:14.751Z"
   },
   {
    "duration": 7,
    "start_time": "2022-03-30T11:44:21.478Z"
   },
   {
    "duration": 5,
    "start_time": "2022-03-30T11:44:59.300Z"
   },
   {
    "duration": 6,
    "start_time": "2022-03-30T11:45:02.187Z"
   },
   {
    "duration": 9,
    "start_time": "2022-03-30T11:46:04.220Z"
   },
   {
    "duration": 9,
    "start_time": "2022-03-30T11:46:22.945Z"
   },
   {
    "duration": 6,
    "start_time": "2022-03-30T11:46:25.156Z"
   },
   {
    "duration": 1485,
    "start_time": "2022-03-30T11:49:00.432Z"
   },
   {
    "duration": 63,
    "start_time": "2022-03-30T11:49:01.919Z"
   },
   {
    "duration": 17,
    "start_time": "2022-03-30T11:49:01.984Z"
   },
   {
    "duration": 8,
    "start_time": "2022-03-30T11:49:02.003Z"
   },
   {
    "duration": 19,
    "start_time": "2022-03-30T11:49:02.012Z"
   },
   {
    "duration": 14,
    "start_time": "2022-03-30T11:49:02.033Z"
   },
   {
    "duration": 17,
    "start_time": "2022-03-30T11:49:02.049Z"
   },
   {
    "duration": 336,
    "start_time": "2022-03-30T11:49:02.068Z"
   },
   {
    "duration": 315,
    "start_time": "2022-03-30T11:49:02.406Z"
   },
   {
    "duration": 223,
    "start_time": "2022-03-30T11:49:02.724Z"
   },
   {
    "duration": 332,
    "start_time": "2022-03-30T11:49:02.949Z"
   },
   {
    "duration": 236,
    "start_time": "2022-03-30T11:49:03.283Z"
   },
   {
    "duration": 320,
    "start_time": "2022-03-30T11:49:03.521Z"
   },
   {
    "duration": 302,
    "start_time": "2022-03-30T11:49:03.843Z"
   },
   {
    "duration": 5,
    "start_time": "2022-03-30T11:49:04.146Z"
   },
   {
    "duration": 174,
    "start_time": "2022-03-30T11:49:04.153Z"
   },
   {
    "duration": 174,
    "start_time": "2022-03-30T11:49:04.329Z"
   },
   {
    "duration": 3,
    "start_time": "2022-03-30T11:49:04.505Z"
   },
   {
    "duration": 244,
    "start_time": "2022-03-30T11:49:04.510Z"
   },
   {
    "duration": 193,
    "start_time": "2022-03-30T11:49:04.756Z"
   },
   {
    "duration": 16,
    "start_time": "2022-03-30T11:49:04.952Z"
   },
   {
    "duration": 30,
    "start_time": "2022-03-30T11:49:04.971Z"
   },
   {
    "duration": 8,
    "start_time": "2022-03-30T11:49:05.003Z"
   },
   {
    "duration": 10,
    "start_time": "2022-03-30T11:49:05.012Z"
   },
   {
    "duration": 32,
    "start_time": "2022-03-30T11:49:05.025Z"
   },
   {
    "duration": 46,
    "start_time": "2022-03-30T11:49:05.059Z"
   },
   {
    "duration": 14,
    "start_time": "2022-03-30T11:49:05.106Z"
   },
   {
    "duration": 6,
    "start_time": "2022-03-30T11:49:05.124Z"
   },
   {
    "duration": 7,
    "start_time": "2022-03-30T11:50:25.063Z"
   },
   {
    "duration": 10,
    "start_time": "2022-03-30T11:50:48.853Z"
   },
   {
    "duration": 102,
    "start_time": "2022-03-30T12:00:13.038Z"
   },
   {
    "duration": 7,
    "start_time": "2022-03-30T12:00:47.383Z"
   },
   {
    "duration": 6,
    "start_time": "2022-03-30T12:01:05.758Z"
   },
   {
    "duration": 7,
    "start_time": "2022-03-30T12:01:27.237Z"
   },
   {
    "duration": 6,
    "start_time": "2022-03-30T12:02:05.814Z"
   },
   {
    "duration": 1213,
    "start_time": "2022-03-30T12:02:12.529Z"
   },
   {
    "duration": 61,
    "start_time": "2022-03-30T12:02:13.745Z"
   },
   {
    "duration": 6,
    "start_time": "2022-03-30T12:02:13.808Z"
   },
   {
    "duration": 7,
    "start_time": "2022-03-30T12:02:13.816Z"
   },
   {
    "duration": 9,
    "start_time": "2022-03-30T12:02:13.825Z"
   },
   {
    "duration": 8,
    "start_time": "2022-03-30T12:02:13.835Z"
   },
   {
    "duration": 16,
    "start_time": "2022-03-30T12:02:13.845Z"
   },
   {
    "duration": 45,
    "start_time": "2022-03-30T12:02:13.863Z"
   },
   {
    "duration": 320,
    "start_time": "2022-03-30T12:02:13.910Z"
   },
   {
    "duration": 298,
    "start_time": "2022-03-30T12:02:14.232Z"
   },
   {
    "duration": 216,
    "start_time": "2022-03-30T12:02:14.532Z"
   },
   {
    "duration": 303,
    "start_time": "2022-03-30T12:02:14.750Z"
   },
   {
    "duration": 229,
    "start_time": "2022-03-30T12:02:15.055Z"
   },
   {
    "duration": 328,
    "start_time": "2022-03-30T12:02:15.287Z"
   },
   {
    "duration": 274,
    "start_time": "2022-03-30T12:02:15.617Z"
   },
   {
    "duration": 11,
    "start_time": "2022-03-30T12:02:15.892Z"
   },
   {
    "duration": 165,
    "start_time": "2022-03-30T12:02:15.905Z"
   },
   {
    "duration": 176,
    "start_time": "2022-03-30T12:02:16.072Z"
   },
   {
    "duration": 5,
    "start_time": "2022-03-30T12:02:16.250Z"
   },
   {
    "duration": 233,
    "start_time": "2022-03-30T12:02:16.257Z"
   },
   {
    "duration": 168,
    "start_time": "2022-03-30T12:02:16.492Z"
   },
   {
    "duration": 15,
    "start_time": "2022-03-30T12:02:16.662Z"
   },
   {
    "duration": 24,
    "start_time": "2022-03-30T12:02:16.679Z"
   },
   {
    "duration": 7,
    "start_time": "2022-03-30T12:02:16.706Z"
   },
   {
    "duration": 10,
    "start_time": "2022-03-30T12:02:16.715Z"
   },
   {
    "duration": 28,
    "start_time": "2022-03-30T12:02:16.727Z"
   },
   {
    "duration": 53,
    "start_time": "2022-03-30T12:02:16.757Z"
   },
   {
    "duration": 15,
    "start_time": "2022-03-30T12:02:16.812Z"
   },
   {
    "duration": 9,
    "start_time": "2022-03-30T12:02:16.829Z"
   },
   {
    "duration": 97,
    "start_time": "2022-03-30T12:41:56.746Z"
   },
   {
    "duration": 10,
    "start_time": "2022-03-30T12:42:10.469Z"
   },
   {
    "duration": 7,
    "start_time": "2022-03-30T13:01:31.477Z"
   },
   {
    "duration": 9,
    "start_time": "2022-03-30T13:03:15.050Z"
   },
   {
    "duration": 11,
    "start_time": "2022-03-30T13:05:24.578Z"
   },
   {
    "duration": 13,
    "start_time": "2022-03-30T13:14:08.180Z"
   },
   {
    "duration": 17,
    "start_time": "2022-03-30T13:18:27.382Z"
   },
   {
    "duration": 1331,
    "start_time": "2022-03-30T13:19:17.737Z"
   },
   {
    "duration": 86,
    "start_time": "2022-03-30T13:19:19.071Z"
   },
   {
    "duration": 15,
    "start_time": "2022-03-30T13:19:19.159Z"
   },
   {
    "duration": 177,
    "start_time": "2022-03-30T13:19:19.176Z"
   },
   {
    "duration": 0,
    "start_time": "2022-03-30T13:19:19.356Z"
   },
   {
    "duration": 0,
    "start_time": "2022-03-30T13:19:19.358Z"
   },
   {
    "duration": 0,
    "start_time": "2022-03-30T13:19:19.362Z"
   },
   {
    "duration": 0,
    "start_time": "2022-03-30T13:19:19.364Z"
   },
   {
    "duration": 0,
    "start_time": "2022-03-30T13:19:19.365Z"
   },
   {
    "duration": 0,
    "start_time": "2022-03-30T13:19:19.368Z"
   },
   {
    "duration": 0,
    "start_time": "2022-03-30T13:19:19.369Z"
   },
   {
    "duration": 0,
    "start_time": "2022-03-30T13:19:19.370Z"
   },
   {
    "duration": 0,
    "start_time": "2022-03-30T13:19:19.371Z"
   },
   {
    "duration": 0,
    "start_time": "2022-03-30T13:19:19.372Z"
   },
   {
    "duration": 0,
    "start_time": "2022-03-30T13:19:19.402Z"
   },
   {
    "duration": 0,
    "start_time": "2022-03-30T13:19:19.403Z"
   },
   {
    "duration": 0,
    "start_time": "2022-03-30T13:19:19.405Z"
   },
   {
    "duration": 0,
    "start_time": "2022-03-30T13:19:19.407Z"
   },
   {
    "duration": 0,
    "start_time": "2022-03-30T13:19:19.408Z"
   },
   {
    "duration": 0,
    "start_time": "2022-03-30T13:19:19.410Z"
   },
   {
    "duration": 0,
    "start_time": "2022-03-30T13:19:19.411Z"
   },
   {
    "duration": 0,
    "start_time": "2022-03-30T13:19:19.413Z"
   },
   {
    "duration": 0,
    "start_time": "2022-03-30T13:19:19.414Z"
   },
   {
    "duration": 0,
    "start_time": "2022-03-30T13:19:19.416Z"
   },
   {
    "duration": 0,
    "start_time": "2022-03-30T13:19:19.417Z"
   },
   {
    "duration": 0,
    "start_time": "2022-03-30T13:19:19.419Z"
   },
   {
    "duration": 0,
    "start_time": "2022-03-30T13:19:19.420Z"
   },
   {
    "duration": 0,
    "start_time": "2022-03-30T13:19:19.421Z"
   },
   {
    "duration": 0,
    "start_time": "2022-03-30T13:19:19.422Z"
   },
   {
    "duration": 0,
    "start_time": "2022-03-30T13:19:19.424Z"
   },
   {
    "duration": 10,
    "start_time": "2022-03-30T13:19:56.016Z"
   },
   {
    "duration": 13,
    "start_time": "2022-03-30T13:19:57.171Z"
   },
   {
    "duration": 12,
    "start_time": "2022-03-30T13:19:57.846Z"
   },
   {
    "duration": 9,
    "start_time": "2022-03-30T13:20:17.302Z"
   },
   {
    "duration": 75,
    "start_time": "2022-03-30T13:21:30.090Z"
   },
   {
    "duration": 79,
    "start_time": "2022-03-30T13:29:35.465Z"
   },
   {
    "duration": 66,
    "start_time": "2022-03-30T13:29:56.582Z"
   },
   {
    "duration": 83,
    "start_time": "2022-03-30T13:30:05.669Z"
   },
   {
    "duration": 85,
    "start_time": "2022-03-30T13:34:32.257Z"
   },
   {
    "duration": 62,
    "start_time": "2022-03-30T13:36:55.403Z"
   },
   {
    "duration": 64,
    "start_time": "2022-03-30T13:42:44.942Z"
   },
   {
    "duration": 69,
    "start_time": "2022-03-30T13:42:58.312Z"
   },
   {
    "duration": 69,
    "start_time": "2022-03-30T13:44:01.883Z"
   },
   {
    "duration": 57,
    "start_time": "2022-03-30T14:18:19.612Z"
   },
   {
    "duration": 1459,
    "start_time": "2022-03-30T14:18:35.113Z"
   },
   {
    "duration": 55,
    "start_time": "2022-03-30T14:18:36.574Z"
   },
   {
    "duration": 7,
    "start_time": "2022-03-30T14:18:36.631Z"
   },
   {
    "duration": 13,
    "start_time": "2022-03-30T14:18:36.641Z"
   },
   {
    "duration": 99,
    "start_time": "2022-03-30T14:18:36.656Z"
   },
   {
    "duration": 121,
    "start_time": "2022-03-30T14:18:36.757Z"
   },
   {
    "duration": 0,
    "start_time": "2022-03-30T14:18:36.881Z"
   },
   {
    "duration": 0,
    "start_time": "2022-03-30T14:18:36.883Z"
   },
   {
    "duration": 0,
    "start_time": "2022-03-30T14:18:36.884Z"
   },
   {
    "duration": 0,
    "start_time": "2022-03-30T14:18:36.885Z"
   },
   {
    "duration": 0,
    "start_time": "2022-03-30T14:18:36.887Z"
   },
   {
    "duration": 0,
    "start_time": "2022-03-30T14:18:36.889Z"
   },
   {
    "duration": 0,
    "start_time": "2022-03-30T14:18:36.891Z"
   },
   {
    "duration": 0,
    "start_time": "2022-03-30T14:18:36.892Z"
   },
   {
    "duration": 0,
    "start_time": "2022-03-30T14:18:36.893Z"
   },
   {
    "duration": 0,
    "start_time": "2022-03-30T14:18:36.895Z"
   },
   {
    "duration": 0,
    "start_time": "2022-03-30T14:18:36.897Z"
   },
   {
    "duration": 0,
    "start_time": "2022-03-30T14:18:36.898Z"
   },
   {
    "duration": 0,
    "start_time": "2022-03-30T14:18:36.932Z"
   },
   {
    "duration": 0,
    "start_time": "2022-03-30T14:18:36.934Z"
   },
   {
    "duration": 0,
    "start_time": "2022-03-30T14:18:36.935Z"
   },
   {
    "duration": 0,
    "start_time": "2022-03-30T14:18:36.937Z"
   },
   {
    "duration": 0,
    "start_time": "2022-03-30T14:18:36.939Z"
   },
   {
    "duration": 0,
    "start_time": "2022-03-30T14:18:36.940Z"
   },
   {
    "duration": 0,
    "start_time": "2022-03-30T14:18:36.942Z"
   },
   {
    "duration": 0,
    "start_time": "2022-03-30T14:18:36.944Z"
   },
   {
    "duration": 0,
    "start_time": "2022-03-30T14:18:36.945Z"
   },
   {
    "duration": 0,
    "start_time": "2022-03-30T14:18:36.947Z"
   },
   {
    "duration": 0,
    "start_time": "2022-03-30T14:18:36.948Z"
   },
   {
    "duration": 8,
    "start_time": "2022-03-30T14:18:55.932Z"
   },
   {
    "duration": 1241,
    "start_time": "2022-03-30T14:49:32.613Z"
   },
   {
    "duration": 55,
    "start_time": "2022-03-30T14:49:33.856Z"
   },
   {
    "duration": 7,
    "start_time": "2022-03-30T14:49:33.912Z"
   },
   {
    "duration": 18,
    "start_time": "2022-03-30T14:49:33.921Z"
   },
   {
    "duration": 68,
    "start_time": "2022-03-30T14:49:33.940Z"
   },
   {
    "duration": 28,
    "start_time": "2022-03-30T14:49:34.010Z"
   },
   {
    "duration": 12,
    "start_time": "2022-03-30T14:49:34.040Z"
   },
   {
    "duration": 325,
    "start_time": "2022-03-30T14:49:34.054Z"
   },
   {
    "duration": 315,
    "start_time": "2022-03-30T14:49:34.380Z"
   },
   {
    "duration": 228,
    "start_time": "2022-03-30T14:49:34.698Z"
   },
   {
    "duration": 345,
    "start_time": "2022-03-30T14:49:34.928Z"
   },
   {
    "duration": 256,
    "start_time": "2022-03-30T14:49:35.275Z"
   },
   {
    "duration": 330,
    "start_time": "2022-03-30T14:49:35.533Z"
   },
   {
    "duration": 283,
    "start_time": "2022-03-30T14:49:35.865Z"
   },
   {
    "duration": 4,
    "start_time": "2022-03-30T14:49:36.150Z"
   },
   {
    "duration": 185,
    "start_time": "2022-03-30T14:49:36.155Z"
   },
   {
    "duration": 187,
    "start_time": "2022-03-30T14:49:36.342Z"
   },
   {
    "duration": 4,
    "start_time": "2022-03-30T14:49:36.531Z"
   },
   {
    "duration": 240,
    "start_time": "2022-03-30T14:49:36.537Z"
   },
   {
    "duration": 162,
    "start_time": "2022-03-30T14:49:36.779Z"
   },
   {
    "duration": 17,
    "start_time": "2022-03-30T14:49:36.942Z"
   },
   {
    "duration": 10,
    "start_time": "2022-03-30T14:49:36.961Z"
   },
   {
    "duration": 17,
    "start_time": "2022-03-30T14:49:36.972Z"
   },
   {
    "duration": 10,
    "start_time": "2022-03-30T14:49:36.991Z"
   },
   {
    "duration": 56,
    "start_time": "2022-03-30T14:49:37.003Z"
   },
   {
    "duration": 15,
    "start_time": "2022-03-30T14:49:37.061Z"
   },
   {
    "duration": 13,
    "start_time": "2022-03-30T14:49:37.078Z"
   },
   {
    "duration": 38,
    "start_time": "2022-03-30T14:49:37.094Z"
   },
   {
    "duration": 177,
    "start_time": "2022-03-30T15:02:14.130Z"
   },
   {
    "duration": 173,
    "start_time": "2022-03-30T15:03:23.429Z"
   },
   {
    "duration": 1118,
    "start_time": "2022-03-31T07:15:51.295Z"
   },
   {
    "duration": 54,
    "start_time": "2022-03-31T07:15:52.415Z"
   },
   {
    "duration": 8,
    "start_time": "2022-03-31T07:15:52.471Z"
   },
   {
    "duration": 12,
    "start_time": "2022-03-31T07:15:52.481Z"
   },
   {
    "duration": 92,
    "start_time": "2022-03-31T07:15:52.495Z"
   },
   {
    "duration": 10,
    "start_time": "2022-03-31T07:15:52.589Z"
   },
   {
    "duration": 17,
    "start_time": "2022-03-31T07:15:52.601Z"
   },
   {
    "duration": 285,
    "start_time": "2022-03-31T07:15:52.634Z"
   },
   {
    "duration": 372,
    "start_time": "2022-03-31T07:15:52.920Z"
   },
   {
    "duration": 193,
    "start_time": "2022-03-31T07:15:53.295Z"
   },
   {
    "duration": 308,
    "start_time": "2022-03-31T07:15:53.489Z"
   },
   {
    "duration": 219,
    "start_time": "2022-03-31T07:15:53.799Z"
   },
   {
    "duration": 334,
    "start_time": "2022-03-31T07:15:54.019Z"
   },
   {
    "duration": 240,
    "start_time": "2022-03-31T07:15:54.355Z"
   },
   {
    "duration": 4,
    "start_time": "2022-03-31T07:15:54.597Z"
   },
   {
    "duration": 154,
    "start_time": "2022-03-31T07:15:54.602Z"
   },
   {
    "duration": 166,
    "start_time": "2022-03-31T07:15:54.757Z"
   },
   {
    "duration": 4,
    "start_time": "2022-03-31T07:15:54.932Z"
   },
   {
    "duration": 215,
    "start_time": "2022-03-31T07:15:54.938Z"
   },
   {
    "duration": 157,
    "start_time": "2022-03-31T07:15:55.155Z"
   },
   {
    "duration": 26,
    "start_time": "2022-03-31T07:15:55.313Z"
   },
   {
    "duration": 10,
    "start_time": "2022-03-31T07:15:55.341Z"
   },
   {
    "duration": 6,
    "start_time": "2022-03-31T07:15:55.353Z"
   },
   {
    "duration": 8,
    "start_time": "2022-03-31T07:15:55.361Z"
   },
   {
    "duration": 27,
    "start_time": "2022-03-31T07:15:55.371Z"
   },
   {
    "duration": 47,
    "start_time": "2022-03-31T07:15:55.400Z"
   },
   {
    "duration": 14,
    "start_time": "2022-03-31T07:15:55.449Z"
   },
   {
    "duration": 7,
    "start_time": "2022-03-31T07:15:55.466Z"
   },
   {
    "duration": 96,
    "start_time": "2022-03-31T08:18:46.629Z"
   },
   {
    "duration": 12,
    "start_time": "2022-03-31T08:18:51.106Z"
   },
   {
    "duration": 9,
    "start_time": "2022-03-31T08:19:03.383Z"
   },
   {
    "duration": 4,
    "start_time": "2022-03-31T08:19:40.146Z"
   },
   {
    "duration": 10,
    "start_time": "2022-03-31T08:21:22.863Z"
   },
   {
    "duration": 10,
    "start_time": "2022-03-31T08:21:25.854Z"
   },
   {
    "duration": 8,
    "start_time": "2022-03-31T08:21:26.045Z"
   },
   {
    "duration": 6,
    "start_time": "2022-03-31T08:23:26.757Z"
   },
   {
    "duration": 6,
    "start_time": "2022-03-31T08:24:23.787Z"
   },
   {
    "duration": 1722,
    "start_time": "2022-03-31T11:55:34.428Z"
   },
   {
    "duration": 80,
    "start_time": "2022-03-31T11:55:36.153Z"
   },
   {
    "duration": 34,
    "start_time": "2022-03-31T11:55:36.235Z"
   },
   {
    "duration": 16,
    "start_time": "2022-03-31T11:55:36.273Z"
   },
   {
    "duration": 149,
    "start_time": "2022-03-31T11:55:36.291Z"
   },
   {
    "duration": 25,
    "start_time": "2022-03-31T11:55:36.442Z"
   },
   {
    "duration": 6,
    "start_time": "2022-03-31T11:55:36.469Z"
   },
   {
    "duration": 16,
    "start_time": "2022-03-31T11:55:36.477Z"
   },
   {
    "duration": 9,
    "start_time": "2022-03-31T11:55:36.495Z"
   },
   {
    "duration": 18,
    "start_time": "2022-03-31T11:55:36.508Z"
   },
   {
    "duration": 48,
    "start_time": "2022-03-31T11:55:36.528Z"
   },
   {
    "duration": 504,
    "start_time": "2022-03-31T11:55:36.578Z"
   },
   {
    "duration": 485,
    "start_time": "2022-03-31T11:55:37.085Z"
   },
   {
    "duration": 358,
    "start_time": "2022-03-31T11:55:37.572Z"
   },
   {
    "duration": 497,
    "start_time": "2022-03-31T11:55:37.932Z"
   },
   {
    "duration": 372,
    "start_time": "2022-03-31T11:55:38.431Z"
   },
   {
    "duration": 430,
    "start_time": "2022-03-31T11:55:38.805Z"
   },
   {
    "duration": 505,
    "start_time": "2022-03-31T11:55:39.238Z"
   },
   {
    "duration": 6,
    "start_time": "2022-03-31T11:55:39.745Z"
   },
   {
    "duration": 263,
    "start_time": "2022-03-31T11:55:39.768Z"
   },
   {
    "duration": 296,
    "start_time": "2022-03-31T11:55:40.034Z"
   },
   {
    "duration": 6,
    "start_time": "2022-03-31T11:55:40.332Z"
   },
   {
    "duration": 449,
    "start_time": "2022-03-31T11:55:40.341Z"
   },
   {
    "duration": 284,
    "start_time": "2022-03-31T11:55:40.792Z"
   },
   {
    "duration": 19,
    "start_time": "2022-03-31T11:55:41.079Z"
   },
   {
    "duration": 17,
    "start_time": "2022-03-31T11:55:41.100Z"
   },
   {
    "duration": 28,
    "start_time": "2022-03-31T11:55:41.119Z"
   },
   {
    "duration": 25,
    "start_time": "2022-03-31T11:55:41.152Z"
   },
   {
    "duration": 44,
    "start_time": "2022-03-31T11:55:41.179Z"
   },
   {
    "duration": 43,
    "start_time": "2022-03-31T11:55:41.226Z"
   },
   {
    "duration": 19,
    "start_time": "2022-03-31T11:55:41.271Z"
   },
   {
    "duration": 21,
    "start_time": "2022-03-31T11:55:41.292Z"
   },
   {
    "duration": 217,
    "start_time": "2022-03-31T11:58:20.039Z"
   },
   {
    "duration": 158,
    "start_time": "2022-03-31T11:58:38.336Z"
   },
   {
    "duration": 1451,
    "start_time": "2022-03-31T12:20:37.776Z"
   },
   {
    "duration": 77,
    "start_time": "2022-03-31T12:20:39.230Z"
   },
   {
    "duration": 9,
    "start_time": "2022-03-31T12:20:39.309Z"
   },
   {
    "duration": 15,
    "start_time": "2022-03-31T12:20:39.321Z"
   },
   {
    "duration": 160,
    "start_time": "2022-03-31T12:20:39.338Z"
   },
   {
    "duration": 12,
    "start_time": "2022-03-31T12:20:39.500Z"
   },
   {
    "duration": 7,
    "start_time": "2022-03-31T12:20:39.514Z"
   },
   {
    "duration": 14,
    "start_time": "2022-03-31T12:20:39.523Z"
   },
   {
    "duration": 10,
    "start_time": "2022-03-31T12:20:39.568Z"
   },
   {
    "duration": 25,
    "start_time": "2022-03-31T12:20:39.582Z"
   },
   {
    "duration": 16,
    "start_time": "2022-03-31T12:20:39.610Z"
   },
   {
    "duration": 504,
    "start_time": "2022-03-31T12:20:39.628Z"
   },
   {
    "duration": 487,
    "start_time": "2022-03-31T12:20:40.134Z"
   },
   {
    "duration": 965,
    "start_time": "2022-03-31T12:20:40.623Z"
   },
   {
    "duration": 1017,
    "start_time": "2022-03-31T12:20:41.591Z"
   },
   {
    "duration": 1089,
    "start_time": "2022-03-31T12:20:42.611Z"
   },
   {
    "duration": 995,
    "start_time": "2022-03-31T12:20:43.703Z"
   },
   {
    "duration": 606,
    "start_time": "2022-03-31T12:20:44.701Z"
   },
   {
    "duration": 6,
    "start_time": "2022-03-31T12:20:45.310Z"
   },
   {
    "duration": 284,
    "start_time": "2022-03-31T12:20:45.318Z"
   },
   {
    "duration": 302,
    "start_time": "2022-03-31T12:20:45.606Z"
   },
   {
    "duration": 6,
    "start_time": "2022-03-31T12:20:45.910Z"
   },
   {
    "duration": 453,
    "start_time": "2022-03-31T12:20:45.918Z"
   },
   {
    "duration": 286,
    "start_time": "2022-03-31T12:20:46.374Z"
   },
   {
    "duration": 21,
    "start_time": "2022-03-31T12:20:46.667Z"
   },
   {
    "duration": 15,
    "start_time": "2022-03-31T12:20:46.691Z"
   },
   {
    "duration": 8,
    "start_time": "2022-03-31T12:20:46.708Z"
   },
   {
    "duration": 47,
    "start_time": "2022-03-31T12:20:46.721Z"
   },
   {
    "duration": 37,
    "start_time": "2022-03-31T12:20:46.770Z"
   },
   {
    "duration": 23,
    "start_time": "2022-03-31T12:20:46.810Z"
   },
   {
    "duration": 48,
    "start_time": "2022-03-31T12:20:46.835Z"
   },
   {
    "duration": 15,
    "start_time": "2022-03-31T12:20:46.885Z"
   }
  ],
  "kernelspec": {
   "display_name": "Python 3 (ipykernel)",
   "language": "python",
   "name": "python3"
  },
  "language_info": {
   "codemirror_mode": {
    "name": "ipython",
    "version": 3
   },
   "file_extension": ".py",
   "mimetype": "text/x-python",
   "name": "python",
   "nbconvert_exporter": "python",
   "pygments_lexer": "ipython3",
   "version": "3.9.12"
  },
  "toc": {
   "base_numbering": 1,
   "nav_menu": {
    "height": "12px",
    "width": "160px"
   },
   "number_sections": true,
   "sideBar": true,
   "skip_h1_title": true,
   "title_cell": "Table of Contents",
   "title_sidebar": "Contents",
   "toc_cell": false,
   "toc_position": {
    "height": "calc(100% - 180px)",
    "left": "10px",
    "top": "150px",
    "width": "318.391px"
   },
   "toc_section_display": true,
   "toc_window_display": true
  }
 },
 "nbformat": 4,
 "nbformat_minor": 2
}
