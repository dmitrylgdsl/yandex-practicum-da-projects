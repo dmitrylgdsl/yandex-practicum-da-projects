{
 "cells": [
  {
   "cell_type": "markdown",
   "metadata": {},
   "source": [
    "# Исследование объявлений о продаже квартир\n",
    "\n",
    "В нашем распоряжении данные сервиса Яндекс.Недвижимость — архив объявлений о продаже квартир в Санкт-Петербурге и соседних населённых пунктах за несколько лет. Нужно определить рыночную стоимость объектов недвижимости. Наша задача — установить параметры. Это позволит построить автоматизированную систему: она отследит аномалии и мошенническую деятельность. \n",
    "\n",
    "По каждой квартире на продажу доступны два вида данных. Первые вписаны пользователем, вторые получены автоматически на основе картографических данных. Например, расстояние до центра, аэропорта, ближайшего парка и водоёма. "
   ]
  },
  {
   "cell_type": "markdown",
   "metadata": {},
   "source": [
    "## Изучение данных из файла"
   ]
  },
  {
   "cell_type": "markdown",
   "metadata": {},
   "source": [
    "Импорт библиотек и получение основной информации по данным"
   ]
  },
  {
   "cell_type": "code",
   "execution_count": 2,
   "metadata": {},
   "outputs": [
    {
     "name": "stdout",
     "output_type": "stream",
     "text": [
      "<class 'pandas.core.frame.DataFrame'>\n",
      "RangeIndex: 23699 entries, 0 to 23698\n",
      "Data columns (total 22 columns):\n",
      " #   Column                Non-Null Count  Dtype  \n",
      "---  ------                --------------  -----  \n",
      " 0   total_images          23699 non-null  int64  \n",
      " 1   last_price            23699 non-null  float64\n",
      " 2   total_area            23699 non-null  float64\n",
      " 3   first_day_exposition  23699 non-null  object \n",
      " 4   rooms                 23699 non-null  int64  \n",
      " 5   ceiling_height        14504 non-null  float64\n",
      " 6   floors_total          23613 non-null  float64\n",
      " 7   living_area           21796 non-null  float64\n",
      " 8   floor                 23699 non-null  int64  \n",
      " 9   is_apartment          2775 non-null   object \n",
      " 10  studio                23699 non-null  bool   \n",
      " 11  open_plan             23699 non-null  bool   \n",
      " 12  kitchen_area          21421 non-null  float64\n",
      " 13  balcony               12180 non-null  float64\n",
      " 14  locality_name         23650 non-null  object \n",
      " 15  airports_nearest      18157 non-null  float64\n",
      " 16  cityCenters_nearest   18180 non-null  float64\n",
      " 17  parks_around3000      18181 non-null  float64\n",
      " 18  parks_nearest         8079 non-null   float64\n",
      " 19  ponds_around3000      18181 non-null  float64\n",
      " 20  ponds_nearest         9110 non-null   float64\n",
      " 21  days_exposition       20518 non-null  float64\n",
      "dtypes: bool(2), float64(14), int64(3), object(3)\n",
      "memory usage: 3.7+ MB\n"
     ]
    },
    {
     "data": {
      "text/html": [
       "<div>\n",
       "<style scoped>\n",
       "    .dataframe tbody tr th:only-of-type {\n",
       "        vertical-align: middle;\n",
       "    }\n",
       "\n",
       "    .dataframe tbody tr th {\n",
       "        vertical-align: top;\n",
       "    }\n",
       "\n",
       "    .dataframe thead th {\n",
       "        text-align: right;\n",
       "    }\n",
       "</style>\n",
       "<table border=\"1\" class=\"dataframe\">\n",
       "  <thead>\n",
       "    <tr style=\"text-align: right;\">\n",
       "      <th></th>\n",
       "      <th>total_images</th>\n",
       "      <th>last_price</th>\n",
       "      <th>total_area</th>\n",
       "      <th>first_day_exposition</th>\n",
       "      <th>rooms</th>\n",
       "      <th>ceiling_height</th>\n",
       "      <th>floors_total</th>\n",
       "      <th>living_area</th>\n",
       "      <th>floor</th>\n",
       "      <th>is_apartment</th>\n",
       "      <th>...</th>\n",
       "      <th>kitchen_area</th>\n",
       "      <th>balcony</th>\n",
       "      <th>locality_name</th>\n",
       "      <th>airports_nearest</th>\n",
       "      <th>cityCenters_nearest</th>\n",
       "      <th>parks_around3000</th>\n",
       "      <th>parks_nearest</th>\n",
       "      <th>ponds_around3000</th>\n",
       "      <th>ponds_nearest</th>\n",
       "      <th>days_exposition</th>\n",
       "    </tr>\n",
       "  </thead>\n",
       "  <tbody>\n",
       "    <tr>\n",
       "      <th>0</th>\n",
       "      <td>20</td>\n",
       "      <td>13000000.0</td>\n",
       "      <td>108.00</td>\n",
       "      <td>2019-03-07T00:00:00</td>\n",
       "      <td>3</td>\n",
       "      <td>2.70</td>\n",
       "      <td>16.0</td>\n",
       "      <td>51.00</td>\n",
       "      <td>8</td>\n",
       "      <td>NaN</td>\n",
       "      <td>...</td>\n",
       "      <td>25.00</td>\n",
       "      <td>NaN</td>\n",
       "      <td>Санкт-Петербург</td>\n",
       "      <td>18863.0</td>\n",
       "      <td>16028.0</td>\n",
       "      <td>1.0</td>\n",
       "      <td>482.0</td>\n",
       "      <td>2.0</td>\n",
       "      <td>755.0</td>\n",
       "      <td>NaN</td>\n",
       "    </tr>\n",
       "    <tr>\n",
       "      <th>1</th>\n",
       "      <td>7</td>\n",
       "      <td>3350000.0</td>\n",
       "      <td>40.40</td>\n",
       "      <td>2018-12-04T00:00:00</td>\n",
       "      <td>1</td>\n",
       "      <td>NaN</td>\n",
       "      <td>11.0</td>\n",
       "      <td>18.60</td>\n",
       "      <td>1</td>\n",
       "      <td>NaN</td>\n",
       "      <td>...</td>\n",
       "      <td>11.00</td>\n",
       "      <td>2.0</td>\n",
       "      <td>посёлок Шушары</td>\n",
       "      <td>12817.0</td>\n",
       "      <td>18603.0</td>\n",
       "      <td>0.0</td>\n",
       "      <td>NaN</td>\n",
       "      <td>0.0</td>\n",
       "      <td>NaN</td>\n",
       "      <td>81.0</td>\n",
       "    </tr>\n",
       "    <tr>\n",
       "      <th>2</th>\n",
       "      <td>10</td>\n",
       "      <td>5196000.0</td>\n",
       "      <td>56.00</td>\n",
       "      <td>2015-08-20T00:00:00</td>\n",
       "      <td>2</td>\n",
       "      <td>NaN</td>\n",
       "      <td>5.0</td>\n",
       "      <td>34.30</td>\n",
       "      <td>4</td>\n",
       "      <td>NaN</td>\n",
       "      <td>...</td>\n",
       "      <td>8.30</td>\n",
       "      <td>0.0</td>\n",
       "      <td>Санкт-Петербург</td>\n",
       "      <td>21741.0</td>\n",
       "      <td>13933.0</td>\n",
       "      <td>1.0</td>\n",
       "      <td>90.0</td>\n",
       "      <td>2.0</td>\n",
       "      <td>574.0</td>\n",
       "      <td>558.0</td>\n",
       "    </tr>\n",
       "    <tr>\n",
       "      <th>3</th>\n",
       "      <td>0</td>\n",
       "      <td>64900000.0</td>\n",
       "      <td>159.00</td>\n",
       "      <td>2015-07-24T00:00:00</td>\n",
       "      <td>3</td>\n",
       "      <td>NaN</td>\n",
       "      <td>14.0</td>\n",
       "      <td>NaN</td>\n",
       "      <td>9</td>\n",
       "      <td>NaN</td>\n",
       "      <td>...</td>\n",
       "      <td>NaN</td>\n",
       "      <td>0.0</td>\n",
       "      <td>Санкт-Петербург</td>\n",
       "      <td>28098.0</td>\n",
       "      <td>6800.0</td>\n",
       "      <td>2.0</td>\n",
       "      <td>84.0</td>\n",
       "      <td>3.0</td>\n",
       "      <td>234.0</td>\n",
       "      <td>424.0</td>\n",
       "    </tr>\n",
       "    <tr>\n",
       "      <th>4</th>\n",
       "      <td>2</td>\n",
       "      <td>10000000.0</td>\n",
       "      <td>100.00</td>\n",
       "      <td>2018-06-19T00:00:00</td>\n",
       "      <td>2</td>\n",
       "      <td>3.03</td>\n",
       "      <td>14.0</td>\n",
       "      <td>32.00</td>\n",
       "      <td>13</td>\n",
       "      <td>NaN</td>\n",
       "      <td>...</td>\n",
       "      <td>41.00</td>\n",
       "      <td>NaN</td>\n",
       "      <td>Санкт-Петербург</td>\n",
       "      <td>31856.0</td>\n",
       "      <td>8098.0</td>\n",
       "      <td>2.0</td>\n",
       "      <td>112.0</td>\n",
       "      <td>1.0</td>\n",
       "      <td>48.0</td>\n",
       "      <td>121.0</td>\n",
       "    </tr>\n",
       "    <tr>\n",
       "      <th>5</th>\n",
       "      <td>10</td>\n",
       "      <td>2890000.0</td>\n",
       "      <td>30.40</td>\n",
       "      <td>2018-09-10T00:00:00</td>\n",
       "      <td>1</td>\n",
       "      <td>NaN</td>\n",
       "      <td>12.0</td>\n",
       "      <td>14.40</td>\n",
       "      <td>5</td>\n",
       "      <td>NaN</td>\n",
       "      <td>...</td>\n",
       "      <td>9.10</td>\n",
       "      <td>NaN</td>\n",
       "      <td>городской посёлок Янино-1</td>\n",
       "      <td>NaN</td>\n",
       "      <td>NaN</td>\n",
       "      <td>NaN</td>\n",
       "      <td>NaN</td>\n",
       "      <td>NaN</td>\n",
       "      <td>NaN</td>\n",
       "      <td>55.0</td>\n",
       "    </tr>\n",
       "    <tr>\n",
       "      <th>6</th>\n",
       "      <td>6</td>\n",
       "      <td>3700000.0</td>\n",
       "      <td>37.30</td>\n",
       "      <td>2017-11-02T00:00:00</td>\n",
       "      <td>1</td>\n",
       "      <td>NaN</td>\n",
       "      <td>26.0</td>\n",
       "      <td>10.60</td>\n",
       "      <td>6</td>\n",
       "      <td>NaN</td>\n",
       "      <td>...</td>\n",
       "      <td>14.40</td>\n",
       "      <td>1.0</td>\n",
       "      <td>посёлок Парголово</td>\n",
       "      <td>52996.0</td>\n",
       "      <td>19143.0</td>\n",
       "      <td>0.0</td>\n",
       "      <td>NaN</td>\n",
       "      <td>0.0</td>\n",
       "      <td>NaN</td>\n",
       "      <td>155.0</td>\n",
       "    </tr>\n",
       "    <tr>\n",
       "      <th>7</th>\n",
       "      <td>5</td>\n",
       "      <td>7915000.0</td>\n",
       "      <td>71.60</td>\n",
       "      <td>2019-04-18T00:00:00</td>\n",
       "      <td>2</td>\n",
       "      <td>NaN</td>\n",
       "      <td>24.0</td>\n",
       "      <td>NaN</td>\n",
       "      <td>22</td>\n",
       "      <td>NaN</td>\n",
       "      <td>...</td>\n",
       "      <td>18.90</td>\n",
       "      <td>2.0</td>\n",
       "      <td>Санкт-Петербург</td>\n",
       "      <td>23982.0</td>\n",
       "      <td>11634.0</td>\n",
       "      <td>0.0</td>\n",
       "      <td>NaN</td>\n",
       "      <td>0.0</td>\n",
       "      <td>NaN</td>\n",
       "      <td>NaN</td>\n",
       "    </tr>\n",
       "    <tr>\n",
       "      <th>8</th>\n",
       "      <td>20</td>\n",
       "      <td>2900000.0</td>\n",
       "      <td>33.16</td>\n",
       "      <td>2018-05-23T00:00:00</td>\n",
       "      <td>1</td>\n",
       "      <td>NaN</td>\n",
       "      <td>27.0</td>\n",
       "      <td>15.43</td>\n",
       "      <td>26</td>\n",
       "      <td>NaN</td>\n",
       "      <td>...</td>\n",
       "      <td>8.81</td>\n",
       "      <td>NaN</td>\n",
       "      <td>посёлок Мурино</td>\n",
       "      <td>NaN</td>\n",
       "      <td>NaN</td>\n",
       "      <td>NaN</td>\n",
       "      <td>NaN</td>\n",
       "      <td>NaN</td>\n",
       "      <td>NaN</td>\n",
       "      <td>189.0</td>\n",
       "    </tr>\n",
       "    <tr>\n",
       "      <th>9</th>\n",
       "      <td>18</td>\n",
       "      <td>5400000.0</td>\n",
       "      <td>61.00</td>\n",
       "      <td>2017-02-26T00:00:00</td>\n",
       "      <td>3</td>\n",
       "      <td>2.50</td>\n",
       "      <td>9.0</td>\n",
       "      <td>43.60</td>\n",
       "      <td>7</td>\n",
       "      <td>NaN</td>\n",
       "      <td>...</td>\n",
       "      <td>6.50</td>\n",
       "      <td>2.0</td>\n",
       "      <td>Санкт-Петербург</td>\n",
       "      <td>50898.0</td>\n",
       "      <td>15008.0</td>\n",
       "      <td>0.0</td>\n",
       "      <td>NaN</td>\n",
       "      <td>0.0</td>\n",
       "      <td>NaN</td>\n",
       "      <td>289.0</td>\n",
       "    </tr>\n",
       "  </tbody>\n",
       "</table>\n",
       "<p>10 rows × 22 columns</p>\n",
       "</div>"
      ],
      "text/plain": [
       "   total_images  last_price  total_area first_day_exposition  rooms  \\\n",
       "0            20  13000000.0      108.00  2019-03-07T00:00:00      3   \n",
       "1             7   3350000.0       40.40  2018-12-04T00:00:00      1   \n",
       "2            10   5196000.0       56.00  2015-08-20T00:00:00      2   \n",
       "3             0  64900000.0      159.00  2015-07-24T00:00:00      3   \n",
       "4             2  10000000.0      100.00  2018-06-19T00:00:00      2   \n",
       "5            10   2890000.0       30.40  2018-09-10T00:00:00      1   \n",
       "6             6   3700000.0       37.30  2017-11-02T00:00:00      1   \n",
       "7             5   7915000.0       71.60  2019-04-18T00:00:00      2   \n",
       "8            20   2900000.0       33.16  2018-05-23T00:00:00      1   \n",
       "9            18   5400000.0       61.00  2017-02-26T00:00:00      3   \n",
       "\n",
       "   ceiling_height  floors_total  living_area  floor is_apartment  ...  \\\n",
       "0            2.70          16.0        51.00      8          NaN  ...   \n",
       "1             NaN          11.0        18.60      1          NaN  ...   \n",
       "2             NaN           5.0        34.30      4          NaN  ...   \n",
       "3             NaN          14.0          NaN      9          NaN  ...   \n",
       "4            3.03          14.0        32.00     13          NaN  ...   \n",
       "5             NaN          12.0        14.40      5          NaN  ...   \n",
       "6             NaN          26.0        10.60      6          NaN  ...   \n",
       "7             NaN          24.0          NaN     22          NaN  ...   \n",
       "8             NaN          27.0        15.43     26          NaN  ...   \n",
       "9            2.50           9.0        43.60      7          NaN  ...   \n",
       "\n",
       "   kitchen_area  balcony              locality_name  airports_nearest  \\\n",
       "0         25.00      NaN            Санкт-Петербург           18863.0   \n",
       "1         11.00      2.0             посёлок Шушары           12817.0   \n",
       "2          8.30      0.0            Санкт-Петербург           21741.0   \n",
       "3           NaN      0.0            Санкт-Петербург           28098.0   \n",
       "4         41.00      NaN            Санкт-Петербург           31856.0   \n",
       "5          9.10      NaN  городской посёлок Янино-1               NaN   \n",
       "6         14.40      1.0          посёлок Парголово           52996.0   \n",
       "7         18.90      2.0            Санкт-Петербург           23982.0   \n",
       "8          8.81      NaN             посёлок Мурино               NaN   \n",
       "9          6.50      2.0            Санкт-Петербург           50898.0   \n",
       "\n",
       "  cityCenters_nearest  parks_around3000  parks_nearest  ponds_around3000  \\\n",
       "0             16028.0               1.0          482.0               2.0   \n",
       "1             18603.0               0.0            NaN               0.0   \n",
       "2             13933.0               1.0           90.0               2.0   \n",
       "3              6800.0               2.0           84.0               3.0   \n",
       "4              8098.0               2.0          112.0               1.0   \n",
       "5                 NaN               NaN            NaN               NaN   \n",
       "6             19143.0               0.0            NaN               0.0   \n",
       "7             11634.0               0.0            NaN               0.0   \n",
       "8                 NaN               NaN            NaN               NaN   \n",
       "9             15008.0               0.0            NaN               0.0   \n",
       "\n",
       "   ponds_nearest  days_exposition  \n",
       "0          755.0              NaN  \n",
       "1            NaN             81.0  \n",
       "2          574.0            558.0  \n",
       "3          234.0            424.0  \n",
       "4           48.0            121.0  \n",
       "5            NaN             55.0  \n",
       "6            NaN            155.0  \n",
       "7            NaN              NaN  \n",
       "8            NaN            189.0  \n",
       "9            NaN            289.0  \n",
       "\n",
       "[10 rows x 22 columns]"
      ]
     },
     "execution_count": 2,
     "metadata": {},
     "output_type": "execute_result"
    }
   ],
   "source": [
    "import pandas as pd\n",
    "import matplotlib.pyplot as plt\n",
    "data = pd.read_csv('datasets/real_estate_data.csv', sep = '\\t')\n",
    "data.info()\n",
    "data.head(10)"
   ]
  },
  {
   "cell_type": "code",
   "execution_count": 3,
   "metadata": {},
   "outputs": [
    {
     "data": {
      "text/html": [
       "<div>\n",
       "<style scoped>\n",
       "    .dataframe tbody tr th:only-of-type {\n",
       "        vertical-align: middle;\n",
       "    }\n",
       "\n",
       "    .dataframe tbody tr th {\n",
       "        vertical-align: top;\n",
       "    }\n",
       "\n",
       "    .dataframe thead th {\n",
       "        text-align: right;\n",
       "    }\n",
       "</style>\n",
       "<table border=\"1\" class=\"dataframe\">\n",
       "  <thead>\n",
       "    <tr style=\"text-align: right;\">\n",
       "      <th></th>\n",
       "      <th>total_images</th>\n",
       "      <th>last_price</th>\n",
       "      <th>total_area</th>\n",
       "      <th>rooms</th>\n",
       "      <th>ceiling_height</th>\n",
       "      <th>floors_total</th>\n",
       "      <th>living_area</th>\n",
       "      <th>floor</th>\n",
       "      <th>kitchen_area</th>\n",
       "      <th>balcony</th>\n",
       "      <th>airports_nearest</th>\n",
       "      <th>cityCenters_nearest</th>\n",
       "      <th>parks_around3000</th>\n",
       "      <th>parks_nearest</th>\n",
       "      <th>ponds_around3000</th>\n",
       "      <th>ponds_nearest</th>\n",
       "      <th>days_exposition</th>\n",
       "    </tr>\n",
       "  </thead>\n",
       "  <tbody>\n",
       "    <tr>\n",
       "      <th>count</th>\n",
       "      <td>23699.000000</td>\n",
       "      <td>2.369900e+04</td>\n",
       "      <td>23699.000000</td>\n",
       "      <td>23699.000000</td>\n",
       "      <td>14504.000000</td>\n",
       "      <td>23613.000000</td>\n",
       "      <td>21796.000000</td>\n",
       "      <td>23699.000000</td>\n",
       "      <td>21421.000000</td>\n",
       "      <td>12180.000000</td>\n",
       "      <td>18157.000000</td>\n",
       "      <td>18180.000000</td>\n",
       "      <td>18181.000000</td>\n",
       "      <td>8079.000000</td>\n",
       "      <td>18181.000000</td>\n",
       "      <td>9110.000000</td>\n",
       "      <td>20518.000000</td>\n",
       "    </tr>\n",
       "    <tr>\n",
       "      <th>mean</th>\n",
       "      <td>9.858475</td>\n",
       "      <td>6.541549e+06</td>\n",
       "      <td>60.348651</td>\n",
       "      <td>2.070636</td>\n",
       "      <td>2.771499</td>\n",
       "      <td>10.673824</td>\n",
       "      <td>34.457852</td>\n",
       "      <td>5.892358</td>\n",
       "      <td>10.569807</td>\n",
       "      <td>1.150082</td>\n",
       "      <td>28793.672193</td>\n",
       "      <td>14191.277833</td>\n",
       "      <td>0.611408</td>\n",
       "      <td>490.804555</td>\n",
       "      <td>0.770255</td>\n",
       "      <td>517.980900</td>\n",
       "      <td>180.888634</td>\n",
       "    </tr>\n",
       "    <tr>\n",
       "      <th>std</th>\n",
       "      <td>5.682529</td>\n",
       "      <td>1.088701e+07</td>\n",
       "      <td>35.654083</td>\n",
       "      <td>1.078405</td>\n",
       "      <td>1.261056</td>\n",
       "      <td>6.597173</td>\n",
       "      <td>22.030445</td>\n",
       "      <td>4.885249</td>\n",
       "      <td>5.905438</td>\n",
       "      <td>1.071300</td>\n",
       "      <td>12630.880622</td>\n",
       "      <td>8608.386210</td>\n",
       "      <td>0.802074</td>\n",
       "      <td>342.317995</td>\n",
       "      <td>0.938346</td>\n",
       "      <td>277.720643</td>\n",
       "      <td>219.727988</td>\n",
       "    </tr>\n",
       "    <tr>\n",
       "      <th>min</th>\n",
       "      <td>0.000000</td>\n",
       "      <td>1.219000e+04</td>\n",
       "      <td>12.000000</td>\n",
       "      <td>0.000000</td>\n",
       "      <td>1.000000</td>\n",
       "      <td>1.000000</td>\n",
       "      <td>2.000000</td>\n",
       "      <td>1.000000</td>\n",
       "      <td>1.300000</td>\n",
       "      <td>0.000000</td>\n",
       "      <td>0.000000</td>\n",
       "      <td>181.000000</td>\n",
       "      <td>0.000000</td>\n",
       "      <td>1.000000</td>\n",
       "      <td>0.000000</td>\n",
       "      <td>13.000000</td>\n",
       "      <td>1.000000</td>\n",
       "    </tr>\n",
       "    <tr>\n",
       "      <th>25%</th>\n",
       "      <td>6.000000</td>\n",
       "      <td>3.400000e+06</td>\n",
       "      <td>40.000000</td>\n",
       "      <td>1.000000</td>\n",
       "      <td>2.520000</td>\n",
       "      <td>5.000000</td>\n",
       "      <td>18.600000</td>\n",
       "      <td>2.000000</td>\n",
       "      <td>7.000000</td>\n",
       "      <td>0.000000</td>\n",
       "      <td>18585.000000</td>\n",
       "      <td>9238.000000</td>\n",
       "      <td>0.000000</td>\n",
       "      <td>288.000000</td>\n",
       "      <td>0.000000</td>\n",
       "      <td>294.000000</td>\n",
       "      <td>45.000000</td>\n",
       "    </tr>\n",
       "    <tr>\n",
       "      <th>50%</th>\n",
       "      <td>9.000000</td>\n",
       "      <td>4.650000e+06</td>\n",
       "      <td>52.000000</td>\n",
       "      <td>2.000000</td>\n",
       "      <td>2.650000</td>\n",
       "      <td>9.000000</td>\n",
       "      <td>30.000000</td>\n",
       "      <td>4.000000</td>\n",
       "      <td>9.100000</td>\n",
       "      <td>1.000000</td>\n",
       "      <td>26726.000000</td>\n",
       "      <td>13098.500000</td>\n",
       "      <td>0.000000</td>\n",
       "      <td>455.000000</td>\n",
       "      <td>1.000000</td>\n",
       "      <td>502.000000</td>\n",
       "      <td>95.000000</td>\n",
       "    </tr>\n",
       "    <tr>\n",
       "      <th>75%</th>\n",
       "      <td>14.000000</td>\n",
       "      <td>6.800000e+06</td>\n",
       "      <td>69.900000</td>\n",
       "      <td>3.000000</td>\n",
       "      <td>2.800000</td>\n",
       "      <td>16.000000</td>\n",
       "      <td>42.300000</td>\n",
       "      <td>8.000000</td>\n",
       "      <td>12.000000</td>\n",
       "      <td>2.000000</td>\n",
       "      <td>37273.000000</td>\n",
       "      <td>16293.000000</td>\n",
       "      <td>1.000000</td>\n",
       "      <td>612.000000</td>\n",
       "      <td>1.000000</td>\n",
       "      <td>729.000000</td>\n",
       "      <td>232.000000</td>\n",
       "    </tr>\n",
       "    <tr>\n",
       "      <th>max</th>\n",
       "      <td>50.000000</td>\n",
       "      <td>7.630000e+08</td>\n",
       "      <td>900.000000</td>\n",
       "      <td>19.000000</td>\n",
       "      <td>100.000000</td>\n",
       "      <td>60.000000</td>\n",
       "      <td>409.700000</td>\n",
       "      <td>33.000000</td>\n",
       "      <td>112.000000</td>\n",
       "      <td>5.000000</td>\n",
       "      <td>84869.000000</td>\n",
       "      <td>65968.000000</td>\n",
       "      <td>3.000000</td>\n",
       "      <td>3190.000000</td>\n",
       "      <td>3.000000</td>\n",
       "      <td>1344.000000</td>\n",
       "      <td>1580.000000</td>\n",
       "    </tr>\n",
       "  </tbody>\n",
       "</table>\n",
       "</div>"
      ],
      "text/plain": [
       "       total_images    last_price    total_area         rooms  ceiling_height  \\\n",
       "count  23699.000000  2.369900e+04  23699.000000  23699.000000    14504.000000   \n",
       "mean       9.858475  6.541549e+06     60.348651      2.070636        2.771499   \n",
       "std        5.682529  1.088701e+07     35.654083      1.078405        1.261056   \n",
       "min        0.000000  1.219000e+04     12.000000      0.000000        1.000000   \n",
       "25%        6.000000  3.400000e+06     40.000000      1.000000        2.520000   \n",
       "50%        9.000000  4.650000e+06     52.000000      2.000000        2.650000   \n",
       "75%       14.000000  6.800000e+06     69.900000      3.000000        2.800000   \n",
       "max       50.000000  7.630000e+08    900.000000     19.000000      100.000000   \n",
       "\n",
       "       floors_total   living_area         floor  kitchen_area       balcony  \\\n",
       "count  23613.000000  21796.000000  23699.000000  21421.000000  12180.000000   \n",
       "mean      10.673824     34.457852      5.892358     10.569807      1.150082   \n",
       "std        6.597173     22.030445      4.885249      5.905438      1.071300   \n",
       "min        1.000000      2.000000      1.000000      1.300000      0.000000   \n",
       "25%        5.000000     18.600000      2.000000      7.000000      0.000000   \n",
       "50%        9.000000     30.000000      4.000000      9.100000      1.000000   \n",
       "75%       16.000000     42.300000      8.000000     12.000000      2.000000   \n",
       "max       60.000000    409.700000     33.000000    112.000000      5.000000   \n",
       "\n",
       "       airports_nearest  cityCenters_nearest  parks_around3000  parks_nearest  \\\n",
       "count      18157.000000         18180.000000      18181.000000    8079.000000   \n",
       "mean       28793.672193         14191.277833          0.611408     490.804555   \n",
       "std        12630.880622          8608.386210          0.802074     342.317995   \n",
       "min            0.000000           181.000000          0.000000       1.000000   \n",
       "25%        18585.000000          9238.000000          0.000000     288.000000   \n",
       "50%        26726.000000         13098.500000          0.000000     455.000000   \n",
       "75%        37273.000000         16293.000000          1.000000     612.000000   \n",
       "max        84869.000000         65968.000000          3.000000    3190.000000   \n",
       "\n",
       "       ponds_around3000  ponds_nearest  days_exposition  \n",
       "count      18181.000000    9110.000000     20518.000000  \n",
       "mean           0.770255     517.980900       180.888634  \n",
       "std            0.938346     277.720643       219.727988  \n",
       "min            0.000000      13.000000         1.000000  \n",
       "25%            0.000000     294.000000        45.000000  \n",
       "50%            1.000000     502.000000        95.000000  \n",
       "75%            1.000000     729.000000       232.000000  \n",
       "max            3.000000    1344.000000      1580.000000  "
      ]
     },
     "execution_count": 3,
     "metadata": {},
     "output_type": "execute_result"
    }
   ],
   "source": [
    "data.describe()"
   ]
  },
  {
   "cell_type": "markdown",
   "metadata": {},
   "source": [
    "<b>Вывод</b>\n",
    "\n",
    "Таблица имеет 22 столбца. В 14 столбцах имеются пропуски с которыми придется поработать.\n",
    "Тип данных различается: bool(2), float64(14), int64(3), object(3). Для многих столбцов нужно будет поменять тип данных.\n",
    "Из странных значений бросается минимальная и максимальная высота потолков в 1 и 100 метров, что впринципе не возможно. Минимальное количество комнат 0, что то же не возможно. Подозрительными выглядят минимальная жилая площать в 2 м2 и площадь кухни в 1,3 м2."
   ]
  },
  {
   "cell_type": "markdown",
   "metadata": {},
   "source": [
    "## Предобработка данных"
   ]
  },
  {
   "cell_type": "code",
   "execution_count": 4,
   "metadata": {},
   "outputs": [
    {
     "data": {
      "text/plain": [
       "total_images                0\n",
       "last_price                  0\n",
       "total_area                  0\n",
       "first_day_exposition        0\n",
       "rooms                       0\n",
       "ceiling_height           9195\n",
       "floors_total               86\n",
       "living_area              1903\n",
       "floor                       0\n",
       "is_apartment            20924\n",
       "studio                      0\n",
       "open_plan                   0\n",
       "kitchen_area             2278\n",
       "balcony                 11519\n",
       "locality_name              49\n",
       "airports_nearest         5542\n",
       "cityCenters_nearest      5519\n",
       "parks_around3000         5518\n",
       "parks_nearest           15620\n",
       "ponds_around3000         5518\n",
       "ponds_nearest           14589\n",
       "days_exposition          3181\n",
       "dtype: int64"
      ]
     },
     "execution_count": 4,
     "metadata": {},
     "output_type": "execute_result"
    }
   ],
   "source": [
    "# Смотрим общую информацию по пропускам:\n",
    "data.isnull().sum()"
   ]
  },
  {
   "cell_type": "code",
   "execution_count": 5,
   "metadata": {},
   "outputs": [],
   "source": [
    "# Пропуски в 'locality_name' не будем угадывать и просто удалим эти строки т.к они занимают малый обьем от всего датасета.\n",
    "data.dropna(subset=['locality_name'], inplace=True)\n",
    "# Проверка:\n",
    "data['locality_name'].isnull().sum()\n",
    "# Так же приведем названия к одному регистру, заменим ё на е и удалим вспомогательные слова.\n",
    "data['locality_name'] = data['locality_name'].str.lower().replace('ё', 'е', regex = True)\n",
    "delete_words = ['поселок ', 'деревня ', 'село ', 'городского типа ', 'при железнодорожной станции ', 'городской ',\n",
    "                'садовое товарищество ']\n",
    "for name in delete_words:\n",
    "    data['locality_name'] = data['locality_name'].replace(name, '', regex = True)"
   ]
  },
  {
   "cell_type": "code",
   "execution_count": 6,
   "metadata": {},
   "outputs": [
    {
     "data": {
      "text/plain": [
       "0"
      ]
     },
     "execution_count": 6,
     "metadata": {},
     "output_type": "execute_result"
    }
   ],
   "source": [
    "# Пропуски в 'balcony' заполняем нулями так как скорее всего балконов просто нет.\n",
    "data['balcony'] = data['balcony'].fillna(0)\n",
    "# Проверка:\n",
    "data['balcony'].isnull().sum()"
   ]
  },
  {
   "cell_type": "code",
   "execution_count": 7,
   "metadata": {},
   "outputs": [
    {
     "name": "stdout",
     "output_type": "stream",
     "text": [
      "Кол-во строк с пропусками после замены: 0\n",
      "Кол-во строк где floor > floors_total: 32\n"
     ]
    }
   ],
   "source": [
    "# Пропуски в 'floors_total' заменим на медианное значение для региона.\n",
    "median_floors_region = data.groupby('locality_name')['floors_total'].median().round(0)\n",
    "\n",
    "for local_name in median_floors_region.index:\n",
    "    data.loc[data['locality_name'] == local_name, 'floors_total'] = data.loc[\n",
    "             data['locality_name'] == local_name, 'floors_total'].fillna(median_floors_region[local_name])\n",
    "# Проверка:\n",
    "print('Кол-во строк с пропусками после замены:', data['floors_total'].isnull().sum())\n",
    "# Проверка того, что значение этажа > нового медианного:\n",
    "print('Кол-во строк где floor > floors_total:', len(data[data['floor'] > data['floors_total']]))\n",
    "# Замена кол-ва этажей на текущий этаж квартиры:\n",
    "for row in data:\n",
    "    data.loc[data['floors_total'] < data['floor'], 'floors_total'] = data.loc[data['floors_total'] < data['floor'], 'floor']"
   ]
  },
  {
   "cell_type": "code",
   "execution_count": 8,
   "metadata": {},
   "outputs": [
    {
     "data": {
      "text/plain": [
       "False    23600\n",
       "True        50\n",
       "Name: is_apartment, dtype: int64"
      ]
     },
     "execution_count": 8,
     "metadata": {},
     "output_type": "execute_result"
    }
   ],
   "source": [
    "# Пропуски в 'is_apartment' заменим на False. Скорее всего это поле оставили пустым по причине, что это не апартаменты.\n",
    "data['is_apartment'] = data['is_apartment'].fillna(False)\n",
    "# Проверка:\n",
    "data['is_apartment'].value_counts()"
   ]
  },
  {
   "cell_type": "code",
   "execution_count": 9,
   "metadata": {},
   "outputs": [
    {
     "data": {
      "text/plain": [
       "0"
      ]
     },
     "execution_count": 9,
     "metadata": {},
     "output_type": "execute_result"
    }
   ],
   "source": [
    "# Пропуски в 'ceiling_height' заменим на медианное значение по этажности зданий.\n",
    "median_ceiling_heigh = data.groupby('floors_total')['ceiling_height'].median()\n",
    "\n",
    "for floors in median_ceiling_heigh.index:\n",
    "    data.loc[data['floors_total'] == floors, 'ceiling_height'] = data.loc[\n",
    "             data['floors_total'] == floors, 'ceiling_height'].fillna(median_ceiling_heigh[floors])\n",
    "# Проверка:\n",
    "data['ceiling_height'].isnull().sum()\n",
    "# Осталось единственное 33-х этажное здание без значения высоты потолков.\n",
    "# Применим высоту потолков как у 34-х этажного.\n",
    "data.loc[data['floors_total'] == 33, 'ceiling_height'] = data.loc[data['floors_total'] == 34, 'ceiling_height'].median()\n",
    "data['ceiling_height'].isnull().sum()"
   ]
  },
  {
   "cell_type": "code",
   "execution_count": 10,
   "metadata": {},
   "outputs": [
    {
     "data": {
      "text/plain": [
       "0"
      ]
     },
     "execution_count": 10,
     "metadata": {},
     "output_type": "execute_result"
    }
   ],
   "source": [
    "# Пустые строки в 'days_exposition' говорят нам о том, что это обьявление еще не было снято с публикации.\n",
    "# Заменим такие пропуски маркером -1\n",
    "data['days_exposition'] = data['days_exposition'].fillna(-111)\n",
    "data['days_exposition'].isnull().sum()"
   ]
  },
  {
   "cell_type": "code",
   "execution_count": 11,
   "metadata": {},
   "outputs": [
    {
     "data": {
      "text/plain": [
       "0"
      ]
     },
     "execution_count": 11,
     "metadata": {},
     "output_type": "execute_result"
    }
   ],
   "source": [
    "# Пустые строки в 'airports_nearest' заменим на среднее значение по городу.\n",
    "mean_airports_nearest = data.groupby('locality_name')['airports_nearest'].mean()\n",
    "\n",
    "for town in mean_airports_nearest.index:\n",
    "    data.loc[data['locality_name'] == town, 'airports_nearest'] = data.loc[\n",
    "             data['locality_name'] == town, 'airports_nearest'].fillna(mean_airports_nearest[town])\n",
    "data['airports_nearest'].isnull().sum()\n",
    "# Оставшиеся пустые строки, скорее всего указывают нам на то,что в этих городах нет поблизости аэропорта\n",
    "# Пометим их маркером 500000\n",
    "data['airports_nearest'] = data['airports_nearest'].fillna(555555)\n",
    "data['airports_nearest'].isnull().sum()"
   ]
  },
  {
   "cell_type": "code",
   "execution_count": 12,
   "metadata": {},
   "outputs": [
    {
     "data": {
      "text/plain": [
       "0"
      ]
     },
     "execution_count": 12,
     "metadata": {},
     "output_type": "execute_result"
    }
   ],
   "source": [
    "# Пропуски в 'parks_around3000' заменим на 0 т.к скорее всего поле оставили пустым по причине отсутствия парка поблизости\n",
    "data['parks_around3000'] = data['parks_around3000'].fillna(0)\n",
    "# Проверка:\n",
    "data['parks_around3000'].isnull().sum()"
   ]
  },
  {
   "cell_type": "code",
   "execution_count": 13,
   "metadata": {},
   "outputs": [
    {
     "data": {
      "text/html": [
       "<div>\n",
       "<style scoped>\n",
       "    .dataframe tbody tr th:only-of-type {\n",
       "        vertical-align: middle;\n",
       "    }\n",
       "\n",
       "    .dataframe tbody tr th {\n",
       "        vertical-align: top;\n",
       "    }\n",
       "\n",
       "    .dataframe thead th {\n",
       "        text-align: right;\n",
       "    }\n",
       "</style>\n",
       "<table border=\"1\" class=\"dataframe\">\n",
       "  <thead>\n",
       "    <tr style=\"text-align: right;\">\n",
       "      <th></th>\n",
       "      <th>total_images</th>\n",
       "      <th>last_price</th>\n",
       "      <th>total_area</th>\n",
       "      <th>first_day_exposition</th>\n",
       "      <th>rooms</th>\n",
       "      <th>ceiling_height</th>\n",
       "      <th>floors_total</th>\n",
       "      <th>living_area</th>\n",
       "      <th>floor</th>\n",
       "      <th>is_apartment</th>\n",
       "      <th>...</th>\n",
       "      <th>kitchen_area</th>\n",
       "      <th>balcony</th>\n",
       "      <th>locality_name</th>\n",
       "      <th>airports_nearest</th>\n",
       "      <th>cityCenters_nearest</th>\n",
       "      <th>parks_around3000</th>\n",
       "      <th>parks_nearest</th>\n",
       "      <th>ponds_around3000</th>\n",
       "      <th>ponds_nearest</th>\n",
       "      <th>days_exposition</th>\n",
       "    </tr>\n",
       "  </thead>\n",
       "  <tbody>\n",
       "    <tr>\n",
       "      <th>0</th>\n",
       "      <td>20</td>\n",
       "      <td>13000000.0</td>\n",
       "      <td>108.00</td>\n",
       "      <td>2019-03-07T00:00:00</td>\n",
       "      <td>3</td>\n",
       "      <td>2.70</td>\n",
       "      <td>16.0</td>\n",
       "      <td>51.00</td>\n",
       "      <td>8</td>\n",
       "      <td>False</td>\n",
       "      <td>...</td>\n",
       "      <td>25.00</td>\n",
       "      <td>0.0</td>\n",
       "      <td>санкт-петербург</td>\n",
       "      <td>18863.0</td>\n",
       "      <td>16028.0</td>\n",
       "      <td>1.0</td>\n",
       "      <td>482.0</td>\n",
       "      <td>2.0</td>\n",
       "      <td>755.0</td>\n",
       "      <td>-111.0</td>\n",
       "    </tr>\n",
       "    <tr>\n",
       "      <th>1</th>\n",
       "      <td>7</td>\n",
       "      <td>3350000.0</td>\n",
       "      <td>40.40</td>\n",
       "      <td>2018-12-04T00:00:00</td>\n",
       "      <td>1</td>\n",
       "      <td>2.75</td>\n",
       "      <td>11.0</td>\n",
       "      <td>18.60</td>\n",
       "      <td>1</td>\n",
       "      <td>False</td>\n",
       "      <td>...</td>\n",
       "      <td>11.00</td>\n",
       "      <td>2.0</td>\n",
       "      <td>шушары</td>\n",
       "      <td>12817.0</td>\n",
       "      <td>18603.0</td>\n",
       "      <td>0.0</td>\n",
       "      <td>NaN</td>\n",
       "      <td>0.0</td>\n",
       "      <td>NaN</td>\n",
       "      <td>81.0</td>\n",
       "    </tr>\n",
       "    <tr>\n",
       "      <th>2</th>\n",
       "      <td>10</td>\n",
       "      <td>5196000.0</td>\n",
       "      <td>56.00</td>\n",
       "      <td>2015-08-20T00:00:00</td>\n",
       "      <td>2</td>\n",
       "      <td>2.55</td>\n",
       "      <td>5.0</td>\n",
       "      <td>34.30</td>\n",
       "      <td>4</td>\n",
       "      <td>False</td>\n",
       "      <td>...</td>\n",
       "      <td>8.30</td>\n",
       "      <td>0.0</td>\n",
       "      <td>санкт-петербург</td>\n",
       "      <td>21741.0</td>\n",
       "      <td>13933.0</td>\n",
       "      <td>1.0</td>\n",
       "      <td>90.0</td>\n",
       "      <td>2.0</td>\n",
       "      <td>574.0</td>\n",
       "      <td>558.0</td>\n",
       "    </tr>\n",
       "    <tr>\n",
       "      <th>3</th>\n",
       "      <td>0</td>\n",
       "      <td>64900000.0</td>\n",
       "      <td>159.00</td>\n",
       "      <td>2015-07-24T00:00:00</td>\n",
       "      <td>3</td>\n",
       "      <td>2.60</td>\n",
       "      <td>14.0</td>\n",
       "      <td>NaN</td>\n",
       "      <td>9</td>\n",
       "      <td>False</td>\n",
       "      <td>...</td>\n",
       "      <td>NaN</td>\n",
       "      <td>0.0</td>\n",
       "      <td>санкт-петербург</td>\n",
       "      <td>28098.0</td>\n",
       "      <td>6800.0</td>\n",
       "      <td>2.0</td>\n",
       "      <td>84.0</td>\n",
       "      <td>3.0</td>\n",
       "      <td>234.0</td>\n",
       "      <td>424.0</td>\n",
       "    </tr>\n",
       "    <tr>\n",
       "      <th>4</th>\n",
       "      <td>2</td>\n",
       "      <td>10000000.0</td>\n",
       "      <td>100.00</td>\n",
       "      <td>2018-06-19T00:00:00</td>\n",
       "      <td>2</td>\n",
       "      <td>3.03</td>\n",
       "      <td>14.0</td>\n",
       "      <td>32.00</td>\n",
       "      <td>13</td>\n",
       "      <td>False</td>\n",
       "      <td>...</td>\n",
       "      <td>41.00</td>\n",
       "      <td>0.0</td>\n",
       "      <td>санкт-петербург</td>\n",
       "      <td>31856.0</td>\n",
       "      <td>8098.0</td>\n",
       "      <td>2.0</td>\n",
       "      <td>112.0</td>\n",
       "      <td>1.0</td>\n",
       "      <td>48.0</td>\n",
       "      <td>121.0</td>\n",
       "    </tr>\n",
       "    <tr>\n",
       "      <th>5</th>\n",
       "      <td>10</td>\n",
       "      <td>2890000.0</td>\n",
       "      <td>30.40</td>\n",
       "      <td>2018-09-10T00:00:00</td>\n",
       "      <td>1</td>\n",
       "      <td>2.65</td>\n",
       "      <td>12.0</td>\n",
       "      <td>14.40</td>\n",
       "      <td>5</td>\n",
       "      <td>False</td>\n",
       "      <td>...</td>\n",
       "      <td>9.10</td>\n",
       "      <td>0.0</td>\n",
       "      <td>янино-1</td>\n",
       "      <td>555555.0</td>\n",
       "      <td>NaN</td>\n",
       "      <td>0.0</td>\n",
       "      <td>NaN</td>\n",
       "      <td>0.0</td>\n",
       "      <td>NaN</td>\n",
       "      <td>55.0</td>\n",
       "    </tr>\n",
       "    <tr>\n",
       "      <th>6</th>\n",
       "      <td>6</td>\n",
       "      <td>3700000.0</td>\n",
       "      <td>37.30</td>\n",
       "      <td>2017-11-02T00:00:00</td>\n",
       "      <td>1</td>\n",
       "      <td>2.66</td>\n",
       "      <td>26.0</td>\n",
       "      <td>10.60</td>\n",
       "      <td>6</td>\n",
       "      <td>False</td>\n",
       "      <td>...</td>\n",
       "      <td>14.40</td>\n",
       "      <td>1.0</td>\n",
       "      <td>парголово</td>\n",
       "      <td>52996.0</td>\n",
       "      <td>19143.0</td>\n",
       "      <td>0.0</td>\n",
       "      <td>NaN</td>\n",
       "      <td>0.0</td>\n",
       "      <td>NaN</td>\n",
       "      <td>155.0</td>\n",
       "    </tr>\n",
       "    <tr>\n",
       "      <th>7</th>\n",
       "      <td>5</td>\n",
       "      <td>7915000.0</td>\n",
       "      <td>71.60</td>\n",
       "      <td>2019-04-18T00:00:00</td>\n",
       "      <td>2</td>\n",
       "      <td>2.75</td>\n",
       "      <td>24.0</td>\n",
       "      <td>NaN</td>\n",
       "      <td>22</td>\n",
       "      <td>False</td>\n",
       "      <td>...</td>\n",
       "      <td>18.90</td>\n",
       "      <td>2.0</td>\n",
       "      <td>санкт-петербург</td>\n",
       "      <td>23982.0</td>\n",
       "      <td>11634.0</td>\n",
       "      <td>0.0</td>\n",
       "      <td>NaN</td>\n",
       "      <td>0.0</td>\n",
       "      <td>NaN</td>\n",
       "      <td>-111.0</td>\n",
       "    </tr>\n",
       "    <tr>\n",
       "      <th>8</th>\n",
       "      <td>20</td>\n",
       "      <td>2900000.0</td>\n",
       "      <td>33.16</td>\n",
       "      <td>2018-05-23T00:00:00</td>\n",
       "      <td>1</td>\n",
       "      <td>2.70</td>\n",
       "      <td>27.0</td>\n",
       "      <td>15.43</td>\n",
       "      <td>26</td>\n",
       "      <td>False</td>\n",
       "      <td>...</td>\n",
       "      <td>8.81</td>\n",
       "      <td>0.0</td>\n",
       "      <td>мурино</td>\n",
       "      <td>51553.0</td>\n",
       "      <td>NaN</td>\n",
       "      <td>0.0</td>\n",
       "      <td>NaN</td>\n",
       "      <td>0.0</td>\n",
       "      <td>NaN</td>\n",
       "      <td>189.0</td>\n",
       "    </tr>\n",
       "    <tr>\n",
       "      <th>9</th>\n",
       "      <td>18</td>\n",
       "      <td>5400000.0</td>\n",
       "      <td>61.00</td>\n",
       "      <td>2017-02-26T00:00:00</td>\n",
       "      <td>3</td>\n",
       "      <td>2.50</td>\n",
       "      <td>9.0</td>\n",
       "      <td>43.60</td>\n",
       "      <td>7</td>\n",
       "      <td>False</td>\n",
       "      <td>...</td>\n",
       "      <td>6.50</td>\n",
       "      <td>2.0</td>\n",
       "      <td>санкт-петербург</td>\n",
       "      <td>50898.0</td>\n",
       "      <td>15008.0</td>\n",
       "      <td>0.0</td>\n",
       "      <td>NaN</td>\n",
       "      <td>0.0</td>\n",
       "      <td>NaN</td>\n",
       "      <td>289.0</td>\n",
       "    </tr>\n",
       "  </tbody>\n",
       "</table>\n",
       "<p>10 rows × 22 columns</p>\n",
       "</div>"
      ],
      "text/plain": [
       "   total_images  last_price  total_area first_day_exposition  rooms  \\\n",
       "0            20  13000000.0      108.00  2019-03-07T00:00:00      3   \n",
       "1             7   3350000.0       40.40  2018-12-04T00:00:00      1   \n",
       "2            10   5196000.0       56.00  2015-08-20T00:00:00      2   \n",
       "3             0  64900000.0      159.00  2015-07-24T00:00:00      3   \n",
       "4             2  10000000.0      100.00  2018-06-19T00:00:00      2   \n",
       "5            10   2890000.0       30.40  2018-09-10T00:00:00      1   \n",
       "6             6   3700000.0       37.30  2017-11-02T00:00:00      1   \n",
       "7             5   7915000.0       71.60  2019-04-18T00:00:00      2   \n",
       "8            20   2900000.0       33.16  2018-05-23T00:00:00      1   \n",
       "9            18   5400000.0       61.00  2017-02-26T00:00:00      3   \n",
       "\n",
       "   ceiling_height  floors_total  living_area  floor  is_apartment  ...  \\\n",
       "0            2.70          16.0        51.00      8         False  ...   \n",
       "1            2.75          11.0        18.60      1         False  ...   \n",
       "2            2.55           5.0        34.30      4         False  ...   \n",
       "3            2.60          14.0          NaN      9         False  ...   \n",
       "4            3.03          14.0        32.00     13         False  ...   \n",
       "5            2.65          12.0        14.40      5         False  ...   \n",
       "6            2.66          26.0        10.60      6         False  ...   \n",
       "7            2.75          24.0          NaN     22         False  ...   \n",
       "8            2.70          27.0        15.43     26         False  ...   \n",
       "9            2.50           9.0        43.60      7         False  ...   \n",
       "\n",
       "   kitchen_area  balcony    locality_name  airports_nearest  \\\n",
       "0         25.00      0.0  санкт-петербург           18863.0   \n",
       "1         11.00      2.0           шушары           12817.0   \n",
       "2          8.30      0.0  санкт-петербург           21741.0   \n",
       "3           NaN      0.0  санкт-петербург           28098.0   \n",
       "4         41.00      0.0  санкт-петербург           31856.0   \n",
       "5          9.10      0.0          янино-1          555555.0   \n",
       "6         14.40      1.0        парголово           52996.0   \n",
       "7         18.90      2.0  санкт-петербург           23982.0   \n",
       "8          8.81      0.0           мурино           51553.0   \n",
       "9          6.50      2.0  санкт-петербург           50898.0   \n",
       "\n",
       "  cityCenters_nearest  parks_around3000  parks_nearest  ponds_around3000  \\\n",
       "0             16028.0               1.0          482.0               2.0   \n",
       "1             18603.0               0.0            NaN               0.0   \n",
       "2             13933.0               1.0           90.0               2.0   \n",
       "3              6800.0               2.0           84.0               3.0   \n",
       "4              8098.0               2.0          112.0               1.0   \n",
       "5                 NaN               0.0            NaN               0.0   \n",
       "6             19143.0               0.0            NaN               0.0   \n",
       "7             11634.0               0.0            NaN               0.0   \n",
       "8                 NaN               0.0            NaN               0.0   \n",
       "9             15008.0               0.0            NaN               0.0   \n",
       "\n",
       "   ponds_nearest  days_exposition  \n",
       "0          755.0           -111.0  \n",
       "1            NaN             81.0  \n",
       "2          574.0            558.0  \n",
       "3          234.0            424.0  \n",
       "4           48.0            121.0  \n",
       "5            NaN             55.0  \n",
       "6            NaN            155.0  \n",
       "7            NaN           -111.0  \n",
       "8            NaN            189.0  \n",
       "9            NaN            289.0  \n",
       "\n",
       "[10 rows x 22 columns]"
      ]
     },
     "execution_count": 13,
     "metadata": {},
     "output_type": "execute_result"
    }
   ],
   "source": [
    "# Пропуски в 'ponds_around3000' заменим на 0 по той же причине\n",
    "data['ponds_around3000'] = data['ponds_around3000'].fillna(0)\n",
    "# Проверка:\n",
    "data['parks_around3000'].isnull().sum()\n",
    "data.head(10)"
   ]
  },
  {
   "cell_type": "code",
   "execution_count": 14,
   "metadata": {},
   "outputs": [
    {
     "data": {
      "text/html": [
       "<div>\n",
       "<style scoped>\n",
       "    .dataframe tbody tr th:only-of-type {\n",
       "        vertical-align: middle;\n",
       "    }\n",
       "\n",
       "    .dataframe tbody tr th {\n",
       "        vertical-align: top;\n",
       "    }\n",
       "\n",
       "    .dataframe thead th {\n",
       "        text-align: right;\n",
       "    }\n",
       "</style>\n",
       "<table border=\"1\" class=\"dataframe\">\n",
       "  <thead>\n",
       "    <tr style=\"text-align: right;\">\n",
       "      <th></th>\n",
       "      <th>total_images</th>\n",
       "      <th>last_price</th>\n",
       "      <th>total_area</th>\n",
       "      <th>first_day_exposition</th>\n",
       "      <th>rooms</th>\n",
       "      <th>ceiling_height</th>\n",
       "      <th>floors_total</th>\n",
       "      <th>living_area</th>\n",
       "      <th>floor</th>\n",
       "      <th>is_apartment</th>\n",
       "      <th>...</th>\n",
       "      <th>kitchen_area</th>\n",
       "      <th>balcony</th>\n",
       "      <th>locality_name</th>\n",
       "      <th>airports_nearest</th>\n",
       "      <th>cityCenters_nearest</th>\n",
       "      <th>parks_around3000</th>\n",
       "      <th>parks_nearest</th>\n",
       "      <th>ponds_around3000</th>\n",
       "      <th>ponds_nearest</th>\n",
       "      <th>days_exposition</th>\n",
       "    </tr>\n",
       "  </thead>\n",
       "  <tbody>\n",
       "    <tr>\n",
       "      <th>1590</th>\n",
       "      <td>3</td>\n",
       "      <td>7500000.0</td>\n",
       "      <td>70.0</td>\n",
       "      <td>2017-07-11T00:00:00</td>\n",
       "      <td>2</td>\n",
       "      <td>2.70</td>\n",
       "      <td>18.0</td>\n",
       "      <td>37.0</td>\n",
       "      <td>13</td>\n",
       "      <td>False</td>\n",
       "      <td>...</td>\n",
       "      <td>10.0</td>\n",
       "      <td>0.0</td>\n",
       "      <td>санкт-петербург</td>\n",
       "      <td>14878.0</td>\n",
       "      <td>9791.0</td>\n",
       "      <td>0.0</td>\n",
       "      <td>3064.0</td>\n",
       "      <td>1.0</td>\n",
       "      <td>264.0</td>\n",
       "      <td>4.0</td>\n",
       "    </tr>\n",
       "    <tr>\n",
       "      <th>10959</th>\n",
       "      <td>9</td>\n",
       "      <td>3000000.0</td>\n",
       "      <td>31.1</td>\n",
       "      <td>2017-03-21T00:00:00</td>\n",
       "      <td>1</td>\n",
       "      <td>2.55</td>\n",
       "      <td>5.0</td>\n",
       "      <td>17.7</td>\n",
       "      <td>2</td>\n",
       "      <td>False</td>\n",
       "      <td>...</td>\n",
       "      <td>5.5</td>\n",
       "      <td>0.0</td>\n",
       "      <td>санкт-петербург</td>\n",
       "      <td>14821.0</td>\n",
       "      <td>9734.0</td>\n",
       "      <td>0.0</td>\n",
       "      <td>3190.0</td>\n",
       "      <td>1.0</td>\n",
       "      <td>431.0</td>\n",
       "      <td>234.0</td>\n",
       "    </tr>\n",
       "    <tr>\n",
       "      <th>19208</th>\n",
       "      <td>17</td>\n",
       "      <td>14950000.0</td>\n",
       "      <td>187.0</td>\n",
       "      <td>2017-10-12T00:00:00</td>\n",
       "      <td>5</td>\n",
       "      <td>3.00</td>\n",
       "      <td>2.0</td>\n",
       "      <td>80.0</td>\n",
       "      <td>2</td>\n",
       "      <td>False</td>\n",
       "      <td>...</td>\n",
       "      <td>17.0</td>\n",
       "      <td>1.0</td>\n",
       "      <td>санкт-петербург</td>\n",
       "      <td>36805.0</td>\n",
       "      <td>8656.0</td>\n",
       "      <td>0.0</td>\n",
       "      <td>3013.0</td>\n",
       "      <td>3.0</td>\n",
       "      <td>537.0</td>\n",
       "      <td>49.0</td>\n",
       "    </tr>\n",
       "    <tr>\n",
       "      <th>19430</th>\n",
       "      <td>9</td>\n",
       "      <td>3900000.0</td>\n",
       "      <td>30.5</td>\n",
       "      <td>2018-02-22T00:00:00</td>\n",
       "      <td>1</td>\n",
       "      <td>2.60</td>\n",
       "      <td>5.0</td>\n",
       "      <td>16.5</td>\n",
       "      <td>1</td>\n",
       "      <td>False</td>\n",
       "      <td>...</td>\n",
       "      <td>5.5</td>\n",
       "      <td>0.0</td>\n",
       "      <td>санкт-петербург</td>\n",
       "      <td>14821.0</td>\n",
       "      <td>9734.0</td>\n",
       "      <td>0.0</td>\n",
       "      <td>3190.0</td>\n",
       "      <td>1.0</td>\n",
       "      <td>431.0</td>\n",
       "      <td>176.0</td>\n",
       "    </tr>\n",
       "  </tbody>\n",
       "</table>\n",
       "<p>4 rows × 22 columns</p>\n",
       "</div>"
      ],
      "text/plain": [
       "       total_images  last_price  total_area first_day_exposition  rooms  \\\n",
       "1590              3   7500000.0        70.0  2017-07-11T00:00:00      2   \n",
       "10959             9   3000000.0        31.1  2017-03-21T00:00:00      1   \n",
       "19208            17  14950000.0       187.0  2017-10-12T00:00:00      5   \n",
       "19430             9   3900000.0        30.5  2018-02-22T00:00:00      1   \n",
       "\n",
       "       ceiling_height  floors_total  living_area  floor  is_apartment  ...  \\\n",
       "1590             2.70          18.0         37.0     13         False  ...   \n",
       "10959            2.55           5.0         17.7      2         False  ...   \n",
       "19208            3.00           2.0         80.0      2         False  ...   \n",
       "19430            2.60           5.0         16.5      1         False  ...   \n",
       "\n",
       "       kitchen_area  balcony    locality_name  airports_nearest  \\\n",
       "1590           10.0      0.0  санкт-петербург           14878.0   \n",
       "10959           5.5      0.0  санкт-петербург           14821.0   \n",
       "19208          17.0      1.0  санкт-петербург           36805.0   \n",
       "19430           5.5      0.0  санкт-петербург           14821.0   \n",
       "\n",
       "      cityCenters_nearest  parks_around3000  parks_nearest  ponds_around3000  \\\n",
       "1590               9791.0               0.0         3064.0               1.0   \n",
       "10959              9734.0               0.0         3190.0               1.0   \n",
       "19208              8656.0               0.0         3013.0               3.0   \n",
       "19430              9734.0               0.0         3190.0               1.0   \n",
       "\n",
       "       ponds_nearest  days_exposition  \n",
       "1590           264.0              4.0  \n",
       "10959          431.0            234.0  \n",
       "19208          537.0             49.0  \n",
       "19430          431.0            176.0  \n",
       "\n",
       "[4 rows x 22 columns]"
      ]
     },
     "execution_count": 14,
     "metadata": {},
     "output_type": "execute_result"
    }
   ],
   "source": [
    "# Пропуски в 'parks_nearest' заполним средним значением по городу если 'parks_around3000' != 0\n",
    "mean_parks_nearest = data.groupby('locality_name')['parks_nearest'].mean()\n",
    "\n",
    "for town in mean_parks_nearest.index:\n",
    "        data.loc[(data['locality_name'] == town) & (data['parks_around3000'] != 0), 'parks_nearest'] = data.loc[\n",
    "                 (data['locality_name'] == town) & (data['parks_around3000'] != 0), 'parks_nearest'].fillna(mean_parks_nearest[town])\n",
    "data['parks_nearest'].isnull().sum()\n",
    "# Оставшиеся пустые строки, скорее всего указывают нам на то,что у этих квартир нет поблизости парка\n",
    "# Замени значение на 0\n",
    "data['parks_nearest'] = data['parks_nearest'].fillna(0)\n",
    "data['parks_nearest'].isnull().sum()\n",
    "# Проверка соответствия нулевых значений\n",
    "data[(data['parks_around3000'] == 0) & (data['parks_nearest'] != 0)]\n",
    "# Парки и в правду дальше 3000 метров. Оставим как есть."
   ]
  },
  {
   "cell_type": "code",
   "execution_count": 15,
   "metadata": {},
   "outputs": [
    {
     "data": {
      "text/plain": [
       "0"
      ]
     },
     "execution_count": 15,
     "metadata": {},
     "output_type": "execute_result"
    }
   ],
   "source": [
    "# Пропуски в 'ponds_nearest' заполним средним значением по городу если 'ponds_around3000' != 0\n",
    "# по аналогии с 'parks_nearest'\n",
    "mean_ponds_nearest = data.groupby('locality_name')['ponds_nearest'].mean()\n",
    "\n",
    "for town in mean_ponds_nearest.index:\n",
    "        data.loc[(data['locality_name'] == town) & (data['ponds_around3000'] != 0), 'ponds_nearest'] = data.loc[\n",
    "                 (data['locality_name'] == town) & (data['ponds_around3000'] != 0), 'ponds_nearest'].fillna(mean_ponds_nearest[town])\n",
    "data['ponds_nearest'] = data['ponds_nearest'].fillna(0)\n",
    "data['ponds_nearest'].isnull().sum()"
   ]
  },
  {
   "cell_type": "code",
   "execution_count": 16,
   "metadata": {},
   "outputs": [
    {
     "data": {
      "text/plain": [
       "0"
      ]
     },
     "execution_count": 16,
     "metadata": {},
     "output_type": "execute_result"
    }
   ],
   "source": [
    "# Для студий примим 'kitchen_area' = 0\n",
    "data.loc[data['studio'] == True, 'kitchen_area'] = 0\n",
    "# Отношение кухни к общей площади определим как коэффициент ratio_kitchen\n",
    "data['ratio_kitchen'] = data['kitchen_area'] / data['total_area']\n",
    "# Определим средний коэффициент в группе квартир с одинаковым кол-вом комнат\n",
    "grouped_kitchen = data.groupby('rooms')['ratio_kitchen'].mean()\n",
    "# Для пропущенных значений площади кухни рассчитаем ее, умножив средний коэффициент на общую площадь квартиры\n",
    "for rooms in grouped_kitchen.index:\n",
    "    data.loc[(data['rooms'] == rooms) & (data['kitchen_area'].isnull()), 'kitchen_area'] = data.loc[\n",
    "             (data['rooms'] == rooms) & (data['kitchen_area'].isnull()), 'total_area'] * grouped_kitchen.loc[rooms]\n",
    "data['kitchen_area'].isnull().sum()"
   ]
  },
  {
   "cell_type": "code",
   "execution_count": 17,
   "metadata": {},
   "outputs": [
    {
     "data": {
      "text/plain": [
       "0"
      ]
     },
     "execution_count": 17,
     "metadata": {},
     "output_type": "execute_result"
    }
   ],
   "source": [
    "#Пропуски в living_area можно заполнить разцицей общей площади и площади кухни.\n",
    "data['living_area'] = data['living_area'].fillna(data['total_area'] - data['kitchen_area'])\n",
    "data['living_area'].isnull().sum()"
   ]
  },
  {
   "cell_type": "code",
   "execution_count": 18,
   "metadata": {},
   "outputs": [
    {
     "data": {
      "text/plain": [
       "0"
      ]
     },
     "execution_count": 18,
     "metadata": {},
     "output_type": "execute_result"
    }
   ],
   "source": [
    "# Пропуски в cityCenters_nearest пометим большим маркером т.к скоре евсего эти квартиры относятся к пригороду или области\n",
    "# и далеки от центра города\n",
    "data['cityCenters_nearest'] = data['cityCenters_nearest'].fillna(444444)\n",
    "data['cityCenters_nearest'].isnull().sum()"
   ]
  },
  {
   "cell_type": "code",
   "execution_count": 19,
   "metadata": {},
   "outputs": [],
   "source": [
    "# заменим тип данных по дате публикации со строчного на datetime\n",
    "data['first_day_exposition'] = pd.to_datetime(data['first_day_exposition'], format='%Y-%m-%dT%H:%M:%S')\n",
    "# В столбцах 'last_price', 'floors_total', 'balcony', 'airports_nearest', 'cityCenters_nearest', 'parks_around3000',\n",
    "# 'parks_nearest', 'ponds_around3000', 'ponds_nearest', 'days_exposition' меняем тип данных с float на int.\n",
    "# Нужен целочисленный формат а не копейки или сантиметры.\n",
    "data['last_price'] = data['last_price'].astype(int)\n",
    "data['floors_total'] = data['floors_total'].astype(int)\n",
    "data['balcony'] = data['balcony'].astype(int)\n",
    "data['airports_nearest'] = data['airports_nearest'].astype(int)\n",
    "data['cityCenters_nearest'] = data['cityCenters_nearest'].astype(int)\n",
    "data['parks_around3000'] = data['parks_around3000'].astype(int)\n",
    "data['parks_nearest'] = data['parks_nearest'].astype(int)\n",
    "data['ponds_around3000'] = data['ponds_around3000'].astype(int)\n",
    "data['ponds_nearest'] = data['ponds_nearest'].astype(int)\n",
    "data['days_exposition'] = data['days_exposition'].astype(int)\n",
    "# Значения в 'ceiling_height' можно округлисть до 1 знака после запятой.\n",
    "data['ceiling_height'] = data['ceiling_height'].round(1)"
   ]
  },
  {
   "cell_type": "markdown",
   "metadata": {},
   "source": [
    "## Расчёты и добавление результатов в таблицу"
   ]
  },
  {
   "cell_type": "code",
   "execution_count": 20,
   "metadata": {},
   "outputs": [
    {
     "data": {
      "text/html": [
       "<div>\n",
       "<style scoped>\n",
       "    .dataframe tbody tr th:only-of-type {\n",
       "        vertical-align: middle;\n",
       "    }\n",
       "\n",
       "    .dataframe tbody tr th {\n",
       "        vertical-align: top;\n",
       "    }\n",
       "\n",
       "    .dataframe thead th {\n",
       "        text-align: right;\n",
       "    }\n",
       "</style>\n",
       "<table border=\"1\" class=\"dataframe\">\n",
       "  <thead>\n",
       "    <tr style=\"text-align: right;\">\n",
       "      <th></th>\n",
       "      <th>total_images</th>\n",
       "      <th>last_price</th>\n",
       "      <th>total_area</th>\n",
       "      <th>first_day_exposition</th>\n",
       "      <th>rooms</th>\n",
       "      <th>ceiling_height</th>\n",
       "      <th>floors_total</th>\n",
       "      <th>living_area</th>\n",
       "      <th>floor</th>\n",
       "      <th>is_apartment</th>\n",
       "      <th>...</th>\n",
       "      <th>ponds_nearest</th>\n",
       "      <th>days_exposition</th>\n",
       "      <th>ratio_kitchen</th>\n",
       "      <th>price_m2</th>\n",
       "      <th>weekday</th>\n",
       "      <th>month</th>\n",
       "      <th>year</th>\n",
       "      <th>floor_category</th>\n",
       "      <th>living_area_ratio</th>\n",
       "      <th>kitchen_area_ratio</th>\n",
       "    </tr>\n",
       "  </thead>\n",
       "  <tbody>\n",
       "    <tr>\n",
       "      <th>0</th>\n",
       "      <td>20</td>\n",
       "      <td>13000000</td>\n",
       "      <td>108.00</td>\n",
       "      <td>2019-03-07</td>\n",
       "      <td>3</td>\n",
       "      <td>2.7</td>\n",
       "      <td>16</td>\n",
       "      <td>51.000000</td>\n",
       "      <td>8</td>\n",
       "      <td>False</td>\n",
       "      <td>...</td>\n",
       "      <td>755</td>\n",
       "      <td>-111</td>\n",
       "      <td>0.231481</td>\n",
       "      <td>120370</td>\n",
       "      <td>3</td>\n",
       "      <td>3</td>\n",
       "      <td>2019</td>\n",
       "      <td>другой</td>\n",
       "      <td>0.472222</td>\n",
       "      <td>0.231481</td>\n",
       "    </tr>\n",
       "    <tr>\n",
       "      <th>1</th>\n",
       "      <td>7</td>\n",
       "      <td>3350000</td>\n",
       "      <td>40.40</td>\n",
       "      <td>2018-12-04</td>\n",
       "      <td>1</td>\n",
       "      <td>2.8</td>\n",
       "      <td>11</td>\n",
       "      <td>18.600000</td>\n",
       "      <td>1</td>\n",
       "      <td>False</td>\n",
       "      <td>...</td>\n",
       "      <td>0</td>\n",
       "      <td>81</td>\n",
       "      <td>0.272277</td>\n",
       "      <td>82920</td>\n",
       "      <td>1</td>\n",
       "      <td>12</td>\n",
       "      <td>2018</td>\n",
       "      <td>первый</td>\n",
       "      <td>0.460396</td>\n",
       "      <td>0.272277</td>\n",
       "    </tr>\n",
       "    <tr>\n",
       "      <th>2</th>\n",
       "      <td>10</td>\n",
       "      <td>5196000</td>\n",
       "      <td>56.00</td>\n",
       "      <td>2015-08-20</td>\n",
       "      <td>2</td>\n",
       "      <td>2.6</td>\n",
       "      <td>5</td>\n",
       "      <td>34.300000</td>\n",
       "      <td>4</td>\n",
       "      <td>False</td>\n",
       "      <td>...</td>\n",
       "      <td>574</td>\n",
       "      <td>558</td>\n",
       "      <td>0.148214</td>\n",
       "      <td>92785</td>\n",
       "      <td>3</td>\n",
       "      <td>8</td>\n",
       "      <td>2015</td>\n",
       "      <td>другой</td>\n",
       "      <td>0.612500</td>\n",
       "      <td>0.148214</td>\n",
       "    </tr>\n",
       "    <tr>\n",
       "      <th>3</th>\n",
       "      <td>0</td>\n",
       "      <td>64900000</td>\n",
       "      <td>159.00</td>\n",
       "      <td>2015-07-24</td>\n",
       "      <td>3</td>\n",
       "      <td>2.6</td>\n",
       "      <td>14</td>\n",
       "      <td>136.593117</td>\n",
       "      <td>9</td>\n",
       "      <td>False</td>\n",
       "      <td>...</td>\n",
       "      <td>234</td>\n",
       "      <td>424</td>\n",
       "      <td>NaN</td>\n",
       "      <td>408176</td>\n",
       "      <td>4</td>\n",
       "      <td>7</td>\n",
       "      <td>2015</td>\n",
       "      <td>другой</td>\n",
       "      <td>0.859076</td>\n",
       "      <td>0.140924</td>\n",
       "    </tr>\n",
       "    <tr>\n",
       "      <th>4</th>\n",
       "      <td>2</td>\n",
       "      <td>10000000</td>\n",
       "      <td>100.00</td>\n",
       "      <td>2018-06-19</td>\n",
       "      <td>2</td>\n",
       "      <td>3.0</td>\n",
       "      <td>14</td>\n",
       "      <td>32.000000</td>\n",
       "      <td>13</td>\n",
       "      <td>False</td>\n",
       "      <td>...</td>\n",
       "      <td>48</td>\n",
       "      <td>121</td>\n",
       "      <td>0.410000</td>\n",
       "      <td>100000</td>\n",
       "      <td>1</td>\n",
       "      <td>6</td>\n",
       "      <td>2018</td>\n",
       "      <td>другой</td>\n",
       "      <td>0.320000</td>\n",
       "      <td>0.410000</td>\n",
       "    </tr>\n",
       "    <tr>\n",
       "      <th>5</th>\n",
       "      <td>10</td>\n",
       "      <td>2890000</td>\n",
       "      <td>30.40</td>\n",
       "      <td>2018-09-10</td>\n",
       "      <td>1</td>\n",
       "      <td>2.6</td>\n",
       "      <td>12</td>\n",
       "      <td>14.400000</td>\n",
       "      <td>5</td>\n",
       "      <td>False</td>\n",
       "      <td>...</td>\n",
       "      <td>0</td>\n",
       "      <td>55</td>\n",
       "      <td>0.299342</td>\n",
       "      <td>95065</td>\n",
       "      <td>0</td>\n",
       "      <td>9</td>\n",
       "      <td>2018</td>\n",
       "      <td>другой</td>\n",
       "      <td>0.473684</td>\n",
       "      <td>0.299342</td>\n",
       "    </tr>\n",
       "    <tr>\n",
       "      <th>6</th>\n",
       "      <td>6</td>\n",
       "      <td>3700000</td>\n",
       "      <td>37.30</td>\n",
       "      <td>2017-11-02</td>\n",
       "      <td>1</td>\n",
       "      <td>2.7</td>\n",
       "      <td>26</td>\n",
       "      <td>10.600000</td>\n",
       "      <td>6</td>\n",
       "      <td>False</td>\n",
       "      <td>...</td>\n",
       "      <td>0</td>\n",
       "      <td>155</td>\n",
       "      <td>0.386059</td>\n",
       "      <td>99195</td>\n",
       "      <td>3</td>\n",
       "      <td>11</td>\n",
       "      <td>2017</td>\n",
       "      <td>другой</td>\n",
       "      <td>0.284182</td>\n",
       "      <td>0.386059</td>\n",
       "    </tr>\n",
       "    <tr>\n",
       "      <th>7</th>\n",
       "      <td>5</td>\n",
       "      <td>7915000</td>\n",
       "      <td>71.60</td>\n",
       "      <td>2019-04-18</td>\n",
       "      <td>2</td>\n",
       "      <td>2.8</td>\n",
       "      <td>24</td>\n",
       "      <td>52.700000</td>\n",
       "      <td>22</td>\n",
       "      <td>False</td>\n",
       "      <td>...</td>\n",
       "      <td>0</td>\n",
       "      <td>-111</td>\n",
       "      <td>0.263966</td>\n",
       "      <td>110544</td>\n",
       "      <td>3</td>\n",
       "      <td>4</td>\n",
       "      <td>2019</td>\n",
       "      <td>другой</td>\n",
       "      <td>0.736034</td>\n",
       "      <td>0.263966</td>\n",
       "    </tr>\n",
       "    <tr>\n",
       "      <th>8</th>\n",
       "      <td>20</td>\n",
       "      <td>2900000</td>\n",
       "      <td>33.16</td>\n",
       "      <td>2018-05-23</td>\n",
       "      <td>1</td>\n",
       "      <td>2.7</td>\n",
       "      <td>27</td>\n",
       "      <td>15.430000</td>\n",
       "      <td>26</td>\n",
       "      <td>False</td>\n",
       "      <td>...</td>\n",
       "      <td>0</td>\n",
       "      <td>189</td>\n",
       "      <td>0.265682</td>\n",
       "      <td>87454</td>\n",
       "      <td>2</td>\n",
       "      <td>5</td>\n",
       "      <td>2018</td>\n",
       "      <td>другой</td>\n",
       "      <td>0.465320</td>\n",
       "      <td>0.265682</td>\n",
       "    </tr>\n",
       "    <tr>\n",
       "      <th>9</th>\n",
       "      <td>18</td>\n",
       "      <td>5400000</td>\n",
       "      <td>61.00</td>\n",
       "      <td>2017-02-26</td>\n",
       "      <td>3</td>\n",
       "      <td>2.5</td>\n",
       "      <td>9</td>\n",
       "      <td>43.600000</td>\n",
       "      <td>7</td>\n",
       "      <td>False</td>\n",
       "      <td>...</td>\n",
       "      <td>0</td>\n",
       "      <td>289</td>\n",
       "      <td>0.106557</td>\n",
       "      <td>88524</td>\n",
       "      <td>6</td>\n",
       "      <td>2</td>\n",
       "      <td>2017</td>\n",
       "      <td>другой</td>\n",
       "      <td>0.714754</td>\n",
       "      <td>0.106557</td>\n",
       "    </tr>\n",
       "  </tbody>\n",
       "</table>\n",
       "<p>10 rows × 30 columns</p>\n",
       "</div>"
      ],
      "text/plain": [
       "   total_images  last_price  total_area first_day_exposition  rooms  \\\n",
       "0            20    13000000      108.00           2019-03-07      3   \n",
       "1             7     3350000       40.40           2018-12-04      1   \n",
       "2            10     5196000       56.00           2015-08-20      2   \n",
       "3             0    64900000      159.00           2015-07-24      3   \n",
       "4             2    10000000      100.00           2018-06-19      2   \n",
       "5            10     2890000       30.40           2018-09-10      1   \n",
       "6             6     3700000       37.30           2017-11-02      1   \n",
       "7             5     7915000       71.60           2019-04-18      2   \n",
       "8            20     2900000       33.16           2018-05-23      1   \n",
       "9            18     5400000       61.00           2017-02-26      3   \n",
       "\n",
       "   ceiling_height  floors_total  living_area  floor  is_apartment  ...  \\\n",
       "0             2.7            16    51.000000      8         False  ...   \n",
       "1             2.8            11    18.600000      1         False  ...   \n",
       "2             2.6             5    34.300000      4         False  ...   \n",
       "3             2.6            14   136.593117      9         False  ...   \n",
       "4             3.0            14    32.000000     13         False  ...   \n",
       "5             2.6            12    14.400000      5         False  ...   \n",
       "6             2.7            26    10.600000      6         False  ...   \n",
       "7             2.8            24    52.700000     22         False  ...   \n",
       "8             2.7            27    15.430000     26         False  ...   \n",
       "9             2.5             9    43.600000      7         False  ...   \n",
       "\n",
       "   ponds_nearest  days_exposition  ratio_kitchen  price_m2 weekday  month  \\\n",
       "0            755             -111       0.231481    120370       3      3   \n",
       "1              0               81       0.272277     82920       1     12   \n",
       "2            574              558       0.148214     92785       3      8   \n",
       "3            234              424            NaN    408176       4      7   \n",
       "4             48              121       0.410000    100000       1      6   \n",
       "5              0               55       0.299342     95065       0      9   \n",
       "6              0              155       0.386059     99195       3     11   \n",
       "7              0             -111       0.263966    110544       3      4   \n",
       "8              0              189       0.265682     87454       2      5   \n",
       "9              0              289       0.106557     88524       6      2   \n",
       "\n",
       "   year  floor_category  living_area_ratio  kitchen_area_ratio  \n",
       "0  2019          другой           0.472222            0.231481  \n",
       "1  2018          первый           0.460396            0.272277  \n",
       "2  2015          другой           0.612500            0.148214  \n",
       "3  2015          другой           0.859076            0.140924  \n",
       "4  2018          другой           0.320000            0.410000  \n",
       "5  2018          другой           0.473684            0.299342  \n",
       "6  2017          другой           0.284182            0.386059  \n",
       "7  2019          другой           0.736034            0.263966  \n",
       "8  2018          другой           0.465320            0.265682  \n",
       "9  2017          другой           0.714754            0.106557  \n",
       "\n",
       "[10 rows x 30 columns]"
      ]
     },
     "execution_count": 20,
     "metadata": {},
     "output_type": "execute_result"
    }
   ],
   "source": [
    "# Расчет цены квадратного метра\n",
    "data['price_m2'] = data['last_price'] / data['total_area']\n",
    "data['price_m2'] = data['price_m2'].astype('int')\n",
    "# Добавляем в таблицу день недели, месяц и год публикации\n",
    "data['weekday'] = data['first_day_exposition'].dt.weekday\n",
    "data['month'] = data['first_day_exposition'].dt.month\n",
    "data['year'] = data['first_day_exposition'].dt.year\n",
    "# Добавляем категоризацию по этажам\n",
    "data.loc[data['floor'] == 1, 'floor_category'] = 'первый'\n",
    "data.loc[data['floor'] == data['floors_total'], 'floor_category'] = 'последний'\n",
    "data.loc[data['floor_category'].isna(), 'floor_category'] = 'другой'\n",
    "# Cоотношение жилой и общей площади, а также отношение площади кухни к общей\n",
    "data['living_area_ratio'] = data['living_area'] / data['total_area']\n",
    "data['kitchen_area_ratio'] = data['kitchen_area'] / data['total_area']\n",
    "\n",
    "data.head(10)"
   ]
  },
  {
   "cell_type": "markdown",
   "metadata": {},
   "source": [
    "## Исследовательский анализ данных"
   ]
  },
  {
   "cell_type": "code",
   "execution_count": 21,
   "metadata": {},
   "outputs": [
    {
     "data": {
      "text/html": [
       "<div>\n",
       "<style scoped>\n",
       "    .dataframe tbody tr th:only-of-type {\n",
       "        vertical-align: middle;\n",
       "    }\n",
       "\n",
       "    .dataframe tbody tr th {\n",
       "        vertical-align: top;\n",
       "    }\n",
       "\n",
       "    .dataframe thead th {\n",
       "        text-align: right;\n",
       "    }\n",
       "</style>\n",
       "<table border=\"1\" class=\"dataframe\">\n",
       "  <thead>\n",
       "    <tr style=\"text-align: right;\">\n",
       "      <th></th>\n",
       "      <th>total_area</th>\n",
       "      <th>last_price</th>\n",
       "      <th>rooms</th>\n",
       "      <th>ceiling_height</th>\n",
       "    </tr>\n",
       "  </thead>\n",
       "  <tbody>\n",
       "    <tr>\n",
       "      <th>count</th>\n",
       "      <td>23650.000000</td>\n",
       "      <td>2.365000e+04</td>\n",
       "      <td>23650.000000</td>\n",
       "      <td>23650.000000</td>\n",
       "    </tr>\n",
       "    <tr>\n",
       "      <th>mean</th>\n",
       "      <td>60.329069</td>\n",
       "      <td>6.541127e+06</td>\n",
       "      <td>2.070106</td>\n",
       "      <td>2.747370</td>\n",
       "    </tr>\n",
       "    <tr>\n",
       "      <th>std</th>\n",
       "      <td>35.661808</td>\n",
       "      <td>1.089640e+07</td>\n",
       "      <td>1.078620</td>\n",
       "      <td>0.994261</td>\n",
       "    </tr>\n",
       "    <tr>\n",
       "      <th>min</th>\n",
       "      <td>12.000000</td>\n",
       "      <td>1.219000e+04</td>\n",
       "      <td>0.000000</td>\n",
       "      <td>1.000000</td>\n",
       "    </tr>\n",
       "    <tr>\n",
       "      <th>25%</th>\n",
       "      <td>40.000000</td>\n",
       "      <td>3.400000e+06</td>\n",
       "      <td>1.000000</td>\n",
       "      <td>2.600000</td>\n",
       "    </tr>\n",
       "    <tr>\n",
       "      <th>50%</th>\n",
       "      <td>52.000000</td>\n",
       "      <td>4.650000e+06</td>\n",
       "      <td>2.000000</td>\n",
       "      <td>2.600000</td>\n",
       "    </tr>\n",
       "    <tr>\n",
       "      <th>75%</th>\n",
       "      <td>69.700000</td>\n",
       "      <td>6.799000e+06</td>\n",
       "      <td>3.000000</td>\n",
       "      <td>2.800000</td>\n",
       "    </tr>\n",
       "    <tr>\n",
       "      <th>max</th>\n",
       "      <td>900.000000</td>\n",
       "      <td>7.630000e+08</td>\n",
       "      <td>19.000000</td>\n",
       "      <td>100.000000</td>\n",
       "    </tr>\n",
       "  </tbody>\n",
       "</table>\n",
       "</div>"
      ],
      "text/plain": [
       "         total_area    last_price         rooms  ceiling_height\n",
       "count  23650.000000  2.365000e+04  23650.000000    23650.000000\n",
       "mean      60.329069  6.541127e+06      2.070106        2.747370\n",
       "std       35.661808  1.089640e+07      1.078620        0.994261\n",
       "min       12.000000  1.219000e+04      0.000000        1.000000\n",
       "25%       40.000000  3.400000e+06      1.000000        2.600000\n",
       "50%       52.000000  4.650000e+06      2.000000        2.600000\n",
       "75%       69.700000  6.799000e+06      3.000000        2.800000\n",
       "max      900.000000  7.630000e+08     19.000000      100.000000"
      ]
     },
     "execution_count": 21,
     "metadata": {},
     "output_type": "execute_result"
    }
   ],
   "source": [
    "# Изучаем следующие параметры: площадь, цена, число комнат, высота потолков\n",
    "data[['total_area', 'last_price', 'rooms', 'ceiling_height']].describe()"
   ]
  },
  {
   "cell_type": "markdown",
   "metadata": {},
   "source": [
    "Средняя квартира выставленная на продажу выглядит так: Двухкомнатная квартира площадью 52 кв.м с потолками 2.6 метра по цене 4.65 млн. рублей.\n",
    "Площадь квартир колеблется от 12 до 900 квадратных метров.\n",
    "Стоимость самой дешевой 12 тысяч, самой дорогой 763 миллиона.\n",
    "Число комнат - от 0 (студия или нежелые помощения) до 19.\n",
    "Высота потолков от 1 до 100 метров."
   ]
  },
  {
   "cell_type": "code",
   "execution_count": 22,
   "metadata": {},
   "outputs": [
    {
     "data": {
      "image/png": "[encoded data removed]",
      "text/plain": [
       "<Figure size 360x216 with 1 Axes>"
      ]
     },
     "metadata": {
      "needs_background": "light"
     },
     "output_type": "display_data"
    },
    {
     "data": {
      "image/png": "[encoded data removed]",
      "text/plain": [
       "<Figure size 360x216 with 1 Axes>"
      ]
     },
     "metadata": {
      "needs_background": "light"
     },
     "output_type": "display_data"
    },
    {
     "data": {
      "image/png": "[encoded data removed]",
      "text/plain": [
       "<Figure size 360x216 with 1 Axes>"
      ]
     },
     "metadata": {
      "needs_background": "light"
     },
     "output_type": "display_data"
    },
    {
     "data": {
      "image/png": "[encoded data removed]",
      "text/plain": [
       "<Figure size 360x216 with 1 Axes>"
      ]
     },
     "metadata": {
      "needs_background": "light"
     },
     "output_type": "display_data"
    }
   ],
   "source": [
    "# Построем гистограммы для каждого параметра\n",
    "data.plot(y = 'total_area', \n",
    "          kind = 'hist', \n",
    "          bins = 100, \n",
    "          grid=True, \n",
    "          figsize = (5,3), \n",
    "          range = (0,150),\n",
    "          title = 'Распределение квартир по общей площади')\n",
    "plt.show()\n",
    "data.plot(y = 'last_price', \n",
    "          kind = 'hist', \n",
    "          bins = 100, \n",
    "          grid=True, \n",
    "          figsize = (5,3),\n",
    "          range = (0,15000000),\n",
    "          title = 'Распределение квартир по цене')\n",
    "plt.show()\n",
    "data.plot(y = 'rooms', \n",
    "          kind = 'hist', \n",
    "          bins = 19, \n",
    "          grid=True, \n",
    "          figsize = (5,3), \n",
    "          range = (0,6),\n",
    "          title = 'Распределение квартир по комнатам')\n",
    "plt.show()\n",
    "data.plot(y = 'ceiling_height', \n",
    "          kind = 'hist', \n",
    "          bins = 30, \n",
    "          grid=True, \n",
    "          figsize = (5,3),\n",
    "          range = (2,3.5),\n",
    "          title = 'Распределение квартир высоте потолков')\n",
    "plt.show()"
   ]
  },
  {
   "cell_type": "markdown",
   "metadata": {},
   "source": [
    "Большая часть квартир имеет метраж от 30 до 80 кв.м. с пиком на 45 кв.м. Есть квартиры с 300-900 кв.м. но это еденичные выбросы.\n",
    "Цены на квартиры лежат в диапазоне от 2 до 15 млн. Большинство приходится на диапазон от 3 до 6 млн. Есть выбросы, но они не мешают.\n",
    "Большинство квартир имеют 1 или 2 комнаты, чуть меньше представлены 3-х комнатные квартиры, есть небольшое колличество 4-х комнатных квартир. Есть квартиры имеющие большее количество комнат, но их еще меньше.\n",
    "Большинство квартир имеют высоту потолков от 2,5 до 3 метров. Остальные варианты  представлены в очень маленьком количестве."
   ]
  },
  {
   "cell_type": "code",
   "execution_count": 23,
   "metadata": {},
   "outputs": [
    {
     "data": {
      "text/html": [
       "<div>\n",
       "<style scoped>\n",
       "    .dataframe tbody tr th:only-of-type {\n",
       "        vertical-align: middle;\n",
       "    }\n",
       "\n",
       "    .dataframe tbody tr th {\n",
       "        vertical-align: top;\n",
       "    }\n",
       "\n",
       "    .dataframe thead th {\n",
       "        text-align: right;\n",
       "    }\n",
       "</style>\n",
       "<table border=\"1\" class=\"dataframe\">\n",
       "  <thead>\n",
       "    <tr style=\"text-align: right;\">\n",
       "      <th></th>\n",
       "      <th>days_exposition</th>\n",
       "    </tr>\n",
       "  </thead>\n",
       "  <tbody>\n",
       "    <tr>\n",
       "      <th>count</th>\n",
       "      <td>20470.000000</td>\n",
       "    </tr>\n",
       "    <tr>\n",
       "      <th>mean</th>\n",
       "      <td>180.753200</td>\n",
       "    </tr>\n",
       "    <tr>\n",
       "      <th>std</th>\n",
       "      <td>219.777916</td>\n",
       "    </tr>\n",
       "    <tr>\n",
       "      <th>min</th>\n",
       "      <td>1.000000</td>\n",
       "    </tr>\n",
       "    <tr>\n",
       "      <th>25%</th>\n",
       "      <td>45.000000</td>\n",
       "    </tr>\n",
       "    <tr>\n",
       "      <th>50%</th>\n",
       "      <td>95.000000</td>\n",
       "    </tr>\n",
       "    <tr>\n",
       "      <th>75%</th>\n",
       "      <td>231.000000</td>\n",
       "    </tr>\n",
       "    <tr>\n",
       "      <th>max</th>\n",
       "      <td>1580.000000</td>\n",
       "    </tr>\n",
       "  </tbody>\n",
       "</table>\n",
       "</div>"
      ],
      "text/plain": [
       "       days_exposition\n",
       "count     20470.000000\n",
       "mean        180.753200\n",
       "std         219.777916\n",
       "min           1.000000\n",
       "25%          45.000000\n",
       "50%          95.000000\n",
       "75%         231.000000\n",
       "max        1580.000000"
      ]
     },
     "execution_count": 23,
     "metadata": {},
     "output_type": "execute_result"
    }
   ],
   "source": [
    "# Изучим время продажи квартиры\n",
    "data[data['days_exposition'] != -111]['days_exposition'].describe().to_frame()\n",
    "# Среднее значение продажи - 181 день\n",
    "# Медианное значение продажи - 95 дней"
   ]
  },
  {
   "cell_type": "markdown",
   "metadata": {},
   "source": [
    "3-6 месяцев вполне хороший срок для продажи квартиры. Есть большие выбивающиеся значения. Предположу, что это эксклюзивное дорогое жилье на которое годами может искаться покупатель."
   ]
  },
  {
   "cell_type": "code",
   "execution_count": 24,
   "metadata": {},
   "outputs": [
    {
     "data": {
      "image/png": "[encoded data removed]",
      "text/plain": [
       "<Figure size 432x288 with 1 Axes>"
      ]
     },
     "metadata": {
      "needs_background": "light"
     },
     "output_type": "display_data"
    },
    {
     "data": {
      "image/png": "[encoded data removed]",
      "text/plain": [
       "<Figure size 432x288 with 1 Axes>"
      ]
     },
     "metadata": {
      "needs_background": "light"
     },
     "output_type": "display_data"
    },
    {
     "data": {
      "image/png": "[encoded data removed]",
      "text/plain": [
       "<Figure size 432x288 with 1 Axes>"
      ]
     },
     "metadata": {
      "needs_background": "light"
     },
     "output_type": "display_data"
    }
   ],
   "source": [
    "data.boxplot(column='days_exposition')\n",
    "plt.ylim(1,1000)\n",
    "data.plot(y = 'days_exposition', \n",
    "          kind = 'hist', \n",
    "          bins = 30, \n",
    "          grid = True, \n",
    "          range = (1,1600),\n",
    "          title = 'Срок продажи квартиры')\n",
    "plt.show()\n",
    "data.plot(y = 'days_exposition', \n",
    "          kind = 'hist', \n",
    "          bins = 100, \n",
    "          grid = True, \n",
    "          range = (1,200),\n",
    "          title = 'Срок продажи квартиры')\n",
    "plt.show()"
   ]
  },
  {
   "cell_type": "markdown",
   "metadata": {},
   "source": [
    "Необычно долгими продажами можно считать продажи свыше 500 дней, что выше верхнего уса на диаграме размаха.\n",
    "Необычно быстрыми продажами можно считать продажи совершенные в первые 7 дней(неделю).\n",
    "При детальном просмотре до 200 дней на гистограмме видны аномальные пики у 45, 60 и 90 дней."
   ]
  },
  {
   "cell_type": "code",
   "execution_count": 25,
   "metadata": {},
   "outputs": [
    {
     "data": {
      "image/png": "[encoded data removed]",
      "text/plain": [
       "<Figure size 432x288 with 1 Axes>"
      ]
     },
     "metadata": {
      "needs_background": "light"
     },
     "output_type": "display_data"
    }
   ],
   "source": [
    "data.plot(y = 'days_exposition', \n",
    "          kind = 'hist', \n",
    "          bins = 100, \n",
    "          grid = True, \n",
    "          range = (29,91),\n",
    "          title = 'Срок продажи квартиры')\n",
    "plt.show()"
   ]
  },
  {
   "cell_type": "markdown",
   "metadata": {},
   "source": [
    "Можно предположить, что на 30,45,60,75 и 90 днях обьявление автоматически снимается с публикации или по средствам электронной связи с хозяином квартиры уточняется продалась ли уже квартира или нет."
   ]
  },
  {
   "cell_type": "code",
   "execution_count": 26,
   "metadata": {},
   "outputs": [
    {
     "data": {
      "text/plain": [
       "[12190.0, 11897500.0]"
      ]
     },
     "execution_count": 26,
     "metadata": {},
     "output_type": "execute_result"
    }
   ],
   "source": [
    "# Почистим данные от выбросов по основным столбцам\n",
    "# Сделаем функцию по определению верхних усов\n",
    "def whiskers(column):\n",
    "    stats = data[column].describe()\n",
    "    iqr = stats[6] - stats[4]\n",
    "    lw = stats[4] - 1.5 * iqr\n",
    "    rw = stats[6] + 1.5 * iqr\n",
    "    if lw < stats[3]: lw = stats[3] # левый \"ус\" не должен быть меньше минимального значения\n",
    "    if rw > stats[7]: rw = stats[7] # правый \"ус\" не должен быть больше максимального значения\n",
    "    return [lw, rw]\n",
    "\n",
    "whiskers('last_price')"
   ]
  },
  {
   "cell_type": "code",
   "execution_count": 27,
   "metadata": {},
   "outputs": [
    {
     "data": {
      "text/plain": [
       "[12.0, 114.25]"
      ]
     },
     "execution_count": 27,
     "metadata": {},
     "output_type": "execute_result"
    }
   ],
   "source": [
    "whiskers('total_area')"
   ]
  },
  {
   "cell_type": "code",
   "execution_count": 28,
   "metadata": {},
   "outputs": [
    {
     "data": {
      "text/plain": [
       "[0.0, 6.0]"
      ]
     },
     "execution_count": 28,
     "metadata": {},
     "output_type": "execute_result"
    }
   ],
   "source": [
    "whiskers('rooms')"
   ]
  },
  {
   "cell_type": "code",
   "execution_count": 29,
   "metadata": {},
   "outputs": [
    {
     "data": {
      "text/plain": [
       "[2.3000000000000007, 3.0999999999999996]"
      ]
     },
     "execution_count": 29,
     "metadata": {},
     "output_type": "execute_result"
    }
   ],
   "source": [
    "whiskers('ceiling_height')"
   ]
  },
  {
   "cell_type": "code",
   "execution_count": 30,
   "metadata": {},
   "outputs": [
    {
     "name": "stdout",
     "output_type": "stream",
     "text": [
      "Доля отфильтрованных значений составила: 88.3%\n"
     ]
    }
   ],
   "source": [
    "# Оставляем квартиры до 12 милионов, с площадью до 120 кв.м., высотой потолков не более 3,1 м. и не более 6 комнат.\n",
    "good_data = data.query(\n",
    "    '12190 <= last_price <= 12000000 and 12 <= total_area <= 120 and 0 <= rooms <= 6 and 2.3 <= ceiling_height <= 3.1')\n",
    "# Доля отфильтрованных значений от основного датасета\n",
    "print('Доля отфильтрованных значений составила: {:.1%}'.format(len(good_data) / len(data)))"
   ]
  },
  {
   "cell_type": "markdown",
   "metadata": {},
   "source": [
    "Потеря 11,7% данных от основного обьема данных не выглядит существенной, но позволит нам более адекватно оценить рынок недвижимости без различных выбросов."
   ]
  },
  {
   "cell_type": "code",
   "execution_count": 31,
   "metadata": {},
   "outputs": [
    {
     "name": "stdout",
     "output_type": "stream",
     "text": [
      "Коэффициент корреляции Пирсона: 0.6924817893015236\n"
     ]
    },
    {
     "data": {
      "image/png": "[encoded data removed]",
      "text/plain": [
       "<Figure size 576x288 with 1 Axes>"
      ]
     },
     "metadata": {
      "needs_background": "light"
     },
     "output_type": "display_data"
    }
   ],
   "source": [
    "#Изучаем зависимость цены от площади\n",
    "total_area_price = good_data.pivot_table(index = 'total_area', values = 'last_price')\n",
    "total_area_price.plot(style = 'o', \n",
    "                      alpha = 0.1,\n",
    "                      title = 'Зависимость цены от общей площади квартиры',\n",
    "                      figsize = (8,4))\n",
    "print('Коэффициент корреляции Пирсона:', good_data['total_area'].corr(good_data['last_price']))"
   ]
  },
  {
   "cell_type": "markdown",
   "metadata": {},
   "source": [
    "Цена квартиры напрямую зависит от общей площади"
   ]
  },
  {
   "cell_type": "code",
   "execution_count": 32,
   "metadata": {},
   "outputs": [
    {
     "name": "stdout",
     "output_type": "stream",
     "text": [
      "Коэффициент корреляции Пирсона: 0.4271669556264362\n"
     ]
    },
    {
     "data": {
      "image/png": "[encoded data removed]",
      "text/plain": [
       "<Figure size 432x288 with 1 Axes>"
      ]
     },
     "metadata": {
      "needs_background": "light"
     },
     "output_type": "display_data"
    }
   ],
   "source": [
    "#Изучаем зависимость цены от числа комнат\n",
    "rooms_price = good_data.pivot_table(index = 'rooms', values = 'last_price')\n",
    "rooms_price.plot(kind='bar',\n",
    "                 title = 'Зависимость цены от количества комнат')\n",
    "print('Коэффициент корреляции Пирсона:', good_data['rooms'].corr(good_data['last_price']))"
   ]
  },
  {
   "cell_type": "markdown",
   "metadata": {},
   "source": [
    "Цена квартиры так же имеет линейную зависимость от количества комнат."
   ]
  },
  {
   "cell_type": "code",
   "execution_count": 33,
   "metadata": {},
   "outputs": [
    {
     "name": "stdout",
     "output_type": "stream",
     "text": [
      "Коэффициент корреляции Пирсона: -0.4903376651907317\n"
     ]
    },
    {
     "data": {
      "image/png": "[encoded data removed]",
      "text/plain": [
       "<Figure size 576x288 with 1 Axes>"
      ]
     },
     "metadata": {
      "needs_background": "light"
     },
     "output_type": "display_data"
    }
   ],
   "source": [
    "#Изучаем зависимость цены от удаленности от центра\n",
    "cityCenters_price = good_data.pivot_table(index = 'cityCenters_nearest', values = 'last_price')\n",
    "cityCenters_price.plot(style = 'o', \n",
    "                       xlim = (0,60000), \n",
    "                       alpha = 0.1,\n",
    "                       title = 'Зависимость цены от удаленности от центра',\n",
    "                       figsize = (8,4))\n",
    "print('Коэффициент корреляции Пирсона:', good_data['cityCenters_nearest'].corr(good_data['last_price']))"
   ]
  },
  {
   "cell_type": "markdown",
   "metadata": {},
   "source": [
    "Чем дальше от центра, тем в среднем меньше будет стоить квартира. Разница между первым и 10 километром в среднем будет отличаться на 2-3 миллиона."
   ]
  },
  {
   "cell_type": "code",
   "execution_count": 34,
   "metadata": {},
   "outputs": [
    {
     "data": {
      "text/plain": [
       "<AxesSubplot:title={'center':'Зависимость цены от этажа квартиры'}, xlabel='floor_category'>"
      ]
     },
     "execution_count": 34,
     "metadata": {},
     "output_type": "execute_result"
    },
    {
     "data": {
      "image/png": "[encoded data removed]",
      "text/plain": [
       "<Figure size 432x288 with 1 Axes>"
      ]
     },
     "metadata": {
      "needs_background": "light"
     },
     "output_type": "display_data"
    }
   ],
   "source": [
    "# Изучаем зависимость цены от того, на каком этаже расположена квартира\n",
    "floor_type_price = good_data.pivot_table(index='floor_category', values='last_price')\n",
    "floor_type_price.plot(kind='bar', \n",
    "                      ylim = (3500000, 5200000),\n",
    "                      title = 'Зависимость цены от этажа квартиры')"
   ]
  },
  {
   "cell_type": "markdown",
   "metadata": {},
   "source": [
    "Квартира на первом этаже будет в среднем на 20% дешевле, чем на других этажах кроме последнего. На последнем этаже, подороже чем на первом, но все так же дешевле чем на других этажах."
   ]
  },
  {
   "cell_type": "code",
   "execution_count": 35,
   "metadata": {},
   "outputs": [
    {
     "name": "stdout",
     "output_type": "stream",
     "text": [
      "Коэффициент корреляции Пирсона: -0.012373865078703805\n"
     ]
    },
    {
     "data": {
      "image/png": "[encoded data removed]",
      "text/plain": [
       "<Figure size 432x288 with 1 Axes>"
      ]
     },
     "metadata": {
      "needs_background": "light"
     },
     "output_type": "display_data"
    }
   ],
   "source": [
    "# Изучим зависимость от даты размещения: дня недели\n",
    "weekday_price = good_data.pivot_table(index='weekday', values='last_price')\n",
    "weekday_price.plot(style = 'o-',\n",
    "                   title = 'Зависимость цены от дня недели')\n",
    "print('Коэффициент корреляции Пирсона:', good_data['weekday'].corr(good_data['last_price']))"
   ]
  },
  {
   "cell_type": "markdown",
   "metadata": {},
   "source": [
    "Судя по всему в будние дни цены самые высокие. И по ходу рабочей недели люди понемногу скидывают цену. Так в субботу цена в среднем на 100 тыс. дешевле чем  дешевле чем в понедельник."
   ]
  },
  {
   "cell_type": "code",
   "execution_count": 36,
   "metadata": {},
   "outputs": [
    {
     "name": "stdout",
     "output_type": "stream",
     "text": [
      "Коэффициент корреляции Пирсона: 0.0039027910490469745\n"
     ]
    },
    {
     "data": {
      "image/png": "[encoded data removed]",
      "text/plain": [
       "<Figure size 432x288 with 1 Axes>"
      ]
     },
     "metadata": {
      "needs_background": "light"
     },
     "output_type": "display_data"
    }
   ],
   "source": [
    "# Изучим зависимость от даты размещения: месяца\n",
    "month_price = good_data.pivot_table(index='month', values='last_price')\n",
    "month_price.plot(style = 'o-',\n",
    "                 title = 'Зависимость цены от месяца')\n",
    "print('Коэффициент корреляции Пирсона:', good_data['month'].corr(good_data['last_price']))"
   ]
  },
  {
   "cell_type": "markdown",
   "metadata": {},
   "source": [
    "Самые дорогие квартиры в апреле, а самые дешевые летом в июне. В начале весны цены растут из за увеличения светевого дня и улучшения погоды вследствии чего люди более склонны к просмотрам квартиры. А ближе к лету спрос падает из-за начала отпусков и дачного сезона."
   ]
  },
  {
   "cell_type": "code",
   "execution_count": 37,
   "metadata": {},
   "outputs": [
    {
     "name": "stdout",
     "output_type": "stream",
     "text": [
      "Коэффициент корреляции Пирсона: 0.00584875641170878\n"
     ]
    },
    {
     "data": {
      "image/png": "[encoded data removed]",
      "text/plain": [
       "<Figure size 432x288 with 1 Axes>"
      ]
     },
     "metadata": {
      "needs_background": "light"
     },
     "output_type": "display_data"
    }
   ],
   "source": [
    "# Изучим зависимость от даты размещения: года\n",
    "year_price = good_data.pivot_table(index='year', values='last_price')\n",
    "year_price.plot(style = 'o-',\n",
    "                title = 'Зависимость цены от года')\n",
    "print('Коэффициент корреляции Пирсона:', good_data['year'].corr(good_data['last_price']))"
   ]
  },
  {
   "cell_type": "markdown",
   "metadata": {},
   "source": [
    "Цены 2014-2015 года сильно выделяются. Можно предположить, что такой ажиотаж на рынке недвижимости обусловлен резким ослаблением рубля по отношению к основным мировым валютам в 2014 году. А рост цен на недвижимость с 2018 года обусловлен и увеличением затрат застройщиками и увеличением спроса на недвижимость."
   ]
  },
  {
   "cell_type": "code",
   "execution_count": 38,
   "metadata": {},
   "outputs": [
    {
     "data": {
      "text/html": [
       "<div>\n",
       "<style scoped>\n",
       "    .dataframe tbody tr th:only-of-type {\n",
       "        vertical-align: middle;\n",
       "    }\n",
       "\n",
       "    .dataframe tbody tr th {\n",
       "        vertical-align: top;\n",
       "    }\n",
       "\n",
       "    .dataframe thead th {\n",
       "        text-align: right;\n",
       "    }\n",
       "</style>\n",
       "<table border=\"1\" class=\"dataframe\">\n",
       "  <thead>\n",
       "    <tr style=\"text-align: right;\">\n",
       "      <th></th>\n",
       "      <th>count</th>\n",
       "      <th>mean_m2</th>\n",
       "    </tr>\n",
       "    <tr>\n",
       "      <th>locality_name</th>\n",
       "      <th></th>\n",
       "      <th></th>\n",
       "    </tr>\n",
       "  </thead>\n",
       "  <tbody>\n",
       "    <tr>\n",
       "      <th>санкт-петербург</th>\n",
       "      <td>13152</td>\n",
       "      <td>105563.8</td>\n",
       "    </tr>\n",
       "    <tr>\n",
       "      <th>мурино</th>\n",
       "      <td>588</td>\n",
       "      <td>86064.4</td>\n",
       "    </tr>\n",
       "    <tr>\n",
       "      <th>кудрово</th>\n",
       "      <td>469</td>\n",
       "      <td>95152.5</td>\n",
       "    </tr>\n",
       "    <tr>\n",
       "      <th>шушары</th>\n",
       "      <td>438</td>\n",
       "      <td>78643.4</td>\n",
       "    </tr>\n",
       "    <tr>\n",
       "      <th>всеволожск</th>\n",
       "      <td>390</td>\n",
       "      <td>67161.2</td>\n",
       "    </tr>\n",
       "    <tr>\n",
       "      <th>колпино</th>\n",
       "      <td>328</td>\n",
       "      <td>75306.9</td>\n",
       "    </tr>\n",
       "    <tr>\n",
       "      <th>пушкин</th>\n",
       "      <td>327</td>\n",
       "      <td>100298.0</td>\n",
       "    </tr>\n",
       "    <tr>\n",
       "      <th>парголово</th>\n",
       "      <td>326</td>\n",
       "      <td>90331.8</td>\n",
       "    </tr>\n",
       "    <tr>\n",
       "      <th>гатчина</th>\n",
       "      <td>299</td>\n",
       "      <td>68592.6</td>\n",
       "    </tr>\n",
       "    <tr>\n",
       "      <th>выборг</th>\n",
       "      <td>217</td>\n",
       "      <td>57886.5</td>\n",
       "    </tr>\n",
       "  </tbody>\n",
       "</table>\n",
       "</div>"
      ],
      "text/plain": [
       "                 count   mean_m2\n",
       "locality_name                   \n",
       "санкт-петербург  13152  105563.8\n",
       "мурино             588   86064.4\n",
       "кудрово            469   95152.5\n",
       "шушары             438   78643.4\n",
       "всеволожск         390   67161.2\n",
       "колпино            328   75306.9\n",
       "пушкин             327  100298.0\n",
       "парголово          326   90331.8\n",
       "гатчина            299   68592.6\n",
       "выборг             217   57886.5"
      ]
     },
     "execution_count": 38,
     "metadata": {},
     "output_type": "execute_result"
    }
   ],
   "source": [
    "# Выберем десять городов с наибольшим количеством обьявлений\n",
    "top_ten = good_data.pivot_table(index = 'locality_name', values = 'price_m2', aggfunc=['count', 'mean'])\n",
    "top_ten.columns = ['count', 'mean_m2']\n",
    "top_ten.sort_values('count', ascending=False).head(10).round(1)"
   ]
  },
  {
   "cell_type": "markdown",
   "metadata": {},
   "source": [
    "Населеные пункты с самой высокой стоимостью жилья как и ожидалось Санкт-Петербург и Пушкин. Самая низкая стоимость в Выборге - она приблизительно в 2 раза меньше чем в Санкт-Петербурге."
   ]
  },
  {
   "cell_type": "code",
   "execution_count": 39,
   "metadata": {},
   "outputs": [
    {
     "data": {
      "image/png": "[encoded data removed]",
      "text/plain": [
       "<Figure size 432x288 with 1 Axes>"
      ]
     },
     "metadata": {
      "needs_background": "light"
     },
     "output_type": "display_data"
    }
   ],
   "source": [
    "# Выделим квартиры в Санкт-Петербурге\n",
    "# и посчитаем среднюю цену для каждого километра\n",
    "good_data['cityCenters_nearest_km'] = round(good_data['cityCenters_nearest']/1000)\n",
    "good_data_spb = good_data.query('locality_name == \"санкт-петербург\" and cityCenters_nearest !=444444').pivot_table(\n",
    "    index = 'cityCenters_nearest_km', values = 'last_price')\n",
    "good_data_spb.plot(style = 'o-',\n",
    "                   title = 'Зависимость цены от удаленности от центра')\n",
    "plt.show()"
   ]
  },
  {
   "cell_type": "markdown",
   "metadata": {},
   "source": [
    "Между 8 и 9 километрами разница около миллиона рублей. Таким образом, будем считать центром Санкт-Петербурга окружность радиусом 8 км."
   ]
  },
  {
   "cell_type": "code",
   "execution_count": 40,
   "metadata": {},
   "outputs": [
    {
     "data": {
      "image/png": "[encoded data removed]",
      "text/plain": [
       "<Figure size 576x288 with 1 Axes>"
      ]
     },
     "metadata": {
      "needs_background": "light"
     },
     "output_type": "display_data"
    },
    {
     "data": {
      "image/png": "[encoded data removed]",
      "text/plain": [
       "<Figure size 576x288 with 1 Axes>"
      ]
     },
     "metadata": {
      "needs_background": "light"
     },
     "output_type": "display_data"
    },
    {
     "data": {
      "image/png": "[encoded data removed]",
      "text/plain": [
       "<Figure size 576x288 with 1 Axes>"
      ]
     },
     "metadata": {
      "needs_background": "light"
     },
     "output_type": "display_data"
    },
    {
     "data": {
      "image/png": "[encoded data removed]",
      "text/plain": [
       "<Figure size 576x288 with 1 Axes>"
      ]
     },
     "metadata": {
      "needs_background": "light"
     },
     "output_type": "display_data"
    }
   ],
   "source": [
    "# Выделим сегмент квартир в центре\n",
    "# и изучим площадь, цена, число комнат, высота потолков\n",
    "spb_center = good_data.query('locality_name == \"санкт-петербург\" and cityCenters_nearest_km <= 8')\n",
    "ax = data.plot(y = 'total_area', \n",
    "               kind = 'hist', \n",
    "               bins = 100, \n",
    "               grid=True, \n",
    "               figsize = (8,4), \n",
    "               range = (0,150),\n",
    "               label = 'all')\n",
    "spb_center.plot(y = 'total_area', \n",
    "                kind = 'hist', \n",
    "                bins = 100, \n",
    "                grid=True, \n",
    "                figsize = (8,4), \n",
    "                range = (0,150),\n",
    "                ax = ax,\n",
    "                label = 'center filtred',\n",
    "                title = 'Распределение квартир по общей площади')\n",
    "plt.show()\n",
    "ax = data.plot(y = 'last_price', \n",
    "               kind = 'hist', \n",
    "               bins = 100, \n",
    "               grid=True, \n",
    "               figsize = (8,4),\n",
    "               range = (0,15000000), \n",
    "               label = 'all')\n",
    "spb_center.plot(y = 'last_price', \n",
    "                kind = 'hist', \n",
    "                bins = 100, \n",
    "                grid=True, \n",
    "                figsize = (8,4),\n",
    "                range = (0,15000000),\n",
    "                ax = ax,\n",
    "                label = 'center filtred',\n",
    "                title = 'Распределение квартир по цене')\n",
    "plt.show()\n",
    "ax = data.plot(y = 'rooms', \n",
    "               kind = 'hist', \n",
    "               bins = 19, \n",
    "               grid=True, \n",
    "               figsize = (8,4), \n",
    "               range = (0,6),\n",
    "               label = 'all')\n",
    "spb_center.plot(y = 'rooms', \n",
    "                kind = 'hist', \n",
    "                bins = 19, \n",
    "                grid=True, \n",
    "                figsize = (8,4), \n",
    "                range = (0,6),\n",
    "                ax = ax,\n",
    "                label = 'center filtred',\n",
    "                title = 'Распределение квартир по комнатам')\n",
    "plt.show()\n",
    "ax = data.plot(y = 'ceiling_height',\n",
    "               kind = 'hist', \n",
    "               bins = 30, \n",
    "               grid=True,\n",
    "               figsize = (8,4),\n",
    "               range = (2,3.5),\n",
    "               label = 'all')\n",
    "spb_center.plot(y = 'ceiling_height', \n",
    "                kind = 'hist', \n",
    "                bins = 30, \n",
    "                grid=True, \n",
    "                figsize = (8,4),\n",
    "                range = (2,3.5),\n",
    "                ax = ax,\n",
    "                label = 'center filtred',\n",
    "                title = 'Распределение квартир высоте потолков')\n",
    "plt.show()"
   ]
  },
  {
   "cell_type": "markdown",
   "metadata": {},
   "source": [
    "Большая часть квартир имеет метраж от 30 до 80 кв.м. с пиком на 45 кв.м.\n",
    "Цены на квартиры лежат в диапазоне от 3 до 12 млн. Большинство приходится на диапазон от 6 до 10 млн.\n",
    "Большинство квартир имеют 2 комнаты, чуть меньше представлены 3-х комнатные и однокомнатные квартиры, есть небольшое колличество 4-х комнатных квартир. Есть квартиры имеющие большее количество комнат, но их еще меньше.\n",
    "Большинство квартир имеют высоту потолков от 2,6 до 3 метров."
   ]
  },
  {
   "cell_type": "code",
   "execution_count": 41,
   "metadata": {},
   "outputs": [
    {
     "name": "stdout",
     "output_type": "stream",
     "text": [
      "Коэффициент корреляции Пирсона: 0.45644020829237864\n"
     ]
    },
    {
     "data": {
      "image/png": "[encoded data removed]",
      "text/plain": [
       "<Figure size 576x288 with 1 Axes>"
      ]
     },
     "metadata": {
      "needs_background": "light"
     },
     "output_type": "display_data"
    }
   ],
   "source": [
    "#Изучаем зависимость цены от числа комнат\n",
    "rooms_price_сenter = spb_center.pivot_table(index = 'rooms', values = 'last_price')\n",
    "ax = rooms_price.plot(kind='bar', \n",
    "                      label ='all',\n",
    "                      figsize = (8,4))\n",
    "\n",
    "rooms_price_сenter.plot(kind='bar', \n",
    "                        ax = ax, \n",
    "                        alpha = 0.2, \n",
    "                        label = 'center filtred', \n",
    "                        figsize = (8,4),\n",
    "                        color = 'red')\n",
    "\n",
    "print('Коэффициент корреляции Пирсона:', spb_center['rooms'].corr(spb_center['last_price']))"
   ]
  },
  {
   "cell_type": "markdown",
   "metadata": {},
   "source": [
    "Чем больше комнат, тем выше цена. Центр ничем не удивил."
   ]
  },
  {
   "cell_type": "code",
   "execution_count": 42,
   "metadata": {},
   "outputs": [
    {
     "data": {
      "image/png": "[encoded data removed]",
      "text/plain": [
       "<Figure size 432x288 with 1 Axes>"
      ]
     },
     "metadata": {
      "needs_background": "light"
     },
     "output_type": "display_data"
    }
   ],
   "source": [
    "# Изучаем зависимость цены от того, на каком этаже расположена квартира\n",
    "floor_type_price_center = spb_center.pivot_table(index='floor_category', values='last_price')\n",
    "ax = floor_type_price.plot(kind='bar', \n",
    "                           ylim = (3500000, 5200000),\n",
    "                           label = 'all')\n",
    "floor_type_price_center.plot(kind='bar', \n",
    "                             ylim = (3500000, 8000000), \n",
    "                             title = 'Зависимость цены от этажа квартиры', \n",
    "                             ax = ax, \n",
    "                             alpha = 0.2,\n",
    "                             label = 'center filtred',\n",
    "                             color = 'red')\n",
    "plt.show()"
   ]
  },
  {
   "cell_type": "markdown",
   "metadata": {},
   "source": [
    "Квартира на первом этаже будет в среднем на 25% дешевле, чем на других этажах. И в центре уже цена на последние этажи намного дороже, чем на окраинах. Виды в центре с последних этаже все же красивее."
   ]
  },
  {
   "cell_type": "code",
   "execution_count": 43,
   "metadata": {},
   "outputs": [
    {
     "name": "stdout",
     "output_type": "stream",
     "text": [
      "Коэффициент корреляции Пирсона: -0.1621581090043664\n"
     ]
    },
    {
     "data": {
      "image/png": "[encoded data removed]",
      "text/plain": [
       "<Figure size 576x288 with 1 Axes>"
      ]
     },
     "metadata": {
      "needs_background": "light"
     },
     "output_type": "display_data"
    }
   ],
   "source": [
    "#Изучаем зависимость цены от удаленности от центра\n",
    "Centers_price = spb_center.pivot_table(index = 'cityCenters_nearest', values = 'last_price', aggfunc = 'mean')\n",
    "ax = cityCenters_price.plot(style = 'o', \n",
    "                            xlim = (0,8500), \n",
    "                            alpha = 1,\n",
    "                            figsize = (8,4), \n",
    "                            label = 'all')\n",
    "Centers_price.plot(style = 'x', \n",
    "                   xlim = (0,8500), \n",
    "                   alpha = 0.6, \n",
    "                   ax = ax, \n",
    "                   title = 'Зависимость цены от удаленности от центра', \n",
    "                   label = 'center filtred')\n",
    "print('Коэффициент корреляции Пирсона:', spb_center['cityCenters_nearest'].corr(spb_center['last_price']))"
   ]
  },
  {
   "cell_type": "markdown",
   "metadata": {},
   "source": [
    "Чем дальше от центра, тем в среднем меньше будет стоить квартира"
   ]
  },
  {
   "cell_type": "code",
   "execution_count": 44,
   "metadata": {},
   "outputs": [
    {
     "name": "stdout",
     "output_type": "stream",
     "text": [
      "Коэффициент корреляции Пирсона: 0.0017811658812731408\n"
     ]
    },
    {
     "data": {
      "image/png": "[encoded data removed]",
      "text/plain": [
       "<Figure size 432x288 with 1 Axes>"
      ]
     },
     "metadata": {
      "needs_background": "light"
     },
     "output_type": "display_data"
    }
   ],
   "source": [
    "# Изучим зависимость от даты размещения: дня недели\n",
    "weekday_price_center = spb_center.pivot_table(index='weekday', values='last_price')\n",
    "ax = weekday_price.plot(style = 'o-',\n",
    "                        label = 'all')\n",
    "weekday_price_center.plot(style = 'o-', \n",
    "                          ax = ax, \n",
    "                          label = 'center filtred', \n",
    "                          title = 'Зависимость цены от дня недели')\n",
    "print('Коэффициент корреляции Пирсона:', spb_center['weekday'].corr(spb_center['last_price']))"
   ]
  },
  {
   "cell_type": "markdown",
   "metadata": {},
   "source": [
    "В центре к удивлению самые дорогие цены оказались в воскресенье"
   ]
  },
  {
   "cell_type": "code",
   "execution_count": 45,
   "metadata": {},
   "outputs": [
    {
     "name": "stdout",
     "output_type": "stream",
     "text": [
      "Коэффициент корреляции Пирсона: -0.01662675520860484\n"
     ]
    },
    {
     "data": {
      "image/png": "[encoded data removed]",
      "text/plain": [
       "<Figure size 432x288 with 1 Axes>"
      ]
     },
     "metadata": {
      "needs_background": "light"
     },
     "output_type": "display_data"
    }
   ],
   "source": [
    "# Изучим зависимость от даты размещения: месяца\n",
    "month_price_center = spb_center.pivot_table(index='month', values='last_price')\n",
    "ax = month_price.plot(style = 'o-',\n",
    "                      label = 'all')\n",
    "month_price_center.plot(style = 'o-', \n",
    "                        ax = ax, \n",
    "                        label = 'center filtred', \n",
    "                        title = 'Зависимость цены от месяца')\n",
    "print('Коэффициент корреляции Пирсона:', spb_center['month'].corr(spb_center['last_price']))"
   ]
  },
  {
   "cell_type": "markdown",
   "metadata": {},
   "source": [
    "Все так же застойное начало лета и видим снижение покупательской способности перед новогодними праздниками."
   ]
  },
  {
   "cell_type": "code",
   "execution_count": 46,
   "metadata": {},
   "outputs": [
    {
     "name": "stdout",
     "output_type": "stream",
     "text": [
      "Коэффициент корреляции Пирсона: -0.013856537139945833\n"
     ]
    },
    {
     "data": {
      "image/png": "[encoded data removed]",
      "text/plain": [
       "<Figure size 432x288 with 1 Axes>"
      ]
     },
     "metadata": {
      "needs_background": "light"
     },
     "output_type": "display_data"
    }
   ],
   "source": [
    "# Изучим зависимость от даты размещения: года\n",
    "year_price_center = spb_center.pivot_table(index='year', values='last_price')\n",
    "ax = year_price.plot(style = 'o-',\n",
    "                     label = 'all')\n",
    "year_price_center.plot(style = 'o-', \n",
    "                       ax = ax, \n",
    "                       label = 'center filtred', \n",
    "                       title = 'Зависимость цены от года')\n",
    "print('Коэффициент корреляции Пирсона:', spb_center['year'].corr(spb_center['last_price']))"
   ]
  },
  {
   "cell_type": "markdown",
   "metadata": {},
   "source": [
    "Зависимость цены от года публикации в центре ничем не отличается от такой же зависимости по всем данным."
   ]
  },
  {
   "cell_type": "markdown",
   "metadata": {},
   "source": [
    "Изучая квартиры в центре можно сказать, что:\n",
    "- Квартира в центре стоит в среднем на 2 млн. дороче чем среднестатисчтическая по всем данным.\n",
    "- В центре больше преобладают двухкомнатные квартиры. В общей массе такого преобладания не было.\n",
    "- В центре квартир с высотой потолков 3+ метра значительно больше в % чем в основной массе квартир.\n",
    "- На последнем этаже квартиры в центре выглядят более привлекательно, чем на окраине.\n",
    "- В центре \"выходные\" квартиры дороче, чем в будни. В общей массе было все с точностью до наоборот.\n",
    "- В остальном зависимости в центре и в общей массе очень похожи."
   ]
  },
  {
   "cell_type": "markdown",
   "metadata": {},
   "source": [
    "## Общий вывод"
   ]
  },
  {
   "cell_type": "markdown",
   "metadata": {},
   "source": [
    "Изучив даннные из сервиса Яндекс.Недвижимость можно сделать выводы, которые указывают на то, что конечная цена квартиры больше всего зависит от:\n",
    "- Метража. Чем больше площадь квартиры, тем выше цена.\n",
    "- Цены за квадратный метр. Чем больше цена за квадратный метр, тем выше цена.\n",
    "- Доли жилой площади/кухни. Чем выше доля жилой площади/площадь кухни, тем выше цена.\n",
    "- Количества комнат. Чем больше комнат, тем выше цена.\n",
    "- Этажа. На первом этаже квартира дешевле, чем на остальных.\n",
    "- Удаленности от центра. Чем ближе к центру, тем дороже квартира. Это относится и к самому центру.\n",
    "- День размещения объявления. Квартиры, размещенные к продаже в будние дни, в среднем дороже, чем размещенные в выходные.\n",
    "- Месяц размещения объявления. Квартиры, размещенные к продаже в начале лета, в среднем дешевле, чем размещенные в любые другие месяца.\n",
    "- Год размещения объявления. Квартиры, размещенные к продаже в 2014-2015 году, дороже всех. Период 2016-2018 - период низких цен на квартиры. 2019г - цены пошли вверх впервые после наступления кризиса 2014 года.\n",
    "\n",
    "Квартиры в центральной части города выделаются за счет:\n",
    "- Более дорогой цены (в среднем на 2 млн).\n",
    "- Большего количества двухкомнатных квартир.\n",
    "- Большего количества квартир с потолками 3м и более.\n",
    "- Более высоких цен на квартиры на последнем этаже.\n",
    "- Самыми дорогими ценами в выходные\n",
    "- Падения спроса на такие квартиры перед новогодними праздниками."
   ]
  }
 ],
 "metadata": {
  "ExecuteTimeLog": [
   {
    "duration": 125,
    "start_time": "2021-10-14T06:46:45.233Z"
   },
   {
    "duration": 886,
    "start_time": "2021-10-14T06:47:09.602Z"
   },
   {
    "duration": 166,
    "start_time": "2021-10-14T06:47:49.302Z"
   },
   {
    "duration": 106,
    "start_time": "2021-10-14T06:48:05.627Z"
   },
   {
    "duration": 108,
    "start_time": "2021-10-14T06:48:25.302Z"
   },
   {
    "duration": 78,
    "start_time": "2021-10-14T06:48:53.208Z"
   },
   {
    "duration": 97,
    "start_time": "2021-10-14T06:52:43.680Z"
   },
   {
    "duration": 196,
    "start_time": "2021-10-14T06:52:58.332Z"
   },
   {
    "duration": 186,
    "start_time": "2021-10-14T06:53:05.189Z"
   },
   {
    "duration": 132,
    "start_time": "2021-10-14T06:53:31.240Z"
   },
   {
    "duration": 109,
    "start_time": "2021-10-14T06:57:14.600Z"
   },
   {
    "duration": 129,
    "start_time": "2021-10-14T06:59:16.544Z"
   },
   {
    "duration": 868,
    "start_time": "2021-10-14T06:59:30.946Z"
   },
   {
    "duration": 116,
    "start_time": "2021-10-14T06:59:31.817Z"
   },
   {
    "duration": 22,
    "start_time": "2021-10-14T07:12:08.368Z"
   },
   {
    "duration": 398,
    "start_time": "2021-10-14T07:12:45.955Z"
   },
   {
    "duration": 22,
    "start_time": "2021-10-14T07:12:55.896Z"
   },
   {
    "duration": 20,
    "start_time": "2021-10-14T07:14:20.687Z"
   },
   {
    "duration": 29,
    "start_time": "2021-10-14T07:15:16.264Z"
   },
   {
    "duration": 13,
    "start_time": "2021-10-14T07:21:14.911Z"
   },
   {
    "duration": 13,
    "start_time": "2021-10-14T07:21:44.782Z"
   },
   {
    "duration": 11,
    "start_time": "2021-10-14T07:44:38.342Z"
   },
   {
    "duration": 11,
    "start_time": "2021-10-14T07:44:55.637Z"
   },
   {
    "duration": 5,
    "start_time": "2021-10-14T07:45:02.170Z"
   },
   {
    "duration": 7,
    "start_time": "2021-10-14T07:45:22.299Z"
   },
   {
    "duration": 310,
    "start_time": "2021-10-14T07:55:23.854Z"
   },
   {
    "duration": 12,
    "start_time": "2021-10-14T07:55:37.207Z"
   },
   {
    "duration": 17,
    "start_time": "2021-10-14T07:58:41.664Z"
   },
   {
    "duration": 362,
    "start_time": "2021-10-14T08:00:03.143Z"
   },
   {
    "duration": 13,
    "start_time": "2021-10-14T08:00:09.801Z"
   },
   {
    "duration": 7,
    "start_time": "2021-10-14T08:06:36.668Z"
   },
   {
    "duration": 342,
    "start_time": "2021-10-14T08:12:18.434Z"
   },
   {
    "duration": 16,
    "start_time": "2021-10-14T08:12:41.774Z"
   },
   {
    "duration": 24,
    "start_time": "2021-10-14T08:12:48.005Z"
   },
   {
    "duration": 17,
    "start_time": "2021-10-14T08:13:29.481Z"
   },
   {
    "duration": 17,
    "start_time": "2021-10-14T08:13:49.684Z"
   },
   {
    "duration": 8,
    "start_time": "2021-10-14T08:13:52.362Z"
   },
   {
    "duration": 403,
    "start_time": "2021-10-14T08:19:44.703Z"
   },
   {
    "duration": 967,
    "start_time": "2021-10-14T08:21:29.470Z"
   },
   {
    "duration": 124,
    "start_time": "2021-10-14T08:21:30.440Z"
   },
   {
    "duration": 12,
    "start_time": "2021-10-14T08:21:30.569Z"
   },
   {
    "duration": 17,
    "start_time": "2021-10-14T08:21:30.600Z"
   },
   {
    "duration": 12,
    "start_time": "2021-10-14T08:21:30.620Z"
   },
   {
    "duration": 472,
    "start_time": "2021-10-14T08:21:30.634Z"
   },
   {
    "duration": 29,
    "start_time": "2021-10-14T08:21:51.678Z"
   },
   {
    "duration": 17,
    "start_time": "2021-10-14T08:22:10.731Z"
   },
   {
    "duration": 387,
    "start_time": "2021-10-14T08:23:01.878Z"
   },
   {
    "duration": 2278,
    "start_time": "2021-10-14T08:25:04.405Z"
   },
   {
    "duration": 2203,
    "start_time": "2021-10-14T08:25:38.757Z"
   },
   {
    "duration": 2249,
    "start_time": "2021-10-14T08:26:08.946Z"
   },
   {
    "duration": 2248,
    "start_time": "2021-10-14T08:26:48.153Z"
   },
   {
    "duration": 2244,
    "start_time": "2021-10-14T08:30:30.577Z"
   },
   {
    "duration": 14,
    "start_time": "2021-10-14T08:39:43.162Z"
   },
   {
    "duration": 14,
    "start_time": "2021-10-14T08:40:08.717Z"
   },
   {
    "duration": 13,
    "start_time": "2021-10-14T08:40:19.297Z"
   },
   {
    "duration": 15,
    "start_time": "2021-10-14T08:40:49.116Z"
   },
   {
    "duration": 15,
    "start_time": "2021-10-14T08:44:42.676Z"
   },
   {
    "duration": 15,
    "start_time": "2021-10-14T08:44:51.853Z"
   },
   {
    "duration": 11,
    "start_time": "2021-10-14T08:45:06.876Z"
   },
   {
    "duration": 894,
    "start_time": "2021-10-14T08:45:14.455Z"
   },
   {
    "duration": 117,
    "start_time": "2021-10-14T08:45:15.352Z"
   },
   {
    "duration": 12,
    "start_time": "2021-10-14T08:45:15.471Z"
   },
   {
    "duration": 17,
    "start_time": "2021-10-14T08:45:15.502Z"
   },
   {
    "duration": 7,
    "start_time": "2021-10-14T08:45:15.522Z"
   },
   {
    "duration": 2382,
    "start_time": "2021-10-14T08:45:15.532Z"
   },
   {
    "duration": 12,
    "start_time": "2021-10-14T08:45:17.917Z"
   },
   {
    "duration": 13,
    "start_time": "2021-10-14T08:45:31.640Z"
   },
   {
    "duration": 10,
    "start_time": "2021-10-14T08:45:38.463Z"
   },
   {
    "duration": 12,
    "start_time": "2021-10-14T08:45:45.613Z"
   },
   {
    "duration": 10,
    "start_time": "2021-10-14T08:46:10.007Z"
   },
   {
    "duration": 12,
    "start_time": "2021-10-14T08:50:04.830Z"
   },
   {
    "duration": 17,
    "start_time": "2021-10-14T08:50:26.828Z"
   },
   {
    "duration": 11,
    "start_time": "2021-10-14T09:03:14.843Z"
   },
   {
    "duration": 2255,
    "start_time": "2021-10-14T09:08:25.699Z"
   },
   {
    "duration": 2321,
    "start_time": "2021-10-14T09:11:19.089Z"
   },
   {
    "duration": 2329,
    "start_time": "2021-10-14T09:11:35.198Z"
   },
   {
    "duration": 2239,
    "start_time": "2021-10-14T09:12:30.706Z"
   },
   {
    "duration": 2291,
    "start_time": "2021-10-14T09:13:57.757Z"
   },
   {
    "duration": 2826,
    "start_time": "2021-10-14T09:29:49.270Z"
   },
   {
    "duration": 138,
    "start_time": "2021-10-14T09:30:16.183Z"
   },
   {
    "duration": 2621,
    "start_time": "2021-10-14T09:30:43.747Z"
   },
   {
    "duration": 25,
    "start_time": "2021-10-14T09:33:54.363Z"
   },
   {
    "duration": 286,
    "start_time": "2021-10-15T09:00:53.789Z"
   },
   {
    "duration": 671,
    "start_time": "2021-10-15T09:01:00.407Z"
   },
   {
    "duration": 65,
    "start_time": "2021-10-15T09:01:01.080Z"
   },
   {
    "duration": 7,
    "start_time": "2021-10-15T09:01:01.147Z"
   },
   {
    "duration": 13,
    "start_time": "2021-10-15T09:01:01.156Z"
   },
   {
    "duration": 7,
    "start_time": "2021-10-15T09:01:01.171Z"
   },
   {
    "duration": 1787,
    "start_time": "2021-10-15T09:01:01.179Z"
   },
   {
    "duration": -1026,
    "start_time": "2021-10-15T09:01:03.994Z"
   },
   {
    "duration": 1493,
    "start_time": "2021-10-15T09:05:30.729Z"
   },
   {
    "duration": 1448,
    "start_time": "2021-10-15T09:06:09.436Z"
   },
   {
    "duration": 683,
    "start_time": "2021-10-15T09:06:22.492Z"
   },
   {
    "duration": 75,
    "start_time": "2021-10-15T09:06:23.177Z"
   },
   {
    "duration": 8,
    "start_time": "2021-10-15T09:06:23.254Z"
   },
   {
    "duration": 28,
    "start_time": "2021-10-15T09:06:23.263Z"
   },
   {
    "duration": 15,
    "start_time": "2021-10-15T09:06:23.293Z"
   },
   {
    "duration": 1509,
    "start_time": "2021-10-15T09:06:23.309Z"
   },
   {
    "duration": 9,
    "start_time": "2021-10-15T09:06:24.820Z"
   },
   {
    "duration": 1559,
    "start_time": "2021-10-15T09:06:50.449Z"
   },
   {
    "duration": 1448,
    "start_time": "2021-10-15T09:07:32.750Z"
   },
   {
    "duration": 1449,
    "start_time": "2021-10-15T09:07:45.122Z"
   },
   {
    "duration": 8,
    "start_time": "2021-10-15T09:08:21.096Z"
   },
   {
    "duration": 96,
    "start_time": "2021-10-15T09:16:39.196Z"
   },
   {
    "duration": 85,
    "start_time": "2021-10-15T09:16:49.010Z"
   },
   {
    "duration": 83,
    "start_time": "2021-10-15T09:17:08.820Z"
   },
   {
    "duration": 85,
    "start_time": "2021-10-15T09:17:20.058Z"
   },
   {
    "duration": 84,
    "start_time": "2021-10-15T09:17:44.701Z"
   },
   {
    "duration": 85,
    "start_time": "2021-10-15T09:18:45.071Z"
   },
   {
    "duration": 379,
    "start_time": "2021-10-15T09:19:35.712Z"
   },
   {
    "duration": 346,
    "start_time": "2021-10-15T09:19:45.081Z"
   },
   {
    "duration": 86,
    "start_time": "2021-10-15T09:19:50.642Z"
   },
   {
    "duration": 89,
    "start_time": "2021-10-15T09:20:27.174Z"
   },
   {
    "duration": 86,
    "start_time": "2021-10-15T09:20:56.002Z"
   },
   {
    "duration": 85,
    "start_time": "2021-10-15T09:21:25.588Z"
   },
   {
    "duration": 86,
    "start_time": "2021-10-15T09:26:25.581Z"
   },
   {
    "duration": 1439,
    "start_time": "2021-10-15T09:32:50.440Z"
   },
   {
    "duration": 702,
    "start_time": "2021-10-15T09:33:01.552Z"
   },
   {
    "duration": 72,
    "start_time": "2021-10-15T09:33:02.256Z"
   },
   {
    "duration": 17,
    "start_time": "2021-10-15T09:33:02.329Z"
   },
   {
    "duration": 11,
    "start_time": "2021-10-15T09:33:02.347Z"
   },
   {
    "duration": 10,
    "start_time": "2021-10-15T09:33:02.360Z"
   },
   {
    "duration": 1443,
    "start_time": "2021-10-15T09:33:02.372Z"
   },
   {
    "duration": 11,
    "start_time": "2021-10-15T09:33:03.818Z"
   },
   {
    "duration": 86,
    "start_time": "2021-10-15T09:33:03.844Z"
   },
   {
    "duration": 369,
    "start_time": "2021-10-15T09:33:50.095Z"
   },
   {
    "duration": 82,
    "start_time": "2021-10-15T09:33:58.595Z"
   },
   {
    "duration": 93,
    "start_time": "2021-10-15T09:34:21.385Z"
   },
   {
    "duration": 90,
    "start_time": "2021-10-15T09:35:08.051Z"
   },
   {
    "duration": 86,
    "start_time": "2021-10-15T09:35:35.504Z"
   },
   {
    "duration": 80,
    "start_time": "2021-10-15T09:38:50.901Z"
   },
   {
    "duration": 84,
    "start_time": "2021-10-15T09:38:58.042Z"
   },
   {
    "duration": 89,
    "start_time": "2021-10-15T09:39:04.398Z"
   },
   {
    "duration": 643,
    "start_time": "2021-10-15T09:39:18.879Z"
   },
   {
    "duration": 64,
    "start_time": "2021-10-15T09:39:19.523Z"
   },
   {
    "duration": 7,
    "start_time": "2021-10-15T09:39:19.589Z"
   },
   {
    "duration": 10,
    "start_time": "2021-10-15T09:39:19.598Z"
   },
   {
    "duration": 4,
    "start_time": "2021-10-15T09:39:19.610Z"
   },
   {
    "duration": 1450,
    "start_time": "2021-10-15T09:39:19.616Z"
   },
   {
    "duration": 7,
    "start_time": "2021-10-15T09:39:21.068Z"
   },
   {
    "duration": 100,
    "start_time": "2021-10-15T09:39:21.077Z"
   },
   {
    "duration": 92,
    "start_time": "2021-10-15T09:39:39.608Z"
   },
   {
    "duration": 88,
    "start_time": "2021-10-15T09:39:47.588Z"
   },
   {
    "duration": 96,
    "start_time": "2021-10-15T09:39:55.333Z"
   },
   {
    "duration": 711,
    "start_time": "2021-10-15T09:40:00.670Z"
   },
   {
    "duration": 79,
    "start_time": "2021-10-15T09:40:01.383Z"
   },
   {
    "duration": 10,
    "start_time": "2021-10-15T09:40:01.468Z"
   },
   {
    "duration": 18,
    "start_time": "2021-10-15T09:40:01.480Z"
   },
   {
    "duration": 28,
    "start_time": "2021-10-15T09:40:01.500Z"
   },
   {
    "duration": 1674,
    "start_time": "2021-10-15T09:40:01.530Z"
   },
   {
    "duration": 8,
    "start_time": "2021-10-15T09:40:03.206Z"
   },
   {
    "duration": 113,
    "start_time": "2021-10-15T09:40:03.216Z"
   },
   {
    "duration": 97,
    "start_time": "2021-10-15T09:40:10.096Z"
   },
   {
    "duration": 692,
    "start_time": "2021-10-15T09:40:16.307Z"
   },
   {
    "duration": 76,
    "start_time": "2021-10-15T09:40:17.001Z"
   },
   {
    "duration": 8,
    "start_time": "2021-10-15T09:40:17.079Z"
   },
   {
    "duration": 12,
    "start_time": "2021-10-15T09:40:17.089Z"
   },
   {
    "duration": 5,
    "start_time": "2021-10-15T09:40:17.103Z"
   },
   {
    "duration": 1709,
    "start_time": "2021-10-15T09:40:17.110Z"
   },
   {
    "duration": 7,
    "start_time": "2021-10-15T09:40:18.821Z"
   },
   {
    "duration": 116,
    "start_time": "2021-10-15T09:40:18.830Z"
   },
   {
    "duration": 101,
    "start_time": "2021-10-15T09:40:45.307Z"
   },
   {
    "duration": 102,
    "start_time": "2021-10-15T09:40:49.680Z"
   },
   {
    "duration": 667,
    "start_time": "2021-10-15T09:41:09.715Z"
   },
   {
    "duration": 75,
    "start_time": "2021-10-15T09:41:10.384Z"
   },
   {
    "duration": 13,
    "start_time": "2021-10-15T09:41:10.462Z"
   },
   {
    "duration": 11,
    "start_time": "2021-10-15T09:41:10.477Z"
   },
   {
    "duration": 5,
    "start_time": "2021-10-15T09:41:10.489Z"
   },
   {
    "duration": 1613,
    "start_time": "2021-10-15T09:41:10.495Z"
   },
   {
    "duration": 8,
    "start_time": "2021-10-15T09:41:12.110Z"
   },
   {
    "duration": 128,
    "start_time": "2021-10-15T09:41:12.120Z"
   },
   {
    "duration": 101,
    "start_time": "2021-10-15T09:41:22.728Z"
   },
   {
    "duration": 90,
    "start_time": "2021-10-15T09:41:51.148Z"
   },
   {
    "duration": 402,
    "start_time": "2021-10-15T09:42:37.277Z"
   },
   {
    "duration": 107,
    "start_time": "2021-10-15T09:42:54.413Z"
   },
   {
    "duration": 1910,
    "start_time": "2021-10-15T09:42:58.770Z"
   },
   {
    "duration": 111,
    "start_time": "2021-10-15T09:43:04.799Z"
   },
   {
    "duration": 105,
    "start_time": "2021-10-15T09:43:40.306Z"
   },
   {
    "duration": 100,
    "start_time": "2021-10-15T09:44:27.613Z"
   },
   {
    "duration": 103,
    "start_time": "2021-10-15T09:44:36.913Z"
   },
   {
    "duration": 111,
    "start_time": "2021-10-15T09:45:07.705Z"
   },
   {
    "duration": 110,
    "start_time": "2021-10-15T09:45:29.911Z"
   },
   {
    "duration": 370,
    "start_time": "2021-10-15T09:45:39.340Z"
   },
   {
    "duration": 367,
    "start_time": "2021-10-15T09:45:45.130Z"
   },
   {
    "duration": 123,
    "start_time": "2021-10-15T09:45:57.212Z"
   },
   {
    "duration": 373,
    "start_time": "2021-10-15T09:46:04.405Z"
   },
   {
    "duration": 129,
    "start_time": "2021-10-15T09:46:12.058Z"
   },
   {
    "duration": 114,
    "start_time": "2021-10-15T09:46:16.765Z"
   },
   {
    "duration": 788,
    "start_time": "2021-10-15T09:48:33.656Z"
   },
   {
    "duration": 93,
    "start_time": "2021-10-15T09:48:44.065Z"
   },
   {
    "duration": 371,
    "start_time": "2021-10-15T09:49:44.357Z"
   },
   {
    "duration": 96,
    "start_time": "2021-10-15T09:51:07.641Z"
   },
   {
    "duration": 667,
    "start_time": "2021-10-15T09:52:32.410Z"
   },
   {
    "duration": 79,
    "start_time": "2021-10-15T09:52:33.079Z"
   },
   {
    "duration": 8,
    "start_time": "2021-10-15T09:52:33.161Z"
   },
   {
    "duration": 10,
    "start_time": "2021-10-15T09:52:33.171Z"
   },
   {
    "duration": 4,
    "start_time": "2021-10-15T09:52:33.183Z"
   },
   {
    "duration": 1605,
    "start_time": "2021-10-15T09:52:33.189Z"
   },
   {
    "duration": 8,
    "start_time": "2021-10-15T09:52:34.795Z"
   },
   {
    "duration": 115,
    "start_time": "2021-10-15T09:52:34.805Z"
   },
   {
    "duration": 9,
    "start_time": "2021-10-15T09:52:36.296Z"
   },
   {
    "duration": 385,
    "start_time": "2021-10-15T09:55:59.977Z"
   },
   {
    "duration": 7,
    "start_time": "2021-10-15T09:56:25.828Z"
   },
   {
    "duration": 260,
    "start_time": "2021-10-15T09:56:50.874Z"
   },
   {
    "duration": 35,
    "start_time": "2021-10-15T09:57:02.557Z"
   },
   {
    "duration": 14,
    "start_time": "2021-10-15T09:57:33.286Z"
   },
   {
    "duration": 713,
    "start_time": "2021-10-15T09:57:39.737Z"
   },
   {
    "duration": 68,
    "start_time": "2021-10-15T09:57:40.454Z"
   },
   {
    "duration": 8,
    "start_time": "2021-10-15T09:57:40.524Z"
   },
   {
    "duration": 19,
    "start_time": "2021-10-15T09:57:40.545Z"
   },
   {
    "duration": 7,
    "start_time": "2021-10-15T09:57:40.566Z"
   },
   {
    "duration": 1559,
    "start_time": "2021-10-15T09:57:40.574Z"
   },
   {
    "duration": 28,
    "start_time": "2021-10-15T09:57:42.135Z"
   },
   {
    "duration": 107,
    "start_time": "2021-10-15T09:57:42.165Z"
   },
   {
    "duration": 31,
    "start_time": "2021-10-15T09:57:42.274Z"
   },
   {
    "duration": 314,
    "start_time": "2021-10-15T09:58:16.696Z"
   },
   {
    "duration": 26,
    "start_time": "2021-10-15T09:58:30.257Z"
   },
   {
    "duration": 12,
    "start_time": "2021-10-15T09:58:41.250Z"
   },
   {
    "duration": 5,
    "start_time": "2021-10-15T09:58:59.277Z"
   },
   {
    "duration": 705,
    "start_time": "2021-10-15T09:59:06.622Z"
   },
   {
    "duration": 76,
    "start_time": "2021-10-15T09:59:07.329Z"
   },
   {
    "duration": 8,
    "start_time": "2021-10-15T09:59:07.408Z"
   },
   {
    "duration": 55,
    "start_time": "2021-10-15T09:59:07.418Z"
   },
   {
    "duration": 35,
    "start_time": "2021-10-15T09:59:07.474Z"
   },
   {
    "duration": 1592,
    "start_time": "2021-10-15T09:59:07.510Z"
   },
   {
    "duration": 9,
    "start_time": "2021-10-15T09:59:09.104Z"
   },
   {
    "duration": 111,
    "start_time": "2021-10-15T09:59:09.115Z"
   },
   {
    "duration": 4,
    "start_time": "2021-10-15T09:59:09.228Z"
   },
   {
    "duration": 1560,
    "start_time": "2021-10-15T09:59:28.179Z"
   },
   {
    "duration": 752,
    "start_time": "2021-10-15T09:59:35.677Z"
   },
   {
    "duration": 72,
    "start_time": "2021-10-15T09:59:36.431Z"
   },
   {
    "duration": 9,
    "start_time": "2021-10-15T09:59:36.506Z"
   },
   {
    "duration": 16,
    "start_time": "2021-10-15T09:59:36.517Z"
   },
   {
    "duration": 15,
    "start_time": "2021-10-15T09:59:36.535Z"
   },
   {
    "duration": 1486,
    "start_time": "2021-10-15T09:59:36.552Z"
   },
   {
    "duration": 13,
    "start_time": "2021-10-15T09:59:38.044Z"
   },
   {
    "duration": 108,
    "start_time": "2021-10-15T09:59:38.059Z"
   },
   {
    "duration": 5,
    "start_time": "2021-10-15T09:59:38.169Z"
   },
   {
    "duration": 8,
    "start_time": "2021-10-15T10:26:50.287Z"
   },
   {
    "duration": 6,
    "start_time": "2021-10-15T10:29:44.019Z"
   },
   {
    "duration": 29,
    "start_time": "2021-10-15T10:49:43.911Z"
   },
   {
    "duration": 91,
    "start_time": "2021-10-15T10:50:02.854Z"
   },
   {
    "duration": 688,
    "start_time": "2021-10-15T10:50:37.318Z"
   },
   {
    "duration": 68,
    "start_time": "2021-10-15T10:50:38.008Z"
   },
   {
    "duration": 7,
    "start_time": "2021-10-15T10:50:38.078Z"
   },
   {
    "duration": 48,
    "start_time": "2021-10-15T10:50:38.087Z"
   },
   {
    "duration": 5,
    "start_time": "2021-10-15T10:50:38.136Z"
   },
   {
    "duration": 1411,
    "start_time": "2021-10-15T10:50:38.143Z"
   },
   {
    "duration": 9,
    "start_time": "2021-10-15T10:50:39.556Z"
   },
   {
    "duration": 112,
    "start_time": "2021-10-15T10:50:39.567Z"
   },
   {
    "duration": 6,
    "start_time": "2021-10-15T10:50:39.682Z"
   },
   {
    "duration": 124,
    "start_time": "2021-10-15T10:50:39.690Z"
   },
   {
    "duration": 2,
    "start_time": "2021-10-15T10:50:59.545Z"
   },
   {
    "duration": 9,
    "start_time": "2021-10-15T10:51:14.819Z"
   },
   {
    "duration": 48,
    "start_time": "2021-10-15T10:51:30.453Z"
   },
   {
    "duration": 33,
    "start_time": "2021-10-15T10:52:49.005Z"
   },
   {
    "duration": 53,
    "start_time": "2021-10-15T10:56:43.594Z"
   },
   {
    "duration": 85,
    "start_time": "2021-10-15T10:57:47.619Z"
   },
   {
    "duration": 53,
    "start_time": "2021-10-15T10:58:16.801Z"
   },
   {
    "duration": 6,
    "start_time": "2021-10-15T10:58:17.996Z"
   },
   {
    "duration": 720,
    "start_time": "2021-10-15T10:58:23.611Z"
   },
   {
    "duration": 68,
    "start_time": "2021-10-15T10:58:24.333Z"
   },
   {
    "duration": 8,
    "start_time": "2021-10-15T10:58:24.406Z"
   },
   {
    "duration": 70,
    "start_time": "2021-10-15T10:58:24.416Z"
   },
   {
    "duration": 6,
    "start_time": "2021-10-15T10:58:24.487Z"
   },
   {
    "duration": 1369,
    "start_time": "2021-10-15T10:58:24.494Z"
   },
   {
    "duration": 9,
    "start_time": "2021-10-15T10:58:25.864Z"
   },
   {
    "duration": 108,
    "start_time": "2021-10-15T10:58:25.875Z"
   },
   {
    "duration": 5,
    "start_time": "2021-10-15T10:58:25.985Z"
   },
   {
    "duration": 4,
    "start_time": "2021-10-15T10:58:25.992Z"
   },
   {
    "duration": 66,
    "start_time": "2021-10-15T10:59:15.799Z"
   },
   {
    "duration": 71,
    "start_time": "2021-10-15T10:59:41.426Z"
   },
   {
    "duration": 91,
    "start_time": "2021-10-15T11:00:20.431Z"
   },
   {
    "duration": 76,
    "start_time": "2021-10-15T11:01:06.173Z"
   },
   {
    "duration": 86,
    "start_time": "2021-10-15T11:01:30.566Z"
   },
   {
    "duration": 96,
    "start_time": "2021-10-15T11:02:14.654Z"
   },
   {
    "duration": 95,
    "start_time": "2021-10-15T11:02:22.628Z"
   },
   {
    "duration": 85,
    "start_time": "2021-10-15T11:03:07.499Z"
   },
   {
    "duration": 87,
    "start_time": "2021-10-15T11:03:22.237Z"
   },
   {
    "duration": 87,
    "start_time": "2021-10-15T11:03:26.498Z"
   },
   {
    "duration": 89,
    "start_time": "2021-10-15T11:03:30.902Z"
   },
   {
    "duration": 702,
    "start_time": "2021-10-15T11:06:02.069Z"
   },
   {
    "duration": 77,
    "start_time": "2021-10-15T11:06:02.773Z"
   },
   {
    "duration": 9,
    "start_time": "2021-10-15T11:06:02.852Z"
   },
   {
    "duration": 32,
    "start_time": "2021-10-15T11:06:02.863Z"
   },
   {
    "duration": 6,
    "start_time": "2021-10-15T11:06:02.896Z"
   },
   {
    "duration": 1556,
    "start_time": "2021-10-15T11:06:02.904Z"
   },
   {
    "duration": 13,
    "start_time": "2021-10-15T11:06:04.463Z"
   },
   {
    "duration": 115,
    "start_time": "2021-10-15T11:06:04.477Z"
   },
   {
    "duration": 5,
    "start_time": "2021-10-15T11:06:04.594Z"
   },
   {
    "duration": 20,
    "start_time": "2021-10-15T11:06:04.600Z"
   },
   {
    "duration": 67,
    "start_time": "2021-10-15T11:06:28.995Z"
   },
   {
    "duration": 57,
    "start_time": "2021-10-15T11:06:38.671Z"
   },
   {
    "duration": 38,
    "start_time": "2021-10-15T11:09:30.828Z"
   },
   {
    "duration": 125,
    "start_time": "2021-10-15T11:11:47.145Z"
   },
   {
    "duration": 131,
    "start_time": "2021-10-15T11:12:04.144Z"
   },
   {
    "duration": 127,
    "start_time": "2021-10-15T11:12:30.363Z"
   },
   {
    "duration": 139,
    "start_time": "2021-10-15T11:13:17.567Z"
   },
   {
    "duration": 96,
    "start_time": "2021-10-15T11:13:54.621Z"
   },
   {
    "duration": 89,
    "start_time": "2021-10-15T11:14:02.652Z"
   },
   {
    "duration": 93,
    "start_time": "2021-10-15T11:14:58.268Z"
   },
   {
    "duration": 94,
    "start_time": "2021-10-15T11:15:09.639Z"
   },
   {
    "duration": 83,
    "start_time": "2021-10-15T11:19:40.851Z"
   },
   {
    "duration": 82,
    "start_time": "2021-10-15T11:19:56.294Z"
   },
   {
    "duration": 678,
    "start_time": "2021-10-15T11:20:03.172Z"
   },
   {
    "duration": 68,
    "start_time": "2021-10-15T11:20:03.852Z"
   },
   {
    "duration": 27,
    "start_time": "2021-10-15T11:20:03.926Z"
   },
   {
    "duration": 101,
    "start_time": "2021-10-15T11:20:03.955Z"
   },
   {
    "duration": 6,
    "start_time": "2021-10-15T11:20:04.058Z"
   },
   {
    "duration": 1445,
    "start_time": "2021-10-15T11:20:04.066Z"
   },
   {
    "duration": 10,
    "start_time": "2021-10-15T11:20:05.513Z"
   },
   {
    "duration": 111,
    "start_time": "2021-10-15T11:20:05.526Z"
   },
   {
    "duration": 6,
    "start_time": "2021-10-15T11:20:05.645Z"
   },
   {
    "duration": 10,
    "start_time": "2021-10-15T11:20:05.653Z"
   },
   {
    "duration": 161,
    "start_time": "2021-10-15T11:23:53.929Z"
   },
   {
    "duration": 326,
    "start_time": "2021-10-15T11:24:00.749Z"
   },
   {
    "duration": 1223,
    "start_time": "2021-10-15T11:28:52.442Z"
   },
   {
    "duration": 1324,
    "start_time": "2021-10-15T11:31:25.006Z"
   },
   {
    "duration": 1217,
    "start_time": "2021-10-15T11:31:30.128Z"
   },
   {
    "duration": 1272,
    "start_time": "2021-10-15T11:32:03.781Z"
   },
   {
    "duration": 1201,
    "start_time": "2021-10-15T11:32:34.812Z"
   },
   {
    "duration": 10,
    "start_time": "2021-10-15T11:32:41.637Z"
   },
   {
    "duration": 1329,
    "start_time": "2021-10-15T11:40:40.516Z"
   },
   {
    "duration": 1254,
    "start_time": "2021-10-15T11:44:50.726Z"
   },
   {
    "duration": 1307,
    "start_time": "2021-10-15T11:45:07.447Z"
   },
   {
    "duration": 1246,
    "start_time": "2021-10-15T11:47:14.417Z"
   },
   {
    "duration": 92,
    "start_time": "2021-10-15T11:48:31.892Z"
   },
   {
    "duration": 90,
    "start_time": "2021-10-15T11:48:43.576Z"
   },
   {
    "duration": 80,
    "start_time": "2021-10-15T11:49:37.708Z"
   },
   {
    "duration": 81,
    "start_time": "2021-10-15T11:49:45.069Z"
   },
   {
    "duration": 79,
    "start_time": "2021-10-15T11:50:14.861Z"
   },
   {
    "duration": 1717,
    "start_time": "2021-10-15T11:51:00.675Z"
   },
   {
    "duration": 1226,
    "start_time": "2021-10-15T11:51:10.221Z"
   },
   {
    "duration": 8129,
    "start_time": "2021-10-15T12:30:51.708Z"
   },
   {
    "duration": 673,
    "start_time": "2021-10-15T12:31:09.557Z"
   },
   {
    "duration": 64,
    "start_time": "2021-10-15T12:31:10.232Z"
   },
   {
    "duration": 8,
    "start_time": "2021-10-15T12:31:10.297Z"
   },
   {
    "duration": 93,
    "start_time": "2021-10-15T12:31:10.307Z"
   },
   {
    "duration": 5,
    "start_time": "2021-10-15T12:31:10.401Z"
   },
   {
    "duration": 1300,
    "start_time": "2021-10-15T12:31:10.408Z"
   },
   {
    "duration": 10,
    "start_time": "2021-10-15T12:31:11.709Z"
   },
   {
    "duration": 105,
    "start_time": "2021-10-15T12:31:11.720Z"
   },
   {
    "duration": 5,
    "start_time": "2021-10-15T12:31:11.827Z"
   },
   {
    "duration": 1256,
    "start_time": "2021-10-15T12:31:11.834Z"
   },
   {
    "duration": 7958,
    "start_time": "2021-10-15T12:31:13.092Z"
   },
   {
    "duration": 8904,
    "start_time": "2021-10-15T12:31:36.949Z"
   },
   {
    "duration": 1590,
    "start_time": "2021-10-15T12:31:53.277Z"
   },
   {
    "duration": 1270,
    "start_time": "2021-10-15T12:32:02.665Z"
   },
   {
    "duration": 1305,
    "start_time": "2021-10-15T12:32:42.845Z"
   },
   {
    "duration": 646,
    "start_time": "2021-10-15T12:34:33.680Z"
   },
   {
    "duration": 69,
    "start_time": "2021-10-15T12:34:34.328Z"
   },
   {
    "duration": 8,
    "start_time": "2021-10-15T12:34:34.399Z"
   },
   {
    "duration": 92,
    "start_time": "2021-10-15T12:34:34.409Z"
   },
   {
    "duration": 5,
    "start_time": "2021-10-15T12:34:34.502Z"
   },
   {
    "duration": 1292,
    "start_time": "2021-10-15T12:34:34.508Z"
   },
   {
    "duration": 8,
    "start_time": "2021-10-15T12:34:35.802Z"
   },
   {
    "duration": 102,
    "start_time": "2021-10-15T12:34:35.812Z"
   },
   {
    "duration": 5,
    "start_time": "2021-10-15T12:34:35.916Z"
   },
   {
    "duration": 1263,
    "start_time": "2021-10-15T12:34:35.922Z"
   },
   {
    "duration": 43,
    "start_time": "2021-10-15T12:34:37.187Z"
   },
   {
    "duration": 312,
    "start_time": "2021-10-15T12:35:05.093Z"
   },
   {
    "duration": 297,
    "start_time": "2021-10-15T12:35:16.563Z"
   },
   {
    "duration": 41,
    "start_time": "2021-10-15T12:35:23.755Z"
   },
   {
    "duration": 41,
    "start_time": "2021-10-15T12:35:46.719Z"
   },
   {
    "duration": 41,
    "start_time": "2021-10-15T12:35:55.321Z"
   },
   {
    "duration": 1324,
    "start_time": "2021-10-15T12:36:32.099Z"
   },
   {
    "duration": 352,
    "start_time": "2021-10-15T12:39:45.344Z"
   },
   {
    "duration": 240,
    "start_time": "2021-10-15T12:40:01.085Z"
   },
   {
    "duration": 756,
    "start_time": "2021-10-15T12:43:18.916Z"
   },
   {
    "duration": 71,
    "start_time": "2021-10-15T12:43:19.674Z"
   },
   {
    "duration": 9,
    "start_time": "2021-10-15T12:43:19.747Z"
   },
   {
    "duration": 90,
    "start_time": "2021-10-15T12:43:19.758Z"
   },
   {
    "duration": 5,
    "start_time": "2021-10-15T12:43:19.850Z"
   },
   {
    "duration": 1364,
    "start_time": "2021-10-15T12:43:19.857Z"
   },
   {
    "duration": 8,
    "start_time": "2021-10-15T12:43:21.223Z"
   },
   {
    "duration": 97,
    "start_time": "2021-10-15T12:43:21.232Z"
   },
   {
    "duration": 15,
    "start_time": "2021-10-15T12:43:21.332Z"
   },
   {
    "duration": 1313,
    "start_time": "2021-10-15T12:43:21.349Z"
   },
   {
    "duration": 7,
    "start_time": "2021-10-15T12:43:22.663Z"
   },
   {
    "duration": 1393,
    "start_time": "2021-10-15T12:43:22.672Z"
   },
   {
    "duration": 652,
    "start_time": "2021-10-15T12:45:49.098Z"
   },
   {
    "duration": 67,
    "start_time": "2021-10-15T12:45:49.752Z"
   },
   {
    "duration": 8,
    "start_time": "2021-10-15T12:45:49.821Z"
   },
   {
    "duration": 80,
    "start_time": "2021-10-15T12:45:49.843Z"
   },
   {
    "duration": 4,
    "start_time": "2021-10-15T12:45:49.925Z"
   },
   {
    "duration": 1516,
    "start_time": "2021-10-15T12:45:49.944Z"
   },
   {
    "duration": 10,
    "start_time": "2021-10-15T12:45:51.462Z"
   },
   {
    "duration": 114,
    "start_time": "2021-10-15T12:45:51.474Z"
   },
   {
    "duration": 6,
    "start_time": "2021-10-15T12:45:51.590Z"
   },
   {
    "duration": 1337,
    "start_time": "2021-10-15T12:45:51.597Z"
   },
   {
    "duration": 11,
    "start_time": "2021-10-15T12:45:52.936Z"
   },
   {
    "duration": 13,
    "start_time": "2021-10-15T12:45:52.948Z"
   },
   {
    "duration": 1323,
    "start_time": "2021-10-15T12:45:52.963Z"
   },
   {
    "duration": 10,
    "start_time": "2021-10-15T12:46:26.161Z"
   },
   {
    "duration": 83,
    "start_time": "2021-10-15T12:49:14.755Z"
   },
   {
    "duration": 317,
    "start_time": "2021-10-15T12:49:28.016Z"
   },
   {
    "duration": 326,
    "start_time": "2021-10-15T12:50:21.861Z"
   },
   {
    "duration": 83,
    "start_time": "2021-10-15T12:50:56.282Z"
   },
   {
    "duration": 211,
    "start_time": "2021-10-15T12:51:09.126Z"
   },
   {
    "duration": 134,
    "start_time": "2021-10-15T12:51:48.575Z"
   },
   {
    "duration": 82,
    "start_time": "2021-10-15T12:52:01.676Z"
   },
   {
    "duration": 49,
    "start_time": "2021-10-15T12:52:13.205Z"
   },
   {
    "duration": 50,
    "start_time": "2021-10-15T12:52:39.239Z"
   },
   {
    "duration": 45,
    "start_time": "2021-10-15T12:53:07.680Z"
   },
   {
    "duration": 669,
    "start_time": "2021-10-15T12:53:40.677Z"
   },
   {
    "duration": 64,
    "start_time": "2021-10-15T12:53:41.348Z"
   },
   {
    "duration": 29,
    "start_time": "2021-10-15T12:53:41.416Z"
   },
   {
    "duration": 79,
    "start_time": "2021-10-15T12:53:41.446Z"
   },
   {
    "duration": 18,
    "start_time": "2021-10-15T12:53:41.526Z"
   },
   {
    "duration": 1348,
    "start_time": "2021-10-15T12:53:41.546Z"
   },
   {
    "duration": 10,
    "start_time": "2021-10-15T12:53:42.896Z"
   },
   {
    "duration": 118,
    "start_time": "2021-10-15T12:53:42.909Z"
   },
   {
    "duration": 5,
    "start_time": "2021-10-15T12:53:43.028Z"
   },
   {
    "duration": 1382,
    "start_time": "2021-10-15T12:53:43.034Z"
   },
   {
    "duration": 5,
    "start_time": "2021-10-15T12:53:44.418Z"
   },
   {
    "duration": 21,
    "start_time": "2021-10-15T12:53:44.424Z"
   },
   {
    "duration": 41,
    "start_time": "2021-10-15T12:53:44.447Z"
   },
   {
    "duration": 49,
    "start_time": "2021-10-15T12:53:59.620Z"
   },
   {
    "duration": 35,
    "start_time": "2021-10-15T12:54:18.576Z"
   },
   {
    "duration": 55,
    "start_time": "2021-10-15T12:54:32.127Z"
   },
   {
    "duration": 38,
    "start_time": "2021-10-15T12:54:43.425Z"
   },
   {
    "duration": 94,
    "start_time": "2021-10-15T12:55:41.982Z"
   },
   {
    "duration": 82,
    "start_time": "2021-10-15T12:56:29.546Z"
   },
   {
    "duration": 315,
    "start_time": "2021-10-15T12:56:37.417Z"
   },
   {
    "duration": 248,
    "start_time": "2021-10-15T12:57:07.626Z"
   },
   {
    "duration": 256,
    "start_time": "2021-10-15T12:57:26.717Z"
   },
   {
    "duration": 11,
    "start_time": "2021-10-15T12:59:05.066Z"
   },
   {
    "duration": 284,
    "start_time": "2021-10-18T12:34:09.452Z"
   },
   {
    "duration": 858,
    "start_time": "2021-10-18T12:34:15.349Z"
   },
   {
    "duration": 78,
    "start_time": "2021-10-18T12:34:16.209Z"
   },
   {
    "duration": 9,
    "start_time": "2021-10-18T12:34:16.289Z"
   },
   {
    "duration": 104,
    "start_time": "2021-10-18T12:34:16.300Z"
   },
   {
    "duration": 5,
    "start_time": "2021-10-18T12:34:16.406Z"
   },
   {
    "duration": 1479,
    "start_time": "2021-10-18T12:34:16.413Z"
   },
   {
    "duration": 11,
    "start_time": "2021-10-18T12:34:17.894Z"
   },
   {
    "duration": 118,
    "start_time": "2021-10-18T12:34:17.908Z"
   },
   {
    "duration": 15,
    "start_time": "2021-10-18T12:34:18.029Z"
   },
   {
    "duration": 1414,
    "start_time": "2021-10-18T12:34:18.046Z"
   },
   {
    "duration": 7,
    "start_time": "2021-10-18T12:34:19.462Z"
   },
   {
    "duration": 7,
    "start_time": "2021-10-18T12:34:19.471Z"
   },
   {
    "duration": 479,
    "start_time": "2021-10-18T12:34:19.480Z"
   },
   {
    "duration": 9,
    "start_time": "2021-10-18T12:34:29.400Z"
   },
   {
    "duration": 94,
    "start_time": "2021-10-18T12:36:43.781Z"
   },
   {
    "duration": 691,
    "start_time": "2021-10-18T12:37:01.282Z"
   },
   {
    "duration": 76,
    "start_time": "2021-10-18T12:37:01.975Z"
   },
   {
    "duration": 9,
    "start_time": "2021-10-18T12:37:02.055Z"
   },
   {
    "duration": 101,
    "start_time": "2021-10-18T12:37:02.066Z"
   },
   {
    "duration": 5,
    "start_time": "2021-10-18T12:37:02.169Z"
   },
   {
    "duration": 1317,
    "start_time": "2021-10-18T12:37:02.176Z"
   },
   {
    "duration": 8,
    "start_time": "2021-10-18T12:37:03.495Z"
   },
   {
    "duration": 100,
    "start_time": "2021-10-18T12:37:03.505Z"
   },
   {
    "duration": 4,
    "start_time": "2021-10-18T12:37:03.607Z"
   },
   {
    "duration": 1307,
    "start_time": "2021-10-18T12:37:03.613Z"
   },
   {
    "duration": 6,
    "start_time": "2021-10-18T12:37:04.922Z"
   },
   {
    "duration": 24,
    "start_time": "2021-10-18T12:37:04.929Z"
   },
   {
    "duration": 363,
    "start_time": "2021-10-18T12:37:04.955Z"
   },
   {
    "duration": 25,
    "start_time": "2021-10-18T12:37:22.498Z"
   },
   {
    "duration": 253,
    "start_time": "2021-10-18T12:44:13.341Z"
   },
   {
    "duration": 11,
    "start_time": "2021-10-18T12:50:36.558Z"
   },
   {
    "duration": 353,
    "start_time": "2021-10-21T06:50:41.550Z"
   },
   {
    "duration": 691,
    "start_time": "2021-10-21T06:51:01.982Z"
   },
   {
    "duration": 62,
    "start_time": "2021-10-21T06:51:02.676Z"
   },
   {
    "duration": 9,
    "start_time": "2021-10-21T06:51:02.741Z"
   },
   {
    "duration": 93,
    "start_time": "2021-10-21T06:51:02.752Z"
   },
   {
    "duration": 6,
    "start_time": "2021-10-21T06:51:02.847Z"
   },
   {
    "duration": 1246,
    "start_time": "2021-10-21T06:51:02.855Z"
   },
   {
    "duration": 9,
    "start_time": "2021-10-21T06:51:04.103Z"
   },
   {
    "duration": 98,
    "start_time": "2021-10-21T06:51:04.114Z"
   },
   {
    "duration": 5,
    "start_time": "2021-10-21T06:51:04.215Z"
   },
   {
    "duration": 1222,
    "start_time": "2021-10-21T06:51:04.222Z"
   },
   {
    "duration": 6,
    "start_time": "2021-10-21T06:51:05.445Z"
   },
   {
    "duration": 38,
    "start_time": "2021-10-21T06:51:05.453Z"
   },
   {
    "duration": 2248,
    "start_time": "2021-10-21T06:51:05.493Z"
   },
   {
    "duration": 668,
    "start_time": "2021-10-21T06:56:11.023Z"
   },
   {
    "duration": 62,
    "start_time": "2021-10-21T06:56:11.693Z"
   },
   {
    "duration": 8,
    "start_time": "2021-10-21T06:56:11.757Z"
   },
   {
    "duration": 87,
    "start_time": "2021-10-21T06:56:11.766Z"
   },
   {
    "duration": 5,
    "start_time": "2021-10-21T06:56:11.854Z"
   },
   {
    "duration": 1265,
    "start_time": "2021-10-21T06:56:11.861Z"
   },
   {
    "duration": 8,
    "start_time": "2021-10-21T06:56:13.128Z"
   },
   {
    "duration": 101,
    "start_time": "2021-10-21T06:56:13.138Z"
   },
   {
    "duration": 5,
    "start_time": "2021-10-21T06:56:13.242Z"
   },
   {
    "duration": 1218,
    "start_time": "2021-10-21T06:56:13.248Z"
   },
   {
    "duration": 11,
    "start_time": "2021-10-21T06:56:14.468Z"
   },
   {
    "duration": 23,
    "start_time": "2021-10-21T06:56:14.481Z"
   },
   {
    "duration": 1474,
    "start_time": "2021-10-21T06:56:14.505Z"
   },
   {
    "duration": 1484,
    "start_time": "2021-10-21T07:05:35.393Z"
   },
   {
    "duration": 23,
    "start_time": "2021-10-21T07:06:13.260Z"
   },
   {
    "duration": 118,
    "start_time": "2021-10-21T07:15:43.538Z"
   },
   {
    "duration": 1478,
    "start_time": "2021-10-21T07:16:02.722Z"
   },
   {
    "duration": 1589,
    "start_time": "2021-10-21T07:16:57.404Z"
   },
   {
    "duration": 1964,
    "start_time": "2021-10-21T07:18:37.622Z"
   },
   {
    "duration": 1816,
    "start_time": "2021-10-21T07:19:05.266Z"
   },
   {
    "duration": 4198,
    "start_time": "2021-10-21T07:19:28.936Z"
   },
   {
    "duration": 5026,
    "start_time": "2021-10-21T07:19:58.379Z"
   },
   {
    "duration": 1504,
    "start_time": "2021-10-21T07:23:40.508Z"
   },
   {
    "duration": 847,
    "start_time": "2021-10-21T07:25:14.043Z"
   },
   {
    "duration": 68,
    "start_time": "2021-10-21T07:25:15.874Z"
   },
   {
    "duration": 9549,
    "start_time": "2021-10-21T07:25:49.365Z"
   },
   {
    "duration": 10015,
    "start_time": "2021-10-21T07:27:19.067Z"
   },
   {
    "duration": 54,
    "start_time": "2021-10-21T07:27:45.849Z"
   },
   {
    "duration": 1718,
    "start_time": "2021-10-21T07:30:50.616Z"
   },
   {
    "duration": 1676,
    "start_time": "2021-10-21T07:33:37.402Z"
   },
   {
    "duration": 682,
    "start_time": "2021-10-21T07:36:08.708Z"
   },
   {
    "duration": 54,
    "start_time": "2021-10-21T07:36:09.392Z"
   },
   {
    "duration": 8,
    "start_time": "2021-10-21T07:36:09.447Z"
   },
   {
    "duration": 94,
    "start_time": "2021-10-21T07:36:09.457Z"
   },
   {
    "duration": 5,
    "start_time": "2021-10-21T07:36:09.552Z"
   },
   {
    "duration": 1264,
    "start_time": "2021-10-21T07:36:09.559Z"
   },
   {
    "duration": 8,
    "start_time": "2021-10-21T07:36:10.825Z"
   },
   {
    "duration": 98,
    "start_time": "2021-10-21T07:36:10.835Z"
   },
   {
    "duration": 5,
    "start_time": "2021-10-21T07:36:10.934Z"
   },
   {
    "duration": 1236,
    "start_time": "2021-10-21T07:36:10.940Z"
   },
   {
    "duration": 5,
    "start_time": "2021-10-21T07:36:12.178Z"
   },
   {
    "duration": 34,
    "start_time": "2021-10-21T07:36:12.184Z"
   },
   {
    "duration": 1503,
    "start_time": "2021-10-21T07:36:12.220Z"
   },
   {
    "duration": 1494,
    "start_time": "2021-10-21T07:36:13.724Z"
   },
   {
    "duration": 1516,
    "start_time": "2021-10-21T07:36:34.201Z"
   },
   {
    "duration": 1566,
    "start_time": "2021-10-21T07:36:46.048Z"
   },
   {
    "duration": 729,
    "start_time": "2021-10-21T07:37:11.159Z"
   },
   {
    "duration": 53,
    "start_time": "2021-10-21T07:37:11.890Z"
   },
   {
    "duration": 7,
    "start_time": "2021-10-21T07:37:11.945Z"
   },
   {
    "duration": 95,
    "start_time": "2021-10-21T07:37:11.953Z"
   },
   {
    "duration": 5,
    "start_time": "2021-10-21T07:37:12.049Z"
   },
   {
    "duration": 1456,
    "start_time": "2021-10-21T07:37:12.055Z"
   },
   {
    "duration": 9,
    "start_time": "2021-10-21T07:37:13.512Z"
   },
   {
    "duration": 98,
    "start_time": "2021-10-21T07:37:13.522Z"
   },
   {
    "duration": 5,
    "start_time": "2021-10-21T07:37:13.622Z"
   },
   {
    "duration": 1241,
    "start_time": "2021-10-21T07:37:13.629Z"
   },
   {
    "duration": 7,
    "start_time": "2021-10-21T07:37:14.872Z"
   },
   {
    "duration": 26,
    "start_time": "2021-10-21T07:37:14.881Z"
   },
   {
    "duration": 1606,
    "start_time": "2021-10-21T07:37:14.908Z"
   },
   {
    "duration": 1493,
    "start_time": "2021-10-21T07:37:16.516Z"
   },
   {
    "duration": 9,
    "start_time": "2021-10-21T07:37:18.012Z"
   },
   {
    "duration": 704,
    "start_time": "2021-10-21T07:51:41.037Z"
   },
   {
    "duration": 60,
    "start_time": "2021-10-21T07:51:41.743Z"
   },
   {
    "duration": 7,
    "start_time": "2021-10-21T07:51:41.806Z"
   },
   {
    "duration": 89,
    "start_time": "2021-10-21T07:51:41.815Z"
   },
   {
    "duration": 5,
    "start_time": "2021-10-21T07:51:41.906Z"
   },
   {
    "duration": 1309,
    "start_time": "2021-10-21T07:51:41.912Z"
   },
   {
    "duration": 8,
    "start_time": "2021-10-21T07:51:43.223Z"
   },
   {
    "duration": 104,
    "start_time": "2021-10-21T07:51:43.233Z"
   },
   {
    "duration": 5,
    "start_time": "2021-10-21T07:51:43.340Z"
   },
   {
    "duration": 1294,
    "start_time": "2021-10-21T07:51:43.346Z"
   },
   {
    "duration": 6,
    "start_time": "2021-10-21T07:51:44.643Z"
   },
   {
    "duration": 41,
    "start_time": "2021-10-21T07:51:44.651Z"
   },
   {
    "duration": 1581,
    "start_time": "2021-10-21T07:51:44.694Z"
   },
   {
    "duration": 1780,
    "start_time": "2021-10-21T07:51:46.277Z"
   },
   {
    "duration": 5,
    "start_time": "2021-10-21T08:03:39.080Z"
   },
   {
    "duration": 8,
    "start_time": "2021-10-21T08:03:54.442Z"
   },
   {
    "duration": 749,
    "start_time": "2021-10-21T08:09:55.282Z"
   },
   {
    "duration": 71,
    "start_time": "2021-10-21T08:09:56.032Z"
   },
   {
    "duration": 8,
    "start_time": "2021-10-21T08:09:56.105Z"
   },
   {
    "duration": 93,
    "start_time": "2021-10-21T08:09:56.114Z"
   },
   {
    "duration": 6,
    "start_time": "2021-10-21T08:09:56.208Z"
   },
   {
    "duration": 1294,
    "start_time": "2021-10-21T08:09:56.215Z"
   },
   {
    "duration": 8,
    "start_time": "2021-10-21T08:09:57.511Z"
   },
   {
    "duration": 97,
    "start_time": "2021-10-21T08:09:57.521Z"
   },
   {
    "duration": 5,
    "start_time": "2021-10-21T08:09:57.620Z"
   },
   {
    "duration": 1229,
    "start_time": "2021-10-21T08:09:57.626Z"
   },
   {
    "duration": 5,
    "start_time": "2021-10-21T08:09:58.856Z"
   },
   {
    "duration": 32,
    "start_time": "2021-10-21T08:09:58.862Z"
   },
   {
    "duration": 1581,
    "start_time": "2021-10-21T08:09:58.896Z"
   },
   {
    "duration": 1540,
    "start_time": "2021-10-21T08:10:00.479Z"
   },
   {
    "duration": 6,
    "start_time": "2021-10-21T08:10:02.020Z"
   },
   {
    "duration": 8,
    "start_time": "2021-10-21T08:10:13.455Z"
   },
   {
    "duration": 8,
    "start_time": "2021-10-21T08:12:23.049Z"
   },
   {
    "duration": 8,
    "start_time": "2021-10-21T08:12:46.572Z"
   },
   {
    "duration": 432,
    "start_time": "2021-10-21T08:39:59.414Z"
   },
   {
    "duration": 397,
    "start_time": "2021-10-21T08:43:12.890Z"
   },
   {
    "duration": 368,
    "start_time": "2021-10-21T08:47:02.968Z"
   },
   {
    "duration": 9,
    "start_time": "2021-10-21T08:47:39.172Z"
   },
   {
    "duration": 36,
    "start_time": "2021-10-21T08:58:39.893Z"
   },
   {
    "duration": 42,
    "start_time": "2021-10-21T08:58:54.322Z"
   },
   {
    "duration": 10,
    "start_time": "2021-10-21T09:05:25.184Z"
   },
   {
    "duration": 25,
    "start_time": "2021-10-21T09:17:16.153Z"
   },
   {
    "duration": 10,
    "start_time": "2021-10-21T09:17:23.319Z"
   },
   {
    "duration": 24,
    "start_time": "2021-10-21T09:17:25.164Z"
   },
   {
    "duration": 40,
    "start_time": "2021-10-21T09:17:40.958Z"
   },
   {
    "duration": 912,
    "start_time": "2021-10-29T12:21:45.232Z"
   },
   {
    "duration": 122,
    "start_time": "2021-10-29T12:21:46.147Z"
   },
   {
    "duration": 28,
    "start_time": "2021-10-29T12:21:46.276Z"
   },
   {
    "duration": 159,
    "start_time": "2021-10-29T12:21:46.307Z"
   },
   {
    "duration": 7,
    "start_time": "2021-10-29T12:21:46.469Z"
   },
   {
    "duration": 2176,
    "start_time": "2021-10-29T12:21:46.479Z"
   },
   {
    "duration": 13,
    "start_time": "2021-10-29T12:21:48.657Z"
   },
   {
    "duration": 172,
    "start_time": "2021-10-29T12:21:48.674Z"
   },
   {
    "duration": 7,
    "start_time": "2021-10-29T12:21:48.849Z"
   },
   {
    "duration": 2207,
    "start_time": "2021-10-29T12:21:48.858Z"
   },
   {
    "duration": 7,
    "start_time": "2021-10-29T12:21:51.068Z"
   },
   {
    "duration": 79,
    "start_time": "2021-10-29T12:21:51.078Z"
   },
   {
    "duration": 3260,
    "start_time": "2021-10-29T12:21:51.160Z"
   },
   {
    "duration": 3353,
    "start_time": "2021-10-29T12:21:54.422Z"
   },
   {
    "duration": 7,
    "start_time": "2021-10-29T12:21:57.777Z"
   },
   {
    "duration": 59,
    "start_time": "2021-10-29T12:21:57.786Z"
   },
   {
    "duration": 118,
    "start_time": "2021-10-29T12:21:57.848Z"
   },
   {
    "duration": 515,
    "start_time": "2021-10-29T12:23:02.681Z"
   },
   {
    "duration": 15,
    "start_time": "2021-10-29T12:24:04.519Z"
   },
   {
    "duration": 14,
    "start_time": "2021-10-29T12:34:46.324Z"
   },
   {
    "duration": 517,
    "start_time": "2021-10-29T12:54:47.726Z"
   },
   {
    "duration": 408,
    "start_time": "2021-10-29T12:55:00.877Z"
   },
   {
    "duration": 158,
    "start_time": "2021-10-29T12:56:14.862Z"
   },
   {
    "duration": 104,
    "start_time": "2021-10-29T12:56:50.926Z"
   },
   {
    "duration": 7,
    "start_time": "2021-10-29T12:59:13.765Z"
   },
   {
    "duration": 9,
    "start_time": "2021-10-29T13:09:02.272Z"
   },
   {
    "duration": 53,
    "start_time": "2021-10-29T13:09:39.381Z"
   },
   {
    "duration": 10,
    "start_time": "2021-10-29T13:10:20.242Z"
   },
   {
    "duration": 9127,
    "start_time": "2021-10-29T13:10:50.031Z"
   },
   {
    "duration": 363,
    "start_time": "2021-10-29T13:12:18.901Z"
   },
   {
    "duration": 364,
    "start_time": "2021-10-29T13:12:42.252Z"
   },
   {
    "duration": 2505,
    "start_time": "2021-10-29T13:15:04.519Z"
   },
   {
    "duration": 10,
    "start_time": "2021-10-29T13:15:15.547Z"
   },
   {
    "duration": 4803,
    "start_time": "2021-10-29T13:15:27.673Z"
   },
   {
    "duration": 9848,
    "start_time": "2021-10-29T13:15:42.162Z"
   },
   {
    "duration": 56,
    "start_time": "2021-10-29T13:15:56.535Z"
   },
   {
    "duration": 9,
    "start_time": "2021-10-29T13:18:28.208Z"
   },
   {
    "duration": 8,
    "start_time": "2021-10-29T13:20:33.109Z"
   },
   {
    "duration": 1003,
    "start_time": "2021-10-29T13:20:53.950Z"
   },
   {
    "duration": 121,
    "start_time": "2021-10-29T13:20:54.956Z"
   },
   {
    "duration": 22,
    "start_time": "2021-10-29T13:20:55.080Z"
   },
   {
    "duration": 160,
    "start_time": "2021-10-29T13:20:55.105Z"
   },
   {
    "duration": 7,
    "start_time": "2021-10-29T13:20:55.268Z"
   },
   {
    "duration": 2620,
    "start_time": "2021-10-29T13:20:55.278Z"
   },
   {
    "duration": 17,
    "start_time": "2021-10-29T13:20:57.901Z"
   },
   {
    "duration": 180,
    "start_time": "2021-10-29T13:20:57.924Z"
   },
   {
    "duration": 8,
    "start_time": "2021-10-29T13:20:58.107Z"
   },
   {
    "duration": 2082,
    "start_time": "2021-10-29T13:20:58.117Z"
   },
   {
    "duration": 10,
    "start_time": "2021-10-29T13:21:00.202Z"
   },
   {
    "duration": 85,
    "start_time": "2021-10-29T13:21:00.215Z"
   },
   {
    "duration": 2644,
    "start_time": "2021-10-29T13:21:00.303Z"
   },
   {
    "duration": 3252,
    "start_time": "2021-10-29T13:21:02.950Z"
   },
   {
    "duration": 124,
    "start_time": "2021-10-29T13:21:06.204Z"
   },
   {
    "duration": 9,
    "start_time": "2021-10-29T13:21:06.330Z"
   },
   {
    "duration": 11,
    "start_time": "2021-10-29T13:21:06.342Z"
   },
   {
    "duration": 53,
    "start_time": "2021-10-29T13:21:06.355Z"
   },
   {
    "duration": 74,
    "start_time": "2021-10-29T13:21:06.410Z"
   },
   {
    "duration": 17,
    "start_time": "2021-10-29T13:22:11.682Z"
   },
   {
    "duration": 75,
    "start_time": "2021-10-29T13:25:59.885Z"
   },
   {
    "duration": 75,
    "start_time": "2021-10-29T13:26:16.808Z"
   },
   {
    "duration": 50,
    "start_time": "2021-10-29T13:36:42.013Z"
   },
   {
    "duration": 380,
    "start_time": "2021-10-30T18:07:25.304Z"
   },
   {
    "duration": 877,
    "start_time": "2021-10-30T18:07:32.070Z"
   },
   {
    "duration": 133,
    "start_time": "2021-10-30T18:07:32.950Z"
   },
   {
    "duration": 15,
    "start_time": "2021-10-30T18:07:33.087Z"
   },
   {
    "duration": 168,
    "start_time": "2021-10-30T18:07:33.122Z"
   },
   {
    "duration": 7,
    "start_time": "2021-10-30T18:07:33.293Z"
   },
   {
    "duration": 2107,
    "start_time": "2021-10-30T18:07:33.302Z"
   },
   {
    "duration": 17,
    "start_time": "2021-10-30T18:07:35.412Z"
   },
   {
    "duration": 178,
    "start_time": "2021-10-30T18:07:35.431Z"
   },
   {
    "duration": 15,
    "start_time": "2021-10-30T18:07:35.612Z"
   },
   {
    "duration": 1996,
    "start_time": "2021-10-30T18:07:35.633Z"
   },
   {
    "duration": 8,
    "start_time": "2021-10-30T18:07:37.633Z"
   },
   {
    "duration": 44,
    "start_time": "2021-10-30T18:07:37.643Z"
   },
   {
    "duration": 2602,
    "start_time": "2021-10-30T18:07:37.690Z"
   },
   {
    "duration": 2608,
    "start_time": "2021-10-30T18:07:40.295Z"
   },
   {
    "duration": 122,
    "start_time": "2021-10-30T18:07:42.905Z"
   },
   {
    "duration": 11,
    "start_time": "2021-10-30T18:07:43.030Z"
   },
   {
    "duration": 9,
    "start_time": "2021-10-30T18:07:43.045Z"
   },
   {
    "duration": 29,
    "start_time": "2021-10-30T18:07:43.056Z"
   },
   {
    "duration": 115,
    "start_time": "2021-10-30T18:07:43.087Z"
   },
   {
    "duration": 52,
    "start_time": "2021-10-30T18:07:43.205Z"
   },
   {
    "duration": 976,
    "start_time": "2021-10-30T18:12:40.667Z"
   },
   {
    "duration": 135,
    "start_time": "2021-10-30T18:12:41.646Z"
   },
   {
    "duration": 11,
    "start_time": "2021-10-30T18:12:41.784Z"
   },
   {
    "duration": 172,
    "start_time": "2021-10-30T18:12:41.798Z"
   },
   {
    "duration": 8,
    "start_time": "2021-10-30T18:12:41.973Z"
   },
   {
    "duration": 2291,
    "start_time": "2021-10-30T18:12:41.984Z"
   },
   {
    "duration": 15,
    "start_time": "2021-10-30T18:12:44.278Z"
   },
   {
    "duration": 191,
    "start_time": "2021-10-30T18:12:44.296Z"
   },
   {
    "duration": 8,
    "start_time": "2021-10-30T18:12:44.493Z"
   },
   {
    "duration": 2186,
    "start_time": "2021-10-30T18:12:44.523Z"
   },
   {
    "duration": 23,
    "start_time": "2021-10-30T18:12:46.711Z"
   },
   {
    "duration": 43,
    "start_time": "2021-10-30T18:12:46.738Z"
   },
   {
    "duration": 2947,
    "start_time": "2021-10-30T18:12:46.783Z"
   },
   {
    "duration": 2654,
    "start_time": "2021-10-30T18:12:49.733Z"
   },
   {
    "duration": 138,
    "start_time": "2021-10-30T18:12:52.390Z"
   },
   {
    "duration": 12,
    "start_time": "2021-10-30T18:12:52.531Z"
   },
   {
    "duration": 13,
    "start_time": "2021-10-30T18:12:52.545Z"
   },
   {
    "duration": 61,
    "start_time": "2021-10-30T18:12:52.561Z"
   },
   {
    "duration": 84,
    "start_time": "2021-10-30T18:12:52.625Z"
   },
   {
    "duration": 42,
    "start_time": "2021-10-30T18:12:52.722Z"
   },
   {
    "duration": 2675,
    "start_time": "2021-10-30T18:12:52.766Z"
   },
   {
    "duration": 2011,
    "start_time": "2021-10-30T18:13:04.578Z"
   },
   {
    "duration": 2161,
    "start_time": "2021-10-30T18:14:48.503Z"
   },
   {
    "duration": 2023,
    "start_time": "2021-10-30T18:17:26.877Z"
   },
   {
    "duration": 1208,
    "start_time": "2021-10-30T18:33:24.297Z"
   },
   {
    "duration": 2015,
    "start_time": "2021-10-30T18:33:34.195Z"
   },
   {
    "duration": 2149,
    "start_time": "2021-10-30T18:39:51.148Z"
   },
   {
    "duration": 2821,
    "start_time": "2021-10-30T18:42:29.995Z"
   },
   {
    "duration": 2341,
    "start_time": "2021-10-30T18:42:47.334Z"
   },
   {
    "duration": 2244,
    "start_time": "2021-10-30T18:43:14.578Z"
   },
   {
    "duration": 995,
    "start_time": "2021-10-30T18:45:35.327Z"
   },
   {
    "duration": 129,
    "start_time": "2021-10-30T18:45:36.326Z"
   },
   {
    "duration": 12,
    "start_time": "2021-10-30T18:45:36.460Z"
   },
   {
    "duration": 182,
    "start_time": "2021-10-30T18:45:36.474Z"
   },
   {
    "duration": 7,
    "start_time": "2021-10-30T18:45:36.659Z"
   },
   {
    "duration": 2246,
    "start_time": "2021-10-30T18:45:36.669Z"
   },
   {
    "duration": 18,
    "start_time": "2021-10-30T18:45:38.922Z"
   },
   {
    "duration": 196,
    "start_time": "2021-10-30T18:45:38.944Z"
   },
   {
    "duration": 9,
    "start_time": "2021-10-30T18:45:39.146Z"
   },
   {
    "duration": 2240,
    "start_time": "2021-10-30T18:45:39.159Z"
   },
   {
    "duration": 8,
    "start_time": "2021-10-30T18:45:41.401Z"
   },
   {
    "duration": 50,
    "start_time": "2021-10-30T18:45:41.422Z"
   },
   {
    "duration": 2815,
    "start_time": "2021-10-30T18:45:41.474Z"
   },
   {
    "duration": 2809,
    "start_time": "2021-10-30T18:45:44.291Z"
   },
   {
    "duration": 126,
    "start_time": "2021-10-30T18:45:47.102Z"
   },
   {
    "duration": 12,
    "start_time": "2021-10-30T18:45:47.231Z"
   },
   {
    "duration": 8,
    "start_time": "2021-10-30T18:45:47.245Z"
   },
   {
    "duration": 33,
    "start_time": "2021-10-30T18:45:47.255Z"
   },
   {
    "duration": 85,
    "start_time": "2021-10-30T18:45:47.330Z"
   },
   {
    "duration": 41,
    "start_time": "2021-10-30T18:45:47.423Z"
   },
   {
    "duration": 2264,
    "start_time": "2021-10-30T18:45:47.466Z"
   },
   {
    "duration": 2052,
    "start_time": "2021-10-30T18:46:30.204Z"
   },
   {
    "duration": 154,
    "start_time": "2021-10-30T18:47:31.026Z"
   },
   {
    "duration": 3113,
    "start_time": "2021-10-30T18:49:33.297Z"
   },
   {
    "duration": 1953,
    "start_time": "2021-10-30T18:54:49.390Z"
   },
   {
    "duration": 2002,
    "start_time": "2021-10-30T18:55:36.884Z"
   },
   {
    "duration": 2179,
    "start_time": "2021-10-30T18:55:51.874Z"
   },
   {
    "duration": 2058,
    "start_time": "2021-10-30T18:56:07.055Z"
   },
   {
    "duration": 2130,
    "start_time": "2021-10-30T18:58:40.408Z"
   },
   {
    "duration": 2064,
    "start_time": "2021-10-30T18:58:59.573Z"
   },
   {
    "duration": 2157,
    "start_time": "2021-10-30T18:59:25.326Z"
   },
   {
    "duration": 2024,
    "start_time": "2021-10-30T18:59:43.522Z"
   },
   {
    "duration": 2110,
    "start_time": "2021-10-30T18:59:56.503Z"
   },
   {
    "duration": 2086,
    "start_time": "2021-10-30T19:07:45.381Z"
   },
   {
    "duration": 394,
    "start_time": "2021-10-30T19:13:01.513Z"
   },
   {
    "duration": 18,
    "start_time": "2021-10-30T19:13:14.819Z"
   },
   {
    "duration": 19,
    "start_time": "2021-10-30T19:15:09.123Z"
   },
   {
    "duration": 323,
    "start_time": "2021-10-30T19:15:24.329Z"
   },
   {
    "duration": 38,
    "start_time": "2021-10-30T19:15:28.092Z"
   },
   {
    "duration": 1308,
    "start_time": "2021-10-30T19:26:38.914Z"
   },
   {
    "duration": 1443,
    "start_time": "2021-10-30T19:26:54.367Z"
   },
   {
    "duration": 563,
    "start_time": "2021-10-30T19:28:03.711Z"
   },
   {
    "duration": 616,
    "start_time": "2021-10-30T19:28:11.282Z"
   },
   {
    "duration": 274,
    "start_time": "2021-10-30T19:28:26.823Z"
   },
   {
    "duration": 2189,
    "start_time": "2021-10-30T19:29:19.767Z"
   },
   {
    "duration": 1460,
    "start_time": "2021-10-30T19:29:59.875Z"
   },
   {
    "duration": 1002,
    "start_time": "2021-10-30T19:30:11.252Z"
   },
   {
    "duration": 123,
    "start_time": "2021-10-30T19:30:12.256Z"
   },
   {
    "duration": 11,
    "start_time": "2021-10-30T19:30:12.382Z"
   },
   {
    "duration": 165,
    "start_time": "2021-10-30T19:30:12.396Z"
   },
   {
    "duration": 7,
    "start_time": "2021-10-30T19:30:12.564Z"
   },
   {
    "duration": 2171,
    "start_time": "2021-10-30T19:30:12.574Z"
   },
   {
    "duration": 15,
    "start_time": "2021-10-30T19:30:14.748Z"
   },
   {
    "duration": 189,
    "start_time": "2021-10-30T19:30:14.766Z"
   },
   {
    "duration": 8,
    "start_time": "2021-10-30T19:30:14.961Z"
   },
   {
    "duration": 2017,
    "start_time": "2021-10-30T19:30:14.973Z"
   },
   {
    "duration": 9,
    "start_time": "2021-10-30T19:30:16.994Z"
   },
   {
    "duration": 44,
    "start_time": "2021-10-30T19:30:17.025Z"
   },
   {
    "duration": 2945,
    "start_time": "2021-10-30T19:30:17.071Z"
   },
   {
    "duration": 2680,
    "start_time": "2021-10-30T19:30:20.022Z"
   },
   {
    "duration": 141,
    "start_time": "2021-10-30T19:30:22.705Z"
   },
   {
    "duration": 9,
    "start_time": "2021-10-30T19:30:22.848Z"
   },
   {
    "duration": 10,
    "start_time": "2021-10-30T19:30:22.859Z"
   },
   {
    "duration": 54,
    "start_time": "2021-10-30T19:30:22.871Z"
   },
   {
    "duration": 98,
    "start_time": "2021-10-30T19:30:22.927Z"
   },
   {
    "duration": 37,
    "start_time": "2021-10-30T19:30:23.028Z"
   },
   {
    "duration": 2264,
    "start_time": "2021-10-30T19:30:23.067Z"
   },
   {
    "duration": 14,
    "start_time": "2021-10-30T19:30:25.335Z"
   },
   {
    "duration": 1344,
    "start_time": "2021-10-30T19:30:25.352Z"
   },
   {
    "duration": 1297,
    "start_time": "2021-10-30T19:30:43.564Z"
   },
   {
    "duration": 1332,
    "start_time": "2021-10-30T19:31:17.665Z"
   },
   {
    "duration": 508,
    "start_time": "2021-11-01T16:51:34.994Z"
   },
   {
    "duration": 1118,
    "start_time": "2021-11-01T16:51:48.892Z"
   },
   {
    "duration": 118,
    "start_time": "2021-11-01T16:51:50.012Z"
   },
   {
    "duration": 15,
    "start_time": "2021-11-01T16:51:50.134Z"
   },
   {
    "duration": 176,
    "start_time": "2021-11-01T16:51:50.168Z"
   },
   {
    "duration": 7,
    "start_time": "2021-11-01T16:51:50.347Z"
   },
   {
    "duration": 2478,
    "start_time": "2021-11-01T16:51:50.368Z"
   },
   {
    "duration": 20,
    "start_time": "2021-11-01T16:51:52.849Z"
   },
   {
    "duration": 164,
    "start_time": "2021-11-01T16:51:52.871Z"
   },
   {
    "duration": 7,
    "start_time": "2021-11-01T16:51:53.039Z"
   },
   {
    "duration": 1994,
    "start_time": "2021-11-01T16:51:53.048Z"
   },
   {
    "duration": 7,
    "start_time": "2021-11-01T16:51:55.044Z"
   },
   {
    "duration": 39,
    "start_time": "2021-11-01T16:51:55.067Z"
   },
   {
    "duration": 2890,
    "start_time": "2021-11-01T16:51:55.109Z"
   },
   {
    "duration": 4091,
    "start_time": "2021-11-01T16:51:58.002Z"
   },
   {
    "duration": 123,
    "start_time": "2021-11-01T16:52:02.096Z"
   },
   {
    "duration": 8,
    "start_time": "2021-11-01T16:52:02.222Z"
   },
   {
    "duration": 34,
    "start_time": "2021-11-01T16:52:02.233Z"
   },
   {
    "duration": 30,
    "start_time": "2021-11-01T16:52:02.270Z"
   },
   {
    "duration": 103,
    "start_time": "2021-11-01T16:52:02.302Z"
   },
   {
    "duration": 33,
    "start_time": "2021-11-01T16:52:02.407Z"
   },
   {
    "duration": 2097,
    "start_time": "2021-11-01T16:52:02.443Z"
   },
   {
    "duration": 14,
    "start_time": "2021-11-01T16:52:04.542Z"
   },
   {
    "duration": 1297,
    "start_time": "2021-11-01T16:52:04.567Z"
   },
   {
    "duration": 761,
    "start_time": "2021-11-01T16:52:05.867Z"
   },
   {
    "duration": 614,
    "start_time": "2021-11-01T16:52:50.994Z"
   },
   {
    "duration": 617,
    "start_time": "2021-11-01T16:53:28.626Z"
   },
   {
    "duration": 720,
    "start_time": "2021-11-01T16:53:58.287Z"
   },
   {
    "duration": 621,
    "start_time": "2021-11-01T16:55:39.902Z"
   },
   {
    "duration": 1629,
    "start_time": "2021-11-01T17:41:07.837Z"
   },
   {
    "duration": 512,
    "start_time": "2021-11-01T17:41:26.136Z"
   },
   {
    "duration": 14,
    "start_time": "2021-11-01T17:41:38.567Z"
   },
   {
    "duration": 17,
    "start_time": "2021-11-01T17:42:47.868Z"
   },
   {
    "duration": 21,
    "start_time": "2021-11-01T17:43:17.132Z"
   },
   {
    "duration": 12,
    "start_time": "2021-11-01T17:45:48.074Z"
   },
   {
    "duration": 13,
    "start_time": "2021-11-01T17:46:01.362Z"
   },
   {
    "duration": 12,
    "start_time": "2021-11-01T17:49:28.618Z"
   },
   {
    "duration": 9,
    "start_time": "2021-11-01T17:49:30.446Z"
   },
   {
    "duration": 14,
    "start_time": "2021-11-01T17:50:17.421Z"
   },
   {
    "duration": 18,
    "start_time": "2021-11-01T17:52:36.673Z"
   },
   {
    "duration": 14,
    "start_time": "2021-11-01T17:53:09.419Z"
   },
   {
    "duration": 14,
    "start_time": "2021-11-01T17:53:45.709Z"
   },
   {
    "duration": 11,
    "start_time": "2021-11-01T17:55:03.692Z"
   },
   {
    "duration": 16,
    "start_time": "2021-11-01T17:56:13.535Z"
   },
   {
    "duration": 322,
    "start_time": "2021-11-01T18:26:49.987Z"
   },
   {
    "duration": 108,
    "start_time": "2021-11-01T18:29:50.733Z"
   },
   {
    "duration": 351,
    "start_time": "2021-11-01T18:30:02.059Z"
   },
   {
    "duration": 298,
    "start_time": "2021-11-01T18:34:38.879Z"
   },
   {
    "duration": 299,
    "start_time": "2021-11-01T18:34:54.237Z"
   },
   {
    "duration": 341,
    "start_time": "2021-11-01T18:38:03.016Z"
   },
   {
    "duration": 265,
    "start_time": "2021-11-01T18:40:55.324Z"
   },
   {
    "duration": 312,
    "start_time": "2021-11-01T18:41:12.126Z"
   },
   {
    "duration": 302,
    "start_time": "2021-11-01T18:41:29.682Z"
   },
   {
    "duration": 669,
    "start_time": "2021-11-01T18:41:53.160Z"
   },
   {
    "duration": 322,
    "start_time": "2021-11-01T18:42:08.074Z"
   },
   {
    "duration": 468,
    "start_time": "2021-11-01T18:43:36.746Z"
   },
   {
    "duration": 315,
    "start_time": "2021-11-01T18:43:47.332Z"
   },
   {
    "duration": 390,
    "start_time": "2021-11-01T18:45:16.389Z"
   },
   {
    "duration": 365,
    "start_time": "2021-11-01T18:45:27.309Z"
   },
   {
    "duration": 534,
    "start_time": "2021-11-01T18:46:13.068Z"
   },
   {
    "duration": 405,
    "start_time": "2021-11-01T18:50:05.612Z"
   },
   {
    "duration": 333,
    "start_time": "2021-11-01T18:50:46.234Z"
   },
   {
    "duration": 139,
    "start_time": "2021-11-01T18:54:29.520Z"
   },
   {
    "duration": 388,
    "start_time": "2021-11-01T18:55:01.141Z"
   },
   {
    "duration": 386,
    "start_time": "2021-11-01T18:55:12.209Z"
   },
   {
    "duration": 354,
    "start_time": "2021-11-01T18:55:20.520Z"
   },
   {
    "duration": 396,
    "start_time": "2021-11-01T18:55:29.883Z"
   },
   {
    "duration": 502,
    "start_time": "2021-11-01T19:01:53.959Z"
   },
   {
    "duration": 745,
    "start_time": "2021-11-01T19:02:37.309Z"
   },
   {
    "duration": 321,
    "start_time": "2021-11-01T19:03:10.734Z"
   },
   {
    "duration": 1344,
    "start_time": "2021-11-01T19:05:22.597Z"
   },
   {
    "duration": 489,
    "start_time": "2021-11-01T19:08:16.778Z"
   },
   {
    "duration": 379,
    "start_time": "2021-11-01T19:08:51.710Z"
   },
   {
    "duration": 450,
    "start_time": "2021-11-01T19:09:02.311Z"
   },
   {
    "duration": 479,
    "start_time": "2021-11-01T19:09:06.488Z"
   },
   {
    "duration": 421,
    "start_time": "2021-11-01T19:10:52.860Z"
   },
   {
    "duration": 292,
    "start_time": "2021-11-01T19:14:37.088Z"
   },
   {
    "duration": 296,
    "start_time": "2021-11-01T19:14:47.719Z"
   },
   {
    "duration": 1044,
    "start_time": "2021-11-01T19:15:20.042Z"
   },
   {
    "duration": 119,
    "start_time": "2021-11-01T19:15:21.089Z"
   },
   {
    "duration": 12,
    "start_time": "2021-11-01T19:15:21.212Z"
   },
   {
    "duration": 157,
    "start_time": "2021-11-01T19:15:21.227Z"
   },
   {
    "duration": 8,
    "start_time": "2021-11-01T19:15:21.387Z"
   },
   {
    "duration": 3444,
    "start_time": "2021-11-01T19:15:21.398Z"
   },
   {
    "duration": 25,
    "start_time": "2021-11-01T19:15:24.845Z"
   },
   {
    "duration": 229,
    "start_time": "2021-11-01T19:15:24.873Z"
   },
   {
    "duration": 10,
    "start_time": "2021-11-01T19:15:25.107Z"
   },
   {
    "duration": 3381,
    "start_time": "2021-11-01T19:15:25.120Z"
   },
   {
    "duration": 10,
    "start_time": "2021-11-01T19:15:28.504Z"
   },
   {
    "duration": 64,
    "start_time": "2021-11-01T19:15:28.516Z"
   },
   {
    "duration": 2705,
    "start_time": "2021-11-01T19:15:28.583Z"
   },
   {
    "duration": 2640,
    "start_time": "2021-11-01T19:15:31.291Z"
   },
   {
    "duration": 167,
    "start_time": "2021-11-01T19:15:33.934Z"
   },
   {
    "duration": 10,
    "start_time": "2021-11-01T19:15:34.104Z"
   },
   {
    "duration": 12,
    "start_time": "2021-11-01T19:15:34.116Z"
   },
   {
    "duration": 54,
    "start_time": "2021-11-01T19:15:34.130Z"
   },
   {
    "duration": 91,
    "start_time": "2021-11-01T19:15:34.186Z"
   },
   {
    "duration": 49,
    "start_time": "2021-11-01T19:15:34.280Z"
   },
   {
    "duration": 3141,
    "start_time": "2021-11-01T19:15:34.333Z"
   },
   {
    "duration": 18,
    "start_time": "2021-11-01T19:15:37.477Z"
   },
   {
    "duration": 1972,
    "start_time": "2021-11-01T19:15:37.498Z"
   },
   {
    "duration": 683,
    "start_time": "2021-11-01T19:15:39.473Z"
   },
   {
    "duration": 21,
    "start_time": "2021-11-01T19:15:40.160Z"
   },
   {
    "duration": 13,
    "start_time": "2021-11-01T19:15:40.184Z"
   },
   {
    "duration": 10,
    "start_time": "2021-11-01T19:15:40.202Z"
   },
   {
    "duration": 52,
    "start_time": "2021-11-01T19:15:40.215Z"
   },
   {
    "duration": 16,
    "start_time": "2021-11-01T19:15:40.270Z"
   },
   {
    "duration": 364,
    "start_time": "2021-11-01T19:15:40.289Z"
   },
   {
    "duration": 337,
    "start_time": "2021-11-01T19:15:40.656Z"
   },
   {
    "duration": 406,
    "start_time": "2021-11-01T19:15:40.995Z"
   },
   {
    "duration": 397,
    "start_time": "2021-11-01T19:15:41.403Z"
   },
   {
    "duration": 395,
    "start_time": "2021-11-01T19:16:13.223Z"
   },
   {
    "duration": 461,
    "start_time": "2021-11-01T19:16:40.693Z"
   },
   {
    "duration": 1332,
    "start_time": "2021-11-01T19:17:12.228Z"
   },
   {
    "duration": 561,
    "start_time": "2021-11-01T19:17:30.538Z"
   },
   {
    "duration": 263,
    "start_time": "2021-11-01T19:17:52.157Z"
   },
   {
    "duration": 309,
    "start_time": "2021-11-01T19:18:24.886Z"
   },
   {
    "duration": 263,
    "start_time": "2021-11-01T19:18:40.131Z"
   },
   {
    "duration": 258,
    "start_time": "2021-11-01T19:18:45.565Z"
   },
   {
    "duration": 272,
    "start_time": "2021-11-01T19:20:05.708Z"
   },
   {
    "duration": 335,
    "start_time": "2021-11-01T19:21:16.967Z"
   },
   {
    "duration": 368,
    "start_time": "2021-11-01T19:21:30.421Z"
   },
   {
    "duration": 258,
    "start_time": "2021-11-01T19:22:02.101Z"
   },
   {
    "duration": 255,
    "start_time": "2021-11-01T19:22:33.202Z"
   },
   {
    "duration": 248,
    "start_time": "2021-11-01T19:23:03.721Z"
   },
   {
    "duration": 259,
    "start_time": "2021-11-01T19:27:53.375Z"
   },
   {
    "duration": 254,
    "start_time": "2021-11-01T19:27:57.886Z"
   },
   {
    "duration": 278,
    "start_time": "2021-11-01T19:28:04.746Z"
   },
   {
    "duration": 284,
    "start_time": "2021-11-01T19:37:11.260Z"
   },
   {
    "duration": 311,
    "start_time": "2021-11-01T19:37:43.091Z"
   },
   {
    "duration": 645,
    "start_time": "2021-11-01T19:37:58.460Z"
   },
   {
    "duration": 307,
    "start_time": "2021-11-01T19:41:35.278Z"
   },
   {
    "duration": 308,
    "start_time": "2021-11-01T19:44:26.982Z"
   },
   {
    "duration": 424,
    "start_time": "2021-11-01T19:44:50.150Z"
   },
   {
    "duration": 682,
    "start_time": "2021-11-01T19:45:37.164Z"
   },
   {
    "duration": 440,
    "start_time": "2021-11-01T19:45:56.038Z"
   },
   {
    "duration": 438,
    "start_time": "2021-11-01T19:46:07.883Z"
   },
   {
    "duration": 419,
    "start_time": "2021-11-01T19:46:21.327Z"
   },
   {
    "duration": 407,
    "start_time": "2021-11-01T19:46:45.893Z"
   },
   {
    "duration": 415,
    "start_time": "2021-11-01T19:47:46.012Z"
   },
   {
    "duration": 423,
    "start_time": "2021-11-01T19:48:02.182Z"
   },
   {
    "duration": 410,
    "start_time": "2021-11-01T19:48:10.745Z"
   },
   {
    "duration": 451,
    "start_time": "2021-11-01T19:48:18.295Z"
   },
   {
    "duration": 424,
    "start_time": "2021-11-01T19:48:44.498Z"
   },
   {
    "duration": 526,
    "start_time": "2021-11-01T19:48:56.113Z"
   },
   {
    "duration": 317,
    "start_time": "2021-11-01T19:53:28.860Z"
   },
   {
    "duration": 298,
    "start_time": "2021-11-01T19:54:28.503Z"
   },
   {
    "duration": 298,
    "start_time": "2021-11-01T19:54:31.112Z"
   },
   {
    "duration": 283,
    "start_time": "2021-11-01T20:05:59.205Z"
   },
   {
    "duration": 30,
    "start_time": "2021-11-01T20:26:43.318Z"
   },
   {
    "duration": 37,
    "start_time": "2021-11-01T20:27:27.151Z"
   },
   {
    "duration": 40,
    "start_time": "2021-11-01T20:28:06.920Z"
   },
   {
    "duration": 39,
    "start_time": "2021-11-01T20:28:15.279Z"
   },
   {
    "duration": 40,
    "start_time": "2021-11-01T20:28:23.003Z"
   },
   {
    "duration": 39,
    "start_time": "2021-11-01T20:28:46.171Z"
   },
   {
    "duration": 40,
    "start_time": "2021-11-01T20:29:01.952Z"
   },
   {
    "duration": 40,
    "start_time": "2021-11-01T20:32:11.309Z"
   },
   {
    "duration": 316,
    "start_time": "2021-11-01T20:39:11.251Z"
   },
   {
    "duration": 402,
    "start_time": "2021-11-01T20:39:49.689Z"
   },
   {
    "duration": 6,
    "start_time": "2021-11-01T20:42:12.543Z"
   },
   {
    "duration": 6,
    "start_time": "2021-11-01T20:42:29.817Z"
   },
   {
    "duration": 6,
    "start_time": "2021-11-01T20:42:34.512Z"
   },
   {
    "duration": 41,
    "start_time": "2021-11-01T20:42:39.483Z"
   },
   {
    "duration": 5,
    "start_time": "2021-11-01T20:42:41.112Z"
   },
   {
    "duration": 7,
    "start_time": "2021-11-01T20:43:34.795Z"
   },
   {
    "duration": 1036,
    "start_time": "2021-11-01T20:44:03.640Z"
   },
   {
    "duration": 121,
    "start_time": "2021-11-01T20:44:04.679Z"
   },
   {
    "duration": 13,
    "start_time": "2021-11-01T20:44:04.803Z"
   },
   {
    "duration": 159,
    "start_time": "2021-11-01T20:44:04.819Z"
   },
   {
    "duration": 7,
    "start_time": "2021-11-01T20:44:04.981Z"
   },
   {
    "duration": 2120,
    "start_time": "2021-11-01T20:44:04.991Z"
   },
   {
    "duration": 14,
    "start_time": "2021-11-01T20:44:07.113Z"
   },
   {
    "duration": 179,
    "start_time": "2021-11-01T20:44:07.130Z"
   },
   {
    "duration": 8,
    "start_time": "2021-11-01T20:44:07.313Z"
   },
   {
    "duration": 2001,
    "start_time": "2021-11-01T20:44:07.324Z"
   },
   {
    "duration": 8,
    "start_time": "2021-11-01T20:44:09.328Z"
   },
   {
    "duration": 63,
    "start_time": "2021-11-01T20:44:09.339Z"
   },
   {
    "duration": 2594,
    "start_time": "2021-11-01T20:44:09.405Z"
   },
   {
    "duration": 2669,
    "start_time": "2021-11-01T20:44:12.002Z"
   },
   {
    "duration": 126,
    "start_time": "2021-11-01T20:44:14.674Z"
   },
   {
    "duration": 10,
    "start_time": "2021-11-01T20:44:14.803Z"
   },
   {
    "duration": 11,
    "start_time": "2021-11-01T20:44:14.816Z"
   },
   {
    "duration": 59,
    "start_time": "2021-11-01T20:44:14.830Z"
   },
   {
    "duration": 98,
    "start_time": "2021-11-01T20:44:14.892Z"
   },
   {
    "duration": 36,
    "start_time": "2021-11-01T20:44:14.994Z"
   },
   {
    "duration": 2069,
    "start_time": "2021-11-01T20:44:15.033Z"
   },
   {
    "duration": 14,
    "start_time": "2021-11-01T20:44:17.104Z"
   },
   {
    "duration": 1332,
    "start_time": "2021-11-01T20:44:17.121Z"
   },
   {
    "duration": 806,
    "start_time": "2021-11-01T20:44:18.456Z"
   },
   {
    "duration": 11,
    "start_time": "2021-11-01T20:44:19.265Z"
   },
   {
    "duration": 12,
    "start_time": "2021-11-01T20:44:19.279Z"
   },
   {
    "duration": 10,
    "start_time": "2021-11-01T20:44:19.296Z"
   },
   {
    "duration": 10,
    "start_time": "2021-11-01T20:44:19.309Z"
   },
   {
    "duration": 61,
    "start_time": "2021-11-01T20:44:19.321Z"
   },
   {
    "duration": 353,
    "start_time": "2021-11-01T20:44:19.385Z"
   },
   {
    "duration": 288,
    "start_time": "2021-11-01T20:44:19.741Z"
   },
   {
    "duration": 422,
    "start_time": "2021-11-01T20:44:20.031Z"
   },
   {
    "duration": 254,
    "start_time": "2021-11-01T20:44:20.467Z"
   },
   {
    "duration": 404,
    "start_time": "2021-11-01T20:44:20.724Z"
   },
   {
    "duration": 323,
    "start_time": "2021-11-01T20:44:21.130Z"
   },
   {
    "duration": 314,
    "start_time": "2021-11-01T20:44:21.468Z"
   },
   {
    "duration": 42,
    "start_time": "2021-11-01T20:44:21.786Z"
   },
   {
    "duration": 39,
    "start_time": "2021-11-01T20:44:21.831Z"
   },
   {
    "duration": 506,
    "start_time": "2021-11-01T20:47:21.611Z"
   },
   {
    "duration": 31,
    "start_time": "2021-11-01T20:47:28.779Z"
   },
   {
    "duration": 29,
    "start_time": "2021-11-01T20:48:11.659Z"
   },
   {
    "duration": 46,
    "start_time": "2021-11-01T20:48:28.217Z"
   },
   {
    "duration": 315,
    "start_time": "2021-11-01T20:50:47.050Z"
   },
   {
    "duration": 299,
    "start_time": "2021-11-01T20:57:07.925Z"
   },
   {
    "duration": 313,
    "start_time": "2021-11-01T20:57:52.018Z"
   },
   {
    "duration": 16,
    "start_time": "2021-11-01T20:58:36.697Z"
   },
   {
    "duration": 16,
    "start_time": "2021-11-01T20:59:37.693Z"
   },
   {
    "duration": 45,
    "start_time": "2021-11-01T20:59:53.794Z"
   },
   {
    "duration": 44,
    "start_time": "2021-11-01T21:00:39.011Z"
   },
   {
    "duration": 342,
    "start_time": "2021-11-01T21:03:04.174Z"
   },
   {
    "duration": 336,
    "start_time": "2021-11-01T21:05:31.752Z"
   },
   {
    "duration": 310,
    "start_time": "2021-11-01T21:06:35.351Z"
   },
   {
    "duration": 305,
    "start_time": "2021-11-01T21:06:56.203Z"
   },
   {
    "duration": 313,
    "start_time": "2021-11-01T21:07:15.646Z"
   },
   {
    "duration": 329,
    "start_time": "2021-11-01T21:07:45.269Z"
   },
   {
    "duration": 314,
    "start_time": "2021-11-01T21:08:23.816Z"
   },
   {
    "duration": 342,
    "start_time": "2021-11-01T21:09:29.763Z"
   },
   {
    "duration": 339,
    "start_time": "2021-11-01T21:11:00.404Z"
   },
   {
    "duration": 315,
    "start_time": "2021-11-01T21:14:47.394Z"
   },
   {
    "duration": 338,
    "start_time": "2021-11-01T21:15:14.551Z"
   },
   {
    "duration": 316,
    "start_time": "2021-11-01T21:15:47.418Z"
   },
   {
    "duration": 418,
    "start_time": "2021-11-01T21:15:55.877Z"
   },
   {
    "duration": 316,
    "start_time": "2021-11-01T21:16:24.879Z"
   },
   {
    "duration": 327,
    "start_time": "2021-11-01T21:17:27.909Z"
   },
   {
    "duration": 532,
    "start_time": "2021-11-01T21:18:37.113Z"
   },
   {
    "duration": 309,
    "start_time": "2021-11-01T21:19:33.804Z"
   },
   {
    "duration": 331,
    "start_time": "2021-11-01T21:22:08.155Z"
   },
   {
    "duration": 415,
    "start_time": "2021-11-01T21:23:06.225Z"
   },
   {
    "duration": 337,
    "start_time": "2021-11-01T21:23:53.833Z"
   },
   {
    "duration": 342,
    "start_time": "2021-11-01T21:29:16.653Z"
   },
   {
    "duration": 7710,
    "start_time": "2021-11-01T21:34:11.125Z"
   },
   {
    "duration": 7071,
    "start_time": "2021-11-01T21:35:09.593Z"
   },
   {
    "duration": 11,
    "start_time": "2021-11-01T21:37:34.277Z"
   },
   {
    "duration": 56,
    "start_time": "2021-11-01T21:38:27.961Z"
   },
   {
    "duration": 2066,
    "start_time": "2021-11-01T21:41:11.488Z"
   },
   {
    "duration": 310,
    "start_time": "2021-11-02T17:55:52.855Z"
   },
   {
    "duration": 1371,
    "start_time": "2021-11-02T17:56:43.799Z"
   },
   {
    "duration": 113,
    "start_time": "2021-11-02T17:56:45.173Z"
   },
   {
    "duration": 33,
    "start_time": "2021-11-02T17:56:45.293Z"
   },
   {
    "duration": 169,
    "start_time": "2021-11-02T17:56:45.329Z"
   },
   {
    "duration": 7,
    "start_time": "2021-11-02T17:56:45.501Z"
   },
   {
    "duration": 2393,
    "start_time": "2021-11-02T17:56:45.510Z"
   },
   {
    "duration": 23,
    "start_time": "2021-11-02T17:56:47.905Z"
   },
   {
    "duration": 235,
    "start_time": "2021-11-02T17:56:47.934Z"
   },
   {
    "duration": 8,
    "start_time": "2021-11-02T17:56:48.174Z"
   },
   {
    "duration": 2221,
    "start_time": "2021-11-02T17:56:48.185Z"
   },
   {
    "duration": 17,
    "start_time": "2021-11-02T17:56:50.408Z"
   },
   {
    "duration": 41,
    "start_time": "2021-11-02T17:56:50.428Z"
   },
   {
    "duration": 2518,
    "start_time": "2021-11-02T17:56:50.472Z"
   },
   {
    "duration": 2809,
    "start_time": "2021-11-02T17:56:52.993Z"
   },
   {
    "duration": 123,
    "start_time": "2021-11-02T17:56:55.806Z"
   },
   {
    "duration": 12,
    "start_time": "2021-11-02T17:56:55.932Z"
   },
   {
    "duration": 11,
    "start_time": "2021-11-02T17:56:55.947Z"
   },
   {
    "duration": 79,
    "start_time": "2021-11-02T17:56:55.962Z"
   },
   {
    "duration": 98,
    "start_time": "2021-11-02T17:56:56.044Z"
   },
   {
    "duration": 37,
    "start_time": "2021-11-02T17:56:56.144Z"
   },
   {
    "duration": 2099,
    "start_time": "2021-11-02T17:56:56.184Z"
   },
   {
    "duration": 20,
    "start_time": "2021-11-02T17:56:58.286Z"
   },
   {
    "duration": 1665,
    "start_time": "2021-11-02T17:56:58.322Z"
   },
   {
    "duration": 614,
    "start_time": "2021-11-02T17:56:59.989Z"
   },
   {
    "duration": 24,
    "start_time": "2021-11-02T17:57:00.606Z"
   },
   {
    "duration": 10,
    "start_time": "2021-11-02T17:57:00.636Z"
   },
   {
    "duration": 9,
    "start_time": "2021-11-02T17:57:00.649Z"
   },
   {
    "duration": 11,
    "start_time": "2021-11-02T17:57:00.661Z"
   },
   {
    "duration": 18,
    "start_time": "2021-11-02T17:57:00.723Z"
   },
   {
    "duration": 359,
    "start_time": "2021-11-02T17:57:00.743Z"
   },
   {
    "duration": 301,
    "start_time": "2021-11-02T17:57:01.104Z"
   },
   {
    "duration": 398,
    "start_time": "2021-11-02T17:57:01.408Z"
   },
   {
    "duration": 265,
    "start_time": "2021-11-02T17:57:01.808Z"
   },
   {
    "duration": 399,
    "start_time": "2021-11-02T17:57:02.076Z"
   },
   {
    "duration": 310,
    "start_time": "2021-11-02T17:57:02.478Z"
   },
   {
    "duration": 294,
    "start_time": "2021-11-02T17:57:02.790Z"
   },
   {
    "duration": 56,
    "start_time": "2021-11-02T17:57:03.086Z"
   },
   {
    "duration": 497,
    "start_time": "2021-11-02T17:57:03.144Z"
   },
   {
    "duration": 3157,
    "start_time": "2021-11-02T17:57:03.644Z"
   },
   {
    "duration": 436,
    "start_time": "2021-11-02T17:57:06.804Z"
   },
   {
    "duration": 271,
    "start_time": "2021-11-02T17:59:55.618Z"
   },
   {
    "duration": 340,
    "start_time": "2021-11-02T18:00:49.297Z"
   },
   {
    "duration": 262,
    "start_time": "2021-11-02T18:00:56.220Z"
   },
   {
    "duration": 249,
    "start_time": "2021-11-02T18:01:48.778Z"
   },
   {
    "duration": 247,
    "start_time": "2021-11-02T18:01:59.226Z"
   },
   {
    "duration": 295,
    "start_time": "2021-11-02T18:05:34.519Z"
   },
   {
    "duration": 345,
    "start_time": "2021-11-02T18:05:49.633Z"
   },
   {
    "duration": 341,
    "start_time": "2021-11-02T18:06:02.311Z"
   },
   {
    "duration": 347,
    "start_time": "2021-11-02T18:07:05.603Z"
   },
   {
    "duration": 337,
    "start_time": "2021-11-02T18:07:38.194Z"
   },
   {
    "duration": 360,
    "start_time": "2021-11-02T18:07:44.862Z"
   },
   {
    "duration": 88,
    "start_time": "2021-11-02T18:09:32.801Z"
   },
   {
    "duration": 308,
    "start_time": "2021-11-02T18:11:59.514Z"
   },
   {
    "duration": 303,
    "start_time": "2021-11-02T18:12:01.439Z"
   },
   {
    "duration": 393,
    "start_time": "2021-11-02T18:12:04.140Z"
   },
   {
    "duration": 95,
    "start_time": "2021-11-02T18:14:55.002Z"
   },
   {
    "duration": 85,
    "start_time": "2021-11-02T18:20:49.452Z"
   },
   {
    "duration": 849,
    "start_time": "2021-11-03T15:57:55.303Z"
   },
   {
    "duration": 67,
    "start_time": "2021-11-03T15:57:56.155Z"
   },
   {
    "duration": 25,
    "start_time": "2021-11-03T15:57:56.225Z"
   },
   {
    "duration": 92,
    "start_time": "2021-11-03T15:57:56.252Z"
   },
   {
    "duration": 6,
    "start_time": "2021-11-03T15:57:56.346Z"
   },
   {
    "duration": 1432,
    "start_time": "2021-11-03T15:57:56.353Z"
   },
   {
    "duration": 9,
    "start_time": "2021-11-03T15:57:57.787Z"
   },
   {
    "duration": 102,
    "start_time": "2021-11-03T15:57:57.799Z"
   },
   {
    "duration": 6,
    "start_time": "2021-11-03T15:57:57.905Z"
   },
   {
    "duration": 1350,
    "start_time": "2021-11-03T15:57:57.913Z"
   },
   {
    "duration": 5,
    "start_time": "2021-11-03T15:57:59.265Z"
   },
   {
    "duration": 34,
    "start_time": "2021-11-03T15:57:59.271Z"
   },
   {
    "duration": 1690,
    "start_time": "2021-11-03T15:57:59.307Z"
   },
   {
    "duration": 1769,
    "start_time": "2021-11-03T15:58:00.999Z"
   },
   {
    "duration": 77,
    "start_time": "2021-11-03T15:58:02.770Z"
   },
   {
    "duration": 7,
    "start_time": "2021-11-03T15:58:02.849Z"
   },
   {
    "duration": 5,
    "start_time": "2021-11-03T15:58:02.858Z"
   },
   {
    "duration": 22,
    "start_time": "2021-11-03T15:58:02.865Z"
   },
   {
    "duration": 76,
    "start_time": "2021-11-03T15:58:02.889Z"
   },
   {
    "duration": 23,
    "start_time": "2021-11-03T15:58:02.967Z"
   },
   {
    "duration": 1182,
    "start_time": "2021-11-03T15:58:02.991Z"
   },
   {
    "duration": 10,
    "start_time": "2021-11-03T15:58:04.175Z"
   },
   {
    "duration": 776,
    "start_time": "2021-11-03T15:58:04.186Z"
   },
   {
    "duration": 374,
    "start_time": "2021-11-03T15:58:04.964Z"
   },
   {
    "duration": 10,
    "start_time": "2021-11-03T15:58:05.344Z"
   },
   {
    "duration": 10,
    "start_time": "2021-11-03T15:58:05.355Z"
   },
   {
    "duration": 7,
    "start_time": "2021-11-03T15:58:05.376Z"
   },
   {
    "duration": 7,
    "start_time": "2021-11-03T15:58:05.385Z"
   },
   {
    "duration": 14,
    "start_time": "2021-11-03T15:58:05.393Z"
   },
   {
    "duration": 235,
    "start_time": "2021-11-03T15:58:05.409Z"
   },
   {
    "duration": 185,
    "start_time": "2021-11-03T15:58:05.646Z"
   },
   {
    "duration": 263,
    "start_time": "2021-11-03T15:58:05.833Z"
   },
   {
    "duration": 164,
    "start_time": "2021-11-03T15:58:06.098Z"
   },
   {
    "duration": 256,
    "start_time": "2021-11-03T15:58:06.264Z"
   },
   {
    "duration": 193,
    "start_time": "2021-11-03T15:58:06.522Z"
   },
   {
    "duration": 189,
    "start_time": "2021-11-03T15:58:06.717Z"
   },
   {
    "duration": 27,
    "start_time": "2021-11-03T15:58:06.908Z"
   },
   {
    "duration": 213,
    "start_time": "2021-11-03T15:58:06.945Z"
   },
   {
    "duration": 1195,
    "start_time": "2021-11-03T15:58:07.160Z"
   },
   {
    "duration": 185,
    "start_time": "2021-11-03T15:58:08.357Z"
   },
   {
    "duration": 174,
    "start_time": "2021-11-03T15:58:08.544Z"
   },
   {
    "duration": 305,
    "start_time": "2021-11-03T15:58:08.720Z"
   },
   {
    "duration": 199,
    "start_time": "2021-11-03T15:58:09.026Z"
   },
   {
    "duration": 210,
    "start_time": "2021-11-03T15:58:09.227Z"
   },
   {
    "duration": 208,
    "start_time": "2021-11-03T15:58:09.438Z"
   },
   {
    "duration": 79,
    "start_time": "2021-11-03T17:38:16.279Z"
   },
   {
    "duration": 972,
    "start_time": "2021-11-03T17:38:26.728Z"
   },
   {
    "duration": 125,
    "start_time": "2021-11-03T17:38:27.703Z"
   },
   {
    "duration": 12,
    "start_time": "2021-11-03T17:38:27.831Z"
   },
   {
    "duration": 152,
    "start_time": "2021-11-03T17:38:27.845Z"
   },
   {
    "duration": 7,
    "start_time": "2021-11-03T17:38:28.000Z"
   },
   {
    "duration": 1979,
    "start_time": "2021-11-03T17:38:28.009Z"
   },
   {
    "duration": 12,
    "start_time": "2021-11-03T17:38:29.990Z"
   },
   {
    "duration": 171,
    "start_time": "2021-11-03T17:38:30.004Z"
   },
   {
    "duration": 7,
    "start_time": "2021-11-03T17:38:30.179Z"
   },
   {
    "duration": 1970,
    "start_time": "2021-11-03T17:38:30.189Z"
   },
   {
    "duration": 8,
    "start_time": "2021-11-03T17:38:32.161Z"
   },
   {
    "duration": 61,
    "start_time": "2021-11-03T17:38:32.171Z"
   },
   {
    "duration": 2449,
    "start_time": "2021-11-03T17:38:32.235Z"
   },
   {
    "duration": 2428,
    "start_time": "2021-11-03T17:38:34.686Z"
   },
   {
    "duration": 117,
    "start_time": "2021-11-03T17:38:37.117Z"
   },
   {
    "duration": 9,
    "start_time": "2021-11-03T17:38:37.236Z"
   },
   {
    "duration": 15,
    "start_time": "2021-11-03T17:38:37.247Z"
   },
   {
    "duration": 31,
    "start_time": "2021-11-03T17:38:37.265Z"
   },
   {
    "duration": 110,
    "start_time": "2021-11-03T17:38:37.298Z"
   },
   {
    "duration": 49,
    "start_time": "2021-11-03T17:38:37.411Z"
   },
   {
    "duration": 110,
    "start_time": "2021-11-03T17:38:37.463Z"
   },
   {
    "duration": -107,
    "start_time": "2021-11-03T17:38:37.685Z"
   },
   {
    "duration": -117,
    "start_time": "2021-11-03T17:38:37.696Z"
   },
   {
    "duration": -121,
    "start_time": "2021-11-03T17:38:37.703Z"
   },
   {
    "duration": -126,
    "start_time": "2021-11-03T17:38:37.710Z"
   },
   {
    "duration": -132,
    "start_time": "2021-11-03T17:38:37.718Z"
   },
   {
    "duration": -137,
    "start_time": "2021-11-03T17:38:37.725Z"
   },
   {
    "duration": -147,
    "start_time": "2021-11-03T17:38:37.737Z"
   },
   {
    "duration": -148,
    "start_time": "2021-11-03T17:38:37.741Z"
   },
   {
    "duration": -153,
    "start_time": "2021-11-03T17:38:37.748Z"
   },
   {
    "duration": -158,
    "start_time": "2021-11-03T17:38:37.755Z"
   },
   {
    "duration": -162,
    "start_time": "2021-11-03T17:38:37.761Z"
   },
   {
    "duration": -167,
    "start_time": "2021-11-03T17:38:37.768Z"
   },
   {
    "duration": -171,
    "start_time": "2021-11-03T17:38:37.774Z"
   },
   {
    "duration": -177,
    "start_time": "2021-11-03T17:38:37.781Z"
   },
   {
    "duration": -182,
    "start_time": "2021-11-03T17:38:37.788Z"
   },
   {
    "duration": -186,
    "start_time": "2021-11-03T17:38:37.794Z"
   },
   {
    "duration": -193,
    "start_time": "2021-11-03T17:38:37.802Z"
   },
   {
    "duration": -193,
    "start_time": "2021-11-03T17:38:37.804Z"
   },
   {
    "duration": -194,
    "start_time": "2021-11-03T17:38:37.806Z"
   },
   {
    "duration": -194,
    "start_time": "2021-11-03T17:38:37.808Z"
   },
   {
    "duration": -196,
    "start_time": "2021-11-03T17:38:37.811Z"
   },
   {
    "duration": -183,
    "start_time": "2021-11-03T17:38:37.812Z"
   },
   {
    "duration": -184,
    "start_time": "2021-11-03T17:38:37.814Z"
   },
   {
    "duration": -185,
    "start_time": "2021-11-03T17:38:37.817Z"
   },
   {
    "duration": 2093,
    "start_time": "2021-11-03T17:38:55.082Z"
   },
   {
    "duration": 1994,
    "start_time": "2021-11-03T17:40:32.213Z"
   },
   {
    "duration": 83,
    "start_time": "2021-11-03T17:42:21.145Z"
   },
   {
    "duration": 1025,
    "start_time": "2021-11-03T17:44:33.403Z"
   },
   {
    "duration": 119,
    "start_time": "2021-11-03T17:44:34.431Z"
   },
   {
    "duration": 14,
    "start_time": "2021-11-03T17:44:34.554Z"
   },
   {
    "duration": 168,
    "start_time": "2021-11-03T17:44:34.572Z"
   },
   {
    "duration": 9,
    "start_time": "2021-11-03T17:44:34.743Z"
   },
   {
    "duration": 2096,
    "start_time": "2021-11-03T17:44:34.755Z"
   },
   {
    "duration": 16,
    "start_time": "2021-11-03T17:44:36.854Z"
   },
   {
    "duration": 181,
    "start_time": "2021-11-03T17:44:36.873Z"
   },
   {
    "duration": 8,
    "start_time": "2021-11-03T17:44:37.060Z"
   },
   {
    "duration": 2077,
    "start_time": "2021-11-03T17:44:37.072Z"
   },
   {
    "duration": 9,
    "start_time": "2021-11-03T17:44:39.152Z"
   },
   {
    "duration": 70,
    "start_time": "2021-11-03T17:44:39.164Z"
   },
   {
    "duration": 2522,
    "start_time": "2021-11-03T17:44:39.237Z"
   },
   {
    "duration": 2685,
    "start_time": "2021-11-03T17:44:41.762Z"
   },
   {
    "duration": 123,
    "start_time": "2021-11-03T17:44:44.449Z"
   },
   {
    "duration": 9,
    "start_time": "2021-11-03T17:44:44.574Z"
   },
   {
    "duration": 7,
    "start_time": "2021-11-03T17:44:44.586Z"
   },
   {
    "duration": 56,
    "start_time": "2021-11-03T17:44:44.596Z"
   },
   {
    "duration": 102,
    "start_time": "2021-11-03T17:44:44.654Z"
   },
   {
    "duration": 35,
    "start_time": "2021-11-03T17:44:44.758Z"
   },
   {
    "duration": 2113,
    "start_time": "2021-11-03T17:44:44.795Z"
   },
   {
    "duration": 27,
    "start_time": "2021-11-03T17:44:46.910Z"
   },
   {
    "duration": 1253,
    "start_time": "2021-11-03T17:44:46.939Z"
   },
   {
    "duration": 613,
    "start_time": "2021-11-03T17:44:48.195Z"
   },
   {
    "duration": 20,
    "start_time": "2021-11-03T17:44:48.811Z"
   },
   {
    "duration": 11,
    "start_time": "2021-11-03T17:44:48.834Z"
   },
   {
    "duration": 10,
    "start_time": "2021-11-03T17:44:48.850Z"
   },
   {
    "duration": 10,
    "start_time": "2021-11-03T17:44:48.863Z"
   },
   {
    "duration": 64,
    "start_time": "2021-11-03T17:44:48.875Z"
   },
   {
    "duration": 341,
    "start_time": "2021-11-03T17:44:48.941Z"
   },
   {
    "duration": 283,
    "start_time": "2021-11-03T17:44:49.284Z"
   },
   {
    "duration": 391,
    "start_time": "2021-11-03T17:44:49.570Z"
   },
   {
    "duration": 272,
    "start_time": "2021-11-03T17:44:49.963Z"
   },
   {
    "duration": 405,
    "start_time": "2021-11-03T17:44:50.237Z"
   },
   {
    "duration": 318,
    "start_time": "2021-11-03T17:44:50.645Z"
   },
   {
    "duration": 309,
    "start_time": "2021-11-03T17:44:50.966Z"
   },
   {
    "duration": 55,
    "start_time": "2021-11-03T17:44:51.278Z"
   },
   {
    "duration": 355,
    "start_time": "2021-11-03T17:44:51.335Z"
   },
   {
    "duration": 1999,
    "start_time": "2021-11-03T17:44:51.692Z"
   },
   {
    "duration": 285,
    "start_time": "2021-11-03T17:44:53.694Z"
   },
   {
    "duration": 277,
    "start_time": "2021-11-03T17:44:53.982Z"
   },
   {
    "duration": 455,
    "start_time": "2021-11-03T17:44:54.261Z"
   },
   {
    "duration": 319,
    "start_time": "2021-11-03T17:44:54.718Z"
   },
   {
    "duration": 319,
    "start_time": "2021-11-03T17:44:55.039Z"
   },
   {
    "duration": 331,
    "start_time": "2021-11-03T17:44:55.361Z"
   },
   {
    "duration": 356,
    "start_time": "2021-11-03T17:46:55.404Z"
   },
   {
    "duration": 14,
    "start_time": "2021-11-03T17:47:38.932Z"
   },
   {
    "duration": 361,
    "start_time": "2021-11-03T17:50:29.077Z"
   },
   {
    "duration": 352,
    "start_time": "2021-11-03T17:50:37.178Z"
   },
   {
    "duration": 13,
    "start_time": "2021-11-03T17:50:52.432Z"
   },
   {
    "duration": 21,
    "start_time": "2021-11-03T17:52:44.731Z"
   },
   {
    "duration": 74,
    "start_time": "2021-11-03T17:53:45.167Z"
   },
   {
    "duration": 20,
    "start_time": "2021-11-03T17:53:51.979Z"
   },
   {
    "duration": 1241,
    "start_time": "2021-11-03T17:59:27.902Z"
   },
   {
    "duration": 432,
    "start_time": "2021-11-03T18:15:03.332Z"
   },
   {
    "duration": 733,
    "start_time": "2021-11-03T18:15:41.358Z"
   },
   {
    "duration": 13,
    "start_time": "2021-11-03T18:15:54.670Z"
   },
   {
    "duration": 11,
    "start_time": "2021-11-03T18:16:06.729Z"
   },
   {
    "duration": 10,
    "start_time": "2021-11-03T18:16:08.576Z"
   },
   {
    "duration": 11,
    "start_time": "2021-11-03T18:16:10.673Z"
   },
   {
    "duration": 88,
    "start_time": "2021-11-03T18:16:51.901Z"
   },
   {
    "duration": 15,
    "start_time": "2021-11-03T18:17:18.154Z"
   },
   {
    "duration": 16,
    "start_time": "2021-11-03T18:20:18.671Z"
   },
   {
    "duration": 16,
    "start_time": "2021-11-03T18:20:27.752Z"
   },
   {
    "duration": 17,
    "start_time": "2021-11-03T18:20:38.595Z"
   },
   {
    "duration": 20,
    "start_time": "2021-11-03T18:21:36.109Z"
   },
   {
    "duration": 78,
    "start_time": "2021-11-03T18:31:07.521Z"
   },
   {
    "duration": 77,
    "start_time": "2021-11-03T18:31:19.974Z"
   },
   {
    "duration": 607,
    "start_time": "2021-11-03T18:33:37.915Z"
   },
   {
    "duration": 327,
    "start_time": "2021-11-03T18:35:01.805Z"
   },
   {
    "duration": 319,
    "start_time": "2021-11-03T18:35:41.518Z"
   },
   {
    "duration": 449,
    "start_time": "2021-11-03T18:35:50.738Z"
   },
   {
    "duration": 274,
    "start_time": "2021-11-03T18:36:44.141Z"
   },
   {
    "duration": 398,
    "start_time": "2021-11-03T18:37:51.435Z"
   },
   {
    "duration": 417,
    "start_time": "2021-11-03T18:38:19.989Z"
   },
   {
    "duration": 88,
    "start_time": "2021-11-03T18:39:05.087Z"
   },
   {
    "duration": 251,
    "start_time": "2021-11-03T18:39:18.293Z"
   },
   {
    "duration": 273,
    "start_time": "2021-11-03T18:39:31.250Z"
   },
   {
    "duration": 295,
    "start_time": "2021-11-03T18:40:17.017Z"
   },
   {
    "duration": 411,
    "start_time": "2021-11-03T18:40:45.335Z"
   },
   {
    "duration": 296,
    "start_time": "2021-11-03T18:41:16.756Z"
   },
   {
    "duration": 352,
    "start_time": "2021-11-03T18:42:12.094Z"
   },
   {
    "duration": 22,
    "start_time": "2021-11-03T18:43:14.814Z"
   },
   {
    "duration": 2082,
    "start_time": "2021-11-03T18:49:36.938Z"
   },
   {
    "duration": 290,
    "start_time": "2021-11-03T18:52:26.805Z"
   },
   {
    "duration": 1049,
    "start_time": "2021-11-03T18:52:53.149Z"
   },
   {
    "duration": 117,
    "start_time": "2021-11-03T18:52:54.201Z"
   },
   {
    "duration": 19,
    "start_time": "2021-11-03T18:52:54.328Z"
   },
   {
    "duration": 164,
    "start_time": "2021-11-03T18:52:54.350Z"
   },
   {
    "duration": 22,
    "start_time": "2021-11-03T18:52:54.517Z"
   },
   {
    "duration": 2168,
    "start_time": "2021-11-03T18:52:54.543Z"
   },
   {
    "duration": 25,
    "start_time": "2021-11-03T18:52:56.716Z"
   },
   {
    "duration": 185,
    "start_time": "2021-11-03T18:52:56.746Z"
   },
   {
    "duration": 11,
    "start_time": "2021-11-03T18:52:56.935Z"
   },
   {
    "duration": 2115,
    "start_time": "2021-11-03T18:52:56.948Z"
   },
   {
    "duration": 7,
    "start_time": "2021-11-03T18:52:59.065Z"
   },
   {
    "duration": 66,
    "start_time": "2021-11-03T18:52:59.074Z"
   },
   {
    "duration": 2733,
    "start_time": "2021-11-03T18:52:59.144Z"
   },
   {
    "duration": 2834,
    "start_time": "2021-11-03T18:53:01.880Z"
   },
   {
    "duration": 134,
    "start_time": "2021-11-03T18:53:04.716Z"
   },
   {
    "duration": 8,
    "start_time": "2021-11-03T18:53:04.853Z"
   },
   {
    "duration": 12,
    "start_time": "2021-11-03T18:53:04.863Z"
   },
   {
    "duration": 68,
    "start_time": "2021-11-03T18:53:04.878Z"
   },
   {
    "duration": 99,
    "start_time": "2021-11-03T18:53:04.949Z"
   },
   {
    "duration": 35,
    "start_time": "2021-11-03T18:53:05.050Z"
   },
   {
    "duration": 2256,
    "start_time": "2021-11-03T18:53:05.088Z"
   },
   {
    "duration": 20,
    "start_time": "2021-11-03T18:53:07.350Z"
   },
   {
    "duration": 1365,
    "start_time": "2021-11-03T18:53:07.373Z"
   },
   {
    "duration": 660,
    "start_time": "2021-11-03T18:53:08.742Z"
   },
   {
    "duration": 24,
    "start_time": "2021-11-03T18:53:09.405Z"
   },
   {
    "duration": 15,
    "start_time": "2021-11-03T18:53:09.432Z"
   },
   {
    "duration": 11,
    "start_time": "2021-11-03T18:53:09.450Z"
   },
   {
    "duration": 11,
    "start_time": "2021-11-03T18:53:09.464Z"
   },
   {
    "duration": 78,
    "start_time": "2021-11-03T18:53:09.478Z"
   },
   {
    "duration": 391,
    "start_time": "2021-11-03T18:53:09.558Z"
   },
   {
    "duration": 312,
    "start_time": "2021-11-03T18:53:09.951Z"
   },
   {
    "duration": 451,
    "start_time": "2021-11-03T18:53:10.266Z"
   },
   {
    "duration": 326,
    "start_time": "2021-11-03T18:53:10.719Z"
   },
   {
    "duration": 422,
    "start_time": "2021-11-03T18:53:11.048Z"
   },
   {
    "duration": 346,
    "start_time": "2021-11-03T18:53:11.473Z"
   },
   {
    "duration": 337,
    "start_time": "2021-11-03T18:53:11.831Z"
   },
   {
    "duration": 38,
    "start_time": "2021-11-03T18:53:12.170Z"
   },
   {
    "duration": 377,
    "start_time": "2021-11-03T18:53:12.211Z"
   },
   {
    "duration": 1506,
    "start_time": "2021-11-03T18:53:12.591Z"
   },
   {
    "duration": 307,
    "start_time": "2021-11-03T18:53:14.099Z"
   },
   {
    "duration": 298,
    "start_time": "2021-11-03T18:53:14.408Z"
   },
   {
    "duration": 396,
    "start_time": "2021-11-03T18:53:14.709Z"
   },
   {
    "duration": 445,
    "start_time": "2021-11-03T18:53:15.107Z"
   },
   {
    "duration": 339,
    "start_time": "2021-11-03T18:53:15.554Z"
   },
   {
    "duration": 364,
    "start_time": "2021-11-03T18:53:15.895Z"
   },
   {
    "duration": 2081,
    "start_time": "2021-11-03T18:54:19.981Z"
   },
   {
    "duration": 2567,
    "start_time": "2021-11-03T18:55:09.331Z"
   },
   {
    "duration": 4390,
    "start_time": "2021-11-03T19:01:32.261Z"
   },
   {
    "duration": 4449,
    "start_time": "2021-11-03T19:03:09.417Z"
   },
   {
    "duration": 4220,
    "start_time": "2021-11-03T19:05:12.501Z"
   },
   {
    "duration": 263,
    "start_time": "2021-11-03T19:06:48.787Z"
   },
   {
    "duration": 4274,
    "start_time": "2021-11-03T19:07:58.713Z"
   },
   {
    "duration": 597,
    "start_time": "2021-11-03T19:10:12.089Z"
   },
   {
    "duration": 87,
    "start_time": "2021-11-03T19:14:55.824Z"
   },
   {
    "duration": 3069,
    "start_time": "2021-11-03T19:14:59.949Z"
   },
   {
    "duration": 3202,
    "start_time": "2021-11-03T19:16:12.079Z"
   },
   {
    "duration": 320,
    "start_time": "2021-11-03T19:17:26.901Z"
   },
   {
    "duration": 638,
    "start_time": "2021-11-03T19:19:53.228Z"
   },
   {
    "duration": 509,
    "start_time": "2021-11-03T19:24:32.214Z"
   },
   {
    "duration": 512,
    "start_time": "2021-11-03T19:24:46.565Z"
   },
   {
    "duration": 306,
    "start_time": "2021-11-03T19:24:52.814Z"
   },
   {
    "duration": 306,
    "start_time": "2021-11-03T19:25:07.699Z"
   },
   {
    "duration": 337,
    "start_time": "2021-11-03T19:25:47.719Z"
   },
   {
    "duration": 339,
    "start_time": "2021-11-03T19:26:13.456Z"
   },
   {
    "duration": 496,
    "start_time": "2021-11-03T19:26:25.510Z"
   },
   {
    "duration": 337,
    "start_time": "2021-11-03T19:27:09.745Z"
   },
   {
    "duration": 355,
    "start_time": "2021-11-03T19:27:32.128Z"
   },
   {
    "duration": 356,
    "start_time": "2021-11-03T19:28:07.890Z"
   },
   {
    "duration": 341,
    "start_time": "2021-11-03T19:28:51.946Z"
   },
   {
    "duration": 365,
    "start_time": "2021-11-03T19:29:42.625Z"
   },
   {
    "duration": 361,
    "start_time": "2021-11-03T19:30:38.160Z"
   },
   {
    "duration": 350,
    "start_time": "2021-11-03T19:31:09.751Z"
   },
   {
    "duration": 365,
    "start_time": "2021-11-03T19:31:17.417Z"
   },
   {
    "duration": 558,
    "start_time": "2021-11-03T19:32:00.840Z"
   },
   {
    "duration": 368,
    "start_time": "2021-11-03T19:32:14.820Z"
   },
   {
    "duration": 367,
    "start_time": "2021-11-03T19:32:59.020Z"
   },
   {
    "duration": 354,
    "start_time": "2021-11-03T19:34:23.423Z"
   },
   {
    "duration": 343,
    "start_time": "2021-11-03T19:35:27.223Z"
   },
   {
    "duration": 429,
    "start_time": "2021-11-03T19:35:45.772Z"
   },
   {
    "duration": 343,
    "start_time": "2021-11-03T19:36:03.836Z"
   },
   {
    "duration": 569,
    "start_time": "2021-11-03T19:36:32.188Z"
   },
   {
    "duration": 649,
    "start_time": "2021-11-03T19:39:39.320Z"
   },
   {
    "duration": 646,
    "start_time": "2021-11-03T19:40:06.951Z"
   },
   {
    "duration": 418,
    "start_time": "2021-11-03T19:40:12.730Z"
   },
   {
    "duration": 423,
    "start_time": "2021-11-03T19:40:22.702Z"
   },
   {
    "duration": 430,
    "start_time": "2021-11-03T19:40:33.442Z"
   },
   {
    "duration": 408,
    "start_time": "2021-11-03T19:40:59.224Z"
   },
   {
    "duration": 416,
    "start_time": "2021-11-03T19:41:14.550Z"
   },
   {
    "duration": 411,
    "start_time": "2021-11-03T19:41:25.692Z"
   },
   {
    "duration": 422,
    "start_time": "2021-11-03T19:41:45.894Z"
   },
   {
    "duration": 424,
    "start_time": "2021-11-03T19:42:02.388Z"
   },
   {
    "duration": 405,
    "start_time": "2021-11-03T19:42:14.145Z"
   },
   {
    "duration": 431,
    "start_time": "2021-11-03T19:42:25.259Z"
   },
   {
    "duration": 488,
    "start_time": "2021-11-03T19:43:24.825Z"
   },
   {
    "duration": 488,
    "start_time": "2021-11-03T19:43:59.084Z"
   },
   {
    "duration": 494,
    "start_time": "2021-11-03T19:44:13.943Z"
   },
   {
    "duration": 539,
    "start_time": "2021-11-03T19:44:23.364Z"
   },
   {
    "duration": 635,
    "start_time": "2021-11-03T19:44:29.107Z"
   },
   {
    "duration": 650,
    "start_time": "2021-11-03T19:44:37.761Z"
   },
   {
    "duration": 478,
    "start_time": "2021-11-03T19:44:44.977Z"
   },
   {
    "duration": 463,
    "start_time": "2021-11-03T19:45:22.976Z"
   },
   {
    "duration": 324,
    "start_time": "2021-11-03T19:47:29.448Z"
   },
   {
    "duration": 313,
    "start_time": "2021-11-03T19:48:16.266Z"
   },
   {
    "duration": 343,
    "start_time": "2021-11-03T19:48:45.505Z"
   },
   {
    "duration": 338,
    "start_time": "2021-11-03T19:49:26.933Z"
   },
   {
    "duration": 350,
    "start_time": "2021-11-03T19:50:56.104Z"
   },
   {
    "duration": 323,
    "start_time": "2021-11-03T19:51:54.495Z"
   },
   {
    "duration": 998,
    "start_time": "2021-11-04T11:26:07.605Z"
   },
   {
    "duration": 118,
    "start_time": "2021-11-04T11:26:08.606Z"
   },
   {
    "duration": 12,
    "start_time": "2021-11-04T11:26:08.730Z"
   },
   {
    "duration": 203,
    "start_time": "2021-11-04T11:26:08.744Z"
   },
   {
    "duration": 19,
    "start_time": "2021-11-04T11:26:08.949Z"
   },
   {
    "duration": 2551,
    "start_time": "2021-11-04T11:26:08.971Z"
   },
   {
    "duration": 12,
    "start_time": "2021-11-04T11:26:11.525Z"
   },
   {
    "duration": 171,
    "start_time": "2021-11-04T11:26:11.540Z"
   },
   {
    "duration": 7,
    "start_time": "2021-11-04T11:26:11.713Z"
   },
   {
    "duration": 2102,
    "start_time": "2021-11-04T11:26:11.722Z"
   },
   {
    "duration": 8,
    "start_time": "2021-11-04T11:26:13.827Z"
   },
   {
    "duration": 62,
    "start_time": "2021-11-04T11:26:13.838Z"
   },
   {
    "duration": 2684,
    "start_time": "2021-11-04T11:26:13.904Z"
   },
   {
    "duration": 3060,
    "start_time": "2021-11-04T11:26:16.591Z"
   },
   {
    "duration": 150,
    "start_time": "2021-11-04T11:26:19.654Z"
   },
   {
    "duration": 10,
    "start_time": "2021-11-04T11:26:19.807Z"
   },
   {
    "duration": 11,
    "start_time": "2021-11-04T11:26:19.820Z"
   },
   {
    "duration": 65,
    "start_time": "2021-11-04T11:26:19.833Z"
   },
   {
    "duration": 117,
    "start_time": "2021-11-04T11:26:19.901Z"
   },
   {
    "duration": 34,
    "start_time": "2021-11-04T11:26:20.021Z"
   },
   {
    "duration": 2277,
    "start_time": "2021-11-04T11:26:20.068Z"
   },
   {
    "duration": 27,
    "start_time": "2021-11-04T11:26:22.350Z"
   },
   {
    "duration": 1337,
    "start_time": "2021-11-04T11:26:22.380Z"
   },
   {
    "duration": 747,
    "start_time": "2021-11-04T11:26:23.720Z"
   },
   {
    "duration": 15,
    "start_time": "2021-11-04T11:26:24.469Z"
   },
   {
    "duration": 14,
    "start_time": "2021-11-04T11:26:24.486Z"
   },
   {
    "duration": 11,
    "start_time": "2021-11-04T11:26:24.503Z"
   },
   {
    "duration": 10,
    "start_time": "2021-11-04T11:26:24.516Z"
   },
   {
    "duration": 28,
    "start_time": "2021-11-04T11:26:24.567Z"
   },
   {
    "duration": 441,
    "start_time": "2021-11-04T11:26:24.597Z"
   },
   {
    "duration": 352,
    "start_time": "2021-11-04T11:26:25.040Z"
   },
   {
    "duration": 463,
    "start_time": "2021-11-04T11:26:25.395Z"
   },
   {
    "duration": 302,
    "start_time": "2021-11-04T11:26:25.860Z"
   },
   {
    "duration": 426,
    "start_time": "2021-11-04T11:26:26.167Z"
   },
   {
    "duration": 430,
    "start_time": "2021-11-04T11:26:26.595Z"
   },
   {
    "duration": 315,
    "start_time": "2021-11-04T11:26:27.027Z"
   },
   {
    "duration": 53,
    "start_time": "2021-11-04T11:26:27.345Z"
   },
   {
    "duration": 363,
    "start_time": "2021-11-04T11:26:27.400Z"
   },
   {
    "duration": 3316,
    "start_time": "2021-11-04T11:26:27.766Z"
   },
   {
    "duration": 357,
    "start_time": "2021-11-04T11:26:31.084Z"
   },
   {
    "duration": 346,
    "start_time": "2021-11-04T11:26:31.443Z"
   },
   {
    "duration": 444,
    "start_time": "2021-11-04T11:26:31.792Z"
   },
   {
    "duration": 354,
    "start_time": "2021-11-04T11:26:32.239Z"
   },
   {
    "duration": 373,
    "start_time": "2021-11-04T11:26:32.596Z"
   },
   {
    "duration": 340,
    "start_time": "2021-11-04T11:26:32.972Z"
   }
  ],
  "celltoolbar": "Необработанный формат ячейки",
  "kernelspec": {
   "display_name": "Python 3 (ipykernel)",
   "language": "python",
   "name": "python3"
  },
  "language_info": {
   "codemirror_mode": {
    "name": "ipython",
    "version": 3
   },
   "file_extension": ".py",
   "mimetype": "text/x-python",
   "name": "python",
   "nbconvert_exporter": "python",
   "pygments_lexer": "ipython3",
   "version": "3.9.12"
  },
  "toc": {
   "base_numbering": 1,
   "nav_menu": {},
   "number_sections": true,
   "sideBar": true,
   "skip_h1_title": true,
   "title_cell": "Содержание",
   "title_sidebar": "Contents",
   "toc_cell": false,
   "toc_position": {
    "height": "calc(100% - 180px)",
    "left": "10px",
    "top": "150px",
    "width": "358.391px"
   },
   "toc_section_display": true,
   "toc_window_display": true
  }
 },
 "nbformat": 4,
 "nbformat_minor": 2
}
